{
  "cells": [
    {
      "cell_type": "code",
      "execution_count": null,
      "id": "c1b2c72c",
      "metadata": {},
      "outputs": [],
      "source": [
        "from __future__ import annotations\n",
        "\n",
        "from collections.abc import Iterator\n",
        "\n",
        "import daft"
      ]
    },
    {
      "cell_type": "code",
      "execution_count": null,
      "id": "b306abcb",
      "metadata": {},
      "outputs": [],
      "source": [
        "df = daft.read_huggingface(\"openai/gsm8k\")\n",
        "df.show()"
      ]
    },
    {
      "cell_type": "code",
      "execution_count": null,
      "id": "2f018841",
      "metadata": {},
      "outputs": [],
      "source": [
        "@daft.func.gen\n",
        "def split_sentences(input: str) -> Iterator[str]:\n",
        "    import re\n",
        "\n",
        "    sentences = re.findall(r\"[^.!?]*[.!?]+\", input)\n",
        "\n",
        "    for sentence in sentences:\n",
        "        sentence = sentence.strip()\n",
        "        if sentence:\n",
        "            yield sentence\n",
        "\n",
        "\n",
        "df = df.select(split_sentences(df[\"question\"]).alias(\"question_split\"))\n",
        "df.show()"
      ]
    },
    {
      "cell_type": "code",
      "execution_count": null,
      "id": "1e694f0c",
      "metadata": {},
      "outputs": [],
      "source": [
        "df.limit(100).write_huggingface(\"kevin-eventual/demo-8-22-2025\")"
      ]
    },
    {
      "cell_type": "code",
      "execution_count": null,
      "id": "e9be97dd",
      "metadata": {},
      "outputs": [],
      "source": []
    }
  ],
  "metadata": {
    "kernelspec": {
      "display_name": ".venv (3.11.11)",
      "language": "python",
      "name": "python3"
    },
    "language_info": {
      "codemirror_mode": {
        "name": "ipython",
        "version": 3
      },
      "file_extension": ".py",
      "mimetype": "text/x-python",
      "name": "python",
      "nbconvert_exporter": "python",
      "pygments_lexer": "ipython3",
      "version": "3.11.11"
    }
  },
  "nbformat": 4,
  "nbformat_minor": 5
}
