{
 "cells": [
  {
   "cell_type": "markdown",
   "id": "9b14abf5-a183-4bfb-9b15-a9a54b744fce",
   "metadata": {},
   "source": [
    "# Quickstart with DaFt\n",
    "\n",
    "```{hint}\n",
    "✨✨✨ **Run this notebook on Google Colab** ✨✨✨\n",
    "\n",
    "You can [run this notebook yourself with Google Colab](https://colab.research.google.com/github/Eventual-Inc/Daft/blob/main/tutorials/quickstart.ipynb)!\n",
    "```\n",
    "\n",
    "\n",
    "The MNIST Dataset is a \"large database of handwritten digits that is commonly used for training various image processing systems\"."
   ]
  },
  {
   "cell_type": "code",
   "execution_count": null,
   "id": "d1b56860-db41-4829-b395-176e11987cdc",
   "metadata": {},
   "outputs": [],
   "source": [
    "!pip install getdaft --pre --extra-index-url https://pypi.anaconda.org/daft-nightly/simple\n",
    "!pip install Pillow torch torchvision"
   ]
  },
  {
   "cell_type": "markdown",
   "id": "252b5128-99c2-49dd-b624-6e4b21275959",
   "metadata": {},
   "source": [
    "## Loading Data\n",
    "\n",
    "This is a JSON file containing all the data for the MNIST test set. Let's load it up into a DaFt Dataframe!"
   ]
  },
  {
   "cell_type": "code",
   "execution_count": null,
   "id": "fc63a3ad-0e0a-4ab3-9cc0-cbec8bdd0632",
   "metadata": {},
   "outputs": [],
   "source": [
    "from daft import DataFrame, col, udf\n",
    "\n",
    "URL = \"https://github.com/Eventual-Inc/mnist-json/raw/master/mnist_handwritten_test.json.gz\"\n",
    "images_df = DataFrame.read_json(URL)"
   ]
  },
  {
   "cell_type": "markdown",
   "id": "d52f6032-6619-4682-8305-2ed65bdc194c",
   "metadata": {},
   "source": [
    "To peek at the dataset, simply have your notebook display the images_df that was just created."
   ]
  },
  {
   "cell_type": "code",
   "execution_count": null,
   "id": "73a71adf-3b2e-4ec5-a0d2-34ad8eec734c",
   "metadata": {},
   "outputs": [],
   "source": [
    "images_df"
   ]
  },
  {
   "cell_type": "code",
   "execution_count": null,
   "id": "4787caab-d7d1-4fd4-9a76-ffb08a404a31",
   "metadata": {},
   "outputs": [],
   "source": [
    "images_df.show(10)"
   ]
  },
  {
   "cell_type": "markdown",
   "id": "426f1bbb-e1c0-4fd6-b84e-cbb1ab309ff9",
   "metadata": {},
   "source": [
    "You just loaded your first DaFt Dataframe! It consists of two columns:\n",
    "1. The \"image\" column is a Python column of type `list` - where it looks like each row contains a list of digits representing the pixels of each image\n",
    "2. The \"label\" column is an Integer column, consisting of just the label of that image."
   ]
  },
  {
   "cell_type": "markdown",
   "id": "9a7872e3-9860-4867-8a8c-61a69f69e334",
   "metadata": {},
   "source": [
    "## Processing Columns with User-Defined Functions (UDF)\n",
    "\n",
    "It seems our JSON file has provided us with a one-dimensional array of pixels instead of two-dimensional images. We can easily modify data in this column by instructing DaFt to run a method on every row in the column like so:"
   ]
  },
  {
   "cell_type": "code",
   "execution_count": null,
   "id": "af857589-b28a-4ee0-91cd-dc7a01ff4c07",
   "metadata": {},
   "outputs": [],
   "source": [
    "import numpy as np\n",
    "\n",
    "images_df = images_df.with_column(\n",
    "    \"image_2d\",\n",
    "    col(\"image\").apply(lambda l: np.array(l).reshape(28, 28), return_type=np.ndarray),\n",
    ")"
   ]
  },
  {
   "cell_type": "code",
   "execution_count": null,
   "id": "d1212a7e-949a-4881-ba54-9d7e7eb31e6f",
   "metadata": {},
   "outputs": [],
   "source": [
    "images_df.show(10)"
   ]
  },
  {
   "cell_type": "markdown",
   "id": "cd0d2664-12d8-4964-85cd-a67f8fee1384",
   "metadata": {},
   "source": [
    "Great, but we can do one better - let's convert these two-dimensional arrays into Images. Computers speak in pixels and arrays, but humans do much better with visual patterns!\n",
    "\n",
    "To do this, we can leverage the `.apply` expression method. Similar to the `.as_py` method, this allows us to run a single function on all rows of a given column, but provides us with more flexibility as it takes as input any arbitrary function."
   ]
  },
  {
   "cell_type": "code",
   "execution_count": null,
   "id": "e585303a-7c83-4a31-afbb-461c951481f7",
   "metadata": {},
   "outputs": [],
   "source": [
    "from PIL import Image\n",
    "\n",
    "images_df = images_df.with_column(\"pil_image\", col(\"image_2d\").apply(lambda arr: Image.fromarray(arr.astype(np.uint8)), return_type=Image.Image))"
   ]
  },
  {
   "cell_type": "code",
   "execution_count": null,
   "id": "59b655ed-13aa-4764-acd4-a00beb91ec2f",
   "metadata": {},
   "outputs": [],
   "source": [
    "images_df.show(10)"
   ]
  },
  {
   "cell_type": "markdown",
   "id": "e6b633f4-3d9d-4c25-9075-bc815d8e357f",
   "metadata": {},
   "source": [
    "Amazing! This looks great and we can finally get some idea of what the dataset truly looks like."
   ]
  },
  {
   "cell_type": "markdown",
   "id": "cd7e6774-9fb7-4827-a324-c116c8c812e1",
   "metadata": {},
   "source": [
    "## Running a model with Stateful UDFs\n",
    "\n",
    "Next, let's try to run a deep learning model to classify each image. Models are expensive to initialize and load, so we want to do this as few times as possible, and share a model across multiple invocations. Here's how we can do it with \"Stateful UDFs\".\n",
    "\n",
    "For the convenience of this quickstart tutorial, we pre-trained a model using a PyTorch-provided example script and saved the trained weights at https://github.com/Eventual-Inc/mnist-json/raw/master/mnist_cnn.pt.  We need to define the same deep learning model \"scaffold\" as the trained model that we want to load (this part is all PyTorch and is not specific at all to DaFt)"
   ]
  },
  {
   "cell_type": "code",
   "execution_count": null,
   "id": "5ff43066-8a42-4773-974f-160ca4a9bc49",
   "metadata": {
    "tags": []
   },
   "outputs": [],
   "source": [
    "###\n",
    "# Model was trained using a script provided in PyTorch Examples: https://github.com/pytorch/examples/blob/main/mnist/main.py\n",
    "###\n",
    "\n",
    "from __future__ import print_function\n",
    "import argparse\n",
    "import torch\n",
    "import torch.nn as nn\n",
    "import torch.nn.functional as F\n",
    "import torch.optim as optim\n",
    "import torch.hub\n",
    "from torchvision import datasets, transforms\n",
    "from torch.optim.lr_scheduler import StepLR\n",
    "\n",
    "class Net(nn.Module):\n",
    "    def __init__(self):\n",
    "        super(Net, self).__init__()\n",
    "        self.conv1 = nn.Conv2d(1, 32, 3, 1)\n",
    "        self.conv2 = nn.Conv2d(32, 64, 3, 1)\n",
    "        self.dropout1 = nn.Dropout(0.25)\n",
    "        self.dropout2 = nn.Dropout(0.5)\n",
    "        self.fc1 = nn.Linear(9216, 128)\n",
    "        self.fc2 = nn.Linear(128, 10)\n",
    "\n",
    "    def forward(self, x):\n",
    "        x = self.conv1(x)\n",
    "        x = F.relu(x)\n",
    "        x = self.conv2(x)\n",
    "        x = F.relu(x)\n",
    "        x = F.max_pool2d(x, 2)\n",
    "        x = self.dropout1(x)\n",
    "        x = torch.flatten(x, 1)\n",
    "        x = self.fc1(x)\n",
    "        x = F.relu(x)\n",
    "        x = self.dropout2(x)\n",
    "        x = self.fc2(x)\n",
    "        output = F.log_softmax(x, dim=1)\n",
    "        return output"
   ]
  },
  {
   "cell_type": "markdown",
   "id": "266c1cf8-bf9a-4990-8182-97b072f15b57",
   "metadata": {},
   "source": [
    "Now comes the fun part - we can define a Stateful UDF using a class and the `@udf` decorator. This lets us use the class' `__init__` method to perform any expensive initializations such as downloading the model weights and loading the model."
   ]
  },
  {
   "cell_type": "code",
   "execution_count": null,
   "id": "fda097ea-4946-483c-bcc0-5271e0b033c3",
   "metadata": {},
   "outputs": [],
   "source": [
    "@udf(return_type=int)\n",
    "class ClassifyImages:\n",
    "\n",
    "    def __init__(self):\n",
    "        # Perform expensive initializations - create the model, download model weights and load up the model with weights\n",
    "        self._model = Net()\n",
    "        state_dict = torch.hub.load_state_dict_from_url(\"https://github.com/Eventual-Inc/mnist-json/raw/master/mnist_cnn.pt\")\n",
    "        self._model.load_state_dict(state_dict)\n",
    "\n",
    "    def __call__(self, images_2d_col):\n",
    "        images_2d = np.array([arr for arr in images_2d_col])\n",
    "        normalized_image_2d = images_2d / 255\n",
    "        normalized_image_2d = normalized_image_2d[:, np.newaxis, :, :]\n",
    "        classifications = self._model(torch.from_numpy(normalized_image_2d).float())\n",
    "        return classifications.detach().numpy().argmax(axis=1)"
   ]
  },
  {
   "cell_type": "markdown",
   "id": "3605d3a6-f9ce-4e81-9e0f-5190f981bbd4",
   "metadata": {},
   "source": [
    "Using this Stateful Class UDF is really easy, we simply run it on the columns that we want to process:"
   ]
  },
  {
   "cell_type": "code",
   "execution_count": null,
   "id": "4f9fd9f8-a231-44fb-a519-0288f670a34a",
   "metadata": {},
   "outputs": [],
   "source": [
    "classified_images_df = images_df.with_column(\"model_classification\", ClassifyImages(col(\"image_2d\")))\n",
    "\n",
    "classified_images_df.show(10)"
   ]
  },
  {
   "cell_type": "markdown",
   "id": "2e6fb5fc-957d-414b-bfac-961ea64dad68",
   "metadata": {},
   "source": [
    "Our model ran successfully, and produced a new classification column. These look pretty good - let's filter our Dataframe to show only rows that the model predicted wrongly."
   ]
  },
  {
   "cell_type": "code",
   "execution_count": null,
   "id": "69344d63-7db4-496f-a0b2-949dfd947e4f",
   "metadata": {},
   "outputs": [],
   "source": [
    "classified_images_df.where(col(\"label\") != col(\"model_classification\")).show(10)"
   ]
  },
  {
   "cell_type": "markdown",
   "id": "bb7ca72b-0743-451d-a3bf-e492a73ad7d6",
   "metadata": {},
   "source": [
    "Some of these look hard indeed, even for a human!"
   ]
  },
  {
   "cell_type": "markdown",
   "id": "5482e99e-cf3a-4d54-93e3-6e468db03eef",
   "metadata": {},
   "source": [
    "## Analytics\n",
    "\n",
    "We just managed to run our model, but how well did it actually do? Dataframes expose a powerful set of operations in Groupbys/Aggregations to help us report on aggregates of our data.\n",
    "\n",
    "Let's group our data by the true labels and calculate how many mistakes our model made per label."
   ]
  },
  {
   "cell_type": "code",
   "execution_count": null,
   "id": "8b60eef9-eeab-435e-9f5d-c775af9afe3f",
   "metadata": {},
   "outputs": [],
   "source": [
    "@udf(return_type=int)\n",
    "def bool_to_int(c):\n",
    "    return c.astype(int)\n",
    "\n",
    "analysis_df = classified_images_df \\\n",
    "    .with_column(\"correct\", bool_to_int(col(\"model_classification\") == col(\"label\"))) \\\n",
    "    .with_column(\"wrong\", bool_to_int(col(\"model_classification\") != col(\"label\"))) \\\n",
    "    .groupby(col(\"label\")) \\\n",
    "    .agg([\n",
    "        (col(\"label\").alias(\"num_rows\"), \"count\"),\n",
    "        (col(\"correct\"), \"sum\"),\n",
    "        (col(\"wrong\"), \"sum\"),\n",
    "    ]) \\\n",
    "    .sort(col(\"label\"))\n",
    "\n",
    "analysis_df.show()"
   ]
  },
  {
   "cell_type": "markdown",
   "id": "05f7df20-6dbc-4115-9acf-8d863cac93af",
   "metadata": {},
   "source": [
    "Pretty impressive, given that the model only actually trained for one epoch!"
   ]
  },
  {
   "cell_type": "code",
   "execution_count": null,
   "id": "4acf0191-8bb2-4c50-9d19-7a6bc97840d2",
   "metadata": {},
   "outputs": [],
   "source": []
  }
 ],
 "metadata": {
  "kernelspec": {
   "display_name": "Python 3.9.12 ('.venv': poetry)",
   "language": "python",
   "name": "python3"
  },
  "language_info": {
   "codemirror_mode": {
    "name": "ipython",
    "version": 3
   },
   "file_extension": ".py",
   "mimetype": "text/x-python",
   "name": "python",
   "nbconvert_exporter": "python",
   "pygments_lexer": "ipython3",
   "version": "3.9.12"
  },
  "vscode": {
   "interpreter": {
    "hash": "abe0cbefa28213872cf2c91d6aa47443089aa2a6ddfc370b260793ec957ca67a"
   }
  }
 },
 "nbformat": 4,
 "nbformat_minor": 5
}
