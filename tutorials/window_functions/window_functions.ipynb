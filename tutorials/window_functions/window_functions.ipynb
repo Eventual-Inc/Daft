{
 "cells": [
  {
   "cell_type": "markdown",
   "metadata": {},
   "source": [
    "```{hint}\n",
    "✨✨✨ **Run this notebook on Google Colab** ✨✨✨\n",
    "\n",
    "You can [run this notebook yourself with Google Colab](https://colab.research.google.com/github/Eventual-Inc/Daft/blob/main/tutorials/window_functions/window_functions.ipynb)!\n",
    "```"
   ]
  },
  {
   "attachments": {},
   "cell_type": "markdown",
   "metadata": {},
   "source": [
    "# Window Functions with Daft: The Great Chocolate Race\n",
    "\n",
    "Window functions allow you to perform calculations across a set of rows related to the current row. These calculations happen within a defined \"window\" of data, giving developers and analysts the ability to create running totals, rankings, and comparisons without altering the dataset.\n",
    "\n",
    "In this tutorial, we'll explore how [Daft's window functions](https://www.getdaft.io/projects/docs/en/stable/core_concepts/#window-functions) can transform complex analytical challenges into elegant solutions. We'll follow an entertaining twist on a classic scenario -- a chocholate eating contest between a tortoise and a hare -- where we'll analyze their performance using different window function techniques. \n",
    "\n",
    "Without window functions, these operations would require multiple self-joins, temporary tables, and complex aggregations. We'll demonstrate how window functions can reduce dozens of lines of complex code to just a few simple, readable lines.\n",
    "\n",
    "**What You'll Learn**\n",
    "\n",
    "* How window functions dramatically simplify complex analytics queries\n",
    "* Four key window specifications in Daft: \n",
    "    * Partition by\n",
    "    * Partition by + order by\n",
    "    * Partition by + order by + rows between\n",
    "    * Partition by + order by + range between\n",
    "* Practical applications including:\n",
    "    * Creating rankings\n",
    "    * Calculating deltas between events\n",
    "    * Analyzing moving windows of activity\n",
    "    * Computing cumulative totals\n",
    "\n",
    "See also [Window Functions API Docs](https://www.getdaft.io/projects/docs/en/stable/api/window/) in Daft Documentation.\n",
    "\n",
    "![image1.jpeg](image1.jpeg)"
   ]
  },
  {
   "cell_type": "markdown",
   "metadata": {},
   "source": [
    "# Setup and Imports\n",
    "\n",
    "First, let's install the necessary python packages and import the libraries we'll use through this tutorial:\n",
    "* [**Daft**](www.getdaft.io): Showcasing powerful window functions native in Daft, a unified data engine that leverage both a familiar Python DataFrame API and SQL\n",
    "* [**Pandas**](https://pola.rs/): While Daft handles our main data processing, we'll use Pandas to visualize results\n",
    "* [**Matplotlib**](https://matplotlib.org/): For creating visualizations that help us understand the patterns in our data"
   ]
  },
  {
   "cell_type": "code",
   "execution_count": 1,
   "metadata": {},
   "outputs": [
    {
     "name": "stdout",
     "output_type": "stream",
     "text": [
      "\u001b[2mAudited \u001b[1m3 packages\u001b[0m \u001b[2min 14ms\u001b[0m\u001b[0m\n"
     ]
    }
   ],
   "source": [
    "!uv pip install daft pandas matplotlib"
   ]
  },
  {
   "cell_type": "code",
   "execution_count": 2,
   "metadata": {},
   "outputs": [],
   "source": [
    "import random\n",
    "from collections import defaultdict\n",
    "\n",
    "import matplotlib.pyplot as plt\n",
    "import matplotlib.ticker as ticker\n",
    "import numpy as np\n",
    "\n",
    "import daft\n",
    "from daft import Window, col\n",
    "from daft.functions import rank\n",
    "from daft.sql.sql import SQLCatalog"
   ]
  },
  {
   "cell_type": "markdown",
   "metadata": {},
   "source": [
    "# Data Generation: Setting Up Our Chocolate Contest\n",
    "\n",
    "To make our example fun and illustrative, we'll simulate a chocolate eating contest between a tortoise and a hare. In this contest:\n",
    "* The tortoise is slow but steady, eating chocolates consistently over time\n",
    "* The hare is fast but takes a break in the middle (between time 700 and 900)\n",
    "* Both contests eat exactly 1,111 chocolates by the end\n",
    "\n",
    "Here's how we'll generate this dataset:"
   ]
  },
  {
   "cell_type": "code",
   "execution_count": 3,
   "metadata": {},
   "outputs": [],
   "source": [
    "random.seed(42)\n",
    "\n",
    "min_time = 0\n",
    "max_hare_time = 1000\n",
    "max_tortoise_time = 963\n",
    "num_hare_events = 100\n",
    "num_tortoise_events = 300\n",
    "\n",
    "hare_times = sorted(random.sample(range(min_time, max_hare_time + 1), num_hare_events))\n",
    "hare_times = [t for t in hare_times if t < 700 or t > 900]\n",
    "\n",
    "tortoise_times = sorted(random.sample(range(min_time, max_tortoise_time + 1), num_tortoise_events))\n",
    "\n",
    "hare_chocolates = [random.randint(1, 20) for _ in range(len(hare_times))]\n",
    "tortoise_chocolates = [random.randint(1, 20) for _ in range(len(tortoise_times))]\n",
    "\n",
    "target_sum = 1111\n",
    "\n",
    "current_sum = sum(hare_chocolates)\n",
    "while current_sum != target_sum:\n",
    "    idx = random.randint(0, len(hare_chocolates) - 1)\n",
    "    if current_sum < target_sum:\n",
    "        hare_chocolates[idx] += 1\n",
    "        current_sum += 1\n",
    "    else:\n",
    "        if hare_chocolates[idx] > 1:\n",
    "            hare_chocolates[idx] -= 1\n",
    "            current_sum -= 1\n",
    "\n",
    "current_sum = sum(tortoise_chocolates)\n",
    "while current_sum != target_sum:\n",
    "    idx = random.randint(0, len(tortoise_chocolates) - 1)\n",
    "    if current_sum < target_sum:\n",
    "        tortoise_chocolates[idx] += 1\n",
    "        current_sum += 1\n",
    "    else:\n",
    "        if tortoise_chocolates[idx] > 1:\n",
    "            tortoise_chocolates[idx] -= 1\n",
    "            current_sum -= 1\n",
    "\n",
    "data = []\n",
    "for i, t in enumerate(hare_times):\n",
    "    data.append({\"contestant\": \"hare\", \"time\": t, \"chocolates\": hare_chocolates[i]})\n",
    "for i, t in enumerate(tortoise_times):\n",
    "    data.append({\"contestant\": \"tortoise\", \"time\": t, \"chocolates\": tortoise_chocolates[i]})\n",
    "\n",
    "random.shuffle(data)"
   ]
  },
  {
   "cell_type": "markdown",
   "metadata": {},
   "source": [
    "# Exploring Our Dataset\n",
    "\n",
    "Let's first create a Daft Dataframe from our generated data and take a look at what we're working with. This gives us a dataset with 3 columns:\n",
    "* `contestant`: either \"hare\" or \"tortoise\"\n",
    "* `time`: when they ate chocolates (time units from 0 to ~1000)\n",
    "* `chocolates`: how many chocolates they ate at that particular time"
   ]
  },
  {
   "cell_type": "code",
   "execution_count": 4,
   "metadata": {
    "editable": true,
    "slideshow": {
     "slide_type": ""
    },
    "tags": []
   },
   "outputs": [
    {
     "data": {
      "text/html": [
       "<div>\n",
       "<style scoped>\n",
       "    .dataframe tbody tr th:only-of-type {\n",
       "        vertical-align: middle;\n",
       "    }\n",
       "\n",
       "    .dataframe tbody tr th {\n",
       "        vertical-align: top;\n",
       "    }\n",
       "\n",
       "    .dataframe thead th {\n",
       "        text-align: right;\n",
       "    }\n",
       "</style>\n",
       "<table border=\"1\" class=\"dataframe\">\n",
       "  <thead>\n",
       "    <tr style=\"text-align: right;\">\n",
       "      <th></th>\n",
       "      <th>chocolates</th>\n",
       "      <th>contestant</th>\n",
       "      <th>time</th>\n",
       "    </tr>\n",
       "  </thead>\n",
       "  <tbody>\n",
       "    <tr>\n",
       "      <th>0</th>\n",
       "      <td>10</td>\n",
       "      <td>hare</td>\n",
       "      <td>284</td>\n",
       "    </tr>\n",
       "    <tr>\n",
       "      <th>1</th>\n",
       "      <td>7</td>\n",
       "      <td>tortoise</td>\n",
       "      <td>382</td>\n",
       "    </tr>\n",
       "    <tr>\n",
       "      <th>2</th>\n",
       "      <td>9</td>\n",
       "      <td>hare</td>\n",
       "      <td>464</td>\n",
       "    </tr>\n",
       "    <tr>\n",
       "      <th>3</th>\n",
       "      <td>1</td>\n",
       "      <td>tortoise</td>\n",
       "      <td>811</td>\n",
       "    </tr>\n",
       "    <tr>\n",
       "      <th>4</th>\n",
       "      <td>1</td>\n",
       "      <td>tortoise</td>\n",
       "      <td>953</td>\n",
       "    </tr>\n",
       "    <tr>\n",
       "      <th>...</th>\n",
       "      <td>...</td>\n",
       "      <td>...</td>\n",
       "      <td>...</td>\n",
       "    </tr>\n",
       "    <tr>\n",
       "      <th>374</th>\n",
       "      <td>1</td>\n",
       "      <td>tortoise</td>\n",
       "      <td>931</td>\n",
       "    </tr>\n",
       "    <tr>\n",
       "      <th>375</th>\n",
       "      <td>13</td>\n",
       "      <td>tortoise</td>\n",
       "      <td>252</td>\n",
       "    </tr>\n",
       "    <tr>\n",
       "      <th>376</th>\n",
       "      <td>7</td>\n",
       "      <td>hare</td>\n",
       "      <td>955</td>\n",
       "    </tr>\n",
       "    <tr>\n",
       "      <th>377</th>\n",
       "      <td>8</td>\n",
       "      <td>tortoise</td>\n",
       "      <td>535</td>\n",
       "    </tr>\n",
       "    <tr>\n",
       "      <th>378</th>\n",
       "      <td>7</td>\n",
       "      <td>tortoise</td>\n",
       "      <td>698</td>\n",
       "    </tr>\n",
       "  </tbody>\n",
       "</table>\n",
       "<p>379 rows × 3 columns</p>\n",
       "</div>"
      ],
      "text/plain": [
       "     chocolates contestant  time\n",
       "0            10       hare   284\n",
       "1             7   tortoise   382\n",
       "2             9       hare   464\n",
       "3             1   tortoise   811\n",
       "4             1   tortoise   953\n",
       "..          ...        ...   ...\n",
       "374           1   tortoise   931\n",
       "375          13   tortoise   252\n",
       "376           7       hare   955\n",
       "377           8   tortoise   535\n",
       "378           7   tortoise   698\n",
       "\n",
       "[379 rows x 3 columns]"
      ]
     },
     "execution_count": 4,
     "metadata": {},
     "output_type": "execute_result"
    }
   ],
   "source": [
    "df = daft.from_pylist(data)\n",
    "df.to_pandas()"
   ]
  },
  {
   "cell_type": "markdown",
   "metadata": {},
   "source": [
    "(Optional) To better understand the early stages of our race, let's visualize how many chocolates each contestant ate in the first 100 time units:"
   ]
  },
  {
   "cell_type": "code",
   "execution_count": null,
   "metadata": {
    "editable": true,
    "jupyter": {
     "source_hidden": true
    },
    "slideshow": {
     "slide_type": ""
    },
    "tags": [
     "hide-cell"
    ]
   },
   "outputs": [],
   "source": [
    "hare_dict = defaultdict(int)\n",
    "tortoise_dict = defaultdict(int)\n",
    "\n",
    "for t, c in zip(hare_times, hare_chocolates):\n",
    "    if t <= 100:\n",
    "        hare_dict[t] += c\n",
    "\n",
    "for t, c in zip(tortoise_times, tortoise_chocolates):\n",
    "    if t <= 100:\n",
    "        tortoise_dict[t] += c\n",
    "\n",
    "shown_times = sorted(set(hare_dict.keys()) | set(tortoise_dict.keys()))\n",
    "\n",
    "bar_width = 0.45\n",
    "x = np.arange(len(shown_times))\n",
    "\n",
    "hare_vals = [hare_dict[t] for t in shown_times]\n",
    "tortoise_vals = [tortoise_dict[t] for t in shown_times]\n",
    "\n",
    "hare_color = \"#f28c38\"\n",
    "tortoise_color = \"#6c9b41\"\n",
    "\n",
    "fig, ax = plt.subplots(figsize=(15, 6))\n",
    "\n",
    "ax.bar(x - bar_width / 2, hare_vals, width=bar_width, label=\"Hare\", color=hare_color)\n",
    "ax.bar(x + bar_width / 2, tortoise_vals, width=bar_width, label=\"Tortoise\", color=tortoise_color)\n",
    "\n",
    "ax.yaxis.set_major_locator(ticker.MaxNLocator(integer=True))\n",
    "\n",
    "xtick_labels = [str(t) for t in shown_times]\n",
    "plt.xticks(x, xtick_labels, rotation=45, ha=\"right\")\n",
    "\n",
    "plt.text(x[-1] + 1.5, -1.5, \"⋯\", fontsize=20, ha=\"center\", va=\"top\", transform=ax.transData)\n",
    "\n",
    "ax.set_xlabel(\"Time\")\n",
    "ax.set_ylabel(\"Chocolates Eaten\")\n",
    "ax.set_title(\"Chocolates Eaten Per Time Unit (up to t = 100)\")\n",
    "ax.grid(axis=\"y\", linestyle=\"--\", alpha=0.7)\n",
    "ax.legend()\n",
    "plt.tight_layout()\n",
    "plt.show()"
   ]
  },
  {
   "cell_type": "markdown",
   "metadata": {
    "editable": true,
    "slideshow": {
     "slide_type": ""
    },
    "tags": []
   },
   "source": [
    "Already we can see the different eating patterns starting to emerge! The hare tends to eat more chocolates in each sitting, while the tortoise has more frequent but smaller sessions.\n",
    "\n",
    "Now let's start demonstrating the power of window functions by solving increasingly complex analytical queries."
   ]
  },
  {
   "attachments": {},
   "cell_type": "markdown",
   "metadata": {},
   "source": [
    "# Challenge 1: Ranking Chcolate Sessions by Size\n",
    "\n",
    "Our first challenge is to rank each contestant's chocolate-eating sessions from largest to smallest. This is a perfect use case for window functions!"
   ]
  },
  {
   "cell_type": "markdown",
   "metadata": {},
   "source": [
    "## Without Window Functions\n",
    "\n",
    "*Without* window functions, we'd need to perform a self-join and complex aggregation. This approach requires:\n",
    "1. A self-join to compare each session with all other sessions\n",
    "2. Filtering to count sessions with more chocolates\n",
    "3. Grouping and aggregating to calculate the rank\n",
    "4. Joining back to the original data\n",
    "5. Handling nulls for top-ranked sessions\n",
    "\n",
    "This approach is complex, error-prone, and hard to understand at a glance."
   ]
  },
  {
   "cell_type": "code",
   "execution_count": null,
   "metadata": {},
   "outputs": [],
   "source": [
    "agg_df = (\n",
    "    df.join(df, left_on=[\"contestant\"], right_on=[\"contestant\"], how=\"inner\", suffix=\"_r\")\n",
    "    .where(col(\"chocolates_r\") > col(\"chocolates\"))\n",
    "    .groupby([\"contestant\", \"chocolates\"])\n",
    "    .agg((col(\"chocolates_r\").count() + 1).alias(\"session_rank\"))\n",
    ")\n",
    "\n",
    "df.join(agg_df, on=[\"contestant\", \"chocolates\"], how=\"left\").with_column(\n",
    "    \"session_rank\", col(\"session_rank\").fill_null(1).cast(\"int\")\n",
    ").select(\"contestant\", \"chocolates\", \"session_rank\").distinct().sort([\"contestant\", \"session_rank\"]).collect()"
   ]
  },
  {
   "cell_type": "markdown",
   "metadata": {},
   "source": [
    "## With Window Functions\n",
    "\n",
    "*With* window functions, the same analysis is simplified:\n",
    "1. Define a window partitioned by contestant and ordered by chocolates (descending)\n",
    "2. Apply the [`dense_rank()`](https://www.getdaft.io/projects/docs/en/stable/api/window/#daft.functions.dense_rank) function over this window\n",
    "\n",
    "The window functions handles all the comparison logic internally, making our code more concise and more efficient."
   ]
  },
  {
   "cell_type": "code",
   "execution_count": 7,
   "metadata": {},
   "outputs": [
    {
     "data": {
      "text/html": [
       "<div>\n",
       "<table class=\"dataframe\">\n",
       "<thead><tr><th style=\"text-wrap: nowrap; max-width:192px; overflow:auto; text-align:left\">contestant<br />Utf8</th><th style=\"text-wrap: nowrap; max-width:192px; overflow:auto; text-align:left\">chocolates<br />Int64</th><th style=\"text-wrap: nowrap; max-width:192px; overflow:auto; text-align:left\">session_rank<br />UInt64</th></tr></thead>\n",
       "<tbody>\n",
       "<tr><td><div style=\"text-align:left; max-width:192px; max-height:64px; overflow:auto\">hare</div></td><td><div style=\"text-align:left; max-width:192px; max-height:64px; overflow:auto\">25</div></td><td><div style=\"text-align:left; max-width:192px; max-height:64px; overflow:auto\">1</div></td></tr>\n",
       "<tr><td><div style=\"text-align:left; max-width:192px; max-height:64px; overflow:auto\">hare</div></td><td><div style=\"text-align:left; max-width:192px; max-height:64px; overflow:auto\">24</div></td><td><div style=\"text-align:left; max-width:192px; max-height:64px; overflow:auto\">2</div></td></tr>\n",
       "<tr><td><div style=\"text-align:left; max-width:192px; max-height:64px; overflow:auto\">hare</div></td><td><div style=\"text-align:left; max-width:192px; max-height:64px; overflow:auto\">23</div></td><td><div style=\"text-align:left; max-width:192px; max-height:64px; overflow:auto\">3</div></td></tr>\n",
       "<tr><td><div style=\"text-align:left; max-width:192px; max-height:64px; overflow:auto\">hare</div></td><td><div style=\"text-align:left; max-width:192px; max-height:64px; overflow:auto\">22</div></td><td><div style=\"text-align:left; max-width:192px; max-height:64px; overflow:auto\">4</div></td></tr>\n",
       "<tr><td><div style=\"text-align:left; max-width:192px; max-height:64px; overflow:auto\">hare</div></td><td><div style=\"text-align:left; max-width:192px; max-height:64px; overflow:auto\">21</div></td><td><div style=\"text-align:left; max-width:192px; max-height:64px; overflow:auto\">5</div></td></tr>\n",
       "<tr><td><div style=\"text-align:left; max-width:192px; max-height:64px; overflow:auto\">hare</div></td><td><div style=\"text-align:left; max-width:192px; max-height:64px; overflow:auto\">20</div></td><td><div style=\"text-align:left; max-width:192px; max-height:64px; overflow:auto\">6</div></td></tr>\n",
       "<tr><td><div style=\"text-align:left; max-width:192px; max-height:64px; overflow:auto\">hare</div></td><td><div style=\"text-align:left; max-width:192px; max-height:64px; overflow:auto\">19</div></td><td><div style=\"text-align:left; max-width:192px; max-height:64px; overflow:auto\">7</div></td></tr>\n",
       "<tr><td><div style=\"text-align:left; max-width:192px; max-height:64px; overflow:auto\">hare</div></td><td><div style=\"text-align:left; max-width:192px; max-height:64px; overflow:auto\">18</div></td><td><div style=\"text-align:left; max-width:192px; max-height:64px; overflow:auto\">8</div></td></tr>\n",
       "</tbody>\n",
       "</table>\n",
       "<small>(Showing first 8 of 40 rows)</small>\n",
       "</div>"
      ],
      "text/plain": [
       "╭────────────┬────────────┬──────────────╮\n",
       "│ contestant ┆ chocolates ┆ session_rank │\n",
       "│ ---        ┆ ---        ┆ ---          │\n",
       "│ Utf8       ┆ Int64      ┆ UInt64       │\n",
       "╞════════════╪════════════╪══════════════╡\n",
       "│ hare       ┆ 25         ┆ 1            │\n",
       "├╌╌╌╌╌╌╌╌╌╌╌╌┼╌╌╌╌╌╌╌╌╌╌╌╌┼╌╌╌╌╌╌╌╌╌╌╌╌╌╌┤\n",
       "│ hare       ┆ 24         ┆ 2            │\n",
       "├╌╌╌╌╌╌╌╌╌╌╌╌┼╌╌╌╌╌╌╌╌╌╌╌╌┼╌╌╌╌╌╌╌╌╌╌╌╌╌╌┤\n",
       "│ hare       ┆ 23         ┆ 3            │\n",
       "├╌╌╌╌╌╌╌╌╌╌╌╌┼╌╌╌╌╌╌╌╌╌╌╌╌┼╌╌╌╌╌╌╌╌╌╌╌╌╌╌┤\n",
       "│ hare       ┆ 22         ┆ 4            │\n",
       "├╌╌╌╌╌╌╌╌╌╌╌╌┼╌╌╌╌╌╌╌╌╌╌╌╌┼╌╌╌╌╌╌╌╌╌╌╌╌╌╌┤\n",
       "│ hare       ┆ 21         ┆ 5            │\n",
       "├╌╌╌╌╌╌╌╌╌╌╌╌┼╌╌╌╌╌╌╌╌╌╌╌╌┼╌╌╌╌╌╌╌╌╌╌╌╌╌╌┤\n",
       "│ hare       ┆ 20         ┆ 6            │\n",
       "├╌╌╌╌╌╌╌╌╌╌╌╌┼╌╌╌╌╌╌╌╌╌╌╌╌┼╌╌╌╌╌╌╌╌╌╌╌╌╌╌┤\n",
       "│ hare       ┆ 19         ┆ 7            │\n",
       "├╌╌╌╌╌╌╌╌╌╌╌╌┼╌╌╌╌╌╌╌╌╌╌╌╌┼╌╌╌╌╌╌╌╌╌╌╌╌╌╌┤\n",
       "│ hare       ┆ 18         ┆ 8            │\n",
       "╰────────────┴────────────┴──────────────╯\n",
       "\n",
       "(Showing first 8 of 40 rows)"
      ]
     },
     "execution_count": 7,
     "metadata": {},
     "output_type": "execute_result"
    }
   ],
   "source": [
    "by_contestant_chocolates = Window().partition_by(\"contestant\").order_by(\"chocolates\", desc=True)\n",
    "\n",
    "from daft.functions import dense_rank\n",
    "\n",
    "df.with_column(\"session_rank\", dense_rank().over(by_contestant_chocolates)).select(\n",
    "    \"contestant\", \"chocolates\", \"session_rank\"\n",
    ").distinct().sort([\"contestant\", \"session_rank\"]).collect()"
   ]
  },
  {
   "cell_type": "markdown",
   "metadata": {},
   "source": [
    "(Optional) Let's visualize these rankings to better understand each contestant's eating patterns:"
   ]
  },
  {
   "cell_type": "code",
   "execution_count": null,
   "metadata": {
    "jupyter": {
     "source_hidden": true
    }
   },
   "outputs": [],
   "source": [
    "ranked_df_pd = (\n",
    "    df.with_column(\"session_rank\", rank().over(by_contestant_chocolates))\n",
    "    .select(\"contestant\", \"chocolates\", \"session_rank\")\n",
    "    .distinct()\n",
    "    .sort([\"contestant\", \"session_rank\"])\n",
    "    .collect()\n",
    "    .to_pandas()\n",
    ")\n",
    "\n",
    "colors = {\"hare\": \"#f28c38\", \"tortoise\": \"#6c9b41\"}\n",
    "\n",
    "fig, axes = plt.subplots(2, 1, figsize=(12, 10), sharey=True)\n",
    "\n",
    "for ax, contestant in zip(axes, [\"hare\", \"tortoise\"]):\n",
    "    subset = ranked_df_pd[ranked_df_pd[\"contestant\"] == contestant]\n",
    "    subset = subset.sort_values(\"chocolates\", ascending=False)\n",
    "\n",
    "    ax.plot(\n",
    "        subset[\"chocolates\"],\n",
    "        subset[\"session_rank\"],\n",
    "        color=colors[contestant],\n",
    "        marker=\"o\",\n",
    "        linestyle=\"-\",\n",
    "    )\n",
    "\n",
    "    ax.set_title(f\"{contestant.capitalize()} - Chocolate Rank vs Chocolates\")\n",
    "    ax.set_ylabel(\"Session Rank\")\n",
    "    ax.invert_yaxis()\n",
    "    ax.grid(True, linestyle=\"--\", alpha=0.7)\n",
    "\n",
    "axes[1].set_xlabel(\"Number of Chocolates\")\n",
    "plt.tight_layout()\n",
    "plt.show()"
   ]
  },
  {
   "cell_type": "markdown",
   "metadata": {},
   "source": [
    "This visualization confirms our hunch: the hare has fewer but more intense chocolate-eating session (steeper curve), while the tortoise has many more sessions with a more gradual distribution of chocolate quantities."
   ]
  },
  {
   "attachments": {},
   "cell_type": "markdown",
   "metadata": {},
   "source": [
    "# Challenge 2: Chocolate Consumption Change Between Sessions\n",
    "\n",
    "Next, let's understand how chocolate consumption changes from one session to the next for each contestant.\n",
    "\n",
    "*Without* window functions, we need another complex set of joins. This requires:\n",
    "1. A self-join to find all earlier sessions\n",
    "2. Finding the most recent previous session\n",
    "3. Another join to get the chocolate count from that session\n",
    "4. Compute the difference\n",
    "\n",
    "*With* window functions, we use the [`lag()`](https://www.getdaft.io/projects/docs/en/stable/api/window/#daft.expressions.Expression.lag) function to access the previous row in our ordered window. Here, `lag(1)` retrieves the value from *one row before* the current row in the window. This reduces our complex multi-join solution to just two lines of code.\n"
   ]
  },
  {
   "cell_type": "code",
   "execution_count": 10,
   "metadata": {},
   "outputs": [
    {
     "data": {
      "text/html": [
       "<div>\n",
       "<table class=\"dataframe\">\n",
       "<thead><tr><th style=\"text-wrap: nowrap; max-width:192px; overflow:auto; text-align:left\">chocolates<br />Int64</th><th style=\"text-wrap: nowrap; max-width:192px; overflow:auto; text-align:left\">contestant<br />Utf8</th><th style=\"text-wrap: nowrap; max-width:192px; overflow:auto; text-align:left\">time<br />Int64</th><th style=\"text-wrap: nowrap; max-width:192px; overflow:auto; text-align:left\">delta_from_previous<br />Int64</th></tr></thead>\n",
       "<tbody>\n",
       "<tr><td><div style=\"text-align:left; max-width:192px; max-height:64px; overflow:auto\">14</div></td><td><div style=\"text-align:left; max-width:192px; max-height:64px; overflow:auto\">hare</div></td><td><div style=\"text-align:left; max-width:192px; max-height:64px; overflow:auto\">6</div></td><td><div style=\"text-align:left; max-width:192px; max-height:64px; overflow:auto\">None</div></td></tr>\n",
       "<tr><td><div style=\"text-align:left; max-width:192px; max-height:64px; overflow:auto\">14</div></td><td><div style=\"text-align:left; max-width:192px; max-height:64px; overflow:auto\">hare</div></td><td><div style=\"text-align:left; max-width:192px; max-height:64px; overflow:auto\">25</div></td><td><div style=\"text-align:left; max-width:192px; max-height:64px; overflow:auto\">0</div></td></tr>\n",
       "<tr><td><div style=\"text-align:left; max-width:192px; max-height:64px; overflow:auto\">9</div></td><td><div style=\"text-align:left; max-width:192px; max-height:64px; overflow:auto\">hare</div></td><td><div style=\"text-align:left; max-width:192px; max-height:64px; overflow:auto\">27</div></td><td><div style=\"text-align:left; max-width:192px; max-height:64px; overflow:auto\">-5</div></td></tr>\n",
       "<tr><td><div style=\"text-align:left; max-width:192px; max-height:64px; overflow:auto\">14</div></td><td><div style=\"text-align:left; max-width:192px; max-height:64px; overflow:auto\">hare</div></td><td><div style=\"text-align:left; max-width:192px; max-height:64px; overflow:auto\">30</div></td><td><div style=\"text-align:left; max-width:192px; max-height:64px; overflow:auto\">5</div></td></tr>\n",
       "<tr><td><div style=\"text-align:left; max-width:192px; max-height:64px; overflow:auto\">10</div></td><td><div style=\"text-align:left; max-width:192px; max-height:64px; overflow:auto\">hare</div></td><td><div style=\"text-align:left; max-width:192px; max-height:64px; overflow:auto\">32</div></td><td><div style=\"text-align:left; max-width:192px; max-height:64px; overflow:auto\">-4</div></td></tr>\n",
       "<tr><td><div style=\"text-align:left; max-width:192px; max-height:64px; overflow:auto\">12</div></td><td><div style=\"text-align:left; max-width:192px; max-height:64px; overflow:auto\">hare</div></td><td><div style=\"text-align:left; max-width:192px; max-height:64px; overflow:auto\">44</div></td><td><div style=\"text-align:left; max-width:192px; max-height:64px; overflow:auto\">2</div></td></tr>\n",
       "<tr><td><div style=\"text-align:left; max-width:192px; max-height:64px; overflow:auto\">18</div></td><td><div style=\"text-align:left; max-width:192px; max-height:64px; overflow:auto\">hare</div></td><td><div style=\"text-align:left; max-width:192px; max-height:64px; overflow:auto\">46</div></td><td><div style=\"text-align:left; max-width:192px; max-height:64px; overflow:auto\">6</div></td></tr>\n",
       "<tr><td><div style=\"text-align:left; max-width:192px; max-height:64px; overflow:auto\">7</div></td><td><div style=\"text-align:left; max-width:192px; max-height:64px; overflow:auto\">hare</div></td><td><div style=\"text-align:left; max-width:192px; max-height:64px; overflow:auto\">71</div></td><td><div style=\"text-align:left; max-width:192px; max-height:64px; overflow:auto\">-11</div></td></tr>\n",
       "</tbody>\n",
       "</table>\n",
       "<small>(Showing first 8 of 379 rows)</small>\n",
       "</div>"
      ],
      "text/plain": [
       "╭────────────┬────────────┬───────┬─────────────────────╮\n",
       "│ chocolates ┆ contestant ┆ time  ┆ delta_from_previous │\n",
       "│ ---        ┆ ---        ┆ ---   ┆ ---                 │\n",
       "│ Int64      ┆ Utf8       ┆ Int64 ┆ Int64               │\n",
       "╞════════════╪════════════╪═══════╪═════════════════════╡\n",
       "│ 14         ┆ hare       ┆ 6     ┆ None                │\n",
       "├╌╌╌╌╌╌╌╌╌╌╌╌┼╌╌╌╌╌╌╌╌╌╌╌╌┼╌╌╌╌╌╌╌┼╌╌╌╌╌╌╌╌╌╌╌╌╌╌╌╌╌╌╌╌╌┤\n",
       "│ 14         ┆ hare       ┆ 25    ┆ 0                   │\n",
       "├╌╌╌╌╌╌╌╌╌╌╌╌┼╌╌╌╌╌╌╌╌╌╌╌╌┼╌╌╌╌╌╌╌┼╌╌╌╌╌╌╌╌╌╌╌╌╌╌╌╌╌╌╌╌╌┤\n",
       "│ 9          ┆ hare       ┆ 27    ┆ -5                  │\n",
       "├╌╌╌╌╌╌╌╌╌╌╌╌┼╌╌╌╌╌╌╌╌╌╌╌╌┼╌╌╌╌╌╌╌┼╌╌╌╌╌╌╌╌╌╌╌╌╌╌╌╌╌╌╌╌╌┤\n",
       "│ 14         ┆ hare       ┆ 30    ┆ 5                   │\n",
       "├╌╌╌╌╌╌╌╌╌╌╌╌┼╌╌╌╌╌╌╌╌╌╌╌╌┼╌╌╌╌╌╌╌┼╌╌╌╌╌╌╌╌╌╌╌╌╌╌╌╌╌╌╌╌╌┤\n",
       "│ 10         ┆ hare       ┆ 32    ┆ -4                  │\n",
       "├╌╌╌╌╌╌╌╌╌╌╌╌┼╌╌╌╌╌╌╌╌╌╌╌╌┼╌╌╌╌╌╌╌┼╌╌╌╌╌╌╌╌╌╌╌╌╌╌╌╌╌╌╌╌╌┤\n",
       "│ 12         ┆ hare       ┆ 44    ┆ 2                   │\n",
       "├╌╌╌╌╌╌╌╌╌╌╌╌┼╌╌╌╌╌╌╌╌╌╌╌╌┼╌╌╌╌╌╌╌┼╌╌╌╌╌╌╌╌╌╌╌╌╌╌╌╌╌╌╌╌╌┤\n",
       "│ 18         ┆ hare       ┆ 46    ┆ 6                   │\n",
       "├╌╌╌╌╌╌╌╌╌╌╌╌┼╌╌╌╌╌╌╌╌╌╌╌╌┼╌╌╌╌╌╌╌┼╌╌╌╌╌╌╌╌╌╌╌╌╌╌╌╌╌╌╌╌╌┤\n",
       "│ 7          ┆ hare       ┆ 71    ┆ -11                 │\n",
       "╰────────────┴────────────┴───────┴─────────────────────╯\n",
       "\n",
       "(Showing first 8 of 379 rows)"
      ]
     },
     "execution_count": 10,
     "metadata": {},
     "output_type": "execute_result"
    }
   ],
   "source": [
    "by_contestant_time = Window().partition_by(\"contestant\").order_by(\"time\", desc=False)\n",
    "\n",
    "df.with_column(\n",
    "    \"delta_from_previous\", (col(\"chocolates\") - col(\"chocolates\").lag(1, default=None).over(by_contestant_time))\n",
    ").sort([\"contestant\", \"time\"]).collect()"
   ]
  },
  {
   "cell_type": "markdown",
   "metadata": {},
   "source": [
    "(Optional) Let's visualize these changes to better understand the pattern:"
   ]
  },
  {
   "cell_type": "code",
   "execution_count": null,
   "metadata": {
    "jupyter": {
     "source_hidden": true
    }
   },
   "outputs": [],
   "source": [
    "delta_df_pd = (\n",
    "    df.with_column(\n",
    "        \"delta_from_previous\",\n",
    "        (\n",
    "            col(\"chocolates\")\n",
    "            - col(\"chocolates\").lag(1, default=None).over(Window().partition_by(\"contestant\").order_by(\"time\"))\n",
    "        ),\n",
    "    )\n",
    "    .select(\"contestant\", \"time\", \"delta_from_previous\")\n",
    "    .collect()\n",
    "    .to_pandas()\n",
    ")\n",
    "\n",
    "fig, ax = plt.subplots(figsize=(15, 6))\n",
    "\n",
    "colors = {\"hare\": \"#f28c38\", \"tortoise\": \"#6c9b41\"}\n",
    "\n",
    "for contestant in delta_df_pd[\"contestant\"].unique():\n",
    "    subset = delta_df_pd[delta_df_pd[\"contestant\"] == contestant]\n",
    "    ax.plot(\n",
    "        subset[\"time\"],\n",
    "        subset[\"delta_from_previous\"],\n",
    "        label=contestant.capitalize(),\n",
    "        color=colors[contestant],\n",
    "        drawstyle=\"steps-post\",\n",
    "    )\n",
    "\n",
    "ax.axhline(0, color=\"gray\", linestyle=\"--\", linewidth=1)\n",
    "ax.set_xlabel(\"Time\")\n",
    "ax.set_ylabel(\"Change in Chocolates From Previous\")\n",
    "ax.set_title(\"Chocolate Consumption Change Over Time\")\n",
    "ax.grid(True, linestyle=\"--\", alpha=0.7)\n",
    "ax.legend()\n",
    "plt.tight_layout()\n",
    "plt.show()"
   ]
  },
  {
   "cell_type": "markdown",
   "metadata": {},
   "source": [
    "We see the hare's erratic consumption pattern with high variability, compared to the tortoise's more steady appracoh. Also note the gap in the hare's data, reflecting the nap it took between times 700 and 900."
   ]
  },
  {
   "attachments": {},
   "cell_type": "markdown",
   "metadata": {},
   "source": [
    "# Challenge 3: Peak Chocolate-Eating Sprees\n",
    "\n",
    "Now, let's identify when each contestant had their most impressive chocolate-eating sprees. We'll define a *spree* as the total chocoaltes eaten within a 100-time-unit window (50 units before and 50 units after a given point).\n",
    "\n",
    "_Without_ window functions, this gets even more complex. For this, we need:\n",
    "1. A self-join with conditions to find sessions within our time window\n",
    "2. Aggregation to sum chocolates in that window\n",
    "3. Separate filtering and sorting for each contestant\n",
    "4. Concatenation to combine results\n",
    "\n",
    "*With* window functions, we introduce a powerful concept: the frame specification with [`rows_between()`](https://www.getdaft.io/projects/docs/en/stable/api/window/#daft.window.Window.rows_between). This lets us define precisely which rows to include in our window.\n",
    "\n",
    "The `.rows_between(-50,50)` specification tells Daft to include 50 rows before and 50 rows after the current row in the calculation. We need:\n",
    "1. Calculate the sum of chocolates within this window\n",
    "2. Rank these sums to find the top sprees\n",
    "3. Filter to keep only the top 3 for each contestant"
   ]
  },
  {
   "cell_type": "code",
   "execution_count": 13,
   "metadata": {},
   "outputs": [
    {
     "data": {
      "text/html": [
       "<div>\n",
       "<table class=\"dataframe\">\n",
       "<thead><tr><th style=\"text-wrap: nowrap; max-width:192px; overflow:auto; text-align:left\">contestant<br />Utf8</th><th style=\"text-wrap: nowrap; max-width:192px; overflow:auto; text-align:left\">time<br />Int64</th><th style=\"text-wrap: nowrap; max-width:192px; overflow:auto; text-align:left\">chocolates<br />Int64</th><th style=\"text-wrap: nowrap; max-width:192px; overflow:auto; text-align:left\">chocolates_within_100min<br />Int64</th></tr></thead>\n",
       "<tbody>\n",
       "<tr><td><div style=\"text-align:left; max-width:192px; max-height:64px; overflow:auto\">hare</div></td><td><div style=\"text-align:left; max-width:192px; max-height:64px; overflow:auto\">300</div></td><td><div style=\"text-align:left; max-width:192px; max-height:64px; overflow:auto\">18</div></td><td><div style=\"text-align:left; max-width:192px; max-height:64px; overflow:auto\">1111</div></td></tr>\n",
       "<tr><td><div style=\"text-align:left; max-width:192px; max-height:64px; overflow:auto\">hare</div></td><td><div style=\"text-align:left; max-width:192px; max-height:64px; overflow:auto\">284</div></td><td><div style=\"text-align:left; max-width:192px; max-height:64px; overflow:auto\">10</div></td><td><div style=\"text-align:left; max-width:192px; max-height:64px; overflow:auto\">1111</div></td></tr>\n",
       "<tr><td><div style=\"text-align:left; max-width:192px; max-height:64px; overflow:auto\">hare</div></td><td><div style=\"text-align:left; max-width:192px; max-height:64px; overflow:auto\">281</div></td><td><div style=\"text-align:left; max-width:192px; max-height:64px; overflow:auto\">20</div></td><td><div style=\"text-align:left; max-width:192px; max-height:64px; overflow:auto\">1111</div></td></tr>\n",
       "<tr><td><div style=\"text-align:left; max-width:192px; max-height:64px; overflow:auto\">hare</div></td><td><div style=\"text-align:left; max-width:192px; max-height:64px; overflow:auto\">250</div></td><td><div style=\"text-align:left; max-width:192px; max-height:64px; overflow:auto\">15</div></td><td><div style=\"text-align:left; max-width:192px; max-height:64px; overflow:auto\">1111</div></td></tr>\n",
       "<tr><td><div style=\"text-align:left; max-width:192px; max-height:64px; overflow:auto\">hare</div></td><td><div style=\"text-align:left; max-width:192px; max-height:64px; overflow:auto\">228</div></td><td><div style=\"text-align:left; max-width:192px; max-height:64px; overflow:auto\">10</div></td><td><div style=\"text-align:left; max-width:192px; max-height:64px; overflow:auto\">1111</div></td></tr>\n",
       "<tr><td><div style=\"text-align:left; max-width:192px; max-height:64px; overflow:auto\">hare</div></td><td><div style=\"text-align:left; max-width:192px; max-height:64px; overflow:auto\">233</div></td><td><div style=\"text-align:left; max-width:192px; max-height:64px; overflow:auto\">20</div></td><td><div style=\"text-align:left; max-width:192px; max-height:64px; overflow:auto\">1111</div></td></tr>\n",
       "<tr><td><div style=\"text-align:left; max-width:192px; max-height:64px; overflow:auto\">hare</div></td><td><div style=\"text-align:left; max-width:192px; max-height:64px; overflow:auto\">238</div></td><td><div style=\"text-align:left; max-width:192px; max-height:64px; overflow:auto\">23</div></td><td><div style=\"text-align:left; max-width:192px; max-height:64px; overflow:auto\">1111</div></td></tr>\n",
       "<tr><td><div style=\"text-align:left; max-width:192px; max-height:64px; overflow:auto\">hare</div></td><td><div style=\"text-align:left; max-width:192px; max-height:64px; overflow:auto\">270</div></td><td><div style=\"text-align:left; max-width:192px; max-height:64px; overflow:auto\">24</div></td><td><div style=\"text-align:left; max-width:192px; max-height:64px; overflow:auto\">1111</div></td></tr>\n",
       "</tbody>\n",
       "</table>\n",
       "<small>(Showing first 8 of 28 rows)</small>\n",
       "</div>"
      ],
      "text/plain": [
       "╭────────────┬───────┬────────────┬──────────────────────────╮\n",
       "│ contestant ┆ time  ┆ chocolates ┆ chocolates_within_100min │\n",
       "│ ---        ┆ ---   ┆ ---        ┆ ---                      │\n",
       "│ Utf8       ┆ Int64 ┆ Int64      ┆ Int64                    │\n",
       "╞════════════╪═══════╪════════════╪══════════════════════════╡\n",
       "│ hare       ┆ 300   ┆ 18         ┆ 1111                     │\n",
       "├╌╌╌╌╌╌╌╌╌╌╌╌┼╌╌╌╌╌╌╌┼╌╌╌╌╌╌╌╌╌╌╌╌┼╌╌╌╌╌╌╌╌╌╌╌╌╌╌╌╌╌╌╌╌╌╌╌╌╌╌┤\n",
       "│ hare       ┆ 284   ┆ 10         ┆ 1111                     │\n",
       "├╌╌╌╌╌╌╌╌╌╌╌╌┼╌╌╌╌╌╌╌┼╌╌╌╌╌╌╌╌╌╌╌╌┼╌╌╌╌╌╌╌╌╌╌╌╌╌╌╌╌╌╌╌╌╌╌╌╌╌╌┤\n",
       "│ hare       ┆ 281   ┆ 20         ┆ 1111                     │\n",
       "├╌╌╌╌╌╌╌╌╌╌╌╌┼╌╌╌╌╌╌╌┼╌╌╌╌╌╌╌╌╌╌╌╌┼╌╌╌╌╌╌╌╌╌╌╌╌╌╌╌╌╌╌╌╌╌╌╌╌╌╌┤\n",
       "│ hare       ┆ 250   ┆ 15         ┆ 1111                     │\n",
       "├╌╌╌╌╌╌╌╌╌╌╌╌┼╌╌╌╌╌╌╌┼╌╌╌╌╌╌╌╌╌╌╌╌┼╌╌╌╌╌╌╌╌╌╌╌╌╌╌╌╌╌╌╌╌╌╌╌╌╌╌┤\n",
       "│ hare       ┆ 228   ┆ 10         ┆ 1111                     │\n",
       "├╌╌╌╌╌╌╌╌╌╌╌╌┼╌╌╌╌╌╌╌┼╌╌╌╌╌╌╌╌╌╌╌╌┼╌╌╌╌╌╌╌╌╌╌╌╌╌╌╌╌╌╌╌╌╌╌╌╌╌╌┤\n",
       "│ hare       ┆ 233   ┆ 20         ┆ 1111                     │\n",
       "├╌╌╌╌╌╌╌╌╌╌╌╌┼╌╌╌╌╌╌╌┼╌╌╌╌╌╌╌╌╌╌╌╌┼╌╌╌╌╌╌╌╌╌╌╌╌╌╌╌╌╌╌╌╌╌╌╌╌╌╌┤\n",
       "│ hare       ┆ 238   ┆ 23         ┆ 1111                     │\n",
       "├╌╌╌╌╌╌╌╌╌╌╌╌┼╌╌╌╌╌╌╌┼╌╌╌╌╌╌╌╌╌╌╌╌┼╌╌╌╌╌╌╌╌╌╌╌╌╌╌╌╌╌╌╌╌╌╌╌╌╌╌┤\n",
       "│ hare       ┆ 270   ┆ 24         ┆ 1111                     │\n",
       "╰────────────┴───────┴────────────┴──────────────────────────╯\n",
       "\n",
       "(Showing first 8 of 28 rows)"
      ]
     },
     "execution_count": 13,
     "metadata": {},
     "output_type": "execute_result"
    }
   ],
   "source": [
    "by_contestant_time_range = Window().partition_by(\"contestant\").order_by(\"time\", desc=False).rows_between(-50, 50)\n",
    "by_chocolate_spree = Window().partition_by(\"contestant\").order_by(\"chocolates_within_100min\", desc=True)\n",
    "\n",
    "df.with_column(\"chocolates_within_100min\", col(\"chocolates\").sum().over(by_contestant_time_range)).with_column(\n",
    "    \"time_window_chocolates_rank\", rank().over(by_chocolate_spree)\n",
    ").filter(col(\"time_window_chocolates_rank\") <= 3).select(\n",
    "    \"contestant\", \"time\", \"chocolates\", \"chocolates_within_100min\"\n",
    ").collect()"
   ]
  },
  {
   "cell_type": "markdown",
   "metadata": {},
   "source": [
    "(Optional) Let's visualize these sprees over time:"
   ]
  },
  {
   "cell_type": "code",
   "execution_count": null,
   "metadata": {
    "jupyter": {
     "source_hidden": true
    },
    "scrolled": true
   },
   "outputs": [],
   "source": [
    "spree_df_pd = (\n",
    "    df.with_column(\n",
    "        \"chocolates_within_100min\",\n",
    "        col(\"chocolates\").sum().over(Window().partition_by(\"contestant\").order_by(\"time\").range_between(-50, 50)),\n",
    "    )\n",
    "    .select(\"contestant\", \"time\", \"chocolates_within_100min\")\n",
    "    .collect()\n",
    "    .to_pandas()\n",
    ")\n",
    "\n",
    "fig, ax = plt.subplots(figsize=(15, 6))\n",
    "\n",
    "colors = {\"hare\": \"#f28c38\", \"tortoise\": \"#6c9b41\"}\n",
    "\n",
    "for contestant in spree_df_pd[\"contestant\"].unique():\n",
    "    subset = spree_df_pd[spree_df_pd[\"contestant\"] == contestant]\n",
    "    ax.plot(\n",
    "        subset[\"time\"],\n",
    "        subset[\"chocolates_within_100min\"],\n",
    "        label=contestant.capitalize(),\n",
    "        color=colors[contestant],\n",
    "        drawstyle=\"steps-post\",\n",
    "    )\n",
    "\n",
    "ax.set_xlabel(\"Time\")\n",
    "ax.set_ylabel(\"Chocolates in 100-Min Window\")\n",
    "ax.set_title(\"Peak Chocolate-Eating Sprees\")\n",
    "ax.grid(True, linestyle=\"--\", alpha=0.7)\n",
    "ax.legend()\n",
    "plt.tight_layout()\n",
    "plt.show()"
   ]
  },
  {
   "cell_type": "markdown",
   "metadata": {},
   "source": [
    "This graph reveals the intensity of eating over time. Notice how for the hare, the peak sprees happen at the beginning and ending of the race, with that characteristic gap in the middle. The tortoise maintains more consistent sprees throughout."
   ]
  },
  {
   "attachments": {},
   "cell_type": "markdown",
   "metadata": {},
   "source": [
    "# Challenge 4: Calculating Cumulative Chocolates\n",
    "\n",
    "Finally, let's track the total chocolates eaten by each contestant over time.\n",
    "\n",
    "*Without* window functions, we need:\n",
    "1. A self-join to find all earlier and current sessions\n",
    "2. Aggregation to sum the chocolates\n",
    "3. A join back to the original data\n",
    "\n",
    "*With* window functions, this becomes simplified. When no frame is specified, Daft defaults to including all previous rows and the current row in the window. This is perfect for calculating running totals."
   ]
  },
  {
   "cell_type": "code",
   "execution_count": 16,
   "metadata": {},
   "outputs": [
    {
     "data": {
      "text/html": [
       "<div>\n",
       "<table class=\"dataframe\">\n",
       "<thead><tr><th style=\"text-wrap: nowrap; max-width:192px; overflow:auto; text-align:left\">chocolates<br />Int64</th><th style=\"text-wrap: nowrap; max-width:192px; overflow:auto; text-align:left\">contestant<br />Utf8</th><th style=\"text-wrap: nowrap; max-width:192px; overflow:auto; text-align:left\">time<br />Int64</th><th style=\"text-wrap: nowrap; max-width:192px; overflow:auto; text-align:left\">cumulative_chocolates<br />Int64</th></tr></thead>\n",
       "<tbody>\n",
       "<tr><td><div style=\"text-align:left; max-width:192px; max-height:64px; overflow:auto\">14</div></td><td><div style=\"text-align:left; max-width:192px; max-height:64px; overflow:auto\">hare</div></td><td><div style=\"text-align:left; max-width:192px; max-height:64px; overflow:auto\">6</div></td><td><div style=\"text-align:left; max-width:192px; max-height:64px; overflow:auto\">37</div></td></tr>\n",
       "<tr><td><div style=\"text-align:left; max-width:192px; max-height:64px; overflow:auto\">14</div></td><td><div style=\"text-align:left; max-width:192px; max-height:64px; overflow:auto\">hare</div></td><td><div style=\"text-align:left; max-width:192px; max-height:64px; overflow:auto\">25</div></td><td><div style=\"text-align:left; max-width:192px; max-height:64px; overflow:auto\">51</div></td></tr>\n",
       "<tr><td><div style=\"text-align:left; max-width:192px; max-height:64px; overflow:auto\">9</div></td><td><div style=\"text-align:left; max-width:192px; max-height:64px; overflow:auto\">hare</div></td><td><div style=\"text-align:left; max-width:192px; max-height:64px; overflow:auto\">27</div></td><td><div style=\"text-align:left; max-width:192px; max-height:64px; overflow:auto\">61</div></td></tr>\n",
       "<tr><td><div style=\"text-align:left; max-width:192px; max-height:64px; overflow:auto\">14</div></td><td><div style=\"text-align:left; max-width:192px; max-height:64px; overflow:auto\">hare</div></td><td><div style=\"text-align:left; max-width:192px; max-height:64px; overflow:auto\">30</div></td><td><div style=\"text-align:left; max-width:192px; max-height:64px; overflow:auto\">59</div></td></tr>\n",
       "<tr><td><div style=\"text-align:left; max-width:192px; max-height:64px; overflow:auto\">10</div></td><td><div style=\"text-align:left; max-width:192px; max-height:64px; overflow:auto\">hare</div></td><td><div style=\"text-align:left; max-width:192px; max-height:64px; overflow:auto\">32</div></td><td><div style=\"text-align:left; max-width:192px; max-height:64px; overflow:auto\">63</div></td></tr>\n",
       "<tr><td><div style=\"text-align:left; max-width:192px; max-height:64px; overflow:auto\">12</div></td><td><div style=\"text-align:left; max-width:192px; max-height:64px; overflow:auto\">hare</div></td><td><div style=\"text-align:left; max-width:192px; max-height:64px; overflow:auto\">44</div></td><td><div style=\"text-align:left; max-width:192px; max-height:64px; overflow:auto\">61</div></td></tr>\n",
       "<tr><td><div style=\"text-align:left; max-width:192px; max-height:64px; overflow:auto\">18</div></td><td><div style=\"text-align:left; max-width:192px; max-height:64px; overflow:auto\">hare</div></td><td><div style=\"text-align:left; max-width:192px; max-height:64px; overflow:auto\">46</div></td><td><div style=\"text-align:left; max-width:192px; max-height:64px; overflow:auto\">60</div></td></tr>\n",
       "<tr><td><div style=\"text-align:left; max-width:192px; max-height:64px; overflow:auto\">7</div></td><td><div style=\"text-align:left; max-width:192px; max-height:64px; overflow:auto\">hare</div></td><td><div style=\"text-align:left; max-width:192px; max-height:64px; overflow:auto\">71</div></td><td><div style=\"text-align:left; max-width:192px; max-height:64px; overflow:auto\">69</div></td></tr>\n",
       "</tbody>\n",
       "</table>\n",
       "<small>(Showing first 8 of 379 rows)</small>\n",
       "</div>"
      ],
      "text/plain": [
       "╭────────────┬────────────┬───────┬───────────────────────╮\n",
       "│ chocolates ┆ contestant ┆ time  ┆ cumulative_chocolates │\n",
       "│ ---        ┆ ---        ┆ ---   ┆ ---                   │\n",
       "│ Int64      ┆ Utf8       ┆ Int64 ┆ Int64                 │\n",
       "╞════════════╪════════════╪═══════╪═══════════════════════╡\n",
       "│ 14         ┆ hare       ┆ 6     ┆ 37                    │\n",
       "├╌╌╌╌╌╌╌╌╌╌╌╌┼╌╌╌╌╌╌╌╌╌╌╌╌┼╌╌╌╌╌╌╌┼╌╌╌╌╌╌╌╌╌╌╌╌╌╌╌╌╌╌╌╌╌╌╌┤\n",
       "│ 14         ┆ hare       ┆ 25    ┆ 51                    │\n",
       "├╌╌╌╌╌╌╌╌╌╌╌╌┼╌╌╌╌╌╌╌╌╌╌╌╌┼╌╌╌╌╌╌╌┼╌╌╌╌╌╌╌╌╌╌╌╌╌╌╌╌╌╌╌╌╌╌╌┤\n",
       "│ 9          ┆ hare       ┆ 27    ┆ 61                    │\n",
       "├╌╌╌╌╌╌╌╌╌╌╌╌┼╌╌╌╌╌╌╌╌╌╌╌╌┼╌╌╌╌╌╌╌┼╌╌╌╌╌╌╌╌╌╌╌╌╌╌╌╌╌╌╌╌╌╌╌┤\n",
       "│ 14         ┆ hare       ┆ 30    ┆ 59                    │\n",
       "├╌╌╌╌╌╌╌╌╌╌╌╌┼╌╌╌╌╌╌╌╌╌╌╌╌┼╌╌╌╌╌╌╌┼╌╌╌╌╌╌╌╌╌╌╌╌╌╌╌╌╌╌╌╌╌╌╌┤\n",
       "│ 10         ┆ hare       ┆ 32    ┆ 63                    │\n",
       "├╌╌╌╌╌╌╌╌╌╌╌╌┼╌╌╌╌╌╌╌╌╌╌╌╌┼╌╌╌╌╌╌╌┼╌╌╌╌╌╌╌╌╌╌╌╌╌╌╌╌╌╌╌╌╌╌╌┤\n",
       "│ 12         ┆ hare       ┆ 44    ┆ 61                    │\n",
       "├╌╌╌╌╌╌╌╌╌╌╌╌┼╌╌╌╌╌╌╌╌╌╌╌╌┼╌╌╌╌╌╌╌┼╌╌╌╌╌╌╌╌╌╌╌╌╌╌╌╌╌╌╌╌╌╌╌┤\n",
       "│ 18         ┆ hare       ┆ 46    ┆ 60                    │\n",
       "├╌╌╌╌╌╌╌╌╌╌╌╌┼╌╌╌╌╌╌╌╌╌╌╌╌┼╌╌╌╌╌╌╌┼╌╌╌╌╌╌╌╌╌╌╌╌╌╌╌╌╌╌╌╌╌╌╌┤\n",
       "│ 7          ┆ hare       ┆ 71    ┆ 69                    │\n",
       "╰────────────┴────────────┴───────┴───────────────────────╯\n",
       "\n",
       "(Showing first 8 of 379 rows)"
      ]
     },
     "execution_count": 16,
     "metadata": {},
     "output_type": "execute_result"
    }
   ],
   "source": [
    "by_contestant_time = Window().partition_by(\"contestant\").order_by(\"time\", desc=False).rows_between(-2, 2)\n",
    "\n",
    "df.with_column(\n",
    "    \"cumulative_chocolates\",\n",
    "    col(\"chocolates\").sum().over(by_contestant_time),\n",
    ").sort([\"contestant\", \"time\"]).collect()"
   ]
  },
  {
   "cell_type": "markdown",
   "metadata": {},
   "source": [
    "(Optional) Let's visualize these cumulative totals:"
   ]
  },
  {
   "cell_type": "code",
   "execution_count": null,
   "metadata": {
    "jupyter": {
     "source_hidden": true
    }
   },
   "outputs": [],
   "source": [
    "cumulative_df_pd = (\n",
    "    df.with_column(\n",
    "        \"cumulative_chocolates\", col(\"chocolates\").sum().over(Window().partition_by(\"contestant\").order_by(\"time\"))\n",
    "    )\n",
    "    .select(\"contestant\", \"time\", \"cumulative_chocolates\")\n",
    "    .collect()\n",
    "    .to_pandas()\n",
    ")\n",
    "\n",
    "fig, ax = plt.subplots(figsize=(15, 6))\n",
    "\n",
    "colors = {\"hare\": \"#f28c38\", \"tortoise\": \"#6c9b41\"}\n",
    "\n",
    "for contestant in cumulative_df_pd[\"contestant\"].unique():\n",
    "    subset = cumulative_df_pd[cumulative_df_pd[\"contestant\"] == contestant]\n",
    "    ax.plot(\n",
    "        subset[\"time\"],\n",
    "        subset[\"cumulative_chocolates\"],\n",
    "        label=contestant.capitalize(),\n",
    "        color=colors[contestant],\n",
    "        drawstyle=\"steps-post\",\n",
    "    )\n",
    "\n",
    "ax.set_xlabel(\"Time\")\n",
    "ax.set_ylabel(\"Cumulative Chocolates\")\n",
    "ax.set_title(\"Cumulative Chocolates Over Time\")\n",
    "ax.grid(True, linestyle=\"--\", alpha=0.7)\n",
    "ax.legend()\n",
    "plt.tight_layout()\n",
    "plt.show()"
   ]
  },
  {
   "cell_type": "markdown",
   "metadata": {},
   "source": [
    "And there's our classic tortoise vs hare story in data form! We can clearly see:\n",
    "* The hare's quick start, building an early lead\n",
    "* The plateau during the nap (between times 700 and 900)\n",
    "* The tortoise's steady progress throughout\n",
    "* The hare's final sprint after waking up\n",
    "* Both contestants finish with exactly the same total (1,111 chocolates)"
   ]
  },
  {
   "attachments": {},
   "cell_type": "markdown",
   "metadata": {},
   "source": [
    "# Bringing It All Together\n",
    "\n",
    "Now that we've explored each window function technique individually, let's combine them into a single comprehensive analysis.\n",
    "\n",
    "![image2.jpeg](image2.jpeg)"
   ]
  },
  {
   "cell_type": "code",
   "execution_count": 18,
   "metadata": {},
   "outputs": [],
   "source": [
    "by_contestant_time = Window().partition_by(\"contestant\").order_by(\"time\", desc=False)\n",
    "by_contestant_time_range = by_contestant_time.range_between(-50, 50)\n",
    "by_chocolates_desc = Window().partition_by(\"contestant\").order_by(\"chocolates\", desc=True)\n",
    "by_spree_desc = Window().partition_by(\"contestant\").order_by(\"chocolates_within_100min\", desc=True)\n",
    "\n",
    "api_df = (\n",
    "    df.select(\n",
    "        col(\"contestant\"),\n",
    "        col(\"time\"),\n",
    "        col(\"chocolates\"),\n",
    "        col(\"chocolates\").sum().over(by_contestant_time).alias(\"cumulative_chocolates\"),\n",
    "        col(\"chocolates\").sum().over(by_contestant_time_range).alias(\"chocolates_within_100min\"),\n",
    "        rank().over(by_chocolates_desc).alias(\"session_rank\"),\n",
    "        (col(\"chocolates\") - col(\"chocolates\").lag(1, default=0).over(by_contestant_time)).alias(\"delta_from_previous\"),\n",
    "    )\n",
    "    .with_column(\"time_window_chocolates_rank\", rank().over(by_spree_desc))\n",
    "    .sort([\"contestant\", \"time\"])\n",
    ").collect()"
   ]
  },
  {
   "cell_type": "markdown",
   "metadata": {},
   "source": [
    "With just a handful of window function calls, we've calculated:\n",
    "* Cumulative chocolates eaten over time\n",
    "* Chocolates eaten within 100-minute sprees\n",
    "* Session rankings by chocolate count\n",
    "* Changes in consumption between consecutive sessions\n",
    "* Rankings of the most intense eating spress"
   ]
  },
  {
   "cell_type": "markdown",
   "metadata": {},
   "source": [
    "# SQL\n",
    "\n",
    "For those more familiar with SQL, Daft also supports these window operations through SQL syntax. See also [Window Functions SQL Reference](https://www.getdaft.io/projects/docs/en/stable/sql/window_functions/) in Daft Documentation."
   ]
  },
  {
   "cell_type": "code",
   "execution_count": 19,
   "metadata": {},
   "outputs": [],
   "source": [
    "catalog = SQLCatalog({\"race_data\": df})\n",
    "\n",
    "sql_df = daft.sql(\n",
    "    \"\"\"\n",
    "    WITH base AS (\n",
    "        SELECT\n",
    "            contestant,\n",
    "            time,\n",
    "            chocolates,\n",
    "            SUM(chocolates) OVER (\n",
    "                PARTITION BY contestant\n",
    "                ORDER BY time\n",
    "            ) AS cumulative_chocolates,\n",
    "            SUM(chocolates) OVER (\n",
    "                PARTITION BY contestant\n",
    "                ORDER BY time\n",
    "                RANGE BETWEEN 50 PRECEDING AND 50 FOLLOWING\n",
    "            ) AS chocolates_within_100min,\n",
    "            RANK() OVER (\n",
    "                PARTITION BY contestant\n",
    "                ORDER BY chocolates DESC\n",
    "            ) AS session_rank,\n",
    "            chocolates - LAG(chocolates, 1, 0) OVER (\n",
    "                PARTITION BY contestant\n",
    "                ORDER BY time\n",
    "            ) AS delta_from_previous\n",
    "        FROM race_data\n",
    "    )\n",
    "    SELECT *,\n",
    "        RANK() OVER (\n",
    "            PARTITION BY contestant\n",
    "            ORDER BY chocolates_within_100min DESC\n",
    "        ) AS time_window_chocolates_rank\n",
    "    FROM base\n",
    "    ORDER BY contestant, time\n",
    "    \"\"\",\n",
    "    catalog=catalog,\n",
    ").collect()"
   ]
  },
  {
   "cell_type": "markdown",
   "metadata": {},
   "source": [
    "# The Alternative: ...Without Window Functions\n",
    "\n",
    "To fully appreciate window functions, let's look at what it would take to produce the same comprehensive analysis without them:"
   ]
  },
  {
   "cell_type": "code",
   "execution_count": 21,
   "metadata": {},
   "outputs": [],
   "source": [
    "cumulative_df = (\n",
    "    df.join(df, left_on=\"contestant\", right_on=\"contestant\", suffix=\"_r\", how=\"inner\")\n",
    "    .where(col(\"time_r\") <= col(\"time\"))\n",
    "    .groupby([\"contestant\", \"time\"])\n",
    "    .agg(col(\"chocolates_r\").sum().alias(\"cumulative_chocolates\"))\n",
    ")\n",
    "\n",
    "window_df = (\n",
    "    df.join(df, left_on=\"contestant\", right_on=\"contestant\", suffix=\"_r\", how=\"inner\")\n",
    "    .where((col(\"time_r\") >= col(\"time\") - 50) & (col(\"time_r\") <= col(\"time\") + 50))\n",
    "    .groupby([\"contestant\", \"time\"])\n",
    "    .agg(col(\"chocolates_r\").sum().alias(\"chocolates_within_100min\"))\n",
    ")\n",
    "\n",
    "rank_df = (\n",
    "    df.join(df, left_on=\"contestant\", right_on=\"contestant\", suffix=\"_r\", how=\"inner\")\n",
    "    .where(col(\"chocolates_r\") > col(\"chocolates\"))\n",
    "    .groupby([\"contestant\", \"time\", \"chocolates\"])\n",
    "    .agg((col(\"chocolates_r\").count() + 1).alias(\"session_rank\"))\n",
    ")\n",
    "\n",
    "previous_df = (\n",
    "    df.join(df, left_on=\"contestant\", right_on=\"contestant\", suffix=\"_r\", how=\"inner\")\n",
    "    .where(col(\"time_r\") < col(\"time\"))\n",
    "    .groupby([\"contestant\", \"time\"])\n",
    "    .agg(col(\"time_r\").max().alias(\"previous_time\"))\n",
    ")\n",
    "\n",
    "delta_df = (\n",
    "    df.join(previous_df, on=[\"contestant\", \"time\"], how=\"left\")\n",
    "    .join(df, left_on=[\"contestant\", \"previous_time\"], right_on=[\"contestant\", \"time\"], how=\"left\", suffix=\"_prev\")\n",
    "    .with_column(\"delta_from_previous\", col(\"chocolates\") - col(\"chocolates_prev\").fill_null(0))\n",
    "    .select(\"contestant\", \"time\", \"delta_from_previous\")\n",
    ")\n",
    "\n",
    "joined_spree = df.join(window_df, on=[\"contestant\", \"time\"], how=\"left\")\n",
    "spree_rank_df = (\n",
    "    joined_spree.join(joined_spree, left_on=\"contestant\", right_on=\"contestant\", suffix=\"_r\", how=\"inner\")\n",
    "    .where(col(\"chocolates_within_100min_r\") > col(\"chocolates_within_100min\"))\n",
    "    .groupby([\"contestant\", \"time\"])\n",
    "    .agg((col(\"chocolates_within_100min_r\").count() + 1).alias(\"time_window_chocolates_rank\"))\n",
    ")\n",
    "\n",
    "final_df = (\n",
    "    df.join(cumulative_df, on=[\"contestant\", \"time\"], how=\"left\")\n",
    "    .join(window_df, on=[\"contestant\", \"time\"], how=\"left\")\n",
    "    .join(rank_df, on=[\"contestant\", \"time\", \"chocolates\"], how=\"left\")\n",
    "    .join(delta_df, on=[\"contestant\", \"time\"], how=\"left\")\n",
    "    .join(spree_rank_df, on=[\"contestant\", \"time\"], how=\"left\")\n",
    "    .with_column(\"cumulative_chocolates\", col(\"cumulative_chocolates\").cast(\"int\"))\n",
    "    .with_column(\"chocolates_within_100min\", col(\"chocolates_within_100min\").cast(\"int\"))\n",
    "    .with_column(\"session_rank\", col(\"session_rank\").fill_null(1).cast(\"int\"))\n",
    "    .with_column(\"delta_from_previous\", col(\"delta_from_previous\").fill_null(0).cast(\"int\"))\n",
    "    .with_column(\"time_window_chocolates_rank\", col(\"time_window_chocolates_rank\").fill_null(1).cast(\"int\"))\n",
    "    .select(\n",
    "        \"contestant\",\n",
    "        \"time\",\n",
    "        \"chocolates\",\n",
    "        \"cumulative_chocolates\",\n",
    "        \"chocolates_within_100min\",\n",
    "        \"session_rank\",\n",
    "        \"delta_from_previous\",\n",
    "        \"time_window_chocolates_rank\",\n",
    "    )\n",
    "    .sort([\"contestant\", \"time\"])\n",
    ")"
   ]
  },
  {
   "cell_type": "markdown",
   "metadata": {},
   "source": [
    "That's over 50 lines of complex code with multiple joins, aggregations, and transformations -- compared to 8 lines with window functions."
   ]
  },
  {
   "cell_type": "markdown",
   "metadata": {},
   "source": [
    "# Conclusion: The Power of Window Functions\n",
    "\n",
    "Through this fun example of a tortoise vs hare chocolate eating contest, we've demonstrated how window functions can dramatically simplify compelx analytical tasks:\n",
    "1. **Conciseness**: Window functions reduced our code from over 50 lines to just 8 lines\n",
    "2. **Readability**: The window function approach is far more intuitive and easier to understand\n",
    "3. **Performance**: Window functions are typically more efficient than equivalent operations with joins and subqueries\n",
    "4. **Flexibility**: We can easily combine different window specifications to answer a wide range of analytical questions.\n",
    "\n",
    "Key window function concepts we covered:\n",
    "* Basic partitioning with [`partition_by()`](https://www.getdaft.io/projects/docs/en/stable/api/window/#daft.window.Window.partition_by)\n",
    "* Ordering rows with partitions using [`order_by()`](https://www.getdaft.io/projects/docs/en/stable/api/window/#daft.window.Window.order_by)\n",
    "* Defining custom frames with [`rows_between()`](https://www.getdaft.io/projects/docs/en/stable/api/window/#daft.window.Window.rows_between) and [`range_between()`](https://www.getdaft.io/projects/docs/en/stable/api/window/#daft.window.Window.range_between)\n",
    "* Using aggregation functions ([`sum()`](https://www.getdaft.io/projects/docs/en/stable/api/aggregations/#daft.dataframe.dataframe.GroupedDataFrame.sum)) and ranking functions ([`rank()`](https://www.getdaft.io/projects/docs/en/stable/api/window/#daft.functions.rank) and [`dense_rank()`](https://www.getdaft.io/projects/docs/en/stable/api/window/#daft.functions.dense_rank))\n",
    "\n",
    "If you find yourself writing complex self-joins or struggling with cummulative calculations, try [Daft's window functions](https://www.getdaft.io/projects/docs/en/stable/core_concepts/#window-functions) instead!"
   ]
  }
 ],
 "metadata": {
  "kernelspec": {
   "display_name": "Python 3 (ipykernel)",
   "language": "python",
   "name": "python3"
  },
  "language_info": {
   "codemirror_mode": {
    "name": "ipython",
    "version": 3
   },
   "file_extension": ".py",
   "mimetype": "text/x-python",
   "name": "python",
   "nbconvert_exporter": "python",
   "pygments_lexer": "ipython3",
   "version": "3.11.10"
  }
 },
 "nbformat": 4,
 "nbformat_minor": 4
}
