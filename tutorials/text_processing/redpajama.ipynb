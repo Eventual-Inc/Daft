{
 "cells": [
  {
   "attachments": {},
   "cell_type": "markdown",
   "id": "04f25086-a1fc-4ccd-9ada-e313ae076850",
   "metadata": {},
   "source": [
    "# RedPajama Dataset: StackExchange data extraction and processing"
   ]
  },
  {
   "attachments": {},
   "cell_type": "markdown",
   "id": "586d5dfa-2644-4cc4-8ef3-081a285baaf8",
   "metadata": {},
   "source": [
    "> This notebook was presented at PyData London 2023.\n",
    ">\n",
    "> A link will be provided to the talk video when available!\n",
    "\n",
    "First, download the XML data and perform a conversion to JSON for easy ingestion into Daft.\n",
    "\n",
    "This is done outside of the live demo because it takes a long time due to bandwidth throttling!"
   ]
  },
  {
   "cell_type": "code",
   "execution_count": null,
   "id": "109745cf-db18-4636-85a4-fa5b4bb6734e",
   "metadata": {
    "jupyter": {
     "source_hidden": true
    },
    "scrolled": true
   },
   "outputs": [],
   "source": [
    "###\n",
    "# Taken from: https://github.com/togethercomputer/RedPajama-Data/blob/main/data_prep/stack_exchange/download.py\n",
    "###\n",
    "\n",
    "# import os\n",
    "# import pandas as pd\n",
    "# from tqdm import tqdm\n",
    "\n",
    "# BASE_URL=\"https://archive.org/download/stackexchange/\"\n",
    "\n",
    "# table = pd.read_html(BASE_URL)[0]\n",
    "# sources = [x.replace(\" (View Contents)\", \"\") for x in table['Name'].tolist()]\n",
    "# sources = [x for x in sources if x.endswith(\".7z\")]\n",
    "# for source in tqdm(sources):\n",
    "#     # if \".meta.\" not in source:\n",
    "#     print(f\"source: {source}\")\n",
    "#     os.system(\"wget \"+BASE_URL+source+\" -O \"+\"./data/\"+source)\n",
    "#     os.system(\"7z x ./data/\"+source+\" -o./data/\"+source[:-3])\n",
    "#     os.system(f\"mv ./data/{source[:-3]}/Posts.xml ./data/{source[:-3]}.xml\")\n",
    "#     os.system(f\"rm -rf ./data/{source[:-3]}\")\n",
    "#     os.system(f\"rm ./data/{source}\")\n",
    "\n",
    "###\n",
    "# Convert data from XML to JSON\n",
    "###\n",
    "\n",
    "# import os\n",
    "# from lxml import etree\n",
    "# import json\n",
    "\n",
    "# for filename in os.listdir(\"data\"):\n",
    "#     if \".meta.\" in filename:\n",
    "#         continue\n",
    "#     if not filename.endswith(\".xml\"):\n",
    "#         continue\n",
    "#     with open(f\"data/{filename}\") as xml_f, open(f\"data/{filename[:-3]}jsonl\", \"w\") as json_f:\n",
    "#         for line in xml_f:\n",
    "#             if not line.strip().startswith(\"<row\"):\n",
    "#                 continue\n",
    "        \n",
    "#             # `line` is a <row /> XML object\n",
    "#             obj = etree.fromstring(line)\n",
    "#             data = {key: obj.get(key) for key in obj.keys()}\n",
    "#             data[\"site\"] = filename[:-4]\n",
    "#             json_f.write(json.dumps(data))\n",
    "#             json_f.write(\"\\n\")\n"
   ]
  },
  {
   "attachments": {},
   "cell_type": "markdown",
   "id": "fe602e52-3d16-406f-9307-fd9e36e5ac3b",
   "metadata": {},
   "source": [
    "## Reading Data\n",
    "\n",
    "Read the JSON-lines files"
   ]
  },
  {
   "cell_type": "code",
   "execution_count": 1,
   "id": "b0d1517b-2909-4a40-a6fa-a7a4c4f55d80",
   "metadata": {},
   "outputs": [
    {
     "name": "stdout",
     "output_type": "stream",
     "text": [
      "9.86196\n"
     ]
    }
   ],
   "source": [
    "# How much data are we working with here? About 10G!\n",
    "!ls -la data | grep jsonl | awk '{ total += $5 }; END { print total / 1000000000 }'"
   ]
  },
  {
   "cell_type": "code",
   "execution_count": 2,
   "id": "79264c32-a830-4a83-a74a-7156ee508387",
   "metadata": {},
   "outputs": [
    {
     "name": "stderr",
     "output_type": "stream",
     "text": [
      "\u001b[32m2023-06-04 11:56:49.648\u001b[0m | \u001b[1mINFO    \u001b[0m | \u001b[36mdaft.context\u001b[0m:\u001b[36mrunner\u001b[0m:\u001b[36m80\u001b[0m - \u001b[1mUsing PyRunner\u001b[0m\n"
     ]
    },
    {
     "data": {
      "text/html": [
       "<div>\n",
       "    <table class=\"dataframe\">\n",
       "<thead>\n",
       "<tr><th style=\"text-align: right;\">  Id<br>Utf8</th><th style=\"text-align: right;\">  PostTypeId<br>Utf8</th><th>AcceptedAnswerId<br>Utf8  </th><th>CreationDate<br>Utf8   </th><th style=\"text-align: right;\">  Score<br>Utf8</th><th>ViewCount<br>Utf8  </th><th>Body<br>Utf8                                                                </th><th style=\"text-align: right;\">  OwnerUserId<br>Utf8</th><th>LastActivityDate<br>Utf8  </th><th>Title<br>Utf8                                               </th><th>Tags<br>Utf8                                                        </th><th>AnswerCount<br>Utf8  </th><th style=\"text-align: right;\">  CommentCount<br>Utf8</th><th>ContentLicense<br>Utf8  </th><th>site<br>Utf8                </th><th>LastEditorUserId<br>Utf8  </th><th>LastEditDate<br>Utf8   </th><th>ParentId<br>Utf8  </th><th>ClosedDate<br>Utf8  </th><th>OwnerDisplayName<br>Utf8  </th><th>FavoriteCount<br>Utf8  </th><th>CommunityOwnedDate<br>Utf8  </th><th>LastEditorDisplayName<br>Utf8  </th></tr>\n",
       "</thead>\n",
       "<tbody>\n",
       "<tr><td style=\"text-align: right;\">           1</td><td style=\"text-align: right;\">                   1</td><td>51                        </td><td>2016-01-12T18:45:19.963</td><td style=\"text-align: right;\">             10</td><td>409                </td><td>&lt;p&gt;When I&#x27;ve printed an object I&#x27;ve had to choose between...</td><td style=\"text-align: right;\">                   16</td><td>2017-10-31T02:31:08.560   </td><td>How to obtain high resolution prints in a shorter period ...</td><td>&lt;resolution&gt;&lt;speed&gt;&lt;quality&gt;                      </td><td>2                    </td><td style=\"text-align: right;\">                     6</td><td>CC BY-SA 3.0            </td><td>3dprinting.stackexchange.com</td><td>None                      </td><td>None                   </td><td>None              </td><td>None                </td><td>None                      </td><td>None                   </td><td>None                        </td><td>None                           </td></tr>\n",
       "<tr><td style=\"text-align: right;\">           2</td><td style=\"text-align: right;\">                   1</td><td>12                        </td><td>2016-01-12T18:45:51.287</td><td style=\"text-align: right;\">             33</td><td>7149               </td><td>&lt;p&gt;I would like to buy a 3D printer, but I&#x27;m concerned ab...     </td><td style=\"text-align: right;\">                   20</td><td>2019-06-10T23:18:34.190   </td><td>Is 3D printing safe for your health?                        </td><td>&lt;print-material&gt;&lt;safety&gt;&lt;health&gt;                  </td><td>4                    </td><td style=\"text-align: right;\">                     1</td><td>CC BY-SA 3.0            </td><td>3dprinting.stackexchange.com</td><td>334                       </td><td>2016-11-15T16:16:11.163</td><td>None              </td><td>None                </td><td>None                      </td><td>None                   </td><td>None                        </td><td>None                           </td></tr>\n",
       "<tr><td style=\"text-align: right;\">           3</td><td style=\"text-align: right;\">                   1</td><td>152                       </td><td>2016-01-12T18:46:22.083</td><td style=\"text-align: right;\">             18</td><td>2670               </td><td>&lt;p&gt;I know the minimum layer height will effect how detail...          </td><td style=\"text-align: right;\">                   11</td><td>2016-09-19T15:41:06.537   </td><td>How important is the minimum layer height on a 3d printer?  </td><td>&lt;quality&gt;&lt;resolution&gt;                                   </td><td>3                    </td><td style=\"text-align: right;\">                     5</td><td>CC BY-SA 3.0            </td><td>3dprinting.stackexchange.com</td><td>11                        </td><td>2016-01-12T22:00:36.347</td><td>None              </td><td>None                </td><td>None                      </td><td>None                   </td><td>None                        </td><td>None                           </td></tr>\n",
       "<tr><td style=\"text-align: right;\">           4</td><td style=\"text-align: right;\">                   1</td><td>1289                      </td><td>2016-01-12T18:50:55.973</td><td style=\"text-align: right;\">             17</td><td>376                </td><td>&lt;p&gt;Plastic is used in 3D FDM/FFF printing partly because ...          </td><td style=\"text-align: right;\">                   16</td><td>2016-06-10T13:32:20.493   </td><td>Are there any metals that exhibit a large glass state?      </td><td>&lt;fdm&gt;&lt;material&gt;&lt;print-material&gt;&lt;metal-parts&gt;</td><td>4                    </td><td style=\"text-align: right;\">                     0</td><td>CC BY-SA 3.0            </td><td>3dprinting.stackexchange.com</td><td>98                        </td><td>2016-06-09T02:10:35.890</td><td>None              </td><td>None                </td><td>None                      </td><td>None                   </td><td>None                        </td><td>None                           </td></tr>\n",
       "<tr><td style=\"text-align: right;\">           5</td><td style=\"text-align: right;\">                   1</td><td>77                        </td><td>2016-01-12T18:53:53.623</td><td style=\"text-align: right;\">             40</td><td>3952               </td><td>&lt;p&gt;What are the main differences when using ABS over PLA ...          </td><td style=\"text-align: right;\">                   11</td><td>2017-08-02T09:49:07.263   </td><td>How is PLA different from ABS material?                     </td><td>&lt;filament&gt;&lt;abs&gt;&lt;fdm&gt;&lt;pla&gt;                   </td><td>5                    </td><td style=\"text-align: right;\">                     5</td><td>CC BY-SA 3.0            </td><td>3dprinting.stackexchange.com</td><td>20                        </td><td>2016-01-15T17:02:37.707</td><td>None              </td><td>None                </td><td>None                      </td><td>None                   </td><td>None                        </td><td>None                           </td></tr>\n",
       "<tr><td style=\"text-align: right;\">           6</td><td style=\"text-align: right;\">                   1</td><td>27                        </td><td>2016-01-12T18:57:13.350</td><td style=\"text-align: right;\">             11</td><td>620                </td><td>&lt;p&gt;My MakerBot printer supports only two filaments at the...          </td><td style=\"text-align: right;\">                   20</td><td>2018-09-16T12:35:19.097   </td><td>Multi-color printing with desktop 3D printer?               </td><td>&lt;filament&gt;&lt;makerbot&gt;&lt;dual-nozzle&gt;&lt;color&gt;    </td><td>5                    </td><td style=\"text-align: right;\">                     0</td><td>CC BY-SA 3.0            </td><td>3dprinting.stackexchange.com</td><td>8884                      </td><td>2018-09-16T12:35:19.097</td><td>None              </td><td>None                </td><td>None                      </td><td>None                   </td><td>None                        </td><td>None                           </td></tr>\n",
       "<tr><td style=\"text-align: right;\">           7</td><td style=\"text-align: right;\">                   5</td><td>None                      </td><td>2016-01-12T18:57:48.103</td><td style=\"text-align: right;\">              0</td><td>None               </td><td>&lt;p&gt;Filament is the plastic strands used as the print mate...          </td><td style=\"text-align: right;\">                   11</td><td>2016-01-15T17:04:10.283   </td><td>None                                                        </td><td>None                                                                </td><td>None                 </td><td style=\"text-align: right;\">                     0</td><td>CC BY-SA 3.0            </td><td>3dprinting.stackexchange.com</td><td>11                        </td><td>2016-01-15T17:04:10.283</td><td>None              </td><td>None                </td><td>None                      </td><td>None                   </td><td>None                        </td><td>None                           </td></tr>\n",
       "<tr><td style=\"text-align: right;\">           8</td><td style=\"text-align: right;\">                   4</td><td>None                      </td><td>2016-01-12T18:57:48.103</td><td style=\"text-align: right;\">              0</td><td>None               </td><td>For questions related to different filaments used as the ...                </td><td style=\"text-align: right;\">                   11</td><td>2016-01-15T17:04:07.180   </td><td>None                                                        </td><td>None                                                                </td><td>None                 </td><td style=\"text-align: right;\">                     0</td><td>CC BY-SA 3.0            </td><td>3dprinting.stackexchange.com</td><td>11                        </td><td>2016-01-15T17:04:07.180</td><td>None              </td><td>None                </td><td>None                      </td><td>None                   </td><td>None                        </td><td>None                           </td></tr>\n",
       "</tbody>\n",
       "</table>\n",
       "    <small>(Showing first 8 of 6490363 rows)</small>\n",
       "</div>"
      ],
      "text/plain": [
       "+--------+--------------+--------------------+----------------------+---------+-------------+----------------------+---------------+----------------------+----------------------+----------------------+---------------+----------------+------------------+----------------------+--------------------+----------------------+------------+--------------+--------------------+-----------------+----------------------+-------------------------+\n",
       "|     Id |   PostTypeId | AcceptedAnswerId   | CreationDate         |   Score | ViewCount   | Body                 |   OwnerUserId | LastActivityDate     | Title                | Tags                 | AnswerCount   |   CommentCount | ContentLicense   | site                 | LastEditorUserId   | LastEditDate         | ParentId   | ClosedDate   | OwnerDisplayName   | FavoriteCount   | CommunityOwnedDate   | LastEditorDisplayName   |\n",
       "|   Utf8 |         Utf8 | Utf8               | Utf8                 |    Utf8 | Utf8        | Utf8                 |          Utf8 | Utf8                 | Utf8                 | Utf8                 | Utf8          |           Utf8 | Utf8             | Utf8                 | Utf8               | Utf8                 | Utf8       | Utf8         | Utf8               | Utf8            | Utf8                 | Utf8                    |\n",
       "+========+==============+====================+======================+=========+=============+======================+===============+======================+======================+======================+===============+================+==================+======================+====================+======================+============+==============+====================+=================+======================+=========================+\n",
       "|      1 |            1 | 51                 | 2016-01-12T18:45:19. |      10 | 409         | <p>When I've printed |            16 | 2017-10-31T02:31:08. | How to obtain high   | <resolution><speed>< | 2             |              6 | CC BY-SA 3.0     | 3dprinting.stackexch | None               | None                 | None       | None         | None               | None            | None                 | None                    |\n",
       "|        |              |                    | 963                  |         |             | an object I've had   |               | 560                  | resolution prints in | quality>             |               |                |                  | ange.com             |                    |                      |            |              |                    |                 |                      |                         |\n",
       "|        |              |                    |                      |         |             | to choose between... |               |                      | a shorter period ... |                      |               |                |                  |                      |                    |                      |            |              |                    |                 |                      |                         |\n",
       "+--------+--------------+--------------------+----------------------+---------+-------------+----------------------+---------------+----------------------+----------------------+----------------------+---------------+----------------+------------------+----------------------+--------------------+----------------------+------------+--------------+--------------------+-----------------+----------------------+-------------------------+\n",
       "|      2 |            1 | 12                 | 2016-01-12T18:45:51. |      33 | 7149        | <p>I would like to   |            20 | 2019-06-10T23:18:34. | Is 3D printing safe  | <print-material><saf | 4             |              1 | CC BY-SA 3.0     | 3dprinting.stackexch | 334                | 2016-11-15T16:16:11. | None       | None         | None               | None            | None                 | None                    |\n",
       "|        |              |                    | 287                  |         |             | buy a 3D printer,    |               | 190                  | for your health?     | ety><health>         |               |                |                  | ange.com             |                    | 163                  |            |              |                    |                 |                      |                         |\n",
       "|        |              |                    |                      |         |             | but I'm concerned    |               |                      |                      |                      |               |                |                  |                      |                    |                      |            |              |                    |                 |                      |                         |\n",
       "|        |              |                    |                      |         |             | ab...                |               |                      |                      |                      |               |                |                  |                      |                    |                      |            |              |                    |                 |                      |                         |\n",
       "+--------+--------------+--------------------+----------------------+---------+-------------+----------------------+---------------+----------------------+----------------------+----------------------+---------------+----------------+------------------+----------------------+--------------------+----------------------+------------+--------------+--------------------+-----------------+----------------------+-------------------------+\n",
       "|      3 |            1 | 152                | 2016-01-12T18:46:22. |      18 | 2670        | <p>I know the        |            11 | 2016-09-19T15:41:06. | How important is the | <quality><resolution | 3             |              5 | CC BY-SA 3.0     | 3dprinting.stackexch | 11                 | 2016-01-12T22:00:36. | None       | None         | None               | None            | None                 | None                    |\n",
       "|        |              |                    | 083                  |         |             | minimum layer height |               | 537                  | minimum layer height | >                    |               |                |                  | ange.com             |                    | 347                  |            |              |                    |                 |                      |                         |\n",
       "|        |              |                    |                      |         |             | will effect how      |               |                      | on a 3d printer?     |                      |               |                |                  |                      |                    |                      |            |              |                    |                 |                      |                         |\n",
       "|        |              |                    |                      |         |             | detail...            |               |                      |                      |                      |               |                |                  |                      |                    |                      |            |              |                    |                 |                      |                         |\n",
       "+--------+--------------+--------------------+----------------------+---------+-------------+----------------------+---------------+----------------------+----------------------+----------------------+---------------+----------------+------------------+----------------------+--------------------+----------------------+------------+--------------+--------------------+-----------------+----------------------+-------------------------+\n",
       "|      4 |            1 | 1289               | 2016-01-12T18:50:55. |      17 | 376         | <p>Plastic is used   |            16 | 2016-06-10T13:32:20. | Are there any metals | <fdm><material><prin | 4             |              0 | CC BY-SA 3.0     | 3dprinting.stackexch | 98                 | 2016-06-09T02:10:35. | None       | None         | None               | None            | None                 | None                    |\n",
       "|        |              |                    | 973                  |         |             | in 3D FDM/FFF        |               | 493                  | that exhibit a large | t-material><metal-   |               |                |                  | ange.com             |                    | 890                  |            |              |                    |                 |                      |                         |\n",
       "|        |              |                    |                      |         |             | printing partly      |               |                      | glass state?         | parts>               |               |                |                  |                      |                    |                      |            |              |                    |                 |                      |                         |\n",
       "|        |              |                    |                      |         |             | because ...          |               |                      |                      |                      |               |                |                  |                      |                    |                      |            |              |                    |                 |                      |                         |\n",
       "+--------+--------------+--------------------+----------------------+---------+-------------+----------------------+---------------+----------------------+----------------------+----------------------+---------------+----------------+------------------+----------------------+--------------------+----------------------+------------+--------------+--------------------+-----------------+----------------------+-------------------------+\n",
       "|      5 |            1 | 77                 | 2016-01-12T18:53:53. |      40 | 3952        | <p>What are the main |            11 | 2017-08-02T09:49:07. | How is PLA different | <filament><abs><fdm> | 5             |              5 | CC BY-SA 3.0     | 3dprinting.stackexch | 20                 | 2016-01-15T17:02:37. | None       | None         | None               | None            | None                 | None                    |\n",
       "|        |              |                    | 623                  |         |             | differences when     |               | 263                  | from ABS material?   | <pla>                |               |                |                  | ange.com             |                    | 707                  |            |              |                    |                 |                      |                         |\n",
       "|        |              |                    |                      |         |             | using ABS over PLA   |               |                      |                      |                      |               |                |                  |                      |                    |                      |            |              |                    |                 |                      |                         |\n",
       "|        |              |                    |                      |         |             | ...                  |               |                      |                      |                      |               |                |                  |                      |                    |                      |            |              |                    |                 |                      |                         |\n",
       "+--------+--------------+--------------------+----------------------+---------+-------------+----------------------+---------------+----------------------+----------------------+----------------------+---------------+----------------+------------------+----------------------+--------------------+----------------------+------------+--------------+--------------------+-----------------+----------------------+-------------------------+\n",
       "|      6 |            1 | 27                 | 2016-01-12T18:57:13. |      11 | 620         | <p>My MakerBot       |            20 | 2018-09-16T12:35:19. | Multi-color printing | <filament><makerbot> | 5             |              0 | CC BY-SA 3.0     | 3dprinting.stackexch | 8884               | 2018-09-16T12:35:19. | None       | None         | None               | None            | None                 | None                    |\n",
       "|        |              |                    | 350                  |         |             | printer supports     |               | 097                  | with desktop 3D      | <dual-nozzle><color> |               |                |                  | ange.com             |                    | 097                  |            |              |                    |                 |                      |                         |\n",
       "|        |              |                    |                      |         |             | only two filaments   |               |                      | printer?             |                      |               |                |                  |                      |                    |                      |            |              |                    |                 |                      |                         |\n",
       "|        |              |                    |                      |         |             | at the...            |               |                      |                      |                      |               |                |                  |                      |                    |                      |            |              |                    |                 |                      |                         |\n",
       "+--------+--------------+--------------------+----------------------+---------+-------------+----------------------+---------------+----------------------+----------------------+----------------------+---------------+----------------+------------------+----------------------+--------------------+----------------------+------------+--------------+--------------------+-----------------+----------------------+-------------------------+\n",
       "|      7 |            5 | None               | 2016-01-12T18:57:48. |       0 | None        | <p>Filament is the   |            11 | 2016-01-15T17:04:10. | None                 | None                 | None          |              0 | CC BY-SA 3.0     | 3dprinting.stackexch | 11                 | 2016-01-15T17:04:10. | None       | None         | None               | None            | None                 | None                    |\n",
       "|        |              |                    | 103                  |         |             | plastic strands used |               | 283                  |                      |                      |               |                |                  | ange.com             |                    | 283                  |            |              |                    |                 |                      |                         |\n",
       "|        |              |                    |                      |         |             | as the print mate... |               |                      |                      |                      |               |                |                  |                      |                    |                      |            |              |                    |                 |                      |                         |\n",
       "+--------+--------------+--------------------+----------------------+---------+-------------+----------------------+---------------+----------------------+----------------------+----------------------+---------------+----------------+------------------+----------------------+--------------------+----------------------+------------+--------------+--------------------+-----------------+----------------------+-------------------------+\n",
       "|      8 |            4 | None               | 2016-01-12T18:57:48. |       0 | None        | For questions        |            11 | 2016-01-15T17:04:07. | None                 | None                 | None          |              0 | CC BY-SA 3.0     | 3dprinting.stackexch | 11                 | 2016-01-15T17:04:07. | None       | None         | None               | None            | None                 | None                    |\n",
       "|        |              |                    | 103                  |         |             | related to different |               | 180                  |                      |                      |               |                |                  | ange.com             |                    | 180                  |            |              |                    |                 |                      |                         |\n",
       "|        |              |                    |                      |         |             | filaments used as    |               |                      |                      |                      |               |                |                  |                      |                    |                      |            |              |                    |                 |                      |                         |\n",
       "|        |              |                    |                      |         |             | the ...              |               |                      |                      |                      |               |                |                  |                      |                    |                      |            |              |                    |                 |                      |                         |\n",
       "+--------+--------------+--------------------+----------------------+---------+-------------+----------------------+---------------+----------------------+----------------------+----------------------+---------------+----------------+------------------+----------------------+--------------------+----------------------+------------+--------------+--------------------+-----------------+----------------------+-------------------------+\n",
       "(Showing first 8 of 6490363 rows)"
      ]
     },
     "execution_count": 2,
     "metadata": {},
     "output_type": "execute_result"
    }
   ],
   "source": [
    "import daft\n",
    "\n",
    "df = daft.read_json(\"data/*.jsonl\")\n",
    "df.collect()"
   ]
  },
  {
   "attachments": {},
   "cell_type": "markdown",
   "id": "25ad32b9-5fa0-414e-8107-de70be663b74",
   "metadata": {},
   "source": [
    "Count the number of posts per site"
   ]
  },
  {
   "cell_type": "code",
   "execution_count": 3,
   "id": "7d202d6b-bedd-40ea-bcd7-9e01c1185d14",
   "metadata": {},
   "outputs": [
    {
     "data": {
      "text/html": [
       "<div>\n",
       "    <table class=\"dataframe\">\n",
       "<thead>\n",
       "<tr><th>site<br>Utf8                 </th><th style=\"text-align: right;\">  site_count<br>UInt64</th></tr>\n",
       "</thead>\n",
       "<tbody>\n",
       "<tr><td>askubuntu.com                </td><td style=\"text-align: right;\">                920821</td></tr>\n",
       "<tr><td>electronics.stackexchange.com</td><td style=\"text-align: right;\">                493128</td></tr>\n",
       "<tr><td>english.stackexchange.com    </td><td style=\"text-align: right;\">                415984</td></tr>\n",
       "<tr><td>es.stackoverflow.com         </td><td style=\"text-align: right;\">                399582</td></tr>\n",
       "<tr><td>apple.stackexchange.com      </td><td style=\"text-align: right;\">                312809</td></tr>\n",
       "<tr><td>gaming.stackexchange.com     </td><td style=\"text-align: right;\">                269357</td></tr>\n",
       "<tr><td>ell.stackexchange.com        </td><td style=\"text-align: right;\">                264967</td></tr>\n",
       "<tr><td>dba.stackexchange.com        </td><td style=\"text-align: right;\">                234877</td></tr>\n",
       "</tbody>\n",
       "</table>\n",
       "    <small>(Showing first 8 rows)</small>\n",
       "</div>"
      ],
      "text/plain": [
       "+----------------------+--------------+\n",
       "| site                 |   site_count |\n",
       "| Utf8                 |       UInt64 |\n",
       "+======================+==============+\n",
       "| askubuntu.com        |       920821 |\n",
       "+----------------------+--------------+\n",
       "| electronics.stackexc |       493128 |\n",
       "| hange.com            |              |\n",
       "+----------------------+--------------+\n",
       "| english.stackexchang |       415984 |\n",
       "| e.com                |              |\n",
       "+----------------------+--------------+\n",
       "| es.stackoverflow.com |       399582 |\n",
       "+----------------------+--------------+\n",
       "| apple.stackexchange. |       312809 |\n",
       "| com                  |              |\n",
       "+----------------------+--------------+\n",
       "| gaming.stackexchange |       269357 |\n",
       "| .com                 |              |\n",
       "+----------------------+--------------+\n",
       "| ell.stackexchange.co |       264967 |\n",
       "| m                    |              |\n",
       "+----------------------+--------------+\n",
       "| dba.stackexchange.co |       234877 |\n",
       "| m                    |              |\n",
       "+----------------------+--------------+\n",
       "(Showing first 8 rows)"
      ]
     },
     "execution_count": 3,
     "metadata": {},
     "output_type": "execute_result"
    }
   ],
   "source": [
    "site_counts = (df\n",
    "    .groupby(\"site\")\n",
    "    .agg([\n",
    "        (daft.col(\"site\").alias(\"site_count\"), \"count\")\n",
    "    ])\n",
    "    .sort(\n",
    "        \"site_count\",\n",
    "        desc=True,\n",
    "    )\n",
    ")\n",
    "site_counts.show()"
   ]
  },
  {
   "attachments": {},
   "cell_type": "markdown",
   "id": "02c2f5e9-eb20-4b9a-9ad1-c766b4ea593b",
   "metadata": {},
   "source": [
    "Keep only posts from the top 28 sites"
   ]
  },
  {
   "cell_type": "code",
   "execution_count": 4,
   "id": "8f24d8cd-e7ed-46da-94e7-9fe160282301",
   "metadata": {},
   "outputs": [
    {
     "data": {
      "text/html": [
       "<div>\n",
       "    <table class=\"dataframe\">\n",
       "<thead>\n",
       "<tr><th>site<br>Utf8                 </th><th style=\"text-align: right;\">  site_count<br>UInt64</th></tr>\n",
       "</thead>\n",
       "<tbody>\n",
       "<tr><td>askubuntu.com                </td><td style=\"text-align: right;\">                920821</td></tr>\n",
       "<tr><td>electronics.stackexchange.com</td><td style=\"text-align: right;\">                493128</td></tr>\n",
       "<tr><td>english.stackexchange.com    </td><td style=\"text-align: right;\">                415984</td></tr>\n",
       "<tr><td>es.stackoverflow.com         </td><td style=\"text-align: right;\">                399582</td></tr>\n",
       "<tr><td>apple.stackexchange.com      </td><td style=\"text-align: right;\">                312809</td></tr>\n",
       "<tr><td>gaming.stackexchange.com     </td><td style=\"text-align: right;\">                269357</td></tr>\n",
       "<tr><td>ell.stackexchange.com        </td><td style=\"text-align: right;\">                264967</td></tr>\n",
       "<tr><td>dba.stackexchange.com        </td><td style=\"text-align: right;\">                234877</td></tr>\n",
       "</tbody>\n",
       "</table>\n",
       "    <small>(Showing first 8 of 28 rows)</small>\n",
       "</div>"
      ],
      "text/plain": [
       "+----------------------+--------------+\n",
       "| site                 |   site_count |\n",
       "| Utf8                 |       UInt64 |\n",
       "+======================+==============+\n",
       "| askubuntu.com        |       920821 |\n",
       "+----------------------+--------------+\n",
       "| electronics.stackexc |       493128 |\n",
       "| hange.com            |              |\n",
       "+----------------------+--------------+\n",
       "| english.stackexchang |       415984 |\n",
       "| e.com                |              |\n",
       "+----------------------+--------------+\n",
       "| es.stackoverflow.com |       399582 |\n",
       "+----------------------+--------------+\n",
       "| apple.stackexchange. |       312809 |\n",
       "| com                  |              |\n",
       "+----------------------+--------------+\n",
       "| gaming.stackexchange |       269357 |\n",
       "| .com                 |              |\n",
       "+----------------------+--------------+\n",
       "| ell.stackexchange.co |       264967 |\n",
       "| m                    |              |\n",
       "+----------------------+--------------+\n",
       "| dba.stackexchange.co |       234877 |\n",
       "| m                    |              |\n",
       "+----------------------+--------------+\n",
       "(Showing first 8 of 28 rows)"
      ]
     },
     "execution_count": 4,
     "metadata": {},
     "output_type": "execute_result"
    }
   ],
   "source": [
    "sites = site_counts.limit(28)\n",
    "sites.collect()"
   ]
  },
  {
   "cell_type": "code",
   "execution_count": 5,
   "id": "b3b5bb43-7323-45ad-bd6b-e8af94d08346",
   "metadata": {},
   "outputs": [
    {
     "data": {
      "text/html": [
       "<div>\n",
       "    <table class=\"dataframe\">\n",
       "<thead>\n",
       "<tr><th style=\"text-align: right;\">  Id<br>Utf8</th><th>ParentId<br>Utf8  </th><th style=\"text-align: right;\">  Score<br>UInt64</th><th>Body<br>Utf8                                                                              </th><th>Title<br>Utf8                                                    </th><th>site<br>Utf8            </th></tr>\n",
       "</thead>\n",
       "<tbody>\n",
       "<tr><td style=\"text-align: right;\">           1</td><td>None              </td><td style=\"text-align: right;\">               12</td><td>&lt;p&gt;How can I change the default Apache Solr URL path from...                        </td><td>How can I change the Apache Solr search URL?                     </td><td>drupal.stackexchange.com</td></tr>\n",
       "<tr><td style=\"text-align: right;\">           2</td><td>None              </td><td style=\"text-align: right;\">               97</td><td>&lt;p&gt;How can I change a user&#x27;s password from the command li...                   </td><td>How can I change a user&#x27;s password from the command line ...</td><td>drupal.stackexchange.com</td></tr>\n",
       "<tr><td style=\"text-align: right;\">           3</td><td>None              </td><td style=\"text-align: right;\">               37</td><td>&lt;p&gt;In Drupal 7, the API documentation for &lt;code&gt;node_load...                  </td><td>What&#x27;s the proper way to use EntityFieldQuery?              </td><td>drupal.stackexchange.com</td></tr>\n",
       "<tr><td style=\"text-align: right;\">           4</td><td>1                 </td><td style=\"text-align: right;\">                4</td><td>&lt;p&gt;This should work if you place it in settings.php:&lt;/p&gt;\n",
       "...                                                                                           </td><td>None                                                             </td><td>drupal.stackexchange.com</td></tr>\n",
       "<tr><td style=\"text-align: right;\">           7</td><td>2                 </td><td style=\"text-align: right;\">               15</td><td>&lt;p&gt;If you are using Drush 4, you can use the user-passwor...                        </td><td>None                                                             </td><td>drupal.stackexchange.com</td></tr>\n",
       "<tr><td style=\"text-align: right;\">           8</td><td>2                 </td><td style=\"text-align: right;\">              139</td><td>&lt;p&gt;In Drush 9, the command is &lt;a href=&quot;https://drushcomma...                </td><td>None                                                             </td><td>drupal.stackexchange.com</td></tr>\n",
       "<tr><td style=\"text-align: right;\">           9</td><td>None              </td><td style=\"text-align: right;\">               80</td><td>&lt;p&gt;Basically, one of the greatest questions of all time: ...                        </td><td>Suggestions for settings.php - Local dev, Development ser...     </td><td>drupal.stackexchange.com</td></tr>\n",
       "<tr><td style=\"text-align: right;\">          10</td><td>None              </td><td style=\"text-align: right;\">                0</td><td>&lt;p&gt;&lt;strong&gt;Drush&lt;/strong&gt; (&lt;em&gt;DRUpal SHell&lt;/em&gt;) is a co...</td><td>None                                                             </td><td>drupal.stackexchange.com</td></tr>\n",
       "</tbody>\n",
       "</table>\n",
       "    <small>(Showing first 8 of 5638813 rows)</small>\n",
       "</div>"
      ],
      "text/plain": [
       "+--------+------------+----------+----------------------+----------------------+----------------------+\n",
       "|     Id | ParentId   |    Score | Body                 | Title                | site                 |\n",
       "|   Utf8 | Utf8       |   UInt64 | Utf8                 | Utf8                 | Utf8                 |\n",
       "+========+============+==========+======================+======================+======================+\n",
       "|      1 | None       |       12 | <p>How can I change  | How can I change the | drupal.stackexchange |\n",
       "|        |            |          | the default Apache   | Apache Solr search   | .com                 |\n",
       "|        |            |          | Solr URL path        | URL?                 |                      |\n",
       "|        |            |          | from...              |                      |                      |\n",
       "+--------+------------+----------+----------------------+----------------------+----------------------+\n",
       "|      2 | None       |       97 | <p>How can I change  | How can I change a   | drupal.stackexchange |\n",
       "|        |            |          | a user's password    | user's password from | .com                 |\n",
       "|        |            |          | from the command     | the command line ... |                      |\n",
       "|        |            |          | li...                |                      |                      |\n",
       "+--------+------------+----------+----------------------+----------------------+----------------------+\n",
       "|      3 | None       |       37 | <p>In Drupal 7, the  | What's the proper    | drupal.stackexchange |\n",
       "|        |            |          | API documentation    | way to use           | .com                 |\n",
       "|        |            |          | for                  | EntityFieldQuery?    |                      |\n",
       "|        |            |          | <code>node_load...   |                      |                      |\n",
       "+--------+------------+----------+----------------------+----------------------+----------------------+\n",
       "|      4 | 1          |        4 | <p>This should work  | None                 | drupal.stackexchange |\n",
       "|        |            |          | if you place it in   |                      | .com                 |\n",
       "|        |            |          | settings.php:</p>    |                      |                      |\n",
       "|        |            |          | ...                  |                      |                      |\n",
       "+--------+------------+----------+----------------------+----------------------+----------------------+\n",
       "|      7 | 2          |       15 | <p>If you are using  | None                 | drupal.stackexchange |\n",
       "|        |            |          | Drush 4, you can use |                      | .com                 |\n",
       "|        |            |          | the user-passwor...  |                      |                      |\n",
       "+--------+------------+----------+----------------------+----------------------+----------------------+\n",
       "|      8 | 2          |      139 | <p>In Drush 9, the   | None                 | drupal.stackexchange |\n",
       "|        |            |          | command is <a href=\" |                      | .com                 |\n",
       "|        |            |          | https://drushcomma.. |                      |                      |\n",
       "|        |            |          | .                    |                      |                      |\n",
       "+--------+------------+----------+----------------------+----------------------+----------------------+\n",
       "|      9 | None       |       80 | <p>Basically, one of | Suggestions for      | drupal.stackexchange |\n",
       "|        |            |          | the greatest         | settings.php - Local | .com                 |\n",
       "|        |            |          | questions of all     | dev, Development     |                      |\n",
       "|        |            |          | time: ...            | ser...               |                      |\n",
       "+--------+------------+----------+----------------------+----------------------+----------------------+\n",
       "|     10 | None       |        0 | <p><strong>Drush</st | None                 | drupal.stackexchange |\n",
       "|        |            |          | rong> (<em>DRUpal    |                      | .com                 |\n",
       "|        |            |          | SHell</em>) is a     |                      |                      |\n",
       "|        |            |          | co...                |                      |                      |\n",
       "+--------+------------+----------+----------------------+----------------------+----------------------+\n",
       "(Showing first 8 of 5638813 rows)"
      ]
     },
     "execution_count": 5,
     "metadata": {},
     "output_type": "execute_result"
    }
   ],
   "source": [
    "df = df.join(sites, on=\"site\")\n",
    "df = df.select(\n",
    "    \"Id\",\n",
    "    \"ParentId\",\n",
    "    df[\"Score\"].cast(daft.DataType.uint64()),\n",
    "    \"Body\",\n",
    "    \"Title\",\n",
    "    \"site\",\n",
    ")\n",
    "df.collect()"
   ]
  },
  {
   "attachments": {},
   "cell_type": "markdown",
   "id": "312a767b-aa17-4a29-ac76-ddd61900e5fe",
   "metadata": {},
   "source": [
    "## Clean up Data"
   ]
  },
  {
   "attachments": {},
   "cell_type": "markdown",
   "id": "926d026c-53cf-4ed9-865b-9974435b919c",
   "metadata": {},
   "source": [
    "Construct a Questions dataframe and an Answers dataframe"
   ]
  },
  {
   "cell_type": "code",
   "execution_count": 6,
   "id": "770b32b8-b976-4d84-b384-afb9d0d90170",
   "metadata": {},
   "outputs": [
    {
     "data": {
      "text/html": [
       "<div>\n",
       "    <table class=\"dataframe\">\n",
       "<thead>\n",
       "<tr><th style=\"text-align: right;\">  Id<br>Utf8</th><th>ParentId<br>Utf8  </th><th style=\"text-align: right;\">  Score<br>UInt64</th><th>Body<br>Utf8                                                            </th><th>Title<br>Utf8                                                    </th><th>site<br>Utf8            </th></tr>\n",
       "</thead>\n",
       "<tbody>\n",
       "<tr><td style=\"text-align: right;\">           1</td><td>None              </td><td style=\"text-align: right;\">               12</td><td>&lt;p&gt;How can I change the default Apache Solr URL path from...      </td><td>How can I change the Apache Solr search URL?                     </td><td>drupal.stackexchange.com</td></tr>\n",
       "<tr><td style=\"text-align: right;\">           2</td><td>None              </td><td style=\"text-align: right;\">               97</td><td>&lt;p&gt;How can I change a user&#x27;s password from the command li... </td><td>How can I change a user&#x27;s password from the command line ...</td><td>drupal.stackexchange.com</td></tr>\n",
       "<tr><td style=\"text-align: right;\">           3</td><td>None              </td><td style=\"text-align: right;\">               37</td><td>&lt;p&gt;In Drupal 7, the API documentation for &lt;code&gt;node_load...</td><td>What&#x27;s the proper way to use EntityFieldQuery?              </td><td>drupal.stackexchange.com</td></tr>\n",
       "<tr><td style=\"text-align: right;\">           9</td><td>None              </td><td style=\"text-align: right;\">               80</td><td>&lt;p&gt;Basically, one of the greatest questions of all time: ...      </td><td>Suggestions for settings.php - Local dev, Development ser...     </td><td>drupal.stackexchange.com</td></tr>\n",
       "<tr><td style=\"text-align: right;\">          13</td><td>None              </td><td style=\"text-align: right;\">                6</td><td>&lt;p&gt;What are some of the biggest differences between Drush...      </td><td>What are the major differences between Drush versions 3 &amp; 4? </td><td>drupal.stackexchange.com</td></tr>\n",
       "<tr><td style=\"text-align: right;\">          16</td><td>None              </td><td style=\"text-align: right;\">               89</td><td>&lt;p&gt;How can I take a site offline using Drush?&lt;/p&gt;           </td><td>How to take a site offline using Drush?                          </td><td>drupal.stackexchange.com</td></tr>\n",
       "<tr><td style=\"text-align: right;\">          22</td><td>None              </td><td style=\"text-align: right;\">               93</td><td>&lt;p&gt;Does having Drupal modules present, but not enabled ha...      </td><td>Do non-enabled modules affect performance?                       </td><td>drupal.stackexchange.com</td></tr>\n",
       "<tr><td style=\"text-align: right;\">          24</td><td>None              </td><td style=\"text-align: right;\">                9</td><td>&lt;p&gt;I&#x27;m building a plugin using the WYSIWYG API module for... </td><td>How do you load extra javascript files required for wysiw...     </td><td>drupal.stackexchange.com</td></tr>\n",
       "</tbody>\n",
       "</table>\n",
       "    <small>(Showing first 8 of 2227266 rows)</small>\n",
       "</div>"
      ],
      "text/plain": [
       "+--------+------------+----------+----------------------+----------------------+----------------------+\n",
       "|     Id | ParentId   |    Score | Body                 | Title                | site                 |\n",
       "|   Utf8 | Utf8       |   UInt64 | Utf8                 | Utf8                 | Utf8                 |\n",
       "+========+============+==========+======================+======================+======================+\n",
       "|      1 | None       |       12 | <p>How can I change  | How can I change the | drupal.stackexchange |\n",
       "|        |            |          | the default Apache   | Apache Solr search   | .com                 |\n",
       "|        |            |          | Solr URL path        | URL?                 |                      |\n",
       "|        |            |          | from...              |                      |                      |\n",
       "+--------+------------+----------+----------------------+----------------------+----------------------+\n",
       "|      2 | None       |       97 | <p>How can I change  | How can I change a   | drupal.stackexchange |\n",
       "|        |            |          | a user's password    | user's password from | .com                 |\n",
       "|        |            |          | from the command     | the command line ... |                      |\n",
       "|        |            |          | li...                |                      |                      |\n",
       "+--------+------------+----------+----------------------+----------------------+----------------------+\n",
       "|      3 | None       |       37 | <p>In Drupal 7, the  | What's the proper    | drupal.stackexchange |\n",
       "|        |            |          | API documentation    | way to use           | .com                 |\n",
       "|        |            |          | for                  | EntityFieldQuery?    |                      |\n",
       "|        |            |          | <code>node_load...   |                      |                      |\n",
       "+--------+------------+----------+----------------------+----------------------+----------------------+\n",
       "|      9 | None       |       80 | <p>Basically, one of | Suggestions for      | drupal.stackexchange |\n",
       "|        |            |          | the greatest         | settings.php - Local | .com                 |\n",
       "|        |            |          | questions of all     | dev, Development     |                      |\n",
       "|        |            |          | time: ...            | ser...               |                      |\n",
       "+--------+------------+----------+----------------------+----------------------+----------------------+\n",
       "|     13 | None       |        6 | <p>What are some of  | What are the major   | drupal.stackexchange |\n",
       "|        |            |          | the biggest          | differences between  | .com                 |\n",
       "|        |            |          | differences between  | Drush versions 3 &   |                      |\n",
       "|        |            |          | Drush...             | 4?                   |                      |\n",
       "+--------+------------+----------+----------------------+----------------------+----------------------+\n",
       "|     16 | None       |       89 | <p>How can I take a  | How to take a site   | drupal.stackexchange |\n",
       "|        |            |          | site offline using   | offline using Drush? | .com                 |\n",
       "|        |            |          | Drush?</p>           |                      |                      |\n",
       "+--------+------------+----------+----------------------+----------------------+----------------------+\n",
       "|     22 | None       |       93 | <p>Does having       | Do non-enabled       | drupal.stackexchange |\n",
       "|        |            |          | Drupal modules       | modules affect       | .com                 |\n",
       "|        |            |          | present, but not     | performance?         |                      |\n",
       "|        |            |          | enabled ha...        |                      |                      |\n",
       "+--------+------------+----------+----------------------+----------------------+----------------------+\n",
       "|     24 | None       |        9 | <p>I'm building a    | How do you load      | drupal.stackexchange |\n",
       "|        |            |          | plugin using the     | extra javascript     | .com                 |\n",
       "|        |            |          | WYSIWYG API module   | files required for   |                      |\n",
       "|        |            |          | for...               | wysiw...             |                      |\n",
       "+--------+------------+----------+----------------------+----------------------+----------------------+\n",
       "(Showing first 8 of 2227266 rows)"
      ]
     },
     "execution_count": 6,
     "metadata": {},
     "output_type": "execute_result"
    }
   ],
   "source": [
    "questions_df = df.where(df[\"ParentId\"].is_null() & ~df[\"Title\"].is_null())\n",
    "questions_df.collect()"
   ]
  },
  {
   "attachments": {},
   "cell_type": "markdown",
   "id": "a47960dc-c155-4b65-b0d8-b67fd40d1b20",
   "metadata": {},
   "source": [
    "Sort answers dataframe by the Question and the Score of the answer"
   ]
  },
  {
   "cell_type": "code",
   "execution_count": 7,
   "id": "357ec873-64d6-4d1b-93c2-7a15898311a5",
   "metadata": {},
   "outputs": [
    {
     "data": {
      "text/html": [
       "<div>\n",
       "    <table class=\"dataframe\">\n",
       "<thead>\n",
       "<tr><th style=\"text-align: right;\">  Id<br>Utf8</th><th style=\"text-align: right;\">  ParentId<br>Utf8</th><th style=\"text-align: right;\">  Score<br>UInt64</th><th>Body<br>Utf8                                                                   </th><th>Title<br>Utf8  </th><th>site<br>Utf8              </th></tr>\n",
       "</thead>\n",
       "<tbody>\n",
       "<tr><td style=\"text-align: right;\">     1000027</td><td style=\"text-align: right;\">            999999</td><td style=\"text-align: right;\">               40</td><td>&lt;p&gt;I solved the problem this way:&lt;/p&gt;\n",
       "\n",
       "&lt;p&gt;&lt;code&gt;sudo apt-...                                                                                </td><td>None           </td><td>askubuntu.com             </td></tr>\n",
       "<tr><td style=\"text-align: right;\">     1001329</td><td style=\"text-align: right;\">            999997</td><td style=\"text-align: right;\">                0</td><td>&lt;p&gt;Found, how to fix that.\n",
       "I have to intall the latest ve...                                                                                </td><td>None           </td><td>askubuntu.com             </td></tr>\n",
       "<tr><td style=\"text-align: right;\">     1000000</td><td style=\"text-align: right;\">            999997</td><td style=\"text-align: right;\">                0</td><td>&lt;p&gt;I remember having similar issues when switching betwee...             </td><td>None           </td><td>askubuntu.com             </td></tr>\n",
       "<tr><td style=\"text-align: right;\">      100012</td><td style=\"text-align: right;\">             99999</td><td style=\"text-align: right;\">               76</td><td>&lt;p&gt;&lt;strong&gt;Don&#x27;t walk. Run.&lt;/strong&gt;&lt;/p&gt;\n",
       "\n",
       "&lt;p&gt;Your advisor...                                                                                </td><td>None           </td><td>academia.stackexchange.com</td></tr>\n",
       "<tr><td style=\"text-align: right;\">      100006</td><td style=\"text-align: right;\">             99999</td><td style=\"text-align: right;\">                5</td><td>&lt;p&gt;Yo lo que suelo hacer cuando tengo una función que sac...             </td><td>None           </td><td>es.stackoverflow.com      </td></tr>\n",
       "<tr><td style=\"text-align: right;\">      100015</td><td style=\"text-align: right;\">             99999</td><td style=\"text-align: right;\">                2</td><td>&lt;p&gt;I have had success with 5 minute epoxy. The epoxy bond...             </td><td>None           </td><td>diy.stackexchange.com     </td></tr>\n",
       "<tr><td style=\"text-align: right;\">      100001</td><td style=\"text-align: right;\">             99999</td><td style=\"text-align: right;\">                2</td><td>&lt;p&gt;Well, a possible loop invariant is &quot;&lt;span class=&quot;math-...</td><td>None           </td><td>cs.stackexchange.com      </td></tr>\n",
       "<tr><td style=\"text-align: right;\">      100007</td><td style=\"text-align: right;\">             99999</td><td style=\"text-align: right;\">                1</td><td>&lt;p&gt;The &lt;a href=&quot;https://www.blockchain.com/btc/address/1C...     </td><td>None           </td><td>bitcoin.stackexchange.com </td></tr>\n",
       "</tbody>\n",
       "</table>\n",
       "    <small>(Showing first 8 of 3263503 rows)</small>\n",
       "</div>"
      ],
      "text/plain": [
       "+---------+------------+----------+----------------------+---------+----------------------+\n",
       "|      Id |   ParentId |    Score | Body                 | Title   | site                 |\n",
       "|    Utf8 |       Utf8 |   UInt64 | Utf8                 | Utf8    | Utf8                 |\n",
       "+=========+============+==========+======================+=========+======================+\n",
       "| 1000027 |     999999 |       40 | <p>I solved the      | None    | askubuntu.com        |\n",
       "|         |            |          | problem this         |         |                      |\n",
       "|         |            |          | way:</p>             |         |                      |\n",
       "|         |            |          | <p><code>sudo        |         |                      |\n",
       "|         |            |          | apt-...              |         |                      |\n",
       "+---------+------------+----------+----------------------+---------+----------------------+\n",
       "| 1001329 |     999997 |        0 | <p>Found, how to fix | None    | askubuntu.com        |\n",
       "|         |            |          | that. I have to      |         |                      |\n",
       "|         |            |          | intall the latest    |         |                      |\n",
       "|         |            |          | ve...                |         |                      |\n",
       "+---------+------------+----------+----------------------+---------+----------------------+\n",
       "| 1000000 |     999997 |        0 | <p>I remember having | None    | askubuntu.com        |\n",
       "|         |            |          | similar issues when  |         |                      |\n",
       "|         |            |          | switching betwee...  |         |                      |\n",
       "+---------+------------+----------+----------------------+---------+----------------------+\n",
       "|  100012 |      99999 |       76 | <p><strong>Don't     | None    | academia.stackexchan |\n",
       "|         |            |          | walk.                |         | ge.com               |\n",
       "|         |            |          | Run.</strong></p>    |         |                      |\n",
       "|         |            |          | <p>Your advisor...   |         |                      |\n",
       "+---------+------------+----------+----------------------+---------+----------------------+\n",
       "|  100006 |      99999 |        5 | <p>Yo lo que suelo   | None    | es.stackoverflow.com |\n",
       "|         |            |          | hacer cuando tengo   |         |                      |\n",
       "|         |            |          | una función que      |         |                      |\n",
       "|         |            |          | sac...               |         |                      |\n",
       "+---------+------------+----------+----------------------+---------+----------------------+\n",
       "|  100015 |      99999 |        2 | <p>I have had        | None    | diy.stackexchange.co |\n",
       "|         |            |          | success with 5       |         | m                    |\n",
       "|         |            |          | minute epoxy. The    |         |                      |\n",
       "|         |            |          | epoxy bond...        |         |                      |\n",
       "+---------+------------+----------+----------------------+---------+----------------------+\n",
       "|  100001 |      99999 |        2 | <p>Well, a possible  | None    | cs.stackexchange.com |\n",
       "|         |            |          | loop invariant is    |         |                      |\n",
       "|         |            |          | \"<span               |         |                      |\n",
       "|         |            |          | class=\"math-...      |         |                      |\n",
       "+---------+------------+----------+----------------------+---------+----------------------+\n",
       "|  100007 |      99999 |        1 | <p>The <a href=\"http | None    | bitcoin.stackexchang |\n",
       "|         |            |          | s://www.blockchain.c |         | e.com                |\n",
       "|         |            |          | om/btc/address/1C... |         |                      |\n",
       "+---------+------------+----------+----------------------+---------+----------------------+\n",
       "(Showing first 8 of 3263503 rows)"
      ]
     },
     "execution_count": 7,
     "metadata": {},
     "output_type": "execute_result"
    }
   ],
   "source": [
    "answers_df = df.where(~df[\"ParentId\"].is_null())\n",
    "answers_df = answers_df.where(~df[\"Score\"].is_null())\n",
    "answers_df = answers_df.sort([\"ParentId\", \"Score\"], desc=True)\n",
    "answers_df.collect()"
   ]
  },
  {
   "attachments": {},
   "cell_type": "markdown",
   "id": "202f7ff1-ba54-4c3a-b9e4-3466605e4a7a",
   "metadata": {},
   "source": [
    "## Join Answers with Questions\n",
    "\n",
    "1. Sort the answers by score\n",
    "2. Compute a `list` of answers for each question, sorted by score!"
   ]
  },
  {
   "cell_type": "code",
   "execution_count": 8,
   "id": "4f812ee0-7a30-4cab-bd76-5be0aa69b71f",
   "metadata": {},
   "outputs": [],
   "source": [
    "answers_df = answers_df.groupby(\"site\", \"ParentId\").agg([\n",
    "    (\"Body\", \"list\"),\n",
    "    (\"Score\", \"list\"),\n",
    "])"
   ]
  },
  {
   "cell_type": "code",
   "execution_count": 9,
   "id": "e9436914-f6ea-443d-8af7-afd7258aaef0",
   "metadata": {},
   "outputs": [
    {
     "data": {
      "text/html": [
       "<div>\n",
       "    <table class=\"dataframe\">\n",
       "<thead>\n",
       "<tr><th>site<br>Utf8                 </th><th style=\"text-align: right;\">  ParentId<br>Utf8</th><th>Body<br>List[Body:_local_list:Utf8]                                                                    </th><th>Score<br>List[Score:_local_list:UInt64]  </th></tr>\n",
       "</thead>\n",
       "<tbody>\n",
       "<tr><td>english.stackexchange.com    </td><td style=\"text-align: right;\">             63673</td><td>[&#x27;&lt;p&gt;While I agree with @andrewdotnich that I\\&#x27;d probably...                           </td><td>[5, 2]                                   </td></tr>\n",
       "<tr><td>electronics.stackexchange.com</td><td style=\"text-align: right;\">            467994</td><td>[&#x27;&lt;p&gt;In the world of scales multiple load cells are simpl...                                </td><td>[1]                                      </td></tr>\n",
       "<tr><td>askubuntu.com                </td><td style=\"text-align: right;\">            303238</td><td>[&#x27;&lt;p&gt;Thers is a very easy way to do so for any and all pr...                                </td><td>[1, 0]                                   </td></tr>\n",
       "<tr><td>ell.stackexchange.com        </td><td style=\"text-align: right;\">            273625</td><td>[&#x27;&lt;p&gt;This construction is regarded as informal. It actual...                                </td><td>[3, 3]                                   </td></tr>\n",
       "<tr><td>ell.stackexchange.com        </td><td style=\"text-align: right;\">             91824</td><td>[&#x27;&lt;p&gt;This is the correct way to say it, if you really wan...                                </td><td>[1]                                      </td></tr>\n",
       "<tr><td>academia.stackexchange.com   </td><td style=\"text-align: right;\">             51762</td><td>[&quot;&lt;p&gt;The editor, who selects the reviewers, may not be fa...                                </td><td>[2]                                      </td></tr>\n",
       "<tr><td>dsp.stackexchange.com        </td><td style=\"text-align: right;\">             72937</td><td>[&#x27;&lt;p&gt;&lt;strong&gt;HINT:&lt;/strong&gt;&lt;/p&gt;\\n&lt;p&gt;&lt;span class=&quot;math-con...</td><td>[1]                                      </td></tr>\n",
       "<tr><td>es.stackoverflow.com         </td><td style=\"text-align: right;\">            131181</td><td>[&#x27;&lt;p&gt;Puedes utilizar &lt;code&gt;array_unique()&lt;/code&gt;&lt;/p&gt;\\n\\n&lt;...           </td><td>[1]                                      </td></tr>\n",
       "</tbody>\n",
       "</table>\n",
       "    <small>(Showing first 8 of 1840734 rows)</small>\n",
       "</div>"
      ],
      "text/plain": [
       "+----------------------+------------+-------------------------------+----------------------------------+\n",
       "| site                 |   ParentId | Body                          | Score                            |\n",
       "| Utf8                 |       Utf8 | List[Body:_local_list:Utf8]   | List[Score:_local_list:UInt64]   |\n",
       "+======================+============+===============================+==================================+\n",
       "| english.stackexchang |      63673 | ['<p>While I agree            | [5, 2]                           |\n",
       "| e.com                |            | with @andrewdotnich           |                                  |\n",
       "|                      |            | that I\\'d                     |                                  |\n",
       "|                      |            | probably...                   |                                  |\n",
       "+----------------------+------------+-------------------------------+----------------------------------+\n",
       "| electronics.stackexc |     467994 | ['<p>In the world of          | [1]                              |\n",
       "| hange.com            |            | scales multiple load          |                                  |\n",
       "|                      |            | cells are simpl...            |                                  |\n",
       "+----------------------+------------+-------------------------------+----------------------------------+\n",
       "| askubuntu.com        |     303238 | ['<p>Thers is a very          | [1, 0]                           |\n",
       "|                      |            | easy way to do so             |                                  |\n",
       "|                      |            | for any and all               |                                  |\n",
       "|                      |            | pr...                         |                                  |\n",
       "+----------------------+------------+-------------------------------+----------------------------------+\n",
       "| ell.stackexchange.co |     273625 | ['<p>This                     | [3, 3]                           |\n",
       "| m                    |            | construction is               |                                  |\n",
       "|                      |            | regarded as                   |                                  |\n",
       "|                      |            | informal. It                  |                                  |\n",
       "|                      |            | actual...                     |                                  |\n",
       "+----------------------+------------+-------------------------------+----------------------------------+\n",
       "| ell.stackexchange.co |      91824 | ['<p>This is the              | [1]                              |\n",
       "| m                    |            | correct way to say            |                                  |\n",
       "|                      |            | it, if you really             |                                  |\n",
       "|                      |            | wan...                        |                                  |\n",
       "+----------------------+------------+-------------------------------+----------------------------------+\n",
       "| academia.stackexchan |      51762 | [\"<p>The editor, who          | [2]                              |\n",
       "| ge.com               |            | selects the                   |                                  |\n",
       "|                      |            | reviewers, may not            |                                  |\n",
       "|                      |            | be fa...                      |                                  |\n",
       "+----------------------+------------+-------------------------------+----------------------------------+\n",
       "| dsp.stackexchange.co |      72937 | ['<p><strong>HINT:</          | [1]                              |\n",
       "| m                    |            | strong></p>\\n<p><spa          |                                  |\n",
       "|                      |            | n class=\"math-con...          |                                  |\n",
       "+----------------------+------------+-------------------------------+----------------------------------+\n",
       "| es.stackoverflow.com |     131181 | ['<p>Puedes utilizar          | [1]                              |\n",
       "|                      |            | <code>array_unique()          |                                  |\n",
       "|                      |            | </code></p>\\n\\n<...           |                                  |\n",
       "+----------------------+------------+-------------------------------+----------------------------------+\n",
       "(Showing first 8 of 1840734 rows)"
      ]
     },
     "execution_count": 9,
     "metadata": {},
     "output_type": "execute_result"
    }
   ],
   "source": [
    "answers_df.collect()"
   ]
  },
  {
   "cell_type": "code",
   "execution_count": 10,
   "id": "586dface-5e1b-4ef1-bdc3-5cae3b72fd97",
   "metadata": {
    "scrolled": true
   },
   "outputs": [
    {
     "data": {
      "text/html": [
       "<div>\n",
       "    <table class=\"dataframe\">\n",
       "<thead>\n",
       "<tr><th style=\"text-align: right;\">  question_id<br>Utf8</th><th>question_title<br>Utf8                                    </th><th>question_body<br>Utf8                                                     </th><th>answers_ordered<br>List[Body:_local_list:Utf8]                                  </th></tr>\n",
       "</thead>\n",
       "<tbody>\n",
       "<tr><td style=\"text-align: right;\">                   73</td><td>Custom query in Views?                                    </td><td>&lt;p&gt;At some point I found the need to modify an SQL query ...        </td><td>[&#x27;&lt;p&gt;You can also use &lt;code&gt;hook_views_query_alter()&lt;/cod...</td></tr>\n",
       "<tr><td style=\"text-align: right;\">                   76</td><td>Running Drupal in a Windows environment (IIS, SQL Server)?</td><td>&lt;p&gt;We are in the process of evaluating Drupal to replace ...        </td><td>[&#x27;&lt;p&gt;Easiest way is to use the Microsoft Web Platform Ins...         </td></tr>\n",
       "<tr><td style=\"text-align: right;\">                  126</td><td>Any way to add CSS for a single page/node?                </td><td>&lt;p&gt;I&#x27;m cleaning up my big crazy style sheets (possibly pe...   </td><td>[&#x27;&lt;p&gt;This is the sort of thing that I\\&#x27;d do by code, but ...    </td></tr>\n",
       "<tr><td style=\"text-align: right;\">                  234</td><td>Site stuck in maintenance mode                            </td><td>&lt;p&gt;I have put a site in maintenance mode. Before I could ...        </td><td>[&#x27;&lt;p&gt;You should be able to log in by going to &lt;a href=&quot;ht... </td></tr>\n",
       "<tr><td style=\"text-align: right;\">                  371</td><td>Programmatically insert webform result                    </td><td>&lt;p&gt;I&#x27;m using drupal 6 with the webform module installed.&lt;...</td><td>[&#x27;&lt;p&gt;Have you tried using PHP to manually send the POST d...         </td></tr>\n",
       "<tr><td style=\"text-align: right;\">                  893</td><td>Change $&lt;field_name&gt;_rendered output?               </td><td>&lt;p&gt;In a node I get the values of CCK fields as $ array or...        </td><td>[&#x27;&lt;p&gt;The &lt;a href=&quot;https://www.drupal.org/project/custom_f... </td></tr>\n",
       "<tr><td style=\"text-align: right;\">                 1283</td><td>Creating a View filter for a CCK field                    </td><td>&lt;p&gt;I have created a custom filter which displays some sel...        </td><td>[&#x27;&lt;p&gt;To find out what is missing, implement &lt;code&gt;hook_vi...   </td></tr>\n",
       "<tr><td style=\"text-align: right;\">                 2050</td><td>Best practice for building modules using classes          </td><td>&lt;p&gt;I&#x27;m looking to start building my modules as classes no...   </td><td>[&#x27;&lt;p&gt;&lt;a href=&quot;http://groups.drupal.org/node/20728#comment... </td></tr>\n",
       "</tbody>\n",
       "</table>\n",
       "    <small>(Showing first 8 of 1840734 rows)</small>\n",
       "</div>"
      ],
      "text/plain": [
       "+---------------+----------------------+----------------------+-------------------------------+\n",
       "|   question_id | question_title       | question_body        | answers_ordered               |\n",
       "|          Utf8 | Utf8                 | Utf8                 | List[Body:_local_list:Utf8]   |\n",
       "+===============+======================+======================+===============================+\n",
       "|            73 | Custom query in      | <p>At some point I   | ['<p>You can also             |\n",
       "|               | Views?               | found the need to    | use <code>hook_views          |\n",
       "|               |                      | modify an SQL query  | _query_alter()</cod.          |\n",
       "|               |                      | ...                  | ..                            |\n",
       "+---------------+----------------------+----------------------+-------------------------------+\n",
       "|            76 | Running Drupal in a  | <p>We are in the     | ['<p>Easiest way is           |\n",
       "|               | Windows environment  | process of           | to use the Microsoft          |\n",
       "|               | (IIS, SQL Server)?   | evaluating Drupal to | Web Platform Ins...           |\n",
       "|               |                      | replace ...          |                               |\n",
       "+---------------+----------------------+----------------------+-------------------------------+\n",
       "|           126 | Any way to add CSS   | <p>I'm cleaning up   | ['<p>This is the              |\n",
       "|               | for a single         | my big crazy style   | sort of thing that            |\n",
       "|               | page/node?           | sheets (possibly     | I\\'d do by code, but          |\n",
       "|               |                      | pe...                | ...                           |\n",
       "+---------------+----------------------+----------------------+-------------------------------+\n",
       "|           234 | Site stuck in        | <p>I have put a site | ['<p>You should be            |\n",
       "|               | maintenance mode     | in maintenance mode. | able to log in by             |\n",
       "|               |                      | Before I could ...   | going to <a                   |\n",
       "|               |                      |                      | href=\"ht...                   |\n",
       "+---------------+----------------------+----------------------+-------------------------------+\n",
       "|           371 | Programmatically     | <p>I'm using drupal  | ['<p>Have you tried           |\n",
       "|               | insert webform       | 6 with the webform   | using PHP to                  |\n",
       "|               | result               | module               | manually send the             |\n",
       "|               |                      | installed.<...       | POST d...                     |\n",
       "+---------------+----------------------+----------------------+-------------------------------+\n",
       "|           893 | Change $<field_name> | <p>In a node I get   | ['<p>The <a href=\"ht          |\n",
       "|               | _rendered output?    | the values of CCK    | tps://www.drupal.org          |\n",
       "|               |                      | fields as $ array    | /project/custom_f...          |\n",
       "|               |                      | or...                |                               |\n",
       "+---------------+----------------------+----------------------+-------------------------------+\n",
       "|          1283 | Creating a View      | <p>I have created a  | ['<p>To find out              |\n",
       "|               | filter for a CCK     | custom filter which  | what is missing,              |\n",
       "|               | field                | displays some sel... | implement                     |\n",
       "|               |                      |                      | <code>hook_vi...              |\n",
       "+---------------+----------------------+----------------------+-------------------------------+\n",
       "|          2050 | Best practice for    | <p>I'm looking to    | ['<p><a href=\"http:/          |\n",
       "|               | building modules     | start building my    | /groups.drupal.org/n          |\n",
       "|               | using classes        | modules as classes   | ode/20728#comment...          |\n",
       "|               |                      | no...                |                               |\n",
       "+---------------+----------------------+----------------------+-------------------------------+\n",
       "(Showing first 8 of 1840734 rows)"
      ]
     },
     "execution_count": 10,
     "metadata": {},
     "output_type": "execute_result"
    }
   ],
   "source": [
    "joined_df = answers_df.join(questions_df, left_on=[\"site\", \"ParentId\"], right_on=[\"site\", \"Id\"])\n",
    "joined_df = joined_df.select(\n",
    "    joined_df[\"Id\"].alias(\"question_id\"),\n",
    "    joined_df[\"Title\"].alias(\"question_title\"),\n",
    "    joined_df[\"right.Body\"].alias(\"question_body\"),\n",
    "    joined_df[\"Body\"].alias(\"answers_ordered\"),\n",
    ")\n",
    "joined_df.collect()"
   ]
  },
  {
   "attachments": {},
   "cell_type": "markdown",
   "id": "c1ac29fc-bb09-46b6-bc0f-35123bf4ea6e",
   "metadata": {},
   "source": [
    "## Post-Processing\n",
    "\n",
    "1. Correctly format the \"text\" column to our \"Q:/A:/A:...\" format\n",
    "2. Infer the language of each entry!"
   ]
  },
  {
   "cell_type": "code",
   "execution_count": 11,
   "id": "61850a53-1b6f-483d-bc28-023ec1a96f96",
   "metadata": {},
   "outputs": [],
   "source": [
    "prefixed_joined_answers = daft.lit(\"A: \") + joined_df[\"answers_ordered\"].list.join(\"\\nA: \")\n",
    "prefixed_question = daft.lit(\"Q: \") + joined_df[\"question_body\"]\n",
    "\n",
    "text_df = joined_df.with_column(\n",
    "    \"text\",\n",
    "    prefixed_question + daft.lit(\"\\n\") + prefixed_joined_answers\n",
    ")"
   ]
  },
  {
   "cell_type": "code",
   "execution_count": 12,
   "id": "1dde53d1-9a6b-4ce2-9d7b-7c935bf85f23",
   "metadata": {},
   "outputs": [
    {
     "data": {
      "text/html": [
       "<div>\n",
       "    <table class=\"dataframe\">\n",
       "<thead>\n",
       "<tr><th style=\"text-align: right;\">  question_id<br>Utf8</th><th>question_title<br>Utf8                                    </th><th>question_body<br>Utf8                                                     </th><th>answers_ordered<br>List[Body:_local_list:Utf8]                                  </th><th>text<br>Utf8                                                           </th></tr>\n",
       "</thead>\n",
       "<tbody>\n",
       "<tr><td style=\"text-align: right;\">                   73</td><td>Custom query in Views?                                    </td><td>&lt;p&gt;At some point I found the need to modify an SQL query ...        </td><td>[&#x27;&lt;p&gt;You can also use &lt;code&gt;hook_views_query_alter()&lt;/cod...</td><td>Q: &lt;p&gt;At some point I found the need to modify an SQL que...     </td></tr>\n",
       "<tr><td style=\"text-align: right;\">                   76</td><td>Running Drupal in a Windows environment (IIS, SQL Server)?</td><td>&lt;p&gt;We are in the process of evaluating Drupal to replace ...        </td><td>[&#x27;&lt;p&gt;Easiest way is to use the Microsoft Web Platform Ins...         </td><td>Q: &lt;p&gt;We are in the process of evaluating Drupal to repla...     </td></tr>\n",
       "<tr><td style=\"text-align: right;\">                  126</td><td>Any way to add CSS for a single page/node?                </td><td>&lt;p&gt;I&#x27;m cleaning up my big crazy style sheets (possibly pe...   </td><td>[&#x27;&lt;p&gt;This is the sort of thing that I\\&#x27;d do by code, but ...    </td><td>Q: &lt;p&gt;I&#x27;m cleaning up my big crazy style sheets (possibly...</td></tr>\n",
       "<tr><td style=\"text-align: right;\">                  234</td><td>Site stuck in maintenance mode                            </td><td>&lt;p&gt;I have put a site in maintenance mode. Before I could ...        </td><td>[&#x27;&lt;p&gt;You should be able to log in by going to &lt;a href=&quot;ht... </td><td>Q: &lt;p&gt;I have put a site in maintenance mode. Before I cou...     </td></tr>\n",
       "<tr><td style=\"text-align: right;\">                  371</td><td>Programmatically insert webform result                    </td><td>&lt;p&gt;I&#x27;m using drupal 6 with the webform module installed.&lt;...</td><td>[&#x27;&lt;p&gt;Have you tried using PHP to manually send the POST d...         </td><td>Q: &lt;p&gt;I&#x27;m using drupal 6 with the webform module installe...</td></tr>\n",
       "<tr><td style=\"text-align: right;\">                  893</td><td>Change $&lt;field_name&gt;_rendered output?               </td><td>&lt;p&gt;In a node I get the values of CCK fields as $ array or...        </td><td>[&#x27;&lt;p&gt;The &lt;a href=&quot;https://www.drupal.org/project/custom_f... </td><td>Q: &lt;p&gt;In a node I get the values of CCK fields as $ array...     </td></tr>\n",
       "<tr><td style=\"text-align: right;\">                 1283</td><td>Creating a View filter for a CCK field                    </td><td>&lt;p&gt;I have created a custom filter which displays some sel...        </td><td>[&#x27;&lt;p&gt;To find out what is missing, implement &lt;code&gt;hook_vi...   </td><td>Q: &lt;p&gt;I have created a custom filter which displays some ...     </td></tr>\n",
       "<tr><td style=\"text-align: right;\">                 2050</td><td>Best practice for building modules using classes          </td><td>&lt;p&gt;I&#x27;m looking to start building my modules as classes no...   </td><td>[&#x27;&lt;p&gt;&lt;a href=&quot;http://groups.drupal.org/node/20728#comment... </td><td>Q: &lt;p&gt;I&#x27;m looking to start building my modules as classes...</td></tr>\n",
       "</tbody>\n",
       "</table>\n",
       "    <small>(Showing first 8 rows)</small>\n",
       "</div>"
      ],
      "text/plain": [
       "+---------------+----------------------+----------------------+-------------------------------+----------------------+\n",
       "|   question_id | question_title       | question_body        | answers_ordered               | text                 |\n",
       "|          Utf8 | Utf8                 | Utf8                 | List[Body:_local_list:Utf8]   | Utf8                 |\n",
       "+===============+======================+======================+===============================+======================+\n",
       "|            73 | Custom query in      | <p>At some point I   | ['<p>You can also             | Q: <p>At some point  |\n",
       "|               | Views?               | found the need to    | use <code>hook_views          | I found the need to  |\n",
       "|               |                      | modify an SQL query  | _query_alter()</cod.          | modify an SQL que... |\n",
       "|               |                      | ...                  | ..                            |                      |\n",
       "+---------------+----------------------+----------------------+-------------------------------+----------------------+\n",
       "|            76 | Running Drupal in a  | <p>We are in the     | ['<p>Easiest way is           | Q: <p>We are in the  |\n",
       "|               | Windows environment  | process of           | to use the Microsoft          | process of           |\n",
       "|               | (IIS, SQL Server)?   | evaluating Drupal to | Web Platform Ins...           | evaluating Drupal to |\n",
       "|               |                      | replace ...          |                               | repla...             |\n",
       "+---------------+----------------------+----------------------+-------------------------------+----------------------+\n",
       "|           126 | Any way to add CSS   | <p>I'm cleaning up   | ['<p>This is the              | Q: <p>I'm cleaning   |\n",
       "|               | for a single         | my big crazy style   | sort of thing that            | up my big crazy      |\n",
       "|               | page/node?           | sheets (possibly     | I\\'d do by code, but          | style sheets         |\n",
       "|               |                      | pe...                | ...                           | (possibly...         |\n",
       "+---------------+----------------------+----------------------+-------------------------------+----------------------+\n",
       "|           234 | Site stuck in        | <p>I have put a site | ['<p>You should be            | Q: <p>I have put a   |\n",
       "|               | maintenance mode     | in maintenance mode. | able to log in by             | site in maintenance  |\n",
       "|               |                      | Before I could ...   | going to <a                   | mode. Before I       |\n",
       "|               |                      |                      | href=\"ht...                   | cou...               |\n",
       "+---------------+----------------------+----------------------+-------------------------------+----------------------+\n",
       "|           371 | Programmatically     | <p>I'm using drupal  | ['<p>Have you tried           | Q: <p>I'm using      |\n",
       "|               | insert webform       | 6 with the webform   | using PHP to                  | drupal 6 with the    |\n",
       "|               | result               | module               | manually send the             | webform module       |\n",
       "|               |                      | installed.<...       | POST d...                     | installe...          |\n",
       "+---------------+----------------------+----------------------+-------------------------------+----------------------+\n",
       "|           893 | Change $<field_name> | <p>In a node I get   | ['<p>The <a href=\"ht          | Q: <p>In a node I    |\n",
       "|               | _rendered output?    | the values of CCK    | tps://www.drupal.org          | get the values of    |\n",
       "|               |                      | fields as $ array    | /project/custom_f...          | CCK fields as $      |\n",
       "|               |                      | or...                |                               | array...             |\n",
       "+---------------+----------------------+----------------------+-------------------------------+----------------------+\n",
       "|          1283 | Creating a View      | <p>I have created a  | ['<p>To find out              | Q: <p>I have created |\n",
       "|               | filter for a CCK     | custom filter which  | what is missing,              | a custom filter      |\n",
       "|               | field                | displays some sel... | implement                     | which displays some  |\n",
       "|               |                      |                      | <code>hook_vi...              | ...                  |\n",
       "+---------------+----------------------+----------------------+-------------------------------+----------------------+\n",
       "|          2050 | Best practice for    | <p>I'm looking to    | ['<p><a href=\"http:/          | Q: <p>I'm looking to |\n",
       "|               | building modules     | start building my    | /groups.drupal.org/n          | start building my    |\n",
       "|               | using classes        | modules as classes   | ode/20728#comment...          | modules as           |\n",
       "|               |                      | no...                |                               | classes...           |\n",
       "+---------------+----------------------+----------------------+-------------------------------+----------------------+\n",
       "(Showing first 8 rows)"
      ]
     },
     "execution_count": 12,
     "metadata": {},
     "output_type": "execute_result"
    }
   ],
   "source": [
    "text_df.show()"
   ]
  },
  {
   "cell_type": "code",
   "execution_count": 15,
   "id": "cd703785-a447-4787-ba74-d8e96a720d34",
   "metadata": {},
   "outputs": [],
   "source": [
    "@daft.udf(return_dtype=daft.DataType.string())\n",
    "class PredictLanguage:\n",
    "\n",
    "    def __init__(self):\n",
    "        import fasttext\n",
    "\n",
    "        pretrained_lang_model = \"lid.176.bin\"\n",
    "        self.model = fasttext.load_model(pretrained_lang_model)\n",
    "\n",
    "    def __call__(self, text: daft.Series):\n",
    "        preds = []\n",
    "        for t in text.to_pylist():\n",
    "            pred = self.model.predict(t.replace(\"\\n\", \" \"), k=1)\n",
    "            preds.append(pred[0][0].replace(\"__label__\", \"\"))\n",
    "        return preds\n"
   ]
  },
  {
   "cell_type": "code",
   "execution_count": 16,
   "id": "50a7e928-39b0-4928-b3b8-ed2b3e0eb6ed",
   "metadata": {},
   "outputs": [],
   "source": [
    "text_df = text_df.with_column(\"language\", PredictLanguage(text_df[\"text\"]))"
   ]
  },
  {
   "cell_type": "code",
   "execution_count": 17,
   "id": "7e83d307-04e4-42ce-af36-a6189c549407",
   "metadata": {
    "scrolled": true
   },
   "outputs": [
    {
     "data": {
      "text/html": [
       "<div>\n",
       "    <table class=\"dataframe\">\n",
       "<thead>\n",
       "<tr><th style=\"text-align: right;\">  question_id<br>Utf8</th><th>question_title<br>Utf8                                    </th><th>question_body<br>Utf8                                                     </th><th>answers_ordered<br>List[Body:_local_list:Utf8]                                  </th><th>text<br>Utf8                                                           </th><th>language<br>Utf8  </th></tr>\n",
       "</thead>\n",
       "<tbody>\n",
       "<tr><td style=\"text-align: right;\">                   73</td><td>Custom query in Views?                                    </td><td>&lt;p&gt;At some point I found the need to modify an SQL query ...        </td><td>[&#x27;&lt;p&gt;You can also use &lt;code&gt;hook_views_query_alter()&lt;/cod...</td><td>Q: &lt;p&gt;At some point I found the need to modify an SQL que...     </td><td>en                </td></tr>\n",
       "<tr><td style=\"text-align: right;\">                   76</td><td>Running Drupal in a Windows environment (IIS, SQL Server)?</td><td>&lt;p&gt;We are in the process of evaluating Drupal to replace ...        </td><td>[&#x27;&lt;p&gt;Easiest way is to use the Microsoft Web Platform Ins...         </td><td>Q: &lt;p&gt;We are in the process of evaluating Drupal to repla...     </td><td>en                </td></tr>\n",
       "<tr><td style=\"text-align: right;\">                  126</td><td>Any way to add CSS for a single page/node?                </td><td>&lt;p&gt;I&#x27;m cleaning up my big crazy style sheets (possibly pe...   </td><td>[&#x27;&lt;p&gt;This is the sort of thing that I\\&#x27;d do by code, but ...    </td><td>Q: &lt;p&gt;I&#x27;m cleaning up my big crazy style sheets (possibly...</td><td>en                </td></tr>\n",
       "<tr><td style=\"text-align: right;\">                  234</td><td>Site stuck in maintenance mode                            </td><td>&lt;p&gt;I have put a site in maintenance mode. Before I could ...        </td><td>[&#x27;&lt;p&gt;You should be able to log in by going to &lt;a href=&quot;ht... </td><td>Q: &lt;p&gt;I have put a site in maintenance mode. Before I cou...     </td><td>en                </td></tr>\n",
       "<tr><td style=\"text-align: right;\">                  371</td><td>Programmatically insert webform result                    </td><td>&lt;p&gt;I&#x27;m using drupal 6 with the webform module installed.&lt;...</td><td>[&#x27;&lt;p&gt;Have you tried using PHP to manually send the POST d...         </td><td>Q: &lt;p&gt;I&#x27;m using drupal 6 with the webform module installe...</td><td>en                </td></tr>\n",
       "<tr><td style=\"text-align: right;\">                  893</td><td>Change $&lt;field_name&gt;_rendered output?               </td><td>&lt;p&gt;In a node I get the values of CCK fields as $ array or...        </td><td>[&#x27;&lt;p&gt;The &lt;a href=&quot;https://www.drupal.org/project/custom_f... </td><td>Q: &lt;p&gt;In a node I get the values of CCK fields as $ array...     </td><td>en                </td></tr>\n",
       "<tr><td style=\"text-align: right;\">                 1283</td><td>Creating a View filter for a CCK field                    </td><td>&lt;p&gt;I have created a custom filter which displays some sel...        </td><td>[&#x27;&lt;p&gt;To find out what is missing, implement &lt;code&gt;hook_vi...   </td><td>Q: &lt;p&gt;I have created a custom filter which displays some ...     </td><td>en                </td></tr>\n",
       "<tr><td style=\"text-align: right;\">                 2050</td><td>Best practice for building modules using classes          </td><td>&lt;p&gt;I&#x27;m looking to start building my modules as classes no...   </td><td>[&#x27;&lt;p&gt;&lt;a href=&quot;http://groups.drupal.org/node/20728#comment... </td><td>Q: &lt;p&gt;I&#x27;m looking to start building my modules as classes...</td><td>en                </td></tr>\n",
       "</tbody>\n",
       "</table>\n",
       "    <small>(Showing first 8 rows)</small>\n",
       "</div>"
      ],
      "text/plain": [
       "+---------------+----------------------+----------------------+-------------------------------+----------------------+------------+\n",
       "|   question_id | question_title       | question_body        | answers_ordered               | text                 | language   |\n",
       "|          Utf8 | Utf8                 | Utf8                 | List[Body:_local_list:Utf8]   | Utf8                 | Utf8       |\n",
       "+===============+======================+======================+===============================+======================+============+\n",
       "|            73 | Custom query in      | <p>At some point I   | ['<p>You can also             | Q: <p>At some point  | en         |\n",
       "|               | Views?               | found the need to    | use <code>hook_views          | I found the need to  |            |\n",
       "|               |                      | modify an SQL query  | _query_alter()</cod.          | modify an SQL que... |            |\n",
       "|               |                      | ...                  | ..                            |                      |            |\n",
       "+---------------+----------------------+----------------------+-------------------------------+----------------------+------------+\n",
       "|            76 | Running Drupal in a  | <p>We are in the     | ['<p>Easiest way is           | Q: <p>We are in the  | en         |\n",
       "|               | Windows environment  | process of           | to use the Microsoft          | process of           |            |\n",
       "|               | (IIS, SQL Server)?   | evaluating Drupal to | Web Platform Ins...           | evaluating Drupal to |            |\n",
       "|               |                      | replace ...          |                               | repla...             |            |\n",
       "+---------------+----------------------+----------------------+-------------------------------+----------------------+------------+\n",
       "|           126 | Any way to add CSS   | <p>I'm cleaning up   | ['<p>This is the              | Q: <p>I'm cleaning   | en         |\n",
       "|               | for a single         | my big crazy style   | sort of thing that            | up my big crazy      |            |\n",
       "|               | page/node?           | sheets (possibly     | I\\'d do by code, but          | style sheets         |            |\n",
       "|               |                      | pe...                | ...                           | (possibly...         |            |\n",
       "+---------------+----------------------+----------------------+-------------------------------+----------------------+------------+\n",
       "|           234 | Site stuck in        | <p>I have put a site | ['<p>You should be            | Q: <p>I have put a   | en         |\n",
       "|               | maintenance mode     | in maintenance mode. | able to log in by             | site in maintenance  |            |\n",
       "|               |                      | Before I could ...   | going to <a                   | mode. Before I       |            |\n",
       "|               |                      |                      | href=\"ht...                   | cou...               |            |\n",
       "+---------------+----------------------+----------------------+-------------------------------+----------------------+------------+\n",
       "|           371 | Programmatically     | <p>I'm using drupal  | ['<p>Have you tried           | Q: <p>I'm using      | en         |\n",
       "|               | insert webform       | 6 with the webform   | using PHP to                  | drupal 6 with the    |            |\n",
       "|               | result               | module               | manually send the             | webform module       |            |\n",
       "|               |                      | installed.<...       | POST d...                     | installe...          |            |\n",
       "+---------------+----------------------+----------------------+-------------------------------+----------------------+------------+\n",
       "|           893 | Change $<field_name> | <p>In a node I get   | ['<p>The <a href=\"ht          | Q: <p>In a node I    | en         |\n",
       "|               | _rendered output?    | the values of CCK    | tps://www.drupal.org          | get the values of    |            |\n",
       "|               |                      | fields as $ array    | /project/custom_f...          | CCK fields as $      |            |\n",
       "|               |                      | or...                |                               | array...             |            |\n",
       "+---------------+----------------------+----------------------+-------------------------------+----------------------+------------+\n",
       "|          1283 | Creating a View      | <p>I have created a  | ['<p>To find out              | Q: <p>I have created | en         |\n",
       "|               | filter for a CCK     | custom filter which  | what is missing,              | a custom filter      |            |\n",
       "|               | field                | displays some sel... | implement                     | which displays some  |            |\n",
       "|               |                      |                      | <code>hook_vi...              | ...                  |            |\n",
       "+---------------+----------------------+----------------------+-------------------------------+----------------------+------------+\n",
       "|          2050 | Best practice for    | <p>I'm looking to    | ['<p><a href=\"http:/          | Q: <p>I'm looking to | en         |\n",
       "|               | building modules     | start building my    | /groups.drupal.org/n          | start building my    |            |\n",
       "|               | using classes        | modules as classes   | ode/20728#comment...          | modules as           |            |\n",
       "|               |                      | no...                |                               | classes...           |            |\n",
       "+---------------+----------------------+----------------------+-------------------------------+----------------------+------------+\n",
       "(Showing first 8 rows)"
      ]
     },
     "execution_count": 17,
     "metadata": {},
     "output_type": "execute_result"
    }
   ],
   "source": [
    "text_df.show()"
   ]
  },
  {
   "cell_type": "code",
   "execution_count": null,
   "id": "cb47fb7a-f3b1-43ec-bcfc-5a03a1dd83bb",
   "metadata": {},
   "outputs": [],
   "source": []
  },
  {
   "cell_type": "code",
   "execution_count": 18,
   "id": "d514ca6c-7772-42e4-8b13-ba510930b6f8",
   "metadata": {},
   "outputs": [
    {
     "name": "stdout",
     "output_type": "stream",
     "text": [
      "CPU times: user 5.08 s, sys: 1.46 s, total: 6.53 s\n",
      "Wall time: 6.51 s\n"
     ]
    },
    {
     "data": {
      "text/html": [
       "<div>\n",
       "    <table class=\"dataframe\">\n",
       "<thead>\n",
       "<tr><th style=\"text-align: right;\">  question_id<br>Utf8</th><th>question_title<br>Utf8                                    </th><th>question_body<br>Utf8                                                     </th><th>answers_ordered<br>List[Body:_local_list:Utf8]                                  </th><th>text<br>Utf8                                                           </th><th>language<br>Utf8  </th></tr>\n",
       "</thead>\n",
       "<tbody>\n",
       "<tr><td style=\"text-align: right;\">                   73</td><td>Custom query in Views?                                    </td><td>&lt;p&gt;At some point I found the need to modify an SQL query ...        </td><td>[&#x27;&lt;p&gt;You can also use &lt;code&gt;hook_views_query_alter()&lt;/cod...</td><td>Q: &lt;p&gt;At some point I found the need to modify an SQL que...     </td><td>en                </td></tr>\n",
       "<tr><td style=\"text-align: right;\">                   76</td><td>Running Drupal in a Windows environment (IIS, SQL Server)?</td><td>&lt;p&gt;We are in the process of evaluating Drupal to replace ...        </td><td>[&#x27;&lt;p&gt;Easiest way is to use the Microsoft Web Platform Ins...         </td><td>Q: &lt;p&gt;We are in the process of evaluating Drupal to repla...     </td><td>en                </td></tr>\n",
       "<tr><td style=\"text-align: right;\">                  126</td><td>Any way to add CSS for a single page/node?                </td><td>&lt;p&gt;I&#x27;m cleaning up my big crazy style sheets (possibly pe...   </td><td>[&#x27;&lt;p&gt;This is the sort of thing that I\\&#x27;d do by code, but ...    </td><td>Q: &lt;p&gt;I&#x27;m cleaning up my big crazy style sheets (possibly...</td><td>en                </td></tr>\n",
       "<tr><td style=\"text-align: right;\">                  234</td><td>Site stuck in maintenance mode                            </td><td>&lt;p&gt;I have put a site in maintenance mode. Before I could ...        </td><td>[&#x27;&lt;p&gt;You should be able to log in by going to &lt;a href=&quot;ht... </td><td>Q: &lt;p&gt;I have put a site in maintenance mode. Before I cou...     </td><td>en                </td></tr>\n",
       "<tr><td style=\"text-align: right;\">                  371</td><td>Programmatically insert webform result                    </td><td>&lt;p&gt;I&#x27;m using drupal 6 with the webform module installed.&lt;...</td><td>[&#x27;&lt;p&gt;Have you tried using PHP to manually send the POST d...         </td><td>Q: &lt;p&gt;I&#x27;m using drupal 6 with the webform module installe...</td><td>en                </td></tr>\n",
       "<tr><td style=\"text-align: right;\">                  893</td><td>Change $&lt;field_name&gt;_rendered output?               </td><td>&lt;p&gt;In a node I get the values of CCK fields as $ array or...        </td><td>[&#x27;&lt;p&gt;The &lt;a href=&quot;https://www.drupal.org/project/custom_f... </td><td>Q: &lt;p&gt;In a node I get the values of CCK fields as $ array...     </td><td>en                </td></tr>\n",
       "<tr><td style=\"text-align: right;\">                 1283</td><td>Creating a View filter for a CCK field                    </td><td>&lt;p&gt;I have created a custom filter which displays some sel...        </td><td>[&#x27;&lt;p&gt;To find out what is missing, implement &lt;code&gt;hook_vi...   </td><td>Q: &lt;p&gt;I have created a custom filter which displays some ...     </td><td>en                </td></tr>\n",
       "<tr><td style=\"text-align: right;\">                 2050</td><td>Best practice for building modules using classes          </td><td>&lt;p&gt;I&#x27;m looking to start building my modules as classes no...   </td><td>[&#x27;&lt;p&gt;&lt;a href=&quot;http://groups.drupal.org/node/20728#comment... </td><td>Q: &lt;p&gt;I&#x27;m looking to start building my modules as classes...</td><td>en                </td></tr>\n",
       "</tbody>\n",
       "</table>\n",
       "    <small>(Showing first 8 of 20000 rows)</small>\n",
       "</div>"
      ],
      "text/plain": [
       "+---------------+----------------------+----------------------+-------------------------------+----------------------+------------+\n",
       "|   question_id | question_title       | question_body        | answers_ordered               | text                 | language   |\n",
       "|          Utf8 | Utf8                 | Utf8                 | List[Body:_local_list:Utf8]   | Utf8                 | Utf8       |\n",
       "+===============+======================+======================+===============================+======================+============+\n",
       "|            73 | Custom query in      | <p>At some point I   | ['<p>You can also             | Q: <p>At some point  | en         |\n",
       "|               | Views?               | found the need to    | use <code>hook_views          | I found the need to  |            |\n",
       "|               |                      | modify an SQL query  | _query_alter()</cod.          | modify an SQL que... |            |\n",
       "|               |                      | ...                  | ..                            |                      |            |\n",
       "+---------------+----------------------+----------------------+-------------------------------+----------------------+------------+\n",
       "|            76 | Running Drupal in a  | <p>We are in the     | ['<p>Easiest way is           | Q: <p>We are in the  | en         |\n",
       "|               | Windows environment  | process of           | to use the Microsoft          | process of           |            |\n",
       "|               | (IIS, SQL Server)?   | evaluating Drupal to | Web Platform Ins...           | evaluating Drupal to |            |\n",
       "|               |                      | replace ...          |                               | repla...             |            |\n",
       "+---------------+----------------------+----------------------+-------------------------------+----------------------+------------+\n",
       "|           126 | Any way to add CSS   | <p>I'm cleaning up   | ['<p>This is the              | Q: <p>I'm cleaning   | en         |\n",
       "|               | for a single         | my big crazy style   | sort of thing that            | up my big crazy      |            |\n",
       "|               | page/node?           | sheets (possibly     | I\\'d do by code, but          | style sheets         |            |\n",
       "|               |                      | pe...                | ...                           | (possibly...         |            |\n",
       "+---------------+----------------------+----------------------+-------------------------------+----------------------+------------+\n",
       "|           234 | Site stuck in        | <p>I have put a site | ['<p>You should be            | Q: <p>I have put a   | en         |\n",
       "|               | maintenance mode     | in maintenance mode. | able to log in by             | site in maintenance  |            |\n",
       "|               |                      | Before I could ...   | going to <a                   | mode. Before I       |            |\n",
       "|               |                      |                      | href=\"ht...                   | cou...               |            |\n",
       "+---------------+----------------------+----------------------+-------------------------------+----------------------+------------+\n",
       "|           371 | Programmatically     | <p>I'm using drupal  | ['<p>Have you tried           | Q: <p>I'm using      | en         |\n",
       "|               | insert webform       | 6 with the webform   | using PHP to                  | drupal 6 with the    |            |\n",
       "|               | result               | module               | manually send the             | webform module       |            |\n",
       "|               |                      | installed.<...       | POST d...                     | installe...          |            |\n",
       "+---------------+----------------------+----------------------+-------------------------------+----------------------+------------+\n",
       "|           893 | Change $<field_name> | <p>In a node I get   | ['<p>The <a href=\"ht          | Q: <p>In a node I    | en         |\n",
       "|               | _rendered output?    | the values of CCK    | tps://www.drupal.org          | get the values of    |            |\n",
       "|               |                      | fields as $ array    | /project/custom_f...          | CCK fields as $      |            |\n",
       "|               |                      | or...                |                               | array...             |            |\n",
       "+---------------+----------------------+----------------------+-------------------------------+----------------------+------------+\n",
       "|          1283 | Creating a View      | <p>I have created a  | ['<p>To find out              | Q: <p>I have created | en         |\n",
       "|               | filter for a CCK     | custom filter which  | what is missing,              | a custom filter      |            |\n",
       "|               | field                | displays some sel... | implement                     | which displays some  |            |\n",
       "|               |                      |                      | <code>hook_vi...              | ...                  |            |\n",
       "+---------------+----------------------+----------------------+-------------------------------+----------------------+------------+\n",
       "|          2050 | Best practice for    | <p>I'm looking to    | ['<p><a href=\"http:/          | Q: <p>I'm looking to | en         |\n",
       "|               | building modules     | start building my    | /groups.drupal.org/n          | start building my    |            |\n",
       "|               | using classes        | modules as classes   | ode/20728#comment...          | modules as           |            |\n",
       "|               |                      | no...                |                               | classes...           |            |\n",
       "+---------------+----------------------+----------------------+-------------------------------+----------------------+------------+\n",
       "(Showing first 8 of 20000 rows)"
      ]
     },
     "execution_count": 18,
     "metadata": {},
     "output_type": "execute_result"
    }
   ],
   "source": [
    "%%time\n",
    "\n",
    "text_df.limit(20000).collect()"
   ]
  },
  {
   "attachments": {},
   "cell_type": "markdown",
   "id": "7a23e18b-8d9f-49f0-bd5a-fff7302aa4f3",
   "metadata": {},
   "source": [
    "## Distributed Processing"
   ]
  },
  {
   "cell_type": "code",
   "execution_count": 1,
   "id": "08d04b26-ac96-484f-aa77-33b34078a102",
   "metadata": {
    "collapsed": true,
    "jupyter": {
     "outputs_hidden": true
    }
   },
   "outputs": [
    {
     "data": {
      "text/plain": [
       "DaftContext(runner_config=_RayRunnerConfig(address='ray://localhost:10001', max_task_backlog=None), disallow_set_runner=True)"
      ]
     },
     "execution_count": 1,
     "metadata": {},
     "output_type": "execute_result"
    }
   ],
   "source": [
    "import daft\n",
    "import ray\n",
    "\n",
    "RAY_ADDRESS = \"ray://localhost:10001\"\n",
    "\n",
    "ray.init(address=RAY_ADDRESS, runtime_env={\"pip\": [\"getdaft[aws]\"]})\n",
    "daft.context.set_runner_ray(address=RAY_ADDRESS)"
   ]
  },
  {
   "cell_type": "code",
   "execution_count": 2,
   "id": "4659bd6e-e4c6-4071-8fab-8996061a9180",
   "metadata": {
    "collapsed": true,
    "jupyter": {
     "outputs_hidden": true
    }
   },
   "outputs": [
    {
     "name": "stderr",
     "output_type": "stream",
     "text": [
      "\u001b[32m2023-06-02 18:23:47.246\u001b[0m | \u001b[1mINFO    \u001b[0m | \u001b[36mdaft.context\u001b[0m:\u001b[36mrunner\u001b[0m:\u001b[36m71\u001b[0m - \u001b[1mUsing RayRunner\u001b[0m\n",
      "\u001b[32m2023-06-02 18:23:47.396\u001b[0m | \u001b[33m\u001b[1mWARNING \u001b[0m | \u001b[36mdaft.runners.ray_runner\u001b[0m:\u001b[36m__init__\u001b[0m:\u001b[36m552\u001b[0m - \u001b[33m\u001b[1mRay has already been initialized, Daft will reuse the existing Ray context.\u001b[0m\n",
      "2023-06-02 18:23:47,398\tINFO client_builder.py:252 -- Passing the following kwargs to ray.init() on the server: ignore_reinit_error\n",
      "2023-06-02 18:23:47,398\tINFO client_connect.py:39 -- Calling ray.init() again after it has already been called. Reusing the existing Ray client connection.\n"
     ]
    },
    {
     "name": "stdout",
     "output_type": "stream",
     "text": [
      "CPU times: user 77.3 ms, sys: 21 ms, total: 98.3 ms\n",
      "Wall time: 6.08 s\n"
     ]
    }
   ],
   "source": [
    "%%time\n",
    "\n",
    "df = daft.read_json(\"s3://daft-public-data/redpajama-1t/stackexchange-raw-xml-to-jsonl/\")"
   ]
  }
 ],
 "metadata": {
  "kernelspec": {
   "display_name": "Python 3 (ipykernel)",
   "language": "python",
   "name": "python3"
  },
  "language_info": {
   "codemirror_mode": {
    "name": "ipython",
    "version": 3
   },
   "file_extension": ".py",
   "mimetype": "text/x-python",
   "name": "python",
   "nbconvert_exporter": "python",
   "pygments_lexer": "ipython3",
   "version": "3.10.9"
  }
 },
 "nbformat": 4,
 "nbformat_minor": 5
}
