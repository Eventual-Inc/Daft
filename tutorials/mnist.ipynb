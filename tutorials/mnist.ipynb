{
 "cells": [
  {
   "cell_type": "code",
   "execution_count": null,
   "id": "d1b56860-db41-4829-b395-176e11987cdc",
   "metadata": {},
   "outputs": [],
   "source": [
    "!pip install getdaft --pre --extra-index-url https://pypi.anaconda.org/daft-nightly/simple\n",
    "!pip install Pillow torch torchvision"
   ]
  },
  {
   "attachments": {},
   "cell_type": "markdown",
   "id": "c571e01d",
   "metadata": {},
   "source": [
    "```{hint}\n",
    "✨✨✨ **Run this notebook on Google Colab** ✨✨✨\n",
    "\n",
    "You can [run this notebook yourself with Google Colab](https://colab.research.google.com/github/Eventual-Inc/Daft/blob/main/tutorials/mnist.ipynb)!\n",
    "```"
   ]
  },
  {
   "attachments": {},
   "cell_type": "markdown",
   "id": "9b14abf5-a183-4bfb-9b15-a9a54b744fce",
   "metadata": {},
   "source": [
    "# MNIST Daft Tutorial\n",
    "\n",
    "The MNIST Dataset is a \"large database of handwritten digits that is commonly used for training various image processing systems\"."
   ]
  },
  {
   "cell_type": "markdown",
   "id": "252b5128-99c2-49dd-b624-6e4b21275959",
   "metadata": {},
   "source": [
    "## Loading Data\n",
    "\n",
    "This is a JSON file containing all the data for the MNIST test set. Let's load it up into a DaFt Dataframe!"
   ]
  },
  {
   "cell_type": "code",
   "execution_count": 1,
   "id": "fc63a3ad-0e0a-4ab3-9cc0-cbec8bdd0632",
   "metadata": {},
   "outputs": [
    {
     "name": "stderr",
     "output_type": "stream",
     "text": [
      "2023-02-01 10:55:27.447 | INFO     | daft.context:runner:85 - Using PyRunner\n"
     ]
    }
   ],
   "source": [
    "from daft import DataFrame, col, udf\n",
    "\n",
    "URL = \"https://github.com/Eventual-Inc/mnist-json/raw/master/mnist_handwritten_test.json.gz\"\n",
    "images_df = DataFrame.read_json(URL)"
   ]
  },
  {
   "cell_type": "markdown",
   "id": "d52f6032-6619-4682-8305-2ed65bdc194c",
   "metadata": {},
   "source": [
    "To peek at the dataset, simply have your notebook display the images_df that was just created."
   ]
  },
  {
   "cell_type": "code",
   "execution_count": 2,
   "id": "73a71adf-3b2e-4ec5-a0d2-34ad8eec734c",
   "metadata": {},
   "outputs": [
    {
     "data": {
      "text/html": [
       "\n",
       "        <div>\n",
       "            <table class=\"dataframe\">\n",
       "<tbody>\n",
       "<tr><td>image<br>PY[list]</td><td>label<br>INTEGER</td></tr>\n",
       "</tbody>\n",
       "</table>\n",
       "            <small>(No data to display: Dataframe not materialized)</small>\n",
       "        </div>\n",
       "    "
      ],
      "text/plain": [
       "+------------+-----------+\n",
       "| image      | label     |\n",
       "| PY[list]   | INTEGER   |\n",
       "+============+===========+\n",
       "+------------+-----------+\n",
       "(No data to display: Dataframe not materialized)"
      ]
     },
     "execution_count": 2,
     "metadata": {},
     "output_type": "execute_result"
    }
   ],
   "source": [
    "images_df"
   ]
  },
  {
   "cell_type": "code",
   "execution_count": 3,
   "id": "4787caab-d7d1-4fd4-9a76-ffb08a404a31",
   "metadata": {},
   "outputs": [
    {
     "data": {
      "text/html": [
       "\n",
       "        <div>\n",
       "            <table class=\"dataframe\">\n",
       "<thead>\n",
       "<tr><th>image<br>PY[list]                                           </th><th style=\"text-align: right;\">  label<br>INTEGER</th></tr>\n",
       "</thead>\n",
       "<tbody>\n",
       "<tr><td>[0, 0, 0, 0, 0, 0, 0, 0, 0, 0, 0, 0, 0, 0, 0, 0, 0, 0, 0,...</td><td style=\"text-align: right;\">                 7</td></tr>\n",
       "<tr><td>[0, 0, 0, 0, 0, 0, 0, 0, 0, 0, 0, 0, 0, 0, 0, 0, 0, 0, 0,...</td><td style=\"text-align: right;\">                 2</td></tr>\n",
       "<tr><td>[0, 0, 0, 0, 0, 0, 0, 0, 0, 0, 0, 0, 0, 0, 0, 0, 0, 0, 0,...</td><td style=\"text-align: right;\">                 1</td></tr>\n",
       "<tr><td>[0, 0, 0, 0, 0, 0, 0, 0, 0, 0, 0, 0, 0, 0, 0, 0, 0, 0, 0,...</td><td style=\"text-align: right;\">                 0</td></tr>\n",
       "<tr><td>[0, 0, 0, 0, 0, 0, 0, 0, 0, 0, 0, 0, 0, 0, 0, 0, 0, 0, 0,...</td><td style=\"text-align: right;\">                 4</td></tr>\n",
       "<tr><td>[0, 0, 0, 0, 0, 0, 0, 0, 0, 0, 0, 0, 0, 0, 0, 0, 0, 0, 0,...</td><td style=\"text-align: right;\">                 1</td></tr>\n",
       "<tr><td>[0, 0, 0, 0, 0, 0, 0, 0, 0, 0, 0, 0, 0, 0, 0, 0, 0, 0, 0,...</td><td style=\"text-align: right;\">                 4</td></tr>\n",
       "<tr><td>[0, 0, 0, 0, 0, 0, 0, 0, 0, 0, 0, 0, 0, 0, 0, 0, 0, 0, 0,...</td><td style=\"text-align: right;\">                 9</td></tr>\n",
       "<tr><td>[0, 0, 0, 0, 0, 0, 0, 0, 0, 0, 0, 0, 0, 0, 0, 0, 0, 0, 0,...</td><td style=\"text-align: right;\">                 5</td></tr>\n",
       "<tr><td>[0, 0, 0, 0, 0, 0, 0, 0, 0, 0, 0, 0, 0, 0, 0, 0, 0, 0, 0,...</td><td style=\"text-align: right;\">                 9</td></tr>\n",
       "</tbody>\n",
       "</table>\n",
       "            <small>(Showing first 10 rows)</small>\n",
       "        </div>\n",
       "    "
      ],
      "text/plain": [
       "+----------------------+-----------+\n",
       "| image                |     label |\n",
       "| PY[list]             |   INTEGER |\n",
       "+======================+===========+\n",
       "| [0, 0, 0, 0, 0, 0,   |         7 |\n",
       "| 0, 0, 0, 0, 0, 0, 0, |           |\n",
       "| 0, 0, 0, 0, 0, 0,... |           |\n",
       "+----------------------+-----------+\n",
       "| [0, 0, 0, 0, 0, 0,   |         2 |\n",
       "| 0, 0, 0, 0, 0, 0, 0, |           |\n",
       "| 0, 0, 0, 0, 0, 0,... |           |\n",
       "+----------------------+-----------+\n",
       "| [0, 0, 0, 0, 0, 0,   |         1 |\n",
       "| 0, 0, 0, 0, 0, 0, 0, |           |\n",
       "| 0, 0, 0, 0, 0, 0,... |           |\n",
       "+----------------------+-----------+\n",
       "| [0, 0, 0, 0, 0, 0,   |         0 |\n",
       "| 0, 0, 0, 0, 0, 0, 0, |           |\n",
       "| 0, 0, 0, 0, 0, 0,... |           |\n",
       "+----------------------+-----------+\n",
       "| [0, 0, 0, 0, 0, 0,   |         4 |\n",
       "| 0, 0, 0, 0, 0, 0, 0, |           |\n",
       "| 0, 0, 0, 0, 0, 0,... |           |\n",
       "+----------------------+-----------+\n",
       "| [0, 0, 0, 0, 0, 0,   |         1 |\n",
       "| 0, 0, 0, 0, 0, 0, 0, |           |\n",
       "| 0, 0, 0, 0, 0, 0,... |           |\n",
       "+----------------------+-----------+\n",
       "| [0, 0, 0, 0, 0, 0,   |         4 |\n",
       "| 0, 0, 0, 0, 0, 0, 0, |           |\n",
       "| 0, 0, 0, 0, 0, 0,... |           |\n",
       "+----------------------+-----------+\n",
       "| [0, 0, 0, 0, 0, 0,   |         9 |\n",
       "| 0, 0, 0, 0, 0, 0, 0, |           |\n",
       "| 0, 0, 0, 0, 0, 0,... |           |\n",
       "+----------------------+-----------+\n",
       "| [0, 0, 0, 0, 0, 0,   |         5 |\n",
       "| 0, 0, 0, 0, 0, 0, 0, |           |\n",
       "| 0, 0, 0, 0, 0, 0,... |           |\n",
       "+----------------------+-----------+\n",
       "| [0, 0, 0, 0, 0, 0,   |         9 |\n",
       "| 0, 0, 0, 0, 0, 0, 0, |           |\n",
       "| 0, 0, 0, 0, 0, 0,... |           |\n",
       "+----------------------+-----------+\n",
       "(Showing first 10 rows)"
      ]
     },
     "execution_count": 3,
     "metadata": {},
     "output_type": "execute_result"
    }
   ],
   "source": [
    "images_df.show(10)"
   ]
  },
  {
   "cell_type": "markdown",
   "id": "426f1bbb-e1c0-4fd6-b84e-cbb1ab309ff9",
   "metadata": {},
   "source": [
    "You just loaded your first DaFt Dataframe! It consists of two columns:\n",
    "1. The \"image\" column is a Python column of type `list` - where it looks like each row contains a list of digits representing the pixels of each image\n",
    "2. The \"label\" column is an Integer column, consisting of just the label of that image."
   ]
  },
  {
   "cell_type": "markdown",
   "id": "9a7872e3-9860-4867-8a8c-61a69f69e334",
   "metadata": {},
   "source": [
    "## Processing Columns with User-Defined Functions (UDF)\n",
    "\n",
    "It seems our JSON file has provided us with a one-dimensional array of pixels instead of two-dimensional images. We can easily modify data in this column by instructing DaFt to run a method on every row in the column like so:"
   ]
  },
  {
   "cell_type": "code",
   "execution_count": 4,
   "id": "af857589-b28a-4ee0-91cd-dc7a01ff4c07",
   "metadata": {},
   "outputs": [],
   "source": [
    "import numpy as np\n",
    "\n",
    "images_df = images_df.with_column(\n",
    "    \"image_2d\",\n",
    "    col(\"image\").apply(lambda l: np.array(l).reshape(28, 28), return_dtype=np.ndarray),\n",
    ")"
   ]
  },
  {
   "cell_type": "code",
   "execution_count": 5,
   "id": "d1212a7e-949a-4881-ba54-9d7e7eb31e6f",
   "metadata": {},
   "outputs": [
    {
     "data": {
      "text/html": [
       "\n",
       "        <div>\n",
       "            <table class=\"dataframe\">\n",
       "<thead>\n",
       "<tr><th>image<br>PY[list]                                           </th><th style=\"text-align: right;\">  label<br>INTEGER</th><th>image_2d<br>PY[ndarray]                          </th></tr>\n",
       "</thead>\n",
       "<tbody>\n",
       "<tr><td>[0, 0, 0, 0, 0, 0, 0, 0, 0, 0, 0, 0, 0, 0, 0, 0, 0, 0, 0,...</td><td style=\"text-align: right;\">                 7</td><td>&ltnp.ndarray<br>shape=(28, 28)<br>dtype=int64&gt</td></tr>\n",
       "<tr><td>[0, 0, 0, 0, 0, 0, 0, 0, 0, 0, 0, 0, 0, 0, 0, 0, 0, 0, 0,...</td><td style=\"text-align: right;\">                 2</td><td>&ltnp.ndarray<br>shape=(28, 28)<br>dtype=int64&gt</td></tr>\n",
       "<tr><td>[0, 0, 0, 0, 0, 0, 0, 0, 0, 0, 0, 0, 0, 0, 0, 0, 0, 0, 0,...</td><td style=\"text-align: right;\">                 1</td><td>&ltnp.ndarray<br>shape=(28, 28)<br>dtype=int64&gt</td></tr>\n",
       "<tr><td>[0, 0, 0, 0, 0, 0, 0, 0, 0, 0, 0, 0, 0, 0, 0, 0, 0, 0, 0,...</td><td style=\"text-align: right;\">                 0</td><td>&ltnp.ndarray<br>shape=(28, 28)<br>dtype=int64&gt</td></tr>\n",
       "<tr><td>[0, 0, 0, 0, 0, 0, 0, 0, 0, 0, 0, 0, 0, 0, 0, 0, 0, 0, 0,...</td><td style=\"text-align: right;\">                 4</td><td>&ltnp.ndarray<br>shape=(28, 28)<br>dtype=int64&gt</td></tr>\n",
       "<tr><td>[0, 0, 0, 0, 0, 0, 0, 0, 0, 0, 0, 0, 0, 0, 0, 0, 0, 0, 0,...</td><td style=\"text-align: right;\">                 1</td><td>&ltnp.ndarray<br>shape=(28, 28)<br>dtype=int64&gt</td></tr>\n",
       "<tr><td>[0, 0, 0, 0, 0, 0, 0, 0, 0, 0, 0, 0, 0, 0, 0, 0, 0, 0, 0,...</td><td style=\"text-align: right;\">                 4</td><td>&ltnp.ndarray<br>shape=(28, 28)<br>dtype=int64&gt</td></tr>\n",
       "<tr><td>[0, 0, 0, 0, 0, 0, 0, 0, 0, 0, 0, 0, 0, 0, 0, 0, 0, 0, 0,...</td><td style=\"text-align: right;\">                 9</td><td>&ltnp.ndarray<br>shape=(28, 28)<br>dtype=int64&gt</td></tr>\n",
       "<tr><td>[0, 0, 0, 0, 0, 0, 0, 0, 0, 0, 0, 0, 0, 0, 0, 0, 0, 0, 0,...</td><td style=\"text-align: right;\">                 5</td><td>&ltnp.ndarray<br>shape=(28, 28)<br>dtype=int64&gt</td></tr>\n",
       "<tr><td>[0, 0, 0, 0, 0, 0, 0, 0, 0, 0, 0, 0, 0, 0, 0, 0, 0, 0, 0,...</td><td style=\"text-align: right;\">                 9</td><td>&ltnp.ndarray<br>shape=(28, 28)<br>dtype=int64&gt</td></tr>\n",
       "</tbody>\n",
       "</table>\n",
       "            <small>(Showing first 10 rows)</small>\n",
       "        </div>\n",
       "    "
      ],
      "text/plain": [
       "+----------------------+-----------+----------------------+\n",
       "| image                |     label | image_2d             |\n",
       "| PY[list]             |   INTEGER | PY[ndarray]          |\n",
       "+======================+===========+======================+\n",
       "| [0, 0, 0, 0, 0, 0,   |         7 | [[  0   0   0   0    |\n",
       "| 0, 0, 0, 0, 0, 0, 0, |           | 0   0   0   0   0    |\n",
       "| 0, 0, 0, 0, 0, 0,... |           | 0   0   0   0   0... |\n",
       "+----------------------+-----------+----------------------+\n",
       "| [0, 0, 0, 0, 0, 0,   |         2 | [[  0   0   0   0    |\n",
       "| 0, 0, 0, 0, 0, 0, 0, |           | 0   0   0   0   0    |\n",
       "| 0, 0, 0, 0, 0, 0,... |           | 0   0   0   0   0... |\n",
       "+----------------------+-----------+----------------------+\n",
       "| [0, 0, 0, 0, 0, 0,   |         1 | [[  0   0   0   0    |\n",
       "| 0, 0, 0, 0, 0, 0, 0, |           | 0   0   0   0   0    |\n",
       "| 0, 0, 0, 0, 0, 0,... |           | 0   0   0   0   0... |\n",
       "+----------------------+-----------+----------------------+\n",
       "| [0, 0, 0, 0, 0, 0,   |         0 | [[  0   0   0   0    |\n",
       "| 0, 0, 0, 0, 0, 0, 0, |           | 0   0   0   0   0    |\n",
       "| 0, 0, 0, 0, 0, 0,... |           | 0   0   0   0   0... |\n",
       "+----------------------+-----------+----------------------+\n",
       "| [0, 0, 0, 0, 0, 0,   |         4 | [[  0   0   0   0    |\n",
       "| 0, 0, 0, 0, 0, 0, 0, |           | 0   0   0   0   0    |\n",
       "| 0, 0, 0, 0, 0, 0,... |           | 0   0   0   0   0... |\n",
       "+----------------------+-----------+----------------------+\n",
       "| [0, 0, 0, 0, 0, 0,   |         1 | [[  0   0   0   0    |\n",
       "| 0, 0, 0, 0, 0, 0, 0, |           | 0   0   0   0   0    |\n",
       "| 0, 0, 0, 0, 0, 0,... |           | 0   0   0   0   0... |\n",
       "+----------------------+-----------+----------------------+\n",
       "| [0, 0, 0, 0, 0, 0,   |         4 | [[  0   0   0   0    |\n",
       "| 0, 0, 0, 0, 0, 0, 0, |           | 0   0   0   0   0    |\n",
       "| 0, 0, 0, 0, 0, 0,... |           | 0   0   0   0   0... |\n",
       "+----------------------+-----------+----------------------+\n",
       "| [0, 0, 0, 0, 0, 0,   |         9 | [[  0   0   0   0    |\n",
       "| 0, 0, 0, 0, 0, 0, 0, |           | 0   0   0   0   0    |\n",
       "| 0, 0, 0, 0, 0, 0,... |           | 0   0   0   0   0... |\n",
       "+----------------------+-----------+----------------------+\n",
       "| [0, 0, 0, 0, 0, 0,   |         5 | [[  0   0   0   0    |\n",
       "| 0, 0, 0, 0, 0, 0, 0, |           | 0   0   0   0   0    |\n",
       "| 0, 0, 0, 0, 0, 0,... |           | 0   0   0   0   0... |\n",
       "+----------------------+-----------+----------------------+\n",
       "| [0, 0, 0, 0, 0, 0,   |         9 | [[  0   0   0   0    |\n",
       "| 0, 0, 0, 0, 0, 0, 0, |           | 0   0   0   0   0    |\n",
       "| 0, 0, 0, 0, 0, 0,... |           | 0   0   0   0   0... |\n",
       "+----------------------+-----------+----------------------+\n",
       "(Showing first 10 rows)"
      ]
     },
     "execution_count": 5,
     "metadata": {},
     "output_type": "execute_result"
    }
   ],
   "source": [
    "images_df.show(10)"
   ]
  },
  {
   "cell_type": "markdown",
   "id": "cd0d2664-12d8-4964-85cd-a67f8fee1384",
   "metadata": {},
   "source": [
    "Great, but we can do one better - let's convert these two-dimensional arrays into Images. Computers speak in pixels and arrays, but humans do much better with visual patterns!\n",
    "\n",
    "To do this, we can leverage the `.apply` expression method. Similar to the `.as_py` method, this allows us to run a single function on all rows of a given column, but provides us with more flexibility as it takes as input any arbitrary function."
   ]
  },
  {
   "cell_type": "code",
   "execution_count": 6,
   "id": "e585303a-7c83-4a31-afbb-461c951481f7",
   "metadata": {},
   "outputs": [],
   "source": [
    "from PIL import Image\n",
    "\n",
    "images_df = images_df.with_column(\"pil_image\", col(\"image_2d\").apply(lambda arr: Image.fromarray(arr.astype(np.uint8)), return_dtype=Image.Image))"
   ]
  },
  {
   "cell_type": "code",
   "execution_count": 7,
   "id": "59b655ed-13aa-4764-acd4-a00beb91ec2f",
   "metadata": {},
   "outputs": [
    {
     "data": {
      "text/html": [
       "\n",
       "        <div>\n",
       "            <table class=\"dataframe\">\n",
       "<thead>\n",
       "<tr><th>image<br>PY[list]                                           </th><th style=\"text-align: right;\">  label<br>INTEGER</th><th>image_2d<br>PY[ndarray]                          </th><th>pil_image<br>PY[Image]                                                                                                                                                                                                                                                                                                                                                                                                                                                                                                                                                                                                                                                                                                                                                                                                                                                                                                                                              </th></tr>\n",
       "</thead>\n",
       "<tbody>\n",
       "<tr><td>[0, 0, 0, 0, 0, 0, 0, 0, 0, 0, 0, 0, 0, 0, 0, 0, 0, 0, 0,...</td><td style=\"text-align: right;\">                 7</td><td>&ltnp.ndarray<br>shape=(28, 28)<br>dtype=int64&gt</td><td><img style=\"max-height:128px;width:auto\" src=\"data:image/png;base64, /9j/4AAQSkZJRgABAQAAAQABAAD/2wBDAAgGBgcGBQgHBwcJCQgKDBQNDAsLDBkSEw8UHRofHh0aHBwgJC4nICIsIxwcKDcpLDAxNDQ0Hyc5PTgyPC4zNDL/wAALCAAcABwBAREA/8QAHwAAAQUBAQEBAQEAAAAAAAAAAAECAwQFBgcICQoL/8QAtRAAAgEDAwIEAwUFBAQAAAF9AQIDAAQRBRIhMUEGE1FhByJxFDKBkaEII0KxwRVS0fAkM2JyggkKFhcYGRolJicoKSo0NTY3ODk6Q0RFRkdISUpTVFVWV1hZWmNkZWZnaGlqc3R1dnd4eXqDhIWGh4iJipKTlJWWl5iZmqKjpKWmp6ipqrKztLW2t7i5usLDxMXGx8jJytLT1NXW19jZ2uHi4+Tl5ufo6erx8vP09fb3+Pn6/9oACAEBAAA/APA4Lea6nSC3hkmmc4SONSzMfQAdadc2dzZSmK7tpoJB/BKhU/kahoq1pupXuj6hDf6dcyW13CSY5YzhlyCDj8CRXXWvxe8b20SxtrH2lVOQbqCOU9OmWUn/APVXUfEfxBqCfDzSNJ16S2uNd1JxqEqpbohtIMYjQbQBlsEnv1HpXj9Fdx8OvDNlqNxe+IdeVh4e0VPPucLnznyNkQ/3j1/LjOa57xPr9z4n8R3usXQ2vcSZVB0jQcKo9gABWRRXSxeOdXt/A0nhGAW0WnSzGaZ1j/ey8g7SxOMZA6AHjrXNUV//2Q==\" alt=\"<PIL.Image.Image image mode=L size=28x28 at 0x117B489D0>\" />                                                    </td></tr>\n",
       "<tr><td>[0, 0, 0, 0, 0, 0, 0, 0, 0, 0, 0, 0, 0, 0, 0, 0, 0, 0, 0,...</td><td style=\"text-align: right;\">                 2</td><td>&ltnp.ndarray<br>shape=(28, 28)<br>dtype=int64&gt</td><td><img style=\"max-height:128px;width:auto\" src=\"data:image/png;base64, /9j/4AAQSkZJRgABAQAAAQABAAD/2wBDAAgGBgcGBQgHBwcJCQgKDBQNDAsLDBkSEw8UHRofHh0aHBwgJC4nICIsIxwcKDcpLDAxNDQ0Hyc5PTgyPC4zNDL/wAALCAAcABwBAREA/8QAHwAAAQUBAQEBAQEAAAAAAAAAAAECAwQFBgcICQoL/8QAtRAAAgEDAwIEAwUFBAQAAAF9AQIDAAQRBRIhMUEGE1FhByJxFDKBkaEII0KxwRVS0fAkM2JyggkKFhcYGRolJicoKSo0NTY3ODk6Q0RFRkdISUpTVFVWV1hZWmNkZWZnaGlqc3R1dnd4eXqDhIWGh4iJipKTlJWWl5iZmqKjpKWmp6ipqrKztLW2t7i5usLDxMXGx8jJytLT1NXW19jZ2uHi4+Tl5ufo6erx8vP09fb3+Pn6/9oACAEBAAA/APAY42lkWNBl2IVR6k17BB8L/BemalZaB4h8TXr+I7oKhtNNi3rDI3TcdpyB36HvwK8z8UaL/wAI74o1LRxOs4s52iEg/iAPGff196yaK9d+H1lbeCPCdz8SNZjWW5bdBpFtJw0jn5TIDn/eHToCe4ryvUb+51XUrnULyQyXNzK0srnuzHJqtRX0J4utvBHxCXSLez+INlo+m2dqqQ2EkQCIf7xLMoB24XB9Pc1wp8D+AdMc/wBrfEaCbazDy9Os2l3YHGHBIHPtj3riNfg0a31V00G8ubuw2qUkuYhG+ccgge9ZlFFFf//Z\" alt=\"<PIL.Image.Image image mode=L size=28x28 at 0x117B48430>\" />                                                </td></tr>\n",
       "<tr><td>[0, 0, 0, 0, 0, 0, 0, 0, 0, 0, 0, 0, 0, 0, 0, 0, 0, 0, 0,...</td><td style=\"text-align: right;\">                 1</td><td>&ltnp.ndarray<br>shape=(28, 28)<br>dtype=int64&gt</td><td><img style=\"max-height:128px;width:auto\" src=\"data:image/png;base64, /9j/4AAQSkZJRgABAQAAAQABAAD/2wBDAAgGBgcGBQgHBwcJCQgKDBQNDAsLDBkSEw8UHRofHh0aHBwgJC4nICIsIxwcKDcpLDAxNDQ0Hyc5PTgyPC4zNDL/wAALCAAcABwBAREA/8QAHwAAAQUBAQEBAQEAAAAAAAAAAAECAwQFBgcICQoL/8QAtRAAAgEDAwIEAwUFBAQAAAF9AQIDAAQRBRIhMUEGE1FhByJxFDKBkaEII0KxwRVS0fAkM2JyggkKFhcYGRolJicoKSo0NTY3ODk6Q0RFRkdISUpTVFVWV1hZWmNkZWZnaGlqc3R1dnd4eXqDhIWGh4iJipKTlJWWl5iZmqKjpKWmp6ipqrKztLW2t7i5usLDxMXGx8jJytLT1NXW19jZ2uHi4+Tl5ufo6erx8vP09fb3+Pn6/9oACAEBAAA/APn+lALEAAkngAd62PFGgjw1rR0trrz5o4Ynn/d7PLkZAzR9TnbnGfboKxqK634a6PHrPjrT1uAhs7Mm9ut/TyovmOfrgD8awte1M614h1LVCGX7ZcyThWOSoZiQM+2cVn0V6J4RFvo/wu8X63NKi3F6qaVarxuYsQ0nvjaR+XevO6KKKKK//9k=\" alt=\"<PIL.Image.Image image mode=L size=28x28 at 0x117B48520>\" />                                                                                                                                                                                </td></tr>\n",
       "<tr><td>[0, 0, 0, 0, 0, 0, 0, 0, 0, 0, 0, 0, 0, 0, 0, 0, 0, 0, 0,...</td><td style=\"text-align: right;\">                 0</td><td>&ltnp.ndarray<br>shape=(28, 28)<br>dtype=int64&gt</td><td><img style=\"max-height:128px;width:auto\" src=\"data:image/png;base64, /9j/4AAQSkZJRgABAQAAAQABAAD/2wBDAAgGBgcGBQgHBwcJCQgKDBQNDAsLDBkSEw8UHRofHh0aHBwgJC4nICIsIxwcKDcpLDAxNDQ0Hyc5PTgyPC4zNDL/wAALCAAcABwBAREA/8QAHwAAAQUBAQEBAQEAAAAAAAAAAAECAwQFBgcICQoL/8QAtRAAAgEDAwIEAwUFBAQAAAF9AQIDAAQRBRIhMUEGE1FhByJxFDKBkaEII0KxwRVS0fAkM2JyggkKFhcYGRolJicoKSo0NTY3ODk6Q0RFRkdISUpTVFVWV1hZWmNkZWZnaGlqc3R1dnd4eXqDhIWGh4iJipKTlJWWl5iZmqKjpKWmp6ipqrKztLW2t7i5usLDxMXGx8jJytLT1NXW19jZ2uHi4+Tl5ufo6erx8vP09fb3+Pn6/9oACAEBAAA/APn+u6+Hnwx1Lx9cTlZmsLGGMn7W8JdWfOAijIz3yc8Y+lcdqFjPpt9NaXMbJJE5U7lIzg4yM9qrVJbwtcXMUKqzNI4QBRkkk44r6F8c/Em3+GdnD4I8KWyi5sYVWS4lXiEsA/TGHZg24nplu5zjC11T8SPgyfFupp5WtaK7RG4Cqi3SFl4J46AjA9QcferxOtDQr9NK8Q6ZqMiF0tLuKdlHUhXDEfpX0VqHgHwJ461y88a3niUy2Ny0P7uKdIY0KoqbXZgTzt6fKetcF8VfiLpOo6Ta+E/CStBpNsx+0MkflpKRjaqgdVzkkkcnB9z5FRRRRX//2Q==\" alt=\"<PIL.Image.Image image mode=L size=28x28 at 0x117B487C0>\" />                            </td></tr>\n",
       "<tr><td>[0, 0, 0, 0, 0, 0, 0, 0, 0, 0, 0, 0, 0, 0, 0, 0, 0, 0, 0,...</td><td style=\"text-align: right;\">                 4</td><td>&ltnp.ndarray<br>shape=(28, 28)<br>dtype=int64&gt</td><td><img style=\"max-height:128px;width:auto\" src=\"data:image/png;base64, /9j/4AAQSkZJRgABAQAAAQABAAD/2wBDAAgGBgcGBQgHBwcJCQgKDBQNDAsLDBkSEw8UHRofHh0aHBwgJC4nICIsIxwcKDcpLDAxNDQ0Hyc5PTgyPC4zNDL/wAALCAAcABwBAREA/8QAHwAAAQUBAQEBAQEAAAAAAAAAAAECAwQFBgcICQoL/8QAtRAAAgEDAwIEAwUFBAQAAAF9AQIDAAQRBRIhMUEGE1FhByJxFDKBkaEII0KxwRVS0fAkM2JyggkKFhcYGRolJicoKSo0NTY3ODk6Q0RFRkdISUpTVFVWV1hZWmNkZWZnaGlqc3R1dnd4eXqDhIWGh4iJipKTlJWWl5iZmqKjpKWmp6ipqrKztLW2t7i5usLDxMXGx8jJytLT1NXW19jZ2uHi4+Tl5ufo6erx8vP09fb3+Pn6/9oACAEBAAA/APn+tC60W7s9E0/Vpggtr95kgGTuPl7QxPGMZbA57Gohpl0dHOqhAbRZxbswYZDldwBHuAefY1Uq/oenDWNf07TDIIxd3McBc/w7mAz+tb3xG1NLvxZcadZxmHS9JJsLKDGAiIcM2PVm3MSeeea2PElpH4a+Enh/SWTN7rVwdXmc8FIwmyNfoQxP5151T4ZpLeeOeF2jljYOjqcFWByCK7GT4qeKJRvkk097njN02nQNMSO5YpyccV0Hx4u3uPFOipI/72PRoTNGDgRyFnJG3+E9OPTFeV0UVJPPNczvPcSvLM53PJIxZmPqSetR1//Z\" alt=\"<PIL.Image.Image image mode=L size=28x28 at 0x117B48F10>\" />                                        </td></tr>\n",
       "<tr><td>[0, 0, 0, 0, 0, 0, 0, 0, 0, 0, 0, 0, 0, 0, 0, 0, 0, 0, 0,...</td><td style=\"text-align: right;\">                 1</td><td>&ltnp.ndarray<br>shape=(28, 28)<br>dtype=int64&gt</td><td><img style=\"max-height:128px;width:auto\" src=\"data:image/png;base64, /9j/4AAQSkZJRgABAQAAAQABAAD/2wBDAAgGBgcGBQgHBwcJCQgKDBQNDAsLDBkSEw8UHRofHh0aHBwgJC4nICIsIxwcKDcpLDAxNDQ0Hyc5PTgyPC4zNDL/wAALCAAcABwBAREA/8QAHwAAAQUBAQEBAQEAAAAAAAAAAAECAwQFBgcICQoL/8QAtRAAAgEDAwIEAwUFBAQAAAF9AQIDAAQRBRIhMUEGE1FhByJxFDKBkaEII0KxwRVS0fAkM2JyggkKFhcYGRolJicoKSo0NTY3ODk6Q0RFRkdISUpTVFVWV1hZWmNkZWZnaGlqc3R1dnd4eXqDhIWGh4iJipKTlJWWl5iZmqKjpKWmp6ipqrKztLW2t7i5usLDxMXGx8jJytLT1NXW19jZ2uHi4+Tl5ufo6erx8vP09fb3+Pn6/9oACAEBAAA/APn+nIjSOqIpZmOAB1Jrb8V+EtT8GarFpuq+R9pkgSfEMm8KGzwfQgggj8sjBrCorvvg3oI1z4kaeZULW1jm8lO3IGz7uf8AgW2sTx54iPirxvqurhswzTFYOMful+VOO3ygE+5Nc5RXqvgG4Hh34TeM/EUIH22Yx6dC4bDRhupH/fYP/Aa8qooqVLidIJIEmkWGQgvGGIViOmR0OKior//Z\" alt=\"<PIL.Image.Image image mode=L size=28x28 at 0x117B48A00>\" />                                                                                                                                                </td></tr>\n",
       "<tr><td>[0, 0, 0, 0, 0, 0, 0, 0, 0, 0, 0, 0, 0, 0, 0, 0, 0, 0, 0,...</td><td style=\"text-align: right;\">                 4</td><td>&ltnp.ndarray<br>shape=(28, 28)<br>dtype=int64&gt</td><td><img style=\"max-height:128px;width:auto\" src=\"data:image/png;base64, /9j/4AAQSkZJRgABAQAAAQABAAD/2wBDAAgGBgcGBQgHBwcJCQgKDBQNDAsLDBkSEw8UHRofHh0aHBwgJC4nICIsIxwcKDcpLDAxNDQ0Hyc5PTgyPC4zNDL/wAALCAAcABwBAREA/8QAHwAAAQUBAQEBAQEAAAAAAAAAAAECAwQFBgcICQoL/8QAtRAAAgEDAwIEAwUFBAQAAAF9AQIDAAQRBRIhMUEGE1FhByJxFDKBkaEII0KxwRVS0fAkM2JyggkKFhcYGRolJicoKSo0NTY3ODk6Q0RFRkdISUpTVFVWV1hZWmNkZWZnaGlqc3R1dnd4eXqDhIWGh4iJipKTlJWWl5iZmqKjpKWmp6ipqrKztLW2t7i5usLDxMXGx8jJytLT1NXW19jZ2uHi4+Tl5ufo6erx8vP09fb3+Pn6/9oACAEBAAA/APn8DJwOtbWveF9R8NxWB1PyYp7yHz1tRJmWJD08xf4SRyAefyNVtL0PUNZivpbOJWisYDcXEjuEWNB6knqTwB1JrOrc8HXGkWnjDS7jXU36XHOGuBgnjsSByQDg8eneu68W+F9I8QeIbrXm+I+iTR30jSjzN/moucBPLUEjCgAA4zjgVB8RYbPwLo1v4D0m6FxM7C71e52KGlfH7uPjkKvzHB/vCvMKK734O6JFrPxCtmnjEsOnxPfNDs3GUpjaoHruZT+Fc94ui1ZfE15PrcSw6jdSG4miDKTGXJO0gH5T7Hkd6w6Kmtru5spvOtbiWCXBXfE5VsHgjIqEkk5JyaK//9k=\" alt=\"<PIL.Image.Image image mode=L size=28x28 at 0x117B48AC0>\" />            </td></tr>\n",
       "<tr><td>[0, 0, 0, 0, 0, 0, 0, 0, 0, 0, 0, 0, 0, 0, 0, 0, 0, 0, 0,...</td><td style=\"text-align: right;\">                 9</td><td>&ltnp.ndarray<br>shape=(28, 28)<br>dtype=int64&gt</td><td><img style=\"max-height:128px;width:auto\" src=\"data:image/png;base64, /9j/4AAQSkZJRgABAQAAAQABAAD/2wBDAAgGBgcGBQgHBwcJCQgKDBQNDAsLDBkSEw8UHRofHh0aHBwgJC4nICIsIxwcKDcpLDAxNDQ0Hyc5PTgyPC4zNDL/wAALCAAcABwBAREA/8QAHwAAAQUBAQEBAQEAAAAAAAAAAAECAwQFBgcICQoL/8QAtRAAAgEDAwIEAwUFBAQAAAF9AQIDAAQRBRIhMUEGE1FhByJxFDKBkaEII0KxwRVS0fAkM2JyggkKFhcYGRolJicoKSo0NTY3ODk6Q0RFRkdISUpTVFVWV1hZWmNkZWZnaGlqc3R1dnd4eXqDhIWGh4iJipKTlJWWl5iZmqKjpKWmp6ipqrKztLW2t7i5usLDxMXGx8jJytLT1NXW19jZ2uHi4+Tl5ufo6erx8vP09fb3+Pn6/9oACAEBAAA/APn+tODw9q9zod1rUOnztplqVE11twiksFABPU5I6ZxmsyiivqLRLvU9Lm0Tw8ui2EngQ6RHJdX8ynyjuQu7MzYXlv4SP4sn28K+JegweHPH+qafaW8kFnvEturEEbGGflx/DkkD6c81yVFasniXWpfD8egyancNpUb70tS3yA/4c5x0rsdQuB48+G8V40gbXvDSeXcA8vcWZICv6koSAfQHPevOaKKuabqt9o9xJPYXDQSSwvBJgAh43GGUg8EEf0PUVTr/2Q==\" alt=\"<PIL.Image.Image image mode=L size=28x28 at 0x117B48970>\" />                                                                                            </td></tr>\n",
       "<tr><td>[0, 0, 0, 0, 0, 0, 0, 0, 0, 0, 0, 0, 0, 0, 0, 0, 0, 0, 0,...</td><td style=\"text-align: right;\">                 5</td><td>&ltnp.ndarray<br>shape=(28, 28)<br>dtype=int64&gt</td><td><img style=\"max-height:128px;width:auto\" src=\"data:image/png;base64, /9j/4AAQSkZJRgABAQAAAQABAAD/2wBDAAgGBgcGBQgHBwcJCQgKDBQNDAsLDBkSEw8UHRofHh0aHBwgJC4nICIsIxwcKDcpLDAxNDQ0Hyc5PTgyPC4zNDL/wAALCAAcABwBAREA/8QAHwAAAQUBAQEBAQEAAAAAAAAAAAECAwQFBgcICQoL/8QAtRAAAgEDAwIEAwUFBAQAAAF9AQIDAAQRBRIhMUEGE1FhByJxFDKBkaEII0KxwRVS0fAkM2JyggkKFhcYGRolJicoKSo0NTY3ODk6Q0RFRkdISUpTVFVWV1hZWmNkZWZnaGlqc3R1dnd4eXqDhIWGh4iJipKTlJWWl5iZmqKjpKWmp6ipqrKztLW2t7i5usLDxMXGx8jJytLT1NXW19jZ2uHi4+Tl5ufo6erx8vP09fb3+Pn6/9oACAEBAAA/APn+tnw34W1nxbqJsNFszczqu9xvVQi5xkliBjmvRV/Z78QxRxPe6zo9qHzkNKxKnB/2QDzjoe9eWarp76TrF7p0kscr2lxJA0kRyrlGKkqfQ44rp/hh4Qi8aeMY7C53m0gha6nRDhnRSBtB7ZLAZ96k8Saj4ssfFl/fw6fqHh5yFiWC0RoRFCMbEyoAIwBz3PNcjeXF5cXDNfTTyzg4YzsWbPvnmq9XtI1nUtA1KPUNKvJbS7j+7JGcHHoR0I9jwa9/+FfxZvtfhv8AStf1ezj1bCtYz3MQVH4wVYKVyc4PUHk+lcJ8cvEeheIPE1l/Y8sNzNawGO6uoEwkjZyAD3xz69epry2iiiiv/9k=\" alt=\"<PIL.Image.Image image mode=L size=28x28 at 0x117B48E20>\" /></td></tr>\n",
       "<tr><td>[0, 0, 0, 0, 0, 0, 0, 0, 0, 0, 0, 0, 0, 0, 0, 0, 0, 0, 0,...</td><td style=\"text-align: right;\">                 9</td><td>&ltnp.ndarray<br>shape=(28, 28)<br>dtype=int64&gt</td><td><img style=\"max-height:128px;width:auto\" src=\"data:image/png;base64, /9j/4AAQSkZJRgABAQAAAQABAAD/2wBDAAgGBgcGBQgHBwcJCQgKDBQNDAsLDBkSEw8UHRofHh0aHBwgJC4nICIsIxwcKDcpLDAxNDQ0Hyc5PTgyPC4zNDL/wAALCAAcABwBAREA/8QAHwAAAQUBAQEBAQEAAAAAAAAAAAECAwQFBgcICQoL/8QAtRAAAgEDAwIEAwUFBAQAAAF9AQIDAAQRBRIhMUEGE1FhByJxFDKBkaEII0KxwRVS0fAkM2JyggkKFhcYGRolJicoKSo0NTY3ODk6Q0RFRkdISUpTVFVWV1hZWmNkZWZnaGlqc3R1dnd4eXqDhIWGh4iJipKTlJWWl5iZmqKjpKWmp6ipqrKztLW2t7i5usLDxMXGx8jJytLT1NXW19jZ2uHi4+Tl5ufo6erx8vP09fb3+Pn6/9oACAEBAAA/APn+pIYJbiVYoInlkbgIilifwFSXlheadP5F9aT2s2M+XPGUb8iKr1f0S0s77XLG01C7FnZzTKk1wf8AlmpPLV9EXGh6zpyLpvwzTw7pljMqhdRa7WW5us4O4HDcdR39sVL47u08P/De9sPG2qW+p6jd2qx2dsi/OJlQKZA2ASu8CTJAwcjJzXzHRXtHwx0jTvBnhC6+JHiG3DupMelQswzI3IyB2JOQCegDHGOa8q8Qa9feJddu9W1CUvcXEhbGSQgzwq56ADgCsyiug1zxnq3iHQ9H0e9eIWekw+VAkSld3AAZueWwAM8fqa5+iv/Z\" alt=\"<PIL.Image.Image image mode=L size=28x28 at 0x117B48AF0>\" />                                        </td></tr>\n",
       "</tbody>\n",
       "</table>\n",
       "            <small>(Showing first 10 rows)</small>\n",
       "        </div>\n",
       "    "
      ],
      "text/plain": [
       "+----------------------+-----------+----------------------+------------------+\n",
       "| image                |     label | image_2d             | pil_image        |\n",
       "| PY[list]             |   INTEGER | PY[ndarray]          | PY[Image]        |\n",
       "+======================+===========+======================+==================+\n",
       "| [0, 0, 0, 0, 0, 0,   |         7 | [[  0   0   0   0    | <PIL.Image.Image |\n",
       "| 0, 0, 0, 0, 0, 0, 0, |           | 0   0   0   0   0    | image mode=L     |\n",
       "| 0, 0, 0, 0, 0, 0,... |           | 0   0   0   0   0... | size=28x28 at    |\n",
       "|                      |           |                      | 0x117B489D0>     |\n",
       "+----------------------+-----------+----------------------+------------------+\n",
       "| [0, 0, 0, 0, 0, 0,   |         2 | [[  0   0   0   0    | <PIL.Image.Image |\n",
       "| 0, 0, 0, 0, 0, 0, 0, |           | 0   0   0   0   0    | image mode=L     |\n",
       "| 0, 0, 0, 0, 0, 0,... |           | 0   0   0   0   0... | size=28x28 at    |\n",
       "|                      |           |                      | 0x117B48430>     |\n",
       "+----------------------+-----------+----------------------+------------------+\n",
       "| [0, 0, 0, 0, 0, 0,   |         1 | [[  0   0   0   0    | <PIL.Image.Image |\n",
       "| 0, 0, 0, 0, 0, 0, 0, |           | 0   0   0   0   0    | image mode=L     |\n",
       "| 0, 0, 0, 0, 0, 0,... |           | 0   0   0   0   0... | size=28x28 at    |\n",
       "|                      |           |                      | 0x117B48520>     |\n",
       "+----------------------+-----------+----------------------+------------------+\n",
       "| [0, 0, 0, 0, 0, 0,   |         0 | [[  0   0   0   0    | <PIL.Image.Image |\n",
       "| 0, 0, 0, 0, 0, 0, 0, |           | 0   0   0   0   0    | image mode=L     |\n",
       "| 0, 0, 0, 0, 0, 0,... |           | 0   0   0   0   0... | size=28x28 at    |\n",
       "|                      |           |                      | 0x117B487C0>     |\n",
       "+----------------------+-----------+----------------------+------------------+\n",
       "| [0, 0, 0, 0, 0, 0,   |         4 | [[  0   0   0   0    | <PIL.Image.Image |\n",
       "| 0, 0, 0, 0, 0, 0, 0, |           | 0   0   0   0   0    | image mode=L     |\n",
       "| 0, 0, 0, 0, 0, 0,... |           | 0   0   0   0   0... | size=28x28 at    |\n",
       "|                      |           |                      | 0x117B48F10>     |\n",
       "+----------------------+-----------+----------------------+------------------+\n",
       "| [0, 0, 0, 0, 0, 0,   |         1 | [[  0   0   0   0    | <PIL.Image.Image |\n",
       "| 0, 0, 0, 0, 0, 0, 0, |           | 0   0   0   0   0    | image mode=L     |\n",
       "| 0, 0, 0, 0, 0, 0,... |           | 0   0   0   0   0... | size=28x28 at    |\n",
       "|                      |           |                      | 0x117B48A00>     |\n",
       "+----------------------+-----------+----------------------+------------------+\n",
       "| [0, 0, 0, 0, 0, 0,   |         4 | [[  0   0   0   0    | <PIL.Image.Image |\n",
       "| 0, 0, 0, 0, 0, 0, 0, |           | 0   0   0   0   0    | image mode=L     |\n",
       "| 0, 0, 0, 0, 0, 0,... |           | 0   0   0   0   0... | size=28x28 at    |\n",
       "|                      |           |                      | 0x117B48AC0>     |\n",
       "+----------------------+-----------+----------------------+------------------+\n",
       "| [0, 0, 0, 0, 0, 0,   |         9 | [[  0   0   0   0    | <PIL.Image.Image |\n",
       "| 0, 0, 0, 0, 0, 0, 0, |           | 0   0   0   0   0    | image mode=L     |\n",
       "| 0, 0, 0, 0, 0, 0,... |           | 0   0   0   0   0... | size=28x28 at    |\n",
       "|                      |           |                      | 0x117B48970>     |\n",
       "+----------------------+-----------+----------------------+------------------+\n",
       "| [0, 0, 0, 0, 0, 0,   |         5 | [[  0   0   0   0    | <PIL.Image.Image |\n",
       "| 0, 0, 0, 0, 0, 0, 0, |           | 0   0   0   0   0    | image mode=L     |\n",
       "| 0, 0, 0, 0, 0, 0,... |           | 0   0   0   0   0... | size=28x28 at    |\n",
       "|                      |           |                      | 0x117B48E20>     |\n",
       "+----------------------+-----------+----------------------+------------------+\n",
       "| [0, 0, 0, 0, 0, 0,   |         9 | [[  0   0   0   0    | <PIL.Image.Image |\n",
       "| 0, 0, 0, 0, 0, 0, 0, |           | 0   0   0   0   0    | image mode=L     |\n",
       "| 0, 0, 0, 0, 0, 0,... |           | 0   0   0   0   0... | size=28x28 at    |\n",
       "|                      |           |                      | 0x117B48AF0>     |\n",
       "+----------------------+-----------+----------------------+------------------+\n",
       "(Showing first 10 rows)"
      ]
     },
     "execution_count": 7,
     "metadata": {},
     "output_type": "execute_result"
    }
   ],
   "source": [
    "images_df.show(10)"
   ]
  },
  {
   "cell_type": "markdown",
   "id": "e6b633f4-3d9d-4c25-9075-bc815d8e357f",
   "metadata": {},
   "source": [
    "Amazing! This looks great and we can finally get some idea of what the dataset truly looks like."
   ]
  },
  {
   "cell_type": "markdown",
   "id": "cd7e6774-9fb7-4827-a324-c116c8c812e1",
   "metadata": {},
   "source": [
    "## Running a model with Stateful UDFs\n",
    "\n",
    "Next, let's try to run a deep learning model to classify each image. Models are expensive to initialize and load, so we want to do this as few times as possible, and share a model across multiple invocations. Here's how we can do it with \"Stateful UDFs\".\n",
    "\n",
    "For the convenience of this quickstart tutorial, we pre-trained a model using a PyTorch-provided example script and saved the trained weights at https://github.com/Eventual-Inc/mnist-json/raw/master/mnist_cnn.pt.  We need to define the same deep learning model \"scaffold\" as the trained model that we want to load (this part is all PyTorch and is not specific at all to DaFt)"
   ]
  },
  {
   "cell_type": "code",
   "execution_count": 8,
   "id": "5ff43066-8a42-4773-974f-160ca4a9bc49",
   "metadata": {
    "tags": []
   },
   "outputs": [],
   "source": [
    "###\n",
    "# Model was trained using a script provided in PyTorch Examples: https://github.com/pytorch/examples/blob/main/mnist/main.py\n",
    "###\n",
    "\n",
    "from __future__ import print_function\n",
    "import argparse\n",
    "import torch\n",
    "import torch.nn as nn\n",
    "import torch.nn.functional as F\n",
    "import torch.optim as optim\n",
    "import torch.hub\n",
    "from torchvision import datasets, transforms\n",
    "from torch.optim.lr_scheduler import StepLR\n",
    "\n",
    "class Net(nn.Module):\n",
    "    def __init__(self):\n",
    "        super(Net, self).__init__()\n",
    "        self.conv1 = nn.Conv2d(1, 32, 3, 1)\n",
    "        self.conv2 = nn.Conv2d(32, 64, 3, 1)\n",
    "        self.dropout1 = nn.Dropout(0.25)\n",
    "        self.dropout2 = nn.Dropout(0.5)\n",
    "        self.fc1 = nn.Linear(9216, 128)\n",
    "        self.fc2 = nn.Linear(128, 10)\n",
    "\n",
    "    def forward(self, x):\n",
    "        x = self.conv1(x)\n",
    "        x = F.relu(x)\n",
    "        x = self.conv2(x)\n",
    "        x = F.relu(x)\n",
    "        x = F.max_pool2d(x, 2)\n",
    "        x = self.dropout1(x)\n",
    "        x = torch.flatten(x, 1)\n",
    "        x = self.fc1(x)\n",
    "        x = F.relu(x)\n",
    "        x = self.dropout2(x)\n",
    "        x = self.fc2(x)\n",
    "        output = F.log_softmax(x, dim=1)\n",
    "        return output"
   ]
  },
  {
   "cell_type": "markdown",
   "id": "266c1cf8-bf9a-4990-8182-97b072f15b57",
   "metadata": {},
   "source": [
    "Now comes the fun part - we can define a Stateful UDF using a class and the `@udf` decorator. This lets us use the class' `__init__` method to perform any expensive initializations such as downloading the model weights and loading the model."
   ]
  },
  {
   "cell_type": "code",
   "execution_count": 9,
   "id": "fda097ea-4946-483c-bcc0-5271e0b033c3",
   "metadata": {},
   "outputs": [
    {
     "name": "stderr",
     "output_type": "stream",
     "text": [
      "/Users/jaychia/code/Daft/daft/udf.py:88: UserWarning: DEPRECATION WARNING: @udf will be deprecated in 0.1.0 in favor of @polars_udf which is much more efficient and handles Null/NaN semantics correctly\n",
      "  warnings.warn(\n"
     ]
    }
   ],
   "source": [
    "@udf(return_dtype=int, input_columns={\"images_2d_col\": list})\n",
    "class ClassifyImages:\n",
    "\n",
    "    def __init__(self):\n",
    "        # Perform expensive initializations - create the model, download model weights and load up the model with weights\n",
    "        self._model = Net()\n",
    "        state_dict = torch.hub.load_state_dict_from_url(\"https://github.com/Eventual-Inc/mnist-json/raw/master/mnist_cnn.pt\")\n",
    "        self._model.load_state_dict(state_dict)\n",
    "\n",
    "    def __call__(self, images_2d_col):\n",
    "        images_arr = np.array(images_2d_col)\n",
    "        normalized_image_2d = images_arr / 255\n",
    "        normalized_image_2d = normalized_image_2d[:, np.newaxis, :, :]\n",
    "        classifications = self._model(torch.from_numpy(normalized_image_2d).float())\n",
    "        return classifications.detach().numpy().argmax(axis=1)"
   ]
  },
  {
   "cell_type": "markdown",
   "id": "3605d3a6-f9ce-4e81-9e0f-5190f981bbd4",
   "metadata": {},
   "source": [
    "Using this Stateful Class UDF is really easy, we simply run it on the columns that we want to process:"
   ]
  },
  {
   "cell_type": "code",
   "execution_count": 10,
   "id": "4f9fd9f8-a231-44fb-a519-0288f670a34a",
   "metadata": {},
   "outputs": [
    {
     "data": {
      "text/html": [
       "\n",
       "        <div>\n",
       "            <table class=\"dataframe\">\n",
       "<thead>\n",
       "<tr><th>image<br>PY[list]                                           </th><th style=\"text-align: right;\">  label<br>INTEGER</th><th>image_2d<br>PY[ndarray]                          </th><th>pil_image<br>PY[Image]                                                                                                                                                                                                                                                                                                                                                                                                                                                                                                                                                                                                                                                                                                                                                                                                                                                                                                                                              </th><th style=\"text-align: right;\">  model_classification<br>INTEGER</th></tr>\n",
       "</thead>\n",
       "<tbody>\n",
       "<tr><td>[0, 0, 0, 0, 0, 0, 0, 0, 0, 0, 0, 0, 0, 0, 0, 0, 0, 0, 0,...</td><td style=\"text-align: right;\">                 7</td><td>&ltnp.ndarray<br>shape=(28, 28)<br>dtype=int64&gt</td><td><img style=\"max-height:128px;width:auto\" src=\"data:image/png;base64, /9j/4AAQSkZJRgABAQAAAQABAAD/2wBDAAgGBgcGBQgHBwcJCQgKDBQNDAsLDBkSEw8UHRofHh0aHBwgJC4nICIsIxwcKDcpLDAxNDQ0Hyc5PTgyPC4zNDL/wAALCAAcABwBAREA/8QAHwAAAQUBAQEBAQEAAAAAAAAAAAECAwQFBgcICQoL/8QAtRAAAgEDAwIEAwUFBAQAAAF9AQIDAAQRBRIhMUEGE1FhByJxFDKBkaEII0KxwRVS0fAkM2JyggkKFhcYGRolJicoKSo0NTY3ODk6Q0RFRkdISUpTVFVWV1hZWmNkZWZnaGlqc3R1dnd4eXqDhIWGh4iJipKTlJWWl5iZmqKjpKWmp6ipqrKztLW2t7i5usLDxMXGx8jJytLT1NXW19jZ2uHi4+Tl5ufo6erx8vP09fb3+Pn6/9oACAEBAAA/APA4Lea6nSC3hkmmc4SONSzMfQAdadc2dzZSmK7tpoJB/BKhU/kahoq1pupXuj6hDf6dcyW13CSY5YzhlyCDj8CRXXWvxe8b20SxtrH2lVOQbqCOU9OmWUn/APVXUfEfxBqCfDzSNJ16S2uNd1JxqEqpbohtIMYjQbQBlsEnv1HpXj9Fdx8OvDNlqNxe+IdeVh4e0VPPucLnznyNkQ/3j1/LjOa57xPr9z4n8R3usXQ2vcSZVB0jQcKo9gABWRRXSxeOdXt/A0nhGAW0WnSzGaZ1j/ey8g7SxOMZA6AHjrXNUV//2Q==\" alt=\"<PIL.Image.Image image mode=L size=28x28 at 0x117BD3AF0>\" />                                                    </td><td style=\"text-align: right;\">                                7</td></tr>\n",
       "<tr><td>[0, 0, 0, 0, 0, 0, 0, 0, 0, 0, 0, 0, 0, 0, 0, 0, 0, 0, 0,...</td><td style=\"text-align: right;\">                 2</td><td>&ltnp.ndarray<br>shape=(28, 28)<br>dtype=int64&gt</td><td><img style=\"max-height:128px;width:auto\" src=\"data:image/png;base64, /9j/4AAQSkZJRgABAQAAAQABAAD/2wBDAAgGBgcGBQgHBwcJCQgKDBQNDAsLDBkSEw8UHRofHh0aHBwgJC4nICIsIxwcKDcpLDAxNDQ0Hyc5PTgyPC4zNDL/wAALCAAcABwBAREA/8QAHwAAAQUBAQEBAQEAAAAAAAAAAAECAwQFBgcICQoL/8QAtRAAAgEDAwIEAwUFBAQAAAF9AQIDAAQRBRIhMUEGE1FhByJxFDKBkaEII0KxwRVS0fAkM2JyggkKFhcYGRolJicoKSo0NTY3ODk6Q0RFRkdISUpTVFVWV1hZWmNkZWZnaGlqc3R1dnd4eXqDhIWGh4iJipKTlJWWl5iZmqKjpKWmp6ipqrKztLW2t7i5usLDxMXGx8jJytLT1NXW19jZ2uHi4+Tl5ufo6erx8vP09fb3+Pn6/9oACAEBAAA/APAY42lkWNBl2IVR6k17BB8L/BemalZaB4h8TXr+I7oKhtNNi3rDI3TcdpyB36HvwK8z8UaL/wAI74o1LRxOs4s52iEg/iAPGff196yaK9d+H1lbeCPCdz8SNZjWW5bdBpFtJw0jn5TIDn/eHToCe4ryvUb+51XUrnULyQyXNzK0srnuzHJqtRX0J4utvBHxCXSLez+INlo+m2dqqQ2EkQCIf7xLMoB24XB9Pc1wp8D+AdMc/wBrfEaCbazDy9Os2l3YHGHBIHPtj3riNfg0a31V00G8ubuw2qUkuYhG+ccgge9ZlFFFf//Z\" alt=\"<PIL.Image.Image image mode=L size=28x28 at 0x117BD2B90>\" />                                                </td><td style=\"text-align: right;\">                                2</td></tr>\n",
       "<tr><td>[0, 0, 0, 0, 0, 0, 0, 0, 0, 0, 0, 0, 0, 0, 0, 0, 0, 0, 0,...</td><td style=\"text-align: right;\">                 1</td><td>&ltnp.ndarray<br>shape=(28, 28)<br>dtype=int64&gt</td><td><img style=\"max-height:128px;width:auto\" src=\"data:image/png;base64, /9j/4AAQSkZJRgABAQAAAQABAAD/2wBDAAgGBgcGBQgHBwcJCQgKDBQNDAsLDBkSEw8UHRofHh0aHBwgJC4nICIsIxwcKDcpLDAxNDQ0Hyc5PTgyPC4zNDL/wAALCAAcABwBAREA/8QAHwAAAQUBAQEBAQEAAAAAAAAAAAECAwQFBgcICQoL/8QAtRAAAgEDAwIEAwUFBAQAAAF9AQIDAAQRBRIhMUEGE1FhByJxFDKBkaEII0KxwRVS0fAkM2JyggkKFhcYGRolJicoKSo0NTY3ODk6Q0RFRkdISUpTVFVWV1hZWmNkZWZnaGlqc3R1dnd4eXqDhIWGh4iJipKTlJWWl5iZmqKjpKWmp6ipqrKztLW2t7i5usLDxMXGx8jJytLT1NXW19jZ2uHi4+Tl5ufo6erx8vP09fb3+Pn6/9oACAEBAAA/APn+lALEAAkngAd62PFGgjw1rR0trrz5o4Ynn/d7PLkZAzR9TnbnGfboKxqK634a6PHrPjrT1uAhs7Mm9ut/TyovmOfrgD8awte1M614h1LVCGX7ZcyThWOSoZiQM+2cVn0V6J4RFvo/wu8X63NKi3F6qaVarxuYsQ0nvjaR+XevO6KKKKK//9k=\" alt=\"<PIL.Image.Image image mode=L size=28x28 at 0x117BD3DF0>\" />                                                                                                                                                                                </td><td style=\"text-align: right;\">                                1</td></tr>\n",
       "<tr><td>[0, 0, 0, 0, 0, 0, 0, 0, 0, 0, 0, 0, 0, 0, 0, 0, 0, 0, 0,...</td><td style=\"text-align: right;\">                 0</td><td>&ltnp.ndarray<br>shape=(28, 28)<br>dtype=int64&gt</td><td><img style=\"max-height:128px;width:auto\" src=\"data:image/png;base64, /9j/4AAQSkZJRgABAQAAAQABAAD/2wBDAAgGBgcGBQgHBwcJCQgKDBQNDAsLDBkSEw8UHRofHh0aHBwgJC4nICIsIxwcKDcpLDAxNDQ0Hyc5PTgyPC4zNDL/wAALCAAcABwBAREA/8QAHwAAAQUBAQEBAQEAAAAAAAAAAAECAwQFBgcICQoL/8QAtRAAAgEDAwIEAwUFBAQAAAF9AQIDAAQRBRIhMUEGE1FhByJxFDKBkaEII0KxwRVS0fAkM2JyggkKFhcYGRolJicoKSo0NTY3ODk6Q0RFRkdISUpTVFVWV1hZWmNkZWZnaGlqc3R1dnd4eXqDhIWGh4iJipKTlJWWl5iZmqKjpKWmp6ipqrKztLW2t7i5usLDxMXGx8jJytLT1NXW19jZ2uHi4+Tl5ufo6erx8vP09fb3+Pn6/9oACAEBAAA/APn+u6+Hnwx1Lx9cTlZmsLGGMn7W8JdWfOAijIz3yc8Y+lcdqFjPpt9NaXMbJJE5U7lIzg4yM9qrVJbwtcXMUKqzNI4QBRkkk44r6F8c/Em3+GdnD4I8KWyi5sYVWS4lXiEsA/TGHZg24nplu5zjC11T8SPgyfFupp5WtaK7RG4Cqi3SFl4J46AjA9QcferxOtDQr9NK8Q6ZqMiF0tLuKdlHUhXDEfpX0VqHgHwJ461y88a3niUy2Ny0P7uKdIY0KoqbXZgTzt6fKetcF8VfiLpOo6Ta+E/CStBpNsx+0MkflpKRjaqgdVzkkkcnB9z5FRRRRX//2Q==\" alt=\"<PIL.Image.Image image mode=L size=28x28 at 0x117BD3AC0>\" />                            </td><td style=\"text-align: right;\">                                0</td></tr>\n",
       "<tr><td>[0, 0, 0, 0, 0, 0, 0, 0, 0, 0, 0, 0, 0, 0, 0, 0, 0, 0, 0,...</td><td style=\"text-align: right;\">                 4</td><td>&ltnp.ndarray<br>shape=(28, 28)<br>dtype=int64&gt</td><td><img style=\"max-height:128px;width:auto\" src=\"data:image/png;base64, /9j/4AAQSkZJRgABAQAAAQABAAD/2wBDAAgGBgcGBQgHBwcJCQgKDBQNDAsLDBkSEw8UHRofHh0aHBwgJC4nICIsIxwcKDcpLDAxNDQ0Hyc5PTgyPC4zNDL/wAALCAAcABwBAREA/8QAHwAAAQUBAQEBAQEAAAAAAAAAAAECAwQFBgcICQoL/8QAtRAAAgEDAwIEAwUFBAQAAAF9AQIDAAQRBRIhMUEGE1FhByJxFDKBkaEII0KxwRVS0fAkM2JyggkKFhcYGRolJicoKSo0NTY3ODk6Q0RFRkdISUpTVFVWV1hZWmNkZWZnaGlqc3R1dnd4eXqDhIWGh4iJipKTlJWWl5iZmqKjpKWmp6ipqrKztLW2t7i5usLDxMXGx8jJytLT1NXW19jZ2uHi4+Tl5ufo6erx8vP09fb3+Pn6/9oACAEBAAA/APn+tC60W7s9E0/Vpggtr95kgGTuPl7QxPGMZbA57Gohpl0dHOqhAbRZxbswYZDldwBHuAefY1Uq/oenDWNf07TDIIxd3McBc/w7mAz+tb3xG1NLvxZcadZxmHS9JJsLKDGAiIcM2PVm3MSeeea2PElpH4a+Enh/SWTN7rVwdXmc8FIwmyNfoQxP5151T4ZpLeeOeF2jljYOjqcFWByCK7GT4qeKJRvkk097njN02nQNMSO5YpyccV0Hx4u3uPFOipI/72PRoTNGDgRyFnJG3+E9OPTFeV0UVJPPNczvPcSvLM53PJIxZmPqSetR1//Z\" alt=\"<PIL.Image.Image image mode=L size=28x28 at 0x117BD3520>\" />                                        </td><td style=\"text-align: right;\">                                4</td></tr>\n",
       "<tr><td>[0, 0, 0, 0, 0, 0, 0, 0, 0, 0, 0, 0, 0, 0, 0, 0, 0, 0, 0,...</td><td style=\"text-align: right;\">                 1</td><td>&ltnp.ndarray<br>shape=(28, 28)<br>dtype=int64&gt</td><td><img style=\"max-height:128px;width:auto\" src=\"data:image/png;base64, /9j/4AAQSkZJRgABAQAAAQABAAD/2wBDAAgGBgcGBQgHBwcJCQgKDBQNDAsLDBkSEw8UHRofHh0aHBwgJC4nICIsIxwcKDcpLDAxNDQ0Hyc5PTgyPC4zNDL/wAALCAAcABwBAREA/8QAHwAAAQUBAQEBAQEAAAAAAAAAAAECAwQFBgcICQoL/8QAtRAAAgEDAwIEAwUFBAQAAAF9AQIDAAQRBRIhMUEGE1FhByJxFDKBkaEII0KxwRVS0fAkM2JyggkKFhcYGRolJicoKSo0NTY3ODk6Q0RFRkdISUpTVFVWV1hZWmNkZWZnaGlqc3R1dnd4eXqDhIWGh4iJipKTlJWWl5iZmqKjpKWmp6ipqrKztLW2t7i5usLDxMXGx8jJytLT1NXW19jZ2uHi4+Tl5ufo6erx8vP09fb3+Pn6/9oACAEBAAA/APn+nIjSOqIpZmOAB1Jrb8V+EtT8GarFpuq+R9pkgSfEMm8KGzwfQgggj8sjBrCorvvg3oI1z4kaeZULW1jm8lO3IGz7uf8AgW2sTx54iPirxvqurhswzTFYOMful+VOO3ygE+5Nc5RXqvgG4Hh34TeM/EUIH22Yx6dC4bDRhupH/fYP/Aa8qooqVLidIJIEmkWGQgvGGIViOmR0OKior//Z\" alt=\"<PIL.Image.Image image mode=L size=28x28 at 0x117BD1270>\" />                                                                                                                                                </td><td style=\"text-align: right;\">                                1</td></tr>\n",
       "<tr><td>[0, 0, 0, 0, 0, 0, 0, 0, 0, 0, 0, 0, 0, 0, 0, 0, 0, 0, 0,...</td><td style=\"text-align: right;\">                 4</td><td>&ltnp.ndarray<br>shape=(28, 28)<br>dtype=int64&gt</td><td><img style=\"max-height:128px;width:auto\" src=\"data:image/png;base64, /9j/4AAQSkZJRgABAQAAAQABAAD/2wBDAAgGBgcGBQgHBwcJCQgKDBQNDAsLDBkSEw8UHRofHh0aHBwgJC4nICIsIxwcKDcpLDAxNDQ0Hyc5PTgyPC4zNDL/wAALCAAcABwBAREA/8QAHwAAAQUBAQEBAQEAAAAAAAAAAAECAwQFBgcICQoL/8QAtRAAAgEDAwIEAwUFBAQAAAF9AQIDAAQRBRIhMUEGE1FhByJxFDKBkaEII0KxwRVS0fAkM2JyggkKFhcYGRolJicoKSo0NTY3ODk6Q0RFRkdISUpTVFVWV1hZWmNkZWZnaGlqc3R1dnd4eXqDhIWGh4iJipKTlJWWl5iZmqKjpKWmp6ipqrKztLW2t7i5usLDxMXGx8jJytLT1NXW19jZ2uHi4+Tl5ufo6erx8vP09fb3+Pn6/9oACAEBAAA/APn8DJwOtbWveF9R8NxWB1PyYp7yHz1tRJmWJD08xf4SRyAefyNVtL0PUNZivpbOJWisYDcXEjuEWNB6knqTwB1JrOrc8HXGkWnjDS7jXU36XHOGuBgnjsSByQDg8eneu68W+F9I8QeIbrXm+I+iTR30jSjzN/moucBPLUEjCgAA4zjgVB8RYbPwLo1v4D0m6FxM7C71e52KGlfH7uPjkKvzHB/vCvMKK734O6JFrPxCtmnjEsOnxPfNDs3GUpjaoHruZT+Fc94ui1ZfE15PrcSw6jdSG4miDKTGXJO0gH5T7Hkd6w6Kmtru5spvOtbiWCXBXfE5VsHgjIqEkk5JyaK//9k=\" alt=\"<PIL.Image.Image image mode=L size=28x28 at 0x117BD1300>\" />            </td><td style=\"text-align: right;\">                                4</td></tr>\n",
       "<tr><td>[0, 0, 0, 0, 0, 0, 0, 0, 0, 0, 0, 0, 0, 0, 0, 0, 0, 0, 0,...</td><td style=\"text-align: right;\">                 9</td><td>&ltnp.ndarray<br>shape=(28, 28)<br>dtype=int64&gt</td><td><img style=\"max-height:128px;width:auto\" src=\"data:image/png;base64, /9j/4AAQSkZJRgABAQAAAQABAAD/2wBDAAgGBgcGBQgHBwcJCQgKDBQNDAsLDBkSEw8UHRofHh0aHBwgJC4nICIsIxwcKDcpLDAxNDQ0Hyc5PTgyPC4zNDL/wAALCAAcABwBAREA/8QAHwAAAQUBAQEBAQEAAAAAAAAAAAECAwQFBgcICQoL/8QAtRAAAgEDAwIEAwUFBAQAAAF9AQIDAAQRBRIhMUEGE1FhByJxFDKBkaEII0KxwRVS0fAkM2JyggkKFhcYGRolJicoKSo0NTY3ODk6Q0RFRkdISUpTVFVWV1hZWmNkZWZnaGlqc3R1dnd4eXqDhIWGh4iJipKTlJWWl5iZmqKjpKWmp6ipqrKztLW2t7i5usLDxMXGx8jJytLT1NXW19jZ2uHi4+Tl5ufo6erx8vP09fb3+Pn6/9oACAEBAAA/APn+tODw9q9zod1rUOnztplqVE11twiksFABPU5I6ZxmsyiivqLRLvU9Lm0Tw8ui2EngQ6RHJdX8ynyjuQu7MzYXlv4SP4sn28K+JegweHPH+qafaW8kFnvEturEEbGGflx/DkkD6c81yVFasniXWpfD8egyancNpUb70tS3yA/4c5x0rsdQuB48+G8V40gbXvDSeXcA8vcWZICv6koSAfQHPevOaKKuabqt9o9xJPYXDQSSwvBJgAh43GGUg8EEf0PUVTr/2Q==\" alt=\"<PIL.Image.Image image mode=L size=28x28 at 0x117BD1390>\" />                                                                                            </td><td style=\"text-align: right;\">                                9</td></tr>\n",
       "<tr><td>[0, 0, 0, 0, 0, 0, 0, 0, 0, 0, 0, 0, 0, 0, 0, 0, 0, 0, 0,...</td><td style=\"text-align: right;\">                 5</td><td>&ltnp.ndarray<br>shape=(28, 28)<br>dtype=int64&gt</td><td><img style=\"max-height:128px;width:auto\" src=\"data:image/png;base64, /9j/4AAQSkZJRgABAQAAAQABAAD/2wBDAAgGBgcGBQgHBwcJCQgKDBQNDAsLDBkSEw8UHRofHh0aHBwgJC4nICIsIxwcKDcpLDAxNDQ0Hyc5PTgyPC4zNDL/wAALCAAcABwBAREA/8QAHwAAAQUBAQEBAQEAAAAAAAAAAAECAwQFBgcICQoL/8QAtRAAAgEDAwIEAwUFBAQAAAF9AQIDAAQRBRIhMUEGE1FhByJxFDKBkaEII0KxwRVS0fAkM2JyggkKFhcYGRolJicoKSo0NTY3ODk6Q0RFRkdISUpTVFVWV1hZWmNkZWZnaGlqc3R1dnd4eXqDhIWGh4iJipKTlJWWl5iZmqKjpKWmp6ipqrKztLW2t7i5usLDxMXGx8jJytLT1NXW19jZ2uHi4+Tl5ufo6erx8vP09fb3+Pn6/9oACAEBAAA/APn+tnw34W1nxbqJsNFszczqu9xvVQi5xkliBjmvRV/Z78QxRxPe6zo9qHzkNKxKnB/2QDzjoe9eWarp76TrF7p0kscr2lxJA0kRyrlGKkqfQ44rp/hh4Qi8aeMY7C53m0gha6nRDhnRSBtB7ZLAZ96k8Saj4ssfFl/fw6fqHh5yFiWC0RoRFCMbEyoAIwBz3PNcjeXF5cXDNfTTyzg4YzsWbPvnmq9XtI1nUtA1KPUNKvJbS7j+7JGcHHoR0I9jwa9/+FfxZvtfhv8AStf1ezj1bCtYz3MQVH4wVYKVyc4PUHk+lcJ8cvEeheIPE1l/Y8sNzNawGO6uoEwkjZyAD3xz69epry2iiiiv/9k=\" alt=\"<PIL.Image.Image image mode=L size=28x28 at 0x117BD33A0>\" /></td><td style=\"text-align: right;\">                                5</td></tr>\n",
       "<tr><td>[0, 0, 0, 0, 0, 0, 0, 0, 0, 0, 0, 0, 0, 0, 0, 0, 0, 0, 0,...</td><td style=\"text-align: right;\">                 9</td><td>&ltnp.ndarray<br>shape=(28, 28)<br>dtype=int64&gt</td><td><img style=\"max-height:128px;width:auto\" src=\"data:image/png;base64, /9j/4AAQSkZJRgABAQAAAQABAAD/2wBDAAgGBgcGBQgHBwcJCQgKDBQNDAsLDBkSEw8UHRofHh0aHBwgJC4nICIsIxwcKDcpLDAxNDQ0Hyc5PTgyPC4zNDL/wAALCAAcABwBAREA/8QAHwAAAQUBAQEBAQEAAAAAAAAAAAECAwQFBgcICQoL/8QAtRAAAgEDAwIEAwUFBAQAAAF9AQIDAAQRBRIhMUEGE1FhByJxFDKBkaEII0KxwRVS0fAkM2JyggkKFhcYGRolJicoKSo0NTY3ODk6Q0RFRkdISUpTVFVWV1hZWmNkZWZnaGlqc3R1dnd4eXqDhIWGh4iJipKTlJWWl5iZmqKjpKWmp6ipqrKztLW2t7i5usLDxMXGx8jJytLT1NXW19jZ2uHi4+Tl5ufo6erx8vP09fb3+Pn6/9oACAEBAAA/APn+pIYJbiVYoInlkbgIilifwFSXlheadP5F9aT2s2M+XPGUb8iKr1f0S0s77XLG01C7FnZzTKk1wf8AlmpPLV9EXGh6zpyLpvwzTw7pljMqhdRa7WW5us4O4HDcdR39sVL47u08P/De9sPG2qW+p6jd2qx2dsi/OJlQKZA2ASu8CTJAwcjJzXzHRXtHwx0jTvBnhC6+JHiG3DupMelQswzI3IyB2JOQCegDHGOa8q8Qa9feJddu9W1CUvcXEhbGSQgzwq56ADgCsyiug1zxnq3iHQ9H0e9eIWekw+VAkSld3AAZueWwAM8fqa5+iv/Z\" alt=\"<PIL.Image.Image image mode=L size=28x28 at 0x117BD2BC0>\" />                                        </td><td style=\"text-align: right;\">                                9</td></tr>\n",
       "</tbody>\n",
       "</table>\n",
       "            <small>(Showing first 10 rows)</small>\n",
       "        </div>\n",
       "    "
      ],
      "text/plain": [
       "+----------------------+-----------+----------------------+------------------+------------------------+\n",
       "| image                |     label | image_2d             | pil_image        |   model_classification |\n",
       "| PY[list]             |   INTEGER | PY[ndarray]          | PY[Image]        |                INTEGER |\n",
       "+======================+===========+======================+==================+========================+\n",
       "| [0, 0, 0, 0, 0, 0,   |         7 | [[  0   0   0   0    | <PIL.Image.Image |                      7 |\n",
       "| 0, 0, 0, 0, 0, 0, 0, |           | 0   0   0   0   0    | image mode=L     |                        |\n",
       "| 0, 0, 0, 0, 0, 0,... |           | 0   0   0   0   0... | size=28x28 at    |                        |\n",
       "|                      |           |                      | 0x117BD3AF0>     |                        |\n",
       "+----------------------+-----------+----------------------+------------------+------------------------+\n",
       "| [0, 0, 0, 0, 0, 0,   |         2 | [[  0   0   0   0    | <PIL.Image.Image |                      2 |\n",
       "| 0, 0, 0, 0, 0, 0, 0, |           | 0   0   0   0   0    | image mode=L     |                        |\n",
       "| 0, 0, 0, 0, 0, 0,... |           | 0   0   0   0   0... | size=28x28 at    |                        |\n",
       "|                      |           |                      | 0x117BD2B90>     |                        |\n",
       "+----------------------+-----------+----------------------+------------------+------------------------+\n",
       "| [0, 0, 0, 0, 0, 0,   |         1 | [[  0   0   0   0    | <PIL.Image.Image |                      1 |\n",
       "| 0, 0, 0, 0, 0, 0, 0, |           | 0   0   0   0   0    | image mode=L     |                        |\n",
       "| 0, 0, 0, 0, 0, 0,... |           | 0   0   0   0   0... | size=28x28 at    |                        |\n",
       "|                      |           |                      | 0x117BD3DF0>     |                        |\n",
       "+----------------------+-----------+----------------------+------------------+------------------------+\n",
       "| [0, 0, 0, 0, 0, 0,   |         0 | [[  0   0   0   0    | <PIL.Image.Image |                      0 |\n",
       "| 0, 0, 0, 0, 0, 0, 0, |           | 0   0   0   0   0    | image mode=L     |                        |\n",
       "| 0, 0, 0, 0, 0, 0,... |           | 0   0   0   0   0... | size=28x28 at    |                        |\n",
       "|                      |           |                      | 0x117BD3AC0>     |                        |\n",
       "+----------------------+-----------+----------------------+------------------+------------------------+\n",
       "| [0, 0, 0, 0, 0, 0,   |         4 | [[  0   0   0   0    | <PIL.Image.Image |                      4 |\n",
       "| 0, 0, 0, 0, 0, 0, 0, |           | 0   0   0   0   0    | image mode=L     |                        |\n",
       "| 0, 0, 0, 0, 0, 0,... |           | 0   0   0   0   0... | size=28x28 at    |                        |\n",
       "|                      |           |                      | 0x117BD3520>     |                        |\n",
       "+----------------------+-----------+----------------------+------------------+------------------------+\n",
       "| [0, 0, 0, 0, 0, 0,   |         1 | [[  0   0   0   0    | <PIL.Image.Image |                      1 |\n",
       "| 0, 0, 0, 0, 0, 0, 0, |           | 0   0   0   0   0    | image mode=L     |                        |\n",
       "| 0, 0, 0, 0, 0, 0,... |           | 0   0   0   0   0... | size=28x28 at    |                        |\n",
       "|                      |           |                      | 0x117BD1270>     |                        |\n",
       "+----------------------+-----------+----------------------+------------------+------------------------+\n",
       "| [0, 0, 0, 0, 0, 0,   |         4 | [[  0   0   0   0    | <PIL.Image.Image |                      4 |\n",
       "| 0, 0, 0, 0, 0, 0, 0, |           | 0   0   0   0   0    | image mode=L     |                        |\n",
       "| 0, 0, 0, 0, 0, 0,... |           | 0   0   0   0   0... | size=28x28 at    |                        |\n",
       "|                      |           |                      | 0x117BD1300>     |                        |\n",
       "+----------------------+-----------+----------------------+------------------+------------------------+\n",
       "| [0, 0, 0, 0, 0, 0,   |         9 | [[  0   0   0   0    | <PIL.Image.Image |                      9 |\n",
       "| 0, 0, 0, 0, 0, 0, 0, |           | 0   0   0   0   0    | image mode=L     |                        |\n",
       "| 0, 0, 0, 0, 0, 0,... |           | 0   0   0   0   0... | size=28x28 at    |                        |\n",
       "|                      |           |                      | 0x117BD1390>     |                        |\n",
       "+----------------------+-----------+----------------------+------------------+------------------------+\n",
       "| [0, 0, 0, 0, 0, 0,   |         5 | [[  0   0   0   0    | <PIL.Image.Image |                      5 |\n",
       "| 0, 0, 0, 0, 0, 0, 0, |           | 0   0   0   0   0    | image mode=L     |                        |\n",
       "| 0, 0, 0, 0, 0, 0,... |           | 0   0   0   0   0... | size=28x28 at    |                        |\n",
       "|                      |           |                      | 0x117BD33A0>     |                        |\n",
       "+----------------------+-----------+----------------------+------------------+------------------------+\n",
       "| [0, 0, 0, 0, 0, 0,   |         9 | [[  0   0   0   0    | <PIL.Image.Image |                      9 |\n",
       "| 0, 0, 0, 0, 0, 0, 0, |           | 0   0   0   0   0    | image mode=L     |                        |\n",
       "| 0, 0, 0, 0, 0, 0,... |           | 0   0   0   0   0... | size=28x28 at    |                        |\n",
       "|                      |           |                      | 0x117BD2BC0>     |                        |\n",
       "+----------------------+-----------+----------------------+------------------+------------------------+\n",
       "(Showing first 10 rows)"
      ]
     },
     "execution_count": 10,
     "metadata": {},
     "output_type": "execute_result"
    }
   ],
   "source": [
    "classified_images_df = images_df.with_column(\"model_classification\", ClassifyImages(col(\"image_2d\")))\n",
    "\n",
    "classified_images_df.show(10)"
   ]
  },
  {
   "cell_type": "markdown",
   "id": "2e6fb5fc-957d-414b-bfac-961ea64dad68",
   "metadata": {},
   "source": [
    "Our model ran successfully, and produced a new classification column. These look pretty good - let's filter our Dataframe to show only rows that the model predicted wrongly."
   ]
  },
  {
   "cell_type": "code",
   "execution_count": 11,
   "id": "69344d63-7db4-496f-a0b2-949dfd947e4f",
   "metadata": {},
   "outputs": [
    {
     "data": {
      "text/html": [
       "\n",
       "        <div>\n",
       "            <table class=\"dataframe\">\n",
       "<thead>\n",
       "<tr><th>image<br>PY[list]                                           </th><th style=\"text-align: right;\">  label<br>INTEGER</th><th>image_2d<br>PY[ndarray]                          </th><th>pil_image<br>PY[Image]                                                                                                                                                                                                                                                                                                                                                                                                                                                                                                                                                                                                                                                                                                                                                                                                                                                                                                                                                                                              </th><th style=\"text-align: right;\">  model_classification<br>INTEGER</th></tr>\n",
       "</thead>\n",
       "<tbody>\n",
       "<tr><td>[0, 0, 0, 0, 0, 0, 0, 0, 0, 0, 0, 0, 0, 0, 0, 0, 0, 0, 0,...</td><td style=\"text-align: right;\">                 3</td><td>&ltnp.ndarray<br>shape=(28, 28)<br>dtype=int64&gt</td><td><img style=\"max-height:128px;width:auto\" src=\"data:image/png;base64, /9j/4AAQSkZJRgABAQAAAQABAAD/2wBDAAgGBgcGBQgHBwcJCQgKDBQNDAsLDBkSEw8UHRofHh0aHBwgJC4nICIsIxwcKDcpLDAxNDQ0Hyc5PTgyPC4zNDL/wAALCAAcABwBAREA/8QAHwAAAQUBAQEBAQEAAAAAAAAAAAECAwQFBgcICQoL/8QAtRAAAgEDAwIEAwUFBAQAAAF9AQIDAAQRBRIhMUEGE1FhByJxFDKBkaEII0KxwRVS0fAkM2JyggkKFhcYGRolJicoKSo0NTY3ODk6Q0RFRkdISUpTVFVWV1hZWmNkZWZnaGlqc3R1dnd4eXqDhIWGh4iJipKTlJWWl5iZmqKjpKWmp6ipqrKztLW2t7i5usLDxMXGx8jJytLT1NXW19jZ2uHi4+Tl5ufo6erx8vP09fb3+Pn6/9oACAEBAAA/APn+u38DeC9I8Y6dqMMviCLTtaiIa2huMCKVMc5b1zgcdPQ545rXtA1Lwzq82l6tbNb3UXVTyGHZge4PrWbRXoGhfCHX/Eml2moaTf6PcRzqGaNbv95BntIu3g+wzVj4qanYPaeHvD8OqHV9Q0aCSC81DbgOSwwgPfbgjP8AXNeb1u+DdN0vV/F2nWWtX0VlpskmZ5pZBGoUAnG48DOMZ967fQtF8LeBteg1vWPGNndzWkwlt7TQmNxvI5wzkAAdvf1rz/xJqkeueJ9U1WGEwx3l1JOsbHJUMxIB/Osuiiiiv//Z\" alt=\"<PIL.Image.Image image mode=L size=28x28 at 0x1472873A0>\" />                                                                                                        </td><td style=\"text-align: right;\">                                2</td></tr>\n",
       "<tr><td>[0, 0, 0, 0, 0, 0, 0, 0, 0, 0, 0, 0, 0, 0, 0, 0, 0, 0, 0,...</td><td style=\"text-align: right;\">                 3</td><td>&ltnp.ndarray<br>shape=(28, 28)<br>dtype=int64&gt</td><td><img style=\"max-height:128px;width:auto\" src=\"data:image/png;base64, /9j/4AAQSkZJRgABAQAAAQABAAD/2wBDAAgGBgcGBQgHBwcJCQgKDBQNDAsLDBkSEw8UHRofHh0aHBwgJC4nICIsIxwcKDcpLDAxNDQ0Hyc5PTgyPC4zNDL/wAALCAAcABwBAREA/8QAHwAAAQUBAQEBAQEAAAAAAAAAAAECAwQFBgcICQoL/8QAtRAAAgEDAwIEAwUFBAQAAAF9AQIDAAQRBRIhMUEGE1FhByJxFDKBkaEII0KxwRVS0fAkM2JyggkKFhcYGRolJicoKSo0NTY3ODk6Q0RFRkdISUpTVFVWV1hZWmNkZWZnaGlqc3R1dnd4eXqDhIWGh4iJipKTlJWWl5iZmqKjpKWmp6ipqrKztLW2t7i5usLDxMXGx8jJytLT1NXW19jZ2uHi4+Tl5ufo6erx8vP09fb3+Pn6/9oACAEBAAA/APHPCfho+K9ZOnLqdhpxETS+deybEOMfKPU85x6A+ldbq/wlhs9Ju7vSvGGj6vc2kDXMtpbPufyl+8w2ls4z3x9a81oorpfBnjfU/A+oXF1p0VrOtzF5U8N1HvR19OCD+v1zWj420zRrnR9L8WaBbNaWupPJFdWWcpbXCYJVD/dIbIHb9BxNFeuaT8JvDvizQrK/8P8AjC3hungU3Fle7S8cvAYcEEDOcfKe3PNUfiPbWXg/wtpXgO2v1vbyC5kv9QkQYVZGXaij0+XPH+NeY0UUUV//2Q==\" alt=\"<PIL.Image.Image image mode=L size=28x28 at 0x14752C5B0>\" />                                                                                                                        </td><td style=\"text-align: right;\">                                9</td></tr>\n",
       "<tr><td>[0, 0, 0, 0, 0, 0, 0, 0, 0, 0, 0, 0, 0, 0, 0, 0, 0, 0, 0,...</td><td style=\"text-align: right;\">                 5</td><td>&ltnp.ndarray<br>shape=(28, 28)<br>dtype=int64&gt</td><td><img style=\"max-height:128px;width:auto\" src=\"data:image/png;base64, /9j/4AAQSkZJRgABAQAAAQABAAD/2wBDAAgGBgcGBQgHBwcJCQgKDBQNDAsLDBkSEw8UHRofHh0aHBwgJC4nICIsIxwcKDcpLDAxNDQ0Hyc5PTgyPC4zNDL/wAALCAAcABwBAREA/8QAHwAAAQUBAQEBAQEAAAAAAAAAAAECAwQFBgcICQoL/8QAtRAAAgEDAwIEAwUFBAQAAAF9AQIDAAQRBRIhMUEGE1FhByJxFDKBkaEII0KxwRVS0fAkM2JyggkKFhcYGRolJicoKSo0NTY3ODk6Q0RFRkdISUpTVFVWV1hZWmNkZWZnaGlqc3R1dnd4eXqDhIWGh4iJipKTlJWWl5iZmqKjpKWmp6ipqrKztLW2t7i5usLDxMXGx8jJytLT1NXW19jZ2uHi4+Tl5ufo6erx8vP09fb3+Pn6/9oACAEBAAA/APn+nwwy3EyQwxvLK5wqIpZmPoAOtdO/w48WRadNfTaT5MUMDXMqTXESSpGDgsYmYOBx6c9q5WivTrm/g+HdpocdhpjSLqVkl1daoshjmuFcZaKGTafKC9CVBJ46VzOveNrrVrKTTrGxttK0yRlaS3tgS05HQyyNlnI9zj2rl6nsrO41G9gsrSIy3M7iOKNerMTgCu/+Hj32uRS+HdXtUufC0G+W6muCU/s7jmSOT+BuPunIY547157OsaXEiwuXiDkI5GNwzwcVHTo5HhlSWJ2SRCGVlOCpHQg1t6x4z8Ra/Zraapqs9xbqwbyzhQzAYBbAG447nJrCor//2Q==\" alt=\"<PIL.Image.Image image mode=L size=28x28 at 0x14752CFA0>\" />                                                                    </td><td style=\"text-align: right;\">                                8</td></tr>\n",
       "<tr><td>[0, 0, 0, 0, 0, 0, 0, 0, 0, 0, 0, 0, 0, 0, 0, 0, 0, 0, 0,...</td><td style=\"text-align: right;\">                 4</td><td>&ltnp.ndarray<br>shape=(28, 28)<br>dtype=int64&gt</td><td><img style=\"max-height:128px;width:auto\" src=\"data:image/png;base64, /9j/4AAQSkZJRgABAQAAAQABAAD/2wBDAAgGBgcGBQgHBwcJCQgKDBQNDAsLDBkSEw8UHRofHh0aHBwgJC4nICIsIxwcKDcpLDAxNDQ0Hyc5PTgyPC4zNDL/wAALCAAcABwBAREA/8QAHwAAAQUBAQEBAQEAAAAAAAAAAAECAwQFBgcICQoL/8QAtRAAAgEDAwIEAwUFBAQAAAF9AQIDAAQRBRIhMUEGE1FhByJxFDKBkaEII0KxwRVS0fAkM2JyggkKFhcYGRolJicoKSo0NTY3ODk6Q0RFRkdISUpTVFVWV1hZWmNkZWZnaGlqc3R1dnd4eXqDhIWGh4iJipKTlJWWl5iZmqKjpKWmp6ipqrKztLW2t7i5usLDxMXGx8jJytLT1NXW19jZ2uHi4+Tl5ufo6erx8vP09fb3+Pn6/9oACAEBAAA/APn+rFhZy6hqNtZQRtJNcSrEiL1YscACtvx7YaTpXjnVtP0NXWwtZvJRXYsQygB+TyfmDVzlFes/DLwVrVjZ3fjWTSLmU2luTpVv5JZrid/lRwvXYu7dnGO/Y1ifEz4fXXgu7sWxe3ST2ySXd48ZMX2li25VfGO2cHmuBre8Gf2Ivi/TX8RzCLSY5fMuCY2cMFBIUhQSQSADx0NehzfGSK5+JC63LFcro2nW8sem2MfAL7SFZ1BA5P1xxjpXA+JPHfiTxZJJ/a2qzywM+8WytthXnIAQccds5PvXOUUUUV//2Q==\" alt=\"<PIL.Image.Image image mode=L size=28x28 at 0x14752D660>\" />                                                                                                        </td><td style=\"text-align: right;\">                                2</td></tr>\n",
       "<tr><td>[0, 0, 0, 0, 0, 0, 0, 0, 0, 0, 0, 0, 0, 0, 0, 0, 0, 0, 0,...</td><td style=\"text-align: right;\">                 3</td><td>&ltnp.ndarray<br>shape=(28, 28)<br>dtype=int64&gt</td><td><img style=\"max-height:128px;width:auto\" src=\"data:image/png;base64, /9j/4AAQSkZJRgABAQAAAQABAAD/2wBDAAgGBgcGBQgHBwcJCQgKDBQNDAsLDBkSEw8UHRofHh0aHBwgJC4nICIsIxwcKDcpLDAxNDQ0Hyc5PTgyPC4zNDL/wAALCAAcABwBAREA/8QAHwAAAQUBAQEBAQEAAAAAAAAAAAECAwQFBgcICQoL/8QAtRAAAgEDAwIEAwUFBAQAAAF9AQIDAAQRBRIhMUEGE1FhByJxFDKBkaEII0KxwRVS0fAkM2JyggkKFhcYGRolJicoKSo0NTY3ODk6Q0RFRkdISUpTVFVWV1hZWmNkZWZnaGlqc3R1dnd4eXqDhIWGh4iJipKTlJWWl5iZmqKjpKWmp6ipqrKztLW2t7i5usLDxMXGx8jJytLT1NXW19jZ2uHi4+Tl5ufo6erx8vP09fb3+Pn6/9oACAEBAAA/APFvD/h268RXckNvPaW0UKeZNc3kwiiiXOMlj/IAmugv/Aukw6RqV1pvjCx1K506ETXEENvIqbS6J8sh+VuXGPWuIopVALAE4BPJ9K9rvNF8KN4Bh8O+GfG2iwGeVZtUub2RonumXG1QMcICSQD3A964bxB8L/Enh/S5NVZLS+0yPG67sLhZUAPQkdce+MVxlKBkgdPrXpF38E/FCzF9Nawv9Pwv+nR3kax5IG7q2cAk/hj6VaVIPhb4b1m0n1iz1LWdZtjaNp9nL5kNupyC8p6FgCQBjue1eWUUUUV//9k=\" alt=\"<PIL.Image.Image image mode=L size=28x28 at 0x14752E2C0>\" />                                                                                                            </td><td style=\"text-align: right;\">                                5</td></tr>\n",
       "<tr><td>[0, 0, 0, 0, 0, 0, 0, 0, 0, 0, 0, 0, 0, 0, 0, 0, 0, 0, 0,...</td><td style=\"text-align: right;\">                 2</td><td>&ltnp.ndarray<br>shape=(28, 28)<br>dtype=int64&gt</td><td><img style=\"max-height:128px;width:auto\" src=\"data:image/png;base64, /9j/4AAQSkZJRgABAQAAAQABAAD/2wBDAAgGBgcGBQgHBwcJCQgKDBQNDAsLDBkSEw8UHRofHh0aHBwgJC4nICIsIxwcKDcpLDAxNDQ0Hyc5PTgyPC4zNDL/wAALCAAcABwBAREA/8QAHwAAAQUBAQEBAQEAAAAAAAAAAAECAwQFBgcICQoL/8QAtRAAAgEDAwIEAwUFBAQAAAF9AQIDAAQRBRIhMUEGE1FhByJxFDKBkaEII0KxwRVS0fAkM2JyggkKFhcYGRolJicoKSo0NTY3ODk6Q0RFRkdISUpTVFVWV1hZWmNkZWZnaGlqc3R1dnd4eXqDhIWGh4iJipKTlJWWl5iZmqKjpKWmp6ipqrKztLW2t7i5usLDxMXGx8jJytLT1NXW19jZ2uHi4+Tl5ufo6erx8vP09fb3+Pn6/9oACAEBAAA/APn+ul0T4feLPEVutzpmh3Mtuwysz7YoyOeQzkA9PWqXiLwtrPhO9itNbs/ss8sQljXzUkDISRnKEjqDWPRXY6Xd+KPiL4i0/QpdWuZRMRGse4pDFGo5IRRtACjsO1WPiprtrqnieLTNMdm0vRLddOtSxzuEfDNnvkjr3AFcNRXrng2yn8O/DKfW9Ltbi58SeIJW0/TxDEWaKJc+Yw6+jc+w9DXld7Zy6fey2k5Qywtsfy3DAN3GRwcHjjjiq9FdDpvjnxNo+gy6Jp+sT22nSsWaKMKDk9cNjcoPoCBXPUV//9k=\" alt=\"<PIL.Image.Image image mode=L size=28x28 at 0x14752E440>\" />                                                                                                        </td><td style=\"text-align: right;\">                                7</td></tr>\n",
       "<tr><td>[0, 0, 0, 0, 0, 0, 0, 0, 0, 0, 0, 0, 0, 0, 0, 0, 0, 0, 0,...</td><td style=\"text-align: right;\">                 5</td><td>&ltnp.ndarray<br>shape=(28, 28)<br>dtype=int64&gt</td><td><img style=\"max-height:128px;width:auto\" src=\"data:image/png;base64, /9j/4AAQSkZJRgABAQAAAQABAAD/2wBDAAgGBgcGBQgHBwcJCQgKDBQNDAsLDBkSEw8UHRofHh0aHBwgJC4nICIsIxwcKDcpLDAxNDQ0Hyc5PTgyPC4zNDL/wAALCAAcABwBAREA/8QAHwAAAQUBAQEBAQEAAAAAAAAAAAECAwQFBgcICQoL/8QAtRAAAgEDAwIEAwUFBAQAAAF9AQIDAAQRBRIhMUEGE1FhByJxFDKBkaEII0KxwRVS0fAkM2JyggkKFhcYGRolJicoKSo0NTY3ODk6Q0RFRkdISUpTVFVWV1hZWmNkZWZnaGlqc3R1dnd4eXqDhIWGh4iJipKTlJWWl5iZmqKjpKWmp6ipqrKztLW2t7i5usLDxMXGx8jJytLT1NXW19jZ2uHi4+Tl5ufo6erx8vP09fb3+Pn6/9oACAEBAAA/APCNPsLnVNRttPs4/MurmVYokyBuZjgDJ46mvRJPhANJgjPinxXpGh3LKJGtZW8yQISRkAH5ujcDuOtcDrVja6brFxaWWpRalbRkeXdxIVWQEA9DyMZwfcHrVCnxECZCzlBuGWXqB617x44+Ifw6/ta2vI9EHii9S2jiWSaQpDGikkLgg5PJJ+U9cZ7Vm+H7zwT8UdWl0D/hCoNDvp4Ha1u7KfhXVSfmUKoxj2P9a8cu7Z7O8ntZceZDI0bbTxkHBx+VavhObQYvEEI8S2sk+lyq0chjdlaEkYEgx12nnHf3rsZPg7c6lIzeE/EWja5FnIjiuQkyr2LIenfv2rZ02zsfgxZahfanqVvd+LLq1a3trC0fcLbd/G7DoeB6e2eo8bZmd2d2LMxySTkk0lFFFf/Z\" alt=\"<PIL.Image.Image image mode=L size=28x28 at 0x14752EA10>\" /></td><td style=\"text-align: right;\">                                9</td></tr>\n",
       "<tr><td>[0, 0, 0, 0, 0, 0, 0, 0, 0, 0, 0, 0, 0, 0, 0, 0, 0, 0, 0,...</td><td style=\"text-align: right;\">                 9</td><td>&ltnp.ndarray<br>shape=(28, 28)<br>dtype=int64&gt</td><td><img style=\"max-height:128px;width:auto\" src=\"data:image/png;base64, /9j/4AAQSkZJRgABAQAAAQABAAD/2wBDAAgGBgcGBQgHBwcJCQgKDBQNDAsLDBkSEw8UHRofHh0aHBwgJC4nICIsIxwcKDcpLDAxNDQ0Hyc5PTgyPC4zNDL/wAALCAAcABwBAREA/8QAHwAAAQUBAQEBAQEAAAAAAAAAAAECAwQFBgcICQoL/8QAtRAAAgEDAwIEAwUFBAQAAAF9AQIDAAQRBRIhMUEGE1FhByJxFDKBkaEII0KxwRVS0fAkM2JyggkKFhcYGRolJicoKSo0NTY3ODk6Q0RFRkdISUpTVFVWV1hZWmNkZWZnaGlqc3R1dnd4eXqDhIWGh4iJipKTlJWWl5iZmqKjpKWmp6ipqrKztLW2t7i5usLDxMXGx8jJytLT1NXW19jZ2uHi4+Tl5ufo6erx8vP09fb3+Pn6/9oACAEBAAA/APn+tfRfDGs+IUupNLsJZ4rWJpp5eFSNVGTljgZx2zk1d8T+CNU8JWunzalLaGS9iEoghlLSQqfu+YMYGcHGCfun0rm6vaNbW17rmn2t7N5FrPcxxzS/3ELAM34Ak17x458IeL9U1rTvC2g6cbTwVF5SI1pIoR1bBeSTnJIJPBznGeSa5X49anpcnipdMsA7XNsiLcyFyVQKvyRKPbc5J9X9q8jor0v4KXd5c/EjR9Pkvrr7FH50q2/nHy9wjY529OtVfjLafZ/iLqM019BcXdxKXeKBeIIwAsSsf75UZIxxxyc8efUVPaXl1p91HdWVzNbXEZyk0LlHU+xHIplxcTXdxJcXM0k08jFnkkYszsepJPJNR1//2Q==\" alt=\"<PIL.Image.Image image mode=L size=28x28 at 0x14752EB60>\" />                                </td><td style=\"text-align: right;\">                                4</td></tr>\n",
       "<tr><td>[0, 0, 0, 0, 0, 0, 0, 0, 0, 0, 0, 0, 0, 0, 0, 0, 0, 0, 0,...</td><td style=\"text-align: right;\">                 2</td><td>&ltnp.ndarray<br>shape=(28, 28)<br>dtype=int64&gt</td><td><img style=\"max-height:128px;width:auto\" src=\"data:image/png;base64, /9j/4AAQSkZJRgABAQAAAQABAAD/2wBDAAgGBgcGBQgHBwcJCQgKDBQNDAsLDBkSEw8UHRofHh0aHBwgJC4nICIsIxwcKDcpLDAxNDQ0Hyc5PTgyPC4zNDL/wAALCAAcABwBAREA/8QAHwAAAQUBAQEBAQEAAAAAAAAAAAECAwQFBgcICQoL/8QAtRAAAgEDAwIEAwUFBAQAAAF9AQIDAAQRBRIhMUEGE1FhByJxFDKBkaEII0KxwRVS0fAkM2JyggkKFhcYGRolJicoKSo0NTY3ODk6Q0RFRkdISUpTVFVWV1hZWmNkZWZnaGlqc3R1dnd4eXqDhIWGh4iJipKTlJWWl5iZmqKjpKWmp6ipqrKztLW2t7i5usLDxMXGx8jJytLT1NXW19jZ2uHi4+Tl5ufo6erx8vP09fb3+Pn6/9oACAEBAAA/APA7e3nu50gtoZJpnOFjjUszH0AHWu2sfhH4quIFnvorPSI3BMZ1S5WBnx2CnLA/UCsPxV4P1fwdfQ2uqxxDz4/NhlhkDxyL04I9DWDXWeGPGQ8KaHqa6bbNFr10ypFqQIJhh6uqgjgkgc+/bFc5faje6pdNc393PdTsctJPIXY/ia9F+JqCw8D/AA/0idlXULewmmmh/ijWQoUz6HhvyNeY0V6l8JPBEerRX3iq6tf7Sh0rJg0yIgvczBcqGHZRwff3AIOF8QNE8aLfyeIfFmnyW322bZGWkUqvBIRQGJAAHH0riqKmt7u4tJBJbXEsLjkNG5U/mKsajrOqaxIr6nqV5fOv3WuZ2lI+m4n0qjX/2Q==\" alt=\"<PIL.Image.Image image mode=L size=28x28 at 0x14752EBF0>\" />                                        </td><td style=\"text-align: right;\">                                7</td></tr>\n",
       "<tr><td>[0, 0, 0, 0, 0, 0, 0, 0, 0, 0, 0, 0, 0, 0, 0, 0, 0, 0, 0,...</td><td style=\"text-align: right;\">                 7</td><td>&ltnp.ndarray<br>shape=(28, 28)<br>dtype=int64&gt</td><td><img style=\"max-height:128px;width:auto\" src=\"data:image/png;base64, /9j/4AAQSkZJRgABAQAAAQABAAD/2wBDAAgGBgcGBQgHBwcJCQgKDBQNDAsLDBkSEw8UHRofHh0aHBwgJC4nICIsIxwcKDcpLDAxNDQ0Hyc5PTgyPC4zNDL/wAALCAAcABwBAREA/8QAHwAAAQUBAQEBAQEAAAAAAAAAAAECAwQFBgcICQoL/8QAtRAAAgEDAwIEAwUFBAQAAAF9AQIDAAQRBRIhMUEGE1FhByJxFDKBkaEII0KxwRVS0fAkM2JyggkKFhcYGRolJicoKSo0NTY3ODk6Q0RFRkdISUpTVFVWV1hZWmNkZWZnaGlqc3R1dnd4eXqDhIWGh4iJipKTlJWWl5iZmqKjpKWmp6ipqrKztLW2t7i5usLDxMXGx8jJytLT1NXW19jZ2uHi4+Tl5ufo6erx8vP09fb3+Pn6/9oACAEBAAA/APn+rcel6hNp8uoRWF09lCQstysLGNCegZsYH41UoqxYfZP7Rtvt/mmz81PP8nG/y8jdtzxnGcV6z4l+L/h+/wBPh0bTfCCvpVqNkEdxdyRoVx3jjIGfqT39azvijpmjaX4b8KeRo9np2tXlr9quktN4VYyBsBDMcnk8k5ypry+ium+Hvh0eKfHek6TIMwSTb58jgxoCzD8QCPqRVr4o+IV8S/EPVb2J91tHJ9ngwxK7E+UEegJBbHvXH0Vt+FPFWo+DdcTV9L8k3Co0eJk3KVYc+h/I1jzSmaZ5WCguxYhFCgZ9AOlMr//Z\" alt=\"<PIL.Image.Image image mode=L size=28x28 at 0x14752F5E0>\" />                                                                                                </td><td style=\"text-align: right;\">                                9</td></tr>\n",
       "</tbody>\n",
       "</table>\n",
       "            <small>(Showing first 10 rows)</small>\n",
       "        </div>\n",
       "    "
      ],
      "text/plain": [
       "+----------------------+-----------+----------------------+------------------+------------------------+\n",
       "| image                |     label | image_2d             | pil_image        |   model_classification |\n",
       "| PY[list]             |   INTEGER | PY[ndarray]          | PY[Image]        |                INTEGER |\n",
       "+======================+===========+======================+==================+========================+\n",
       "| [0, 0, 0, 0, 0, 0,   |         3 | [[  0   0   0   0    | <PIL.Image.Image |                      2 |\n",
       "| 0, 0, 0, 0, 0, 0, 0, |           | 0   0   0   0   0    | image mode=L     |                        |\n",
       "| 0, 0, 0, 0, 0, 0,... |           | 0   0   0   0   0... | size=28x28 at    |                        |\n",
       "|                      |           |                      | 0x1472873A0>     |                        |\n",
       "+----------------------+-----------+----------------------+------------------+------------------------+\n",
       "| [0, 0, 0, 0, 0, 0,   |         3 | [[  0   0   0   0    | <PIL.Image.Image |                      9 |\n",
       "| 0, 0, 0, 0, 0, 0, 0, |           | 0   0   0   0   0    | image mode=L     |                        |\n",
       "| 0, 0, 0, 0, 0, 0,... |           | 0   0   0   0   0... | size=28x28 at    |                        |\n",
       "|                      |           |                      | 0x14752C5B0>     |                        |\n",
       "+----------------------+-----------+----------------------+------------------+------------------------+\n",
       "| [0, 0, 0, 0, 0, 0,   |         5 | [[  0   0   0   0    | <PIL.Image.Image |                      8 |\n",
       "| 0, 0, 0, 0, 0, 0, 0, |           | 0   0   0   0   0    | image mode=L     |                        |\n",
       "| 0, 0, 0, 0, 0, 0,... |           | 0   0   0   0   0... | size=28x28 at    |                        |\n",
       "|                      |           |                      | 0x14752CFA0>     |                        |\n",
       "+----------------------+-----------+----------------------+------------------+------------------------+\n",
       "| [0, 0, 0, 0, 0, 0,   |         4 | [[  0   0   0   0    | <PIL.Image.Image |                      2 |\n",
       "| 0, 0, 0, 0, 0, 0, 0, |           | 0   0   0   0   0    | image mode=L     |                        |\n",
       "| 0, 0, 0, 0, 0, 0,... |           | 0   0   0   0   0... | size=28x28 at    |                        |\n",
       "|                      |           |                      | 0x14752D660>     |                        |\n",
       "+----------------------+-----------+----------------------+------------------+------------------------+\n",
       "| [0, 0, 0, 0, 0, 0,   |         3 | [[  0   0   0   0    | <PIL.Image.Image |                      5 |\n",
       "| 0, 0, 0, 0, 0, 0, 0, |           | 0   0   0   0   0    | image mode=L     |                        |\n",
       "| 0, 0, 0, 0, 0, 0,... |           | 0   0   0   0   0... | size=28x28 at    |                        |\n",
       "|                      |           |                      | 0x14752E2C0>     |                        |\n",
       "+----------------------+-----------+----------------------+------------------+------------------------+\n",
       "| [0, 0, 0, 0, 0, 0,   |         2 | [[  0   0   0   0    | <PIL.Image.Image |                      7 |\n",
       "| 0, 0, 0, 0, 0, 0, 0, |           | 0   0   0   0   0    | image mode=L     |                        |\n",
       "| 0, 0, 0, 0, 0, 0,... |           | 0   0   0   0   0... | size=28x28 at    |                        |\n",
       "|                      |           |                      | 0x14752E440>     |                        |\n",
       "+----------------------+-----------+----------------------+------------------+------------------------+\n",
       "| [0, 0, 0, 0, 0, 0,   |         5 | [[  0   0   0   0    | <PIL.Image.Image |                      9 |\n",
       "| 0, 0, 0, 0, 0, 0, 0, |           | 0   0   0   0   0    | image mode=L     |                        |\n",
       "| 0, 0, 0, 0, 0, 0,... |           | 0   0   0   0   0... | size=28x28 at    |                        |\n",
       "|                      |           |                      | 0x14752EA10>     |                        |\n",
       "+----------------------+-----------+----------------------+------------------+------------------------+\n",
       "| [0, 0, 0, 0, 0, 0,   |         9 | [[  0   0   0   0    | <PIL.Image.Image |                      4 |\n",
       "| 0, 0, 0, 0, 0, 0, 0, |           | 0   0   0   0   0    | image mode=L     |                        |\n",
       "| 0, 0, 0, 0, 0, 0,... |           | 0   0   0   0   0... | size=28x28 at    |                        |\n",
       "|                      |           |                      | 0x14752EB60>     |                        |\n",
       "+----------------------+-----------+----------------------+------------------+------------------------+\n",
       "| [0, 0, 0, 0, 0, 0,   |         2 | [[  0   0   0   0    | <PIL.Image.Image |                      7 |\n",
       "| 0, 0, 0, 0, 0, 0, 0, |           | 0   0   0   0   0    | image mode=L     |                        |\n",
       "| 0, 0, 0, 0, 0, 0,... |           | 0   0   0   0   0... | size=28x28 at    |                        |\n",
       "|                      |           |                      | 0x14752EBF0>     |                        |\n",
       "+----------------------+-----------+----------------------+------------------+------------------------+\n",
       "| [0, 0, 0, 0, 0, 0,   |         7 | [[  0   0   0   0    | <PIL.Image.Image |                      9 |\n",
       "| 0, 0, 0, 0, 0, 0, 0, |           | 0   0   0   0   0    | image mode=L     |                        |\n",
       "| 0, 0, 0, 0, 0, 0,... |           | 0   0   0   0   0... | size=28x28 at    |                        |\n",
       "|                      |           |                      | 0x14752F5E0>     |                        |\n",
       "+----------------------+-----------+----------------------+------------------+------------------------+\n",
       "(Showing first 10 rows)"
      ]
     },
     "execution_count": 11,
     "metadata": {},
     "output_type": "execute_result"
    }
   ],
   "source": [
    "classified_images_df.where(col(\"label\") != col(\"model_classification\")).show(10)"
   ]
  },
  {
   "cell_type": "markdown",
   "id": "bb7ca72b-0743-451d-a3bf-e492a73ad7d6",
   "metadata": {},
   "source": [
    "Some of these look hard indeed, even for a human!"
   ]
  },
  {
   "cell_type": "markdown",
   "id": "5482e99e-cf3a-4d54-93e3-6e468db03eef",
   "metadata": {},
   "source": [
    "## Analytics\n",
    "\n",
    "We just managed to run our model, but how well did it actually do? Dataframes expose a powerful set of operations in Groupbys/Aggregations to help us report on aggregates of our data.\n",
    "\n",
    "Let's group our data by the true labels and calculate how many mistakes our model made per label."
   ]
  },
  {
   "cell_type": "code",
   "execution_count": 12,
   "id": "8b60eef9-eeab-435e-9f5d-c775af9afe3f",
   "metadata": {},
   "outputs": [
    {
     "data": {
      "text/html": [
       "\n",
       "        <div>\n",
       "            <table class=\"dataframe\">\n",
       "<thead>\n",
       "<tr><th style=\"text-align: right;\">  label<br>INTEGER</th><th style=\"text-align: right;\">  num_rows<br>INTEGER</th><th style=\"text-align: right;\">  correct<br>INTEGER</th><th style=\"text-align: right;\">  wrong<br>INTEGER</th></tr>\n",
       "</thead>\n",
       "<tbody>\n",
       "<tr><td style=\"text-align: right;\">                 0</td><td style=\"text-align: right;\">                  980</td><td style=\"text-align: right;\">                 962</td><td style=\"text-align: right;\">                18</td></tr>\n",
       "<tr><td style=\"text-align: right;\">                 1</td><td style=\"text-align: right;\">                 1135</td><td style=\"text-align: right;\">                1121</td><td style=\"text-align: right;\">                14</td></tr>\n",
       "<tr><td style=\"text-align: right;\">                 2</td><td style=\"text-align: right;\">                 1032</td><td style=\"text-align: right;\">                 992</td><td style=\"text-align: right;\">                40</td></tr>\n",
       "<tr><td style=\"text-align: right;\">                 3</td><td style=\"text-align: right;\">                 1010</td><td style=\"text-align: right;\">                 967</td><td style=\"text-align: right;\">                43</td></tr>\n",
       "<tr><td style=\"text-align: right;\">                 4</td><td style=\"text-align: right;\">                  982</td><td style=\"text-align: right;\">                 945</td><td style=\"text-align: right;\">                37</td></tr>\n",
       "<tr><td style=\"text-align: right;\">                 5</td><td style=\"text-align: right;\">                  892</td><td style=\"text-align: right;\">                 824</td><td style=\"text-align: right;\">                68</td></tr>\n",
       "<tr><td style=\"text-align: right;\">                 6</td><td style=\"text-align: right;\">                  958</td><td style=\"text-align: right;\">                 934</td><td style=\"text-align: right;\">                24</td></tr>\n",
       "<tr><td style=\"text-align: right;\">                 7</td><td style=\"text-align: right;\">                 1028</td><td style=\"text-align: right;\">                 965</td><td style=\"text-align: right;\">                63</td></tr>\n",
       "<tr><td style=\"text-align: right;\">                 8</td><td style=\"text-align: right;\">                  974</td><td style=\"text-align: right;\">                 940</td><td style=\"text-align: right;\">                34</td></tr>\n",
       "<tr><td style=\"text-align: right;\">                 9</td><td style=\"text-align: right;\">                 1009</td><td style=\"text-align: right;\">                 971</td><td style=\"text-align: right;\">                38</td></tr>\n",
       "</tbody>\n",
       "</table>\n",
       "            <small>(Showing first 10 of 10 rows)</small>\n",
       "        </div>\n",
       "    "
      ],
      "text/plain": [
       "+-----------+------------+-----------+-----------+\n",
       "|     label |   num_rows |   correct |     wrong |\n",
       "|   INTEGER |    INTEGER |   INTEGER |   INTEGER |\n",
       "+===========+============+===========+===========+\n",
       "|         0 |        980 |       962 |        18 |\n",
       "+-----------+------------+-----------+-----------+\n",
       "|         1 |       1135 |      1121 |        14 |\n",
       "+-----------+------------+-----------+-----------+\n",
       "|         2 |       1032 |       992 |        40 |\n",
       "+-----------+------------+-----------+-----------+\n",
       "|         3 |       1010 |       967 |        43 |\n",
       "+-----------+------------+-----------+-----------+\n",
       "|         4 |        982 |       945 |        37 |\n",
       "+-----------+------------+-----------+-----------+\n",
       "|         5 |        892 |       824 |        68 |\n",
       "+-----------+------------+-----------+-----------+\n",
       "|         6 |        958 |       934 |        24 |\n",
       "+-----------+------------+-----------+-----------+\n",
       "|         7 |       1028 |       965 |        63 |\n",
       "+-----------+------------+-----------+-----------+\n",
       "|         8 |        974 |       940 |        34 |\n",
       "+-----------+------------+-----------+-----------+\n",
       "|         9 |       1009 |       971 |        38 |\n",
       "+-----------+------------+-----------+-----------+\n",
       "(Showing first 10 of 10 rows)"
      ]
     },
     "execution_count": 12,
     "metadata": {},
     "output_type": "execute_result"
    }
   ],
   "source": [
    "analysis_df = classified_images_df \\\n",
    "    .with_column(\"correct\", (col(\"model_classification\") == col(\"label\")).cast(int)) \\\n",
    "    .with_column(\"wrong\", (col(\"model_classification\") != col(\"label\")).cast(int)) \\\n",
    "    .groupby(col(\"label\")) \\\n",
    "    .agg([\n",
    "        (col(\"label\").alias(\"num_rows\"), \"count\"),\n",
    "        (col(\"correct\"), \"sum\"),\n",
    "        (col(\"wrong\"), \"sum\"),\n",
    "    ]) \\\n",
    "    .sort(col(\"label\"))\n",
    "\n",
    "analysis_df.show()"
   ]
  },
  {
   "cell_type": "markdown",
   "id": "05f7df20-6dbc-4115-9acf-8d863cac93af",
   "metadata": {},
   "source": [
    "Pretty impressive, given that the model only actually trained for one epoch!"
   ]
  },
  {
   "cell_type": "code",
   "execution_count": null,
   "id": "4acf0191-8bb2-4c50-9d19-7a6bc97840d2",
   "metadata": {},
   "outputs": [],
   "source": []
  }
 ],
 "metadata": {
  "kernelspec": {
   "display_name": "venv",
   "language": "python",
   "name": "python3"
  },
  "language_info": {
   "codemirror_mode": {
    "name": "ipython",
    "version": 3
   },
   "file_extension": ".py",
   "mimetype": "text/x-python",
   "name": "python",
   "nbconvert_exporter": "python",
   "pygments_lexer": "ipython3",
   "version": "3.8.16"
  },
  "vscode": {
   "interpreter": {
    "hash": "e5d77f7bd5a748e4f6412a25f9708ab7af36936de941fc795d1a6b75eb2da082"
   }
  }
 },
 "nbformat": 4,
 "nbformat_minor": 5
}
