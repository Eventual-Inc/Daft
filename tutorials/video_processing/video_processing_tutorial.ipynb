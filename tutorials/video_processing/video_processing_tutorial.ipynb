{
 "cells": [
  {
   "cell_type": "code",
   "execution_count": 1,
   "id": "a97e506f",
   "metadata": {},
   "outputs": [],
   "source": [
    "import daft"
   ]
  },
  {
   "cell_type": "code",
   "execution_count": 2,
   "id": "d7d486e2",
   "metadata": {},
   "outputs": [],
   "source": [
    "IO_CONFIG = daft.io.IOConfig(s3=daft.io.S3Config(anonymous=True))"
   ]
  },
  {
   "cell_type": "code",
   "execution_count": null,
   "id": "33e16191",
   "metadata": {},
   "outputs": [],
   "source": [
    "df = daft.read_video(\n",
    "    path=\"/Users/rch/Desktop/assets/zoo.mp4\",\n",
    "    image_height=200,\n",
    "    image_width=200,\n",
    ")\n",
    "df.show()"
   ]
  }
 ],
 "metadata": {
  "kernelspec": {
   "display_name": ".venv",
   "language": "python",
   "name": "python3"
  },
  "language_info": {
   "codemirror_mode": {
    "name": "ipython",
    "version": 3
   },
   "file_extension": ".py",
   "mimetype": "text/x-python",
   "name": "python",
   "nbconvert_exporter": "python",
   "pygments_lexer": "ipython3",
   "version": "3.11.11"
  }
 },
 "nbformat": 4,
 "nbformat_minor": 5
}
