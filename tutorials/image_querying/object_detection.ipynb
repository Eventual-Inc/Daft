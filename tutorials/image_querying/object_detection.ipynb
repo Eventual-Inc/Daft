{
 "cells": [
  {
   "cell_type": "code",
   "execution_count": null,
   "id": "063a4e01-fd94-4ad3-9279-13ca590c5a27",
   "metadata": {},
   "outputs": [],
   "source": [
    "!pip install ultralytics==8.0.137"
   ]
  },
  {
   "cell_type": "code",
   "execution_count": null,
   "id": "4cf26433-3d36-41cc-8af5-6929d06dd89f",
   "metadata": {},
   "outputs": [],
   "source": [
    "import daft"
   ]
  },
  {
   "cell_type": "code",
   "execution_count": null,
   "id": "db54132a-b9e4-4b37-865d-5a0c09c0e88d",
   "metadata": {},
   "outputs": [],
   "source": [
    "df = daft.read_parquet(\"s3://daft-public-data/coco-2017-parquet/images.parquet\").select(\"coco_url\", \"file_name\")"
   ]
  },
  {
   "cell_type": "code",
   "execution_count": null,
   "id": "412184a0-706f-48ac-a25d-06020f24bbe9",
   "metadata": {},
   "outputs": [],
   "source": [
    "df = df.with_column(\n",
    "    \"image\",\n",
    "    df[\"coco_url\"].url.download().image.decode(),\n",
    ")"
   ]
  },
  {
   "cell_type": "code",
   "execution_count": null,
   "id": "359b33ec-1935-4ca0-83e3-e8915c304a39",
   "metadata": {},
   "outputs": [],
   "source": [
    "df.show(3)"
   ]
  },
  {
   "cell_type": "code",
   "execution_count": null,
   "id": "c7ce25a2-00df-43a9-a78a-7c3a4f766989",
   "metadata": {},
   "outputs": [],
   "source": [
    "@daft.udf(return_dtype=daft.DataType.list(\"preds\", daft.DataType.string()))\n",
    "class RunYoloModel:\n",
    "\n",
    "    def __init__(self):\n",
    "        from ultralytics import YOLO\n",
    "        \n",
    "        self.yolo = YOLO(\"yolov8n.pt\")\n",
    "\n",
    "    def __call__(self, images: daft.Series):\n",
    "        image_np_arrays = images.to_pylist()\n",
    "        results = self.yolo.predict(image_np_arrays, conf=0.5)\n",
    "        return [[result.names[int(box_class)] for box_class in result.boxes.cls] for result in results]\n",
    "\n",
    "df = df.with_column(\"prediction_classes\", RunYoloModel(df[\"image\"]))"
   ]
  },
  {
   "cell_type": "code",
   "execution_count": null,
   "id": "e10b5541-39fd-4d0e-95ae-b8881199112a",
   "metadata": {},
   "outputs": [],
   "source": [
    "df.show(3)"
   ]
  },
  {
   "cell_type": "code",
   "execution_count": null,
   "id": "0681d264-552c-442b-8ab2-7049216a42bd",
   "metadata": {},
   "outputs": [],
   "source": [
    "%%time\n",
    "\n",
    "df.limit(200).where(df[\"prediction_classes\"].list.contains(\"car\")).collect()"
   ]
  },
  {
   "cell_type": "code",
   "execution_count": null,
   "id": "279dc9a9-24ae-430f-bcbb-b93f1710922d",
   "metadata": {},
   "outputs": [],
   "source": []
  }
 ],
 "metadata": {
  "kernelspec": {
   "display_name": "Python 3 (ipykernel)",
   "language": "python",
   "name": "python3"
  },
  "language_info": {
   "codemirror_mode": {
    "name": "ipython",
    "version": 3
   },
   "file_extension": ".py",
   "mimetype": "text/x-python",
   "name": "python",
   "nbconvert_exporter": "python",
   "pygments_lexer": "ipython3",
   "version": "3.10.9"
  }
 },
 "nbformat": 4,
 "nbformat_minor": 5
}
