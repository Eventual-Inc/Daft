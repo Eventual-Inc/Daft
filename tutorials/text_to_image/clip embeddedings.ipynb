{
 "cells": [
  {
   "cell_type": "code",
   "execution_count": null,
   "id": "47e6d950",
   "metadata": {},
   "outputs": [],
   "source": []
  },
  {
   "cell_type": "code",
   "execution_count": null,
   "id": "217b31c6",
   "metadata": {},
   "outputs": [],
   "source": [
    "import daft\n",
    "from daft import DataFrame\n",
    "from PIL import Image\n",
    "import io\n",
    "daft.context.set_runner_ray()"
   ]
  },
  {
   "cell_type": "code",
   "execution_count": null,
   "id": "e1a87b68",
   "metadata": {},
   "outputs": [],
   "source": []
  },
  {
   "cell_type": "code",
   "execution_count": null,
   "id": "5d70765f",
   "metadata": {},
   "outputs": [],
   "source": [
    "coco_df = DataFrame.read_parquet(\"s3://daft-public-data/coco-2017/mscoco.parquet\")\n",
    "coco_df = coco_df.repartition(8).limit(200)\n",
    "coco_df.show()"
   ]
  },
  {
   "cell_type": "code",
   "execution_count": null,
   "id": "06e99ce1",
   "metadata": {},
   "outputs": [],
   "source": [
    "images_df = coco_df.select('URL').distinct()\n",
    "images_df.show()"
   ]
  },
  {
   "cell_type": "code",
   "execution_count": null,
   "id": "aced0ff1",
   "metadata": {},
   "outputs": [],
   "source": [
    "\n",
    "images_df = images_df.with_column(\n",
    "    \"image\",\n",
    "    images_df[\"URL\"].url.download().apply(\n",
    "        lambda data: Image.open(io.BytesIO(data)).resize((512, 512)), \n",
    "        return_type=Image.Image,\n",
    "    )\n",
    ")\n",
    "images_df.show()"
   ]
  },
  {
   "cell_type": "code",
   "execution_count": null,
   "id": "8f7c6f80",
   "metadata": {},
   "outputs": [],
   "source": [
    "import numpy as np\n",
    "from daft import udf, col\n",
    "from daft.resource_request import ResourceRequest\n",
    "from typing import List\n",
    "import clip\n",
    "import torch\n",
    "\n",
    "@udf(return_type=np.ndarray)\n",
    "class ImageClipExtractor:\n",
    "    def __init__(self, model_name: str=\"ViT-B/32\") -> None:\n",
    "        self.device = \"cuda\"\n",
    "        self.model, self.preprocess = clip.load(model_name, device=self.device)\n",
    "        \n",
    "    \n",
    "    def __call__(self, images: List[Image.Image]) -> np.ndarray:   \n",
    "        if len(images) == 0:\n",
    "            return []        \n",
    "        image_input = torch.stack([self.preprocess(img) for img in images]).to(self.device)\n",
    "\n",
    "        with torch.no_grad():\n",
    "            image_features = self.model.encode_image(image_input)\n",
    "            image_features = image_features.detach().cpu().float()\n",
    "            norm = image_features.norm(p=2, dim=1, keepdim=True)\n",
    "        return (image_features / norm).numpy()\n",
    "    \n",
    "    \n",
    "images_df = images_df.with_column('image_clip_embedding', \n",
    "                                  ImageClipExtractor(col('image')),\n",
    "                                  resource_request=ResourceRequest(num_gpus=1))"
   ]
  },
  {
   "cell_type": "code",
   "execution_count": null,
   "id": "15da100e",
   "metadata": {},
   "outputs": [],
   "source": [
    "@udf(return_type=np.ndarray)\n",
    "class TextClipExtractor:\n",
    "    def __init__(self, model_name: str=\"ViT-B/32\") -> None:\n",
    "        self.device = \"cuda\"\n",
    "        self.model, self.preprocess = clip.load(model_name, device=self.device)\n",
    "        \n",
    "    \n",
    "    def __call__(self, text: List[str]) -> np.ndarray:      \n",
    "        tokens = clip.tokenize(text).to(self.device)\n",
    "\n",
    "        with torch.no_grad():\n",
    "            features = self.model.encode_text(tokens)\n",
    "            features = features.detach().cpu().float()\n",
    "            features /= features.norm(p=2, dim=-1, keepdim=True)\n",
    "        return features.numpy()\n",
    "text_df = coco_df.with_column('text_clip_embedding',\n",
    "                              TextClipExtractor(col('TEXT')),\n",
    "                              resource_request=ResourceRequest(num_gpus=1))"
   ]
  },
  {
   "cell_type": "code",
   "execution_count": null,
   "id": "c60d064f",
   "metadata": {},
   "outputs": [],
   "source": [
    "joined_df = images_df.join(text_df, on='URL')\n"
   ]
  },
  {
   "cell_type": "code",
   "execution_count": null,
   "id": "febc83e2",
   "metadata": {},
   "outputs": [],
   "source": [
    "import numpy as np\n",
    "@udf(return_type=float)\n",
    "def cosine_similarity(A: List[np.ndarray], B: List[np.ndarray]) -> List[float]:\n",
    "    return [np.dot(a,b) for a,b in zip(A, B)]\n",
    "\n",
    "joined_df = joined_df.with_column(\"cosine_similarity\", cosine_similarity(col(\"image_clip_embedding\"), col(\"text_clip_embedding\")))"
   ]
  },
  {
   "cell_type": "code",
   "execution_count": null,
   "id": "9f0652ae",
   "metadata": {},
   "outputs": [],
   "source": [
    "joined_df.explain()"
   ]
  },
  {
   "cell_type": "code",
   "execution_count": null,
   "id": "a4ab1b57",
   "metadata": {},
   "outputs": [],
   "source": [
    "result = joined_df.select('URL', 'TEXT', 'image', 'cosine_similarity').collect()"
   ]
  },
  {
   "cell_type": "code",
   "execution_count": null,
   "id": "ab9a7b07",
   "metadata": {},
   "outputs": [],
   "source": [
    "best_caption = (result.groupby('URL')\n",
    "                .max('cosine_similarity') \n",
    "                .join(result, \n",
    "                      on=['URL', 'cosine_similarity'])\n",
    "                .sort(\"cosine_similarity\", desc=True)).collect()\n",
    "best_caption.explain()"
   ]
  },
  {
   "cell_type": "code",
   "execution_count": null,
   "id": "ef3f8083",
   "metadata": {},
   "outputs": [],
   "source": [
    "best_caption.show()"
   ]
  }
 ],
 "metadata": {
  "kernelspec": {
   "display_name": "Python 3 (ipykernel)",
   "language": "python",
   "name": "python3"
  },
  "language_info": {
   "codemirror_mode": {
    "name": "ipython",
    "version": 3
   },
   "file_extension": ".py",
   "mimetype": "text/x-python",
   "name": "python",
   "nbconvert_exporter": "python",
   "pygments_lexer": "ipython3",
   "version": "3.9.12"
  }
 },
 "nbformat": 4,
 "nbformat_minor": 5
}
