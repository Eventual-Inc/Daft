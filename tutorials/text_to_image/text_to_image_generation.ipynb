{
    "cells": [
        {
            "cell_type": "code",
            "execution_count": null,
            "id": "019805d9-4e9f-4306-8f18-a565cb1e8845",
            "metadata": {
                "colab": {
                    "base_uri": "https://localhost:8080/",
                    "height": 1000
                },
                "id": "019805d9-4e9f-4306-8f18-a565cb1e8845",
                "outputId": "f48e4a66-21cd-4b93-e8cb-261ae8c8aec8"
            },
            "outputs": [],
            "source": [
                "!pip install getdaft --pre --extra-index-url https://pypi.anaconda.org/daft-nightly/simple\n",
                "!pip install min-dalle torch Pillow"
            ]
        },
        {
            "cell_type": "code",
            "execution_count": null,
            "id": "9536868c",
            "metadata": {
                "tags": [
                    "parameters"
                ]
            },
            "outputs": [],
            "source": [
                "CI = False"
            ]
        },
        {
            "cell_type": "code",
            "execution_count": null,
            "id": "8ff9d08a",
            "metadata": {
                "tags": []
            },
            "outputs": [],
            "source": [
                "# Flip this flag if you want to see the performance of running on CPU vs GPU\n",
                "USE_GPU = False if CI else True\n",
                "\n",
                "PARQUET_PATH = \"https://huggingface.co/datasets/ChristophSchuhmann/improved_aesthetics_6.5plus/resolve/main/data/train-00000-of-00001-6f24a7497df494ae.parquet\""
            ]
        },
        {
            "attachments": {},
            "cell_type": "markdown",
            "id": "d5a31f06",
            "metadata": {},
            "source": [
                "```{hint}\n",
                "✨✨✨ **Run this notebook on Google Colab** ✨✨✨\n",
                "\n",
                "You can [run this notebook yourself with Google Colab](https://colab.research.google.com/github/Eventual-Inc/Daft/blob/main/tutorials/text_to_image/text_to_image_generation.ipynb)!\n",
                "```"
            ]
        },
        {
            "attachments": {},
            "cell_type": "markdown",
            "id": "78db424a-96b5-46f3-bd32-484f5c6b92a3",
            "metadata": {
                "id": "78db424a-96b5-46f3-bd32-484f5c6b92a3"
            },
            "source": [
                "# Generating Images from Text with DALL-E\n",
                "\n",
                "In this tutorial, we will be using the DALL-E model to generate images from text. We will explore how to use GPUs with Daft to accelerate computations.\n",
                "\n",
                "To run this tutorial:\n",
                "\n",
                "1. You will need access to a GPU. If you are on Google Colab, you may switch to a GPU runtime by going to the menu `Runtime -> Change runtime type -> Hardware accelerator -> GPU -> Save`.\n",
                "\n",
                "Let's get started!"
            ]
        },
        {
            "attachments": {},
            "cell_type": "markdown",
            "id": "4da65a96-e4fe-4795-92d0-a5e631b58e33",
            "metadata": {
                "id": "4da65a96-e4fe-4795-92d0-a5e631b58e33"
            },
            "source": [
                "## Setting Up\n",
                "\n",
                "First, let's load a Parquet file into Daft. This particular file is hosted in HuggingFace at a https URL."
            ]
        },
        {
            "cell_type": "code",
            "execution_count": null,
            "id": "806451f8-68af-462a-af7b-ff5480425a3a",
            "metadata": {
                "id": "806451f8-68af-462a-af7b-ff5480425a3a",
                "tags": []
            },
            "outputs": [],
            "source": [
                "import daft\n",
                "daft.context.set_runner_py(use_thread_pool=False)\n",
                "\n",
                "parquet_df = daft.read_parquet(PARQUET_PATH)"
            ]
        },
        {
            "attachments": {},
            "cell_type": "markdown",
            "id": "a1e20f90",
            "metadata": {},
            "source": [
                "Let's go ahead and `.collect()` this DataFrame. This will download the Parquet file and materialize the data in memory so that all our subsequent operations will be cached!"
            ]
        },
        {
            "cell_type": "code",
            "execution_count": null,
            "id": "e1e3b619-beaf-465e-83f2-5ab71638dcc1",
            "metadata": {
                "colab": {
                    "base_uri": "https://localhost:8080/",
                    "height": 544
                },
                "id": "e1e3b619-beaf-465e-83f2-5ab71638dcc1",
                "outputId": "e52133d2-5694-49a0-e385-758cf5b1b203",
                "tags": []
            },
            "outputs": [],
            "source": [
                "parquet_df.collect()"
            ]
        },
        {
            "cell_type": "code",
            "execution_count": null,
            "id": "b257cd91-db90-4803-afd9-9fdf571cf755",
            "metadata": {
                "id": "b257cd91-db90-4803-afd9-9fdf571cf755",
                "tags": []
            },
            "outputs": [],
            "source": [
                "parquet_df = parquet_df.select(parquet_df[\"URL\"], parquet_df[\"TEXT\"], parquet_df[\"AESTHETIC_SCORE\"])"
            ]
        },
        {
            "attachments": {},
            "cell_type": "markdown",
            "id": "f28047df-bf05-47df-b4d4-3507a8f7d2ac",
            "metadata": {
                "id": "f28047df-bf05-47df-b4d4-3507a8f7d2ac"
            },
            "source": [
                "## Downloading Images\n",
                "\n",
                "Like many datasets, instead of storing the actual images in the dataset's files it looks like the Dataset authors have instead opted to store a URL to the image.\n",
                "\n",
                "Let's use Daft's builtin functionality to download the images and open them as PIL Images - all in just a few lines of code!"
            ]
        },
        {
            "cell_type": "code",
            "execution_count": null,
            "id": "f1e5cd84-4526-4a91-9fd5-f4e78f35965d",
            "metadata": {
                "id": "f1e5cd84-4526-4a91-9fd5-f4e78f35965d",
                "tags": []
            },
            "outputs": [],
            "source": [
                "# Filter for images with longer descriptions\n",
                "parquet_df_with_long_strings = parquet_df.where(parquet_df[\"TEXT\"].str.length() > 50)\n",
                "\n",
                "# Download images\n",
                "images_df = parquet_df_with_long_strings.with_column(\n",
                "    \"image\",\n",
                "    parquet_df[\"URL\"].url.download().image.decode(),\n",
                ")"
            ]
        },
        {
            "cell_type": "code",
            "execution_count": null,
            "id": "c1361728-8b1a-4e6e-9632-ddd17cad948b",
            "metadata": {
                "colab": {
                    "base_uri": "https://localhost:8080/",
                    "height": 802
                },
                "id": "c1361728-8b1a-4e6e-9632-ddd17cad948b",
                "outputId": "1c2ce3a4-63a1-4f77-ce2e-e3ecea2a3e1f",
                "tags": []
            },
            "outputs": [],
            "source": [
                "images_df.show(5)"
            ]
        },
        {
            "attachments": {},
            "cell_type": "markdown",
            "id": "6e6f59ee",
            "metadata": {},
            "source": [
                "Great! Now we have a pretty good idea of what our dataset looks like."
            ]
        },
        {
            "attachments": {},
            "cell_type": "markdown",
            "id": "gCTmONUl81Vw",
            "metadata": {
                "id": "gCTmONUl81Vw"
            },
            "source": [
                "# Running the Mini DALL-E model on a GPU using Daft UDFs\n",
                "\n",
                "Let's now run the Mini DALL-E model over the `\"TEXT\"` column, and generate images for those texts!\n",
                "\n",
                "Using GPUs with Daft UDFs is simple. Just specify `num_gpus=N`, where `N` is the number of GPUs that your UDF is going to use."
            ]
        },
        {
            "cell_type": "code",
            "execution_count": null,
            "id": "b500e7f5",
            "metadata": {
                "tags": []
            },
            "outputs": [],
            "source": [
                "import torch\n",
                "from min_dalle import MinDalle\n",
                "\n",
                "from daft import ResourceRequest\n",
                "\n",
                "\n",
                "@daft.udf(return_dtype=daft.DataType.python())\n",
                "class GenerateImageFromText:\n",
                "    def __init__(self):\n",
                "        self.model = MinDalle(\n",
                "            models_root='./pretrained',\n",
                "            dtype=torch.float32,\n",
                "            # Tell the min-dalle library to load model on GPU or GPU\n",
                "            device=\"cuda\" if USE_GPU else \"cpu\",\n",
                "            is_mega=False, \n",
                "            is_reusable=True\n",
                "        )\n",
                "        \n",
                "    def __call__(self, text_col):\n",
                "        return [\n",
                "            self.model.generate_image(\n",
                "                t,\n",
                "                seed=-1,\n",
                "                grid_size=1,\n",
                "                is_seamless=False,\n",
                "                temperature=1,\n",
                "                top_k=256,\n",
                "                supercondition_factor=32,\n",
                "            ) for t in text_col.to_pylist()\n",
                "        ]\n",
                "\n",
                "resource_request = ResourceRequest(num_gpus=1) if USE_GPU else ResourceRequest()\n",
                "images_df.with_column(\n",
                "    \"generated_image\",\n",
                "    GenerateImageFromText(images_df[\"TEXT\"]),\n",
                "    resource_request=resource_request,\n",
                ").show(1)"
            ]
        },
        {
            "cell_type": "code",
            "execution_count": null,
            "id": "5764ae83-9100-47c7-95d3-4880d9f1fe7c",
            "metadata": {},
            "outputs": [],
            "source": []
        }
    ],
    "metadata": {
        "accelerator": "GPU",
        "colab": {
            "provenance": []
        },
        "kernelspec": {
            "display_name": "Python 3 (ipykernel)",
            "language": "python",
            "name": "python3"
        },
        "language_info": {
            "codemirror_mode": {
                "name": "ipython",
                "version": 3
            },
            "file_extension": ".py",
            "mimetype": "text/x-python",
            "name": "python",
            "nbconvert_exporter": "python",
            "pygments_lexer": "ipython3",
            "version": "3.10.9"
        },
        "vscode": {
            "interpreter": {
                "hash": "e5d77f7bd5a748e4f6412a25f9708ab7af36936de941fc795d1a6b75eb2da082"
            }
        }
    },
    "nbformat": 4,
    "nbformat_minor": 5
}
