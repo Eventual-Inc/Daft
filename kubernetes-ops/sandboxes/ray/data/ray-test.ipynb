{
 "cells": [
  {
   "cell_type": "code",
   "execution_count": null,
   "id": "3ee4241f-121d-472e-b920-c204ec72b621",
   "metadata": {},
   "outputs": [],
   "source": [
    "import numpy as np\n",
    "import ray"
   ]
  },
  {
   "cell_type": "code",
   "execution_count": null,
   "id": "a5adfb41-7f19-48da-9004-38e0b0c450cd",
   "metadata": {},
   "outputs": [],
   "source": [
    "ray.init(\"ray://raycluster-mini-head-svc:10001\")"
   ]
  },
  {
   "cell_type": "code",
   "execution_count": null,
   "id": "9061585d-ae86-4a4a-85c2-d13d7c41d09c",
   "metadata": {},
   "outputs": [],
   "source": [
    "@ray.remote\n",
    "def my_function():\n",
    "    return np.random.RandomState(seed=1).rand(1000, 1000)\n",
    "\n",
    "@ray.remote\n",
    "def driver():\n",
    "    [my_function.remote() for _ in range(100)]\n",
    "\n",
    "driver.remote()"
   ]
  }
 ],
 "metadata": {
  "kernelspec": {
   "display_name": "Python 3 (ipykernel)",
   "language": "python",
   "name": "python3"
  },
  "language_info": {
   "codemirror_mode": {
    "name": "ipython",
    "version": 3
   },
   "file_extension": ".py",
   "mimetype": "text/x-python",
   "name": "python",
   "nbconvert_exporter": "python",
   "pygments_lexer": "ipython3",
   "version": "3.10.5"
  }
 },
 "nbformat": 4,
 "nbformat_minor": 5
}
