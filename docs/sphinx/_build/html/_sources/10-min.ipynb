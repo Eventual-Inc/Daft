{
 "cells": [
  {
   "attachments": {},
   "cell_type": "markdown",
   "metadata": {},
   "source": [
    "```{hint}\n",
    "✨✨✨ **Run this notebook on Google Colab** ✨✨✨\n",
    "\n",
    "You can [run this notebook yourself with Google Colab](https://colab.research.google.com/github/Eventual-Inc/Daft/blob/main/docs/source/10-min.ipynb)!\n",
    "```"
   ]
  },
  {
   "attachments": {},
   "cell_type": "markdown",
   "metadata": {},
   "source": [
    "# 10 minutes Quickstart\n",
    "\n",
    "This is a short introduction to all the main functionality in Daft, geared towards new users.\n",
    "\n",
    "## What is Daft?\n",
    "Daft is a distributed query engine built for running ETL, analytics, and ML/AI workloads at scale. Daft is implemented in Rust (fast!) and exposes a familiar Python dataframe API (friendly!). \n",
    "\n",
    "In this Quickstart you will learn the basics of Daft’s DataFrame API and the features that set it apart from frameworks like pandas, pySpark, Dask and Ray. You will build a database of dog owners and their fluffy companions and see how you can use Daft to download images from URLs, run an ML classifier and call custom UDFs, all within an interactive DataFrame interface. Woof! 🐶\n",
    "\n",
    "## When Should I use Daft?\n",
    "\n",
    "Daft is the right tool for you if you are working with any of the following:\n",
    "- **Large datasets** that don't fit into memory or would benefit from parallelization\n",
    "- **Multimodal data types** such as images, JSON, vector embeddings, and tensors\n",
    "- **Formats that support data skipping** through automatic partition pruning and stats-based file pruning for filter predicates\n",
    "- **ML workloads** that would benefit from interactive computation within DataFrame (via UDFs)\n",
    "\n",
    "Read more about how Daft compares to other DataFrames in our [FAQ](/faq/dataframe_comparison.rst).\n",
    "\n",
    "Let's jump in! 🪂"
   ]
  },
  {
   "cell_type": "markdown",
   "metadata": {},
   "source": [
    "## Install and Import Daft\n",
    "\n",
    "You can install Daft using `pip`:"
   ]
  },
  {
   "cell_type": "code",
   "execution_count": null,
   "metadata": {
    "scrolled": true
   },
   "outputs": [],
   "source": [
    "%pip install getdaft"
   ]
  },
  {
   "cell_type": "markdown",
   "metadata": {},
   "source": [
    "And then import Daft and some of its classes which we'll need later on:"
   ]
  },
  {
   "cell_type": "code",
   "execution_count": 1,
   "metadata": {
    "tags": []
   },
   "outputs": [],
   "source": [
    "import daft\n",
    "from daft import DataType, udf"
   ]
  },
  {
   "cell_type": "markdown",
   "metadata": {},
   "source": [
    "## Create your first Daft DataFrame\n",
    "\n",
    "See also: [API Reference: DataFrame Construction](df-input-output)\n",
    "\n",
    "To begin, let's create a DataFrame from a dictionary of columns:"
   ]
  },
  {
   "cell_type": "code",
   "execution_count": 2,
   "metadata": {},
   "outputs": [
    {
     "data": {
      "text/html": [
       "<div>\n",
       "<table class=\"dataframe\">\n",
       "<thead><tr><th style=\"text-wrap: nowrap; max-width:192px; overflow:auto; text-align:left\">integers<br />Int64</th><th style=\"text-wrap: nowrap; max-width:192px; overflow:auto; text-align:left\">floats<br />Float64</th><th style=\"text-wrap: nowrap; max-width:192px; overflow:auto; text-align:left\">bools<br />Boolean</th><th style=\"text-wrap: nowrap; max-width:192px; overflow:auto; text-align:left\">strings<br />Utf8</th><th style=\"text-wrap: nowrap; max-width:192px; overflow:auto; text-align:left\">bytes<br />Binary</th><th style=\"text-wrap: nowrap; max-width:192px; overflow:auto; text-align:left\">dates<br />Date</th><th style=\"text-wrap: nowrap; max-width:192px; overflow:auto; text-align:left\">lists<br />List[Int64]</th><th style=\"text-wrap: nowrap; max-width:192px; overflow:auto; text-align:left\">nulls<br />Null</th></tr></thead>\n",
       "<tbody>\n",
       "<tr><td><div style=\"text-align:left; max-width:192px; max-height:64px; overflow:auto\">1</div></td><td><div style=\"text-align:left; max-width:192px; max-height:64px; overflow:auto\">1.5</div></td><td><div style=\"text-align:left; max-width:192px; max-height:64px; overflow:auto\">true</div></td><td><div style=\"text-align:left; max-width:192px; max-height:64px; overflow:auto\">a</div></td><td><div style=\"text-align:left; max-width:192px; max-height:64px; overflow:auto\">b\"a\"</div></td><td><div style=\"text-align:left; max-width:192px; max-height:64px; overflow:auto\">1994-01-01</div></td><td><div style=\"text-align:left; max-width:192px; max-height:64px; overflow:auto\">[1, 1, 1]</div></td><td><div style=\"text-align:left; max-width:192px; max-height:64px; overflow:auto\">None</div></td></tr>\n",
       "<tr><td><div style=\"text-align:left; max-width:192px; max-height:64px; overflow:auto\">2</div></td><td><div style=\"text-align:left; max-width:192px; max-height:64px; overflow:auto\">2.5</div></td><td><div style=\"text-align:left; max-width:192px; max-height:64px; overflow:auto\">true</div></td><td><div style=\"text-align:left; max-width:192px; max-height:64px; overflow:auto\">b</div></td><td><div style=\"text-align:left; max-width:192px; max-height:64px; overflow:auto\">b\"b\"</div></td><td><div style=\"text-align:left; max-width:192px; max-height:64px; overflow:auto\">1994-01-02</div></td><td><div style=\"text-align:left; max-width:192px; max-height:64px; overflow:auto\">[2, 2, 2]</div></td><td><div style=\"text-align:left; max-width:192px; max-height:64px; overflow:auto\">None</div></td></tr>\n",
       "<tr><td><div style=\"text-align:left; max-width:192px; max-height:64px; overflow:auto\">3</div></td><td><div style=\"text-align:left; max-width:192px; max-height:64px; overflow:auto\">3.5</div></td><td><div style=\"text-align:left; max-width:192px; max-height:64px; overflow:auto\">false</div></td><td><div style=\"text-align:left; max-width:192px; max-height:64px; overflow:auto\">c</div></td><td><div style=\"text-align:left; max-width:192px; max-height:64px; overflow:auto\">b\"c\"</div></td><td><div style=\"text-align:left; max-width:192px; max-height:64px; overflow:auto\">1994-01-03</div></td><td><div style=\"text-align:left; max-width:192px; max-height:64px; overflow:auto\">[3, 3, 3]</div></td><td><div style=\"text-align:left; max-width:192px; max-height:64px; overflow:auto\">None</div></td></tr>\n",
       "<tr><td><div style=\"text-align:left; max-width:192px; max-height:64px; overflow:auto\">4</div></td><td><div style=\"text-align:left; max-width:192px; max-height:64px; overflow:auto\">4.5</div></td><td><div style=\"text-align:left; max-width:192px; max-height:64px; overflow:auto\">false</div></td><td><div style=\"text-align:left; max-width:192px; max-height:64px; overflow:auto\">d</div></td><td><div style=\"text-align:left; max-width:192px; max-height:64px; overflow:auto\">b\"d\"</div></td><td><div style=\"text-align:left; max-width:192px; max-height:64px; overflow:auto\">1994-01-04</div></td><td><div style=\"text-align:left; max-width:192px; max-height:64px; overflow:auto\">[4, 4, 4]</div></td><td><div style=\"text-align:left; max-width:192px; max-height:64px; overflow:auto\">None</div></td></tr>\n",
       "</tbody>\n",
       "</table>\n",
       "<small>(Showing first 4 of 4 rows)</small>\n",
       "</div>"
      ],
      "text/plain": [
       "╭──────────┬─────────┬─────────┬────────────┬────────────┬─────────────┬───────╮\n",
       "│ integers ┆ floats  ┆ bools   ┆      …     ┆ dates      ┆ lists       ┆ nulls │\n",
       "│ ---      ┆ ---     ┆ ---     ┆            ┆ ---        ┆ ---         ┆ ---   │\n",
       "│ Int64    ┆ Float64 ┆ Boolean ┆ (2 hidden) ┆ Date       ┆ List[Int64] ┆ Null  │\n",
       "╞══════════╪═════════╪═════════╪════════════╪════════════╪═════════════╪═══════╡\n",
       "│ 1        ┆ 1.5     ┆ true    ┆ …          ┆ 1994-01-01 ┆ [1, 1, 1]   ┆ None  │\n",
       "├╌╌╌╌╌╌╌╌╌╌┼╌╌╌╌╌╌╌╌╌┼╌╌╌╌╌╌╌╌╌┼╌╌╌╌╌╌╌╌╌╌╌╌┼╌╌╌╌╌╌╌╌╌╌╌╌┼╌╌╌╌╌╌╌╌╌╌╌╌╌┼╌╌╌╌╌╌╌┤\n",
       "│ 2        ┆ 2.5     ┆ true    ┆ …          ┆ 1994-01-02 ┆ [2, 2, 2]   ┆ None  │\n",
       "├╌╌╌╌╌╌╌╌╌╌┼╌╌╌╌╌╌╌╌╌┼╌╌╌╌╌╌╌╌╌┼╌╌╌╌╌╌╌╌╌╌╌╌┼╌╌╌╌╌╌╌╌╌╌╌╌┼╌╌╌╌╌╌╌╌╌╌╌╌╌┼╌╌╌╌╌╌╌┤\n",
       "│ 3        ┆ 3.5     ┆ false   ┆ …          ┆ 1994-01-03 ┆ [3, 3, 3]   ┆ None  │\n",
       "├╌╌╌╌╌╌╌╌╌╌┼╌╌╌╌╌╌╌╌╌┼╌╌╌╌╌╌╌╌╌┼╌╌╌╌╌╌╌╌╌╌╌╌┼╌╌╌╌╌╌╌╌╌╌╌╌┼╌╌╌╌╌╌╌╌╌╌╌╌╌┼╌╌╌╌╌╌╌┤\n",
       "│ 4        ┆ 4.5     ┆ false   ┆ …          ┆ 1994-01-04 ┆ [4, 4, 4]   ┆ None  │\n",
       "╰──────────┴─────────┴─────────┴────────────┴────────────┴─────────────┴───────╯\n",
       "\n",
       "(Showing first 4 of 4 rows)"
      ]
     },
     "execution_count": 2,
     "metadata": {},
     "output_type": "execute_result"
    }
   ],
   "source": [
    "import datetime\n",
    "\n",
    "df = daft.from_pydict(\n",
    "    {\n",
    "        \"integers\": [1, 2, 3, 4],\n",
    "        \"floats\": [1.5, 2.5, 3.5, 4.5],\n",
    "        \"bools\": [True, True, False, False],\n",
    "        \"strings\": [\"a\", \"b\", \"c\", \"d\"],\n",
    "        \"bytes\": [b\"a\", b\"b\", b\"c\", b\"d\"],\n",
    "        \"dates\": [\n",
    "            datetime.date(1994, 1, 1),\n",
    "            datetime.date(1994, 1, 2),\n",
    "            datetime.date(1994, 1, 3),\n",
    "            datetime.date(1994, 1, 4),\n",
    "        ],\n",
    "        \"lists\": [[1, 1, 1], [2, 2, 2], [3, 3, 3], [4, 4, 4]],\n",
    "        \"nulls\": [None, None, None, None],\n",
    "    }\n",
    ")\n",
    "\n",
    "df"
   ]
  },
  {
   "cell_type": "markdown",
   "metadata": {},
   "source": [
    "Nice. If you've worked with DataFrame libraries like pandas, Dask or Spark this should look familiar."
   ]
  },
  {
   "cell_type": "markdown",
   "metadata": {},
   "source": [
    "### Multimodal Data Types"
   ]
  },
  {
   "cell_type": "markdown",
   "metadata": {},
   "source": [
    "Daft is built for multimodal data type support. Daft DataFrames can contain more data types than other DataFrame APIs like pandas, Spark or Dask. Daft columns can contain URLs, images, tensors and Python classes. You'll get to work with some of these data types in a moment.\n",
    "\n",
    "For a complete list of supported data types see: [API Reference: DataTypes](../api_docs/datatype)"
   ]
  },
  {
   "cell_type": "markdown",
   "metadata": {},
   "source": [
    "### Data Sources\n",
    "\n",
    "You can also load DataFrames from other sources, such as:\n",
    "\n",
    "1. CSV files: {func}`daft.read_csv(\"s3://bucket/*.csv\") <daft.read_csv>`\n",
    "2. Parquet files: {func}`daft.read_parquet(\"/path/*.parquet\") <daft.read_parquet>`\n",
    "3. JSON line-delimited files: {func}`daft.read_json(\"/path/*.parquet\") <daft.read_json>`\n",
    "4. Files on disk: {func}`daft.from_glob_path(\"/path/*.jpeg\") <daft.from_glob_path>`\n",
    "\n",
    "Daft automatically supports local paths as well as paths to object storage such as AWS S3:\n",
    "\n",
    "```\n",
    "df = daft.read_json(\"s3://path/to/bucket/file.jsonl\")\n",
    "```\n",
    "\n",
    "See [User Guide: Integrations](/user_guide/integrations) to learn more about working with other formats like Delta Lake and Iceberg."
   ]
  },
  {
   "cell_type": "markdown",
   "metadata": {},
   "source": [
    "Let's read in a Parquet file from a public S3 bucket. Note that this Parquet file is partitioned on the `country` column. This will be important later on."
   ]
  },
  {
   "cell_type": "code",
   "execution_count": 3,
   "metadata": {},
   "outputs": [
    {
     "data": {
      "text/html": [
       "<div>\n",
       "<table class=\"dataframe\">\n",
       "<thead><tr><th style=\"text-wrap: nowrap; max-width:192px; overflow:auto; text-align:left\">first_name<br />Utf8</th><th style=\"text-wrap: nowrap; max-width:192px; overflow:auto; text-align:left\">last_name<br />Utf8</th><th style=\"text-wrap: nowrap; max-width:192px; overflow:auto; text-align:left\">age<br />Int64</th><th style=\"text-wrap: nowrap; max-width:192px; overflow:auto; text-align:left\">DoB<br />Date</th><th style=\"text-wrap: nowrap; max-width:192px; overflow:auto; text-align:left\">country<br />Utf8</th><th style=\"text-wrap: nowrap; max-width:192px; overflow:auto; text-align:left\">has_dog<br />Boolean</th></tr></thead>\n",
       "</table>\n",
       "<small>(No data to display: Dataframe not materialized)</small>\n",
       "</div>"
      ],
      "text/plain": [
       "╭────────────┬───────────┬───────┬──────┬─────────┬─────────╮\n",
       "│ first_name ┆ last_name ┆ age   ┆ DoB  ┆ country ┆ has_dog │\n",
       "│ ---        ┆ ---       ┆ ---   ┆ ---  ┆ ---     ┆ ---     │\n",
       "│ Utf8       ┆ Utf8      ┆ Int64 ┆ Date ┆ Utf8    ┆ Boolean │\n",
       "╰────────────┴───────────┴───────┴──────┴─────────┴─────────╯\n",
       "\n",
       "(No data to display: Dataframe not materialized)"
      ]
     },
     "execution_count": 3,
     "metadata": {},
     "output_type": "execute_result"
    }
   ],
   "source": [
    "# Set IO Configurations to use anonymous data access mode\n",
    "daft.set_planning_config(default_io_config=daft.io.IOConfig(s3=daft.io.S3Config(anonymous=True)))\n",
    "\n",
    "df = daft.read_parquet(\"s3://daft-public-data/tutorials/10-min/sample-data-dog-owners-partitioned.pq/**\")\n",
    "df"
   ]
  },
  {
   "cell_type": "markdown",
   "metadata": {},
   "source": [
    "## Executing and Displaying Data\n",
    "\n",
    "Daft DataFrames are lazy by default. This means that the contents will not be computed (\"materialized\") unless you explicitly tell Daft to do so. This is best practice for working with larger-than-memory datasets and parallel/distributed architectures.\n",
    "\n",
    "The file we have just loaded only has 5 rows. You can materialize the whole DataFrame in memory easily using the {meth}`df.collect() <daft.DataFrame.collect>` method:"
   ]
  },
  {
   "cell_type": "code",
   "execution_count": 4,
   "metadata": {},
   "outputs": [
    {
     "data": {
      "application/vnd.jupyter.widget-view+json": {
       "model_id": "38e35f25fe264d678fb1d733fa634dc9",
       "version_major": 2,
       "version_minor": 0
      },
      "text/plain": [
       "ScanWithTask [Stage:1]:   0%|          | 0/1 [00:00<?, ?it/s]"
      ]
     },
     "metadata": {},
     "output_type": "display_data"
    },
    {
     "data": {
      "text/html": [
       "<div>\n",
       "<table class=\"dataframe\">\n",
       "<thead><tr><th style=\"text-wrap: nowrap; max-width:192px; overflow:auto; text-align:left\">first_name<br />Utf8</th><th style=\"text-wrap: nowrap; max-width:192px; overflow:auto; text-align:left\">last_name<br />Utf8</th><th style=\"text-wrap: nowrap; max-width:192px; overflow:auto; text-align:left\">age<br />Int64</th><th style=\"text-wrap: nowrap; max-width:192px; overflow:auto; text-align:left\">DoB<br />Date</th><th style=\"text-wrap: nowrap; max-width:192px; overflow:auto; text-align:left\">country<br />Utf8</th><th style=\"text-wrap: nowrap; max-width:192px; overflow:auto; text-align:left\">has_dog<br />Boolean</th></tr></thead>\n",
       "<tbody>\n",
       "<tr><td><div style=\"text-align:left; max-width:192px; max-height:64px; overflow:auto\">Shandra</div></td><td><div style=\"text-align:left; max-width:192px; max-height:64px; overflow:auto\">Shamas</div></td><td><div style=\"text-align:left; max-width:192px; max-height:64px; overflow:auto\">57</div></td><td><div style=\"text-align:left; max-width:192px; max-height:64px; overflow:auto\">1967-01-02</div></td><td><div style=\"text-align:left; max-width:192px; max-height:64px; overflow:auto\">United Kingdom</div></td><td><div style=\"text-align:left; max-width:192px; max-height:64px; overflow:auto\">true</div></td></tr>\n",
       "<tr><td><div style=\"text-align:left; max-width:192px; max-height:64px; overflow:auto\">Zaya</div></td><td><div style=\"text-align:left; max-width:192px; max-height:64px; overflow:auto\">Zaphora</div></td><td><div style=\"text-align:left; max-width:192px; max-height:64px; overflow:auto\">40</div></td><td><div style=\"text-align:left; max-width:192px; max-height:64px; overflow:auto\">1984-04-07</div></td><td><div style=\"text-align:left; max-width:192px; max-height:64px; overflow:auto\">United Kingdom</div></td><td><div style=\"text-align:left; max-width:192px; max-height:64px; overflow:auto\">true</div></td></tr>\n",
       "<tr><td><div style=\"text-align:left; max-width:192px; max-height:64px; overflow:auto\">Wolfgang</div></td><td><div style=\"text-align:left; max-width:192px; max-height:64px; overflow:auto\">Winter</div></td><td><div style=\"text-align:left; max-width:192px; max-height:64px; overflow:auto\">23</div></td><td><div style=\"text-align:left; max-width:192px; max-height:64px; overflow:auto\">2001-02-12</div></td><td><div style=\"text-align:left; max-width:192px; max-height:64px; overflow:auto\">Germany</div></td><td><div style=\"text-align:left; max-width:192px; max-height:64px; overflow:auto\">None</div></td></tr>\n",
       "<tr><td><div style=\"text-align:left; max-width:192px; max-height:64px; overflow:auto\">Ernesto</div></td><td><div style=\"text-align:left; max-width:192px; max-height:64px; overflow:auto\">Evergreen</div></td><td><div style=\"text-align:left; max-width:192px; max-height:64px; overflow:auto\">34</div></td><td><div style=\"text-align:left; max-width:192px; max-height:64px; overflow:auto\">1990-04-03</div></td><td><div style=\"text-align:left; max-width:192px; max-height:64px; overflow:auto\">Canada</div></td><td><div style=\"text-align:left; max-width:192px; max-height:64px; overflow:auto\">true</div></td></tr>\n",
       "<tr><td><div style=\"text-align:left; max-width:192px; max-height:64px; overflow:auto\">James</div></td><td><div style=\"text-align:left; max-width:192px; max-height:64px; overflow:auto\">Jale</div></td><td><div style=\"text-align:left; max-width:192px; max-height:64px; overflow:auto\">62</div></td><td><div style=\"text-align:left; max-width:192px; max-height:64px; overflow:auto\">1962-03-24</div></td><td><div style=\"text-align:left; max-width:192px; max-height:64px; overflow:auto\">Canada</div></td><td><div style=\"text-align:left; max-width:192px; max-height:64px; overflow:auto\">true</div></td></tr>\n",
       "</tbody>\n",
       "</table>\n",
       "<small>(Showing first 5 of 5 rows)</small>\n",
       "</div>"
      ],
      "text/plain": [
       "╭────────────┬───────────┬───────┬────────────┬────────────────┬─────────╮\n",
       "│ first_name ┆ last_name ┆ age   ┆ DoB        ┆ country        ┆ has_dog │\n",
       "│ ---        ┆ ---       ┆ ---   ┆ ---        ┆ ---            ┆ ---     │\n",
       "│ Utf8       ┆ Utf8      ┆ Int64 ┆ Date       ┆ Utf8           ┆ Boolean │\n",
       "╞════════════╪═══════════╪═══════╪════════════╪════════════════╪═════════╡\n",
       "│ Shandra    ┆ Shamas    ┆ 57    ┆ 1967-01-02 ┆ United Kingdom ┆ true    │\n",
       "├╌╌╌╌╌╌╌╌╌╌╌╌┼╌╌╌╌╌╌╌╌╌╌╌┼╌╌╌╌╌╌╌┼╌╌╌╌╌╌╌╌╌╌╌╌┼╌╌╌╌╌╌╌╌╌╌╌╌╌╌╌╌┼╌╌╌╌╌╌╌╌╌┤\n",
       "│ Zaya       ┆ Zaphora   ┆ 40    ┆ 1984-04-07 ┆ United Kingdom ┆ true    │\n",
       "├╌╌╌╌╌╌╌╌╌╌╌╌┼╌╌╌╌╌╌╌╌╌╌╌┼╌╌╌╌╌╌╌┼╌╌╌╌╌╌╌╌╌╌╌╌┼╌╌╌╌╌╌╌╌╌╌╌╌╌╌╌╌┼╌╌╌╌╌╌╌╌╌┤\n",
       "│ Wolfgang   ┆ Winter    ┆ 23    ┆ 2001-02-12 ┆ Germany        ┆ None    │\n",
       "├╌╌╌╌╌╌╌╌╌╌╌╌┼╌╌╌╌╌╌╌╌╌╌╌┼╌╌╌╌╌╌╌┼╌╌╌╌╌╌╌╌╌╌╌╌┼╌╌╌╌╌╌╌╌╌╌╌╌╌╌╌╌┼╌╌╌╌╌╌╌╌╌┤\n",
       "│ Ernesto    ┆ Evergreen ┆ 34    ┆ 1990-04-03 ┆ Canada         ┆ true    │\n",
       "├╌╌╌╌╌╌╌╌╌╌╌╌┼╌╌╌╌╌╌╌╌╌╌╌┼╌╌╌╌╌╌╌┼╌╌╌╌╌╌╌╌╌╌╌╌┼╌╌╌╌╌╌╌╌╌╌╌╌╌╌╌╌┼╌╌╌╌╌╌╌╌╌┤\n",
       "│ James      ┆ Jale      ┆ 62    ┆ 1962-03-24 ┆ Canada         ┆ true    │\n",
       "╰────────────┴───────────┴───────┴────────────┴────────────────┴─────────╯\n",
       "\n",
       "(Showing first 5 of 5 rows)"
      ]
     },
     "execution_count": 4,
     "metadata": {},
     "output_type": "execute_result"
    }
   ],
   "source": [
    "df.collect()"
   ]
  },
  {
   "cell_type": "markdown",
   "metadata": {},
   "source": [
    "You can also take a look at just the first few rows with the {meth}`df.show() <daft.DataFrame.show>` method:"
   ]
  },
  {
   "cell_type": "code",
   "execution_count": 5,
   "metadata": {},
   "outputs": [
    {
     "data": {
      "text/html": [
       "<div>\n",
       "<table class=\"dataframe\">\n",
       "<thead><tr><th style=\"text-wrap: nowrap; max-width:192px; overflow:auto; text-align:left\">first_name<br />Utf8</th><th style=\"text-wrap: nowrap; max-width:192px; overflow:auto; text-align:left\">last_name<br />Utf8</th><th style=\"text-wrap: nowrap; max-width:192px; overflow:auto; text-align:left\">age<br />Int64</th><th style=\"text-wrap: nowrap; max-width:192px; overflow:auto; text-align:left\">DoB<br />Date</th><th style=\"text-wrap: nowrap; max-width:192px; overflow:auto; text-align:left\">country<br />Utf8</th><th style=\"text-wrap: nowrap; max-width:192px; overflow:auto; text-align:left\">has_dog<br />Boolean</th></tr></thead>\n",
       "<tbody>\n",
       "<tr><td><div style=\"text-align:left; max-width:192px; max-height:64px; overflow:auto\">Shandra</div></td><td><div style=\"text-align:left; max-width:192px; max-height:64px; overflow:auto\">Shamas</div></td><td><div style=\"text-align:left; max-width:192px; max-height:64px; overflow:auto\">57</div></td><td><div style=\"text-align:left; max-width:192px; max-height:64px; overflow:auto\">1967-01-02</div></td><td><div style=\"text-align:left; max-width:192px; max-height:64px; overflow:auto\">United Kingdom</div></td><td><div style=\"text-align:left; max-width:192px; max-height:64px; overflow:auto\">true</div></td></tr>\n",
       "<tr><td><div style=\"text-align:left; max-width:192px; max-height:64px; overflow:auto\">Zaya</div></td><td><div style=\"text-align:left; max-width:192px; max-height:64px; overflow:auto\">Zaphora</div></td><td><div style=\"text-align:left; max-width:192px; max-height:64px; overflow:auto\">40</div></td><td><div style=\"text-align:left; max-width:192px; max-height:64px; overflow:auto\">1984-04-07</div></td><td><div style=\"text-align:left; max-width:192px; max-height:64px; overflow:auto\">United Kingdom</div></td><td><div style=\"text-align:left; max-width:192px; max-height:64px; overflow:auto\">true</div></td></tr>\n",
       "<tr><td><div style=\"text-align:left; max-width:192px; max-height:64px; overflow:auto\">Wolfgang</div></td><td><div style=\"text-align:left; max-width:192px; max-height:64px; overflow:auto\">Winter</div></td><td><div style=\"text-align:left; max-width:192px; max-height:64px; overflow:auto\">23</div></td><td><div style=\"text-align:left; max-width:192px; max-height:64px; overflow:auto\">2001-02-12</div></td><td><div style=\"text-align:left; max-width:192px; max-height:64px; overflow:auto\">Germany</div></td><td><div style=\"text-align:left; max-width:192px; max-height:64px; overflow:auto\">None</div></td></tr>\n",
       "</tbody>\n",
       "</table>\n",
       "<small>(Showing first 3 of 5 rows)</small>\n",
       "</div>"
      ],
      "text/plain": [
       "╭────────────┬───────────┬───────┬────────────┬────────────────┬─────────╮\n",
       "│ first_name ┆ last_name ┆ age   ┆ DoB        ┆ country        ┆ has_dog │\n",
       "│ ---        ┆ ---       ┆ ---   ┆ ---        ┆ ---            ┆ ---     │\n",
       "│ Utf8       ┆ Utf8      ┆ Int64 ┆ Date       ┆ Utf8           ┆ Boolean │\n",
       "╞════════════╪═══════════╪═══════╪════════════╪════════════════╪═════════╡\n",
       "│ Shandra    ┆ Shamas    ┆ 57    ┆ 1967-01-02 ┆ United Kingdom ┆ true    │\n",
       "├╌╌╌╌╌╌╌╌╌╌╌╌┼╌╌╌╌╌╌╌╌╌╌╌┼╌╌╌╌╌╌╌┼╌╌╌╌╌╌╌╌╌╌╌╌┼╌╌╌╌╌╌╌╌╌╌╌╌╌╌╌╌┼╌╌╌╌╌╌╌╌╌┤\n",
       "│ Zaya       ┆ Zaphora   ┆ 40    ┆ 1984-04-07 ┆ United Kingdom ┆ true    │\n",
       "├╌╌╌╌╌╌╌╌╌╌╌╌┼╌╌╌╌╌╌╌╌╌╌╌┼╌╌╌╌╌╌╌┼╌╌╌╌╌╌╌╌╌╌╌╌┼╌╌╌╌╌╌╌╌╌╌╌╌╌╌╌╌┼╌╌╌╌╌╌╌╌╌┤\n",
       "│ Wolfgang   ┆ Winter    ┆ 23    ┆ 2001-02-12 ┆ Germany        ┆ None    │\n",
       "╰────────────┴───────────┴───────┴────────────┴────────────────┴─────────╯\n",
       "\n",
       "(Showing first 3 of 5 rows)"
      ]
     },
     "metadata": {},
     "output_type": "display_data"
    }
   ],
   "source": [
    "df.show(3)"
   ]
  },
  {
   "cell_type": "markdown",
   "metadata": {},
   "source": [
    "Use `.show` for quick visualisation in an interactive notebook."
   ]
  },
  {
   "cell_type": "markdown",
   "metadata": {},
   "source": [
    "## Basic DataFrame Operations\n",
    "\n",
    "Let's take a look at some of the most common DataFrame operations."
   ]
  },
  {
   "cell_type": "markdown",
   "metadata": {},
   "source": [
    "## Selecting Columns"
   ]
  },
  {
   "cell_type": "markdown",
   "metadata": {},
   "source": [
    "You can **select** specific columns from your DataFrame with the {meth}`df.select() <daft.DataFrame.select>`  method:"
   ]
  },
  {
   "cell_type": "code",
   "execution_count": 6,
   "metadata": {},
   "outputs": [
    {
     "data": {
      "text/html": [
       "<div>\n",
       "<table class=\"dataframe\">\n",
       "<thead><tr><th style=\"text-wrap: nowrap; max-width:192px; overflow:auto; text-align:left\">first_name<br />Utf8</th><th style=\"text-wrap: nowrap; max-width:192px; overflow:auto; text-align:left\">has_dog<br />Boolean</th></tr></thead>\n",
       "<tbody>\n",
       "<tr><td><div style=\"text-align:left; max-width:192px; max-height:64px; overflow:auto\">Shandra</div></td><td><div style=\"text-align:left; max-width:192px; max-height:64px; overflow:auto\">true</div></td></tr>\n",
       "<tr><td><div style=\"text-align:left; max-width:192px; max-height:64px; overflow:auto\">Zaya</div></td><td><div style=\"text-align:left; max-width:192px; max-height:64px; overflow:auto\">true</div></td></tr>\n",
       "<tr><td><div style=\"text-align:left; max-width:192px; max-height:64px; overflow:auto\">Wolfgang</div></td><td><div style=\"text-align:left; max-width:192px; max-height:64px; overflow:auto\">None</div></td></tr>\n",
       "<tr><td><div style=\"text-align:left; max-width:192px; max-height:64px; overflow:auto\">Ernesto</div></td><td><div style=\"text-align:left; max-width:192px; max-height:64px; overflow:auto\">true</div></td></tr>\n",
       "<tr><td><div style=\"text-align:left; max-width:192px; max-height:64px; overflow:auto\">James</div></td><td><div style=\"text-align:left; max-width:192px; max-height:64px; overflow:auto\">true</div></td></tr>\n",
       "</tbody>\n",
       "</table>\n",
       "<small>(Showing first 5 of 5 rows)</small>\n",
       "</div>"
      ],
      "text/plain": [
       "╭────────────┬─────────╮\n",
       "│ first_name ┆ has_dog │\n",
       "│ ---        ┆ ---     │\n",
       "│ Utf8       ┆ Boolean │\n",
       "╞════════════╪═════════╡\n",
       "│ Shandra    ┆ true    │\n",
       "├╌╌╌╌╌╌╌╌╌╌╌╌┼╌╌╌╌╌╌╌╌╌┤\n",
       "│ Zaya       ┆ true    │\n",
       "├╌╌╌╌╌╌╌╌╌╌╌╌┼╌╌╌╌╌╌╌╌╌┤\n",
       "│ Wolfgang   ┆ None    │\n",
       "├╌╌╌╌╌╌╌╌╌╌╌╌┼╌╌╌╌╌╌╌╌╌┤\n",
       "│ Ernesto    ┆ true    │\n",
       "├╌╌╌╌╌╌╌╌╌╌╌╌┼╌╌╌╌╌╌╌╌╌┤\n",
       "│ James      ┆ true    │\n",
       "╰────────────┴─────────╯\n",
       "\n",
       "(Showing first 5 of 5 rows)"
      ]
     },
     "metadata": {},
     "output_type": "display_data"
    }
   ],
   "source": [
    "df.select(\"first_name\", \"has_dog\").show()"
   ]
  },
  {
   "cell_type": "markdown",
   "metadata": {},
   "source": [
    "### Excluding Data\n",
    "\n",
    "You can **limit** the number of rows in a dataframe by calling {meth}`df.limit() <daft.DataFrame.limit>`. Use `limit` and not `show` when you want to return a limited number of rows for further transformation."
   ]
  },
  {
   "cell_type": "code",
   "execution_count": 7,
   "metadata": {},
   "outputs": [
    {
     "data": {
      "text/html": [
       "<div>\n",
       "<table class=\"dataframe\">\n",
       "<thead><tr><th style=\"text-wrap: nowrap; max-width:192px; overflow:auto; text-align:left\">first_name<br />Utf8</th><th style=\"text-wrap: nowrap; max-width:192px; overflow:auto; text-align:left\">last_name<br />Utf8</th><th style=\"text-wrap: nowrap; max-width:192px; overflow:auto; text-align:left\">age<br />Int64</th><th style=\"text-wrap: nowrap; max-width:192px; overflow:auto; text-align:left\">DoB<br />Date</th><th style=\"text-wrap: nowrap; max-width:192px; overflow:auto; text-align:left\">country<br />Utf8</th><th style=\"text-wrap: nowrap; max-width:192px; overflow:auto; text-align:left\">has_dog<br />Boolean</th></tr></thead>\n",
       "<tbody>\n",
       "<tr><td><div style=\"text-align:left; max-width:192px; max-height:64px; overflow:auto\">Shandra</div></td><td><div style=\"text-align:left; max-width:192px; max-height:64px; overflow:auto\">Shamas</div></td><td><div style=\"text-align:left; max-width:192px; max-height:64px; overflow:auto\">57</div></td><td><div style=\"text-align:left; max-width:192px; max-height:64px; overflow:auto\">1967-01-02</div></td><td><div style=\"text-align:left; max-width:192px; max-height:64px; overflow:auto\">United Kingdom</div></td><td><div style=\"text-align:left; max-width:192px; max-height:64px; overflow:auto\">true</div></td></tr>\n",
       "</tbody>\n",
       "</table>\n",
       "<small>(Showing first 1 of 1 rows)</small>\n",
       "</div>"
      ],
      "text/plain": [
       "╭────────────┬───────────┬───────┬────────────┬────────────────┬─────────╮\n",
       "│ first_name ┆ last_name ┆ age   ┆ DoB        ┆ country        ┆ has_dog │\n",
       "│ ---        ┆ ---       ┆ ---   ┆ ---        ┆ ---            ┆ ---     │\n",
       "│ Utf8       ┆ Utf8      ┆ Int64 ┆ Date       ┆ Utf8           ┆ Boolean │\n",
       "╞════════════╪═══════════╪═══════╪════════════╪════════════════╪═════════╡\n",
       "│ Shandra    ┆ Shamas    ┆ 57    ┆ 1967-01-02 ┆ United Kingdom ┆ true    │\n",
       "╰────────────┴───────────┴───────┴────────────┴────────────────┴─────────╯\n",
       "\n",
       "(Showing first 1 of 1 rows)"
      ]
     },
     "metadata": {},
     "output_type": "display_data"
    }
   ],
   "source": [
    "df.limit(1).show()"
   ]
  },
  {
   "cell_type": "markdown",
   "metadata": {},
   "source": [
    "To **drop** columns from the dataframe, call {meth}`df.exclude() <daft.DataFrame.exclude>`:"
   ]
  },
  {
   "cell_type": "code",
   "execution_count": 8,
   "metadata": {},
   "outputs": [
    {
     "data": {
      "text/html": [
       "<div>\n",
       "<table class=\"dataframe\">\n",
       "<thead><tr><th style=\"text-wrap: nowrap; max-width:192px; overflow:auto; text-align:left\">first_name<br />Utf8</th><th style=\"text-wrap: nowrap; max-width:192px; overflow:auto; text-align:left\">last_name<br />Utf8</th><th style=\"text-wrap: nowrap; max-width:192px; overflow:auto; text-align:left\">age<br />Int64</th><th style=\"text-wrap: nowrap; max-width:192px; overflow:auto; text-align:left\">country<br />Utf8</th><th style=\"text-wrap: nowrap; max-width:192px; overflow:auto; text-align:left\">has_dog<br />Boolean</th></tr></thead>\n",
       "<tbody>\n",
       "<tr><td><div style=\"text-align:left; max-width:192px; max-height:64px; overflow:auto\">Shandra</div></td><td><div style=\"text-align:left; max-width:192px; max-height:64px; overflow:auto\">Shamas</div></td><td><div style=\"text-align:left; max-width:192px; max-height:64px; overflow:auto\">57</div></td><td><div style=\"text-align:left; max-width:192px; max-height:64px; overflow:auto\">United Kingdom</div></td><td><div style=\"text-align:left; max-width:192px; max-height:64px; overflow:auto\">true</div></td></tr>\n",
       "<tr><td><div style=\"text-align:left; max-width:192px; max-height:64px; overflow:auto\">Zaya</div></td><td><div style=\"text-align:left; max-width:192px; max-height:64px; overflow:auto\">Zaphora</div></td><td><div style=\"text-align:left; max-width:192px; max-height:64px; overflow:auto\">40</div></td><td><div style=\"text-align:left; max-width:192px; max-height:64px; overflow:auto\">United Kingdom</div></td><td><div style=\"text-align:left; max-width:192px; max-height:64px; overflow:auto\">true</div></td></tr>\n",
       "<tr><td><div style=\"text-align:left; max-width:192px; max-height:64px; overflow:auto\">Wolfgang</div></td><td><div style=\"text-align:left; max-width:192px; max-height:64px; overflow:auto\">Winter</div></td><td><div style=\"text-align:left; max-width:192px; max-height:64px; overflow:auto\">23</div></td><td><div style=\"text-align:left; max-width:192px; max-height:64px; overflow:auto\">Germany</div></td><td><div style=\"text-align:left; max-width:192px; max-height:64px; overflow:auto\">None</div></td></tr>\n",
       "<tr><td><div style=\"text-align:left; max-width:192px; max-height:64px; overflow:auto\">Ernesto</div></td><td><div style=\"text-align:left; max-width:192px; max-height:64px; overflow:auto\">Evergreen</div></td><td><div style=\"text-align:left; max-width:192px; max-height:64px; overflow:auto\">34</div></td><td><div style=\"text-align:left; max-width:192px; max-height:64px; overflow:auto\">Canada</div></td><td><div style=\"text-align:left; max-width:192px; max-height:64px; overflow:auto\">true</div></td></tr>\n",
       "<tr><td><div style=\"text-align:left; max-width:192px; max-height:64px; overflow:auto\">James</div></td><td><div style=\"text-align:left; max-width:192px; max-height:64px; overflow:auto\">Jale</div></td><td><div style=\"text-align:left; max-width:192px; max-height:64px; overflow:auto\">62</div></td><td><div style=\"text-align:left; max-width:192px; max-height:64px; overflow:auto\">Canada</div></td><td><div style=\"text-align:left; max-width:192px; max-height:64px; overflow:auto\">true</div></td></tr>\n",
       "</tbody>\n",
       "</table>\n",
       "<small>(Showing first 5 of 5 rows)</small>\n",
       "</div>"
      ],
      "text/plain": [
       "╭────────────┬───────────┬───────┬────────────────┬─────────╮\n",
       "│ first_name ┆ last_name ┆ age   ┆ country        ┆ has_dog │\n",
       "│ ---        ┆ ---       ┆ ---   ┆ ---            ┆ ---     │\n",
       "│ Utf8       ┆ Utf8      ┆ Int64 ┆ Utf8           ┆ Boolean │\n",
       "╞════════════╪═══════════╪═══════╪════════════════╪═════════╡\n",
       "│ Shandra    ┆ Shamas    ┆ 57    ┆ United Kingdom ┆ true    │\n",
       "├╌╌╌╌╌╌╌╌╌╌╌╌┼╌╌╌╌╌╌╌╌╌╌╌┼╌╌╌╌╌╌╌┼╌╌╌╌╌╌╌╌╌╌╌╌╌╌╌╌┼╌╌╌╌╌╌╌╌╌┤\n",
       "│ Zaya       ┆ Zaphora   ┆ 40    ┆ United Kingdom ┆ true    │\n",
       "├╌╌╌╌╌╌╌╌╌╌╌╌┼╌╌╌╌╌╌╌╌╌╌╌┼╌╌╌╌╌╌╌┼╌╌╌╌╌╌╌╌╌╌╌╌╌╌╌╌┼╌╌╌╌╌╌╌╌╌┤\n",
       "│ Wolfgang   ┆ Winter    ┆ 23    ┆ Germany        ┆ None    │\n",
       "├╌╌╌╌╌╌╌╌╌╌╌╌┼╌╌╌╌╌╌╌╌╌╌╌┼╌╌╌╌╌╌╌┼╌╌╌╌╌╌╌╌╌╌╌╌╌╌╌╌┼╌╌╌╌╌╌╌╌╌┤\n",
       "│ Ernesto    ┆ Evergreen ┆ 34    ┆ Canada         ┆ true    │\n",
       "├╌╌╌╌╌╌╌╌╌╌╌╌┼╌╌╌╌╌╌╌╌╌╌╌┼╌╌╌╌╌╌╌┼╌╌╌╌╌╌╌╌╌╌╌╌╌╌╌╌┼╌╌╌╌╌╌╌╌╌┤\n",
       "│ James      ┆ Jale      ┆ 62    ┆ Canada         ┆ true    │\n",
       "╰────────────┴───────────┴───────┴────────────────┴─────────╯\n",
       "\n",
       "(Showing first 5 of 5 rows)"
      ]
     },
     "metadata": {},
     "output_type": "display_data"
    }
   ],
   "source": [
    "df.exclude(\"DoB\").show()"
   ]
  },
  {
   "cell_type": "markdown",
   "metadata": {},
   "source": [
    "### Transforming Columns with Expressions"
   ]
  },
  {
   "cell_type": "markdown",
   "metadata": {},
   "source": [
    "See: [Expressions](user_guide/expressions.rst)\n",
    "\n",
    "Expressions are an API for defining computation that needs to happen over your columns.\n",
    "\n",
    "For example, use the {meth}`daft.col() <daft.col>` expression together with the `with_column` method to create a new column `full_name`, joining the contents of the `last_name` column to the `first_name` column:"
   ]
  },
  {
   "cell_type": "code",
   "execution_count": 9,
   "metadata": {
    "scrolled": true
   },
   "outputs": [
    {
     "data": {
      "text/html": [
       "<div>\n",
       "<table class=\"dataframe\">\n",
       "<thead><tr><th style=\"text-wrap: nowrap; max-width:192px; overflow:auto; text-align:left\">full_name<br />Utf8</th><th style=\"text-wrap: nowrap; max-width:192px; overflow:auto; text-align:left\">age<br />Int64</th><th style=\"text-wrap: nowrap; max-width:192px; overflow:auto; text-align:left\">country<br />Utf8</th><th style=\"text-wrap: nowrap; max-width:192px; overflow:auto; text-align:left\">has_dog<br />Boolean</th></tr></thead>\n",
       "<tbody>\n",
       "<tr><td><div style=\"text-align:left; max-width:192px; max-height:64px; overflow:auto\">Shandra Shamas</div></td><td><div style=\"text-align:left; max-width:192px; max-height:64px; overflow:auto\">57</div></td><td><div style=\"text-align:left; max-width:192px; max-height:64px; overflow:auto\">United Kingdom</div></td><td><div style=\"text-align:left; max-width:192px; max-height:64px; overflow:auto\">true</div></td></tr>\n",
       "<tr><td><div style=\"text-align:left; max-width:192px; max-height:64px; overflow:auto\">Zaya Zaphora</div></td><td><div style=\"text-align:left; max-width:192px; max-height:64px; overflow:auto\">40</div></td><td><div style=\"text-align:left; max-width:192px; max-height:64px; overflow:auto\">United Kingdom</div></td><td><div style=\"text-align:left; max-width:192px; max-height:64px; overflow:auto\">true</div></td></tr>\n",
       "<tr><td><div style=\"text-align:left; max-width:192px; max-height:64px; overflow:auto\">Wolfgang Winter</div></td><td><div style=\"text-align:left; max-width:192px; max-height:64px; overflow:auto\">23</div></td><td><div style=\"text-align:left; max-width:192px; max-height:64px; overflow:auto\">Germany</div></td><td><div style=\"text-align:left; max-width:192px; max-height:64px; overflow:auto\">None</div></td></tr>\n",
       "<tr><td><div style=\"text-align:left; max-width:192px; max-height:64px; overflow:auto\">Ernesto Evergreen</div></td><td><div style=\"text-align:left; max-width:192px; max-height:64px; overflow:auto\">34</div></td><td><div style=\"text-align:left; max-width:192px; max-height:64px; overflow:auto\">Canada</div></td><td><div style=\"text-align:left; max-width:192px; max-height:64px; overflow:auto\">true</div></td></tr>\n",
       "<tr><td><div style=\"text-align:left; max-width:192px; max-height:64px; overflow:auto\">James Jale</div></td><td><div style=\"text-align:left; max-width:192px; max-height:64px; overflow:auto\">62</div></td><td><div style=\"text-align:left; max-width:192px; max-height:64px; overflow:auto\">Canada</div></td><td><div style=\"text-align:left; max-width:192px; max-height:64px; overflow:auto\">true</div></td></tr>\n",
       "</tbody>\n",
       "</table>\n",
       "<small>(Showing first 5 of 5 rows)</small>\n",
       "</div>"
      ],
      "text/plain": [
       "╭───────────────────┬───────┬────────────────┬─────────╮\n",
       "│ full_name         ┆ age   ┆ country        ┆ has_dog │\n",
       "│ ---               ┆ ---   ┆ ---            ┆ ---     │\n",
       "│ Utf8              ┆ Int64 ┆ Utf8           ┆ Boolean │\n",
       "╞═══════════════════╪═══════╪════════════════╪═════════╡\n",
       "│ Shandra Shamas    ┆ 57    ┆ United Kingdom ┆ true    │\n",
       "├╌╌╌╌╌╌╌╌╌╌╌╌╌╌╌╌╌╌╌┼╌╌╌╌╌╌╌┼╌╌╌╌╌╌╌╌╌╌╌╌╌╌╌╌┼╌╌╌╌╌╌╌╌╌┤\n",
       "│ Zaya Zaphora      ┆ 40    ┆ United Kingdom ┆ true    │\n",
       "├╌╌╌╌╌╌╌╌╌╌╌╌╌╌╌╌╌╌╌┼╌╌╌╌╌╌╌┼╌╌╌╌╌╌╌╌╌╌╌╌╌╌╌╌┼╌╌╌╌╌╌╌╌╌┤\n",
       "│ Wolfgang Winter   ┆ 23    ┆ Germany        ┆ None    │\n",
       "├╌╌╌╌╌╌╌╌╌╌╌╌╌╌╌╌╌╌╌┼╌╌╌╌╌╌╌┼╌╌╌╌╌╌╌╌╌╌╌╌╌╌╌╌┼╌╌╌╌╌╌╌╌╌┤\n",
       "│ Ernesto Evergreen ┆ 34    ┆ Canada         ┆ true    │\n",
       "├╌╌╌╌╌╌╌╌╌╌╌╌╌╌╌╌╌╌╌┼╌╌╌╌╌╌╌┼╌╌╌╌╌╌╌╌╌╌╌╌╌╌╌╌┼╌╌╌╌╌╌╌╌╌┤\n",
       "│ James Jale        ┆ 62    ┆ Canada         ┆ true    │\n",
       "╰───────────────────┴───────┴────────────────┴─────────╯\n",
       "\n",
       "(Showing first 5 of 5 rows)"
      ]
     },
     "metadata": {},
     "output_type": "display_data"
    }
   ],
   "source": [
    "df = df.with_column(\"full_name\", daft.col(\"first_name\") + \" \" + daft.col(\"last_name\"))\n",
    "df.select(\"full_name\", \"age\", \"country\", \"has_dog\").show()"
   ]
  },
  {
   "cell_type": "markdown",
   "metadata": {},
   "source": [
    "Alternatively, you can also run your column transforms using Expressions directly inside your `select` call:"
   ]
  },
  {
   "cell_type": "code",
   "execution_count": 17,
   "metadata": {},
   "outputs": [
    {
     "data": {
      "text/html": [
       "<div>\n",
       "<table class=\"dataframe\">\n",
       "<thead><tr><th style=\"text-wrap: nowrap; max-width:192px; overflow:auto; text-align:left\">first_name<br />Utf8</th><th style=\"text-wrap: nowrap; max-width:192px; overflow:auto; text-align:left\">age<br />Int64</th><th style=\"text-wrap: nowrap; max-width:192px; overflow:auto; text-align:left\">country<br />Utf8</th></tr></thead>\n",
       "<tbody>\n",
       "<tr><td><div style=\"text-align:left; max-width:192px; max-height:64px; overflow:auto\">Shandra Shamas</div></td><td><div style=\"text-align:left; max-width:192px; max-height:64px; overflow:auto\">57</div></td><td><div style=\"text-align:left; max-width:192px; max-height:64px; overflow:auto\">United Kingdom</div></td></tr>\n",
       "<tr><td><div style=\"text-align:left; max-width:192px; max-height:64px; overflow:auto\">Zaya Zaphora</div></td><td><div style=\"text-align:left; max-width:192px; max-height:64px; overflow:auto\">40</div></td><td><div style=\"text-align:left; max-width:192px; max-height:64px; overflow:auto\">United Kingdom</div></td></tr>\n",
       "<tr><td><div style=\"text-align:left; max-width:192px; max-height:64px; overflow:auto\">Wolfgang Winter</div></td><td><div style=\"text-align:left; max-width:192px; max-height:64px; overflow:auto\">23</div></td><td><div style=\"text-align:left; max-width:192px; max-height:64px; overflow:auto\">Germany</div></td></tr>\n",
       "<tr><td><div style=\"text-align:left; max-width:192px; max-height:64px; overflow:auto\">Ernesto Evergreen</div></td><td><div style=\"text-align:left; max-width:192px; max-height:64px; overflow:auto\">34</div></td><td><div style=\"text-align:left; max-width:192px; max-height:64px; overflow:auto\">Canada</div></td></tr>\n",
       "<tr><td><div style=\"text-align:left; max-width:192px; max-height:64px; overflow:auto\">James Jale</div></td><td><div style=\"text-align:left; max-width:192px; max-height:64px; overflow:auto\">62</div></td><td><div style=\"text-align:left; max-width:192px; max-height:64px; overflow:auto\">Canada</div></td></tr>\n",
       "</tbody>\n",
       "</table>\n",
       "<small>(Showing first 5 of 5 rows)</small>\n",
       "</div>"
      ],
      "text/plain": [
       "╭───────────────────┬───────┬────────────────╮\n",
       "│ first_name        ┆ age   ┆ country        │\n",
       "│ ---               ┆ ---   ┆ ---            │\n",
       "│ Utf8              ┆ Int64 ┆ Utf8           │\n",
       "╞═══════════════════╪═══════╪════════════════╡\n",
       "│ Shandra Shamas    ┆ 57    ┆ United Kingdom │\n",
       "├╌╌╌╌╌╌╌╌╌╌╌╌╌╌╌╌╌╌╌┼╌╌╌╌╌╌╌┼╌╌╌╌╌╌╌╌╌╌╌╌╌╌╌╌┤\n",
       "│ Zaya Zaphora      ┆ 40    ┆ United Kingdom │\n",
       "├╌╌╌╌╌╌╌╌╌╌╌╌╌╌╌╌╌╌╌┼╌╌╌╌╌╌╌┼╌╌╌╌╌╌╌╌╌╌╌╌╌╌╌╌┤\n",
       "│ Wolfgang Winter   ┆ 23    ┆ Germany        │\n",
       "├╌╌╌╌╌╌╌╌╌╌╌╌╌╌╌╌╌╌╌┼╌╌╌╌╌╌╌┼╌╌╌╌╌╌╌╌╌╌╌╌╌╌╌╌┤\n",
       "│ Ernesto Evergreen ┆ 34    ┆ Canada         │\n",
       "├╌╌╌╌╌╌╌╌╌╌╌╌╌╌╌╌╌╌╌┼╌╌╌╌╌╌╌┼╌╌╌╌╌╌╌╌╌╌╌╌╌╌╌╌┤\n",
       "│ James Jale        ┆ 62    ┆ Canada         │\n",
       "╰───────────────────┴───────┴────────────────╯\n",
       "\n",
       "(Showing first 5 of 5 rows)"
      ]
     },
     "metadata": {},
     "output_type": "display_data"
    }
   ],
   "source": [
    "df.select((daft.col(\"first_name\") + \" \" + daft.col(\"last_name\")), \"age\", \"country\").show()"
   ]
  },
  {
   "cell_type": "markdown",
   "metadata": {},
   "source": [
    "Some Expression methods are only allowed on certain types and are accessible through \"method accessors\" (see: [Expression Accessor Properties](expression-accessor-properties)).\n",
    "\n",
    "For example, the `.dt.year()` expression is only valid when run on a `datetime` column.\n",
    "\n",
    "Below we use an Expression to extract the year from a `datetime` column:"
   ]
  },
  {
   "cell_type": "code",
   "execution_count": 10,
   "metadata": {
    "scrolled": true
   },
   "outputs": [
    {
     "data": {
      "text/html": [
       "<div>\n",
       "<table class=\"dataframe\">\n",
       "<thead><tr><th style=\"text-wrap: nowrap; max-width:192px; overflow:auto; text-align:left\">first_name<br />Utf8</th><th style=\"text-wrap: nowrap; max-width:192px; overflow:auto; text-align:left\">last_name<br />Utf8</th><th style=\"text-wrap: nowrap; max-width:192px; overflow:auto; text-align:left\">age<br />Int64</th><th style=\"text-wrap: nowrap; max-width:192px; overflow:auto; text-align:left\">DoB<br />Date</th><th style=\"text-wrap: nowrap; max-width:192px; overflow:auto; text-align:left\">country<br />Utf8</th><th style=\"text-wrap: nowrap; max-width:192px; overflow:auto; text-align:left\">has_dog<br />Boolean</th><th style=\"text-wrap: nowrap; max-width:192px; overflow:auto; text-align:left\">full_name<br />Utf8</th><th style=\"text-wrap: nowrap; max-width:192px; overflow:auto; text-align:left\">DoB_year<br />Int32</th></tr></thead>\n",
       "<tbody>\n",
       "<tr><td><div style=\"text-align:left; max-width:192px; max-height:64px; overflow:auto\">Shandra</div></td><td><div style=\"text-align:left; max-width:192px; max-height:64px; overflow:auto\">Shamas</div></td><td><div style=\"text-align:left; max-width:192px; max-height:64px; overflow:auto\">57</div></td><td><div style=\"text-align:left; max-width:192px; max-height:64px; overflow:auto\">1967-01-02</div></td><td><div style=\"text-align:left; max-width:192px; max-height:64px; overflow:auto\">United Kingdom</div></td><td><div style=\"text-align:left; max-width:192px; max-height:64px; overflow:auto\">true</div></td><td><div style=\"text-align:left; max-width:192px; max-height:64px; overflow:auto\">Shandra Shamas</div></td><td><div style=\"text-align:left; max-width:192px; max-height:64px; overflow:auto\">1967</div></td></tr>\n",
       "<tr><td><div style=\"text-align:left; max-width:192px; max-height:64px; overflow:auto\">Zaya</div></td><td><div style=\"text-align:left; max-width:192px; max-height:64px; overflow:auto\">Zaphora</div></td><td><div style=\"text-align:left; max-width:192px; max-height:64px; overflow:auto\">40</div></td><td><div style=\"text-align:left; max-width:192px; max-height:64px; overflow:auto\">1984-04-07</div></td><td><div style=\"text-align:left; max-width:192px; max-height:64px; overflow:auto\">United Kingdom</div></td><td><div style=\"text-align:left; max-width:192px; max-height:64px; overflow:auto\">true</div></td><td><div style=\"text-align:left; max-width:192px; max-height:64px; overflow:auto\">Zaya Zaphora</div></td><td><div style=\"text-align:left; max-width:192px; max-height:64px; overflow:auto\">1984</div></td></tr>\n",
       "<tr><td><div style=\"text-align:left; max-width:192px; max-height:64px; overflow:auto\">Wolfgang</div></td><td><div style=\"text-align:left; max-width:192px; max-height:64px; overflow:auto\">Winter</div></td><td><div style=\"text-align:left; max-width:192px; max-height:64px; overflow:auto\">23</div></td><td><div style=\"text-align:left; max-width:192px; max-height:64px; overflow:auto\">2001-02-12</div></td><td><div style=\"text-align:left; max-width:192px; max-height:64px; overflow:auto\">Germany</div></td><td><div style=\"text-align:left; max-width:192px; max-height:64px; overflow:auto\">None</div></td><td><div style=\"text-align:left; max-width:192px; max-height:64px; overflow:auto\">Wolfgang Winter</div></td><td><div style=\"text-align:left; max-width:192px; max-height:64px; overflow:auto\">2001</div></td></tr>\n",
       "<tr><td><div style=\"text-align:left; max-width:192px; max-height:64px; overflow:auto\">Ernesto</div></td><td><div style=\"text-align:left; max-width:192px; max-height:64px; overflow:auto\">Evergreen</div></td><td><div style=\"text-align:left; max-width:192px; max-height:64px; overflow:auto\">34</div></td><td><div style=\"text-align:left; max-width:192px; max-height:64px; overflow:auto\">1990-04-03</div></td><td><div style=\"text-align:left; max-width:192px; max-height:64px; overflow:auto\">Canada</div></td><td><div style=\"text-align:left; max-width:192px; max-height:64px; overflow:auto\">true</div></td><td><div style=\"text-align:left; max-width:192px; max-height:64px; overflow:auto\">Ernesto Evergreen</div></td><td><div style=\"text-align:left; max-width:192px; max-height:64px; overflow:auto\">1990</div></td></tr>\n",
       "<tr><td><div style=\"text-align:left; max-width:192px; max-height:64px; overflow:auto\">James</div></td><td><div style=\"text-align:left; max-width:192px; max-height:64px; overflow:auto\">Jale</div></td><td><div style=\"text-align:left; max-width:192px; max-height:64px; overflow:auto\">62</div></td><td><div style=\"text-align:left; max-width:192px; max-height:64px; overflow:auto\">1962-03-24</div></td><td><div style=\"text-align:left; max-width:192px; max-height:64px; overflow:auto\">Canada</div></td><td><div style=\"text-align:left; max-width:192px; max-height:64px; overflow:auto\">true</div></td><td><div style=\"text-align:left; max-width:192px; max-height:64px; overflow:auto\">James Jale</div></td><td><div style=\"text-align:left; max-width:192px; max-height:64px; overflow:auto\">1962</div></td></tr>\n",
       "</tbody>\n",
       "</table>\n",
       "<small>(Showing first 5 of 5 rows)</small>\n",
       "</div>"
      ],
      "text/plain": [
       "╭────────────┬───────────┬───────┬────────────┬─────────┬───────────────────┬──────────╮\n",
       "│ first_name ┆ last_name ┆ age   ┆      …     ┆ has_dog ┆ full_name         ┆ DoB_year │\n",
       "│ ---        ┆ ---       ┆ ---   ┆            ┆ ---     ┆ ---               ┆ ---      │\n",
       "│ Utf8       ┆ Utf8      ┆ Int64 ┆ (2 hidden) ┆ Boolean ┆ Utf8              ┆ Int32    │\n",
       "╞════════════╪═══════════╪═══════╪════════════╪═════════╪═══════════════════╪══════════╡\n",
       "│ Shandra    ┆ Shamas    ┆ 57    ┆ …          ┆ true    ┆ Shandra Shamas    ┆ 1967     │\n",
       "├╌╌╌╌╌╌╌╌╌╌╌╌┼╌╌╌╌╌╌╌╌╌╌╌┼╌╌╌╌╌╌╌┼╌╌╌╌╌╌╌╌╌╌╌╌┼╌╌╌╌╌╌╌╌╌┼╌╌╌╌╌╌╌╌╌╌╌╌╌╌╌╌╌╌╌┼╌╌╌╌╌╌╌╌╌╌┤\n",
       "│ Zaya       ┆ Zaphora   ┆ 40    ┆ …          ┆ true    ┆ Zaya Zaphora      ┆ 1984     │\n",
       "├╌╌╌╌╌╌╌╌╌╌╌╌┼╌╌╌╌╌╌╌╌╌╌╌┼╌╌╌╌╌╌╌┼╌╌╌╌╌╌╌╌╌╌╌╌┼╌╌╌╌╌╌╌╌╌┼╌╌╌╌╌╌╌╌╌╌╌╌╌╌╌╌╌╌╌┼╌╌╌╌╌╌╌╌╌╌┤\n",
       "│ Wolfgang   ┆ Winter    ┆ 23    ┆ …          ┆ None    ┆ Wolfgang Winter   ┆ 2001     │\n",
       "├╌╌╌╌╌╌╌╌╌╌╌╌┼╌╌╌╌╌╌╌╌╌╌╌┼╌╌╌╌╌╌╌┼╌╌╌╌╌╌╌╌╌╌╌╌┼╌╌╌╌╌╌╌╌╌┼╌╌╌╌╌╌╌╌╌╌╌╌╌╌╌╌╌╌╌┼╌╌╌╌╌╌╌╌╌╌┤\n",
       "│ Ernesto    ┆ Evergreen ┆ 34    ┆ …          ┆ true    ┆ Ernesto Evergreen ┆ 1990     │\n",
       "├╌╌╌╌╌╌╌╌╌╌╌╌┼╌╌╌╌╌╌╌╌╌╌╌┼╌╌╌╌╌╌╌┼╌╌╌╌╌╌╌╌╌╌╌╌┼╌╌╌╌╌╌╌╌╌┼╌╌╌╌╌╌╌╌╌╌╌╌╌╌╌╌╌╌╌┼╌╌╌╌╌╌╌╌╌╌┤\n",
       "│ James      ┆ Jale      ┆ 62    ┆ …          ┆ true    ┆ James Jale        ┆ 1962     │\n",
       "╰────────────┴───────────┴───────┴────────────┴─────────┴───────────────────┴──────────╯\n",
       "\n",
       "(Showing first 5 of 5 rows)"
      ]
     },
     "metadata": {},
     "output_type": "display_data"
    }
   ],
   "source": [
    "df_year = df.with_column(\"DoB_year\", df[\"DoB\"].dt.year())\n",
    "df_year.show()"
   ]
  },
  {
   "cell_type": "markdown",
   "metadata": {},
   "source": [
    "## Other DataFrame Operations"
   ]
  },
  {
   "cell_type": "markdown",
   "metadata": {},
   "source": [
    "### Sorting Data\n",
    "\n",
    "You can **sort** a dataframe with {meth}`df.sort() <daft.DataFrame.sort>`, which we do so here in ascending order:"
   ]
  },
  {
   "cell_type": "code",
   "execution_count": 11,
   "metadata": {},
   "outputs": [
    {
     "data": {
      "text/html": [
       "<div>\n",
       "<table class=\"dataframe\">\n",
       "<thead><tr><th style=\"text-wrap: nowrap; max-width:192px; overflow:auto; text-align:left\">first_name<br />Utf8</th><th style=\"text-wrap: nowrap; max-width:192px; overflow:auto; text-align:left\">last_name<br />Utf8</th><th style=\"text-wrap: nowrap; max-width:192px; overflow:auto; text-align:left\">age<br />Int64</th><th style=\"text-wrap: nowrap; max-width:192px; overflow:auto; text-align:left\">DoB<br />Date</th><th style=\"text-wrap: nowrap; max-width:192px; overflow:auto; text-align:left\">country<br />Utf8</th><th style=\"text-wrap: nowrap; max-width:192px; overflow:auto; text-align:left\">has_dog<br />Boolean</th><th style=\"text-wrap: nowrap; max-width:192px; overflow:auto; text-align:left\">full_name<br />Utf8</th></tr></thead>\n",
       "<tbody>\n",
       "<tr><td><div style=\"text-align:left; max-width:192px; max-height:64px; overflow:auto\">Wolfgang</div></td><td><div style=\"text-align:left; max-width:192px; max-height:64px; overflow:auto\">Winter</div></td><td><div style=\"text-align:left; max-width:192px; max-height:64px; overflow:auto\">23</div></td><td><div style=\"text-align:left; max-width:192px; max-height:64px; overflow:auto\">2001-02-12</div></td><td><div style=\"text-align:left; max-width:192px; max-height:64px; overflow:auto\">Germany</div></td><td><div style=\"text-align:left; max-width:192px; max-height:64px; overflow:auto\">None</div></td><td><div style=\"text-align:left; max-width:192px; max-height:64px; overflow:auto\">Wolfgang Winter</div></td></tr>\n",
       "<tr><td><div style=\"text-align:left; max-width:192px; max-height:64px; overflow:auto\">Ernesto</div></td><td><div style=\"text-align:left; max-width:192px; max-height:64px; overflow:auto\">Evergreen</div></td><td><div style=\"text-align:left; max-width:192px; max-height:64px; overflow:auto\">34</div></td><td><div style=\"text-align:left; max-width:192px; max-height:64px; overflow:auto\">1990-04-03</div></td><td><div style=\"text-align:left; max-width:192px; max-height:64px; overflow:auto\">Canada</div></td><td><div style=\"text-align:left; max-width:192px; max-height:64px; overflow:auto\">true</div></td><td><div style=\"text-align:left; max-width:192px; max-height:64px; overflow:auto\">Ernesto Evergreen</div></td></tr>\n",
       "<tr><td><div style=\"text-align:left; max-width:192px; max-height:64px; overflow:auto\">Zaya</div></td><td><div style=\"text-align:left; max-width:192px; max-height:64px; overflow:auto\">Zaphora</div></td><td><div style=\"text-align:left; max-width:192px; max-height:64px; overflow:auto\">40</div></td><td><div style=\"text-align:left; max-width:192px; max-height:64px; overflow:auto\">1984-04-07</div></td><td><div style=\"text-align:left; max-width:192px; max-height:64px; overflow:auto\">United Kingdom</div></td><td><div style=\"text-align:left; max-width:192px; max-height:64px; overflow:auto\">true</div></td><td><div style=\"text-align:left; max-width:192px; max-height:64px; overflow:auto\">Zaya Zaphora</div></td></tr>\n",
       "<tr><td><div style=\"text-align:left; max-width:192px; max-height:64px; overflow:auto\">Shandra</div></td><td><div style=\"text-align:left; max-width:192px; max-height:64px; overflow:auto\">Shamas</div></td><td><div style=\"text-align:left; max-width:192px; max-height:64px; overflow:auto\">57</div></td><td><div style=\"text-align:left; max-width:192px; max-height:64px; overflow:auto\">1967-01-02</div></td><td><div style=\"text-align:left; max-width:192px; max-height:64px; overflow:auto\">United Kingdom</div></td><td><div style=\"text-align:left; max-width:192px; max-height:64px; overflow:auto\">true</div></td><td><div style=\"text-align:left; max-width:192px; max-height:64px; overflow:auto\">Shandra Shamas</div></td></tr>\n",
       "<tr><td><div style=\"text-align:left; max-width:192px; max-height:64px; overflow:auto\">James</div></td><td><div style=\"text-align:left; max-width:192px; max-height:64px; overflow:auto\">Jale</div></td><td><div style=\"text-align:left; max-width:192px; max-height:64px; overflow:auto\">62</div></td><td><div style=\"text-align:left; max-width:192px; max-height:64px; overflow:auto\">1962-03-24</div></td><td><div style=\"text-align:left; max-width:192px; max-height:64px; overflow:auto\">Canada</div></td><td><div style=\"text-align:left; max-width:192px; max-height:64px; overflow:auto\">true</div></td><td><div style=\"text-align:left; max-width:192px; max-height:64px; overflow:auto\">James Jale</div></td></tr>\n",
       "</tbody>\n",
       "</table>\n",
       "<small>(Showing first 5 of 5 rows)</small>\n",
       "</div>"
      ],
      "text/plain": [
       "╭────────────┬───────────┬───────┬────────────┬────────────────┬─────────┬───────────────────╮\n",
       "│ first_name ┆ last_name ┆ age   ┆      …     ┆ country        ┆ has_dog ┆ full_name         │\n",
       "│ ---        ┆ ---       ┆ ---   ┆            ┆ ---            ┆ ---     ┆ ---               │\n",
       "│ Utf8       ┆ Utf8      ┆ Int64 ┆ (1 hidden) ┆ Utf8           ┆ Boolean ┆ Utf8              │\n",
       "╞════════════╪═══════════╪═══════╪════════════╪════════════════╪═════════╪═══════════════════╡\n",
       "│ Wolfgang   ┆ Winter    ┆ 23    ┆ …          ┆ Germany        ┆ None    ┆ Wolfgang Winter   │\n",
       "├╌╌╌╌╌╌╌╌╌╌╌╌┼╌╌╌╌╌╌╌╌╌╌╌┼╌╌╌╌╌╌╌┼╌╌╌╌╌╌╌╌╌╌╌╌┼╌╌╌╌╌╌╌╌╌╌╌╌╌╌╌╌┼╌╌╌╌╌╌╌╌╌┼╌╌╌╌╌╌╌╌╌╌╌╌╌╌╌╌╌╌╌┤\n",
       "│ Ernesto    ┆ Evergreen ┆ 34    ┆ …          ┆ Canada         ┆ true    ┆ Ernesto Evergreen │\n",
       "├╌╌╌╌╌╌╌╌╌╌╌╌┼╌╌╌╌╌╌╌╌╌╌╌┼╌╌╌╌╌╌╌┼╌╌╌╌╌╌╌╌╌╌╌╌┼╌╌╌╌╌╌╌╌╌╌╌╌╌╌╌╌┼╌╌╌╌╌╌╌╌╌┼╌╌╌╌╌╌╌╌╌╌╌╌╌╌╌╌╌╌╌┤\n",
       "│ Zaya       ┆ Zaphora   ┆ 40    ┆ …          ┆ United Kingdom ┆ true    ┆ Zaya Zaphora      │\n",
       "├╌╌╌╌╌╌╌╌╌╌╌╌┼╌╌╌╌╌╌╌╌╌╌╌┼╌╌╌╌╌╌╌┼╌╌╌╌╌╌╌╌╌╌╌╌┼╌╌╌╌╌╌╌╌╌╌╌╌╌╌╌╌┼╌╌╌╌╌╌╌╌╌┼╌╌╌╌╌╌╌╌╌╌╌╌╌╌╌╌╌╌╌┤\n",
       "│ Shandra    ┆ Shamas    ┆ 57    ┆ …          ┆ United Kingdom ┆ true    ┆ Shandra Shamas    │\n",
       "├╌╌╌╌╌╌╌╌╌╌╌╌┼╌╌╌╌╌╌╌╌╌╌╌┼╌╌╌╌╌╌╌┼╌╌╌╌╌╌╌╌╌╌╌╌┼╌╌╌╌╌╌╌╌╌╌╌╌╌╌╌╌┼╌╌╌╌╌╌╌╌╌┼╌╌╌╌╌╌╌╌╌╌╌╌╌╌╌╌╌╌╌┤\n",
       "│ James      ┆ Jale      ┆ 62    ┆ …          ┆ Canada         ┆ true    ┆ James Jale        │\n",
       "╰────────────┴───────────┴───────┴────────────┴────────────────┴─────────┴───────────────────╯\n",
       "\n",
       "(Showing first 5 of 5 rows)"
      ]
     },
     "metadata": {},
     "output_type": "display_data"
    }
   ],
   "source": [
    "df.sort(df[\"age\"], desc=False).show()"
   ]
  },
  {
   "cell_type": "markdown",
   "metadata": {},
   "source": [
    "### Grouping and Aggregating Data\n",
    "\n",
    "You can **group** and **aggregate** your data using the {meth}`df.groupby() <daft.DataFrame.groupby>` method:\n",
    "\n",
    "Groupby aggregation operations over a dataset happens in 2 phases:\n",
    "\n",
    "1. Splitting the data into groups based on some criteria using {meth}`df.groupby() <daft.DataFrame.groupby>`\n",
    "2. Specifying how to aggregate the data for each group using {meth}`GroupedDataFrame.agg() <daft.DataFrame.dataframe.GroupedDataFrame.agg>`\n",
    "\n",
    "For example:"
   ]
  },
  {
   "cell_type": "code",
   "execution_count": 12,
   "metadata": {},
   "outputs": [
    {
     "data": {
      "text/html": [
       "<div>\n",
       "<table class=\"dataframe\">\n",
       "<thead><tr><th style=\"text-wrap: nowrap; max-width:192px; overflow:auto; text-align:left\">country<br />Utf8</th><th style=\"text-wrap: nowrap; max-width:192px; overflow:auto; text-align:left\">counts<br />UInt64</th></tr></thead>\n",
       "<tbody>\n",
       "<tr><td><div style=\"text-align:left; max-width:192px; max-height:64px; overflow:auto\">Canada</div></td><td><div style=\"text-align:left; max-width:192px; max-height:64px; overflow:auto\">2</div></td></tr>\n",
       "<tr><td><div style=\"text-align:left; max-width:192px; max-height:64px; overflow:auto\">Germany</div></td><td><div style=\"text-align:left; max-width:192px; max-height:64px; overflow:auto\">1</div></td></tr>\n",
       "<tr><td><div style=\"text-align:left; max-width:192px; max-height:64px; overflow:auto\">United Kingdom</div></td><td><div style=\"text-align:left; max-width:192px; max-height:64px; overflow:auto\">2</div></td></tr>\n",
       "</tbody>\n",
       "</table>\n",
       "<small>(Showing first 3 of 3 rows)</small>\n",
       "</div>"
      ],
      "text/plain": [
       "╭────────────────┬────────╮\n",
       "│ country        ┆ counts │\n",
       "│ ---            ┆ ---    │\n",
       "│ Utf8           ┆ UInt64 │\n",
       "╞════════════════╪════════╡\n",
       "│ Canada         ┆ 2      │\n",
       "├╌╌╌╌╌╌╌╌╌╌╌╌╌╌╌╌┼╌╌╌╌╌╌╌╌┤\n",
       "│ Germany        ┆ 1      │\n",
       "├╌╌╌╌╌╌╌╌╌╌╌╌╌╌╌╌┼╌╌╌╌╌╌╌╌┤\n",
       "│ United Kingdom ┆ 2      │\n",
       "╰────────────────┴────────╯\n",
       "\n",
       "(Showing first 3 of 3 rows)"
      ]
     },
     "metadata": {},
     "output_type": "display_data"
    }
   ],
   "source": [
    "# select only columns for grouping\n",
    "grouping_df = df.select(df[\"country\"], df[\"first_name\"].alias(\"counts\"))\n",
    "\n",
    "# groupby country column and count the number of countries\n",
    "grouping_df.groupby(df[\"country\"]).count().show()"
   ]
  },
  {
   "cell_type": "markdown",
   "metadata": {},
   "source": [
    "Note that we can use {meth}`.alias() <daft.Expression.alias>` to quickly rename columns."
   ]
  },
  {
   "cell_type": "markdown",
   "metadata": {},
   "source": [
    "### Missing Data\n",
    "\n",
    "All columns in Daft are \"nullable\" by default. Unlike other frameworks such as Pandas, Daft differentiates between \"null\" (missing) and \"nan\" (stands for not a number - a special value indicating an invalid float)."
   ]
  },
  {
   "cell_type": "code",
   "execution_count": 13,
   "metadata": {},
   "outputs": [
    {
     "data": {
      "text/html": [
       "<div>\n",
       "<table class=\"dataframe\">\n",
       "<thead><tr><th style=\"text-wrap: nowrap; max-width:192px; overflow:auto; text-align:left\">floats<br />Float64</th><th style=\"text-wrap: nowrap; max-width:192px; overflow:auto; text-align:left\">floats_is_null<br />Boolean</th><th style=\"text-wrap: nowrap; max-width:192px; overflow:auto; text-align:left\">floats_is_nan<br />Boolean</th></tr></thead>\n",
       "<tbody>\n",
       "<tr><td><div style=\"text-align:left; max-width:192px; max-height:64px; overflow:auto\">1.5</div></td><td><div style=\"text-align:left; max-width:192px; max-height:64px; overflow:auto\">false</div></td><td><div style=\"text-align:left; max-width:192px; max-height:64px; overflow:auto\">false</div></td></tr>\n",
       "<tr><td><div style=\"text-align:left; max-width:192px; max-height:64px; overflow:auto\">None</div></td><td><div style=\"text-align:left; max-width:192px; max-height:64px; overflow:auto\">true</div></td><td><div style=\"text-align:left; max-width:192px; max-height:64px; overflow:auto\">None</div></td></tr>\n",
       "<tr><td><div style=\"text-align:left; max-width:192px; max-height:64px; overflow:auto\">NaN</div></td><td><div style=\"text-align:left; max-width:192px; max-height:64px; overflow:auto\">false</div></td><td><div style=\"text-align:left; max-width:192px; max-height:64px; overflow:auto\">true</div></td></tr>\n",
       "</tbody>\n",
       "</table>\n",
       "<small>(Showing first 3 of 3 rows)</small>\n",
       "</div>"
      ],
      "text/plain": [
       "╭─────────┬────────────────┬───────────────╮\n",
       "│ floats  ┆ floats_is_null ┆ floats_is_nan │\n",
       "│ ---     ┆ ---            ┆ ---           │\n",
       "│ Float64 ┆ Boolean        ┆ Boolean       │\n",
       "╞═════════╪════════════════╪═══════════════╡\n",
       "│ 1.5     ┆ false          ┆ false         │\n",
       "├╌╌╌╌╌╌╌╌╌┼╌╌╌╌╌╌╌╌╌╌╌╌╌╌╌╌┼╌╌╌╌╌╌╌╌╌╌╌╌╌╌╌┤\n",
       "│ None    ┆ true           ┆ None          │\n",
       "├╌╌╌╌╌╌╌╌╌┼╌╌╌╌╌╌╌╌╌╌╌╌╌╌╌╌┼╌╌╌╌╌╌╌╌╌╌╌╌╌╌╌┤\n",
       "│ NaN     ┆ false          ┆ true          │\n",
       "╰─────────┴────────────────┴───────────────╯\n",
       "\n",
       "(Showing first 3 of 3 rows)"
      ]
     },
     "metadata": {},
     "output_type": "display_data"
    }
   ],
   "source": [
    "missing_data_df = daft.from_pydict(\n",
    "    {\n",
    "        \"floats\": [1.5, None, float(\"nan\")],\n",
    "    }\n",
    ")\n",
    "missing_data_df = missing_data_df.with_column(\"floats_is_null\", missing_data_df[\"floats\"].is_null()).with_column(\n",
    "    \"floats_is_nan\", missing_data_df[\"floats\"].float.is_nan()\n",
    ")\n",
    "\n",
    "missing_data_df.show()"
   ]
  },
  {
   "cell_type": "markdown",
   "metadata": {},
   "source": [
    "Let's correct the one missing value in our dataset:"
   ]
  },
  {
   "cell_type": "code",
   "execution_count": 14,
   "metadata": {},
   "outputs": [
    {
     "data": {
      "text/html": [
       "<div>\n",
       "<table class=\"dataframe\">\n",
       "<thead><tr><th style=\"text-wrap: nowrap; max-width:192px; overflow:auto; text-align:left\">first_name<br />Utf8</th><th style=\"text-wrap: nowrap; max-width:192px; overflow:auto; text-align:left\">last_name<br />Utf8</th><th style=\"text-wrap: nowrap; max-width:192px; overflow:auto; text-align:left\">age<br />Int64</th><th style=\"text-wrap: nowrap; max-width:192px; overflow:auto; text-align:left\">DoB<br />Date</th><th style=\"text-wrap: nowrap; max-width:192px; overflow:auto; text-align:left\">country<br />Utf8</th><th style=\"text-wrap: nowrap; max-width:192px; overflow:auto; text-align:left\">has_dog<br />Boolean</th><th style=\"text-wrap: nowrap; max-width:192px; overflow:auto; text-align:left\">full_name<br />Utf8</th></tr></thead>\n",
       "<tbody>\n",
       "<tr><td><div style=\"text-align:left; max-width:192px; max-height:64px; overflow:auto\">Shandra</div></td><td><div style=\"text-align:left; max-width:192px; max-height:64px; overflow:auto\">Shamas</div></td><td><div style=\"text-align:left; max-width:192px; max-height:64px; overflow:auto\">57</div></td><td><div style=\"text-align:left; max-width:192px; max-height:64px; overflow:auto\">1967-01-02</div></td><td><div style=\"text-align:left; max-width:192px; max-height:64px; overflow:auto\">United Kingdom</div></td><td><div style=\"text-align:left; max-width:192px; max-height:64px; overflow:auto\">true</div></td><td><div style=\"text-align:left; max-width:192px; max-height:64px; overflow:auto\">Shandra Shamas</div></td></tr>\n",
       "<tr><td><div style=\"text-align:left; max-width:192px; max-height:64px; overflow:auto\">Zaya</div></td><td><div style=\"text-align:left; max-width:192px; max-height:64px; overflow:auto\">Zaphora</div></td><td><div style=\"text-align:left; max-width:192px; max-height:64px; overflow:auto\">40</div></td><td><div style=\"text-align:left; max-width:192px; max-height:64px; overflow:auto\">1984-04-07</div></td><td><div style=\"text-align:left; max-width:192px; max-height:64px; overflow:auto\">United Kingdom</div></td><td><div style=\"text-align:left; max-width:192px; max-height:64px; overflow:auto\">true</div></td><td><div style=\"text-align:left; max-width:192px; max-height:64px; overflow:auto\">Zaya Zaphora</div></td></tr>\n",
       "<tr><td><div style=\"text-align:left; max-width:192px; max-height:64px; overflow:auto\">Wolfgang</div></td><td><div style=\"text-align:left; max-width:192px; max-height:64px; overflow:auto\">Winter</div></td><td><div style=\"text-align:left; max-width:192px; max-height:64px; overflow:auto\">23</div></td><td><div style=\"text-align:left; max-width:192px; max-height:64px; overflow:auto\">2001-02-12</div></td><td><div style=\"text-align:left; max-width:192px; max-height:64px; overflow:auto\">Germany</div></td><td><div style=\"text-align:left; max-width:192px; max-height:64px; overflow:auto\">true</div></td><td><div style=\"text-align:left; max-width:192px; max-height:64px; overflow:auto\">Wolfgang Winter</div></td></tr>\n",
       "<tr><td><div style=\"text-align:left; max-width:192px; max-height:64px; overflow:auto\">Ernesto</div></td><td><div style=\"text-align:left; max-width:192px; max-height:64px; overflow:auto\">Evergreen</div></td><td><div style=\"text-align:left; max-width:192px; max-height:64px; overflow:auto\">34</div></td><td><div style=\"text-align:left; max-width:192px; max-height:64px; overflow:auto\">1990-04-03</div></td><td><div style=\"text-align:left; max-width:192px; max-height:64px; overflow:auto\">Canada</div></td><td><div style=\"text-align:left; max-width:192px; max-height:64px; overflow:auto\">true</div></td><td><div style=\"text-align:left; max-width:192px; max-height:64px; overflow:auto\">Ernesto Evergreen</div></td></tr>\n",
       "<tr><td><div style=\"text-align:left; max-width:192px; max-height:64px; overflow:auto\">James</div></td><td><div style=\"text-align:left; max-width:192px; max-height:64px; overflow:auto\">Jale</div></td><td><div style=\"text-align:left; max-width:192px; max-height:64px; overflow:auto\">62</div></td><td><div style=\"text-align:left; max-width:192px; max-height:64px; overflow:auto\">1962-03-24</div></td><td><div style=\"text-align:left; max-width:192px; max-height:64px; overflow:auto\">Canada</div></td><td><div style=\"text-align:left; max-width:192px; max-height:64px; overflow:auto\">true</div></td><td><div style=\"text-align:left; max-width:192px; max-height:64px; overflow:auto\">James Jale</div></td></tr>\n",
       "</tbody>\n",
       "</table>\n",
       "<small>(Showing first 5 of 5 rows)</small>\n",
       "</div>"
      ],
      "text/plain": [
       "╭────────────┬───────────┬───────┬────────────┬────────────────┬─────────┬───────────────────╮\n",
       "│ first_name ┆ last_name ┆ age   ┆      …     ┆ country        ┆ has_dog ┆ full_name         │\n",
       "│ ---        ┆ ---       ┆ ---   ┆            ┆ ---            ┆ ---     ┆ ---               │\n",
       "│ Utf8       ┆ Utf8      ┆ Int64 ┆ (1 hidden) ┆ Utf8           ┆ Boolean ┆ Utf8              │\n",
       "╞════════════╪═══════════╪═══════╪════════════╪════════════════╪═════════╪═══════════════════╡\n",
       "│ Shandra    ┆ Shamas    ┆ 57    ┆ …          ┆ United Kingdom ┆ true    ┆ Shandra Shamas    │\n",
       "├╌╌╌╌╌╌╌╌╌╌╌╌┼╌╌╌╌╌╌╌╌╌╌╌┼╌╌╌╌╌╌╌┼╌╌╌╌╌╌╌╌╌╌╌╌┼╌╌╌╌╌╌╌╌╌╌╌╌╌╌╌╌┼╌╌╌╌╌╌╌╌╌┼╌╌╌╌╌╌╌╌╌╌╌╌╌╌╌╌╌╌╌┤\n",
       "│ Zaya       ┆ Zaphora   ┆ 40    ┆ …          ┆ United Kingdom ┆ true    ┆ Zaya Zaphora      │\n",
       "├╌╌╌╌╌╌╌╌╌╌╌╌┼╌╌╌╌╌╌╌╌╌╌╌┼╌╌╌╌╌╌╌┼╌╌╌╌╌╌╌╌╌╌╌╌┼╌╌╌╌╌╌╌╌╌╌╌╌╌╌╌╌┼╌╌╌╌╌╌╌╌╌┼╌╌╌╌╌╌╌╌╌╌╌╌╌╌╌╌╌╌╌┤\n",
       "│ Wolfgang   ┆ Winter    ┆ 23    ┆ …          ┆ Germany        ┆ true    ┆ Wolfgang Winter   │\n",
       "├╌╌╌╌╌╌╌╌╌╌╌╌┼╌╌╌╌╌╌╌╌╌╌╌┼╌╌╌╌╌╌╌┼╌╌╌╌╌╌╌╌╌╌╌╌┼╌╌╌╌╌╌╌╌╌╌╌╌╌╌╌╌┼╌╌╌╌╌╌╌╌╌┼╌╌╌╌╌╌╌╌╌╌╌╌╌╌╌╌╌╌╌┤\n",
       "│ Ernesto    ┆ Evergreen ┆ 34    ┆ …          ┆ Canada         ┆ true    ┆ Ernesto Evergreen │\n",
       "├╌╌╌╌╌╌╌╌╌╌╌╌┼╌╌╌╌╌╌╌╌╌╌╌┼╌╌╌╌╌╌╌┼╌╌╌╌╌╌╌╌╌╌╌╌┼╌╌╌╌╌╌╌╌╌╌╌╌╌╌╌╌┼╌╌╌╌╌╌╌╌╌┼╌╌╌╌╌╌╌╌╌╌╌╌╌╌╌╌╌╌╌┤\n",
       "│ James      ┆ Jale      ┆ 62    ┆ …          ┆ Canada         ┆ true    ┆ James Jale        │\n",
       "╰────────────┴───────────┴───────┴────────────┴────────────────┴─────────┴───────────────────╯\n",
       "\n",
       "(Showing first 5 of 5 rows)"
      ]
     },
     "metadata": {},
     "output_type": "display_data"
    }
   ],
   "source": [
    "df = df.with_column(\"has_dog\", df[\"has_dog\"].is_null().if_else(True, df[\"has_dog\"]))\n",
    "df.show()"
   ]
  },
  {
   "cell_type": "markdown",
   "metadata": {},
   "source": [
    "### Filtering Data\n",
    "\n",
    "You can **filter** rows in your DataFrame with a predicate using the {meth}`df.where() <daft.DataFrame.where>` method:"
   ]
  },
  {
   "cell_type": "code",
   "execution_count": 16,
   "metadata": {},
   "outputs": [
    {
     "data": {
      "text/html": [
       "<div>\n",
       "<table class=\"dataframe\">\n",
       "<thead><tr><th style=\"text-wrap: nowrap; max-width:192px; overflow:auto; text-align:left\">first_name<br />Utf8</th><th style=\"text-wrap: nowrap; max-width:192px; overflow:auto; text-align:left\">last_name<br />Utf8</th><th style=\"text-wrap: nowrap; max-width:192px; overflow:auto; text-align:left\">age<br />Int64</th><th style=\"text-wrap: nowrap; max-width:192px; overflow:auto; text-align:left\">DoB<br />Date</th><th style=\"text-wrap: nowrap; max-width:192px; overflow:auto; text-align:left\">country<br />Utf8</th><th style=\"text-wrap: nowrap; max-width:192px; overflow:auto; text-align:left\">has_dog<br />Boolean</th><th style=\"text-wrap: nowrap; max-width:192px; overflow:auto; text-align:left\">full_name<br />Utf8</th></tr></thead>\n",
       "<tbody>\n",
       "<tr><td><div style=\"text-align:left; max-width:192px; max-height:64px; overflow:auto\">James</div></td><td><div style=\"text-align:left; max-width:192px; max-height:64px; overflow:auto\">Jale</div></td><td><div style=\"text-align:left; max-width:192px; max-height:64px; overflow:auto\">62</div></td><td><div style=\"text-align:left; max-width:192px; max-height:64px; overflow:auto\">1962-03-24</div></td><td><div style=\"text-align:left; max-width:192px; max-height:64px; overflow:auto\">Canada</div></td><td><div style=\"text-align:left; max-width:192px; max-height:64px; overflow:auto\">true</div></td><td><div style=\"text-align:left; max-width:192px; max-height:64px; overflow:auto\">James Jale</div></td></tr>\n",
       "<tr><td><div style=\"text-align:left; max-width:192px; max-height:64px; overflow:auto\">Shandra</div></td><td><div style=\"text-align:left; max-width:192px; max-height:64px; overflow:auto\">Shamas</div></td><td><div style=\"text-align:left; max-width:192px; max-height:64px; overflow:auto\">57</div></td><td><div style=\"text-align:left; max-width:192px; max-height:64px; overflow:auto\">1967-01-02</div></td><td><div style=\"text-align:left; max-width:192px; max-height:64px; overflow:auto\">United Kingdom</div></td><td><div style=\"text-align:left; max-width:192px; max-height:64px; overflow:auto\">true</div></td><td><div style=\"text-align:left; max-width:192px; max-height:64px; overflow:auto\">Shandra Shamas</div></td></tr>\n",
       "<tr><td><div style=\"text-align:left; max-width:192px; max-height:64px; overflow:auto\">Zaya</div></td><td><div style=\"text-align:left; max-width:192px; max-height:64px; overflow:auto\">Zaphora</div></td><td><div style=\"text-align:left; max-width:192px; max-height:64px; overflow:auto\">40</div></td><td><div style=\"text-align:left; max-width:192px; max-height:64px; overflow:auto\">1984-04-07</div></td><td><div style=\"text-align:left; max-width:192px; max-height:64px; overflow:auto\">United Kingdom</div></td><td><div style=\"text-align:left; max-width:192px; max-height:64px; overflow:auto\">true</div></td><td><div style=\"text-align:left; max-width:192px; max-height:64px; overflow:auto\">Zaya Zaphora</div></td></tr>\n",
       "</tbody>\n",
       "</table>\n",
       "<small>(Showing first 3 of 3 rows)</small>\n",
       "</div>"
      ],
      "text/plain": [
       "╭────────────┬───────────┬───────┬────────────┬────────────────┬─────────┬────────────────╮\n",
       "│ first_name ┆ last_name ┆ age   ┆      …     ┆ country        ┆ has_dog ┆ full_name      │\n",
       "│ ---        ┆ ---       ┆ ---   ┆            ┆ ---            ┆ ---     ┆ ---            │\n",
       "│ Utf8       ┆ Utf8      ┆ Int64 ┆ (1 hidden) ┆ Utf8           ┆ Boolean ┆ Utf8           │\n",
       "╞════════════╪═══════════╪═══════╪════════════╪════════════════╪═════════╪════════════════╡\n",
       "│ James      ┆ Jale      ┆ 62    ┆ …          ┆ Canada         ┆ true    ┆ James Jale     │\n",
       "├╌╌╌╌╌╌╌╌╌╌╌╌┼╌╌╌╌╌╌╌╌╌╌╌┼╌╌╌╌╌╌╌┼╌╌╌╌╌╌╌╌╌╌╌╌┼╌╌╌╌╌╌╌╌╌╌╌╌╌╌╌╌┼╌╌╌╌╌╌╌╌╌┼╌╌╌╌╌╌╌╌╌╌╌╌╌╌╌╌┤\n",
       "│ Shandra    ┆ Shamas    ┆ 57    ┆ …          ┆ United Kingdom ┆ true    ┆ Shandra Shamas │\n",
       "├╌╌╌╌╌╌╌╌╌╌╌╌┼╌╌╌╌╌╌╌╌╌╌╌┼╌╌╌╌╌╌╌┼╌╌╌╌╌╌╌╌╌╌╌╌┼╌╌╌╌╌╌╌╌╌╌╌╌╌╌╌╌┼╌╌╌╌╌╌╌╌╌┼╌╌╌╌╌╌╌╌╌╌╌╌╌╌╌╌┤\n",
       "│ Zaya       ┆ Zaphora   ┆ 40    ┆ …          ┆ United Kingdom ┆ true    ┆ Zaya Zaphora   │\n",
       "╰────────────┴───────────┴───────┴────────────┴────────────────┴─────────┴────────────────╯\n",
       "\n",
       "(Showing first 3 of 3 rows)"
      ]
     },
     "metadata": {},
     "output_type": "display_data"
    }
   ],
   "source": [
    "df.where(df[\"age\"] > 35).show()"
   ]
  },
  {
   "cell_type": "markdown",
   "metadata": {},
   "source": [
    "Filtering can give you powerful optimization when you are working with partitioned files or tables. Daft will use the predicate to read only the necessary partitions, skipping any data that is not relevant.\n",
    "\n",
    "For example, our Parquet file is partitioned on the `country` column. This means that queries with a `country` predicate will benefit from query optimization:"
   ]
  },
  {
   "cell_type": "code",
   "execution_count": 17,
   "metadata": {},
   "outputs": [
    {
     "data": {
      "text/html": [
       "<div>\n",
       "<table class=\"dataframe\">\n",
       "<thead><tr><th style=\"text-wrap: nowrap; max-width:192px; overflow:auto; text-align:left\">first_name<br />Utf8</th><th style=\"text-wrap: nowrap; max-width:192px; overflow:auto; text-align:left\">last_name<br />Utf8</th><th style=\"text-wrap: nowrap; max-width:192px; overflow:auto; text-align:left\">age<br />Int64</th><th style=\"text-wrap: nowrap; max-width:192px; overflow:auto; text-align:left\">DoB<br />Date</th><th style=\"text-wrap: nowrap; max-width:192px; overflow:auto; text-align:left\">country<br />Utf8</th><th style=\"text-wrap: nowrap; max-width:192px; overflow:auto; text-align:left\">has_dog<br />Boolean</th><th style=\"text-wrap: nowrap; max-width:192px; overflow:auto; text-align:left\">full_name<br />Utf8</th></tr></thead>\n",
       "<tbody>\n",
       "<tr><td><div style=\"text-align:left; max-width:192px; max-height:64px; overflow:auto\">Ernesto</div></td><td><div style=\"text-align:left; max-width:192px; max-height:64px; overflow:auto\">Evergreen</div></td><td><div style=\"text-align:left; max-width:192px; max-height:64px; overflow:auto\">34</div></td><td><div style=\"text-align:left; max-width:192px; max-height:64px; overflow:auto\">1990-04-03</div></td><td><div style=\"text-align:left; max-width:192px; max-height:64px; overflow:auto\">Canada</div></td><td><div style=\"text-align:left; max-width:192px; max-height:64px; overflow:auto\">true</div></td><td><div style=\"text-align:left; max-width:192px; max-height:64px; overflow:auto\">Ernesto Evergreen</div></td></tr>\n",
       "<tr><td><div style=\"text-align:left; max-width:192px; max-height:64px; overflow:auto\">James</div></td><td><div style=\"text-align:left; max-width:192px; max-height:64px; overflow:auto\">Jale</div></td><td><div style=\"text-align:left; max-width:192px; max-height:64px; overflow:auto\">62</div></td><td><div style=\"text-align:left; max-width:192px; max-height:64px; overflow:auto\">1962-03-24</div></td><td><div style=\"text-align:left; max-width:192px; max-height:64px; overflow:auto\">Canada</div></td><td><div style=\"text-align:left; max-width:192px; max-height:64px; overflow:auto\">true</div></td><td><div style=\"text-align:left; max-width:192px; max-height:64px; overflow:auto\">James Jale</div></td></tr>\n",
       "</tbody>\n",
       "</table>\n",
       "<small>(Showing first 2 of 2 rows)</small>\n",
       "</div>"
      ],
      "text/plain": [
       "╭────────────┬───────────┬───────┬────────────┬─────────┬─────────┬───────────────────╮\n",
       "│ first_name ┆ last_name ┆ age   ┆      …     ┆ country ┆ has_dog ┆ full_name         │\n",
       "│ ---        ┆ ---       ┆ ---   ┆            ┆ ---     ┆ ---     ┆ ---               │\n",
       "│ Utf8       ┆ Utf8      ┆ Int64 ┆ (1 hidden) ┆ Utf8    ┆ Boolean ┆ Utf8              │\n",
       "╞════════════╪═══════════╪═══════╪════════════╪═════════╪═════════╪═══════════════════╡\n",
       "│ Ernesto    ┆ Evergreen ┆ 34    ┆ …          ┆ Canada  ┆ true    ┆ Ernesto Evergreen │\n",
       "├╌╌╌╌╌╌╌╌╌╌╌╌┼╌╌╌╌╌╌╌╌╌╌╌┼╌╌╌╌╌╌╌┼╌╌╌╌╌╌╌╌╌╌╌╌┼╌╌╌╌╌╌╌╌╌┼╌╌╌╌╌╌╌╌╌┼╌╌╌╌╌╌╌╌╌╌╌╌╌╌╌╌╌╌╌┤\n",
       "│ James      ┆ Jale      ┆ 62    ┆ …          ┆ Canada  ┆ true    ┆ James Jale        │\n",
       "╰────────────┴───────────┴───────┴────────────┴─────────┴─────────┴───────────────────╯\n",
       "\n",
       "(Showing first 2 of 2 rows)"
      ]
     },
     "metadata": {},
     "output_type": "display_data"
    }
   ],
   "source": [
    "df.where(df[\"country\"] == \"Canada\").show()"
   ]
  },
  {
   "cell_type": "markdown",
   "metadata": {},
   "source": [
    "Daft only needs to read in 1 file for this query, instead of 3."
   ]
  },
  {
   "cell_type": "markdown",
   "metadata": {},
   "source": [
    "## Query Planning\n",
    "\n",
    "Daft is lazy: computations on your DataFrame are not executed immediately. Instead, Daft creates a `LogicalPlan` which defines the operations that need to happen to materialize the requested result. Think of this LogicalPlan as a recipe. \n",
    "\n",
    "You can examine this logical plan using {meth}`df.explain() <daft.DataFrame.explain>`:"
   ]
  },
  {
   "cell_type": "code",
   "execution_count": 18,
   "metadata": {},
   "outputs": [
    {
     "name": "stdout",
     "output_type": "stream",
     "text": [
      "== Unoptimized Logical Plan ==\n",
      "\n",
      "* Filter: col(country) == lit(\"Canada\")\n",
      "|\n",
      "* GlobScanOperator\n",
      "|   Glob paths = [s3://daft-public-data/tutorials/10-min/sample-data-dog-owners-\n",
      "|     partitioned.pq/**]\n",
      "|   Coerce int96 timestamp unit = Nanoseconds\n",
      "|   IO config = S3 config = { Max connections = 8, Retry initial backoff ms = 1000,\n",
      "|     Connect timeout ms = 30000, Read timeout ms = 30000, Max retries = 25, Retry\n",
      "|     mode = adaptive, Anonymous = false, Use SSL = true, Verify SSL = true, Check\n",
      "|     hostname SSL = true, Requester pays = false, Force Virtual Addressing = false },\n",
      "|     Azure config = { Anonymous = false, Use SSL = true }, GCS config = { Anonymous =\n",
      "|     false }, HTTP config = { user_agent = daft/0.0.1 }\n",
      "|   Use multithreading = true\n",
      "|   File schema = first_name#Utf8, last_name#Utf8, age#Int64, DoB#Date,\n",
      "|     country#Utf8, has_dog#Boolean\n",
      "|   Partitioning keys = []\n",
      "|   Output schema = first_name#Utf8, last_name#Utf8, age#Int64, DoB#Date,\n",
      "|     country#Utf8, has_dog#Boolean\n",
      "\n",
      "\n",
      "== Optimized Logical Plan ==\n",
      "\n",
      "* GlobScanOperator\n",
      "|   Glob paths = [s3://daft-public-data/tutorials/10-min/sample-data-dog-owners-\n",
      "|     partitioned.pq/**]\n",
      "|   Coerce int96 timestamp unit = Nanoseconds\n",
      "|   IO config = S3 config = { Max connections = 8, Retry initial backoff ms = 1000,\n",
      "|     Connect timeout ms = 30000, Read timeout ms = 30000, Max retries = 25, Retry\n",
      "|     mode = adaptive, Anonymous = false, Use SSL = true, Verify SSL = true, Check\n",
      "|     hostname SSL = true, Requester pays = false, Force Virtual Addressing = false },\n",
      "|     Azure config = { Anonymous = false, Use SSL = true }, GCS config = { Anonymous =\n",
      "|     false }, HTTP config = { user_agent = daft/0.0.1 }\n",
      "|   Use multithreading = true\n",
      "|   File schema = first_name#Utf8, last_name#Utf8, age#Int64, DoB#Date,\n",
      "|     country#Utf8, has_dog#Boolean\n",
      "|   Partitioning keys = []\n",
      "|   Filter pushdown = col(country) == lit(\"Canada\")\n",
      "|   Output schema = first_name#Utf8, last_name#Utf8, age#Int64, DoB#Date,\n",
      "|     country#Utf8, has_dog#Boolean\n",
      "\n",
      "\n",
      "== Physical Plan ==\n",
      "\n",
      "* TabularScan:\n",
      "|   Num Scan Tasks = 1\n",
      "|   Estimated Scan Bytes = 6336\n",
      "|   Clustering spec = { Num partitions = 1 }\n",
      "\n"
     ]
    }
   ],
   "source": [
    "df2 = daft.read_parquet(\"s3://daft-public-data/tutorials/10-min/sample-data-dog-owners-partitioned.pq/**\")\n",
    "df2.where(df[\"country\"] == \"Canada\").explain(show_all=True)"
   ]
  },
  {
   "cell_type": "markdown",
   "metadata": {},
   "source": [
    "Because we are filtering our DataFrame on the partition column `country`, Daft can optimize the Logical Plan and save us time and computing resources by only reading a single partition from disk. "
   ]
  },
  {
   "cell_type": "markdown",
   "metadata": {},
   "source": [
    "## More Advanced Operations\n",
    "\n",
    "You've made it half-way! Time to bring in some fluffy beings 🐶\n",
    "\n",
    "Let's bring all of the elements together to see how you can use Daft to:\n",
    "- perform more advanced operations like **joins**\n",
    "- work with **multimodal data** like Python classes, URLs, and Images,\n",
    "- apply **custom User-Defined Functions** to your columns,\n",
    "- and **run ML workloads** within your DataFrame,"
   ]
  },
  {
   "cell_type": "markdown",
   "metadata": {},
   "source": [
    "### Merging DataFrames\n",
    "\n",
    "DataFrames can be joined with {meth}`df.join() <daft.DataFrame.join>`.\n",
    "\n",
    "Let's use a join to reunite our `owners` with their sweet fluffy companions. We'll create a `dogs` DataFrame from a Python dictionary and then join this to our existing dataframe with the owners data."
   ]
  },
  {
   "cell_type": "code",
   "execution_count": 19,
   "metadata": {},
   "outputs": [],
   "source": [
    "df_dogs = daft.from_pydict(\n",
    "    {\n",
    "        \"urls\": [\n",
    "            \"https://live.staticflickr.com/65535/53671838774_03ba68d203_o.jpg\",\n",
    "            \"https://live.staticflickr.com/65535/53671700073_2c9441422e_o.jpg\",\n",
    "            \"https://live.staticflickr.com/65535/53670606332_1ea5f2ce68_o.jpg\",\n",
    "            \"https://live.staticflickr.com/65535/53671838039_b97411a441_o.jpg\",\n",
    "            \"https://live.staticflickr.com/65535/53671698613_0230f8af3c_o.jpg\",\n",
    "        ],\n",
    "        \"full_name\": [\n",
    "            \"Ernesto Evergreen\",\n",
    "            \"James Jale\",\n",
    "            \"Wolfgang Winter\",\n",
    "            \"Shandra Shamas\",\n",
    "            \"Zaya Zaphora\",\n",
    "        ],\n",
    "        \"dog_name\": [\"Ernie\", \"Jackie\", \"Wolfie\", \"Shaggie\", \"Zadie\"],\n",
    "    }\n",
    ")"
   ]
  },
  {
   "cell_type": "markdown",
   "metadata": {},
   "source": [
    "Let's join and drop some columns to keep the output easy to read:"
   ]
  },
  {
   "cell_type": "code",
   "execution_count": 20,
   "metadata": {},
   "outputs": [
    {
     "data": {
      "text/html": [
       "<div>\n",
       "<table class=\"dataframe\">\n",
       "<thead><tr><th style=\"text-wrap: nowrap; max-width:192px; overflow:auto; text-align:left\">has_dog<br />Boolean</th><th style=\"text-wrap: nowrap; max-width:192px; overflow:auto; text-align:left\">full_name<br />Utf8</th><th style=\"text-wrap: nowrap; max-width:192px; overflow:auto; text-align:left\">urls<br />Utf8</th><th style=\"text-wrap: nowrap; max-width:192px; overflow:auto; text-align:left\">dog_name<br />Utf8</th></tr></thead>\n",
       "<tbody>\n",
       "<tr><td><div style=\"text-align:left; max-width:192px; max-height:64px; overflow:auto\">true</div></td><td><div style=\"text-align:left; max-width:192px; max-height:64px; overflow:auto\">Ernesto Evergreen</div></td><td><div style=\"text-align:left; max-width:192px; max-height:64px; overflow:auto\">https://live.staticflickr.com/65535/53671838774_03ba68d203_o.jpg</div></td><td><div style=\"text-align:left; max-width:192px; max-height:64px; overflow:auto\">Ernie</div></td></tr>\n",
       "<tr><td><div style=\"text-align:left; max-width:192px; max-height:64px; overflow:auto\">true</div></td><td><div style=\"text-align:left; max-width:192px; max-height:64px; overflow:auto\">James Jale</div></td><td><div style=\"text-align:left; max-width:192px; max-height:64px; overflow:auto\">https://live.staticflickr.com/65535/53671700073_2c9441422e_o.jpg</div></td><td><div style=\"text-align:left; max-width:192px; max-height:64px; overflow:auto\">Jackie</div></td></tr>\n",
       "<tr><td><div style=\"text-align:left; max-width:192px; max-height:64px; overflow:auto\">true</div></td><td><div style=\"text-align:left; max-width:192px; max-height:64px; overflow:auto\">Wolfgang Winter</div></td><td><div style=\"text-align:left; max-width:192px; max-height:64px; overflow:auto\">https://live.staticflickr.com/65535/53670606332_1ea5f2ce68_o.jpg</div></td><td><div style=\"text-align:left; max-width:192px; max-height:64px; overflow:auto\">Wolfie</div></td></tr>\n",
       "<tr><td><div style=\"text-align:left; max-width:192px; max-height:64px; overflow:auto\">true</div></td><td><div style=\"text-align:left; max-width:192px; max-height:64px; overflow:auto\">Shandra Shamas</div></td><td><div style=\"text-align:left; max-width:192px; max-height:64px; overflow:auto\">https://live.staticflickr.com/65535/53671838039_b97411a441_o.jpg</div></td><td><div style=\"text-align:left; max-width:192px; max-height:64px; overflow:auto\">Shaggie</div></td></tr>\n",
       "<tr><td><div style=\"text-align:left; max-width:192px; max-height:64px; overflow:auto\">true</div></td><td><div style=\"text-align:left; max-width:192px; max-height:64px; overflow:auto\">Zaya Zaphora</div></td><td><div style=\"text-align:left; max-width:192px; max-height:64px; overflow:auto\">https://live.staticflickr.com/65535/53671698613_0230f8af3c_o.jpg</div></td><td><div style=\"text-align:left; max-width:192px; max-height:64px; overflow:auto\">Zadie</div></td></tr>\n",
       "</tbody>\n",
       "</table>\n",
       "<small>(Showing first 5 of 5 rows)</small>\n",
       "</div>"
      ],
      "text/plain": [
       "╭─────────┬───────────────────┬────────────────────────────────┬──────────╮\n",
       "│ has_dog ┆ full_name         ┆ urls                           ┆ dog_name │\n",
       "│ ---     ┆ ---               ┆ ---                            ┆ ---      │\n",
       "│ Boolean ┆ Utf8              ┆ Utf8                           ┆ Utf8     │\n",
       "╞═════════╪═══════════════════╪════════════════════════════════╪══════════╡\n",
       "│ true    ┆ Ernesto Evergreen ┆ https://live.staticflickr.com… ┆ Ernie    │\n",
       "├╌╌╌╌╌╌╌╌╌┼╌╌╌╌╌╌╌╌╌╌╌╌╌╌╌╌╌╌╌┼╌╌╌╌╌╌╌╌╌╌╌╌╌╌╌╌╌╌╌╌╌╌╌╌╌╌╌╌╌╌╌╌┼╌╌╌╌╌╌╌╌╌╌┤\n",
       "│ true    ┆ James Jale        ┆ https://live.staticflickr.com… ┆ Jackie   │\n",
       "├╌╌╌╌╌╌╌╌╌┼╌╌╌╌╌╌╌╌╌╌╌╌╌╌╌╌╌╌╌┼╌╌╌╌╌╌╌╌╌╌╌╌╌╌╌╌╌╌╌╌╌╌╌╌╌╌╌╌╌╌╌╌┼╌╌╌╌╌╌╌╌╌╌┤\n",
       "│ true    ┆ Wolfgang Winter   ┆ https://live.staticflickr.com… ┆ Wolfie   │\n",
       "├╌╌╌╌╌╌╌╌╌┼╌╌╌╌╌╌╌╌╌╌╌╌╌╌╌╌╌╌╌┼╌╌╌╌╌╌╌╌╌╌╌╌╌╌╌╌╌╌╌╌╌╌╌╌╌╌╌╌╌╌╌╌┼╌╌╌╌╌╌╌╌╌╌┤\n",
       "│ true    ┆ Shandra Shamas    ┆ https://live.staticflickr.com… ┆ Shaggie  │\n",
       "├╌╌╌╌╌╌╌╌╌┼╌╌╌╌╌╌╌╌╌╌╌╌╌╌╌╌╌╌╌┼╌╌╌╌╌╌╌╌╌╌╌╌╌╌╌╌╌╌╌╌╌╌╌╌╌╌╌╌╌╌╌╌┼╌╌╌╌╌╌╌╌╌╌┤\n",
       "│ true    ┆ Zaya Zaphora      ┆ https://live.staticflickr.com… ┆ Zadie    │\n",
       "╰─────────┴───────────────────┴────────────────────────────────┴──────────╯\n",
       "\n",
       "(Showing first 5 of 5 rows)"
      ]
     },
     "metadata": {},
     "output_type": "display_data"
    }
   ],
   "source": [
    "df_family = df.join(df_dogs, on=\"full_name\").exclude(\"first_name\", \"last_name\", \"DoB\", \"country\", \"age\")\n",
    "df_family.show()"
   ]
  },
  {
   "cell_type": "markdown",
   "metadata": {},
   "source": [
    "Let's just quickly re-order the columns for easier reading:"
   ]
  },
  {
   "cell_type": "code",
   "execution_count": 21,
   "metadata": {},
   "outputs": [
    {
     "data": {
      "text/html": [
       "<div>\n",
       "<table class=\"dataframe\">\n",
       "<thead><tr><th style=\"text-wrap: nowrap; max-width:192px; overflow:auto; text-align:left\">full_name<br />Utf8</th><th style=\"text-wrap: nowrap; max-width:192px; overflow:auto; text-align:left\">has_dog<br />Boolean</th><th style=\"text-wrap: nowrap; max-width:192px; overflow:auto; text-align:left\">dog_name<br />Utf8</th><th style=\"text-wrap: nowrap; max-width:192px; overflow:auto; text-align:left\">urls<br />Utf8</th></tr></thead>\n",
       "<tbody>\n",
       "<tr><td><div style=\"text-align:left; max-width:192px; max-height:64px; overflow:auto\">Ernesto Evergreen</div></td><td><div style=\"text-align:left; max-width:192px; max-height:64px; overflow:auto\">true</div></td><td><div style=\"text-align:left; max-width:192px; max-height:64px; overflow:auto\">Ernie</div></td><td><div style=\"text-align:left; max-width:192px; max-height:64px; overflow:auto\">https://live.staticflickr.com/65535/53671838774_03ba68d203_o.jpg</div></td></tr>\n",
       "<tr><td><div style=\"text-align:left; max-width:192px; max-height:64px; overflow:auto\">James Jale</div></td><td><div style=\"text-align:left; max-width:192px; max-height:64px; overflow:auto\">true</div></td><td><div style=\"text-align:left; max-width:192px; max-height:64px; overflow:auto\">Jackie</div></td><td><div style=\"text-align:left; max-width:192px; max-height:64px; overflow:auto\">https://live.staticflickr.com/65535/53671700073_2c9441422e_o.jpg</div></td></tr>\n",
       "<tr><td><div style=\"text-align:left; max-width:192px; max-height:64px; overflow:auto\">Wolfgang Winter</div></td><td><div style=\"text-align:left; max-width:192px; max-height:64px; overflow:auto\">true</div></td><td><div style=\"text-align:left; max-width:192px; max-height:64px; overflow:auto\">Wolfie</div></td><td><div style=\"text-align:left; max-width:192px; max-height:64px; overflow:auto\">https://live.staticflickr.com/65535/53670606332_1ea5f2ce68_o.jpg</div></td></tr>\n",
       "<tr><td><div style=\"text-align:left; max-width:192px; max-height:64px; overflow:auto\">Shandra Shamas</div></td><td><div style=\"text-align:left; max-width:192px; max-height:64px; overflow:auto\">true</div></td><td><div style=\"text-align:left; max-width:192px; max-height:64px; overflow:auto\">Shaggie</div></td><td><div style=\"text-align:left; max-width:192px; max-height:64px; overflow:auto\">https://live.staticflickr.com/65535/53671838039_b97411a441_o.jpg</div></td></tr>\n",
       "<tr><td><div style=\"text-align:left; max-width:192px; max-height:64px; overflow:auto\">Zaya Zaphora</div></td><td><div style=\"text-align:left; max-width:192px; max-height:64px; overflow:auto\">true</div></td><td><div style=\"text-align:left; max-width:192px; max-height:64px; overflow:auto\">Zadie</div></td><td><div style=\"text-align:left; max-width:192px; max-height:64px; overflow:auto\">https://live.staticflickr.com/65535/53671698613_0230f8af3c_o.jpg</div></td></tr>\n",
       "</tbody>\n",
       "</table>\n",
       "<small>(Showing first 5 of 5 rows)</small>\n",
       "</div>"
      ],
      "text/plain": [
       "╭───────────────────┬─────────┬──────────┬────────────────────────────────╮\n",
       "│ full_name         ┆ has_dog ┆ dog_name ┆ urls                           │\n",
       "│ ---               ┆ ---     ┆ ---      ┆ ---                            │\n",
       "│ Utf8              ┆ Boolean ┆ Utf8     ┆ Utf8                           │\n",
       "╞═══════════════════╪═════════╪══════════╪════════════════════════════════╡\n",
       "│ Ernesto Evergreen ┆ true    ┆ Ernie    ┆ https://live.staticflickr.com… │\n",
       "├╌╌╌╌╌╌╌╌╌╌╌╌╌╌╌╌╌╌╌┼╌╌╌╌╌╌╌╌╌┼╌╌╌╌╌╌╌╌╌╌┼╌╌╌╌╌╌╌╌╌╌╌╌╌╌╌╌╌╌╌╌╌╌╌╌╌╌╌╌╌╌╌╌┤\n",
       "│ James Jale        ┆ true    ┆ Jackie   ┆ https://live.staticflickr.com… │\n",
       "├╌╌╌╌╌╌╌╌╌╌╌╌╌╌╌╌╌╌╌┼╌╌╌╌╌╌╌╌╌┼╌╌╌╌╌╌╌╌╌╌┼╌╌╌╌╌╌╌╌╌╌╌╌╌╌╌╌╌╌╌╌╌╌╌╌╌╌╌╌╌╌╌╌┤\n",
       "│ Wolfgang Winter   ┆ true    ┆ Wolfie   ┆ https://live.staticflickr.com… │\n",
       "├╌╌╌╌╌╌╌╌╌╌╌╌╌╌╌╌╌╌╌┼╌╌╌╌╌╌╌╌╌┼╌╌╌╌╌╌╌╌╌╌┼╌╌╌╌╌╌╌╌╌╌╌╌╌╌╌╌╌╌╌╌╌╌╌╌╌╌╌╌╌╌╌╌┤\n",
       "│ Shandra Shamas    ┆ true    ┆ Shaggie  ┆ https://live.staticflickr.com… │\n",
       "├╌╌╌╌╌╌╌╌╌╌╌╌╌╌╌╌╌╌╌┼╌╌╌╌╌╌╌╌╌┼╌╌╌╌╌╌╌╌╌╌┼╌╌╌╌╌╌╌╌╌╌╌╌╌╌╌╌╌╌╌╌╌╌╌╌╌╌╌╌╌╌╌╌┤\n",
       "│ Zaya Zaphora      ┆ true    ┆ Zadie    ┆ https://live.staticflickr.com… │\n",
       "╰───────────────────┴─────────┴──────────┴────────────────────────────────╯\n",
       "\n",
       "(Showing first 5 of 5 rows)"
      ]
     },
     "metadata": {},
     "output_type": "display_data"
    }
   ],
   "source": [
    "df_family = df_family.select(\"full_name\", \"has_dog\", \"dog_name\", \"urls\")\n",
    "df_family.show()"
   ]
  },
  {
   "cell_type": "markdown",
   "metadata": {},
   "source": [
    "### Working with Multimodal Data"
   ]
  },
  {
   "cell_type": "markdown",
   "metadata": {},
   "source": [
    "Daft is built to work comfortably with multimodal data types, including URLs and Images.\n",
    "\n",
    "You can use the {meth}`url.download() <daft.Expression.url.download>` expression to download the bytes from a URL. Let's store them in a new column using the `with_column` method:"
   ]
  },
  {
   "cell_type": "code",
   "execution_count": 22,
   "metadata": {},
   "outputs": [
    {
     "data": {
      "text/html": [
       "<div>\n",
       "<table class=\"dataframe\">\n",
       "<thead><tr><th style=\"text-wrap: nowrap; max-width:192px; overflow:auto; text-align:left\">full_name<br />Utf8</th><th style=\"text-wrap: nowrap; max-width:192px; overflow:auto; text-align:left\">has_dog<br />Boolean</th><th style=\"text-wrap: nowrap; max-width:192px; overflow:auto; text-align:left\">dog_name<br />Utf8</th><th style=\"text-wrap: nowrap; max-width:192px; overflow:auto; text-align:left\">urls<br />Utf8</th><th style=\"text-wrap: nowrap; max-width:192px; overflow:auto; text-align:left\">image_bytes<br />Binary</th></tr></thead>\n",
       "<tbody>\n",
       "<tr><td><div style=\"text-align:left; max-width:192px; max-height:64px; overflow:auto\">Ernesto Evergreen</div></td><td><div style=\"text-align:left; max-width:192px; max-height:64px; overflow:auto\">true</div></td><td><div style=\"text-align:left; max-width:192px; max-height:64px; overflow:auto\">Ernie</div></td><td><div style=\"text-align:left; max-width:192px; max-height:64px; overflow:auto\">https://live.staticflickr.com/65535/53671838774_03ba68d203_o.jpg</div></td><td><div style=\"text-align:left; max-width:192px; max-height:64px; overflow:auto\">b\"\\xff\\xd8\\xff\\xe0\\x00\\x10JFIF\\x00\\x01\"...</div></td></tr>\n",
       "<tr><td><div style=\"text-align:left; max-width:192px; max-height:64px; overflow:auto\">James Jale</div></td><td><div style=\"text-align:left; max-width:192px; max-height:64px; overflow:auto\">true</div></td><td><div style=\"text-align:left; max-width:192px; max-height:64px; overflow:auto\">Jackie</div></td><td><div style=\"text-align:left; max-width:192px; max-height:64px; overflow:auto\">https://live.staticflickr.com/65535/53671700073_2c9441422e_o.jpg</div></td><td><div style=\"text-align:left; max-width:192px; max-height:64px; overflow:auto\">b\"\\xff\\xd8\\xff\\xe0\\x00\\x10JFIF\\x00\\x01\"...</div></td></tr>\n",
       "<tr><td><div style=\"text-align:left; max-width:192px; max-height:64px; overflow:auto\">Wolfgang Winter</div></td><td><div style=\"text-align:left; max-width:192px; max-height:64px; overflow:auto\">true</div></td><td><div style=\"text-align:left; max-width:192px; max-height:64px; overflow:auto\">Wolfie</div></td><td><div style=\"text-align:left; max-width:192px; max-height:64px; overflow:auto\">https://live.staticflickr.com/65535/53670606332_1ea5f2ce68_o.jpg</div></td><td><div style=\"text-align:left; max-width:192px; max-height:64px; overflow:auto\">b\"\\xff\\xd8\\xff\\xe0\\x00\\x10JFIF\\x00\\x01\"...</div></td></tr>\n",
       "<tr><td><div style=\"text-align:left; max-width:192px; max-height:64px; overflow:auto\">Shandra Shamas</div></td><td><div style=\"text-align:left; max-width:192px; max-height:64px; overflow:auto\">true</div></td><td><div style=\"text-align:left; max-width:192px; max-height:64px; overflow:auto\">Shaggie</div></td><td><div style=\"text-align:left; max-width:192px; max-height:64px; overflow:auto\">https://live.staticflickr.com/65535/53671838039_b97411a441_o.jpg</div></td><td><div style=\"text-align:left; max-width:192px; max-height:64px; overflow:auto\">b\"\\xff\\xd8\\xff\\xe0\\x00\\x10JFIF\\x00\\x01\"...</div></td></tr>\n",
       "<tr><td><div style=\"text-align:left; max-width:192px; max-height:64px; overflow:auto\">Zaya Zaphora</div></td><td><div style=\"text-align:left; max-width:192px; max-height:64px; overflow:auto\">true</div></td><td><div style=\"text-align:left; max-width:192px; max-height:64px; overflow:auto\">Zadie</div></td><td><div style=\"text-align:left; max-width:192px; max-height:64px; overflow:auto\">https://live.staticflickr.com/65535/53671698613_0230f8af3c_o.jpg</div></td><td><div style=\"text-align:left; max-width:192px; max-height:64px; overflow:auto\">b\"\\xff\\xd8\\xff\\xe0\\x00\\x10JFIF\\x00\\x01\"...</div></td></tr>\n",
       "</tbody>\n",
       "</table>\n",
       "<small>(Showing first 5 of 5 rows)</small>\n",
       "</div>"
      ],
      "text/plain": [
       "╭───────────────────┬─────────┬──────────┬────────────────────────────────┬────────────────────────────────╮\n",
       "│ full_name         ┆ has_dog ┆ dog_name ┆ urls                           ┆ image_bytes                    │\n",
       "│ ---               ┆ ---     ┆ ---      ┆ ---                            ┆ ---                            │\n",
       "│ Utf8              ┆ Boolean ┆ Utf8     ┆ Utf8                           ┆ Binary                         │\n",
       "╞═══════════════════╪═════════╪══════════╪════════════════════════════════╪════════════════════════════════╡\n",
       "│ Ernesto Evergreen ┆ true    ┆ Ernie    ┆ https://live.staticflickr.com… ┆ b\"\\xff\\xd8\\xff\\xe0\\x00\\x10JFI… │\n",
       "├╌╌╌╌╌╌╌╌╌╌╌╌╌╌╌╌╌╌╌┼╌╌╌╌╌╌╌╌╌┼╌╌╌╌╌╌╌╌╌╌┼╌╌╌╌╌╌╌╌╌╌╌╌╌╌╌╌╌╌╌╌╌╌╌╌╌╌╌╌╌╌╌╌┼╌╌╌╌╌╌╌╌╌╌╌╌╌╌╌╌╌╌╌╌╌╌╌╌╌╌╌╌╌╌╌╌┤\n",
       "│ James Jale        ┆ true    ┆ Jackie   ┆ https://live.staticflickr.com… ┆ b\"\\xff\\xd8\\xff\\xe0\\x00\\x10JFI… │\n",
       "├╌╌╌╌╌╌╌╌╌╌╌╌╌╌╌╌╌╌╌┼╌╌╌╌╌╌╌╌╌┼╌╌╌╌╌╌╌╌╌╌┼╌╌╌╌╌╌╌╌╌╌╌╌╌╌╌╌╌╌╌╌╌╌╌╌╌╌╌╌╌╌╌╌┼╌╌╌╌╌╌╌╌╌╌╌╌╌╌╌╌╌╌╌╌╌╌╌╌╌╌╌╌╌╌╌╌┤\n",
       "│ Wolfgang Winter   ┆ true    ┆ Wolfie   ┆ https://live.staticflickr.com… ┆ b\"\\xff\\xd8\\xff\\xe0\\x00\\x10JFI… │\n",
       "├╌╌╌╌╌╌╌╌╌╌╌╌╌╌╌╌╌╌╌┼╌╌╌╌╌╌╌╌╌┼╌╌╌╌╌╌╌╌╌╌┼╌╌╌╌╌╌╌╌╌╌╌╌╌╌╌╌╌╌╌╌╌╌╌╌╌╌╌╌╌╌╌╌┼╌╌╌╌╌╌╌╌╌╌╌╌╌╌╌╌╌╌╌╌╌╌╌╌╌╌╌╌╌╌╌╌┤\n",
       "│ Shandra Shamas    ┆ true    ┆ Shaggie  ┆ https://live.staticflickr.com… ┆ b\"\\xff\\xd8\\xff\\xe0\\x00\\x10JFI… │\n",
       "├╌╌╌╌╌╌╌╌╌╌╌╌╌╌╌╌╌╌╌┼╌╌╌╌╌╌╌╌╌┼╌╌╌╌╌╌╌╌╌╌┼╌╌╌╌╌╌╌╌╌╌╌╌╌╌╌╌╌╌╌╌╌╌╌╌╌╌╌╌╌╌╌╌┼╌╌╌╌╌╌╌╌╌╌╌╌╌╌╌╌╌╌╌╌╌╌╌╌╌╌╌╌╌╌╌╌┤\n",
       "│ Zaya Zaphora      ┆ true    ┆ Zadie    ┆ https://live.staticflickr.com… ┆ b\"\\xff\\xd8\\xff\\xe0\\x00\\x10JFI… │\n",
       "╰───────────────────┴─────────┴──────────┴────────────────────────────────┴────────────────────────────────╯\n",
       "\n",
       "(Showing first 5 of 5 rows)"
      ]
     },
     "metadata": {},
     "output_type": "display_data"
    }
   ],
   "source": [
    "df_family = df_family.with_column(\"image_bytes\", df_dogs[\"urls\"].url.download(on_error=\"null\"))\n",
    "df_family.show()"
   ]
  },
  {
   "cell_type": "markdown",
   "metadata": {},
   "source": [
    "Great! But where's the fluffiness? 🙁\n",
    "\n",
    "Let's turn the bytes into human-readable images using `image.decode`:"
   ]
  },
  {
   "cell_type": "code",
   "execution_count": 23,
   "metadata": {},
   "outputs": [
    {
     "data": {
      "text/html": [
       "<div>\n",
       "<table class=\"dataframe\">\n",
       "<thead><tr><th style=\"text-wrap: nowrap; max-width:192px; overflow:auto; text-align:left\">full_name<br />Utf8</th><th style=\"text-wrap: nowrap; max-width:192px; overflow:auto; text-align:left\">has_dog<br />Boolean</th><th style=\"text-wrap: nowrap; max-width:192px; overflow:auto; text-align:left\">dog_name<br />Utf8</th><th style=\"text-wrap: nowrap; max-width:192px; overflow:auto; text-align:left\">urls<br />Utf8</th><th style=\"text-wrap: nowrap; max-width:192px; overflow:auto; text-align:left\">image_bytes<br />Binary</th><th style=\"text-wrap: nowrap; max-width:192px; overflow:auto; text-align:left\">image<br />Image[MIXED]</th></tr></thead>\n",
       "<tbody>\n",
       "<tr><td><div style=\"text-align:left; max-width:192px; max-height:64px; overflow:auto\">Ernesto Evergreen</div></td><td><div style=\"text-align:left; max-width:192px; max-height:64px; overflow:auto\">true</div></td><td><div style=\"text-align:left; max-width:192px; max-height:64px; overflow:auto\">Ernie</div></td><td><div style=\"text-align:left; max-width:192px; max-height:64px; overflow:auto\">https://live.staticflickr.com/65535/53671838774_03ba68d203_o.jpg</div></td><td><div style=\"text-align:left; max-width:192px; max-height:64px; overflow:auto\">b\"\\xff\\xd8\\xff\\xe0\\x00\\x10JFIF\\x00\\x01\"...</div></td><td><div style=\"text-align:left; max-width:192px; max-height:64px; overflow:auto\"><img style=\"max-height:128px;width:auto\" src=\"data:image/png;base64, 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\" alt=\"<Image>\" /></div></td></tr>\n",
       "<tr><td><div style=\"text-align:left; max-width:192px; max-height:64px; overflow:auto\">James Jale</div></td><td><div style=\"text-align:left; max-width:192px; max-height:64px; overflow:auto\">true</div></td><td><div style=\"text-align:left; max-width:192px; max-height:64px; overflow:auto\">Jackie</div></td><td><div style=\"text-align:left; max-width:192px; max-height:64px; overflow:auto\">https://live.staticflickr.com/65535/53671700073_2c9441422e_o.jpg</div></td><td><div style=\"text-align:left; max-width:192px; max-height:64px; overflow:auto\">b\"\\xff\\xd8\\xff\\xe0\\x00\\x10JFIF\\x00\\x01\"...</div></td><td><div style=\"text-align:left; max-width:192px; max-height:64px; overflow:auto\"><img style=\"max-height:128px;width:auto\" src=\"data:image/png;base64, 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\" alt=\"<Image>\" /></div></td></tr>\n",
       "<tr><td><div style=\"text-align:left; max-width:192px; max-height:64px; overflow:auto\">Wolfgang Winter</div></td><td><div style=\"text-align:left; max-width:192px; max-height:64px; overflow:auto\">true</div></td><td><div style=\"text-align:left; max-width:192px; max-height:64px; overflow:auto\">Wolfie</div></td><td><div style=\"text-align:left; max-width:192px; max-height:64px; overflow:auto\">https://live.staticflickr.com/65535/53670606332_1ea5f2ce68_o.jpg</div></td><td><div style=\"text-align:left; max-width:192px; max-height:64px; overflow:auto\">b\"\\xff\\xd8\\xff\\xe0\\x00\\x10JFIF\\x00\\x01\"...</div></td><td><div style=\"text-align:left; max-width:192px; max-height:64px; overflow:auto\"><img style=\"max-height:128px;width:auto\" src=\"data:image/png;base64, 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\" alt=\"<Image>\" /></div></td></tr>\n",
       "<tr><td><div style=\"text-align:left; max-width:192px; max-height:64px; overflow:auto\">Shandra Shamas</div></td><td><div style=\"text-align:left; max-width:192px; max-height:64px; overflow:auto\">true</div></td><td><div style=\"text-align:left; max-width:192px; max-height:64px; overflow:auto\">Shaggie</div></td><td><div style=\"text-align:left; max-width:192px; max-height:64px; overflow:auto\">https://live.staticflickr.com/65535/53671838039_b97411a441_o.jpg</div></td><td><div style=\"text-align:left; max-width:192px; max-height:64px; overflow:auto\">b\"\\xff\\xd8\\xff\\xe0\\x00\\x10JFIF\\x00\\x01\"...</div></td><td><div style=\"text-align:left; max-width:192px; max-height:64px; overflow:auto\"><img style=\"max-height:128px;width:auto\" src=\"data:image/png;base64, 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\" alt=\"<Image>\" /></div></td></tr>\n",
       "<tr><td><div style=\"text-align:left; max-width:192px; max-height:64px; overflow:auto\">Zaya Zaphora</div></td><td><div style=\"text-align:left; max-width:192px; max-height:64px; overflow:auto\">true</div></td><td><div style=\"text-align:left; max-width:192px; max-height:64px; overflow:auto\">Zadie</div></td><td><div style=\"text-align:left; max-width:192px; max-height:64px; overflow:auto\">https://live.staticflickr.com/65535/53671698613_0230f8af3c_o.jpg</div></td><td><div style=\"text-align:left; max-width:192px; max-height:64px; overflow:auto\">b\"\\xff\\xd8\\xff\\xe0\\x00\\x10JFIF\\x00\\x01\"...</div></td><td><div style=\"text-align:left; max-width:192px; max-height:64px; overflow:auto\"><img style=\"max-height:128px;width:auto\" src=\"data:image/png;base64, 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\" alt=\"<Image>\" /></div></td></tr>\n",
       "</tbody>\n",
       "</table>\n",
       "<small>(Showing first 5 of 5 rows)</small>\n",
       "</div>"
      ],
      "text/plain": [
       "╭───────────────────┬─────────┬──────────┬───────────────────────────────┬──────────────────────────────┬──────────────╮\n",
       "│ full_name         ┆ has_dog ┆ dog_name ┆ urls                          ┆ image_bytes                  ┆ image        │\n",
       "│ ---               ┆ ---     ┆ ---      ┆ ---                           ┆ ---                          ┆ ---          │\n",
       "│ Utf8              ┆ Boolean ┆ Utf8     ┆ Utf8                          ┆ Binary                       ┆ Image[MIXED] │\n",
       "╞═══════════════════╪═════════╪══════════╪═══════════════════════════════╪══════════════════════════════╪══════════════╡\n",
       "│ Ernesto Evergreen ┆ true    ┆ Ernie    ┆ https://live.staticflickr.com ┆ b\"\\xff\\xd8\\xff\\xe0\\x00\\x10JF ┆ <Image>      │\n",
       "│                   ┆         ┆          ┆ …                             ┆ I…                           ┆              │\n",
       "├╌╌╌╌╌╌╌╌╌╌╌╌╌╌╌╌╌╌╌┼╌╌╌╌╌╌╌╌╌┼╌╌╌╌╌╌╌╌╌╌┼╌╌╌╌╌╌╌╌╌╌╌╌╌╌╌╌╌╌╌╌╌╌╌╌╌╌╌╌╌╌╌┼╌╌╌╌╌╌╌╌╌╌╌╌╌╌╌╌╌╌╌╌╌╌╌╌╌╌╌╌╌╌┼╌╌╌╌╌╌╌╌╌╌╌╌╌╌┤\n",
       "│ James Jale        ┆ true    ┆ Jackie   ┆ https://live.staticflickr.com ┆ b\"\\xff\\xd8\\xff\\xe0\\x00\\x10JF ┆ <Image>      │\n",
       "│                   ┆         ┆          ┆ …                             ┆ I…                           ┆              │\n",
       "├╌╌╌╌╌╌╌╌╌╌╌╌╌╌╌╌╌╌╌┼╌╌╌╌╌╌╌╌╌┼╌╌╌╌╌╌╌╌╌╌┼╌╌╌╌╌╌╌╌╌╌╌╌╌╌╌╌╌╌╌╌╌╌╌╌╌╌╌╌╌╌╌┼╌╌╌╌╌╌╌╌╌╌╌╌╌╌╌╌╌╌╌╌╌╌╌╌╌╌╌╌╌╌┼╌╌╌╌╌╌╌╌╌╌╌╌╌╌┤\n",
       "│ Wolfgang Winter   ┆ true    ┆ Wolfie   ┆ https://live.staticflickr.com ┆ b\"\\xff\\xd8\\xff\\xe0\\x00\\x10JF ┆ <Image>      │\n",
       "│                   ┆         ┆          ┆ …                             ┆ I…                           ┆              │\n",
       "├╌╌╌╌╌╌╌╌╌╌╌╌╌╌╌╌╌╌╌┼╌╌╌╌╌╌╌╌╌┼╌╌╌╌╌╌╌╌╌╌┼╌╌╌╌╌╌╌╌╌╌╌╌╌╌╌╌╌╌╌╌╌╌╌╌╌╌╌╌╌╌╌┼╌╌╌╌╌╌╌╌╌╌╌╌╌╌╌╌╌╌╌╌╌╌╌╌╌╌╌╌╌╌┼╌╌╌╌╌╌╌╌╌╌╌╌╌╌┤\n",
       "│ Shandra Shamas    ┆ true    ┆ Shaggie  ┆ https://live.staticflickr.com ┆ b\"\\xff\\xd8\\xff\\xe0\\x00\\x10JF ┆ <Image>      │\n",
       "│                   ┆         ┆          ┆ …                             ┆ I…                           ┆              │\n",
       "├╌╌╌╌╌╌╌╌╌╌╌╌╌╌╌╌╌╌╌┼╌╌╌╌╌╌╌╌╌┼╌╌╌╌╌╌╌╌╌╌┼╌╌╌╌╌╌╌╌╌╌╌╌╌╌╌╌╌╌╌╌╌╌╌╌╌╌╌╌╌╌╌┼╌╌╌╌╌╌╌╌╌╌╌╌╌╌╌╌╌╌╌╌╌╌╌╌╌╌╌╌╌╌┼╌╌╌╌╌╌╌╌╌╌╌╌╌╌┤\n",
       "│ Zaya Zaphora      ┆ true    ┆ Zadie    ┆ https://live.staticflickr.com ┆ b\"\\xff\\xd8\\xff\\xe0\\x00\\x10JF ┆ <Image>      │\n",
       "│                   ┆         ┆          ┆ …                             ┆ I…                           ┆              │\n",
       "╰───────────────────┴─────────┴──────────┴───────────────────────────────┴──────────────────────────────┴──────────────╯\n",
       "\n",
       "(Showing first 5 of 5 rows)"
      ]
     },
     "metadata": {},
     "output_type": "display_data"
    }
   ],
   "source": [
    "df_family = df_family.with_column(\"image\", daft.col(\"image_bytes\").image.decode())\n",
    "df_family.show()"
   ]
  },
  {
   "cell_type": "markdown",
   "metadata": {},
   "source": [
    "Woof! 🐶"
   ]
  },
  {
   "cell_type": "markdown",
   "metadata": {},
   "source": [
    "### User-Defined Functions\n",
    "\n",
    "See: [UDF User Guide](user_guide/udf)"
   ]
  },
  {
   "cell_type": "markdown",
   "metadata": {},
   "source": [
    "You can use User-Defined Functions (UDFs) to run computations over multiple rows or columns."
   ]
  },
  {
   "cell_type": "markdown",
   "metadata": {},
   "source": [
    "As the final part of this Quickstart, you'll build a Machine Learning model to classify our new fluffy friends by breed. \n",
    "\n",
    "Daft enables you to do all this right within our DataFrame, using UDFs. \n",
    "\n",
    "### ML Workloads\n",
    "\n",
    "We'll define a function that uses a pre-trained PyTorch model: [ResNet50](https://pytorch.org/vision/main/models/generated/torchvision.models.resnet50.html) to classify the dog pictures. We'll pass the contents of the image `urls` column and send the classification predictions to a new column `classify_breed`."
   ]
  },
  {
   "cell_type": "markdown",
   "metadata": {},
   "source": [
    "Working with PyTorch adds some complexity but you can just run the cells below to perform the classification.\n",
    "\n",
    "First, make sure to install and import some extra dependencies:"
   ]
  },
  {
   "cell_type": "code",
   "execution_count": null,
   "metadata": {
    "scrolled": true
   },
   "outputs": [],
   "source": [
    "%pip install validators matplotlib Pillow torch torchvision"
   ]
  },
  {
   "cell_type": "code",
   "execution_count": 24,
   "metadata": {},
   "outputs": [],
   "source": [
    "# import additional libraries, these are necessary for PyTorch\n",
    "\n",
    "import torch"
   ]
  },
  {
   "cell_type": "markdown",
   "metadata": {},
   "source": [
    "Then, go ahead and define your `ClassifyImages` UDF. \n",
    "\n",
    "Models are expensive to initialize and load, so we want to do this as few times as possible, and share a model across multiple invocations."
   ]
  },
  {
   "cell_type": "code",
   "execution_count": 25,
   "metadata": {},
   "outputs": [],
   "source": [
    "@udf(return_dtype=DataType.fixed_size_list(dtype=DataType.string(), size=2))\n",
    "class ClassifyImages:\n",
    "    def __init__(self):\n",
    "        # Perform expensive initializations - create and load the pre-trained model\n",
    "        self.model = torch.hub.load(\"NVIDIA/DeepLearningExamples:torchhub\", \"nvidia_resnet50\", pretrained=True)\n",
    "        self.utils = torch.hub.load(\"NVIDIA/DeepLearningExamples:torchhub\", \"nvidia_convnets_processing_utils\")\n",
    "        self.model.eval().to(torch.device(\"cpu\"))\n",
    "\n",
    "    def __call__(self, images_urls):\n",
    "        uris = images_urls.to_pylist()\n",
    "        batch = torch.cat([self.utils.prepare_input_from_uri(uri) for uri in uris]).to(torch.device(\"cpu\"))\n",
    "\n",
    "        with torch.no_grad():\n",
    "            output = torch.nn.functional.softmax(self.model(batch), dim=1)\n",
    "\n",
    "        results = self.utils.pick_n_best(predictions=output, n=1)\n",
    "        return [result[0] for result in results]"
   ]
  },
  {
   "cell_type": "markdown",
   "metadata": {},
   "source": [
    "Nice, now you're all set to call this function on the `urls` column and store the outputs in a new column we'll call `classify breeds`:"
   ]
  },
  {
   "cell_type": "code",
   "execution_count": 26,
   "metadata": {},
   "outputs": [
    {
     "data": {
      "text/html": [
       "<div>\n",
       "<table class=\"dataframe\">\n",
       "<thead><tr><th style=\"text-wrap: nowrap; max-width:192px; overflow:auto; text-align:left\">dog_name<br />Utf8</th><th style=\"text-wrap: nowrap; max-width:192px; overflow:auto; text-align:left\">image<br />Image[MIXED]</th><th style=\"text-wrap: nowrap; max-width:192px; overflow:auto; text-align:left\">classify_breed<br />FixedSizeList[Utf8; 2]</th></tr></thead>\n",
       "<tbody>\n",
       "<tr><td><div style=\"text-align:left; max-width:192px; max-height:64px; overflow:auto\">Ernie</div></td><td><div style=\"text-align:left; max-width:192px; max-height:64px; overflow:auto\"><img style=\"max-height:128px;width:auto\" src=\"data:image/png;base64, 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\" alt=\"<Image>\" /></div></td><td><div style=\"text-align:left; max-width:192px; max-height:64px; overflow:auto\">[boxer, 52.3%]</div></td></tr>\n",
       "<tr><td><div style=\"text-align:left; max-width:192px; max-height:64px; overflow:auto\">Jackie</div></td><td><div style=\"text-align:left; max-width:192px; max-height:64px; overflow:auto\"><img style=\"max-height:128px;width:auto\" src=\"data:image/png;base64, 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\" alt=\"<Image>\" /></div></td><td><div style=\"text-align:left; max-width:192px; max-height:64px; overflow:auto\">[American Staffordshire terrier, Staffordshire terrier, American pit bull terrier, pit bull terrier, 42.4%]</div></td></tr>\n",
       "<tr><td><div style=\"text-align:left; max-width:192px; max-height:64px; overflow:auto\">Wolfie</div></td><td><div style=\"text-align:left; max-width:192px; max-height:64px; overflow:auto\"><img style=\"max-height:128px;width:auto\" src=\"data:image/png;base64, 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\" alt=\"<Image>\" /></div></td><td><div style=\"text-align:left; max-width:192px; max-height:64px; overflow:auto\">[collie, 49.6%]</div></td></tr>\n",
       "<tr><td><div style=\"text-align:left; max-width:192px; max-height:64px; overflow:auto\">Shaggie</div></td><td><div style=\"text-align:left; max-width:192px; max-height:64px; overflow:auto\"><img style=\"max-height:128px;width:auto\" src=\"data:image/png;base64, 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\" alt=\"<Image>\" /></div></td><td><div style=\"text-align:left; max-width:192px; max-height:64px; overflow:auto\">[standard schnauzer, 29.6%]</div></td></tr>\n",
       "<tr><td><div style=\"text-align:left; max-width:192px; max-height:64px; overflow:auto\">Zadie</div></td><td><div style=\"text-align:left; max-width:192px; max-height:64px; overflow:auto\"><img style=\"max-height:128px;width:auto\" src=\"data:image/png;base64, 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\" alt=\"<Image>\" /></div></td><td><div style=\"text-align:left; max-width:192px; max-height:64px; overflow:auto\">[Rottweiler, 78.6%]</div></td></tr>\n",
       "</tbody>\n",
       "</table>\n",
       "<small>(Showing first 5 of 5 rows)</small>\n",
       "</div>"
      ],
      "text/plain": [
       "╭──────────┬──────────────┬────────────────────────────────╮\n",
       "│ dog_name ┆ image        ┆ classify_breed                 │\n",
       "│ ---      ┆ ---          ┆ ---                            │\n",
       "│ Utf8     ┆ Image[MIXED] ┆ FixedSizeList[Utf8; 2]         │\n",
       "╞══════════╪══════════════╪════════════════════════════════╡\n",
       "│ Ernie    ┆ <Image>      ┆ [boxer, 52.3%]                 │\n",
       "├╌╌╌╌╌╌╌╌╌╌┼╌╌╌╌╌╌╌╌╌╌╌╌╌╌┼╌╌╌╌╌╌╌╌╌╌╌╌╌╌╌╌╌╌╌╌╌╌╌╌╌╌╌╌╌╌╌╌┤\n",
       "│ Jackie   ┆ <Image>      ┆ [American Staffordshire terri… │\n",
       "├╌╌╌╌╌╌╌╌╌╌┼╌╌╌╌╌╌╌╌╌╌╌╌╌╌┼╌╌╌╌╌╌╌╌╌╌╌╌╌╌╌╌╌╌╌╌╌╌╌╌╌╌╌╌╌╌╌╌┤\n",
       "│ Wolfie   ┆ <Image>      ┆ [collie, 49.6%]                │\n",
       "├╌╌╌╌╌╌╌╌╌╌┼╌╌╌╌╌╌╌╌╌╌╌╌╌╌┼╌╌╌╌╌╌╌╌╌╌╌╌╌╌╌╌╌╌╌╌╌╌╌╌╌╌╌╌╌╌╌╌┤\n",
       "│ Shaggie  ┆ <Image>      ┆ [standard schnauzer, 29.6%]    │\n",
       "├╌╌╌╌╌╌╌╌╌╌┼╌╌╌╌╌╌╌╌╌╌╌╌╌╌┼╌╌╌╌╌╌╌╌╌╌╌╌╌╌╌╌╌╌╌╌╌╌╌╌╌╌╌╌╌╌╌╌┤\n",
       "│ Zadie    ┆ <Image>      ┆ [Rottweiler, 78.6%]            │\n",
       "╰──────────┴──────────────┴────────────────────────────────╯\n",
       "\n",
       "(Showing first 5 of 5 rows)"
      ]
     },
     "metadata": {},
     "output_type": "display_data"
    }
   ],
   "source": [
    "classified_images_df = df_family.with_column(\"classify_breed\", ClassifyImages(daft.col(\"urls\")))\n",
    "\n",
    "classified_images_df.select(\"dog_name\", \"image\", \"classify_breed\").show()"
   ]
  },
  {
   "cell_type": "markdown",
   "metadata": {},
   "source": [
    "Nice work!\n",
    "\n",
    "It looks like our pre-trained model is more familiar with some specific breeds. You could do further work to fine-tune this model to improve performance."
   ]
  },
  {
   "attachments": {},
   "cell_type": "markdown",
   "metadata": {},
   "source": [
    "## Writing Data\n",
    "\n",
    "See: [Writing Data](df-writing-data)\n",
    "\n",
    "Writing data will execute your DataFrame and write the results out to the specified backend. For example, to write data out to Parquet with {meth}`df.write_parquet() <daft.DataFrame.write_parquet>`:\n"
   ]
  },
  {
   "cell_type": "code",
   "execution_count": 39,
   "metadata": {
    "tags": []
   },
   "outputs": [
    {
     "name": "stderr",
     "output_type": "stream",
     "text": [
      "                                                                   \r"
     ]
    }
   ],
   "source": [
    "written_df = df.write_parquet(\"my-dataframe.parquet\")"
   ]
  },
  {
   "attachments": {},
   "cell_type": "markdown",
   "metadata": {},
   "source": [
    "Note that writing your dataframe is a **blocking** operation that executes your DataFrame. It will return a new `DataFrame` that contains the filepaths to the written data:"
   ]
  },
  {
   "cell_type": "code",
   "execution_count": 40,
   "metadata": {
    "tags": []
   },
   "outputs": [
    {
     "data": {
      "text/html": [
       "<div>\n",
       "<table class=\"dataframe\">\n",
       "<thead><tr><th style=\"text-wrap: nowrap; max-width:192px; overflow:auto; text-align:left\">path<br />Utf8</th></tr></thead>\n",
       "<tbody>\n",
       "<tr><td><div style=\"text-align:left; max-width:192px; max-height:64px; overflow:auto\">my-dataframe.parquet/36bdcc36-9fec-4be8-b22e-a792cc5c6c4c-0.parquet</div></td></tr>\n",
       "</tbody>\n",
       "</table>\n",
       "<small>(Showing first 1 of 1 rows)</small>\n",
       "</div>"
      ],
      "text/plain": [
       "╭────────────────────────────────╮\n",
       "│ path                           │\n",
       "│ ---                            │\n",
       "│ Utf8                           │\n",
       "╞════════════════════════════════╡\n",
       "│ my-dataframe.parquet/36bdcc36… │\n",
       "╰────────────────────────────────╯\n",
       "\n",
       "(Showing first 1 of 1 rows)"
      ]
     },
     "execution_count": 40,
     "metadata": {},
     "output_type": "execute_result"
    }
   ],
   "source": [
    "written_df"
   ]
  },
  {
   "cell_type": "markdown",
   "metadata": {},
   "source": [
    "## What's Next?\n",
    "\n",
    "Now that you have a basic sense of Daft's functionality and features, take a look at some of the other resources to help you get the most out of Daft:\n",
    "\n",
    "- [The Daft User Guide](/user_guide/index.rst) for more information on specific topics\n",
    "- Hands-on Tutorials in Google Colab on:\n",
    "   - Image Classification\n",
    "   - NLP Similarity Search / Vector Embedding\n",
    "   - Querying Images\n",
    "   - Image Generation with GPUs\n",
    "\n",
    "\n",
    "### Contributing\n",
    "Excited about Daft and want to contribute? Join us [on Github](https://github.com/Eventual-Inc/Daft) 🚀"
   ]
  }
 ],
 "metadata": {
  "kernelspec": {
   "display_name": "venv",
   "language": "python",
   "name": "python3"
  },
  "language_info": {
   "codemirror_mode": {
    "name": "ipython",
    "version": 3
   },
   "file_extension": ".py",
   "mimetype": "text/x-python",
   "name": "python",
   "nbconvert_exporter": "python",
   "pygments_lexer": "ipython3",
   "version": "3.11.8"
  }
 },
 "nbformat": 4,
 "nbformat_minor": 4
}
