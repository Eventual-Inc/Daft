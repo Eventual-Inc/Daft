{
 "cells": [
  {
   "cell_type": "markdown",
   "id": "d39cf84f",
   "metadata": {},
   "source": [
    "# Nulls in DataFrames\n"
   ]
  },
  {
   "cell_type": "markdown",
   "id": "2566ed53",
   "metadata": {},
   "source": [
    "## What is `NULL`?\n",
    "\n",
    "Before we start comparing various DataFrame Frameworks and Databases, we should first define what `NULL` is.\n",
    "\n",
    "The answer actually depends on who you ask.\n",
    "\n",
    "If you asked:\n",
    " * A Mathematician: They would probably point you to the [Null Set](https://en.wikipedia.org/wiki/Null_set)\n",
    " * A Programmer:  A null pointer or null reference is a value saved for indicating that the pointer or reference does not refer to a valid object. Which is the case for Static Typed langauges like C/C++ as well as Dynamic ones like Python where it is called `None`. [Wikipedia](https://en.wikipedia.org/wiki/Null_pointer)\n",
    " * A Database Geek: `NULL` is a special marker used to indicate that a data value does not exist. [Wikipedia](https://en.wikipedia.org/wiki/Null_(SQL))\n",
    " \n",
    " \n",
    "The latter two definitions are the ones relevent to us. \n",
    "\n",
    "At first glance the Programmer's definition and the Database Geek's seem like the same thing and for many years I thought they were. However there's actually some deep implications using them interchangeably especially now that we use tools like Python DataFrame libaries such as Pandas, Spark and Daft, where databases would historically be used.\n",
    "\n",
    "\n",
    "I think Kenneth Baclawski summarized the difference beautifully in his [write up](https://arxiv.org/html/1606.00740v1) on this topic:\n",
    "\n",
    "*The main distinction between the relational null and the programming language null is the following: The relational null represents the absence of a value in a field of a record; whereas the programming language null represents one of the possible values of a variable. Succinctly,*\n",
    "\n",
    "***The programming language null is a value but database null is not a value.*** \n",
    "\n",
    "*Consequently, the phrase \"null value\" is an oxymoron for databases.*"
   ]
  },
  {
   "cell_type": "markdown",
   "id": "417755f8",
   "metadata": {},
   "source": [
    "## Who is affect by this?\n",
    "\n",
    "It matters if you want to deal with missing data!\n",
    "\n",
    "Dealing with missing data is fairly common and can happen for a variety of reasons including that data actually being missing, doing left/right joins or doing a certain types of groupbys.\n",
    "\n",
    "The problem however is that DataFrames sit in this awkward spot between Databases and Programming. So which Null should they use and what should the behavior be?\n"
   ]
  },
  {
   "cell_type": "markdown",
   "id": "9de0f8e3",
   "metadata": {},
   "source": [
    "## Where does it matter?\n",
    "\n",
    "In the following example, we go into a case where we have a dataset of movies and their review score. \n",
    "\n",
    "A new movie that just came out would be unreviewed and would be considered as missing data.\n",
    "\n",
    "Let's consider the following schema for this dataset:\n",
    "\n",
    "| title (string) | year (int) |  score (float)|\n",
    "|---|---|---|\n"
   ]
  },
  {
   "cell_type": "markdown",
   "id": "77e45f03",
   "metadata": {},
   "source": [
    "### SQLite Example\n",
    "\n",
    "Let's load a mini-dataset into SQLite of all valid data and see what it looks like!\n",
    "\n",
    "#### Without Nulls"
   ]
  },
  {
   "cell_type": "code",
   "execution_count": 1,
   "id": "6cd9f93c",
   "metadata": {},
   "outputs": [
    {
     "name": "stdout",
     "output_type": "stream",
     "text": [
      "[('Monty Python Live at the Hollywood Bowl', 1982, 7.9),\n",
      " (\"Monty Python's Life of Brian\", 1979, 8.0)]\n"
     ]
    }
   ],
   "source": [
    "import sqlite3\n",
    "import tempfile \n",
    "from pprint import pprint\n",
    "\n",
    "tfile = tempfile.mkstemp()[1]\n",
    "con = sqlite3.connect(f\"{tfile}.db\")\n",
    "cur = con.cursor()\n",
    "\n",
    "# Create table with the schema defined above\n",
    "cur.execute(\"CREATE TABLE movie(title, year, score)\")\n",
    "\n",
    "# Historical Movies\n",
    "data = [\n",
    "    (\"Monty Python Live at the Hollywood Bowl\", 1982, 7.9),\n",
    "    (\"Monty Python's The Meaning of Life\", 1983, 7.5),\n",
    "    (\"Monty Python's Life of Brian\", 1979, 8.0),\n",
    "\n",
    "]\n",
    "\n",
    "cur.executemany(\"INSERT INTO movie VALUES(?, ?, ?)\", data)\n",
    "con.commit()\n",
    "\n",
    "pprint(cur.execute(\n",
    "    \"SELECT * FROM movie where score != 7.5;\"\n",
    ").fetchall())"
   ]
  },
  {
   "cell_type": "markdown",
   "id": "3f2a2deb",
   "metadata": {},
   "source": [
    "#### Now let's throw some Nulls in!"
   ]
  },
  {
   "cell_type": "code",
   "execution_count": 2,
   "id": "fc541067",
   "metadata": {},
   "outputs": [
    {
     "name": "stdout",
     "output_type": "stream",
     "text": [
      "[('Monty Python Live at the Hollywood Bowl', 1982, 7.9),\n",
      " (\"Monty Python's Life of Brian\", 1979, 8.0)]\n"
     ]
    }
   ],
   "source": [
    "new_movie_without_a_rating = (\n",
    "    \"Monty Python's NULL adventure\", 2022, None\n",
    ")\n",
    "cur.execute(\"INSERT INTO movie VALUES(?, ?, ?)\", \n",
    "            new_movie_without_a_rating)\n",
    "con.commit()\n",
    "\n",
    "pprint(cur.execute(\n",
    "    \"SELECT * FROM movie where score != 7.5;\"\n",
    ").fetchall())"
   ]
  },
  {
   "cell_type": "markdown",
   "id": "17528ba9",
   "metadata": {},
   "source": [
    "### Pandas Example\n",
    "\n",
    "#### Let's load our dataset into Pandas now"
   ]
  },
  {
   "cell_type": "code",
   "execution_count": 3,
   "id": "c1c9a9ca",
   "metadata": {},
   "outputs": [
    {
     "data": {
      "text/html": [
       "<div>\n",
       "<style scoped>\n",
       "    .dataframe tbody tr th:only-of-type {\n",
       "        vertical-align: middle;\n",
       "    }\n",
       "\n",
       "    .dataframe tbody tr th {\n",
       "        vertical-align: top;\n",
       "    }\n",
       "\n",
       "    .dataframe thead th {\n",
       "        text-align: right;\n",
       "    }\n",
       "</style>\n",
       "<table border=\"1\" class=\"dataframe\">\n",
       "  <thead>\n",
       "    <tr style=\"text-align: right;\">\n",
       "      <th></th>\n",
       "      <th>title</th>\n",
       "      <th>year</th>\n",
       "      <th>score</th>\n",
       "    </tr>\n",
       "  </thead>\n",
       "  <tbody>\n",
       "    <tr>\n",
       "      <th>0</th>\n",
       "      <td>Monty Python Live at the Hollywood Bowl</td>\n",
       "      <td>1982</td>\n",
       "      <td>7.9</td>\n",
       "    </tr>\n",
       "    <tr>\n",
       "      <th>1</th>\n",
       "      <td>Monty Python's The Meaning of Life</td>\n",
       "      <td>1983</td>\n",
       "      <td>7.5</td>\n",
       "    </tr>\n",
       "    <tr>\n",
       "      <th>2</th>\n",
       "      <td>Monty Python's Life of Brian</td>\n",
       "      <td>1979</td>\n",
       "      <td>8.0</td>\n",
       "    </tr>\n",
       "    <tr>\n",
       "      <th>3</th>\n",
       "      <td>Monty Python's NULL adventure</td>\n",
       "      <td>2022</td>\n",
       "      <td>NaN</td>\n",
       "    </tr>\n",
       "  </tbody>\n",
       "</table>\n",
       "</div>"
      ],
      "text/plain": [
       "                                     title  year  score\n",
       "0  Monty Python Live at the Hollywood Bowl  1982    7.9\n",
       "1       Monty Python's The Meaning of Life  1983    7.5\n",
       "2             Monty Python's Life of Brian  1979    8.0\n",
       "3            Monty Python's NULL adventure  2022    NaN"
      ]
     },
     "execution_count": 3,
     "metadata": {},
     "output_type": "execute_result"
    }
   ],
   "source": [
    "import pandas as pd\n",
    "df = pd.read_sql_query('SELECT * from movie;', con)\n",
    "\n",
    "df"
   ]
  },
  {
   "cell_type": "markdown",
   "id": "93b067f9",
   "metadata": {},
   "source": [
    "#### And run the same `where` as before"
   ]
  },
  {
   "cell_type": "code",
   "execution_count": 4,
   "id": "d27fddbd",
   "metadata": {},
   "outputs": [
    {
     "data": {
      "text/html": [
       "<div>\n",
       "<style scoped>\n",
       "    .dataframe tbody tr th:only-of-type {\n",
       "        vertical-align: middle;\n",
       "    }\n",
       "\n",
       "    .dataframe tbody tr th {\n",
       "        vertical-align: top;\n",
       "    }\n",
       "\n",
       "    .dataframe thead th {\n",
       "        text-align: right;\n",
       "    }\n",
       "</style>\n",
       "<table border=\"1\" class=\"dataframe\">\n",
       "  <thead>\n",
       "    <tr style=\"text-align: right;\">\n",
       "      <th></th>\n",
       "      <th>title</th>\n",
       "      <th>year</th>\n",
       "      <th>score</th>\n",
       "    </tr>\n",
       "  </thead>\n",
       "  <tbody>\n",
       "    <tr>\n",
       "      <th>0</th>\n",
       "      <td>Monty Python Live at the Hollywood Bowl</td>\n",
       "      <td>1982</td>\n",
       "      <td>7.9</td>\n",
       "    </tr>\n",
       "    <tr>\n",
       "      <th>2</th>\n",
       "      <td>Monty Python's Life of Brian</td>\n",
       "      <td>1979</td>\n",
       "      <td>8.0</td>\n",
       "    </tr>\n",
       "    <tr>\n",
       "      <th>3</th>\n",
       "      <td>Monty Python's NULL adventure</td>\n",
       "      <td>2022</td>\n",
       "      <td>NaN</td>\n",
       "    </tr>\n",
       "  </tbody>\n",
       "</table>\n",
       "</div>"
      ],
      "text/plain": [
       "                                     title  year  score\n",
       "0  Monty Python Live at the Hollywood Bowl  1982    7.9\n",
       "2             Monty Python's Life of Brian  1979    8.0\n",
       "3            Monty Python's NULL adventure  2022    NaN"
      ]
     },
     "execution_count": 4,
     "metadata": {},
     "output_type": "execute_result"
    }
   ],
   "source": [
    "df[df['score'] != 7.5]\n"
   ]
  },
  {
   "cell_type": "markdown",
   "id": "636f9a27",
   "metadata": {},
   "source": [
    "#### We get a different result!! Why?\n",
    "\n",
    "Pandas default behavior treats Nulls/Nones as a value rather than a marker suggested by the SQL standard.\n",
    "\n",
    "Pandas here is using the programming Null rather than the database Null!"
   ]
  },
  {
   "cell_type": "code",
   "execution_count": 5,
   "id": "1f7d0699",
   "metadata": {},
   "outputs": [
    {
     "data": {
      "text/plain": [
       "False"
      ]
     },
     "execution_count": 5,
     "metadata": {},
     "output_type": "execute_result"
    }
   ],
   "source": [
    "df['score'].iloc[-1] == 7.5"
   ]
  },
  {
   "cell_type": "markdown",
   "id": "54e2ee34",
   "metadata": {},
   "source": [
    "#### How do I fix this?\n",
    "\n",
    "Pandas actually can support proper Nulls but it is not enabled by default!"
   ]
  },
  {
   "cell_type": "code",
   "execution_count": 15,
   "id": "1ccde93f",
   "metadata": {},
   "outputs": [
    {
     "data": {
      "text/plain": [
       "0     1.0\n",
       "1     7.5\n",
       "2     8.0\n",
       "3    <NA>\n",
       "dtype: Float64"
      ]
     },
     "execution_count": 15,
     "metadata": {},
     "output_type": "execute_result"
    }
   ],
   "source": [
    "score_with_null = pd.Series([1, 7.5, 8.0, None], dtype='Float64')\n",
    "score_with_null"
   ]
  },
  {
   "cell_type": "code",
   "execution_count": 17,
   "id": "82fc648d",
   "metadata": {},
   "outputs": [
    {
     "data": {
      "text/plain": [
       "<NA>"
      ]
     },
     "execution_count": 17,
     "metadata": {},
     "output_type": "execute_result"
    }
   ],
   "source": [
    "score_with_null.iloc[-1] == 7.5"
   ]
  },
  {
   "cell_type": "code",
   "execution_count": 22,
   "id": "407bf292",
   "metadata": {},
   "outputs": [
    {
     "data": {
      "text/plain": [
       "<NA>"
      ]
     },
     "execution_count": 22,
     "metadata": {},
     "output_type": "execute_result"
    }
   ],
   "source": [
    "score_with_null.iloc[-1] == float('nan')"
   ]
  },
  {
   "cell_type": "markdown",
   "id": "0418d67b",
   "metadata": {},
   "source": [
    "This supports a null result rather than a boolean value!\n",
    "\n",
    "Now let's swap out the `float` Series with a `Float` Series"
   ]
  },
  {
   "cell_type": "code",
   "execution_count": 18,
   "id": "dd26e51f",
   "metadata": {},
   "outputs": [],
   "source": [
    "df['score'] = score_with_null"
   ]
  },
  {
   "cell_type": "code",
   "execution_count": 19,
   "id": "41f6e1cd",
   "metadata": {
    "collapsed": true
   },
   "outputs": [
    {
     "data": {
      "text/html": [
       "<div>\n",
       "<style scoped>\n",
       "    .dataframe tbody tr th:only-of-type {\n",
       "        vertical-align: middle;\n",
       "    }\n",
       "\n",
       "    .dataframe tbody tr th {\n",
       "        vertical-align: top;\n",
       "    }\n",
       "\n",
       "    .dataframe thead th {\n",
       "        text-align: right;\n",
       "    }\n",
       "</style>\n",
       "<table border=\"1\" class=\"dataframe\">\n",
       "  <thead>\n",
       "    <tr style=\"text-align: right;\">\n",
       "      <th></th>\n",
       "      <th>title</th>\n",
       "      <th>year</th>\n",
       "      <th>score</th>\n",
       "    </tr>\n",
       "  </thead>\n",
       "  <tbody>\n",
       "    <tr>\n",
       "      <th>0</th>\n",
       "      <td>Monty Python Live at the Hollywood Bowl</td>\n",
       "      <td>1982</td>\n",
       "      <td>1.0</td>\n",
       "    </tr>\n",
       "    <tr>\n",
       "      <th>2</th>\n",
       "      <td>Monty Python's Life of Brian</td>\n",
       "      <td>1979</td>\n",
       "      <td>8.0</td>\n",
       "    </tr>\n",
       "  </tbody>\n",
       "</table>\n",
       "</div>"
      ],
      "text/plain": [
       "                                     title  year  score\n",
       "0  Monty Python Live at the Hollywood Bowl  1982    1.0\n",
       "2             Monty Python's Life of Brian  1979    8.0"
      ]
     },
     "execution_count": 19,
     "metadata": {},
     "output_type": "execute_result"
    }
   ],
   "source": [
    "df[df['score'] != 7.5]"
   ]
  },
  {
   "cell_type": "markdown",
   "id": "b408746d",
   "metadata": {},
   "source": [
    "But how could I start with the right way!"
   ]
  },
  {
   "cell_type": "code",
   "execution_count": 20,
   "id": "ac739731",
   "metadata": {
    "scrolled": false
   },
   "outputs": [
    {
     "data": {
      "text/html": [
       "<div>\n",
       "<style scoped>\n",
       "    .dataframe tbody tr th:only-of-type {\n",
       "        vertical-align: middle;\n",
       "    }\n",
       "\n",
       "    .dataframe tbody tr th {\n",
       "        vertical-align: top;\n",
       "    }\n",
       "\n",
       "    .dataframe thead th {\n",
       "        text-align: right;\n",
       "    }\n",
       "</style>\n",
       "<table border=\"1\" class=\"dataframe\">\n",
       "  <thead>\n",
       "    <tr style=\"text-align: right;\">\n",
       "      <th></th>\n",
       "      <th>title</th>\n",
       "      <th>year</th>\n",
       "      <th>score</th>\n",
       "    </tr>\n",
       "  </thead>\n",
       "  <tbody>\n",
       "    <tr>\n",
       "      <th>0</th>\n",
       "      <td>Monty Python Live at the Hollywood Bowl</td>\n",
       "      <td>1982</td>\n",
       "      <td>7.9</td>\n",
       "    </tr>\n",
       "    <tr>\n",
       "      <th>1</th>\n",
       "      <td>Monty Python's The Meaning of Life</td>\n",
       "      <td>1983</td>\n",
       "      <td>7.5</td>\n",
       "    </tr>\n",
       "    <tr>\n",
       "      <th>2</th>\n",
       "      <td>Monty Python's Life of Brian</td>\n",
       "      <td>1979</td>\n",
       "      <td>8.0</td>\n",
       "    </tr>\n",
       "    <tr>\n",
       "      <th>3</th>\n",
       "      <td>Monty Python's NULL adventure</td>\n",
       "      <td>2022</td>\n",
       "      <td>&lt;NA&gt;</td>\n",
       "    </tr>\n",
       "  </tbody>\n",
       "</table>\n",
       "</div>"
      ],
      "text/plain": [
       "                                     title  year  score\n",
       "0  Monty Python Live at the Hollywood Bowl  1982    7.9\n",
       "1       Monty Python's The Meaning of Life  1983    7.5\n",
       "2             Monty Python's Life of Brian  1979    8.0\n",
       "3            Monty Python's NULL adventure  2022   <NA>"
      ]
     },
     "execution_count": 20,
     "metadata": {},
     "output_type": "execute_result"
    }
   ],
   "source": [
    "df = pd.read_sql_query('SELECT * from movie;', con, dtype={'score': 'Float64'})\n",
    "\n",
    "df"
   ]
  },
  {
   "cell_type": "code",
   "execution_count": null,
   "id": "c955fd82",
   "metadata": {},
   "outputs": [],
   "source": []
  },
  {
   "cell_type": "markdown",
   "id": "53209449",
   "metadata": {},
   "source": [
    "### Thank you and please checkout https://getdaft.io for an Awesome Distributed DataFrame Library!\n",
    "\n",
    "#### Github Stars are appreciated! "
   ]
  },
  {
   "cell_type": "code",
   "execution_count": null,
   "id": "c01e51ac",
   "metadata": {},
   "outputs": [],
   "source": []
  }
 ],
 "metadata": {
  "kernelspec": {
   "display_name": "Python 3 (ipykernel)",
   "language": "python",
   "name": "python3"
  },
  "language_info": {
   "codemirror_mode": {
    "name": "ipython",
    "version": 3
   },
   "file_extension": ".py",
   "mimetype": "text/x-python",
   "name": "python",
   "nbconvert_exporter": "python",
   "pygments_lexer": "ipython3",
   "version": "3.9.13"
  }
 },
 "nbformat": 4,
 "nbformat_minor": 5
}
