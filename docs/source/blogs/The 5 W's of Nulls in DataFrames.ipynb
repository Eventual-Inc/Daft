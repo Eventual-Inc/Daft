{
 "cells": [
  {
   "cell_type": "markdown",
   "id": "99320961",
   "metadata": {},
   "source": [
    "# Handling Nulls in Data\n",
    "\n",
    "Something something about how this is learnings about building a DataFrame Library"
   ]
  },
  {
   "cell_type": "markdown",
   "id": "b1194a8a",
   "metadata": {},
   "source": [
    "## What is `NULL`?\n",
    "\n",
    "Before we start comparing various DataFrame Frameworks and Databases, we should first define what `NULL` is.\n",
    "\n",
    "The answer actually depends on who you ask.\n",
    "\n",
    "If you asked:\n",
    " * A Mathematician: They would probably point you to the [Null Set](https://en.wikipedia.org/wiki/Null_set)\n",
    " * A Programmer:  A null pointer or null reference is a value saved for indicating that the pointer or reference does not refer to a valid object. Which is the case for Static Typed langauges like C/C++ as well as Dynamic ones like Python where it is called `None`. [Wikipedia](https://en.wikipedia.org/wiki/Null_pointer)\n",
    " * A Database Geek: `NULL` is a special marker used to indicate that a data value does not exist. [Wikipedia](https://en.wikipedia.org/wiki/Null_(SQL))\n",
    " \n",
    " \n",
    "The latter two definitions are the ones relevent to us. \n",
    "\n",
    "At first glance the Programmer's definition and the Database Geek's seem like the same thing and for many years I thought they were. However there's actually some deep implications using them interchangeably especially now that we use tools like Python DataFrame libaries such as Pandas, Spark and Daft, where databases would historically be used.\n",
    "\n",
    "\n",
    "I think Kenneth Baclawski summarized the difference beautifully in his [write up](https://arxiv.org/html/1606.00740v1) on this topic:\n",
    "\n",
    "*The main distinction between the relational null and the programming language null is the following: The relational null represents the absence of a value in a field of a record; whereas the programming language null represents one of the possible values of a variable. Succinctly,*\n",
    "\n",
    "***The programming language null is a value but database null is not a value.*** \n",
    "\n",
    "*Consequently, the phrase \"null value\" is an oxymoron for databases.*"
   ]
  },
  {
   "cell_type": "markdown",
   "id": "cfc104a2",
   "metadata": {},
   "source": [
    "## Who is affect by this?\n",
    "\n",
    "It matters if you want to deal with missing data! Dealing with missing data is fairly common and can happen for a variety of reasons. In the following example, we go into a case where we have a dataset of movies and their review score. A new movie that just came out would be unreviewed and not have a score yet.\n",
    "\n",
    "The problem however is that DataFrames sit in this awkward spot between Databases and Programming. So which Null should they use and what should the behavior be?\n"
   ]
  },
  {
   "cell_type": "markdown",
   "id": "bba779d4",
   "metadata": {},
   "source": [
    "## Where does it matter?"
   ]
  },
  {
   "cell_type": "code",
   "execution_count": 1,
   "id": "a6f2a26a",
   "metadata": {},
   "outputs": [],
   "source": [
    "import sqlite3\n",
    "from tempfile import TemporaryFile\n",
    "\n",
    "\n",
    "tfile = TemporaryFile()\n",
    "con = sqlite3.connect(f\"{tfile}.db\")\n",
    "cur = con.cursor()\n",
    "cur.execute(\"CREATE TABLE movie(title, year, score)\")\n",
    "\n",
    "data = [\n",
    "    (\"Monty Python Live at the Hollywood Bowl\", 1982, 7.9),\n",
    "    (\"Monty Python's The Meaning of Life\", 1983, 7.5),\n",
    "    (\"Monty Python's Life of Brian\", 1979, 8.0),\n",
    "\n",
    "]\n",
    "cur.executemany(\"INSERT INTO movie VALUES(?, ?, ?)\", data)\n",
    "con.commit()\n"
   ]
  },
  {
   "cell_type": "code",
   "execution_count": 9,
   "id": "0e3081c1",
   "metadata": {},
   "outputs": [
    {
     "data": {
      "text/plain": [
       "[(1,), (0,), (1,), (None,)]"
      ]
     },
     "execution_count": 9,
     "metadata": {},
     "output_type": "execute_result"
    }
   ],
   "source": [
    "cur.execute(\"SELECT score != 7.5 FROM movie;\").fetchall()"
   ]
  },
  {
   "cell_type": "code",
   "execution_count": 10,
   "id": "c4c38e82",
   "metadata": {},
   "outputs": [],
   "source": [
    "\n",
    "new_movie_without_a_rating = (\"Monty Python's Really cool NULL adventure\", 2022, None)\n",
    "cur.execute(\"INSERT INTO movie VALUES(?, ?, ?)\", new_movie_without_a_rating)\n",
    "con.commit()"
   ]
  },
  {
   "cell_type": "code",
   "execution_count": 11,
   "id": "0f209939",
   "metadata": {},
   "outputs": [
    {
     "data": {
      "text/plain": [
       "[(1,), (0,), (1,), (None,), (None,)]"
      ]
     },
     "execution_count": 11,
     "metadata": {},
     "output_type": "execute_result"
    }
   ],
   "source": [
    "cur.execute(\"SELECT score != 7.5 FROM movie;\").fetchall()"
   ]
  },
  {
   "cell_type": "code",
   "execution_count": 16,
   "id": "51db1ae7",
   "metadata": {},
   "outputs": [],
   "source": [
    "pd.read_sql_query?"
   ]
  },
  {
   "cell_type": "code",
   "execution_count": 20,
   "id": "2eff3c28",
   "metadata": {},
   "outputs": [],
   "source": [
    "import pandas as pd\n",
    "df = pd.read_sql_query('SELECT * from movie;', con, dtype={'title': str, 'year': 'Int64'})"
   ]
  },
  {
   "cell_type": "code",
   "execution_count": 18,
   "id": "487c2fc2",
   "metadata": {},
   "outputs": [
    {
     "data": {
      "text/html": [
       "<div>\n",
       "<style scoped>\n",
       "    .dataframe tbody tr th:only-of-type {\n",
       "        vertical-align: middle;\n",
       "    }\n",
       "\n",
       "    .dataframe tbody tr th {\n",
       "        vertical-align: top;\n",
       "    }\n",
       "\n",
       "    .dataframe thead th {\n",
       "        text-align: right;\n",
       "    }\n",
       "</style>\n",
       "<table border=\"1\" class=\"dataframe\">\n",
       "  <thead>\n",
       "    <tr style=\"text-align: right;\">\n",
       "      <th></th>\n",
       "      <th>title</th>\n",
       "      <th>year</th>\n",
       "      <th>score</th>\n",
       "    </tr>\n",
       "  </thead>\n",
       "  <tbody>\n",
       "    <tr>\n",
       "      <th>0</th>\n",
       "      <td>Monty Python Live at the Hollywood Bowl</td>\n",
       "      <td>1982</td>\n",
       "      <td>7.9</td>\n",
       "    </tr>\n",
       "    <tr>\n",
       "      <th>2</th>\n",
       "      <td>Monty Python's Life of Brian</td>\n",
       "      <td>1979</td>\n",
       "      <td>8.0</td>\n",
       "    </tr>\n",
       "    <tr>\n",
       "      <th>3</th>\n",
       "      <td>Monty Python's Really cool NULL adventure</td>\n",
       "      <td>2022</td>\n",
       "      <td>NaN</td>\n",
       "    </tr>\n",
       "    <tr>\n",
       "      <th>4</th>\n",
       "      <td>Monty Python's Really cool NULL adventure</td>\n",
       "      <td>2022</td>\n",
       "      <td>NaN</td>\n",
       "    </tr>\n",
       "  </tbody>\n",
       "</table>\n",
       "</div>"
      ],
      "text/plain": [
       "                                       title  year  score\n",
       "0    Monty Python Live at the Hollywood Bowl  1982    7.9\n",
       "2               Monty Python's Life of Brian  1979    8.0\n",
       "3  Monty Python's Really cool NULL adventure  2022    NaN\n",
       "4  Monty Python's Really cool NULL adventure  2022    NaN"
      ]
     },
     "execution_count": 18,
     "metadata": {},
     "output_type": "execute_result"
    }
   ],
   "source": [
    "df[df['score'] != 7.5]"
   ]
  },
  {
   "cell_type": "code",
   "execution_count": null,
   "id": "0cf94492",
   "metadata": {},
   "outputs": [],
   "source": [
    "df['score'] != 7.5"
   ]
  },
  {
   "cell_type": "code",
   "execution_count": null,
   "id": "a9b0f3f4",
   "metadata": {},
   "outputs": [],
   "source": [
    "tfile.close()"
   ]
  },
  {
   "cell_type": "code",
   "execution_count": null,
   "id": "5e17ef13",
   "metadata": {},
   "outputs": [],
   "source": [
    "import pandas as pd"
   ]
  },
  {
   "cell_type": "code",
   "execution_count": null,
   "id": "6b0a0548",
   "metadata": {},
   "outputs": [],
   "source": [
    "x = pd.Series([float('inf')]) "
   ]
  },
  {
   "cell_type": "code",
   "execution_count": null,
   "id": "26a59092",
   "metadata": {},
   "outputs": [],
   "source": [
    "x * 0"
   ]
  },
  {
   "cell_type": "code",
   "execution_count": null,
   "id": "fda18904",
   "metadata": {},
   "outputs": [],
   "source": [
    "None != 7.9"
   ]
  },
  {
   "cell_type": "code",
   "execution_count": null,
   "id": "20cc27c6",
   "metadata": {},
   "outputs": [],
   "source": [
    "a: int"
   ]
  },
  {
   "cell_type": "code",
   "execution_count": null,
   "id": "34c7e215",
   "metadata": {},
   "outputs": [],
   "source": [
    "a"
   ]
  },
  {
   "cell_type": "code",
   "execution_count": null,
   "id": "5663e21f",
   "metadata": {},
   "outputs": [],
   "source": []
  },
  {
   "cell_type": "code",
   "execution_count": null,
   "id": "129ea9c9",
   "metadata": {},
   "outputs": [],
   "source": []
  }
 ],
 "metadata": {
  "kernelspec": {
   "display_name": "Python 3 (ipykernel)",
   "language": "python",
   "name": "python3"
  },
  "language_info": {
   "codemirror_mode": {
    "name": "ipython",
    "version": 3
   },
   "file_extension": ".py",
   "mimetype": "text/x-python",
   "name": "python",
   "nbconvert_exporter": "python",
   "pygments_lexer": "ipython3",
   "version": "3.9.13"
  }
 },
 "nbformat": 4,
 "nbformat_minor": 5
}
