{
 "cells": [
  {
   "attachments": {},
   "cell_type": "markdown",
   "metadata": {},
   "source": [
    "```{hint}\n",
    "✨✨✨ **Run this notebook on Google Colab** ✨✨✨\n",
    "\n",
    "You can [run this notebook yourself with Google Colab](https://colab.research.google.com/github/Eventual-Inc/Daft/blob/main/docs/source/10-min.ipynb)!\n",
    "```"
   ]
  },
  {
   "attachments": {},
   "cell_type": "markdown",
   "metadata": {},
   "source": [
    "# 10 minutes Quickstart\n",
    "\n",
    "This is a short introduction to all the main functionality in Daft, geared towards new users.\n",
    "\n",
    "## What is Daft?\n",
    "Daft is a distributed query engine built for running ETL, analytics, and ML/AI workloads at scale. Daft is implemented in Rust (fast!) and exposes a familiar Python dataframe API (friendly!). \n",
    "\n",
    "In this Quickstart you will learn the basics of Daft’s familiar DataFrame API and the features that set it apart from frameworks like pandas, pySpark, Dask and Ray. You will build a small database of dog owners and their fluffy companions and see how you can use Daft to download images from URLs, run an ML classifier and call custom UDFs, all within an interactive DataFrame interface. Woof! 🐶\n",
    "\n",
    "## When Should I use Daft?\n",
    "\n",
    "Daft is the right tool for you if you are working with any of the following:\n",
    "- **Large datasets** that don't fit into memory or would benefit from parallelization\n",
    "- **Multimodal data types** such as images, JSON, vector embeddings, and tensors\n",
    "- **Formats that support data skipping** through automatic partition pruning and stats-based file pruning for filter predicates\n",
    "- **ML workloads** that would benefit from interactive computation within DataFrame (via UDFs)\n",
    "\n",
    "Read more about how Daft compares to other DataFrames [here](https://www.getdaft.io/projects/docs/en/latest/faq/dataframe_comparison.html).\n",
    "\n",
    "Let's jump in! 🪂"
   ]
  },
  {
   "cell_type": "markdown",
   "metadata": {},
   "source": [
    "## Install and Import Daft\n",
    "\n",
    "You can install Daft using `pip`:"
   ]
  },
  {
   "cell_type": "code",
   "execution_count": 1,
   "metadata": {
    "scrolled": true
   },
   "outputs": [
    {
     "name": "stdout",
     "output_type": "stream",
     "text": [
      "Requirement already satisfied: getdaft in /Users/rpelgrim/miniforge3/envs/daft/lib/python3.11/site-packages (0.2.19)\n",
      "Collecting getdaft\n",
      "  Using cached getdaft-0.2.20-cp37-abi3-macosx_11_0_arm64.whl.metadata (10 kB)\n",
      "Requirement already satisfied: pyarrow>=6.0.1 in /Users/rpelgrim/miniforge3/envs/daft/lib/python3.11/site-packages (from getdaft) (15.0.2)\n",
      "Requirement already satisfied: fsspec[http] in /Users/rpelgrim/miniforge3/envs/daft/lib/python3.11/site-packages (from getdaft) (2024.3.1)\n",
      "Requirement already satisfied: tqdm in /Users/rpelgrim/miniforge3/envs/daft/lib/python3.11/site-packages (from getdaft) (4.66.2)\n",
      "Requirement already satisfied: numpy<2,>=1.16.6 in /Users/rpelgrim/miniforge3/envs/daft/lib/python3.11/site-packages (from pyarrow>=6.0.1->getdaft) (1.26.4)\n",
      "Requirement already satisfied: aiohttp!=4.0.0a0,!=4.0.0a1 in /Users/rpelgrim/miniforge3/envs/daft/lib/python3.11/site-packages (from fsspec[http]->getdaft) (3.9.3)\n",
      "Requirement already satisfied: aiosignal>=1.1.2 in /Users/rpelgrim/miniforge3/envs/daft/lib/python3.11/site-packages (from aiohttp!=4.0.0a0,!=4.0.0a1->fsspec[http]->getdaft) (1.3.1)\n",
      "Requirement already satisfied: attrs>=17.3.0 in /Users/rpelgrim/miniforge3/envs/daft/lib/python3.11/site-packages (from aiohttp!=4.0.0a0,!=4.0.0a1->fsspec[http]->getdaft) (23.2.0)\n",
      "Requirement already satisfied: frozenlist>=1.1.1 in /Users/rpelgrim/miniforge3/envs/daft/lib/python3.11/site-packages (from aiohttp!=4.0.0a0,!=4.0.0a1->fsspec[http]->getdaft) (1.4.1)\n",
      "Requirement already satisfied: multidict<7.0,>=4.5 in /Users/rpelgrim/miniforge3/envs/daft/lib/python3.11/site-packages (from aiohttp!=4.0.0a0,!=4.0.0a1->fsspec[http]->getdaft) (6.0.5)\n",
      "Requirement already satisfied: yarl<2.0,>=1.0 in /Users/rpelgrim/miniforge3/envs/daft/lib/python3.11/site-packages (from aiohttp!=4.0.0a0,!=4.0.0a1->fsspec[http]->getdaft) (1.9.4)\n",
      "Requirement already satisfied: idna>=2.0 in /Users/rpelgrim/miniforge3/envs/daft/lib/python3.11/site-packages (from yarl<2.0,>=1.0->aiohttp!=4.0.0a0,!=4.0.0a1->fsspec[http]->getdaft) (3.6)\n",
      "Downloading getdaft-0.2.20-cp37-abi3-macosx_11_0_arm64.whl (17.5 MB)\n",
      "\u001b[2K   \u001b[38;2;114;156;31m━━━━━━━━━━━━━━━━━━━━━━━━━━━━━━━━━━━━━━━━\u001b[0m \u001b[32m17.5/17.5 MB\u001b[0m \u001b[31m243.0 kB/s\u001b[0m eta \u001b[36m0:00:00\u001b[0mm eta \u001b[36m0:00:01\u001b[0m[36m0:00:02\u001b[0m\n",
      "\u001b[?25hInstalling collected packages: getdaft\n",
      "  Attempting uninstall: getdaft\n",
      "    Found existing installation: getdaft 0.2.19\n",
      "    Uninstalling getdaft-0.2.19:\n",
      "      Successfully uninstalled getdaft-0.2.19\n",
      "Successfully installed getdaft-0.2.20\n"
     ]
    }
   ],
   "source": [
    "!pip install -U getdaft"
   ]
  },
  {
   "cell_type": "markdown",
   "metadata": {},
   "source": [
    "And then import Daft and one of its classes which we'll need later on:"
   ]
  },
  {
   "cell_type": "code",
   "execution_count": 1,
   "metadata": {
    "tags": []
   },
   "outputs": [],
   "source": [
    "import daft\n",
    "from daft import DataType"
   ]
  },
  {
   "cell_type": "markdown",
   "metadata": {},
   "source": [
    "## Create your first Daft DataFrame\n",
    "\n",
    "See also: [API Reference: DataFrame Construction](df-input-output)\n",
    "\n",
    "To begin, let's create a DataFrame from a dictionary of columns:"
   ]
  },
  {
   "cell_type": "code",
   "execution_count": 2,
   "metadata": {},
   "outputs": [
    {
     "data": {
      "text/html": [
       "<div>\n",
       "<table class=\"dataframe\">\n",
       "<thead><tr><th style=\"text-wrap: nowrap; max-width:192px; overflow:auto; text-align:left\">integers<br />Int64</th><th style=\"text-wrap: nowrap; max-width:192px; overflow:auto; text-align:left\">floats<br />Float64</th><th style=\"text-wrap: nowrap; max-width:192px; overflow:auto; text-align:left\">bools<br />Boolean</th><th style=\"text-wrap: nowrap; max-width:192px; overflow:auto; text-align:left\">strings<br />Utf8</th><th style=\"text-wrap: nowrap; max-width:192px; overflow:auto; text-align:left\">bytes<br />Binary</th><th style=\"text-wrap: nowrap; max-width:192px; overflow:auto; text-align:left\">dates<br />Date</th><th style=\"text-wrap: nowrap; max-width:192px; overflow:auto; text-align:left\">lists<br />List[Int64]</th><th style=\"text-wrap: nowrap; max-width:192px; overflow:auto; text-align:left\">nulls<br />Null</th></tr></thead>\n",
       "<tbody>\n",
       "<tr><td><div style=\"text-align:left; max-width:192px; max-height:64px; overflow:auto\">1</div></td><td><div style=\"text-align:left; max-width:192px; max-height:64px; overflow:auto\">1.5</div></td><td><div style=\"text-align:left; max-width:192px; max-height:64px; overflow:auto\">true</div></td><td><div style=\"text-align:left; max-width:192px; max-height:64px; overflow:auto\">a</div></td><td><div style=\"text-align:left; max-width:192px; max-height:64px; overflow:auto\">b\"a\"</div></td><td><div style=\"text-align:left; max-width:192px; max-height:64px; overflow:auto\">1994-01-01</div></td><td><div style=\"text-align:left; max-width:192px; max-height:64px; overflow:auto\">[1, 1, 1]</div></td><td><div style=\"text-align:left; max-width:192px; max-height:64px; overflow:auto\">None</div></td></tr>\n",
       "<tr><td><div style=\"text-align:left; max-width:192px; max-height:64px; overflow:auto\">2</div></td><td><div style=\"text-align:left; max-width:192px; max-height:64px; overflow:auto\">2.5</div></td><td><div style=\"text-align:left; max-width:192px; max-height:64px; overflow:auto\">true</div></td><td><div style=\"text-align:left; max-width:192px; max-height:64px; overflow:auto\">b</div></td><td><div style=\"text-align:left; max-width:192px; max-height:64px; overflow:auto\">b\"b\"</div></td><td><div style=\"text-align:left; max-width:192px; max-height:64px; overflow:auto\">1994-01-02</div></td><td><div style=\"text-align:left; max-width:192px; max-height:64px; overflow:auto\">[2, 2, 2]</div></td><td><div style=\"text-align:left; max-width:192px; max-height:64px; overflow:auto\">None</div></td></tr>\n",
       "<tr><td><div style=\"text-align:left; max-width:192px; max-height:64px; overflow:auto\">3</div></td><td><div style=\"text-align:left; max-width:192px; max-height:64px; overflow:auto\">3.5</div></td><td><div style=\"text-align:left; max-width:192px; max-height:64px; overflow:auto\">false</div></td><td><div style=\"text-align:left; max-width:192px; max-height:64px; overflow:auto\">c</div></td><td><div style=\"text-align:left; max-width:192px; max-height:64px; overflow:auto\">b\"c\"</div></td><td><div style=\"text-align:left; max-width:192px; max-height:64px; overflow:auto\">1994-01-03</div></td><td><div style=\"text-align:left; max-width:192px; max-height:64px; overflow:auto\">[3, 3, 3]</div></td><td><div style=\"text-align:left; max-width:192px; max-height:64px; overflow:auto\">None</div></td></tr>\n",
       "<tr><td><div style=\"text-align:left; max-width:192px; max-height:64px; overflow:auto\">4</div></td><td><div style=\"text-align:left; max-width:192px; max-height:64px; overflow:auto\">4.5</div></td><td><div style=\"text-align:left; max-width:192px; max-height:64px; overflow:auto\">false</div></td><td><div style=\"text-align:left; max-width:192px; max-height:64px; overflow:auto\">d</div></td><td><div style=\"text-align:left; max-width:192px; max-height:64px; overflow:auto\">b\"d\"</div></td><td><div style=\"text-align:left; max-width:192px; max-height:64px; overflow:auto\">1994-01-04</div></td><td><div style=\"text-align:left; max-width:192px; max-height:64px; overflow:auto\">[4, 4, 4]</div></td><td><div style=\"text-align:left; max-width:192px; max-height:64px; overflow:auto\">None</div></td></tr>\n",
       "</tbody>\n",
       "</table>\n",
       "<small>(Showing first 4 of 4 rows)</small>\n",
       "</div>"
      ],
      "text/plain": [
       "╭──────────┬─────────┬─────────┬────────────┬────────────┬─────────────┬───────╮\n",
       "│ integers ┆ floats  ┆ bools   ┆      …     ┆ dates      ┆ lists       ┆ nulls │\n",
       "│ ---      ┆ ---     ┆ ---     ┆            ┆ ---        ┆ ---         ┆ ---   │\n",
       "│ Int64    ┆ Float64 ┆ Boolean ┆ (2 hidden) ┆ Date       ┆ List[Int64] ┆ Null  │\n",
       "╞══════════╪═════════╪═════════╪════════════╪════════════╪═════════════╪═══════╡\n",
       "│ 1        ┆ 1.5     ┆ true    ┆ …          ┆ 1994-01-01 ┆ [1, 1, 1]   ┆ None  │\n",
       "├╌╌╌╌╌╌╌╌╌╌┼╌╌╌╌╌╌╌╌╌┼╌╌╌╌╌╌╌╌╌┼╌╌╌╌╌╌╌╌╌╌╌╌┼╌╌╌╌╌╌╌╌╌╌╌╌┼╌╌╌╌╌╌╌╌╌╌╌╌╌┼╌╌╌╌╌╌╌┤\n",
       "│ 2        ┆ 2.5     ┆ true    ┆ …          ┆ 1994-01-02 ┆ [2, 2, 2]   ┆ None  │\n",
       "├╌╌╌╌╌╌╌╌╌╌┼╌╌╌╌╌╌╌╌╌┼╌╌╌╌╌╌╌╌╌┼╌╌╌╌╌╌╌╌╌╌╌╌┼╌╌╌╌╌╌╌╌╌╌╌╌┼╌╌╌╌╌╌╌╌╌╌╌╌╌┼╌╌╌╌╌╌╌┤\n",
       "│ 3        ┆ 3.5     ┆ false   ┆ …          ┆ 1994-01-03 ┆ [3, 3, 3]   ┆ None  │\n",
       "├╌╌╌╌╌╌╌╌╌╌┼╌╌╌╌╌╌╌╌╌┼╌╌╌╌╌╌╌╌╌┼╌╌╌╌╌╌╌╌╌╌╌╌┼╌╌╌╌╌╌╌╌╌╌╌╌┼╌╌╌╌╌╌╌╌╌╌╌╌╌┼╌╌╌╌╌╌╌┤\n",
       "│ 4        ┆ 4.5     ┆ false   ┆ …          ┆ 1994-01-04 ┆ [4, 4, 4]   ┆ None  │\n",
       "╰──────────┴─────────┴─────────┴────────────┴────────────┴─────────────┴───────╯\n",
       "\n",
       "(Showing first 4 of 4 rows)"
      ]
     },
     "execution_count": 2,
     "metadata": {},
     "output_type": "execute_result"
    }
   ],
   "source": [
    "import datetime\n",
    "\n",
    "df = daft.from_pydict({\n",
    "    \"integers\": [1, 2, 3, 4],\n",
    "    \"floats\": [1.5, 2.5, 3.5, 4.5],\n",
    "    \"bools\": [True, True, False, False],\n",
    "    \"strings\": [\"a\", \"b\", \"c\", \"d\"],\n",
    "    \"bytes\": [b\"a\", b\"b\", b\"c\", b\"d\"],\n",
    "    \"dates\": [datetime.date(1994, 1, 1), datetime.date(1994, 1, 2), datetime.date(1994, 1, 3), datetime.date(1994, 1, 4)],\n",
    "    \"lists\": [[1, 1, 1], [2, 2, 2], [3, 3, 3], [4, 4, 4]],\n",
    "    \"nulls\": [None, None, None, None],\n",
    "})\n",
    "\n",
    "df"
   ]
  },
  {
   "cell_type": "markdown",
   "metadata": {},
   "source": [
    "### Multimodal Data Types"
   ]
  },
  {
   "cell_type": "markdown",
   "metadata": {},
   "source": [
    "Daft is built for multimodal data type support. Daft DataFrames can contain more data types than other DataFrame APIs like pandas, Spark or Dask. Daft columns can contain URLs, images, tensors and Python classes. You'll get to work with some of these data types in a moment.\n",
    "\n",
    "For a complete list of supported data types see: [API Reference: DataTypes](datatypes)"
   ]
  },
  {
   "cell_type": "markdown",
   "metadata": {},
   "source": [
    "### Data Sources\n",
    "\n",
    "You can also load DataFrames from other sources, such as:\n",
    "\n",
    "1. CSV files: {func}`daft.read_csv(\"s3://bucket/*.csv\") <daft.read_csv>`\n",
    "2. Parquet files: {func}`daft.read_parquet(\"/path/*.parquet\") <daft.read_parquet>`\n",
    "3. JSON line-delimited files: {func}`daft.read_json(\"/path/*.parquet\") <daft.read_json>`\n",
    "4. Files on disk: {func}`daft.from_glob_path(\"/path/*.jpeg\") <daft.from_glob_path>`\n",
    "\n",
    "Daft automatically supports local paths as well as paths to object storage such as AWS S3:\n",
    "\n",
    "```\n",
    "df = daft.read_json(\"s3://path/to/bucket/file.jsonl)\n",
    "```\n",
    "\n",
    "See [User Guide: Integrations]() to learn more about working with other formats like Delta Lake and Iceberg."
   ]
  },
  {
   "cell_type": "markdown",
   "metadata": {},
   "source": [
    "## Who likes puppies? 😍🐶 "
   ]
  },
  {
   "cell_type": "markdown",
   "metadata": {},
   "source": [
    "Let's find some more fun data to work with :)\n",
    "\n",
    "We'll read in a Parquet file from a public S3 bucket. Note that this Parquet file is partitioned on the XX column. This will be important later on.\n",
    "- predicate pushdown filtering\n",
    "- parallel partition processing"
   ]
  },
  {
   "cell_type": "code",
   "execution_count": null,
   "metadata": {},
   "outputs": [],
   "source": [
    "# Read partitioned Parquet file from S3 \n",
    "# will show no contents >>"
   ]
  },
  {
   "cell_type": "code",
   "execution_count": 4,
   "metadata": {},
   "outputs": [
    {
     "data": {
      "text/html": [
       "<div>\n",
       "<table class=\"dataframe\">\n",
       "<thead><tr><th style=\"text-wrap: nowrap; max-width:192px; overflow:auto; text-align:left\">first_name<br />Utf8</th><th style=\"text-wrap: nowrap; max-width:192px; overflow:auto; text-align:left\">last_name<br />Utf8</th><th style=\"text-wrap: nowrap; max-width:192px; overflow:auto; text-align:left\">age<br />Int64</th><th style=\"text-wrap: nowrap; max-width:192px; overflow:auto; text-align:left\">DoB<br />Date</th><th style=\"text-wrap: nowrap; max-width:192px; overflow:auto; text-align:left\">country<br />Utf8</th><th style=\"text-wrap: nowrap; max-width:192px; overflow:auto; text-align:left\">has_dog<br />Boolean</th></tr></thead>\n",
       "<tbody>\n",
       "<tr><td><div style=\"text-align:left; max-width:192px; max-height:64px; overflow:auto\">Ernesto</div></td><td><div style=\"text-align:left; max-width:192px; max-height:64px; overflow:auto\">Evergreen</div></td><td><div style=\"text-align:left; max-width:192px; max-height:64px; overflow:auto\">34</div></td><td><div style=\"text-align:left; max-width:192px; max-height:64px; overflow:auto\">1990-04-03</div></td><td><div style=\"text-align:left; max-width:192px; max-height:64px; overflow:auto\">Canada</div></td><td><div style=\"text-align:left; max-width:192px; max-height:64px; overflow:auto\">true</div></td></tr>\n",
       "<tr><td><div style=\"text-align:left; max-width:192px; max-height:64px; overflow:auto\">Sari</div></td><td><div style=\"text-align:left; max-width:192px; max-height:64px; overflow:auto\">Salama</div></td><td><div style=\"text-align:left; max-width:192px; max-height:64px; overflow:auto\">57</div></td><td><div style=\"text-align:left; max-width:192px; max-height:64px; overflow:auto\">1967-01-02</div></td><td><div style=\"text-align:left; max-width:192px; max-height:64px; overflow:auto\">United Kingdom</div></td><td><div style=\"text-align:left; max-width:192px; max-height:64px; overflow:auto\">true</div></td></tr>\n",
       "<tr><td><div style=\"text-align:left; max-width:192px; max-height:64px; overflow:auto\">Wolfgang</div></td><td><div style=\"text-align:left; max-width:192px; max-height:64px; overflow:auto\">Winter</div></td><td><div style=\"text-align:left; max-width:192px; max-height:64px; overflow:auto\">23</div></td><td><div style=\"text-align:left; max-width:192px; max-height:64px; overflow:auto\">2001-02-12</div></td><td><div style=\"text-align:left; max-width:192px; max-height:64px; overflow:auto\">Germany</div></td><td><div style=\"text-align:left; max-width:192px; max-height:64px; overflow:auto\">false</div></td></tr>\n",
       "<tr><td><div style=\"text-align:left; max-width:192px; max-height:64px; overflow:auto\">Jackie</div></td><td><div style=\"text-align:left; max-width:192px; max-height:64px; overflow:auto\">Jale</div></td><td><div style=\"text-align:left; max-width:192px; max-height:64px; overflow:auto\">62</div></td><td><div style=\"text-align:left; max-width:192px; max-height:64px; overflow:auto\">1962-03-24</div></td><td><div style=\"text-align:left; max-width:192px; max-height:64px; overflow:auto\">Canada</div></td><td><div style=\"text-align:left; max-width:192px; max-height:64px; overflow:auto\">true</div></td></tr>\n",
       "<tr><td><div style=\"text-align:left; max-width:192px; max-height:64px; overflow:auto\">Zoya</div></td><td><div style=\"text-align:left; max-width:192px; max-height:64px; overflow:auto\">Zee</div></td><td><div style=\"text-align:left; max-width:192px; max-height:64px; overflow:auto\">40</div></td><td><div style=\"text-align:left; max-width:192px; max-height:64px; overflow:auto\">1984-04-07</div></td><td><div style=\"text-align:left; max-width:192px; max-height:64px; overflow:auto\">United Kingdom</div></td><td><div style=\"text-align:left; max-width:192px; max-height:64px; overflow:auto\">true</div></td></tr>\n",
       "</tbody>\n",
       "</table>\n",
       "<small>(Showing first 5 of 5 rows)</small>\n",
       "</div>"
      ],
      "text/plain": [
       "╭────────────┬───────────┬───────┬────────────┬────────────────┬─────────╮\n",
       "│ first_name ┆ last_name ┆ age   ┆ DoB        ┆ country        ┆ has_dog │\n",
       "│ ---        ┆ ---       ┆ ---   ┆ ---        ┆ ---            ┆ ---     │\n",
       "│ Utf8       ┆ Utf8      ┆ Int64 ┆ Date       ┆ Utf8           ┆ Boolean │\n",
       "╞════════════╪═══════════╪═══════╪════════════╪════════════════╪═════════╡\n",
       "│ Ernesto    ┆ Evergreen ┆ 34    ┆ 1990-04-03 ┆ Canada         ┆ true    │\n",
       "├╌╌╌╌╌╌╌╌╌╌╌╌┼╌╌╌╌╌╌╌╌╌╌╌┼╌╌╌╌╌╌╌┼╌╌╌╌╌╌╌╌╌╌╌╌┼╌╌╌╌╌╌╌╌╌╌╌╌╌╌╌╌┼╌╌╌╌╌╌╌╌╌┤\n",
       "│ Sari       ┆ Salama    ┆ 57    ┆ 1967-01-02 ┆ United Kingdom ┆ true    │\n",
       "├╌╌╌╌╌╌╌╌╌╌╌╌┼╌╌╌╌╌╌╌╌╌╌╌┼╌╌╌╌╌╌╌┼╌╌╌╌╌╌╌╌╌╌╌╌┼╌╌╌╌╌╌╌╌╌╌╌╌╌╌╌╌┼╌╌╌╌╌╌╌╌╌┤\n",
       "│ Wolfgang   ┆ Winter    ┆ 23    ┆ 2001-02-12 ┆ Germany        ┆ false   │\n",
       "├╌╌╌╌╌╌╌╌╌╌╌╌┼╌╌╌╌╌╌╌╌╌╌╌┼╌╌╌╌╌╌╌┼╌╌╌╌╌╌╌╌╌╌╌╌┼╌╌╌╌╌╌╌╌╌╌╌╌╌╌╌╌┼╌╌╌╌╌╌╌╌╌┤\n",
       "│ Jackie     ┆ Jale      ┆ 62    ┆ 1962-03-24 ┆ Canada         ┆ true    │\n",
       "├╌╌╌╌╌╌╌╌╌╌╌╌┼╌╌╌╌╌╌╌╌╌╌╌┼╌╌╌╌╌╌╌┼╌╌╌╌╌╌╌╌╌╌╌╌┼╌╌╌╌╌╌╌╌╌╌╌╌╌╌╌╌┼╌╌╌╌╌╌╌╌╌┤\n",
       "│ Zoya       ┆ Zee       ┆ 40    ┆ 1984-04-07 ┆ United Kingdom ┆ true    │\n",
       "╰────────────┴───────────┴───────┴────────────┴────────────────┴─────────╯\n",
       "\n",
       "(Showing first 5 of 5 rows)"
      ]
     },
     "execution_count": 4,
     "metadata": {},
     "output_type": "execute_result"
    }
   ],
   "source": [
    "df = daft.from_pydict({\n",
    "    \"first_name\": [\"Ernesto\", \"Sari\", \"Wolfgang\", \"Jackie\", \"Zoya\"],\n",
    "    \"last_name\":[\"Evergreen\", \"Salama\", \"Winter\", \"Jale\", \"Zee\"],\n",
    "    \"age\": [34, 57, 23, 62, 40],\n",
    "    \"DoB\": [datetime.date(1990,4,3), datetime.date(1967,1,2), datetime.date(2001,2,12), datetime.date(1962,3,24), datetime.date(1984,4,7)],\n",
    "    \"country\": [\"Canada\", \"United Kingdom\", \"Germany\", \"Canada\", \"United Kingdom\"],\n",
    "    \"has_dog\": [True, True, False, True, True],\n",
    "})\n",
    "\n",
    "df"
   ]
  },
  {
   "cell_type": "code",
   "execution_count": 5,
   "metadata": {
    "scrolled": true
   },
   "outputs": [
    {
     "name": "stderr",
     "output_type": "stream",
     "text": [
      "/Users/rpelgrim/miniforge3/envs/daft/lib/python3.11/site-packages/tqdm/auto.py:21: TqdmWarning: IProgress not found. Please update jupyter and ipywidgets. See https://ipywidgets.readthedocs.io/en/stable/user_install.html\n",
      "  from .autonotebook import tqdm as notebook_tqdm\n",
      "                                                                                                                         \r"
     ]
    },
    {
     "data": {
      "text/html": [
       "<div>\n",
       "<table class=\"dataframe\">\n",
       "<thead><tr><th style=\"text-wrap: nowrap; max-width:192px; overflow:auto; text-align:left\">path<br />Utf8</th><th style=\"text-wrap: nowrap; max-width:192px; overflow:auto; text-align:left\">country<br />Utf8</th></tr></thead>\n",
       "<tbody>\n",
       "<tr><td><div style=\"text-align:left; max-width:192px; max-height:64px; overflow:auto\">owners/country=Canada/5429d152-bc0b-4b5d-a8c0-4f678b6c2881-0.parquet</div></td><td><div style=\"text-align:left; max-width:192px; max-height:64px; overflow:auto\">Canada</div></td></tr>\n",
       "<tr><td><div style=\"text-align:left; max-width:192px; max-height:64px; overflow:auto\">owners/country=Germany/92e4b038-d29e-474c-a3fc-8c5e236f2982-0.parquet</div></td><td><div style=\"text-align:left; max-width:192px; max-height:64px; overflow:auto\">Germany</div></td></tr>\n",
       "<tr><td><div style=\"text-align:left; max-width:192px; max-height:64px; overflow:auto\">owners/country=United Kingdom/693165f7-ffe9-4cb0-9c8d-f40ad7e14e58-0.parquet</div></td><td><div style=\"text-align:left; max-width:192px; max-height:64px; overflow:auto\">United Kingdom</div></td></tr>\n",
       "</tbody>\n",
       "</table>\n",
       "<small>(Showing first 3 of 3 rows)</small>\n",
       "</div>"
      ],
      "text/plain": [
       "╭────────────────────────────────┬────────────────╮\n",
       "│ path                           ┆ country        │\n",
       "│ ---                            ┆ ---            │\n",
       "│ Utf8                           ┆ Utf8           │\n",
       "╞════════════════════════════════╪════════════════╡\n",
       "│ owners/country=Canada/5429d15… ┆ Canada         │\n",
       "├╌╌╌╌╌╌╌╌╌╌╌╌╌╌╌╌╌╌╌╌╌╌╌╌╌╌╌╌╌╌╌╌┼╌╌╌╌╌╌╌╌╌╌╌╌╌╌╌╌┤\n",
       "│ owners/country=Germany/92e4b0… ┆ Germany        │\n",
       "├╌╌╌╌╌╌╌╌╌╌╌╌╌╌╌╌╌╌╌╌╌╌╌╌╌╌╌╌╌╌╌╌┼╌╌╌╌╌╌╌╌╌╌╌╌╌╌╌╌┤\n",
       "│ owners/country=United Kingdom… ┆ United Kingdom │\n",
       "╰────────────────────────────────┴────────────────╯\n",
       "\n",
       "(Showing first 3 of 3 rows)"
      ]
     },
     "execution_count": 5,
     "metadata": {},
     "output_type": "execute_result"
    }
   ],
   "source": [
    "df.write_parquet(\"owners\", partition_cols=[\"country\"])"
   ]
  },
  {
   "cell_type": "code",
   "execution_count": 3,
   "metadata": {},
   "outputs": [
    {
     "data": {
      "text/html": [
       "<div>\n",
       "<table class=\"dataframe\">\n",
       "<thead><tr><th style=\"text-wrap: nowrap; max-width:192px; overflow:auto; text-align:left\">first_name<br />Utf8</th><th style=\"text-wrap: nowrap; max-width:192px; overflow:auto; text-align:left\">last_name<br />Utf8</th><th style=\"text-wrap: nowrap; max-width:192px; overflow:auto; text-align:left\">age<br />Int64</th><th style=\"text-wrap: nowrap; max-width:192px; overflow:auto; text-align:left\">DoB<br />Date</th><th style=\"text-wrap: nowrap; max-width:192px; overflow:auto; text-align:left\">country<br />Utf8</th><th style=\"text-wrap: nowrap; max-width:192px; overflow:auto; text-align:left\">has_dog<br />Boolean</th></tr></thead>\n",
       "</table>\n",
       "<small>(No data to display: Dataframe not materialized)</small>\n",
       "</div>"
      ],
      "text/plain": [
       "╭────────────┬───────────┬───────┬──────┬─────────┬─────────╮\n",
       "│ first_name ┆ last_name ┆ age   ┆ DoB  ┆ country ┆ has_dog │\n",
       "│ ---        ┆ ---       ┆ ---   ┆ ---  ┆ ---     ┆ ---     │\n",
       "│ Utf8       ┆ Utf8      ┆ Int64 ┆ Date ┆ Utf8    ┆ Boolean │\n",
       "╰────────────┴───────────┴───────┴──────┴─────────┴─────────╯\n",
       "\n",
       "(No data to display: Dataframe not materialized)"
      ]
     },
     "execution_count": 3,
     "metadata": {},
     "output_type": "execute_result"
    }
   ],
   "source": [
    "# change this to s3 read for final version\n",
    "df = daft.read_parquet(\"owners/*/*\")\n",
    "df"
   ]
  },
  {
   "cell_type": "markdown",
   "metadata": {},
   "source": [
    "Daft DataFrames are lazy by default. This means that the contents will not be computed (\"materialized\") unless you explicitly tell Daft to do so. This is best practice for working with larger-than-memory datasets and parallel/distributed architectures.\n",
    "\n",
    "The file we have just loaded only has XX rows. You can materialize the whole DataFrame in memory easily using the `.collect` method:"
   ]
  },
  {
   "cell_type": "code",
   "execution_count": 7,
   "metadata": {},
   "outputs": [
    {
     "name": "stderr",
     "output_type": "stream",
     "text": [
      "                                                                                                                         \r"
     ]
    },
    {
     "data": {
      "text/html": [
       "<div>\n",
       "<table class=\"dataframe\">\n",
       "<thead><tr><th style=\"text-wrap: nowrap; max-width:192px; overflow:auto; text-align:left\">first_name<br />Utf8</th><th style=\"text-wrap: nowrap; max-width:192px; overflow:auto; text-align:left\">last_name<br />Utf8</th><th style=\"text-wrap: nowrap; max-width:192px; overflow:auto; text-align:left\">age<br />Int64</th><th style=\"text-wrap: nowrap; max-width:192px; overflow:auto; text-align:left\">DoB<br />Date</th><th style=\"text-wrap: nowrap; max-width:192px; overflow:auto; text-align:left\">country<br />Utf8</th><th style=\"text-wrap: nowrap; max-width:192px; overflow:auto; text-align:left\">has_dog<br />Boolean</th></tr></thead>\n",
       "<tbody>\n",
       "<tr><td><div style=\"text-align:left; max-width:192px; max-height:64px; overflow:auto\">Ernesto</div></td><td><div style=\"text-align:left; max-width:192px; max-height:64px; overflow:auto\">Evergreen</div></td><td><div style=\"text-align:left; max-width:192px; max-height:64px; overflow:auto\">34</div></td><td><div style=\"text-align:left; max-width:192px; max-height:64px; overflow:auto\">1990-04-03</div></td><td><div style=\"text-align:left; max-width:192px; max-height:64px; overflow:auto\">Canada</div></td><td><div style=\"text-align:left; max-width:192px; max-height:64px; overflow:auto\">true</div></td></tr>\n",
       "<tr><td><div style=\"text-align:left; max-width:192px; max-height:64px; overflow:auto\">Jackie</div></td><td><div style=\"text-align:left; max-width:192px; max-height:64px; overflow:auto\">Jale</div></td><td><div style=\"text-align:left; max-width:192px; max-height:64px; overflow:auto\">62</div></td><td><div style=\"text-align:left; max-width:192px; max-height:64px; overflow:auto\">1962-03-24</div></td><td><div style=\"text-align:left; max-width:192px; max-height:64px; overflow:auto\">Canada</div></td><td><div style=\"text-align:left; max-width:192px; max-height:64px; overflow:auto\">true</div></td></tr>\n",
       "<tr><td><div style=\"text-align:left; max-width:192px; max-height:64px; overflow:auto\">Wolfgang</div></td><td><div style=\"text-align:left; max-width:192px; max-height:64px; overflow:auto\">Winter</div></td><td><div style=\"text-align:left; max-width:192px; max-height:64px; overflow:auto\">23</div></td><td><div style=\"text-align:left; max-width:192px; max-height:64px; overflow:auto\">2001-02-12</div></td><td><div style=\"text-align:left; max-width:192px; max-height:64px; overflow:auto\">Germany</div></td><td><div style=\"text-align:left; max-width:192px; max-height:64px; overflow:auto\">false</div></td></tr>\n",
       "<tr><td><div style=\"text-align:left; max-width:192px; max-height:64px; overflow:auto\">Sari</div></td><td><div style=\"text-align:left; max-width:192px; max-height:64px; overflow:auto\">Salama</div></td><td><div style=\"text-align:left; max-width:192px; max-height:64px; overflow:auto\">57</div></td><td><div style=\"text-align:left; max-width:192px; max-height:64px; overflow:auto\">1967-01-02</div></td><td><div style=\"text-align:left; max-width:192px; max-height:64px; overflow:auto\">United Kingdom</div></td><td><div style=\"text-align:left; max-width:192px; max-height:64px; overflow:auto\">true</div></td></tr>\n",
       "<tr><td><div style=\"text-align:left; max-width:192px; max-height:64px; overflow:auto\">Zoya</div></td><td><div style=\"text-align:left; max-width:192px; max-height:64px; overflow:auto\">Zee</div></td><td><div style=\"text-align:left; max-width:192px; max-height:64px; overflow:auto\">40</div></td><td><div style=\"text-align:left; max-width:192px; max-height:64px; overflow:auto\">1984-04-07</div></td><td><div style=\"text-align:left; max-width:192px; max-height:64px; overflow:auto\">United Kingdom</div></td><td><div style=\"text-align:left; max-width:192px; max-height:64px; overflow:auto\">true</div></td></tr>\n",
       "</tbody>\n",
       "</table>\n",
       "<small>(Showing first 5 of 5 rows)</small>\n",
       "</div>"
      ],
      "text/plain": [
       "╭────────────┬───────────┬───────┬────────────┬────────────────┬─────────╮\n",
       "│ first_name ┆ last_name ┆ age   ┆ DoB        ┆ country        ┆ has_dog │\n",
       "│ ---        ┆ ---       ┆ ---   ┆ ---        ┆ ---            ┆ ---     │\n",
       "│ Utf8       ┆ Utf8      ┆ Int64 ┆ Date       ┆ Utf8           ┆ Boolean │\n",
       "╞════════════╪═══════════╪═══════╪════════════╪════════════════╪═════════╡\n",
       "│ Ernesto    ┆ Evergreen ┆ 34    ┆ 1990-04-03 ┆ Canada         ┆ true    │\n",
       "├╌╌╌╌╌╌╌╌╌╌╌╌┼╌╌╌╌╌╌╌╌╌╌╌┼╌╌╌╌╌╌╌┼╌╌╌╌╌╌╌╌╌╌╌╌┼╌╌╌╌╌╌╌╌╌╌╌╌╌╌╌╌┼╌╌╌╌╌╌╌╌╌┤\n",
       "│ Jackie     ┆ Jale      ┆ 62    ┆ 1962-03-24 ┆ Canada         ┆ true    │\n",
       "├╌╌╌╌╌╌╌╌╌╌╌╌┼╌╌╌╌╌╌╌╌╌╌╌┼╌╌╌╌╌╌╌┼╌╌╌╌╌╌╌╌╌╌╌╌┼╌╌╌╌╌╌╌╌╌╌╌╌╌╌╌╌┼╌╌╌╌╌╌╌╌╌┤\n",
       "│ Wolfgang   ┆ Winter    ┆ 23    ┆ 2001-02-12 ┆ Germany        ┆ false   │\n",
       "├╌╌╌╌╌╌╌╌╌╌╌╌┼╌╌╌╌╌╌╌╌╌╌╌┼╌╌╌╌╌╌╌┼╌╌╌╌╌╌╌╌╌╌╌╌┼╌╌╌╌╌╌╌╌╌╌╌╌╌╌╌╌┼╌╌╌╌╌╌╌╌╌┤\n",
       "│ Sari       ┆ Salama    ┆ 57    ┆ 1967-01-02 ┆ United Kingdom ┆ true    │\n",
       "├╌╌╌╌╌╌╌╌╌╌╌╌┼╌╌╌╌╌╌╌╌╌╌╌┼╌╌╌╌╌╌╌┼╌╌╌╌╌╌╌╌╌╌╌╌┼╌╌╌╌╌╌╌╌╌╌╌╌╌╌╌╌┼╌╌╌╌╌╌╌╌╌┤\n",
       "│ Zoya       ┆ Zee       ┆ 40    ┆ 1984-04-07 ┆ United Kingdom ┆ true    │\n",
       "╰────────────┴───────────┴───────┴────────────┴────────────────┴─────────╯\n",
       "\n",
       "(Showing first 5 of 5 rows)"
      ]
     },
     "execution_count": 7,
     "metadata": {},
     "output_type": "execute_result"
    }
   ],
   "source": [
    "df.collect()"
   ]
  },
  {
   "cell_type": "markdown",
   "metadata": {},
   "source": [
    "You can also take a look at just the first few rows with the `.show` method:"
   ]
  },
  {
   "cell_type": "code",
   "execution_count": 8,
   "metadata": {},
   "outputs": [
    {
     "data": {
      "text/html": [
       "<div>\n",
       "<table class=\"dataframe\">\n",
       "<thead><tr><th style=\"text-wrap: nowrap; max-width:192px; overflow:auto; text-align:left\">first_name<br />Utf8</th><th style=\"text-wrap: nowrap; max-width:192px; overflow:auto; text-align:left\">last_name<br />Utf8</th><th style=\"text-wrap: nowrap; max-width:192px; overflow:auto; text-align:left\">age<br />Int64</th><th style=\"text-wrap: nowrap; max-width:192px; overflow:auto; text-align:left\">DoB<br />Date</th><th style=\"text-wrap: nowrap; max-width:192px; overflow:auto; text-align:left\">country<br />Utf8</th><th style=\"text-wrap: nowrap; max-width:192px; overflow:auto; text-align:left\">has_dog<br />Boolean</th></tr></thead>\n",
       "<tbody>\n",
       "<tr><td><div style=\"text-align:left; max-width:192px; max-height:64px; overflow:auto\">Ernesto</div></td><td><div style=\"text-align:left; max-width:192px; max-height:64px; overflow:auto\">Evergreen</div></td><td><div style=\"text-align:left; max-width:192px; max-height:64px; overflow:auto\">34</div></td><td><div style=\"text-align:left; max-width:192px; max-height:64px; overflow:auto\">1990-04-03</div></td><td><div style=\"text-align:left; max-width:192px; max-height:64px; overflow:auto\">Canada</div></td><td><div style=\"text-align:left; max-width:192px; max-height:64px; overflow:auto\">true</div></td></tr>\n",
       "<tr><td><div style=\"text-align:left; max-width:192px; max-height:64px; overflow:auto\">Jackie</div></td><td><div style=\"text-align:left; max-width:192px; max-height:64px; overflow:auto\">Jale</div></td><td><div style=\"text-align:left; max-width:192px; max-height:64px; overflow:auto\">62</div></td><td><div style=\"text-align:left; max-width:192px; max-height:64px; overflow:auto\">1962-03-24</div></td><td><div style=\"text-align:left; max-width:192px; max-height:64px; overflow:auto\">Canada</div></td><td><div style=\"text-align:left; max-width:192px; max-height:64px; overflow:auto\">true</div></td></tr>\n",
       "<tr><td><div style=\"text-align:left; max-width:192px; max-height:64px; overflow:auto\">Wolfgang</div></td><td><div style=\"text-align:left; max-width:192px; max-height:64px; overflow:auto\">Winter</div></td><td><div style=\"text-align:left; max-width:192px; max-height:64px; overflow:auto\">23</div></td><td><div style=\"text-align:left; max-width:192px; max-height:64px; overflow:auto\">2001-02-12</div></td><td><div style=\"text-align:left; max-width:192px; max-height:64px; overflow:auto\">Germany</div></td><td><div style=\"text-align:left; max-width:192px; max-height:64px; overflow:auto\">false</div></td></tr>\n",
       "</tbody>\n",
       "</table>\n",
       "<small>(Showing first 3 of 5 rows)</small>\n",
       "</div>"
      ],
      "text/plain": [
       "╭────────────┬───────────┬───────┬────────────┬─────────┬─────────╮\n",
       "│ first_name ┆ last_name ┆ age   ┆ DoB        ┆ country ┆ has_dog │\n",
       "│ ---        ┆ ---       ┆ ---   ┆ ---        ┆ ---     ┆ ---     │\n",
       "│ Utf8       ┆ Utf8      ┆ Int64 ┆ Date       ┆ Utf8    ┆ Boolean │\n",
       "╞════════════╪═══════════╪═══════╪════════════╪═════════╪═════════╡\n",
       "│ Ernesto    ┆ Evergreen ┆ 34    ┆ 1990-04-03 ┆ Canada  ┆ true    │\n",
       "├╌╌╌╌╌╌╌╌╌╌╌╌┼╌╌╌╌╌╌╌╌╌╌╌┼╌╌╌╌╌╌╌┼╌╌╌╌╌╌╌╌╌╌╌╌┼╌╌╌╌╌╌╌╌╌┼╌╌╌╌╌╌╌╌╌┤\n",
       "│ Jackie     ┆ Jale      ┆ 62    ┆ 1962-03-24 ┆ Canada  ┆ true    │\n",
       "├╌╌╌╌╌╌╌╌╌╌╌╌┼╌╌╌╌╌╌╌╌╌╌╌┼╌╌╌╌╌╌╌┼╌╌╌╌╌╌╌╌╌╌╌╌┼╌╌╌╌╌╌╌╌╌┼╌╌╌╌╌╌╌╌╌┤\n",
       "│ Wolfgang   ┆ Winter    ┆ 23    ┆ 2001-02-12 ┆ Germany ┆ false   │\n",
       "╰────────────┴───────────┴───────┴────────────┴─────────┴─────────╯\n",
       "\n",
       "(Showing first 3 of 5 rows)"
      ]
     },
     "metadata": {},
     "output_type": "display_data"
    }
   ],
   "source": [
    "df.show(3)"
   ]
  },
  {
   "cell_type": "markdown",
   "metadata": {},
   "source": [
    "Use `.show` for quick visualisation in an interactive notebook. To use a limited number of rows for further transformation, use the {meth}`.limit <daft.DataFrame.limit>` method."
   ]
  },
  {
   "cell_type": "markdown",
   "metadata": {},
   "source": [
    "## Basic DataFrame Operations\n",
    "\n",
    "Let's take a look at some of the most common DataFrame operations.\n",
    "\n",
    "You can **select** specific columns from your DataFrame with the `.select` method:"
   ]
  },
  {
   "cell_type": "code",
   "execution_count": 9,
   "metadata": {},
   "outputs": [
    {
     "data": {
      "text/html": [
       "<div>\n",
       "<table class=\"dataframe\">\n",
       "<thead><tr><th style=\"text-wrap: nowrap; max-width:192px; overflow:auto; text-align:left\">first_name<br />Utf8</th><th style=\"text-wrap: nowrap; max-width:192px; overflow:auto; text-align:left\">has_dog<br />Boolean</th></tr></thead>\n",
       "<tbody>\n",
       "<tr><td><div style=\"text-align:left; max-width:192px; max-height:64px; overflow:auto\">Ernesto</div></td><td><div style=\"text-align:left; max-width:192px; max-height:64px; overflow:auto\">true</div></td></tr>\n",
       "<tr><td><div style=\"text-align:left; max-width:192px; max-height:64px; overflow:auto\">Jackie</div></td><td><div style=\"text-align:left; max-width:192px; max-height:64px; overflow:auto\">true</div></td></tr>\n",
       "<tr><td><div style=\"text-align:left; max-width:192px; max-height:64px; overflow:auto\">Wolfgang</div></td><td><div style=\"text-align:left; max-width:192px; max-height:64px; overflow:auto\">false</div></td></tr>\n",
       "<tr><td><div style=\"text-align:left; max-width:192px; max-height:64px; overflow:auto\">Sari</div></td><td><div style=\"text-align:left; max-width:192px; max-height:64px; overflow:auto\">true</div></td></tr>\n",
       "<tr><td><div style=\"text-align:left; max-width:192px; max-height:64px; overflow:auto\">Zoya</div></td><td><div style=\"text-align:left; max-width:192px; max-height:64px; overflow:auto\">true</div></td></tr>\n",
       "</tbody>\n",
       "</table>\n",
       "<small>(Showing first 5 of 5 rows)</small>\n",
       "</div>"
      ],
      "text/plain": [
       "╭────────────┬─────────╮\n",
       "│ first_name ┆ has_dog │\n",
       "│ ---        ┆ ---     │\n",
       "│ Utf8       ┆ Boolean │\n",
       "╞════════════╪═════════╡\n",
       "│ Ernesto    ┆ true    │\n",
       "├╌╌╌╌╌╌╌╌╌╌╌╌┼╌╌╌╌╌╌╌╌╌┤\n",
       "│ Jackie     ┆ true    │\n",
       "├╌╌╌╌╌╌╌╌╌╌╌╌┼╌╌╌╌╌╌╌╌╌┤\n",
       "│ Wolfgang   ┆ false   │\n",
       "├╌╌╌╌╌╌╌╌╌╌╌╌┼╌╌╌╌╌╌╌╌╌┤\n",
       "│ Sari       ┆ true    │\n",
       "├╌╌╌╌╌╌╌╌╌╌╌╌┼╌╌╌╌╌╌╌╌╌┤\n",
       "│ Zoya       ┆ true    │\n",
       "╰────────────┴─────────╯\n",
       "\n",
       "(Showing first 5 of 5 rows)"
      ]
     },
     "metadata": {},
     "output_type": "display_data"
    }
   ],
   "source": [
    "df.select(\"first_name\", \"has_dog\").show()"
   ]
  },
  {
   "cell_type": "markdown",
   "metadata": {},
   "source": [
    "You can **limit** the number of rows in a dataframe by calling {meth}`df.limit() <daft.DataFrame.limit>`:"
   ]
  },
  {
   "cell_type": "code",
   "execution_count": 10,
   "metadata": {},
   "outputs": [
    {
     "name": "stderr",
     "output_type": "stream",
     "text": [
      "LocalLimit [Stage:6]:   0%|                                                                        | 0/1 [00:00<?, ?it/s]\n",
      "                                                                                                                         \u001b[A\n",
      "\u001b[A                                                                                                                      \n",
      "\u001b[A"
     ]
    },
    {
     "data": {
      "text/html": [
       "<div>\n",
       "<table class=\"dataframe\">\n",
       "<thead><tr><th style=\"text-wrap: nowrap; max-width:192px; overflow:auto; text-align:left\">first_name<br />Utf8</th><th style=\"text-wrap: nowrap; max-width:192px; overflow:auto; text-align:left\">last_name<br />Utf8</th><th style=\"text-wrap: nowrap; max-width:192px; overflow:auto; text-align:left\">age<br />Int64</th><th style=\"text-wrap: nowrap; max-width:192px; overflow:auto; text-align:left\">DoB<br />Date</th><th style=\"text-wrap: nowrap; max-width:192px; overflow:auto; text-align:left\">country<br />Utf8</th><th style=\"text-wrap: nowrap; max-width:192px; overflow:auto; text-align:left\">has_dog<br />Boolean</th></tr></thead>\n",
       "<tbody>\n",
       "<tr><td><div style=\"text-align:left; max-width:192px; max-height:64px; overflow:auto\">Ernesto</div></td><td><div style=\"text-align:left; max-width:192px; max-height:64px; overflow:auto\">Evergreen</div></td><td><div style=\"text-align:left; max-width:192px; max-height:64px; overflow:auto\">34</div></td><td><div style=\"text-align:left; max-width:192px; max-height:64px; overflow:auto\">1990-04-03</div></td><td><div style=\"text-align:left; max-width:192px; max-height:64px; overflow:auto\">Canada</div></td><td><div style=\"text-align:left; max-width:192px; max-height:64px; overflow:auto\">true</div></td></tr>\n",
       "</tbody>\n",
       "</table>\n",
       "<small>(Showing first 1 of 1 rows)</small>\n",
       "</div>"
      ],
      "text/plain": [
       "╭────────────┬───────────┬───────┬────────────┬─────────┬─────────╮\n",
       "│ first_name ┆ last_name ┆ age   ┆ DoB        ┆ country ┆ has_dog │\n",
       "│ ---        ┆ ---       ┆ ---   ┆ ---        ┆ ---     ┆ ---     │\n",
       "│ Utf8       ┆ Utf8      ┆ Int64 ┆ Date       ┆ Utf8    ┆ Boolean │\n",
       "╞════════════╪═══════════╪═══════╪════════════╪═════════╪═════════╡\n",
       "│ Ernesto    ┆ Evergreen ┆ 34    ┆ 1990-04-03 ┆ Canada  ┆ true    │\n",
       "╰────────────┴───────────┴───────┴────────────┴─────────┴─────────╯\n",
       "\n",
       "(Showing first 1 of 1 rows)"
      ]
     },
     "execution_count": 10,
     "metadata": {},
     "output_type": "execute_result"
    }
   ],
   "source": [
    "df.limit(1).collect()"
   ]
  },
  {
   "cell_type": "markdown",
   "metadata": {},
   "source": [
    "To **drop** columns from the dataframe, call {meth}`df.exclude() <daft.DataFrame.exclude>`:"
   ]
  },
  {
   "cell_type": "code",
   "execution_count": 12,
   "metadata": {},
   "outputs": [
    {
     "data": {
      "text/html": [
       "<div>\n",
       "<table class=\"dataframe\">\n",
       "<thead><tr><th style=\"text-wrap: nowrap; max-width:192px; overflow:auto; text-align:left\">first_name<br />Utf8</th><th style=\"text-wrap: nowrap; max-width:192px; overflow:auto; text-align:left\">last_name<br />Utf8</th><th style=\"text-wrap: nowrap; max-width:192px; overflow:auto; text-align:left\">age<br />Int64</th><th style=\"text-wrap: nowrap; max-width:192px; overflow:auto; text-align:left\">country<br />Utf8</th><th style=\"text-wrap: nowrap; max-width:192px; overflow:auto; text-align:left\">has_dog<br />Boolean</th></tr></thead>\n",
       "<tbody>\n",
       "<tr><td><div style=\"text-align:left; max-width:192px; max-height:64px; overflow:auto\">Ernesto</div></td><td><div style=\"text-align:left; max-width:192px; max-height:64px; overflow:auto\">Evergreen</div></td><td><div style=\"text-align:left; max-width:192px; max-height:64px; overflow:auto\">34</div></td><td><div style=\"text-align:left; max-width:192px; max-height:64px; overflow:auto\">Canada</div></td><td><div style=\"text-align:left; max-width:192px; max-height:64px; overflow:auto\">true</div></td></tr>\n",
       "<tr><td><div style=\"text-align:left; max-width:192px; max-height:64px; overflow:auto\">Jackie</div></td><td><div style=\"text-align:left; max-width:192px; max-height:64px; overflow:auto\">Jale</div></td><td><div style=\"text-align:left; max-width:192px; max-height:64px; overflow:auto\">62</div></td><td><div style=\"text-align:left; max-width:192px; max-height:64px; overflow:auto\">Canada</div></td><td><div style=\"text-align:left; max-width:192px; max-height:64px; overflow:auto\">true</div></td></tr>\n",
       "<tr><td><div style=\"text-align:left; max-width:192px; max-height:64px; overflow:auto\">Wolfgang</div></td><td><div style=\"text-align:left; max-width:192px; max-height:64px; overflow:auto\">Winter</div></td><td><div style=\"text-align:left; max-width:192px; max-height:64px; overflow:auto\">23</div></td><td><div style=\"text-align:left; max-width:192px; max-height:64px; overflow:auto\">Germany</div></td><td><div style=\"text-align:left; max-width:192px; max-height:64px; overflow:auto\">false</div></td></tr>\n",
       "<tr><td><div style=\"text-align:left; max-width:192px; max-height:64px; overflow:auto\">Sari</div></td><td><div style=\"text-align:left; max-width:192px; max-height:64px; overflow:auto\">Salama</div></td><td><div style=\"text-align:left; max-width:192px; max-height:64px; overflow:auto\">57</div></td><td><div style=\"text-align:left; max-width:192px; max-height:64px; overflow:auto\">United Kingdom</div></td><td><div style=\"text-align:left; max-width:192px; max-height:64px; overflow:auto\">true</div></td></tr>\n",
       "<tr><td><div style=\"text-align:left; max-width:192px; max-height:64px; overflow:auto\">Zoya</div></td><td><div style=\"text-align:left; max-width:192px; max-height:64px; overflow:auto\">Zee</div></td><td><div style=\"text-align:left; max-width:192px; max-height:64px; overflow:auto\">40</div></td><td><div style=\"text-align:left; max-width:192px; max-height:64px; overflow:auto\">United Kingdom</div></td><td><div style=\"text-align:left; max-width:192px; max-height:64px; overflow:auto\">true</div></td></tr>\n",
       "</tbody>\n",
       "</table>\n",
       "<small>(Showing first 5 of 5 rows)</small>\n",
       "</div>"
      ],
      "text/plain": [
       "╭────────────┬───────────┬───────┬────────────────┬─────────╮\n",
       "│ first_name ┆ last_name ┆ age   ┆ country        ┆ has_dog │\n",
       "│ ---        ┆ ---       ┆ ---   ┆ ---            ┆ ---     │\n",
       "│ Utf8       ┆ Utf8      ┆ Int64 ┆ Utf8           ┆ Boolean │\n",
       "╞════════════╪═══════════╪═══════╪════════════════╪═════════╡\n",
       "│ Ernesto    ┆ Evergreen ┆ 34    ┆ Canada         ┆ true    │\n",
       "├╌╌╌╌╌╌╌╌╌╌╌╌┼╌╌╌╌╌╌╌╌╌╌╌┼╌╌╌╌╌╌╌┼╌╌╌╌╌╌╌╌╌╌╌╌╌╌╌╌┼╌╌╌╌╌╌╌╌╌┤\n",
       "│ Jackie     ┆ Jale      ┆ 62    ┆ Canada         ┆ true    │\n",
       "├╌╌╌╌╌╌╌╌╌╌╌╌┼╌╌╌╌╌╌╌╌╌╌╌┼╌╌╌╌╌╌╌┼╌╌╌╌╌╌╌╌╌╌╌╌╌╌╌╌┼╌╌╌╌╌╌╌╌╌┤\n",
       "│ Wolfgang   ┆ Winter    ┆ 23    ┆ Germany        ┆ false   │\n",
       "├╌╌╌╌╌╌╌╌╌╌╌╌┼╌╌╌╌╌╌╌╌╌╌╌┼╌╌╌╌╌╌╌┼╌╌╌╌╌╌╌╌╌╌╌╌╌╌╌╌┼╌╌╌╌╌╌╌╌╌┤\n",
       "│ Sari       ┆ Salama    ┆ 57    ┆ United Kingdom ┆ true    │\n",
       "├╌╌╌╌╌╌╌╌╌╌╌╌┼╌╌╌╌╌╌╌╌╌╌╌┼╌╌╌╌╌╌╌┼╌╌╌╌╌╌╌╌╌╌╌╌╌╌╌╌┼╌╌╌╌╌╌╌╌╌┤\n",
       "│ Zoya       ┆ Zee       ┆ 40    ┆ United Kingdom ┆ true    │\n",
       "╰────────────┴───────────┴───────┴────────────────┴─────────╯\n",
       "\n",
       "(Showing first 5 of 5 rows)"
      ]
     },
     "metadata": {},
     "output_type": "display_data"
    }
   ],
   "source": [
    "df.exclude(\"DoB\").show()"
   ]
  },
  {
   "cell_type": "markdown",
   "metadata": {},
   "source": [
    "You can **sort** a dataframe with {meth}`df.sort() <daft.DataFrame.sort>`, which we do so here in descending order:"
   ]
  },
  {
   "cell_type": "code",
   "execution_count": 15,
   "metadata": {},
   "outputs": [
    {
     "data": {
      "text/html": [
       "<div>\n",
       "<table class=\"dataframe\">\n",
       "<thead><tr><th style=\"text-wrap: nowrap; max-width:192px; overflow:auto; text-align:left\">first_name<br />Utf8</th><th style=\"text-wrap: nowrap; max-width:192px; overflow:auto; text-align:left\">last_name<br />Utf8</th><th style=\"text-wrap: nowrap; max-width:192px; overflow:auto; text-align:left\">age<br />Int64</th><th style=\"text-wrap: nowrap; max-width:192px; overflow:auto; text-align:left\">DoB<br />Date</th><th style=\"text-wrap: nowrap; max-width:192px; overflow:auto; text-align:left\">country<br />Utf8</th><th style=\"text-wrap: nowrap; max-width:192px; overflow:auto; text-align:left\">has_dog<br />Boolean</th></tr></thead>\n",
       "<tbody>\n",
       "<tr><td><div style=\"text-align:left; max-width:192px; max-height:64px; overflow:auto\">Wolfgang</div></td><td><div style=\"text-align:left; max-width:192px; max-height:64px; overflow:auto\">Winter</div></td><td><div style=\"text-align:left; max-width:192px; max-height:64px; overflow:auto\">23</div></td><td><div style=\"text-align:left; max-width:192px; max-height:64px; overflow:auto\">2001-02-12</div></td><td><div style=\"text-align:left; max-width:192px; max-height:64px; overflow:auto\">Germany</div></td><td><div style=\"text-align:left; max-width:192px; max-height:64px; overflow:auto\">false</div></td></tr>\n",
       "<tr><td><div style=\"text-align:left; max-width:192px; max-height:64px; overflow:auto\">Ernesto</div></td><td><div style=\"text-align:left; max-width:192px; max-height:64px; overflow:auto\">Evergreen</div></td><td><div style=\"text-align:left; max-width:192px; max-height:64px; overflow:auto\">34</div></td><td><div style=\"text-align:left; max-width:192px; max-height:64px; overflow:auto\">1990-04-03</div></td><td><div style=\"text-align:left; max-width:192px; max-height:64px; overflow:auto\">Canada</div></td><td><div style=\"text-align:left; max-width:192px; max-height:64px; overflow:auto\">true</div></td></tr>\n",
       "<tr><td><div style=\"text-align:left; max-width:192px; max-height:64px; overflow:auto\">Zoya</div></td><td><div style=\"text-align:left; max-width:192px; max-height:64px; overflow:auto\">Zee</div></td><td><div style=\"text-align:left; max-width:192px; max-height:64px; overflow:auto\">40</div></td><td><div style=\"text-align:left; max-width:192px; max-height:64px; overflow:auto\">1984-04-07</div></td><td><div style=\"text-align:left; max-width:192px; max-height:64px; overflow:auto\">United Kingdom</div></td><td><div style=\"text-align:left; max-width:192px; max-height:64px; overflow:auto\">true</div></td></tr>\n",
       "<tr><td><div style=\"text-align:left; max-width:192px; max-height:64px; overflow:auto\">Sari</div></td><td><div style=\"text-align:left; max-width:192px; max-height:64px; overflow:auto\">Salama</div></td><td><div style=\"text-align:left; max-width:192px; max-height:64px; overflow:auto\">57</div></td><td><div style=\"text-align:left; max-width:192px; max-height:64px; overflow:auto\">1967-01-02</div></td><td><div style=\"text-align:left; max-width:192px; max-height:64px; overflow:auto\">United Kingdom</div></td><td><div style=\"text-align:left; max-width:192px; max-height:64px; overflow:auto\">true</div></td></tr>\n",
       "<tr><td><div style=\"text-align:left; max-width:192px; max-height:64px; overflow:auto\">Jackie</div></td><td><div style=\"text-align:left; max-width:192px; max-height:64px; overflow:auto\">Jale</div></td><td><div style=\"text-align:left; max-width:192px; max-height:64px; overflow:auto\">62</div></td><td><div style=\"text-align:left; max-width:192px; max-height:64px; overflow:auto\">1962-03-24</div></td><td><div style=\"text-align:left; max-width:192px; max-height:64px; overflow:auto\">Canada</div></td><td><div style=\"text-align:left; max-width:192px; max-height:64px; overflow:auto\">true</div></td></tr>\n",
       "</tbody>\n",
       "</table>\n",
       "<small>(Showing first 5 of 5 rows)</small>\n",
       "</div>"
      ],
      "text/plain": [
       "╭────────────┬───────────┬───────┬────────────┬────────────────┬─────────╮\n",
       "│ first_name ┆ last_name ┆ age   ┆ DoB        ┆ country        ┆ has_dog │\n",
       "│ ---        ┆ ---       ┆ ---   ┆ ---        ┆ ---            ┆ ---     │\n",
       "│ Utf8       ┆ Utf8      ┆ Int64 ┆ Date       ┆ Utf8           ┆ Boolean │\n",
       "╞════════════╪═══════════╪═══════╪════════════╪════════════════╪═════════╡\n",
       "│ Wolfgang   ┆ Winter    ┆ 23    ┆ 2001-02-12 ┆ Germany        ┆ false   │\n",
       "├╌╌╌╌╌╌╌╌╌╌╌╌┼╌╌╌╌╌╌╌╌╌╌╌┼╌╌╌╌╌╌╌┼╌╌╌╌╌╌╌╌╌╌╌╌┼╌╌╌╌╌╌╌╌╌╌╌╌╌╌╌╌┼╌╌╌╌╌╌╌╌╌┤\n",
       "│ Ernesto    ┆ Evergreen ┆ 34    ┆ 1990-04-03 ┆ Canada         ┆ true    │\n",
       "├╌╌╌╌╌╌╌╌╌╌╌╌┼╌╌╌╌╌╌╌╌╌╌╌┼╌╌╌╌╌╌╌┼╌╌╌╌╌╌╌╌╌╌╌╌┼╌╌╌╌╌╌╌╌╌╌╌╌╌╌╌╌┼╌╌╌╌╌╌╌╌╌┤\n",
       "│ Zoya       ┆ Zee       ┆ 40    ┆ 1984-04-07 ┆ United Kingdom ┆ true    │\n",
       "├╌╌╌╌╌╌╌╌╌╌╌╌┼╌╌╌╌╌╌╌╌╌╌╌┼╌╌╌╌╌╌╌┼╌╌╌╌╌╌╌╌╌╌╌╌┼╌╌╌╌╌╌╌╌╌╌╌╌╌╌╌╌┼╌╌╌╌╌╌╌╌╌┤\n",
       "│ Sari       ┆ Salama    ┆ 57    ┆ 1967-01-02 ┆ United Kingdom ┆ true    │\n",
       "├╌╌╌╌╌╌╌╌╌╌╌╌┼╌╌╌╌╌╌╌╌╌╌╌┼╌╌╌╌╌╌╌┼╌╌╌╌╌╌╌╌╌╌╌╌┼╌╌╌╌╌╌╌╌╌╌╌╌╌╌╌╌┼╌╌╌╌╌╌╌╌╌┤\n",
       "│ Jackie     ┆ Jale      ┆ 62    ┆ 1962-03-24 ┆ Canada         ┆ true    │\n",
       "╰────────────┴───────────┴───────┴────────────┴────────────────┴─────────╯\n",
       "\n",
       "(Showing first 5 of 5 rows)"
      ]
     },
     "metadata": {},
     "output_type": "display_data"
    }
   ],
   "source": [
    "df.sort(df[\"age\"], desc=False).show()"
   ]
  },
  {
   "cell_type": "markdown",
   "metadata": {},
   "source": [
    "You can **filter** rows in your DataFrame with a predicate using the {meth}`df.where() <daft.DataFrame.where>` method:"
   ]
  },
  {
   "cell_type": "code",
   "execution_count": 16,
   "metadata": {},
   "outputs": [
    {
     "data": {
      "text/html": [
       "<div>\n",
       "<table class=\"dataframe\">\n",
       "<thead><tr><th style=\"text-wrap: nowrap; max-width:192px; overflow:auto; text-align:left\">first_name<br />Utf8</th><th style=\"text-wrap: nowrap; max-width:192px; overflow:auto; text-align:left\">last_name<br />Utf8</th><th style=\"text-wrap: nowrap; max-width:192px; overflow:auto; text-align:left\">age<br />Int64</th><th style=\"text-wrap: nowrap; max-width:192px; overflow:auto; text-align:left\">DoB<br />Date</th><th style=\"text-wrap: nowrap; max-width:192px; overflow:auto; text-align:left\">country<br />Utf8</th><th style=\"text-wrap: nowrap; max-width:192px; overflow:auto; text-align:left\">has_dog<br />Boolean</th></tr></thead>\n",
       "<tbody>\n",
       "<tr><td><div style=\"text-align:left; max-width:192px; max-height:64px; overflow:auto\">Jackie</div></td><td><div style=\"text-align:left; max-width:192px; max-height:64px; overflow:auto\">Jale</div></td><td><div style=\"text-align:left; max-width:192px; max-height:64px; overflow:auto\">62</div></td><td><div style=\"text-align:left; max-width:192px; max-height:64px; overflow:auto\">1962-03-24</div></td><td><div style=\"text-align:left; max-width:192px; max-height:64px; overflow:auto\">Canada</div></td><td><div style=\"text-align:left; max-width:192px; max-height:64px; overflow:auto\">true</div></td></tr>\n",
       "<tr><td><div style=\"text-align:left; max-width:192px; max-height:64px; overflow:auto\">Sari</div></td><td><div style=\"text-align:left; max-width:192px; max-height:64px; overflow:auto\">Salama</div></td><td><div style=\"text-align:left; max-width:192px; max-height:64px; overflow:auto\">57</div></td><td><div style=\"text-align:left; max-width:192px; max-height:64px; overflow:auto\">1967-01-02</div></td><td><div style=\"text-align:left; max-width:192px; max-height:64px; overflow:auto\">United Kingdom</div></td><td><div style=\"text-align:left; max-width:192px; max-height:64px; overflow:auto\">true</div></td></tr>\n",
       "<tr><td><div style=\"text-align:left; max-width:192px; max-height:64px; overflow:auto\">Zoya</div></td><td><div style=\"text-align:left; max-width:192px; max-height:64px; overflow:auto\">Zee</div></td><td><div style=\"text-align:left; max-width:192px; max-height:64px; overflow:auto\">40</div></td><td><div style=\"text-align:left; max-width:192px; max-height:64px; overflow:auto\">1984-04-07</div></td><td><div style=\"text-align:left; max-width:192px; max-height:64px; overflow:auto\">United Kingdom</div></td><td><div style=\"text-align:left; max-width:192px; max-height:64px; overflow:auto\">true</div></td></tr>\n",
       "</tbody>\n",
       "</table>\n",
       "<small>(Showing first 3 of 3 rows)</small>\n",
       "</div>"
      ],
      "text/plain": [
       "╭────────────┬───────────┬───────┬────────────┬────────────────┬─────────╮\n",
       "│ first_name ┆ last_name ┆ age   ┆ DoB        ┆ country        ┆ has_dog │\n",
       "│ ---        ┆ ---       ┆ ---   ┆ ---        ┆ ---            ┆ ---     │\n",
       "│ Utf8       ┆ Utf8      ┆ Int64 ┆ Date       ┆ Utf8           ┆ Boolean │\n",
       "╞════════════╪═══════════╪═══════╪════════════╪════════════════╪═════════╡\n",
       "│ Jackie     ┆ Jale      ┆ 62    ┆ 1962-03-24 ┆ Canada         ┆ true    │\n",
       "├╌╌╌╌╌╌╌╌╌╌╌╌┼╌╌╌╌╌╌╌╌╌╌╌┼╌╌╌╌╌╌╌┼╌╌╌╌╌╌╌╌╌╌╌╌┼╌╌╌╌╌╌╌╌╌╌╌╌╌╌╌╌┼╌╌╌╌╌╌╌╌╌┤\n",
       "│ Sari       ┆ Salama    ┆ 57    ┆ 1967-01-02 ┆ United Kingdom ┆ true    │\n",
       "├╌╌╌╌╌╌╌╌╌╌╌╌┼╌╌╌╌╌╌╌╌╌╌╌┼╌╌╌╌╌╌╌┼╌╌╌╌╌╌╌╌╌╌╌╌┼╌╌╌╌╌╌╌╌╌╌╌╌╌╌╌╌┼╌╌╌╌╌╌╌╌╌┤\n",
       "│ Zoya       ┆ Zee       ┆ 40    ┆ 1984-04-07 ┆ United Kingdom ┆ true    │\n",
       "╰────────────┴───────────┴───────┴────────────┴────────────────┴─────────╯\n",
       "\n",
       "(Showing first 3 of 3 rows)"
      ]
     },
     "metadata": {},
     "output_type": "display_data"
    }
   ],
   "source": [
    "df.where(df[\"age\"] > 35).show()"
   ]
  },
  {
   "cell_type": "markdown",
   "metadata": {},
   "source": [
    "Filtering can give you powerful optimization when you are working with partitioned files or tables. Daft will use the predicate to only read in the necessary partitions.\n",
    "\n",
    "For example, our Parquet file is partitioned on the `country` column. This means that queries with a `country` predicate will benefit from query optimization:"
   ]
  },
  {
   "cell_type": "code",
   "execution_count": 17,
   "metadata": {},
   "outputs": [
    {
     "data": {
      "text/html": [
       "<div>\n",
       "<table class=\"dataframe\">\n",
       "<thead><tr><th style=\"text-wrap: nowrap; max-width:192px; overflow:auto; text-align:left\">first_name<br />Utf8</th><th style=\"text-wrap: nowrap; max-width:192px; overflow:auto; text-align:left\">last_name<br />Utf8</th><th style=\"text-wrap: nowrap; max-width:192px; overflow:auto; text-align:left\">age<br />Int64</th><th style=\"text-wrap: nowrap; max-width:192px; overflow:auto; text-align:left\">DoB<br />Date</th><th style=\"text-wrap: nowrap; max-width:192px; overflow:auto; text-align:left\">country<br />Utf8</th><th style=\"text-wrap: nowrap; max-width:192px; overflow:auto; text-align:left\">has_dog<br />Boolean</th></tr></thead>\n",
       "<tbody>\n",
       "<tr><td><div style=\"text-align:left; max-width:192px; max-height:64px; overflow:auto\">Ernesto</div></td><td><div style=\"text-align:left; max-width:192px; max-height:64px; overflow:auto\">Evergreen</div></td><td><div style=\"text-align:left; max-width:192px; max-height:64px; overflow:auto\">34</div></td><td><div style=\"text-align:left; max-width:192px; max-height:64px; overflow:auto\">1990-04-03</div></td><td><div style=\"text-align:left; max-width:192px; max-height:64px; overflow:auto\">Canada</div></td><td><div style=\"text-align:left; max-width:192px; max-height:64px; overflow:auto\">true</div></td></tr>\n",
       "<tr><td><div style=\"text-align:left; max-width:192px; max-height:64px; overflow:auto\">Jackie</div></td><td><div style=\"text-align:left; max-width:192px; max-height:64px; overflow:auto\">Jale</div></td><td><div style=\"text-align:left; max-width:192px; max-height:64px; overflow:auto\">62</div></td><td><div style=\"text-align:left; max-width:192px; max-height:64px; overflow:auto\">1962-03-24</div></td><td><div style=\"text-align:left; max-width:192px; max-height:64px; overflow:auto\">Canada</div></td><td><div style=\"text-align:left; max-width:192px; max-height:64px; overflow:auto\">true</div></td></tr>\n",
       "</tbody>\n",
       "</table>\n",
       "<small>(Showing first 2 of 2 rows)</small>\n",
       "</div>"
      ],
      "text/plain": [
       "╭────────────┬───────────┬───────┬────────────┬─────────┬─────────╮\n",
       "│ first_name ┆ last_name ┆ age   ┆ DoB        ┆ country ┆ has_dog │\n",
       "│ ---        ┆ ---       ┆ ---   ┆ ---        ┆ ---     ┆ ---     │\n",
       "│ Utf8       ┆ Utf8      ┆ Int64 ┆ Date       ┆ Utf8    ┆ Boolean │\n",
       "╞════════════╪═══════════╪═══════╪════════════╪═════════╪═════════╡\n",
       "│ Ernesto    ┆ Evergreen ┆ 34    ┆ 1990-04-03 ┆ Canada  ┆ true    │\n",
       "├╌╌╌╌╌╌╌╌╌╌╌╌┼╌╌╌╌╌╌╌╌╌╌╌┼╌╌╌╌╌╌╌┼╌╌╌╌╌╌╌╌╌╌╌╌┼╌╌╌╌╌╌╌╌╌┼╌╌╌╌╌╌╌╌╌┤\n",
       "│ Jackie     ┆ Jale      ┆ 62    ┆ 1962-03-24 ┆ Canada  ┆ true    │\n",
       "╰────────────┴───────────┴───────┴────────────┴─────────┴─────────╯\n",
       "\n",
       "(Showing first 2 of 2 rows)"
      ]
     },
     "metadata": {},
     "output_type": "display_data"
    }
   ],
   "source": [
    "df.where(df[\"country\"] == \"Canada\").show()"
   ]
  },
  {
   "cell_type": "markdown",
   "metadata": {},
   "source": [
    "Daft only needs to read in 1 file for this query, instead of 3."
   ]
  },
  {
   "cell_type": "markdown",
   "metadata": {},
   "source": [
    "## Query Planning\n",
    "\n",
    "As mentioned earlier, Daft is lazy: computations on your DataFrame are not executed immediately. Instead, Daft creates a `LogicalPlan` which defines the operations that need to happen to materialize the requested result. Think of this LogicalPlan as a recipe. \n",
    "\n",
    "You can examine this logical plan using {meth}`df.explain() <daft.DataFrame.explain>`:"
   ]
  },
  {
   "cell_type": "code",
   "execution_count": 4,
   "metadata": {},
   "outputs": [
    {
     "name": "stdout",
     "output_type": "stream",
     "text": [
      "== Unoptimized Logical Plan ==\n",
      "\n",
      "* Filter: col(country) == lit(\"Canada\")\n",
      "|\n",
      "* GlobScanOperator\n",
      "|   Glob paths = [owners/*/*]\n",
      "|   Coerce int96 timestamp unit = Nanoseconds\n",
      "|   IO config = S3 config = { Max connections = 8, Retry initial backoff ms = 1000, Connect timeout ms = 30000, Read timeout ms = 30000, Max retries = 25, Retry mode = adaptive, Anonymous = false, Use SSL = true, Verify SSL = true, Check hostname SSL = true, Requester pays = false }, Azure config = { Anoynmous = false, Use SSL = true }, GCS config = { Anoynmous = false }\n",
      "|   Use multithreading = true\n",
      "|   File schema = first_name#Utf8, last_name#Utf8, age#Int64, DoB#Date, country#Utf8, has_dog#Boolean\n",
      "|   Partitioning keys = []\n",
      "|   Output schema = first_name#Utf8, last_name#Utf8, age#Int64, DoB#Date, country#Utf8, has_dog#Boolean\n",
      "\n",
      "\n",
      "== Optimized Logical Plan ==\n",
      "\n",
      "* GlobScanOperator\n",
      "|   Glob paths = [owners/*/*]\n",
      "|   Coerce int96 timestamp unit = Nanoseconds\n",
      "|   IO config = S3 config = { Max connections = 8, Retry initial backoff ms = 1000, Connect timeout ms = 30000, Read timeout ms = 30000, Max retries = 25, Retry mode = adaptive, Anonymous = false, Use SSL = true, Verify SSL = true, Check hostname SSL = true, Requester pays = false }, Azure config = { Anoynmous = false, Use SSL = true }, GCS config = { Anoynmous = false }\n",
      "|   Use multithreading = true\n",
      "|   File schema = first_name#Utf8, last_name#Utf8, age#Int64, DoB#Date, country#Utf8, has_dog#Boolean\n",
      "|   Partitioning keys = []\n",
      "|   Filter pushdown = col(country) == lit(\"Canada\")\n",
      "|   Output schema = first_name#Utf8, last_name#Utf8, age#Int64, DoB#Date, country#Utf8, has_dog#Boolean\n",
      "\n",
      "\n",
      "== Physical Plan ==\n",
      "\n",
      "* TabularScan:\n",
      "|   Num Scan Tasks = 1\n",
      "|   Estimated Scan Bytes = 6349\n",
      "|   Clustering spec = { Num partitions = 1 }\n",
      "\n"
     ]
    }
   ],
   "source": [
    "df.where(df[\"country\"] == \"Canada\").explain(show_all=True)"
   ]
  },
  {
   "cell_type": "markdown",
   "metadata": {},
   "source": [
    "Daft creates 3 types of plans:\n",
    "1. an **unoptimized Logical Plan**, to sketch out the rough steps\n",
    "2. an **optimized Logical Plan**, to maximise performance\n",
    "3. a **Physical Plan**, which maps the logical plan to the physical files\n",
    "\n",
    "Because we are filtering our DataFrame on the partition column `country`, Daft can optimize the Logical Plan and save us time and computing resources by only reading a single partition from disk.\n",
    "\n",
    "Use {meth}`df.collect() <daft.DataFrame.collect>` to execute computations on **all** your data and get a little preview of the materialized results. The results are kept in memory so that subsequent operations will avoid recomputations."
   ]
  },
  {
   "cell_type": "markdown",
   "metadata": {},
   "source": [
    "## Expressions\n",
    "\n",
    "See: [Expressions](user_guide/basic_concepts/expressions.rst)\n",
    "\n",
    "Expressions are an API for defining computation that needs to happen over your columns.\n",
    "\n",
    "For example, use the `daft.col()` expression together with the `with_column` method to create a new column `full_name`, joining the contents of the `last_name` column to the `first_name` column:"
   ]
  },
  {
   "cell_type": "code",
   "execution_count": 6,
   "metadata": {},
   "outputs": [
    {
     "data": {
      "text/html": [
       "<div>\n",
       "<table class=\"dataframe\">\n",
       "<thead><tr><th style=\"text-wrap: nowrap; max-width:192px; overflow:auto; text-align:left\">full_name<br />Utf8</th><th style=\"text-wrap: nowrap; max-width:192px; overflow:auto; text-align:left\">age<br />Int64</th><th style=\"text-wrap: nowrap; max-width:192px; overflow:auto; text-align:left\">country<br />Utf8</th><th style=\"text-wrap: nowrap; max-width:192px; overflow:auto; text-align:left\">has_dog<br />Boolean</th></tr></thead>\n",
       "<tbody>\n",
       "<tr><td><div style=\"text-align:left; max-width:192px; max-height:64px; overflow:auto\">Wolfgang Winter</div></td><td><div style=\"text-align:left; max-width:192px; max-height:64px; overflow:auto\">23</div></td><td><div style=\"text-align:left; max-width:192px; max-height:64px; overflow:auto\">Germany</div></td><td><div style=\"text-align:left; max-width:192px; max-height:64px; overflow:auto\">false</div></td></tr>\n",
       "<tr><td><div style=\"text-align:left; max-width:192px; max-height:64px; overflow:auto\">Ernesto Evergreen</div></td><td><div style=\"text-align:left; max-width:192px; max-height:64px; overflow:auto\">34</div></td><td><div style=\"text-align:left; max-width:192px; max-height:64px; overflow:auto\">Canada</div></td><td><div style=\"text-align:left; max-width:192px; max-height:64px; overflow:auto\">true</div></td></tr>\n",
       "<tr><td><div style=\"text-align:left; max-width:192px; max-height:64px; overflow:auto\">Jackie Jale</div></td><td><div style=\"text-align:left; max-width:192px; max-height:64px; overflow:auto\">62</div></td><td><div style=\"text-align:left; max-width:192px; max-height:64px; overflow:auto\">Canada</div></td><td><div style=\"text-align:left; max-width:192px; max-height:64px; overflow:auto\">true</div></td></tr>\n",
       "<tr><td><div style=\"text-align:left; max-width:192px; max-height:64px; overflow:auto\">Sari Salama</div></td><td><div style=\"text-align:left; max-width:192px; max-height:64px; overflow:auto\">57</div></td><td><div style=\"text-align:left; max-width:192px; max-height:64px; overflow:auto\">United Kingdom</div></td><td><div style=\"text-align:left; max-width:192px; max-height:64px; overflow:auto\">true</div></td></tr>\n",
       "<tr><td><div style=\"text-align:left; max-width:192px; max-height:64px; overflow:auto\">Zoya Zee</div></td><td><div style=\"text-align:left; max-width:192px; max-height:64px; overflow:auto\">40</div></td><td><div style=\"text-align:left; max-width:192px; max-height:64px; overflow:auto\">United Kingdom</div></td><td><div style=\"text-align:left; max-width:192px; max-height:64px; overflow:auto\">true</div></td></tr>\n",
       "</tbody>\n",
       "</table>\n",
       "<small>(Showing first 5 of 5 rows)</small>\n",
       "</div>"
      ],
      "text/plain": [
       "╭───────────────────┬───────┬────────────────┬─────────╮\n",
       "│ full_name         ┆ age   ┆ country        ┆ has_dog │\n",
       "│ ---               ┆ ---   ┆ ---            ┆ ---     │\n",
       "│ Utf8              ┆ Int64 ┆ Utf8           ┆ Boolean │\n",
       "╞═══════════════════╪═══════╪════════════════╪═════════╡\n",
       "│ Wolfgang Winter   ┆ 23    ┆ Germany        ┆ false   │\n",
       "├╌╌╌╌╌╌╌╌╌╌╌╌╌╌╌╌╌╌╌┼╌╌╌╌╌╌╌┼╌╌╌╌╌╌╌╌╌╌╌╌╌╌╌╌┼╌╌╌╌╌╌╌╌╌┤\n",
       "│ Ernesto Evergreen ┆ 34    ┆ Canada         ┆ true    │\n",
       "├╌╌╌╌╌╌╌╌╌╌╌╌╌╌╌╌╌╌╌┼╌╌╌╌╌╌╌┼╌╌╌╌╌╌╌╌╌╌╌╌╌╌╌╌┼╌╌╌╌╌╌╌╌╌┤\n",
       "│ Jackie Jale       ┆ 62    ┆ Canada         ┆ true    │\n",
       "├╌╌╌╌╌╌╌╌╌╌╌╌╌╌╌╌╌╌╌┼╌╌╌╌╌╌╌┼╌╌╌╌╌╌╌╌╌╌╌╌╌╌╌╌┼╌╌╌╌╌╌╌╌╌┤\n",
       "│ Sari Salama       ┆ 57    ┆ United Kingdom ┆ true    │\n",
       "├╌╌╌╌╌╌╌╌╌╌╌╌╌╌╌╌╌╌╌┼╌╌╌╌╌╌╌┼╌╌╌╌╌╌╌╌╌╌╌╌╌╌╌╌┼╌╌╌╌╌╌╌╌╌┤\n",
       "│ Zoya Zee          ┆ 40    ┆ United Kingdom ┆ true    │\n",
       "╰───────────────────┴───────┴────────────────┴─────────╯\n",
       "\n",
       "(Showing first 5 of 5 rows)"
      ]
     },
     "metadata": {},
     "output_type": "display_data"
    }
   ],
   "source": [
    "df_full = df.with_column(\"full_name\", daft.col('first_name') + ' ' + daft.col('last_name'))\n",
    "df_full.select(\"full_name\", \"age\", \"country\", \"has_dog\").show()"
   ]
  },
  {
   "cell_type": "markdown",
   "metadata": {},
   "source": [
    "Some Expression methods are only allowed on certain types and are accessible through \"method accessors\" such as the {meth}`.str <daft.expressions.Expression.str>` accessor (see: [Expression Accessor Properties](expression-accessor-properties)).\n",
    "\n",
    "For example, the {meth}`.str.length() <daft.expressions.expressions.ExpressionStringNamespace.length>` expression is only valid when run on a String column:"
   ]
  },
  {
   "cell_type": "code",
   "execution_count": 7,
   "metadata": {},
   "outputs": [
    {
     "data": {
      "text/html": [
       "<div>\n",
       "<table class=\"dataframe\">\n",
       "<thead><tr><th style=\"text-wrap: nowrap; max-width:192px; overflow:auto; text-align:left\">first_name<br />Utf8</th><th style=\"text-wrap: nowrap; max-width:192px; overflow:auto; text-align:left\">last_name<br />Utf8</th><th style=\"text-wrap: nowrap; max-width:192px; overflow:auto; text-align:left\">age<br />Int64</th><th style=\"text-wrap: nowrap; max-width:192px; overflow:auto; text-align:left\">DoB<br />Date</th><th style=\"text-wrap: nowrap; max-width:192px; overflow:auto; text-align:left\">country<br />Utf8</th><th style=\"text-wrap: nowrap; max-width:192px; overflow:auto; text-align:left\">has_dog<br />Boolean</th><th style=\"text-wrap: nowrap; max-width:192px; overflow:auto; text-align:left\">full_name<br />Utf8</th><th style=\"text-wrap: nowrap; max-width:192px; overflow:auto; text-align:left\">DoB_year<br />Int32</th></tr></thead>\n",
       "<tbody>\n",
       "<tr><td><div style=\"text-align:left; max-width:192px; max-height:64px; overflow:auto\">Ernesto</div></td><td><div style=\"text-align:left; max-width:192px; max-height:64px; overflow:auto\">Evergreen</div></td><td><div style=\"text-align:left; max-width:192px; max-height:64px; overflow:auto\">34</div></td><td><div style=\"text-align:left; max-width:192px; max-height:64px; overflow:auto\">1990-04-03</div></td><td><div style=\"text-align:left; max-width:192px; max-height:64px; overflow:auto\">Canada</div></td><td><div style=\"text-align:left; max-width:192px; max-height:64px; overflow:auto\">true</div></td><td><div style=\"text-align:left; max-width:192px; max-height:64px; overflow:auto\">Ernesto Evergreen</div></td><td><div style=\"text-align:left; max-width:192px; max-height:64px; overflow:auto\">1990</div></td></tr>\n",
       "<tr><td><div style=\"text-align:left; max-width:192px; max-height:64px; overflow:auto\">Jackie</div></td><td><div style=\"text-align:left; max-width:192px; max-height:64px; overflow:auto\">Jale</div></td><td><div style=\"text-align:left; max-width:192px; max-height:64px; overflow:auto\">62</div></td><td><div style=\"text-align:left; max-width:192px; max-height:64px; overflow:auto\">1962-03-24</div></td><td><div style=\"text-align:left; max-width:192px; max-height:64px; overflow:auto\">Canada</div></td><td><div style=\"text-align:left; max-width:192px; max-height:64px; overflow:auto\">true</div></td><td><div style=\"text-align:left; max-width:192px; max-height:64px; overflow:auto\">Jackie Jale</div></td><td><div style=\"text-align:left; max-width:192px; max-height:64px; overflow:auto\">1962</div></td></tr>\n",
       "<tr><td><div style=\"text-align:left; max-width:192px; max-height:64px; overflow:auto\">Sari</div></td><td><div style=\"text-align:left; max-width:192px; max-height:64px; overflow:auto\">Salama</div></td><td><div style=\"text-align:left; max-width:192px; max-height:64px; overflow:auto\">57</div></td><td><div style=\"text-align:left; max-width:192px; max-height:64px; overflow:auto\">1967-01-02</div></td><td><div style=\"text-align:left; max-width:192px; max-height:64px; overflow:auto\">United Kingdom</div></td><td><div style=\"text-align:left; max-width:192px; max-height:64px; overflow:auto\">true</div></td><td><div style=\"text-align:left; max-width:192px; max-height:64px; overflow:auto\">Sari Salama</div></td><td><div style=\"text-align:left; max-width:192px; max-height:64px; overflow:auto\">1967</div></td></tr>\n",
       "<tr><td><div style=\"text-align:left; max-width:192px; max-height:64px; overflow:auto\">Zoya</div></td><td><div style=\"text-align:left; max-width:192px; max-height:64px; overflow:auto\">Zee</div></td><td><div style=\"text-align:left; max-width:192px; max-height:64px; overflow:auto\">40</div></td><td><div style=\"text-align:left; max-width:192px; max-height:64px; overflow:auto\">1984-04-07</div></td><td><div style=\"text-align:left; max-width:192px; max-height:64px; overflow:auto\">United Kingdom</div></td><td><div style=\"text-align:left; max-width:192px; max-height:64px; overflow:auto\">true</div></td><td><div style=\"text-align:left; max-width:192px; max-height:64px; overflow:auto\">Zoya Zee</div></td><td><div style=\"text-align:left; max-width:192px; max-height:64px; overflow:auto\">1984</div></td></tr>\n",
       "<tr><td><div style=\"text-align:left; max-width:192px; max-height:64px; overflow:auto\">Wolfgang</div></td><td><div style=\"text-align:left; max-width:192px; max-height:64px; overflow:auto\">Winter</div></td><td><div style=\"text-align:left; max-width:192px; max-height:64px; overflow:auto\">23</div></td><td><div style=\"text-align:left; max-width:192px; max-height:64px; overflow:auto\">2001-02-12</div></td><td><div style=\"text-align:left; max-width:192px; max-height:64px; overflow:auto\">Germany</div></td><td><div style=\"text-align:left; max-width:192px; max-height:64px; overflow:auto\">false</div></td><td><div style=\"text-align:left; max-width:192px; max-height:64px; overflow:auto\">Wolfgang Winter</div></td><td><div style=\"text-align:left; max-width:192px; max-height:64px; overflow:auto\">2001</div></td></tr>\n",
       "</tbody>\n",
       "</table>\n",
       "<small>(Showing first 5 of 5 rows)</small>\n",
       "</div>"
      ],
      "text/plain": [
       "╭────────────┬───────────┬───────┬────────────┬─────────┬───────────────────┬──────────╮\n",
       "│ first_name ┆ last_name ┆ age   ┆      …     ┆ has_dog ┆ full_name         ┆ DoB_year │\n",
       "│ ---        ┆ ---       ┆ ---   ┆            ┆ ---     ┆ ---               ┆ ---      │\n",
       "│ Utf8       ┆ Utf8      ┆ Int64 ┆ (2 hidden) ┆ Boolean ┆ Utf8              ┆ Int32    │\n",
       "╞════════════╪═══════════╪═══════╪════════════╪═════════╪═══════════════════╪══════════╡\n",
       "│ Ernesto    ┆ Evergreen ┆ 34    ┆ …          ┆ true    ┆ Ernesto Evergreen ┆ 1990     │\n",
       "├╌╌╌╌╌╌╌╌╌╌╌╌┼╌╌╌╌╌╌╌╌╌╌╌┼╌╌╌╌╌╌╌┼╌╌╌╌╌╌╌╌╌╌╌╌┼╌╌╌╌╌╌╌╌╌┼╌╌╌╌╌╌╌╌╌╌╌╌╌╌╌╌╌╌╌┼╌╌╌╌╌╌╌╌╌╌┤\n",
       "│ Jackie     ┆ Jale      ┆ 62    ┆ …          ┆ true    ┆ Jackie Jale       ┆ 1962     │\n",
       "├╌╌╌╌╌╌╌╌╌╌╌╌┼╌╌╌╌╌╌╌╌╌╌╌┼╌╌╌╌╌╌╌┼╌╌╌╌╌╌╌╌╌╌╌╌┼╌╌╌╌╌╌╌╌╌┼╌╌╌╌╌╌╌╌╌╌╌╌╌╌╌╌╌╌╌┼╌╌╌╌╌╌╌╌╌╌┤\n",
       "│ Sari       ┆ Salama    ┆ 57    ┆ …          ┆ true    ┆ Sari Salama       ┆ 1967     │\n",
       "├╌╌╌╌╌╌╌╌╌╌╌╌┼╌╌╌╌╌╌╌╌╌╌╌┼╌╌╌╌╌╌╌┼╌╌╌╌╌╌╌╌╌╌╌╌┼╌╌╌╌╌╌╌╌╌┼╌╌╌╌╌╌╌╌╌╌╌╌╌╌╌╌╌╌╌┼╌╌╌╌╌╌╌╌╌╌┤\n",
       "│ Zoya       ┆ Zee       ┆ 40    ┆ …          ┆ true    ┆ Zoya Zee          ┆ 1984     │\n",
       "├╌╌╌╌╌╌╌╌╌╌╌╌┼╌╌╌╌╌╌╌╌╌╌╌┼╌╌╌╌╌╌╌┼╌╌╌╌╌╌╌╌╌╌╌╌┼╌╌╌╌╌╌╌╌╌┼╌╌╌╌╌╌╌╌╌╌╌╌╌╌╌╌╌╌╌┼╌╌╌╌╌╌╌╌╌╌┤\n",
       "│ Wolfgang   ┆ Winter    ┆ 23    ┆ …          ┆ false   ┆ Wolfgang Winter   ┆ 2001     │\n",
       "╰────────────┴───────────┴───────┴────────────┴─────────┴───────────────────┴──────────╯\n",
       "\n",
       "(Showing first 5 of 5 rows)"
      ]
     },
     "metadata": {},
     "output_type": "display_data"
    }
   ],
   "source": [
    "df_full_year = df_full.with_column(\"DoB_year\", df[\"DoB\"].dt.year())\n",
    "df_full_year.show()"
   ]
  },
  {
   "cell_type": "code",
   "execution_count": null,
   "metadata": {},
   "outputs": [],
   "source": []
  },
  {
   "cell_type": "code",
   "execution_count": null,
   "metadata": {},
   "outputs": [],
   "source": []
  },
  {
   "cell_type": "markdown",
   "metadata": {},
   "source": [
    "### Merging DataFrames\n",
    "\n",
    "DataFrames can be joined with {meth}`df.join() <daft.DataFrame.join>`."
   ]
  },
  {
   "cell_type": "code",
   "execution_count": null,
   "metadata": {},
   "outputs": [],
   "source": [
    "# join df_full to df_dogs > df_family\n",
    "# puppy time as really the practical application that brings it all together\n"
   ]
  },
  {
   "cell_type": "code",
   "execution_count": null,
   "metadata": {},
   "outputs": [],
   "source": [
    "# read in Parquet file with image URLs (Flickr?)\n"
   ]
  },
  {
   "cell_type": "code",
   "execution_count": null,
   "metadata": {},
   "outputs": [],
   "source": []
  },
  {
   "cell_type": "code",
   "execution_count": null,
   "metadata": {},
   "outputs": [],
   "source": [
    "# missing data"
   ]
  },
  {
   "cell_type": "code",
   "execution_count": 8,
   "metadata": {},
   "outputs": [],
   "source": [
    "# grouping and aggregations"
   ]
  },
  {
   "cell_type": "code",
   "execution_count": null,
   "metadata": {},
   "outputs": [],
   "source": []
  },
  {
   "cell_type": "markdown",
   "metadata": {},
   "source": [
    "## Puppy time!\n",
    "\n",
    "You've made it half-way! Time to bring in some fluffy beings 🐶\n",
    "\n",
    "Let's bring all of the elements you've learned together to see how you can use Daft to:\n",
    "- work with **multimodal data** like Python classes, URLs, and Images,\n",
    "- apply **custom User-Defined Functions** to your columns,\n",
    "- and **run ML workloads** within your DataFrame."
   ]
  },
  {
   "cell_type": "code",
   "execution_count": null,
   "metadata": {},
   "outputs": [],
   "source": [
    "# run ML classifier on dog images?\n",
    "# or point to separate tutorial where we do that?"
   ]
  },
  {
   "cell_type": "code",
   "execution_count": null,
   "metadata": {},
   "outputs": [],
   "source": []
  },
  {
   "cell_type": "code",
   "execution_count": null,
   "metadata": {},
   "outputs": [],
   "source": []
  },
  {
   "cell_type": "code",
   "execution_count": 3,
   "metadata": {
    "tags": []
   },
   "outputs": [
    {
     "data": {
      "text/html": [
       "<div>\n",
       "<table class=\"dataframe\">\n",
       "<thead><tr><th style=\"text-wrap: nowrap; max-width:192px; overflow:auto; text-align:left\">integers<br />Int64</th><th style=\"text-wrap: nowrap; max-width:192px; overflow:auto; text-align:left\">floats<br />Float64</th><th style=\"text-wrap: nowrap; max-width:192px; overflow:auto; text-align:left\">bools<br />Boolean</th><th style=\"text-wrap: nowrap; max-width:192px; overflow:auto; text-align:left\">strings<br />Utf8</th><th style=\"text-wrap: nowrap; max-width:192px; overflow:auto; text-align:left\">bytes<br />Binary</th><th style=\"text-wrap: nowrap; max-width:192px; overflow:auto; text-align:left\">dates<br />Date</th><th style=\"text-wrap: nowrap; max-width:192px; overflow:auto; text-align:left\">lists<br />List[Int64]</th><th style=\"text-wrap: nowrap; max-width:192px; overflow:auto; text-align:left\">nulls<br />Null</th></tr></thead>\n",
       "<tbody>\n",
       "<tr><td><div style=\"text-align:left; max-width:192px; max-height:64px; overflow:auto\">1</div></td><td><div style=\"text-align:left; max-width:192px; max-height:64px; overflow:auto\">1.5</div></td><td><div style=\"text-align:left; max-width:192px; max-height:64px; overflow:auto\">true</div></td><td><div style=\"text-align:left; max-width:192px; max-height:64px; overflow:auto\">a</div></td><td><div style=\"text-align:left; max-width:192px; max-height:64px; overflow:auto\">b\"a\"</div></td><td><div style=\"text-align:left; max-width:192px; max-height:64px; overflow:auto\">1994-01-01</div></td><td><div style=\"text-align:left; max-width:192px; max-height:64px; overflow:auto\">[1, 1, 1]</div></td><td><div style=\"text-align:left; max-width:192px; max-height:64px; overflow:auto\">None</div></td></tr>\n",
       "<tr><td><div style=\"text-align:left; max-width:192px; max-height:64px; overflow:auto\">2</div></td><td><div style=\"text-align:left; max-width:192px; max-height:64px; overflow:auto\">2.5</div></td><td><div style=\"text-align:left; max-width:192px; max-height:64px; overflow:auto\">true</div></td><td><div style=\"text-align:left; max-width:192px; max-height:64px; overflow:auto\">b</div></td><td><div style=\"text-align:left; max-width:192px; max-height:64px; overflow:auto\">b\"b\"</div></td><td><div style=\"text-align:left; max-width:192px; max-height:64px; overflow:auto\">1994-01-02</div></td><td><div style=\"text-align:left; max-width:192px; max-height:64px; overflow:auto\">[2, 2, 2]</div></td><td><div style=\"text-align:left; max-width:192px; max-height:64px; overflow:auto\">None</div></td></tr>\n",
       "<tr><td><div style=\"text-align:left; max-width:192px; max-height:64px; overflow:auto\">3</div></td><td><div style=\"text-align:left; max-width:192px; max-height:64px; overflow:auto\">3.5</div></td><td><div style=\"text-align:left; max-width:192px; max-height:64px; overflow:auto\">false</div></td><td><div style=\"text-align:left; max-width:192px; max-height:64px; overflow:auto\">c</div></td><td><div style=\"text-align:left; max-width:192px; max-height:64px; overflow:auto\">b\"c\"</div></td><td><div style=\"text-align:left; max-width:192px; max-height:64px; overflow:auto\">1994-01-03</div></td><td><div style=\"text-align:left; max-width:192px; max-height:64px; overflow:auto\">[3, 3, 3]</div></td><td><div style=\"text-align:left; max-width:192px; max-height:64px; overflow:auto\">None</div></td></tr>\n",
       "<tr><td><div style=\"text-align:left; max-width:192px; max-height:64px; overflow:auto\">4</div></td><td><div style=\"text-align:left; max-width:192px; max-height:64px; overflow:auto\">4.5</div></td><td><div style=\"text-align:left; max-width:192px; max-height:64px; overflow:auto\">false</div></td><td><div style=\"text-align:left; max-width:192px; max-height:64px; overflow:auto\">d</div></td><td><div style=\"text-align:left; max-width:192px; max-height:64px; overflow:auto\">b\"d\"</div></td><td><div style=\"text-align:left; max-width:192px; max-height:64px; overflow:auto\">1994-01-04</div></td><td><div style=\"text-align:left; max-width:192px; max-height:64px; overflow:auto\">[4, 4, 4]</div></td><td><div style=\"text-align:left; max-width:192px; max-height:64px; overflow:auto\">None</div></td></tr>\n",
       "</tbody>\n",
       "</table>\n",
       "<small>(Showing first 4 of 4 rows)</small>\n",
       "</div>"
      ],
      "text/plain": [
       "╭──────────┬─────────┬─────────┬────────────┬────────────┬─────────────┬───────╮\n",
       "│ integers ┆ floats  ┆ bools   ┆      …     ┆ dates      ┆ lists       ┆ nulls │\n",
       "│ ---      ┆ ---     ┆ ---     ┆            ┆ ---        ┆ ---         ┆ ---   │\n",
       "│ Int64    ┆ Float64 ┆ Boolean ┆ (2 hidden) ┆ Date       ┆ List[Int64] ┆ Null  │\n",
       "╞══════════╪═════════╪═════════╪════════════╪════════════╪═════════════╪═══════╡\n",
       "│ 1        ┆ 1.5     ┆ true    ┆ …          ┆ 1994-01-01 ┆ [1, 1, 1]   ┆ None  │\n",
       "├╌╌╌╌╌╌╌╌╌╌┼╌╌╌╌╌╌╌╌╌┼╌╌╌╌╌╌╌╌╌┼╌╌╌╌╌╌╌╌╌╌╌╌┼╌╌╌╌╌╌╌╌╌╌╌╌┼╌╌╌╌╌╌╌╌╌╌╌╌╌┼╌╌╌╌╌╌╌┤\n",
       "│ 2        ┆ 2.5     ┆ true    ┆ …          ┆ 1994-01-02 ┆ [2, 2, 2]   ┆ None  │\n",
       "├╌╌╌╌╌╌╌╌╌╌┼╌╌╌╌╌╌╌╌╌┼╌╌╌╌╌╌╌╌╌┼╌╌╌╌╌╌╌╌╌╌╌╌┼╌╌╌╌╌╌╌╌╌╌╌╌┼╌╌╌╌╌╌╌╌╌╌╌╌╌┼╌╌╌╌╌╌╌┤\n",
       "│ 3        ┆ 3.5     ┆ false   ┆ …          ┆ 1994-01-03 ┆ [3, 3, 3]   ┆ None  │\n",
       "├╌╌╌╌╌╌╌╌╌╌┼╌╌╌╌╌╌╌╌╌┼╌╌╌╌╌╌╌╌╌┼╌╌╌╌╌╌╌╌╌╌╌╌┼╌╌╌╌╌╌╌╌╌╌╌╌┼╌╌╌╌╌╌╌╌╌╌╌╌╌┼╌╌╌╌╌╌╌┤\n",
       "│ 4        ┆ 4.5     ┆ false   ┆ …          ┆ 1994-01-04 ┆ [4, 4, 4]   ┆ None  │\n",
       "╰──────────┴─────────┴─────────┴────────────┴────────────┴─────────────┴───────╯\n",
       "\n",
       "(Showing first 4 of 4 rows)"
      ]
     },
     "execution_count": 3,
     "metadata": {},
     "output_type": "execute_result"
    }
   ],
   "source": [
    "import datetime\n",
    "\n",
    "df = daft.from_pydict({\n",
    "    \"integers\": [1, 2, 3, 4],\n",
    "    \"floats\": [1.5, 2.5, 3.5, 4.5],\n",
    "    \"bools\": [True, True, False, False],\n",
    "    \"strings\": [\"a\", \"b\", \"c\", \"d\"],\n",
    "    \"bytes\": [b\"a\", b\"b\", b\"c\", b\"d\"],\n",
    "    \"dates\": [datetime.date(1994, 1, 1), datetime.date(1994, 1, 2), datetime.date(1994, 1, 3), datetime.date(1994, 1, 4)],\n",
    "    \"lists\": [[1, 1, 1], [2, 2, 2], [3, 3, 3], [4, 4, 4]],\n",
    "    \"nulls\": [None, None, None, None],\n",
    "})\n",
    "df"
   ]
  },
  {
   "attachments": {},
   "cell_type": "markdown",
   "metadata": {},
   "source": [
    "You can also load DataFrames from other sources, such as:\n",
    "\n",
    "1. CSV files: {func}`daft.read_csv(\"s3://bucket/*.csv\") <daft.read_csv>`\n",
    "2. Parquet files: {func}`daft.read_parquet(\"/path/*.parquet\") <daft.read_parquet>`\n",
    "3. JSON line-delimited files: {func}`daft.read_json(\"/path/*.parquet\") <daft.read_json>`\n",
    "4. Files on disk: {func}`daft.from_glob_path(\"/path/*.jpeg\") <daft.from_glob_path>`\n",
    "\n",
    "Daft automatically supports local paths as well as paths to object storage such as AWS S3."
   ]
  },
  {
   "attachments": {},
   "cell_type": "markdown",
   "metadata": {},
   "source": [
    "Let's try to select the columns from our DataFrame that are not nulls:"
   ]
  },
  {
   "cell_type": "code",
   "execution_count": 26,
   "metadata": {
    "tags": []
   },
   "outputs": [
    {
     "data": {
      "text/html": [
       "<div>\n",
       "<table class=\"dataframe\">\n",
       "<thead><tr><th style=\"text-wrap: nowrap; max-width:192px; overflow:auto\">integers<br />Int64</th><th style=\"text-wrap: nowrap; max-width:192px; overflow:auto\">floats<br />Float64</th><th style=\"text-wrap: nowrap; max-width:192px; overflow:auto\">bools<br />Boolean</th><th style=\"text-wrap: nowrap; max-width:192px; overflow:auto\">strings<br />Utf8</th><th style=\"text-wrap: nowrap; max-width:192px; overflow:auto\">bytes<br />Binary</th><th style=\"text-wrap: nowrap; max-width:192px; overflow:auto\">dates<br />Date</th><th style=\"text-wrap: nowrap; max-width:192px; overflow:auto\">lists<br />List[Int64]</th></tr></thead>\n",
       "</table>\n",
       "<small>(No data to display: Dataframe not materialized)</small>\n",
       "</div>"
      ],
      "text/plain": [
       "╭──────────┬─────────┬─────────┬────────────┬────────┬───────┬─────────────╮\n",
       "│ integers ┆ floats  ┆ bools   ┆      …     ┆ bytes  ┆ dates ┆ lists       │\n",
       "│ ---      ┆ ---     ┆ ---     ┆            ┆ ---    ┆ ---   ┆ ---         │\n",
       "│ Int64    ┆ Float64 ┆ Boolean ┆ (1 hidden) ┆ Binary ┆ Date  ┆ List[Int64] │\n",
       "╰──────────┴─────────┴─────────┴────────────┴────────┴───────┴─────────────╯\n",
       "\n",
       "(No data to display: Dataframe not materialized)"
      ]
     },
     "execution_count": 26,
     "metadata": {},
     "output_type": "execute_result"
    }
   ],
   "source": [
    "df = df.select(\"integers\", \"floats\", \"bools\", \"strings\", \"bytes\", \"dates\", \"lists\")\n",
    "df"
   ]
  },
  {
   "cell_type": "code",
   "execution_count": null,
   "metadata": {},
   "outputs": [],
   "source": []
  },
  {
   "cell_type": "code",
   "execution_count": null,
   "metadata": {},
   "outputs": [],
   "source": []
  },
  {
   "cell_type": "code",
   "execution_count": null,
   "metadata": {},
   "outputs": [],
   "source": []
  },
  {
   "attachments": {},
   "cell_type": "markdown",
   "metadata": {},
   "source": [
    "Another example of a useful method accessor is the {meth}`.url <daft.expressions.Expression.url>` accessor. You can use {meth}`.url.download() <daft.expressions.expressions.ExpressionUrlNamespace.download>` to download data from a column of URLs like so:"
   ]
  },
  {
   "cell_type": "code",
   "execution_count": 14,
   "metadata": {
    "tags": []
   },
   "outputs": [
    {
     "data": {
      "text/html": [
       "<div>\n",
       "    <table class=\"dataframe\">\n",
       "<thead>\n",
       "<tr><th>urls<br>Utf8                                                </th><th>image_bytes<br>Binary                                       </th></tr>\n",
       "</thead>\n",
       "<tbody>\n",
       "<tr><td>http://farm9.staticflickr.com/8186/8119368305_4e622c8349_...</td><td>b'\\xff\\xd8\\xff\\xe1\\x00TExif\\x00\\x00MM\\x00*\\x00\\x00\\x00\\x0...</td></tr>\n",
       "<tr><td>http://farm1.staticflickr.com/1/127244861_ab0c0381e7_z.jpg  </td><td>b'\\xff\\xd8\\xff\\xe1\\x00(Exif\\x00\\x00MM\\x00*\\x00\\x00\\x00\\x0...</td></tr>\n",
       "<tr><td>http://farm3.staticflickr.com/2169/2118578392_1193aa04a0_...</td><td>b'\\xff\\xd8\\xff\\xe1\\x00\\x16Exif\\x00\\x00MM\\x00*\\x00\\x00\\x00...</td></tr>\n",
       "</tbody>\n",
       "</table>\n",
       "    <small>(Showing first 3 of 3 rows)</small>\n",
       "</div>"
      ],
      "text/plain": [
       "+----------------------+----------------------+\n",
       "| urls                 | image_bytes          |\n",
       "| Utf8                 | Binary               |\n",
       "+======================+======================+\n",
       "| http://farm9.staticf | b'\\xff\\xd8\\xff\\xe1\\x |\n",
       "| lickr.com/8186/81193 | 00TExif\\x00\\x00MM\\x0 |\n",
       "| 68305_4e622c8349_... | 0*\\x00\\x00\\x00\\x0... |\n",
       "+----------------------+----------------------+\n",
       "| http://farm1.staticf | b'\\xff\\xd8\\xff\\xe1\\x |\n",
       "| lickr.com/1/12724486 | 00(Exif\\x00\\x00MM\\x0 |\n",
       "| 1_ab0c0381e7_z.jpg   | 0*\\x00\\x00\\x00\\x0... |\n",
       "+----------------------+----------------------+\n",
       "| http://farm3.staticf | b'\\xff\\xd8\\xff\\xe1\\x |\n",
       "| lickr.com/2169/21185 | 00\\x16Exif\\x00\\x00MM |\n",
       "| 78392_1193aa04a0_... | \\x00*\\x00\\x00\\x00... |\n",
       "+----------------------+----------------------+\n",
       "(Showing first 3 of 3 rows)"
      ]
     },
     "execution_count": 14,
     "metadata": {},
     "output_type": "execute_result"
    }
   ],
   "source": [
    "image_url_df = daft.from_pydict({\n",
    "    \"urls\": [\n",
    "        \"http://farm9.staticflickr.com/8186/8119368305_4e622c8349_z.jpg\",\n",
    "        \"http://farm1.staticflickr.com/1/127244861_ab0c0381e7_z.jpg\",\n",
    "        \"http://farm3.staticflickr.com/2169/2118578392_1193aa04a0_z.jpg\",\n",
    "    ],\n",
    "})\n",
    "image_downloaded_df = image_url_df.with_column(\"image_bytes\", image_url_df[\"urls\"].url.download())\n",
    "image_downloaded_df.collect()"
   ]
  },
  {
   "attachments": {},
   "cell_type": "markdown",
   "metadata": {},
   "source": [
    "For a full list of all Expression methods and operators, see: [Expressions API Docs](api_docs/expressions.rst)"
   ]
  },
  {
   "attachments": {},
   "cell_type": "markdown",
   "metadata": {},
   "source": [
    "## Python object columns"
   ]
  },
  {
   "attachments": {},
   "cell_type": "markdown",
   "metadata": {},
   "source": [
    "Daft Dataframes can also contain Python objects. Here is an example of how to create a dataframe with Python objects."
   ]
  },
  {
   "cell_type": "code",
   "execution_count": 15,
   "metadata": {
    "tags": []
   },
   "outputs": [],
   "source": [
    "# Let's define a toy example of a Python class!\n",
    "class Dog:\n",
    "    def __init__(self, name):\n",
    "        self.name = name\n",
    "        \n",
    "    def bark(self):\n",
    "        return f\"{self.name}!\"\n",
    "\n",
    "py_df = daft.from_pydict({\n",
    "    \"dogs\": [Dog(\"ruffles\"), Dog(\"waffles\"), Dog(\"doofus\")],\n",
    "    \"owner\": [\"russell\", \"william\", \"david\"],\n",
    "})"
   ]
  },
  {
   "attachments": {},
   "cell_type": "markdown",
   "metadata": {},
   "source": [
    "Now, when we print our dataframe we can see that it contains our `Dog` Python objects! Also note that the type of the column is {meth}`Python <daft.DataType.python>`."
   ]
  },
  {
   "cell_type": "code",
   "execution_count": 16,
   "metadata": {
    "tags": []
   },
   "outputs": [
    {
     "data": {
      "text/html": [
       "<div>\n",
       "    <table class=\"dataframe\">\n",
       "<thead>\n",
       "<tr><th>dogs<br>Python                            </th><th>owner<br>Utf8  </th></tr>\n",
       "</thead>\n",
       "<tbody>\n",
       "<tr><td>&lt;__main__.Dog object at 0x11ef78ac0&gt;</td><td>russell        </td></tr>\n",
       "<tr><td>&lt;__main__.Dog object at 0x11ef78430&gt;</td><td>william        </td></tr>\n",
       "<tr><td>&lt;__main__.Dog object at 0x11ef78040&gt;</td><td>david          </td></tr>\n",
       "</tbody>\n",
       "</table>\n",
       "    <small>(Showing first 3 of 3 rows)</small>\n",
       "</div>"
      ],
      "text/plain": [
       "+----------------------+---------+\n",
       "| dogs                 | owner   |\n",
       "| Python               | Utf8    |\n",
       "+======================+=========+\n",
       "| <__main__.Dog object | russell |\n",
       "| at 0x11ef78ac0>      |         |\n",
       "+----------------------+---------+\n",
       "| <__main__.Dog object | william |\n",
       "| at 0x11ef78430>      |         |\n",
       "+----------------------+---------+\n",
       "| <__main__.Dog object | david   |\n",
       "| at 0x11ef78040>      |         |\n",
       "+----------------------+---------+\n",
       "(Showing first 3 of 3 rows)"
      ]
     },
     "execution_count": 16,
     "metadata": {},
     "output_type": "execute_result"
    }
   ],
   "source": [
    "py_df.collect()"
   ]
  },
  {
   "attachments": {},
   "cell_type": "markdown",
   "metadata": {},
   "source": [
    "To work with {meth}`Python <daft.DataType.python>` type columns, Daft provides a few useful Expression methods.\n",
    "\n",
    "{meth}`.apply() <daft.expressions.Expression.apply>` is useful to work on each Dog individually and apply a function.\n",
    "\n",
    "Here's an example where we extract a string from each `Dog` by calling `.bark()` on each `Dog` object and return a new `Utf8` column."
   ]
  },
  {
   "cell_type": "code",
   "execution_count": 17,
   "metadata": {
    "tags": []
   },
   "outputs": [
    {
     "data": {
      "text/html": [
       "<div>\n",
       "    <table class=\"dataframe\">\n",
       "<thead>\n",
       "<tr><th>dogs<br>Python                            </th><th>owner<br>Utf8  </th><th>dogs_bark_name<br>Utf8  </th></tr>\n",
       "</thead>\n",
       "<tbody>\n",
       "<tr><td>&lt;__main__.Dog object at 0x11ef78ac0&gt;</td><td>russell        </td><td>ruffles!                </td></tr>\n",
       "<tr><td>&lt;__main__.Dog object at 0x11ef78430&gt;</td><td>william        </td><td>waffles!                </td></tr>\n",
       "<tr><td>&lt;__main__.Dog object at 0x11ef78040&gt;</td><td>david          </td><td>doofus!                 </td></tr>\n",
       "</tbody>\n",
       "</table>\n",
       "    <small>(Showing first 3 of 3 rows)</small>\n",
       "</div>"
      ],
      "text/plain": [
       "+----------------------+---------+------------------+\n",
       "| dogs                 | owner   | dogs_bark_name   |\n",
       "| Python               | Utf8    | Utf8             |\n",
       "+======================+=========+==================+\n",
       "| <__main__.Dog object | russell | ruffles!         |\n",
       "| at 0x11ef78ac0>      |         |                  |\n",
       "+----------------------+---------+------------------+\n",
       "| <__main__.Dog object | william | waffles!         |\n",
       "| at 0x11ef78430>      |         |                  |\n",
       "+----------------------+---------+------------------+\n",
       "| <__main__.Dog object | david   | doofus!          |\n",
       "| at 0x11ef78040>      |         |                  |\n",
       "+----------------------+---------+------------------+\n",
       "(Showing first 3 of 3 rows)"
      ]
     },
     "execution_count": 17,
     "metadata": {},
     "output_type": "execute_result"
    }
   ],
   "source": [
    "py_df.with_column(\n",
    "    \"dogs_bark_name\",\n",
    "    py_df[\"dogs\"].apply(lambda dog: dog.bark(), return_dtype=DataType.string()),\n",
    ").collect()"
   ]
  },
  {
   "attachments": {},
   "cell_type": "markdown",
   "metadata": {},
   "source": [
    "### User-Defined Functions\n",
    "\n",
    "{meth}`.apply() <daft.expressions.Expression.apply>` makes it really easy to map a function on a single column, but is limited in 2 main ways:\n",
    "\n",
    "1. Only runs on a single column: some algorithms require multiple columns as inputs\n",
    "2. Only runs on a single row: some algorithms run much more efficiently when run on a batch of rows instead\n",
    "\n",
    "To overcome these limitations, you can use User-Defined Functions (UDFs).\n",
    "\n",
    "See Also: [UDF User Guide](user_guide/daft_in_depth/udf)"
   ]
  },
  {
   "cell_type": "code",
   "execution_count": 18,
   "metadata": {
    "tags": []
   },
   "outputs": [
    {
     "data": {
      "text/html": [
       "<div>\n",
       "    <table class=\"dataframe\">\n",
       "<thead>\n",
       "<tr><th>dogs<br>Python                            </th><th>owner<br>Utf8  </th><th>custom_bark<br>Utf8   </th></tr>\n",
       "</thead>\n",
       "<tbody>\n",
       "<tr><td>&lt;__main__.Dog object at 0x11ef78ac0&gt;</td><td>russell        </td><td>ruffles loves russell!</td></tr>\n",
       "<tr><td>&lt;__main__.Dog object at 0x11ef78430&gt;</td><td>william        </td><td>waffles loves william!</td></tr>\n",
       "<tr><td>&lt;__main__.Dog object at 0x11ef78040&gt;</td><td>david          </td><td>doofus loves david!   </td></tr>\n",
       "</tbody>\n",
       "</table>\n",
       "    <small>(Showing first 3 of 3 rows)</small>\n",
       "</div>"
      ],
      "text/plain": [
       "+----------------------+---------+---------------------+\n",
       "| dogs                 | owner   | custom_bark         |\n",
       "| Python               | Utf8    | Utf8                |\n",
       "+======================+=========+=====================+\n",
       "| <__main__.Dog object | russell | ruffles loves       |\n",
       "| at 0x11ef78ac0>      |         | russell!            |\n",
       "+----------------------+---------+---------------------+\n",
       "| <__main__.Dog object | william | waffles loves       |\n",
       "| at 0x11ef78430>      |         | william!            |\n",
       "+----------------------+---------+---------------------+\n",
       "| <__main__.Dog object | david   | doofus loves david! |\n",
       "| at 0x11ef78040>      |         |                     |\n",
       "+----------------------+---------+---------------------+\n",
       "(Showing first 3 of 3 rows)"
      ]
     },
     "execution_count": 18,
     "metadata": {},
     "output_type": "execute_result"
    }
   ],
   "source": [
    "from daft import udf\n",
    "\n",
    "@udf(return_dtype=DataType.string())\n",
    "def custom_bark(dog_series, owner_series):\n",
    "    return [\n",
    "        f\"{dog.name} loves {owner_name}!\"\n",
    "        for dog, owner_name\n",
    "        in zip(dog_series.to_pylist(), owner_series.to_pylist())\n",
    "    ]\n",
    "\n",
    "py_df.with_column(\"custom_bark\", custom_bark(py_df[\"dogs\"], py_df[\"owner\"])).collect()"
   ]
  },
  {
   "attachments": {},
   "cell_type": "markdown",
   "metadata": {},
   "source": [
    "## Missing Data\n",
    "\n",
    "All columns in Daft are \"nullable\" by default. Unlike other frameworks such as Pandas, Daft differentiates between \"null\" (missing) and \"nan\" (stands for not a number - a special value indicating an invalid float)."
   ]
  },
  {
   "cell_type": "code",
   "execution_count": 20,
   "metadata": {
    "tags": []
   },
   "outputs": [
    {
     "data": {
      "text/html": [
       "<div>\n",
       "    <table class=\"dataframe\">\n",
       "<thead>\n",
       "<tr><th>floats<br>Float64  </th><th>floats_is_null<br>Boolean  </th><th>floats_is_nan<br>Boolean  </th></tr>\n",
       "</thead>\n",
       "<tbody>\n",
       "<tr><td>1.5                </td><td>false                      </td><td>false                     </td></tr>\n",
       "<tr><td>None               </td><td>true                       </td><td>none                      </td></tr>\n",
       "<tr><td>nan                </td><td>false                      </td><td>true                      </td></tr>\n",
       "</tbody>\n",
       "</table>\n",
       "    <small>(Showing first 3 of 3 rows)</small>\n",
       "</div>"
      ],
      "text/plain": [
       "+-----------+------------------+-----------------+\n",
       "| floats    | floats_is_null   | floats_is_nan   |\n",
       "| Float64   | Boolean          | Boolean         |\n",
       "+===========+==================+=================+\n",
       "| 1.5       | false            | false           |\n",
       "+-----------+------------------+-----------------+\n",
       "| None      | true             | none            |\n",
       "+-----------+------------------+-----------------+\n",
       "| nan       | false            | true            |\n",
       "+-----------+------------------+-----------------+\n",
       "(Showing first 3 of 3 rows)"
      ]
     },
     "execution_count": 20,
     "metadata": {},
     "output_type": "execute_result"
    }
   ],
   "source": [
    "missing_data_df = daft.from_pydict({\n",
    "    \"floats\": [1.5, None, float(\"nan\")],\n",
    "})\n",
    "missing_data_df = missing_data_df \\\n",
    "    .with_column(\"floats_is_null\", missing_data_df[\"floats\"].is_null()) \\\n",
    "    .with_column(\"floats_is_nan\", missing_data_df[\"floats\"].float.is_nan())\n",
    "\n",
    "missing_data_df.collect()"
   ]
  },
  {
   "attachments": {},
   "cell_type": "markdown",
   "metadata": {},
   "source": [
    "To fill in missing values, a useful Expression is the {meth}`.if_else <daft.expressions.Expression.if_else>` expression which can be used to fill in values if the value is null:"
   ]
  },
  {
   "cell_type": "code",
   "execution_count": 21,
   "metadata": {
    "tags": []
   },
   "outputs": [
    {
     "data": {
      "text/html": [
       "<div>\n",
       "    <table class=\"dataframe\">\n",
       "<thead>\n",
       "<tr><th>floats<br>Float64  </th><th>floats_is_null<br>Boolean  </th><th>floats_is_nan<br>Boolean  </th><th style=\"text-align: right;\">  filled_in_floats<br>Float64</th></tr>\n",
       "</thead>\n",
       "<tbody>\n",
       "<tr><td>1.5                </td><td>false                      </td><td>false                     </td><td style=\"text-align: right;\">                          1.5</td></tr>\n",
       "<tr><td>None               </td><td>true                       </td><td>none                      </td><td style=\"text-align: right;\">                          0  </td></tr>\n",
       "<tr><td>nan                </td><td>false                      </td><td>true                      </td><td style=\"text-align: right;\">                        nan  </td></tr>\n",
       "</tbody>\n",
       "</table>\n",
       "    <small>(Showing first 3 of 3 rows)</small>\n",
       "</div>"
      ],
      "text/plain": [
       "+-----------+------------------+-----------------+--------------------+\n",
       "| floats    | floats_is_null   | floats_is_nan   |   filled_in_floats |\n",
       "| Float64   | Boolean          | Boolean         |            Float64 |\n",
       "+===========+==================+=================+====================+\n",
       "| 1.5       | false            | false           |                1.5 |\n",
       "+-----------+------------------+-----------------+--------------------+\n",
       "| None      | true             | none            |                0   |\n",
       "+-----------+------------------+-----------------+--------------------+\n",
       "| nan       | false            | true            |              nan   |\n",
       "+-----------+------------------+-----------------+--------------------+\n",
       "(Showing first 3 of 3 rows)"
      ]
     },
     "execution_count": 21,
     "metadata": {},
     "output_type": "execute_result"
    }
   ],
   "source": [
    "missing_data_df = missing_data_df.with_column(\"filled_in_floats\", (missing_data_df[\"floats\"].is_null()).if_else(0.0, missing_data_df[\"floats\"]))\n",
    "missing_data_df.collect()"
   ]
  },
  {
   "attachments": {},
   "cell_type": "markdown",
   "metadata": {},
   "source": [
    "## Merging Dataframes\n",
    "\n",
    "DataFrames can be joined with {meth}`df.join() <daft.DataFrame.join>`. Here is a naive example of a self-join where we join `df` on itself with column \"A\" as the join key."
   ]
  },
  {
   "cell_type": "code",
   "execution_count": 22,
   "metadata": {
    "tags": []
   },
   "outputs": [],
   "source": [
    "joined_df = df.join(df, on=\"integers\")"
   ]
  },
  {
   "cell_type": "code",
   "execution_count": 23,
   "metadata": {
    "tags": []
   },
   "outputs": [
    {
     "data": {
      "text/html": [
       "<div>\n",
       "    <table class=\"dataframe\">\n",
       "<thead>\n",
       "<tr><th style=\"text-align: right;\">  integers<br>Int64</th><th style=\"text-align: right;\">  floats<br>Float64</th><th>bools<br>Boolean  </th><th>strings<br>Utf8  </th><th>bytes<br>Binary  </th><th>dates<br>Date  </th><th>lists<br>List[Int64]  </th><th style=\"text-align: right;\">  right.floats<br>Float64</th><th>right.bools<br>Boolean  </th><th>right.strings<br>Utf8  </th><th>right.bytes<br>Binary  </th><th>right.dates<br>Date  </th><th>right.lists<br>List[Int64]  </th></tr>\n",
       "</thead>\n",
       "<tbody>\n",
       "<tr><td style=\"text-align: right;\">                  1</td><td style=\"text-align: right;\">                1.5</td><td>true              </td><td>a                </td><td>b'a'             </td><td>1994-01-01     </td><td>[1, 1, 1]             </td><td style=\"text-align: right;\">                      1.5</td><td>true                    </td><td>a                      </td><td>b'a'                   </td><td>1994-01-01           </td><td>[1, 1, 1]                   </td></tr>\n",
       "<tr><td style=\"text-align: right;\">                  2</td><td style=\"text-align: right;\">                2.5</td><td>true              </td><td>b                </td><td>b'b'             </td><td>1994-01-02     </td><td>[2, 2, 2]             </td><td style=\"text-align: right;\">                      2.5</td><td>true                    </td><td>b                      </td><td>b'b'                   </td><td>1994-01-02           </td><td>[2, 2, 2]                   </td></tr>\n",
       "<tr><td style=\"text-align: right;\">                  3</td><td style=\"text-align: right;\">                3.5</td><td>false             </td><td>c                </td><td>b'c'             </td><td>1994-01-03     </td><td>[3, 3, 3]             </td><td style=\"text-align: right;\">                      3.5</td><td>false                   </td><td>c                      </td><td>b'c'                   </td><td>1994-01-03           </td><td>[3, 3, 3]                   </td></tr>\n",
       "<tr><td style=\"text-align: right;\">                  4</td><td style=\"text-align: right;\">                4.5</td><td>false             </td><td>d                </td><td>b'd'             </td><td>1994-01-04     </td><td>[4, 4, 4]             </td><td style=\"text-align: right;\">                      4.5</td><td>false                   </td><td>d                      </td><td>b'd'                   </td><td>1994-01-04           </td><td>[4, 4, 4]                   </td></tr>\n",
       "</tbody>\n",
       "</table>\n",
       "    <small>(Showing first 4 of 4 rows)</small>\n",
       "</div>"
      ],
      "text/plain": [
       "+------------+-----------+-----------+-----------+----------+------------+---------------+----------------+---------------+-----------------+---------------+---------------+---------------+\n",
       "|   integers |    floats | bools     | strings   | bytes    | dates      | lists         |   right.floats | right.bools   | right.strings   | right.bytes   | right.dates   | right.lists   |\n",
       "|      Int64 |   Float64 | Boolean   | Utf8      | Binary   | Date       | List[Int64]   |        Float64 | Boolean       | Utf8            | Binary        | Date          | List[Int64]   |\n",
       "+============+===========+===========+===========+==========+============+===============+================+===============+=================+===============+===============+===============+\n",
       "|          1 |       1.5 | true      | a         | b'a'     | 1994-01-01 | [1, 1, 1]     |            1.5 | true          | a               | b'a'          | 1994-01-01    | [1, 1, 1]     |\n",
       "+------------+-----------+-----------+-----------+----------+------------+---------------+----------------+---------------+-----------------+---------------+---------------+---------------+\n",
       "|          2 |       2.5 | true      | b         | b'b'     | 1994-01-02 | [2, 2, 2]     |            2.5 | true          | b               | b'b'          | 1994-01-02    | [2, 2, 2]     |\n",
       "+------------+-----------+-----------+-----------+----------+------------+---------------+----------------+---------------+-----------------+---------------+---------------+---------------+\n",
       "|          3 |       3.5 | false     | c         | b'c'     | 1994-01-03 | [3, 3, 3]     |            3.5 | false         | c               | b'c'          | 1994-01-03    | [3, 3, 3]     |\n",
       "+------------+-----------+-----------+-----------+----------+------------+---------------+----------------+---------------+-----------------+---------------+---------------+---------------+\n",
       "|          4 |       4.5 | false     | d         | b'd'     | 1994-01-04 | [4, 4, 4]     |            4.5 | false         | d               | b'd'          | 1994-01-04    | [4, 4, 4]     |\n",
       "+------------+-----------+-----------+-----------+----------+------------+---------------+----------------+---------------+-----------------+---------------+---------------+---------------+\n",
       "(Showing first 4 of 4 rows)"
      ]
     },
     "execution_count": 23,
     "metadata": {},
     "output_type": "execute_result"
    }
   ],
   "source": [
    "joined_df.collect()"
   ]
  },
  {
   "attachments": {},
   "cell_type": "markdown",
   "metadata": {},
   "source": [
    "## Grouping and Aggregations\n",
    "\n",
    "Groupby aggregation operations over a dataset happens in 2 phases:\n",
    "\n",
    "1. Splitting the data into groups based on some criteria using {meth}`df.groupby() <daft.DataFrame.groupby>`\n",
    "2. Specifying how to aggregate the data for each group using {meth}`GroupedDataFrame.agg() <daft.dataframe.dataframe.GroupedDataFrame.agg>`\n",
    "\n",
    "Let's take a look at an example:"
   ]
  },
  {
   "cell_type": "code",
   "execution_count": 24,
   "metadata": {
    "tags": []
   },
   "outputs": [
    {
     "data": {
      "text/html": [
       "<div>\n",
       "    <table class=\"dataframe\">\n",
       "<thead>\n",
       "<tr><th>A<br>Utf8  </th><th>B<br>Utf8  </th><th style=\"text-align: right;\">  C<br>Int64</th><th style=\"text-align: right;\">  D<br>Int64</th></tr>\n",
       "</thead>\n",
       "<tbody>\n",
       "<tr><td>foo        </td><td>a          </td><td style=\"text-align: right;\">           0</td><td style=\"text-align: right;\">           0</td></tr>\n",
       "<tr><td>bar        </td><td>a          </td><td style=\"text-align: right;\">           1</td><td style=\"text-align: right;\">           1</td></tr>\n",
       "<tr><td>foo        </td><td>b          </td><td style=\"text-align: right;\">           2</td><td style=\"text-align: right;\">           2</td></tr>\n",
       "<tr><td>bar        </td><td>c          </td><td style=\"text-align: right;\">           3</td><td style=\"text-align: right;\">           3</td></tr>\n",
       "<tr><td>foo        </td><td>b          </td><td style=\"text-align: right;\">           4</td><td style=\"text-align: right;\">           4</td></tr>\n",
       "<tr><td>bar        </td><td>b          </td><td style=\"text-align: right;\">           5</td><td style=\"text-align: right;\">           5</td></tr>\n",
       "<tr><td>foo        </td><td>a          </td><td style=\"text-align: right;\">           6</td><td style=\"text-align: right;\">           6</td></tr>\n",
       "<tr><td>foo        </td><td>c          </td><td style=\"text-align: right;\">           7</td><td style=\"text-align: right;\">           7</td></tr>\n",
       "</tbody>\n",
       "</table>\n",
       "    <small>(Showing first 8 of 8 rows)</small>\n",
       "</div>"
      ],
      "text/plain": [
       "+--------+--------+---------+---------+\n",
       "| A      | B      |       C |       D |\n",
       "| Utf8   | Utf8   |   Int64 |   Int64 |\n",
       "+========+========+=========+=========+\n",
       "| foo    | a      |       0 |       0 |\n",
       "+--------+--------+---------+---------+\n",
       "| bar    | a      |       1 |       1 |\n",
       "+--------+--------+---------+---------+\n",
       "| foo    | b      |       2 |       2 |\n",
       "+--------+--------+---------+---------+\n",
       "| bar    | c      |       3 |       3 |\n",
       "+--------+--------+---------+---------+\n",
       "| foo    | b      |       4 |       4 |\n",
       "+--------+--------+---------+---------+\n",
       "| bar    | b      |       5 |       5 |\n",
       "+--------+--------+---------+---------+\n",
       "| foo    | a      |       6 |       6 |\n",
       "+--------+--------+---------+---------+\n",
       "| foo    | c      |       7 |       7 |\n",
       "+--------+--------+---------+---------+\n",
       "(Showing first 8 of 8 rows)"
      ]
     },
     "execution_count": 24,
     "metadata": {},
     "output_type": "execute_result"
    }
   ],
   "source": [
    "grouping_df = daft.from_pydict(\n",
    "    {\n",
    "        \"A\": [\"foo\", \"bar\", \"foo\", \"bar\", \"foo\", \"bar\", \"foo\", \"foo\"],\n",
    "        \"B\": [\"a\", \"a\", \"b\", \"c\", \"b\", \"b\", \"a\", \"c\"],\n",
    "        \"C\": [i for i in range(8)],\n",
    "        \"D\": [i for i in range(8)],\n",
    "    }\n",
    ")\n",
    "grouping_df.collect()"
   ]
  },
  {
   "attachments": {},
   "cell_type": "markdown",
   "metadata": {},
   "source": [
    "First we group by \"A\", so that we will evaluate rows with `A=foo` and `A=bar` separately in their respective groups."
   ]
  },
  {
   "cell_type": "code",
   "execution_count": 25,
   "metadata": {
    "tags": []
   },
   "outputs": [
    {
     "data": {
      "text/plain": [
       "GroupedDataFrame(df=+--------+--------+---------+---------+\n",
       "| A      | B      |       C |       D |\n",
       "| Utf8   | Utf8   |   Int64 |   Int64 |\n",
       "+========+========+=========+=========+\n",
       "| foo    | a      |       0 |       0 |\n",
       "+--------+--------+---------+---------+\n",
       "| bar    | a      |       1 |       1 |\n",
       "+--------+--------+---------+---------+\n",
       "| foo    | b      |       2 |       2 |\n",
       "+--------+--------+---------+---------+\n",
       "| bar    | c      |       3 |       3 |\n",
       "+--------+--------+---------+---------+\n",
       "| foo    | b      |       4 |       4 |\n",
       "+--------+--------+---------+---------+\n",
       "| bar    | b      |       5 |       5 |\n",
       "+--------+--------+---------+---------+\n",
       "| foo    | a      |       6 |       6 |\n",
       "+--------+--------+---------+---------+\n",
       "| foo    | c      |       7 |       7 |\n",
       "+--------+--------+---------+---------+\n",
       "(Showing first 8 of 8 rows), group_by=<daft.expressions.expressions.ExpressionsProjection object at 0x11f58ab90>)"
      ]
     },
     "execution_count": 25,
     "metadata": {},
     "output_type": "execute_result"
    }
   ],
   "source": [
    "grouped_df = grouping_df.groupby(grouping_df[\"A\"])\n",
    "grouped_df"
   ]
  },
  {
   "attachments": {},
   "cell_type": "markdown",
   "metadata": {},
   "source": [
    "Now we can specify the aggregations we want to compute over columns C and D. Here we compute the sum over column C, and the mean over column D for each group:"
   ]
  },
  {
   "cell_type": "code",
   "execution_count": 26,
   "metadata": {
    "tags": []
   },
   "outputs": [
    {
     "data": {
      "text/html": [
       "<div>\n",
       "    <table class=\"dataframe\">\n",
       "<thead>\n",
       "<tr><th>A<br>Utf8  </th><th style=\"text-align: right;\">  C_sum<br>Int64</th><th style=\"text-align: right;\">  D_mean<br>Float64</th></tr>\n",
       "</thead>\n",
       "<tbody>\n",
       "<tr><td>bar        </td><td style=\"text-align: right;\">               9</td><td style=\"text-align: right;\">                3  </td></tr>\n",
       "<tr><td>foo        </td><td style=\"text-align: right;\">              19</td><td style=\"text-align: right;\">                3.8</td></tr>\n",
       "</tbody>\n",
       "</table>\n",
       "    <small>(Showing first 2 of 2 rows)</small>\n",
       "</div>"
      ],
      "text/plain": [
       "+--------+---------+-----------+\n",
       "| A      |   C_sum |    D_mean |\n",
       "| Utf8   |   Int64 |   Float64 |\n",
       "+========+=========+===========+\n",
       "| bar    |       9 |       3   |\n",
       "+--------+---------+-----------+\n",
       "| foo    |      19 |       3.8 |\n",
       "+--------+---------+-----------+\n",
       "(Showing first 2 of 2 rows)"
      ]
     },
     "execution_count": 26,
     "metadata": {},
     "output_type": "execute_result"
    }
   ],
   "source": [
    "aggregated_df = grouped_df.agg([\n",
    "    (grouped_df[\"C\"].alias(\"C_sum\"), \"sum\"),\n",
    "    (grouped_df[\"D\"].alias(\"D_mean\"), \"mean\"),\n",
    "])\n",
    "aggregated_df.collect()"
   ]
  },
  {
   "attachments": {},
   "cell_type": "markdown",
   "metadata": {},
   "source": [
    "These operations work as well when run over multiple groupby columns, which will produce one row for each combination of columns that occur in the DataFrame:"
   ]
  },
  {
   "cell_type": "code",
   "execution_count": 27,
   "metadata": {
    "tags": []
   },
   "outputs": [
    {
     "data": {
      "text/html": [
       "<div>\n",
       "    <table class=\"dataframe\">\n",
       "<thead>\n",
       "<tr><th>A<br>Utf8  </th><th>B<br>Utf8  </th><th style=\"text-align: right;\">  C_sum<br>Int64</th><th style=\"text-align: right;\">  D_mean<br>Float64</th></tr>\n",
       "</thead>\n",
       "<tbody>\n",
       "<tr><td>bar        </td><td>a          </td><td style=\"text-align: right;\">               1</td><td style=\"text-align: right;\">                  1</td></tr>\n",
       "<tr><td>foo        </td><td>b          </td><td style=\"text-align: right;\">               6</td><td style=\"text-align: right;\">                  3</td></tr>\n",
       "<tr><td>foo        </td><td>a          </td><td style=\"text-align: right;\">               6</td><td style=\"text-align: right;\">                  3</td></tr>\n",
       "<tr><td>bar        </td><td>b          </td><td style=\"text-align: right;\">               5</td><td style=\"text-align: right;\">                  5</td></tr>\n",
       "<tr><td>foo        </td><td>c          </td><td style=\"text-align: right;\">               7</td><td style=\"text-align: right;\">                  7</td></tr>\n",
       "<tr><td>bar        </td><td>c          </td><td style=\"text-align: right;\">               3</td><td style=\"text-align: right;\">                  3</td></tr>\n",
       "</tbody>\n",
       "</table>\n",
       "    <small>(Showing first 6 of 6 rows)</small>\n",
       "</div>"
      ],
      "text/plain": [
       "+--------+--------+---------+-----------+\n",
       "| A      | B      |   C_sum |    D_mean |\n",
       "| Utf8   | Utf8   |   Int64 |   Float64 |\n",
       "+========+========+=========+===========+\n",
       "| bar    | a      |       1 |         1 |\n",
       "+--------+--------+---------+-----------+\n",
       "| foo    | b      |       6 |         3 |\n",
       "+--------+--------+---------+-----------+\n",
       "| foo    | a      |       6 |         3 |\n",
       "+--------+--------+---------+-----------+\n",
       "| bar    | b      |       5 |         5 |\n",
       "+--------+--------+---------+-----------+\n",
       "| foo    | c      |       7 |         7 |\n",
       "+--------+--------+---------+-----------+\n",
       "| bar    | c      |       3 |         3 |\n",
       "+--------+--------+---------+-----------+\n",
       "(Showing first 6 of 6 rows)"
      ]
     },
     "execution_count": 27,
     "metadata": {},
     "output_type": "execute_result"
    }
   ],
   "source": [
    "grouping_df \\\n",
    "    .groupby(grouping_df[\"A\"], grouping_df[\"B\"]) \\\n",
    "    .agg([\n",
    "        (grouping_df[\"C\"].alias(\"C_sum\"), \"sum\"),\n",
    "        (grouping_df[\"D\"].alias(\"D_mean\"), \"mean\"),\n",
    "    ]) \\\n",
    "    .collect()"
   ]
  },
  {
   "attachments": {},
   "cell_type": "markdown",
   "metadata": {},
   "source": [
    "## Writing Data\n",
    "\n",
    "See: [Writing Data](df-writing-data)\n",
    "\n",
    "Writing data will execute your DataFrame and write the results out to the specified backend. For example, to write data out to Parquet with {meth}`df.write_parquet() <daft.DataFrame.write_parquet>`:\n"
   ]
  },
  {
   "cell_type": "code",
   "execution_count": 5,
   "metadata": {
    "tags": []
   },
   "outputs": [
    {
     "name": "stderr",
     "output_type": "stream",
     "text": [
      "                                                                  \n",
      "\u001b[A                                                         "
     ]
    }
   ],
   "source": [
    "written_df = df.write_parquet(\"my-dataframe.parquet\")"
   ]
  },
  {
   "attachments": {},
   "cell_type": "markdown",
   "metadata": {},
   "source": [
    "Note that writing your dataframe is a **blocking** operation that executes your DataFrame. It will return a new `DataFrame` that contains the filepaths to the written data:"
   ]
  },
  {
   "cell_type": "code",
   "execution_count": 6,
   "metadata": {
    "tags": []
   },
   "outputs": [
    {
     "data": {
      "text/html": [
       "<div>\n",
       "<table class=\"dataframe\">\n",
       "<thead><tr><th style=\"text-wrap: nowrap; max-width:192px; overflow:auto\">path<br />Utf8</th></tr></thead>\n",
       "<tbody>\n",
       "<tr><td><div style=\"text-align:left; max-width:192px; max-height:64px; overflow:auto\">my-dataframe.parquet/d796131c-0c31-4688-a5ee-48ca500498e3-0.parquet</div></td></tr>\n",
       "</tbody>\n",
       "</table>\n",
       "<small>(Showing first 1 of 1 rows)</small>\n",
       "</div>"
      ],
      "text/plain": [
       "╭────────────────────────────────╮\n",
       "│ path                           │\n",
       "│ ---                            │\n",
       "│ Utf8                           │\n",
       "╞════════════════════════════════╡\n",
       "│ my-dataframe.parquet/d796131c… │\n",
       "╰────────────────────────────────╯\n",
       "\n",
       "(Showing first 1 of 1 rows)"
      ]
     },
     "execution_count": 6,
     "metadata": {},
     "output_type": "execute_result"
    }
   ],
   "source": [
    "written_df"
   ]
  },
  {
   "cell_type": "code",
   "execution_count": null,
   "metadata": {},
   "outputs": [],
   "source": []
  }
 ],
 "metadata": {
  "kernelspec": {
   "display_name": "Python 3 (ipykernel)",
   "language": "python",
   "name": "python3"
  },
  "language_info": {
   "codemirror_mode": {
    "name": "ipython",
    "version": 3
   },
   "file_extension": ".py",
   "mimetype": "text/x-python",
   "name": "python",
   "nbconvert_exporter": "python",
   "pygments_lexer": "ipython3",
   "version": "3.11.8"
  },
  "vscode": {
   "interpreter": {
    "hash": "e5d77f7bd5a748e4f6412a25f9708ab7af36936de941fc795d1a6b75eb2da082"
   }
  }
 },
 "nbformat": 4,
 "nbformat_minor": 4
}
