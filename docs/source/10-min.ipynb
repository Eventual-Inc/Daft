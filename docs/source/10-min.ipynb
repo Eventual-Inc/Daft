{
 "cells": [
  {
   "cell_type": "code",
   "execution_count": null,
   "metadata": {},
   "outputs": [],
   "source": [
    "!pip install getdaft --pre --extra-index-url https://pypi.anaconda.org/daft-nightly/simple"
   ]
  },
  {
   "attachments": {},
   "cell_type": "markdown",
   "metadata": {},
   "source": [
    "```{hint}\n",
    "✨✨✨ **Run this notebook on Google Colab** ✨✨✨\n",
    "\n",
    "You can [run this notebook yourself with Google Colab](https://colab.research.google.com/github/Eventual-Inc/Daft/blob/main/docs/source/10-min.ipynb)!\n",
    "```"
   ]
  },
  {
   "attachments": {},
   "cell_type": "markdown",
   "metadata": {},
   "source": [
    "# 10 minutes Quickstart\n",
    "\n",
    "This is a short introduction to all the main functionality in Daft, geared towards new users.\n",
    "\n",
    "We import from daft as follows:"
   ]
  },
  {
   "cell_type": "code",
   "execution_count": 1,
   "metadata": {
    "tags": []
   },
   "outputs": [],
   "source": [
    "import daft\n",
    "from daft import DataType"
   ]
  },
  {
   "attachments": {},
   "cell_type": "markdown",
   "metadata": {},
   "source": [
    "## DataFrame creation\n",
    "\n",
    "See also: [API Reference: DataFrame Construction](df-input-output)\n",
    "\n",
    "We can create a DataFrame from a dictionary of columns - this is a dictionary where the keys are strings representing the columns' names and the values are equal-length lists representing the columns' values."
   ]
  },
  {
   "cell_type": "code",
   "execution_count": 2,
   "metadata": {
    "tags": []
   },
   "outputs": [
    {
     "name": "stderr",
     "output_type": "stream",
     "text": [
      "2023-04-19 11:57:24.125 | INFO     | daft.context:runner:88 - Using PyRunner\n"
     ]
    }
   ],
   "source": [
    "import datetime\n",
    "\n",
    "df = daft.from_pydict({\n",
    "    \"integers\": [1, 2, 3, 4],\n",
    "    \"floats\": [1.5, 2.5, 3.5, 4.5],\n",
    "    \"bools\": [True, True, False, False],\n",
    "    \"strings\": [\"a\", \"b\", \"c\", \"d\"],\n",
    "    \"bytes\": [b\"a\", b\"b\", b\"c\", b\"d\"],\n",
    "    \"dates\": [datetime.date(1994, 1, 1), datetime.date(1994, 1, 2), datetime.date(1994, 1, 3), datetime.date(1994, 1, 4)],\n",
    "    \"lists\": [[1, 1, 1], [2, 2, 2], [3, 3, 3], [4, 4, 4]],\n",
    "})"
   ]
  },
  {
   "attachments": {},
   "cell_type": "markdown",
   "metadata": {},
   "source": [
    "You can also load DataFrames from other sources, such as:\n",
    "\n",
    "1. CSV files: {func}`daft.read_csv(\"s3://bucket/*.csv\") <daft.read_csv>`\n",
    "2. Parquet files: {func}`daft.read_parquet(\"/path/*.parquet\") <daft.read_parquet>`\n",
    "3. JSON line-delimited files: {func}`daft.read_json(\"/path/*.parquet\") <daft.read_json>`\n",
    "4. Files on disk: {func}`daft.from_glob_path(\"/path/*.jpeg\") <daft.from_glob_path>`\n",
    "\n",
    "Daft automatically supports local paths as well as paths to object storage such as AWS S3."
   ]
  },
  {
   "attachments": {},
   "cell_type": "markdown",
   "metadata": {},
   "source": [
    "Inspect your dataframe by printing the `df` variable"
   ]
  },
  {
   "cell_type": "code",
   "execution_count": 3,
   "metadata": {
    "tags": []
   },
   "outputs": [
    {
     "data": {
      "text/html": [
       "<div>\n",
       "    <table class=\"dataframe\">\n",
       "<tbody>\n",
       "<tr><td>integers<br>Int64</td><td>floats<br>Float64</td><td>bools<br>Boolean</td><td>strings<br>Utf8</td><td>bytes<br>Binary</td><td>dates<br>Date</td><td>lists<br>List[Int64]</td></tr>\n",
       "</tbody>\n",
       "</table>\n",
       "    <small>(No data to display: Dataframe not materialized)</small>\n",
       "</div>"
      ],
      "text/plain": [
       "+------------+-----------+-----------+-----------+----------+---------+---------------+\n",
       "| integers   | floats    | bools     | strings   | bytes    | dates   | lists         |\n",
       "| Int64      | Float64   | Boolean   | Utf8      | Binary   | Date    | List[Int64]   |\n",
       "+============+===========+===========+===========+==========+=========+===============+\n",
       "+------------+-----------+-----------+-----------+----------+---------+---------------+\n",
       "(No data to display: Dataframe not materialized)"
      ]
     },
     "execution_count": 3,
     "metadata": {},
     "output_type": "execute_result"
    }
   ],
   "source": [
    "df"
   ]
  },
  {
   "attachments": {},
   "cell_type": "markdown",
   "metadata": {},
   "source": [
    "## Executing your DataFrame and Displaying Data\n",
    "\n",
    "Notice that instead of the contents of the dataframe, the message `(no data to display: Dataframe not materialized)` is displayed when we printed our dataframe in the previous section.\n",
    "\n",
    "This is because Daft is **lazy** and only executes computations when explicitly told to do so. When you call methods on DataFrames such as {meth}`df.select() <daft.DataFrame.select>`, {meth}`df.where() <daft.DataFrame.where>` and {func}`daft.read_csv`, Daft actually only enqueues these operations in a *Logical Plan*. You can examine this logical plan using {meth}`df.explain() <daft.DataFrame.explain>`:"
   ]
  },
  {
   "cell_type": "code",
   "execution_count": 4,
   "metadata": {
    "tags": []
   },
   "outputs": [
    {
     "name": "stdout",
     "output_type": "stream",
     "text": [
      "┌─InMemoryScan\n",
      "     output=[col(integers), col(floats), col(bools), col(strings), col(bytes), col(dates),\n",
      "          col(lists)]\n",
      "     cache_id='bfc052d3c7ef4606946671fceae7a44a'\n",
      "     partitioning={'by': None, 'num_partitions': 1, 'scheme': UNKNOWN}\n",
      " \n",
      "\n"
     ]
    }
   ],
   "source": [
    "df.explain()"
   ]
  },
  {
   "attachments": {},
   "cell_type": "markdown",
   "metadata": {},
   "source": [
    "Our currently plan says that there is only one operation to be executed, which is an `InMemoryScan` operation that reads from a set of in-memory data.\n",
    "\n",
    "To execute all operations on all data in the current DataFrame's plan, you can use the {meth}`df.collect() <daft.DataFrame.collect>` method."
   ]
  },
  {
   "cell_type": "code",
   "execution_count": 5,
   "metadata": {
    "tags": []
   },
   "outputs": [
    {
     "data": {
      "text/html": [
       "<div>\n",
       "    <table class=\"dataframe\">\n",
       "<thead>\n",
       "<tr><th style=\"text-align: right;\">  integers<br>Int64</th><th style=\"text-align: right;\">  floats<br>Float64</th><th>bools<br>Boolean  </th><th>strings<br>Utf8  </th><th>bytes<br>Binary  </th><th>dates<br>Date  </th><th>lists<br>List[Int64]  </th></tr>\n",
       "</thead>\n",
       "<tbody>\n",
       "<tr><td style=\"text-align: right;\">                  1</td><td style=\"text-align: right;\">                1.5</td><td>true              </td><td>a                </td><td>b'a'             </td><td>1994-01-01     </td><td>[1, 1, 1]             </td></tr>\n",
       "<tr><td style=\"text-align: right;\">                  2</td><td style=\"text-align: right;\">                2.5</td><td>true              </td><td>b                </td><td>b'b'             </td><td>1994-01-02     </td><td>[2, 2, 2]             </td></tr>\n",
       "<tr><td style=\"text-align: right;\">                  3</td><td style=\"text-align: right;\">                3.5</td><td>false             </td><td>c                </td><td>b'c'             </td><td>1994-01-03     </td><td>[3, 3, 3]             </td></tr>\n",
       "<tr><td style=\"text-align: right;\">                  4</td><td style=\"text-align: right;\">                4.5</td><td>false             </td><td>d                </td><td>b'd'             </td><td>1994-01-04     </td><td>[4, 4, 4]             </td></tr>\n",
       "</tbody>\n",
       "</table>\n",
       "    <small>(Showing first 4 of 4 rows)</small>\n",
       "</div>"
      ],
      "text/plain": [
       "+------------+-----------+-----------+-----------+----------+------------+---------------+\n",
       "|   integers |    floats | bools     | strings   | bytes    | dates      | lists         |\n",
       "|      Int64 |   Float64 | Boolean   | Utf8      | Binary   | Date       | List[Int64]   |\n",
       "+============+===========+===========+===========+==========+============+===============+\n",
       "|          1 |       1.5 | true      | a         | b'a'     | 1994-01-01 | [1, 1, 1]     |\n",
       "+------------+-----------+-----------+-----------+----------+------------+---------------+\n",
       "|          2 |       2.5 | true      | b         | b'b'     | 1994-01-02 | [2, 2, 2]     |\n",
       "+------------+-----------+-----------+-----------+----------+------------+---------------+\n",
       "|          3 |       3.5 | false     | c         | b'c'     | 1994-01-03 | [3, 3, 3]     |\n",
       "+------------+-----------+-----------+-----------+----------+------------+---------------+\n",
       "|          4 |       4.5 | false     | d         | b'd'     | 1994-01-04 | [4, 4, 4]     |\n",
       "+------------+-----------+-----------+-----------+----------+------------+---------------+\n",
       "(Showing first 4 of 4 rows)"
      ]
     },
     "execution_count": 5,
     "metadata": {},
     "output_type": "execute_result"
    }
   ],
   "source": [
    "df.collect()"
   ]
  },
  {
   "attachments": {},
   "cell_type": "markdown",
   "metadata": {},
   "source": [
    "{meth}`df.collect() <daft.DataFrame.collect>` is useful because it executes computations on **all** your data, and shows you a little preview of the materialized results. These results are then kept in memory so that subsequent operations will avoid recomputations.\n",
    "\n",
    "However, if you only wish to \"peek\" at your data instead of materializing the entire dataframe (e.g. your dataframe has a million rows, and you only want to view the first 10 without materializing the entire result set in memory), you can use {meth}`df.show(N) <daft.DataFrame.show>` instead to view the first `N` rows of your dataframe. This is especially useful when developing interactively on small samples of data."
   ]
  },
  {
   "cell_type": "code",
   "execution_count": 6,
   "metadata": {
    "tags": []
   },
   "outputs": [
    {
     "data": {
      "text/html": [
       "<div>\n",
       "    <table class=\"dataframe\">\n",
       "<thead>\n",
       "<tr><th style=\"text-align: right;\">  integers<br>Int64</th><th style=\"text-align: right;\">  floats<br>Float64</th><th>bools<br>Boolean  </th><th>strings<br>Utf8  </th><th>bytes<br>Binary  </th><th>dates<br>Date  </th><th>lists<br>List[Int64]  </th></tr>\n",
       "</thead>\n",
       "<tbody>\n",
       "<tr><td style=\"text-align: right;\">                  1</td><td style=\"text-align: right;\">                1.5</td><td>true              </td><td>a                </td><td>b'a'             </td><td>1994-01-01     </td><td>[1, 1, 1]             </td></tr>\n",
       "<tr><td style=\"text-align: right;\">                  2</td><td style=\"text-align: right;\">                2.5</td><td>true              </td><td>b                </td><td>b'b'             </td><td>1994-01-02     </td><td>[2, 2, 2]             </td></tr>\n",
       "</tbody>\n",
       "</table>\n",
       "    <small>(Showing first 2 rows)</small>\n",
       "</div>"
      ],
      "text/plain": [
       "+------------+-----------+-----------+-----------+----------+------------+---------------+\n",
       "|   integers |    floats | bools     | strings   | bytes    | dates      | lists         |\n",
       "|      Int64 |   Float64 | Boolean   | Utf8      | Binary   | Date       | List[Int64]   |\n",
       "+============+===========+===========+===========+==========+============+===============+\n",
       "|          1 |       1.5 | true      | a         | b'a'     | 1994-01-01 | [1, 1, 1]     |\n",
       "+------------+-----------+-----------+-----------+----------+------------+---------------+\n",
       "|          2 |       2.5 | true      | b         | b'b'     | 1994-01-02 | [2, 2, 2]     |\n",
       "+------------+-----------+-----------+-----------+----------+------------+---------------+\n",
       "(Showing first 2 rows)"
      ]
     },
     "execution_count": 6,
     "metadata": {},
     "output_type": "execute_result"
    }
   ],
   "source": [
    "df.show(2)"
   ]
  },
  {
   "attachments": {},
   "cell_type": "markdown",
   "metadata": {},
   "source": [
    "## Sorting Data"
   ]
  },
  {
   "attachments": {},
   "cell_type": "markdown",
   "metadata": {},
   "source": [
    "You can sort a dataframe with {meth}`df.sort() <daft.DataFrame.sort>`, which we do so here in descending order:"
   ]
  },
  {
   "cell_type": "code",
   "execution_count": 7,
   "metadata": {
    "tags": []
   },
   "outputs": [
    {
     "data": {
      "text/html": [
       "<div>\n",
       "    <table class=\"dataframe\">\n",
       "<thead>\n",
       "<tr><th style=\"text-align: right;\">  integers<br>Int64</th><th style=\"text-align: right;\">  floats<br>Float64</th><th>bools<br>Boolean  </th><th>strings<br>Utf8  </th><th>bytes<br>Binary  </th><th>dates<br>Date  </th><th>lists<br>List[Int64]  </th></tr>\n",
       "</thead>\n",
       "<tbody>\n",
       "<tr><td style=\"text-align: right;\">                  4</td><td style=\"text-align: right;\">                4.5</td><td>false             </td><td>d                </td><td>b'd'             </td><td>1994-01-04     </td><td>[4, 4, 4]             </td></tr>\n",
       "<tr><td style=\"text-align: right;\">                  3</td><td style=\"text-align: right;\">                3.5</td><td>false             </td><td>c                </td><td>b'c'             </td><td>1994-01-03     </td><td>[3, 3, 3]             </td></tr>\n",
       "<tr><td style=\"text-align: right;\">                  2</td><td style=\"text-align: right;\">                2.5</td><td>true              </td><td>b                </td><td>b'b'             </td><td>1994-01-02     </td><td>[2, 2, 2]             </td></tr>\n",
       "<tr><td style=\"text-align: right;\">                  1</td><td style=\"text-align: right;\">                1.5</td><td>true              </td><td>a                </td><td>b'a'             </td><td>1994-01-01     </td><td>[1, 1, 1]             </td></tr>\n",
       "</tbody>\n",
       "</table>\n",
       "    <small>(Showing first 4 of 4 rows)</small>\n",
       "</div>"
      ],
      "text/plain": [
       "+------------+-----------+-----------+-----------+----------+------------+---------------+\n",
       "|   integers |    floats | bools     | strings   | bytes    | dates      | lists         |\n",
       "|      Int64 |   Float64 | Boolean   | Utf8      | Binary   | Date       | List[Int64]   |\n",
       "+============+===========+===========+===========+==========+============+===============+\n",
       "|          4 |       4.5 | false     | d         | b'd'     | 1994-01-04 | [4, 4, 4]     |\n",
       "+------------+-----------+-----------+-----------+----------+------------+---------------+\n",
       "|          3 |       3.5 | false     | c         | b'c'     | 1994-01-03 | [3, 3, 3]     |\n",
       "+------------+-----------+-----------+-----------+----------+------------+---------------+\n",
       "|          2 |       2.5 | true      | b         | b'b'     | 1994-01-02 | [2, 2, 2]     |\n",
       "+------------+-----------+-----------+-----------+----------+------------+---------------+\n",
       "|          1 |       1.5 | true      | a         | b'a'     | 1994-01-01 | [1, 1, 1]     |\n",
       "+------------+-----------+-----------+-----------+----------+------------+---------------+\n",
       "(Showing first 4 of 4 rows)"
      ]
     },
     "execution_count": 7,
     "metadata": {},
     "output_type": "execute_result"
    }
   ],
   "source": [
    "df.sort(df[\"integers\"], desc=True).collect()"
   ]
  },
  {
   "attachments": {},
   "cell_type": "markdown",
   "metadata": {},
   "source": [
    "## Data Selection\n",
    "\n",
    "You can limit the number of rows in a dataframe by calling {meth}`df.limit() <daft.DataFrame.limit>`."
   ]
  },
  {
   "cell_type": "code",
   "execution_count": 8,
   "metadata": {
    "tags": []
   },
   "outputs": [
    {
     "data": {
      "text/html": [
       "<div>\n",
       "    <table class=\"dataframe\">\n",
       "<thead>\n",
       "<tr><th style=\"text-align: right;\">  integers<br>Int64</th><th style=\"text-align: right;\">  floats<br>Float64</th><th>bools<br>Boolean  </th><th>strings<br>Utf8  </th><th>bytes<br>Binary  </th><th>dates<br>Date  </th><th>lists<br>List[Int64]  </th></tr>\n",
       "</thead>\n",
       "<tbody>\n",
       "<tr><td style=\"text-align: right;\">                  1</td><td style=\"text-align: right;\">                1.5</td><td>true              </td><td>a                </td><td>b'a'             </td><td>1994-01-01     </td><td>[1, 1, 1]             </td></tr>\n",
       "</tbody>\n",
       "</table>\n",
       "    <small>(Showing first 1 of 1 rows)</small>\n",
       "</div>"
      ],
      "text/plain": [
       "+------------+-----------+-----------+-----------+----------+------------+---------------+\n",
       "|   integers |    floats | bools     | strings   | bytes    | dates      | lists         |\n",
       "|      Int64 |   Float64 | Boolean   | Utf8      | Binary   | Date       | List[Int64]   |\n",
       "+============+===========+===========+===========+==========+============+===============+\n",
       "|          1 |       1.5 | true      | a         | b'a'     | 1994-01-01 | [1, 1, 1]     |\n",
       "+------------+-----------+-----------+-----------+----------+------------+---------------+\n",
       "(Showing first 1 of 1 rows)"
      ]
     },
     "execution_count": 8,
     "metadata": {},
     "output_type": "execute_result"
    }
   ],
   "source": [
    "df_limited = df.limit(1)\n",
    "df_limited.collect()"
   ]
  },
  {
   "attachments": {},
   "cell_type": "markdown",
   "metadata": {},
   "source": [
    "To select just a few columns, you can use {meth}`df.select() <daft.DataFrame.select>`:"
   ]
  },
  {
   "cell_type": "code",
   "execution_count": 9,
   "metadata": {
    "tags": []
   },
   "outputs": [
    {
     "data": {
      "text/html": [
       "<div>\n",
       "    <table class=\"dataframe\">\n",
       "<thead>\n",
       "<tr><th style=\"text-align: right;\">  integers<br>Int64</th><th style=\"text-align: right;\">  floats<br>Float64</th></tr>\n",
       "</thead>\n",
       "<tbody>\n",
       "<tr><td style=\"text-align: right;\">                  1</td><td style=\"text-align: right;\">                1.5</td></tr>\n",
       "<tr><td style=\"text-align: right;\">                  2</td><td style=\"text-align: right;\">                2.5</td></tr>\n",
       "<tr><td style=\"text-align: right;\">                  3</td><td style=\"text-align: right;\">                3.5</td></tr>\n",
       "<tr><td style=\"text-align: right;\">                  4</td><td style=\"text-align: right;\">                4.5</td></tr>\n",
       "</tbody>\n",
       "</table>\n",
       "    <small>(Showing first 4 of 4 rows)</small>\n",
       "</div>"
      ],
      "text/plain": [
       "+------------+-----------+\n",
       "|   integers |    floats |\n",
       "|      Int64 |   Float64 |\n",
       "+============+===========+\n",
       "|          1 |       1.5 |\n",
       "+------------+-----------+\n",
       "|          2 |       2.5 |\n",
       "+------------+-----------+\n",
       "|          3 |       3.5 |\n",
       "+------------+-----------+\n",
       "|          4 |       4.5 |\n",
       "+------------+-----------+\n",
       "(Showing first 4 of 4 rows)"
      ]
     },
     "execution_count": 9,
     "metadata": {},
     "output_type": "execute_result"
    }
   ],
   "source": [
    "df_selected = df.select(df[\"integers\"], df[\"floats\"])\n",
    "df_selected.collect()"
   ]
  },
  {
   "attachments": {},
   "cell_type": "markdown",
   "metadata": {},
   "source": [
    "Column selection also allows you to rename columns using {meth}`.alias() <daft.expressions.Expression.alias>`:"
   ]
  },
  {
   "cell_type": "code",
   "execution_count": 10,
   "metadata": {
    "tags": []
   },
   "outputs": [
    {
     "data": {
      "text/html": [
       "<div>\n",
       "    <table class=\"dataframe\">\n",
       "<thead>\n",
       "<tr><th style=\"text-align: right;\">  ints<br>Int64</th><th style=\"text-align: right;\">  floats<br>Float64</th></tr>\n",
       "</thead>\n",
       "<tbody>\n",
       "<tr><td style=\"text-align: right;\">              1</td><td style=\"text-align: right;\">                1.5</td></tr>\n",
       "<tr><td style=\"text-align: right;\">              2</td><td style=\"text-align: right;\">                2.5</td></tr>\n",
       "<tr><td style=\"text-align: right;\">              3</td><td style=\"text-align: right;\">                3.5</td></tr>\n",
       "<tr><td style=\"text-align: right;\">              4</td><td style=\"text-align: right;\">                4.5</td></tr>\n",
       "</tbody>\n",
       "</table>\n",
       "    <small>(Showing first 4 of 4 rows)</small>\n",
       "</div>"
      ],
      "text/plain": [
       "+---------+-----------+\n",
       "|    ints |    floats |\n",
       "|   Int64 |   Float64 |\n",
       "+=========+===========+\n",
       "|       1 |       1.5 |\n",
       "+---------+-----------+\n",
       "|       2 |       2.5 |\n",
       "+---------+-----------+\n",
       "|       3 |       3.5 |\n",
       "+---------+-----------+\n",
       "|       4 |       4.5 |\n",
       "+---------+-----------+\n",
       "(Showing first 4 of 4 rows)"
      ]
     },
     "execution_count": 10,
     "metadata": {},
     "output_type": "execute_result"
    }
   ],
   "source": [
    "df_renamed = df.select(df[\"integers\"].alias(\"ints\"), df[\"floats\"])\n",
    "df_renamed.collect()"
   ]
  },
  {
   "attachments": {},
   "cell_type": "markdown",
   "metadata": {},
   "source": [
    "To drop columns from the dataframe, call {meth}`df.exclude() <daft.DataFrame.exclude>`:"
   ]
  },
  {
   "cell_type": "code",
   "execution_count": 11,
   "metadata": {
    "tags": []
   },
   "outputs": [
    {
     "data": {
      "text/html": [
       "<div>\n",
       "    <table class=\"dataframe\">\n",
       "<thead>\n",
       "<tr><th style=\"text-align: right;\">  floats<br>Float64</th><th>bools<br>Boolean  </th><th>strings<br>Utf8  </th><th>bytes<br>Binary  </th><th>dates<br>Date  </th><th>lists<br>List[Int64]  </th></tr>\n",
       "</thead>\n",
       "<tbody>\n",
       "<tr><td style=\"text-align: right;\">                1.5</td><td>true              </td><td>a                </td><td>b'a'             </td><td>1994-01-01     </td><td>[1, 1, 1]             </td></tr>\n",
       "<tr><td style=\"text-align: right;\">                2.5</td><td>true              </td><td>b                </td><td>b'b'             </td><td>1994-01-02     </td><td>[2, 2, 2]             </td></tr>\n",
       "<tr><td style=\"text-align: right;\">                3.5</td><td>false             </td><td>c                </td><td>b'c'             </td><td>1994-01-03     </td><td>[3, 3, 3]             </td></tr>\n",
       "<tr><td style=\"text-align: right;\">                4.5</td><td>false             </td><td>d                </td><td>b'd'             </td><td>1994-01-04     </td><td>[4, 4, 4]             </td></tr>\n",
       "</tbody>\n",
       "</table>\n",
       "    <small>(Showing first 4 of 4 rows)</small>\n",
       "</div>"
      ],
      "text/plain": [
       "+-----------+-----------+-----------+----------+------------+---------------+\n",
       "|    floats | bools     | strings   | bytes    | dates      | lists         |\n",
       "|   Float64 | Boolean   | Utf8      | Binary   | Date       | List[Int64]   |\n",
       "+===========+===========+===========+==========+============+===============+\n",
       "|       1.5 | true      | a         | b'a'     | 1994-01-01 | [1, 1, 1]     |\n",
       "+-----------+-----------+-----------+----------+------------+---------------+\n",
       "|       2.5 | true      | b         | b'b'     | 1994-01-02 | [2, 2, 2]     |\n",
       "+-----------+-----------+-----------+----------+------------+---------------+\n",
       "|       3.5 | false     | c         | b'c'     | 1994-01-03 | [3, 3, 3]     |\n",
       "+-----------+-----------+-----------+----------+------------+---------------+\n",
       "|       4.5 | false     | d         | b'd'     | 1994-01-04 | [4, 4, 4]     |\n",
       "+-----------+-----------+-----------+----------+------------+---------------+\n",
       "(Showing first 4 of 4 rows)"
      ]
     },
     "execution_count": 11,
     "metadata": {},
     "output_type": "execute_result"
    }
   ],
   "source": [
    "df_excluded = df.exclude(\"integers\")\n",
    "df_excluded.collect()"
   ]
  },
  {
   "attachments": {},
   "cell_type": "markdown",
   "metadata": {},
   "source": [
    "## Expressions\n",
    "\n",
    "See: [Expressions](learn/user_guides/expressions.rst)\n",
    "\n",
    "Expressions are an API for defining computation that needs to happen over your columns.\n",
    "\n",
    "For example, to create a new column that is just the column A incremented by 1:"
   ]
  },
  {
   "cell_type": "code",
   "execution_count": 12,
   "metadata": {
    "tags": []
   },
   "outputs": [
    {
     "data": {
      "text/html": [
       "<div>\n",
       "    <table class=\"dataframe\">\n",
       "<thead>\n",
       "<tr><th style=\"text-align: right;\">  integers<br>Int64</th><th style=\"text-align: right;\">  floats<br>Float64</th><th>bools<br>Boolean  </th><th>strings<br>Utf8  </th><th>bytes<br>Binary  </th><th>dates<br>Date  </th><th>lists<br>List[Int64]  </th><th style=\"text-align: right;\">  integers_plus_1<br>Int64</th></tr>\n",
       "</thead>\n",
       "<tbody>\n",
       "<tr><td style=\"text-align: right;\">                  1</td><td style=\"text-align: right;\">                1.5</td><td>true              </td><td>a                </td><td>b'a'             </td><td>1994-01-01     </td><td>[1, 1, 1]             </td><td style=\"text-align: right;\">                         2</td></tr>\n",
       "<tr><td style=\"text-align: right;\">                  2</td><td style=\"text-align: right;\">                2.5</td><td>true              </td><td>b                </td><td>b'b'             </td><td>1994-01-02     </td><td>[2, 2, 2]             </td><td style=\"text-align: right;\">                         3</td></tr>\n",
       "<tr><td style=\"text-align: right;\">                  3</td><td style=\"text-align: right;\">                3.5</td><td>false             </td><td>c                </td><td>b'c'             </td><td>1994-01-03     </td><td>[3, 3, 3]             </td><td style=\"text-align: right;\">                         4</td></tr>\n",
       "<tr><td style=\"text-align: right;\">                  4</td><td style=\"text-align: right;\">                4.5</td><td>false             </td><td>d                </td><td>b'd'             </td><td>1994-01-04     </td><td>[4, 4, 4]             </td><td style=\"text-align: right;\">                         5</td></tr>\n",
       "</tbody>\n",
       "</table>\n",
       "    <small>(Showing first 4 of 4 rows)</small>\n",
       "</div>"
      ],
      "text/plain": [
       "+------------+-----------+-----------+-----------+----------+------------+---------------+-------------------+\n",
       "|   integers |    floats | bools     | strings   | bytes    | dates      | lists         |   integers_plus_1 |\n",
       "|      Int64 |   Float64 | Boolean   | Utf8      | Binary   | Date       | List[Int64]   |             Int64 |\n",
       "+============+===========+===========+===========+==========+============+===============+===================+\n",
       "|          1 |       1.5 | true      | a         | b'a'     | 1994-01-01 | [1, 1, 1]     |                 2 |\n",
       "+------------+-----------+-----------+-----------+----------+------------+---------------+-------------------+\n",
       "|          2 |       2.5 | true      | b         | b'b'     | 1994-01-02 | [2, 2, 2]     |                 3 |\n",
       "+------------+-----------+-----------+-----------+----------+------------+---------------+-------------------+\n",
       "|          3 |       3.5 | false     | c         | b'c'     | 1994-01-03 | [3, 3, 3]     |                 4 |\n",
       "+------------+-----------+-----------+-----------+----------+------------+---------------+-------------------+\n",
       "|          4 |       4.5 | false     | d         | b'd'     | 1994-01-04 | [4, 4, 4]     |                 5 |\n",
       "+------------+-----------+-----------+-----------+----------+------------+---------------+-------------------+\n",
       "(Showing first 4 of 4 rows)"
      ]
     },
     "execution_count": 12,
     "metadata": {},
     "output_type": "execute_result"
    }
   ],
   "source": [
    "df_A_plus1 = df.with_column(\"integers_plus_1\", df[\"integers\"] + 1)  # does not run any computation\n",
    "df_A_plus1.collect()  # materializes the new DataFrame, which includes the new column \"A_plus1\""
   ]
  },
  {
   "attachments": {},
   "cell_type": "markdown",
   "metadata": {},
   "source": [
    "### Method Accessors\n",
    "\n",
    "Some Expression methods are only allowed on certain types and are accessible through \"method accessors\" such as the {meth}`.str <daft.expressions.Expression.str>` accessor (see: [Expression Accessor Properties](expression-accessor-properties)).\n",
    "\n",
    "For example, the {meth}`.str.length() <daft.expressions.expressions.ExpressionStringNamespace.length>` expression is only valid when run on a String column:"
   ]
  },
  {
   "cell_type": "code",
   "execution_count": 13,
   "metadata": {
    "tags": []
   },
   "outputs": [
    {
     "data": {
      "text/html": [
       "<div>\n",
       "    <table class=\"dataframe\">\n",
       "<thead>\n",
       "<tr><th style=\"text-align: right;\">  integers<br>Int64</th><th style=\"text-align: right;\">  floats<br>Float64</th><th>bools<br>Boolean  </th><th>strings<br>Utf8  </th><th>bytes<br>Binary  </th><th>dates<br>Date  </th><th>lists<br>List[Int64]  </th><th style=\"text-align: right;\">  strings_length<br>UInt64</th></tr>\n",
       "</thead>\n",
       "<tbody>\n",
       "<tr><td style=\"text-align: right;\">                  1</td><td style=\"text-align: right;\">                1.5</td><td>true              </td><td>a                </td><td>b'a'             </td><td>1994-01-01     </td><td>[1, 1, 1]             </td><td style=\"text-align: right;\">                         1</td></tr>\n",
       "<tr><td style=\"text-align: right;\">                  2</td><td style=\"text-align: right;\">                2.5</td><td>true              </td><td>b                </td><td>b'b'             </td><td>1994-01-02     </td><td>[2, 2, 2]             </td><td style=\"text-align: right;\">                         1</td></tr>\n",
       "<tr><td style=\"text-align: right;\">                  3</td><td style=\"text-align: right;\">                3.5</td><td>false             </td><td>c                </td><td>b'c'             </td><td>1994-01-03     </td><td>[3, 3, 3]             </td><td style=\"text-align: right;\">                         1</td></tr>\n",
       "<tr><td style=\"text-align: right;\">                  4</td><td style=\"text-align: right;\">                4.5</td><td>false             </td><td>d                </td><td>b'd'             </td><td>1994-01-04     </td><td>[4, 4, 4]             </td><td style=\"text-align: right;\">                         1</td></tr>\n",
       "</tbody>\n",
       "</table>\n",
       "    <small>(Showing first 4 of 4 rows)</small>\n",
       "</div>"
      ],
      "text/plain": [
       "+------------+-----------+-----------+-----------+----------+------------+---------------+------------------+\n",
       "|   integers |    floats | bools     | strings   | bytes    | dates      | lists         |   strings_length |\n",
       "|      Int64 |   Float64 | Boolean   | Utf8      | Binary   | Date       | List[Int64]   |           UInt64 |\n",
       "+============+===========+===========+===========+==========+============+===============+==================+\n",
       "|          1 |       1.5 | true      | a         | b'a'     | 1994-01-01 | [1, 1, 1]     |                1 |\n",
       "+------------+-----------+-----------+-----------+----------+------------+---------------+------------------+\n",
       "|          2 |       2.5 | true      | b         | b'b'     | 1994-01-02 | [2, 2, 2]     |                1 |\n",
       "+------------+-----------+-----------+-----------+----------+------------+---------------+------------------+\n",
       "|          3 |       3.5 | false     | c         | b'c'     | 1994-01-03 | [3, 3, 3]     |                1 |\n",
       "+------------+-----------+-----------+-----------+----------+------------+---------------+------------------+\n",
       "|          4 |       4.5 | false     | d         | b'd'     | 1994-01-04 | [4, 4, 4]     |                1 |\n",
       "+------------+-----------+-----------+-----------+----------+------------+---------------+------------------+\n",
       "(Showing first 4 of 4 rows)"
      ]
     },
     "execution_count": 13,
     "metadata": {},
     "output_type": "execute_result"
    }
   ],
   "source": [
    "df_E_length = df.with_column(\"strings_length\", df[\"strings\"].str.length())\n",
    "df_E_length.collect()"
   ]
  },
  {
   "attachments": {},
   "cell_type": "markdown",
   "metadata": {},
   "source": [
    "Another example of a useful method accessor is the {meth}`.url <daft.expressions.Expression.url>` accessor. You can use {meth}`.url.download() <daft.expressions.expressions.ExpressionUrlNamespace.download>` to download data from a column of URLs like so:"
   ]
  },
  {
   "cell_type": "code",
   "execution_count": 14,
   "metadata": {
    "tags": []
   },
   "outputs": [
    {
     "data": {
      "text/html": [
       "<div>\n",
       "    <table class=\"dataframe\">\n",
       "<thead>\n",
       "<tr><th>urls<br>Utf8                                                </th><th>image_bytes<br>Binary                                       </th></tr>\n",
       "</thead>\n",
       "<tbody>\n",
       "<tr><td>http://farm9.staticflickr.com/8186/8119368305_4e622c8349_...</td><td>b'\\xff\\xd8\\xff\\xe1\\x00TExif\\x00\\x00MM\\x00*\\x00\\x00\\x00\\x0...</td></tr>\n",
       "<tr><td>http://farm1.staticflickr.com/1/127244861_ab0c0381e7_z.jpg  </td><td>b'\\xff\\xd8\\xff\\xe1\\x00(Exif\\x00\\x00MM\\x00*\\x00\\x00\\x00\\x0...</td></tr>\n",
       "<tr><td>http://farm3.staticflickr.com/2169/2118578392_1193aa04a0_...</td><td>b'\\xff\\xd8\\xff\\xe1\\x00\\x16Exif\\x00\\x00MM\\x00*\\x00\\x00\\x00...</td></tr>\n",
       "</tbody>\n",
       "</table>\n",
       "    <small>(Showing first 3 of 3 rows)</small>\n",
       "</div>"
      ],
      "text/plain": [
       "+----------------------+----------------------+\n",
       "| urls                 | image_bytes          |\n",
       "| Utf8                 | Binary               |\n",
       "+======================+======================+\n",
       "| http://farm9.staticf | b'\\xff\\xd8\\xff\\xe1\\x |\n",
       "| lickr.com/8186/81193 | 00TExif\\x00\\x00MM\\x0 |\n",
       "| 68305_4e622c8349_... | 0*\\x00\\x00\\x00\\x0... |\n",
       "+----------------------+----------------------+\n",
       "| http://farm1.staticf | b'\\xff\\xd8\\xff\\xe1\\x |\n",
       "| lickr.com/1/12724486 | 00(Exif\\x00\\x00MM\\x0 |\n",
       "| 1_ab0c0381e7_z.jpg   | 0*\\x00\\x00\\x00\\x0... |\n",
       "+----------------------+----------------------+\n",
       "| http://farm3.staticf | b'\\xff\\xd8\\xff\\xe1\\x |\n",
       "| lickr.com/2169/21185 | 00\\x16Exif\\x00\\x00MM |\n",
       "| 78392_1193aa04a0_... | \\x00*\\x00\\x00\\x00... |\n",
       "+----------------------+----------------------+\n",
       "(Showing first 3 of 3 rows)"
      ]
     },
     "execution_count": 14,
     "metadata": {},
     "output_type": "execute_result"
    }
   ],
   "source": [
    "image_url_df = daft.from_pydict({\n",
    "    \"urls\": [\n",
    "        \"http://farm9.staticflickr.com/8186/8119368305_4e622c8349_z.jpg\",\n",
    "        \"http://farm1.staticflickr.com/1/127244861_ab0c0381e7_z.jpg\",\n",
    "        \"http://farm3.staticflickr.com/2169/2118578392_1193aa04a0_z.jpg\",\n",
    "    ],\n",
    "})\n",
    "image_downloaded_df = image_url_df.with_column(\"image_bytes\", image_url_df[\"urls\"].url.download())\n",
    "image_downloaded_df.collect()"
   ]
  },
  {
   "attachments": {},
   "cell_type": "markdown",
   "metadata": {},
   "source": [
    "For a full list of all Expression methods and operators, see: [Expressions API Docs](../api_docs/expressions.rst)"
   ]
  },
  {
   "attachments": {},
   "cell_type": "markdown",
   "metadata": {},
   "source": [
    "## Python object columns"
   ]
  },
  {
   "attachments": {},
   "cell_type": "markdown",
   "metadata": {},
   "source": [
    "Daft Dataframes can also contain Python objects. Here is an example of how to create a dataframe with Python objects."
   ]
  },
  {
   "cell_type": "code",
   "execution_count": 15,
   "metadata": {
    "tags": []
   },
   "outputs": [],
   "source": [
    "# Let's define a toy example of a Python class!\n",
    "class Dog:\n",
    "    def __init__(self, name):\n",
    "        self.name = name\n",
    "        \n",
    "    def bark(self):\n",
    "        return f\"{self.name}!\"\n",
    "\n",
    "py_df = daft.from_pydict({\n",
    "    \"dogs\": [Dog(\"ruffles\"), Dog(\"waffles\"), Dog(\"doofus\")],\n",
    "    \"owner\": [\"russell\", \"william\", \"david\"],\n",
    "})"
   ]
  },
  {
   "attachments": {},
   "cell_type": "markdown",
   "metadata": {},
   "source": [
    "Now, when we print our dataframe we can see that it contains our `Dog` Python objects! Also note that the type of the column is {meth}`Python <daft.DataType.python>`."
   ]
  },
  {
   "cell_type": "code",
   "execution_count": 16,
   "metadata": {
    "tags": []
   },
   "outputs": [
    {
     "data": {
      "text/html": [
       "<div>\n",
       "    <table class=\"dataframe\">\n",
       "<thead>\n",
       "<tr><th>dogs<br>Python                            </th><th>owner<br>Utf8  </th></tr>\n",
       "</thead>\n",
       "<tbody>\n",
       "<tr><td>&lt;__main__.Dog object at 0x11ef78ac0&gt;</td><td>russell        </td></tr>\n",
       "<tr><td>&lt;__main__.Dog object at 0x11ef78430&gt;</td><td>william        </td></tr>\n",
       "<tr><td>&lt;__main__.Dog object at 0x11ef78040&gt;</td><td>david          </td></tr>\n",
       "</tbody>\n",
       "</table>\n",
       "    <small>(Showing first 3 of 3 rows)</small>\n",
       "</div>"
      ],
      "text/plain": [
       "+----------------------+---------+\n",
       "| dogs                 | owner   |\n",
       "| Python               | Utf8    |\n",
       "+======================+=========+\n",
       "| <__main__.Dog object | russell |\n",
       "| at 0x11ef78ac0>      |         |\n",
       "+----------------------+---------+\n",
       "| <__main__.Dog object | william |\n",
       "| at 0x11ef78430>      |         |\n",
       "+----------------------+---------+\n",
       "| <__main__.Dog object | david   |\n",
       "| at 0x11ef78040>      |         |\n",
       "+----------------------+---------+\n",
       "(Showing first 3 of 3 rows)"
      ]
     },
     "execution_count": 16,
     "metadata": {},
     "output_type": "execute_result"
    }
   ],
   "source": [
    "py_df.collect()"
   ]
  },
  {
   "attachments": {},
   "cell_type": "markdown",
   "metadata": {},
   "source": [
    "To work with {meth}`Python <daft.DataType.python>` type columns, Daft provides a few useful Expression methods.\n",
    "\n",
    "{meth}`.apply <daft.expressions.Expression.apply>` is useful to work on each Dog individually and apply a function.\n",
    "\n",
    "Here's an example where we extract a string from each `Dog` by calling `.bark` on each `Dog` object and returning a new `Utf8` column."
   ]
  },
  {
   "cell_type": "code",
   "execution_count": 17,
   "metadata": {
    "tags": []
   },
   "outputs": [
    {
     "data": {
      "text/html": [
       "<div>\n",
       "    <table class=\"dataframe\">\n",
       "<thead>\n",
       "<tr><th>dogs<br>Python                            </th><th>owner<br>Utf8  </th><th>dogs_bark_name<br>Utf8  </th></tr>\n",
       "</thead>\n",
       "<tbody>\n",
       "<tr><td>&lt;__main__.Dog object at 0x11ef78ac0&gt;</td><td>russell        </td><td>ruffles!                </td></tr>\n",
       "<tr><td>&lt;__main__.Dog object at 0x11ef78430&gt;</td><td>william        </td><td>waffles!                </td></tr>\n",
       "<tr><td>&lt;__main__.Dog object at 0x11ef78040&gt;</td><td>david          </td><td>doofus!                 </td></tr>\n",
       "</tbody>\n",
       "</table>\n",
       "    <small>(Showing first 3 of 3 rows)</small>\n",
       "</div>"
      ],
      "text/plain": [
       "+----------------------+---------+------------------+\n",
       "| dogs                 | owner   | dogs_bark_name   |\n",
       "| Python               | Utf8    | Utf8             |\n",
       "+======================+=========+==================+\n",
       "| <__main__.Dog object | russell | ruffles!         |\n",
       "| at 0x11ef78ac0>      |         |                  |\n",
       "+----------------------+---------+------------------+\n",
       "| <__main__.Dog object | william | waffles!         |\n",
       "| at 0x11ef78430>      |         |                  |\n",
       "+----------------------+---------+------------------+\n",
       "| <__main__.Dog object | david   | doofus!          |\n",
       "| at 0x11ef78040>      |         |                  |\n",
       "+----------------------+---------+------------------+\n",
       "(Showing first 3 of 3 rows)"
      ]
     },
     "execution_count": 17,
     "metadata": {},
     "output_type": "execute_result"
    }
   ],
   "source": [
    "py_df.with_column(\n",
    "    \"dogs_bark_name\",\n",
    "    py_df[\"dogs\"].apply(lambda dog: dog.bark(), return_dtype=DataType.string()),\n",
    ").collect()"
   ]
  },
  {
   "attachments": {},
   "cell_type": "markdown",
   "metadata": {},
   "source": [
    "### User-Defined Functions\n",
    "\n",
    "{meth}`.apply <daft.expressions.Expression.apply>` makes it really easy to map a function on a single column, but is limited in 2 main ways:\n",
    "\n",
    "1. Only runs on a single column: some algorithms require multiple columns as inputs\n",
    "2. Only runs on a single row: some algorithms run much more efficiently when run on a batch of rows instead\n",
    "\n",
    "To overcome these limitations, you can use User-Defined Functions (UDFs).\n",
    "\n",
    "See Also: [UDF User Guide](learn/user_guides/udf)"
   ]
  },
  {
   "cell_type": "code",
   "execution_count": 18,
   "metadata": {
    "tags": []
   },
   "outputs": [
    {
     "data": {
      "text/html": [
       "<div>\n",
       "    <table class=\"dataframe\">\n",
       "<thead>\n",
       "<tr><th>dogs<br>Python                            </th><th>owner<br>Utf8  </th><th>custom_bark<br>Utf8   </th></tr>\n",
       "</thead>\n",
       "<tbody>\n",
       "<tr><td>&lt;__main__.Dog object at 0x11ef78ac0&gt;</td><td>russell        </td><td>ruffles loves russell!</td></tr>\n",
       "<tr><td>&lt;__main__.Dog object at 0x11ef78430&gt;</td><td>william        </td><td>waffles loves william!</td></tr>\n",
       "<tr><td>&lt;__main__.Dog object at 0x11ef78040&gt;</td><td>david          </td><td>doofus loves david!   </td></tr>\n",
       "</tbody>\n",
       "</table>\n",
       "    <small>(Showing first 3 of 3 rows)</small>\n",
       "</div>"
      ],
      "text/plain": [
       "+----------------------+---------+---------------------+\n",
       "| dogs                 | owner   | custom_bark         |\n",
       "| Python               | Utf8    | Utf8                |\n",
       "+======================+=========+=====================+\n",
       "| <__main__.Dog object | russell | ruffles loves       |\n",
       "| at 0x11ef78ac0>      |         | russell!            |\n",
       "+----------------------+---------+---------------------+\n",
       "| <__main__.Dog object | william | waffles loves       |\n",
       "| at 0x11ef78430>      |         | william!            |\n",
       "+----------------------+---------+---------------------+\n",
       "| <__main__.Dog object | david   | doofus loves david! |\n",
       "| at 0x11ef78040>      |         |                     |\n",
       "+----------------------+---------+---------------------+\n",
       "(Showing first 3 of 3 rows)"
      ]
     },
     "execution_count": 18,
     "metadata": {},
     "output_type": "execute_result"
    }
   ],
   "source": [
    "from daft import udf\n",
    "\n",
    "@udf(return_dtype=DataType.string())\n",
    "def custom_bark(dog_series, owner_series):\n",
    "    return [\n",
    "        f\"{dog.name} loves {owner_name}!\"\n",
    "        for dog, owner_name\n",
    "        in zip(dog_series.to_pylist(), owner_series.to_pylist())\n",
    "    ]\n",
    "\n",
    "py_df.with_column(\"custom_bark\", custom_bark(py_df[\"dogs\"], py_df[\"owner\"])).collect()"
   ]
  },
  {
   "attachments": {},
   "cell_type": "markdown",
   "metadata": {},
   "source": [
    "## Filtering Data\n",
    "\n",
    "You can filter rows in dataframe using {meth}`df.where() <daft.DataFrame.where>`, which accepts a Boolean type Expression as an argument:"
   ]
  },
  {
   "cell_type": "code",
   "execution_count": 19,
   "metadata": {
    "tags": []
   },
   "outputs": [
    {
     "data": {
      "text/html": [
       "<div>\n",
       "    <table class=\"dataframe\">\n",
       "<thead>\n",
       "<tr><th style=\"text-align: right;\">  integers<br>Int64</th><th style=\"text-align: right;\">  floats<br>Float64</th><th>bools<br>Boolean  </th><th>strings<br>Utf8  </th><th>bytes<br>Binary  </th><th>dates<br>Date  </th><th>lists<br>List[Int64]  </th></tr>\n",
       "</thead>\n",
       "<tbody>\n",
       "<tr><td style=\"text-align: right;\">                  1</td><td style=\"text-align: right;\">                1.5</td><td>true              </td><td>a                </td><td>b'a'             </td><td>1994-01-01     </td><td>[1, 1, 1]             </td></tr>\n",
       "<tr><td style=\"text-align: right;\">                  2</td><td style=\"text-align: right;\">                2.5</td><td>true              </td><td>b                </td><td>b'b'             </td><td>1994-01-02     </td><td>[2, 2, 2]             </td></tr>\n",
       "</tbody>\n",
       "</table>\n",
       "    <small>(Showing first 2 of 2 rows)</small>\n",
       "</div>"
      ],
      "text/plain": [
       "+------------+-----------+-----------+-----------+----------+------------+---------------+\n",
       "|   integers |    floats | bools     | strings   | bytes    | dates      | lists         |\n",
       "|      Int64 |   Float64 | Boolean   | Utf8      | Binary   | Date       | List[Int64]   |\n",
       "+============+===========+===========+===========+==========+============+===============+\n",
       "|          1 |       1.5 | true      | a         | b'a'     | 1994-01-01 | [1, 1, 1]     |\n",
       "+------------+-----------+-----------+-----------+----------+------------+---------------+\n",
       "|          2 |       2.5 | true      | b         | b'b'     | 1994-01-02 | [2, 2, 2]     |\n",
       "+------------+-----------+-----------+-----------+----------+------------+---------------+\n",
       "(Showing first 2 of 2 rows)"
      ]
     },
     "execution_count": 19,
     "metadata": {},
     "output_type": "execute_result"
    }
   ],
   "source": [
    "# Keep only rows where values in column \"A\" are less than 3\n",
    "df_filtered = df.where(df[\"integers\"] < 3)\n",
    "df_filtered.collect()"
   ]
  },
  {
   "attachments": {},
   "cell_type": "markdown",
   "metadata": {},
   "source": [
    "## Missing Data\n",
    "\n",
    "All columns in Daft are \"nullable\" by default. Unlike other frameworks such as Pandas, Daft differentiates between \"null\" (missing) and \"nan\" (stands for not a number - a special value indicating an invalid float)."
   ]
  },
  {
   "cell_type": "code",
   "execution_count": 20,
   "metadata": {
    "tags": []
   },
   "outputs": [
    {
     "data": {
      "text/html": [
       "<div>\n",
       "    <table class=\"dataframe\">\n",
       "<thead>\n",
       "<tr><th>floats<br>Float64  </th><th>floats_is_null<br>Boolean  </th><th>floats_is_nan<br>Boolean  </th></tr>\n",
       "</thead>\n",
       "<tbody>\n",
       "<tr><td>1.5                </td><td>false                      </td><td>false                     </td></tr>\n",
       "<tr><td>None               </td><td>true                       </td><td>none                      </td></tr>\n",
       "<tr><td>nan                </td><td>false                      </td><td>true                      </td></tr>\n",
       "</tbody>\n",
       "</table>\n",
       "    <small>(Showing first 3 of 3 rows)</small>\n",
       "</div>"
      ],
      "text/plain": [
       "+-----------+------------------+-----------------+\n",
       "| floats    | floats_is_null   | floats_is_nan   |\n",
       "| Float64   | Boolean          | Boolean         |\n",
       "+===========+==================+=================+\n",
       "| 1.5       | false            | false           |\n",
       "+-----------+------------------+-----------------+\n",
       "| None      | true             | none            |\n",
       "+-----------+------------------+-----------------+\n",
       "| nan       | false            | true            |\n",
       "+-----------+------------------+-----------------+\n",
       "(Showing first 3 of 3 rows)"
      ]
     },
     "execution_count": 20,
     "metadata": {},
     "output_type": "execute_result"
    }
   ],
   "source": [
    "missing_data_df = daft.from_pydict({\n",
    "    \"floats\": [1.5, None, float(\"nan\")],\n",
    "})\n",
    "missing_data_df = missing_data_df \\\n",
    "    .with_column(\"floats_is_null\", missing_data_df[\"floats\"].is_null()) \\\n",
    "    .with_column(\"floats_is_nan\", missing_data_df[\"floats\"].float.is_nan())\n",
    "\n",
    "missing_data_df.collect()"
   ]
  },
  {
   "attachments": {},
   "cell_type": "markdown",
   "metadata": {},
   "source": [
    "To fill in missing values, a useful Expression is the {meth}`.if_else <daft.expressions.Expression.if_else>` expression which can be used to fill in values if the value is null:"
   ]
  },
  {
   "cell_type": "code",
   "execution_count": 21,
   "metadata": {
    "tags": []
   },
   "outputs": [
    {
     "data": {
      "text/html": [
       "<div>\n",
       "    <table class=\"dataframe\">\n",
       "<thead>\n",
       "<tr><th>floats<br>Float64  </th><th>floats_is_null<br>Boolean  </th><th>floats_is_nan<br>Boolean  </th><th style=\"text-align: right;\">  filled_in_floats<br>Float64</th></tr>\n",
       "</thead>\n",
       "<tbody>\n",
       "<tr><td>1.5                </td><td>false                      </td><td>false                     </td><td style=\"text-align: right;\">                          1.5</td></tr>\n",
       "<tr><td>None               </td><td>true                       </td><td>none                      </td><td style=\"text-align: right;\">                          0  </td></tr>\n",
       "<tr><td>nan                </td><td>false                      </td><td>true                      </td><td style=\"text-align: right;\">                        nan  </td></tr>\n",
       "</tbody>\n",
       "</table>\n",
       "    <small>(Showing first 3 of 3 rows)</small>\n",
       "</div>"
      ],
      "text/plain": [
       "+-----------+------------------+-----------------+--------------------+\n",
       "| floats    | floats_is_null   | floats_is_nan   |   filled_in_floats |\n",
       "| Float64   | Boolean          | Boolean         |            Float64 |\n",
       "+===========+==================+=================+====================+\n",
       "| 1.5       | false            | false           |                1.5 |\n",
       "+-----------+------------------+-----------------+--------------------+\n",
       "| None      | true             | none            |                0   |\n",
       "+-----------+------------------+-----------------+--------------------+\n",
       "| nan       | false            | true            |              nan   |\n",
       "+-----------+------------------+-----------------+--------------------+\n",
       "(Showing first 3 of 3 rows)"
      ]
     },
     "execution_count": 21,
     "metadata": {},
     "output_type": "execute_result"
    }
   ],
   "source": [
    "missing_data_df = missing_data_df.with_column(\"filled_in_floats\", (missing_data_df[\"floats\"].is_null()).if_else(0.0, missing_data_df[\"floats\"]))\n",
    "missing_data_df.collect()"
   ]
  },
  {
   "attachments": {},
   "cell_type": "markdown",
   "metadata": {},
   "source": [
    "## Merging Dataframes\n",
    "\n",
    "DataFrames can be joined with {meth}`df.join() <daft.DataFrame.join>`. Here is a naive example of a self-join where we join `df` on itself with column \"A\" as the join key."
   ]
  },
  {
   "cell_type": "code",
   "execution_count": 22,
   "metadata": {
    "tags": []
   },
   "outputs": [],
   "source": [
    "joined_df = df.join(df, on=\"integers\")"
   ]
  },
  {
   "cell_type": "code",
   "execution_count": 23,
   "metadata": {
    "tags": []
   },
   "outputs": [
    {
     "data": {
      "text/html": [
       "<div>\n",
       "    <table class=\"dataframe\">\n",
       "<thead>\n",
       "<tr><th style=\"text-align: right;\">  integers<br>Int64</th><th style=\"text-align: right;\">  floats<br>Float64</th><th>bools<br>Boolean  </th><th>strings<br>Utf8  </th><th>bytes<br>Binary  </th><th>dates<br>Date  </th><th>lists<br>List[Int64]  </th><th style=\"text-align: right;\">  right.floats<br>Float64</th><th>right.bools<br>Boolean  </th><th>right.strings<br>Utf8  </th><th>right.bytes<br>Binary  </th><th>right.dates<br>Date  </th><th>right.lists<br>List[Int64]  </th></tr>\n",
       "</thead>\n",
       "<tbody>\n",
       "<tr><td style=\"text-align: right;\">                  1</td><td style=\"text-align: right;\">                1.5</td><td>true              </td><td>a                </td><td>b'a'             </td><td>1994-01-01     </td><td>[1, 1, 1]             </td><td style=\"text-align: right;\">                      1.5</td><td>true                    </td><td>a                      </td><td>b'a'                   </td><td>1994-01-01           </td><td>[1, 1, 1]                   </td></tr>\n",
       "<tr><td style=\"text-align: right;\">                  2</td><td style=\"text-align: right;\">                2.5</td><td>true              </td><td>b                </td><td>b'b'             </td><td>1994-01-02     </td><td>[2, 2, 2]             </td><td style=\"text-align: right;\">                      2.5</td><td>true                    </td><td>b                      </td><td>b'b'                   </td><td>1994-01-02           </td><td>[2, 2, 2]                   </td></tr>\n",
       "<tr><td style=\"text-align: right;\">                  3</td><td style=\"text-align: right;\">                3.5</td><td>false             </td><td>c                </td><td>b'c'             </td><td>1994-01-03     </td><td>[3, 3, 3]             </td><td style=\"text-align: right;\">                      3.5</td><td>false                   </td><td>c                      </td><td>b'c'                   </td><td>1994-01-03           </td><td>[3, 3, 3]                   </td></tr>\n",
       "<tr><td style=\"text-align: right;\">                  4</td><td style=\"text-align: right;\">                4.5</td><td>false             </td><td>d                </td><td>b'd'             </td><td>1994-01-04     </td><td>[4, 4, 4]             </td><td style=\"text-align: right;\">                      4.5</td><td>false                   </td><td>d                      </td><td>b'd'                   </td><td>1994-01-04           </td><td>[4, 4, 4]                   </td></tr>\n",
       "</tbody>\n",
       "</table>\n",
       "    <small>(Showing first 4 of 4 rows)</small>\n",
       "</div>"
      ],
      "text/plain": [
       "+------------+-----------+-----------+-----------+----------+------------+---------------+----------------+---------------+-----------------+---------------+---------------+---------------+\n",
       "|   integers |    floats | bools     | strings   | bytes    | dates      | lists         |   right.floats | right.bools   | right.strings   | right.bytes   | right.dates   | right.lists   |\n",
       "|      Int64 |   Float64 | Boolean   | Utf8      | Binary   | Date       | List[Int64]   |        Float64 | Boolean       | Utf8            | Binary        | Date          | List[Int64]   |\n",
       "+============+===========+===========+===========+==========+============+===============+================+===============+=================+===============+===============+===============+\n",
       "|          1 |       1.5 | true      | a         | b'a'     | 1994-01-01 | [1, 1, 1]     |            1.5 | true          | a               | b'a'          | 1994-01-01    | [1, 1, 1]     |\n",
       "+------------+-----------+-----------+-----------+----------+------------+---------------+----------------+---------------+-----------------+---------------+---------------+---------------+\n",
       "|          2 |       2.5 | true      | b         | b'b'     | 1994-01-02 | [2, 2, 2]     |            2.5 | true          | b               | b'b'          | 1994-01-02    | [2, 2, 2]     |\n",
       "+------------+-----------+-----------+-----------+----------+------------+---------------+----------------+---------------+-----------------+---------------+---------------+---------------+\n",
       "|          3 |       3.5 | false     | c         | b'c'     | 1994-01-03 | [3, 3, 3]     |            3.5 | false         | c               | b'c'          | 1994-01-03    | [3, 3, 3]     |\n",
       "+------------+-----------+-----------+-----------+----------+------------+---------------+----------------+---------------+-----------------+---------------+---------------+---------------+\n",
       "|          4 |       4.5 | false     | d         | b'd'     | 1994-01-04 | [4, 4, 4]     |            4.5 | false         | d               | b'd'          | 1994-01-04    | [4, 4, 4]     |\n",
       "+------------+-----------+-----------+-----------+----------+------------+---------------+----------------+---------------+-----------------+---------------+---------------+---------------+\n",
       "(Showing first 4 of 4 rows)"
      ]
     },
     "execution_count": 23,
     "metadata": {},
     "output_type": "execute_result"
    }
   ],
   "source": [
    "joined_df.collect()"
   ]
  },
  {
   "attachments": {},
   "cell_type": "markdown",
   "metadata": {},
   "source": [
    "## Grouping and Aggregations\n",
    "\n",
    "Groupby aggregation operations over a dataset happens in 2 phases:\n",
    "\n",
    "1. Splitting the data into groups based on some criteria using {meth}`df.groupby() <daft.DataFrame.groupby>`\n",
    "2. Specifying how to aggregate the data for each group using {meth}`GroupedDataFrame.agg() <daft.dataframe.dataframe.GroupedDataFrame.agg>`\n",
    "\n",
    "Let's take a look at an example:"
   ]
  },
  {
   "cell_type": "code",
   "execution_count": 24,
   "metadata": {
    "tags": []
   },
   "outputs": [
    {
     "data": {
      "text/html": [
       "<div>\n",
       "    <table class=\"dataframe\">\n",
       "<thead>\n",
       "<tr><th>A<br>Utf8  </th><th>B<br>Utf8  </th><th style=\"text-align: right;\">  C<br>Int64</th><th style=\"text-align: right;\">  D<br>Int64</th></tr>\n",
       "</thead>\n",
       "<tbody>\n",
       "<tr><td>foo        </td><td>a          </td><td style=\"text-align: right;\">           0</td><td style=\"text-align: right;\">           0</td></tr>\n",
       "<tr><td>bar        </td><td>a          </td><td style=\"text-align: right;\">           1</td><td style=\"text-align: right;\">           1</td></tr>\n",
       "<tr><td>foo        </td><td>b          </td><td style=\"text-align: right;\">           2</td><td style=\"text-align: right;\">           2</td></tr>\n",
       "<tr><td>bar        </td><td>c          </td><td style=\"text-align: right;\">           3</td><td style=\"text-align: right;\">           3</td></tr>\n",
       "<tr><td>foo        </td><td>b          </td><td style=\"text-align: right;\">           4</td><td style=\"text-align: right;\">           4</td></tr>\n",
       "<tr><td>bar        </td><td>b          </td><td style=\"text-align: right;\">           5</td><td style=\"text-align: right;\">           5</td></tr>\n",
       "<tr><td>foo        </td><td>a          </td><td style=\"text-align: right;\">           6</td><td style=\"text-align: right;\">           6</td></tr>\n",
       "<tr><td>foo        </td><td>c          </td><td style=\"text-align: right;\">           7</td><td style=\"text-align: right;\">           7</td></tr>\n",
       "</tbody>\n",
       "</table>\n",
       "    <small>(Showing first 8 of 8 rows)</small>\n",
       "</div>"
      ],
      "text/plain": [
       "+--------+--------+---------+---------+\n",
       "| A      | B      |       C |       D |\n",
       "| Utf8   | Utf8   |   Int64 |   Int64 |\n",
       "+========+========+=========+=========+\n",
       "| foo    | a      |       0 |       0 |\n",
       "+--------+--------+---------+---------+\n",
       "| bar    | a      |       1 |       1 |\n",
       "+--------+--------+---------+---------+\n",
       "| foo    | b      |       2 |       2 |\n",
       "+--------+--------+---------+---------+\n",
       "| bar    | c      |       3 |       3 |\n",
       "+--------+--------+---------+---------+\n",
       "| foo    | b      |       4 |       4 |\n",
       "+--------+--------+---------+---------+\n",
       "| bar    | b      |       5 |       5 |\n",
       "+--------+--------+---------+---------+\n",
       "| foo    | a      |       6 |       6 |\n",
       "+--------+--------+---------+---------+\n",
       "| foo    | c      |       7 |       7 |\n",
       "+--------+--------+---------+---------+\n",
       "(Showing first 8 of 8 rows)"
      ]
     },
     "execution_count": 24,
     "metadata": {},
     "output_type": "execute_result"
    }
   ],
   "source": [
    "grouping_df = daft.from_pydict(\n",
    "    {\n",
    "        \"A\": [\"foo\", \"bar\", \"foo\", \"bar\", \"foo\", \"bar\", \"foo\", \"foo\"],\n",
    "        \"B\": [\"a\", \"a\", \"b\", \"c\", \"b\", \"b\", \"a\", \"c\"],\n",
    "        \"C\": [i for i in range(8)],\n",
    "        \"D\": [i for i in range(8)],\n",
    "    }\n",
    ")\n",
    "grouping_df.collect()"
   ]
  },
  {
   "attachments": {},
   "cell_type": "markdown",
   "metadata": {},
   "source": [
    "First we group by \"A\", so that we will evaluate rows with `A=foo` and `A=bar` separately in their respective groups."
   ]
  },
  {
   "cell_type": "code",
   "execution_count": 25,
   "metadata": {
    "tags": []
   },
   "outputs": [
    {
     "data": {
      "text/plain": [
       "GroupedDataFrame(df=+--------+--------+---------+---------+\n",
       "| A      | B      |       C |       D |\n",
       "| Utf8   | Utf8   |   Int64 |   Int64 |\n",
       "+========+========+=========+=========+\n",
       "| foo    | a      |       0 |       0 |\n",
       "+--------+--------+---------+---------+\n",
       "| bar    | a      |       1 |       1 |\n",
       "+--------+--------+---------+---------+\n",
       "| foo    | b      |       2 |       2 |\n",
       "+--------+--------+---------+---------+\n",
       "| bar    | c      |       3 |       3 |\n",
       "+--------+--------+---------+---------+\n",
       "| foo    | b      |       4 |       4 |\n",
       "+--------+--------+---------+---------+\n",
       "| bar    | b      |       5 |       5 |\n",
       "+--------+--------+---------+---------+\n",
       "| foo    | a      |       6 |       6 |\n",
       "+--------+--------+---------+---------+\n",
       "| foo    | c      |       7 |       7 |\n",
       "+--------+--------+---------+---------+\n",
       "(Showing first 8 of 8 rows), group_by=<daft.expressions.expressions.ExpressionsProjection object at 0x11f58ab90>)"
      ]
     },
     "execution_count": 25,
     "metadata": {},
     "output_type": "execute_result"
    }
   ],
   "source": [
    "grouped_df = grouping_df.groupby(grouping_df[\"A\"])\n",
    "grouped_df"
   ]
  },
  {
   "attachments": {},
   "cell_type": "markdown",
   "metadata": {},
   "source": [
    "Now we can specify the aggregations we want to compute over columns C and D. Here we compute the sum over column C, and the mean over column D for each group:"
   ]
  },
  {
   "cell_type": "code",
   "execution_count": 26,
   "metadata": {
    "tags": []
   },
   "outputs": [
    {
     "data": {
      "text/html": [
       "<div>\n",
       "    <table class=\"dataframe\">\n",
       "<thead>\n",
       "<tr><th>A<br>Utf8  </th><th style=\"text-align: right;\">  C_sum<br>Int64</th><th style=\"text-align: right;\">  D_mean<br>Float64</th></tr>\n",
       "</thead>\n",
       "<tbody>\n",
       "<tr><td>bar        </td><td style=\"text-align: right;\">               9</td><td style=\"text-align: right;\">                3  </td></tr>\n",
       "<tr><td>foo        </td><td style=\"text-align: right;\">              19</td><td style=\"text-align: right;\">                3.8</td></tr>\n",
       "</tbody>\n",
       "</table>\n",
       "    <small>(Showing first 2 of 2 rows)</small>\n",
       "</div>"
      ],
      "text/plain": [
       "+--------+---------+-----------+\n",
       "| A      |   C_sum |    D_mean |\n",
       "| Utf8   |   Int64 |   Float64 |\n",
       "+========+=========+===========+\n",
       "| bar    |       9 |       3   |\n",
       "+--------+---------+-----------+\n",
       "| foo    |      19 |       3.8 |\n",
       "+--------+---------+-----------+\n",
       "(Showing first 2 of 2 rows)"
      ]
     },
     "execution_count": 26,
     "metadata": {},
     "output_type": "execute_result"
    }
   ],
   "source": [
    "aggregated_df = grouped_df.agg([\n",
    "    (grouped_df[\"C\"].alias(\"C_sum\"), \"sum\"),\n",
    "    (grouped_df[\"D\"].alias(\"D_mean\"), \"mean\"),\n",
    "])\n",
    "aggregated_df.collect()"
   ]
  },
  {
   "attachments": {},
   "cell_type": "markdown",
   "metadata": {},
   "source": [
    "These operations work as well when run over multiple groupby columns, which will produce one row for each combination of columns that occur in the DataFrame:"
   ]
  },
  {
   "cell_type": "code",
   "execution_count": 27,
   "metadata": {
    "tags": []
   },
   "outputs": [
    {
     "data": {
      "text/html": [
       "<div>\n",
       "    <table class=\"dataframe\">\n",
       "<thead>\n",
       "<tr><th>A<br>Utf8  </th><th>B<br>Utf8  </th><th style=\"text-align: right;\">  C_sum<br>Int64</th><th style=\"text-align: right;\">  D_mean<br>Float64</th></tr>\n",
       "</thead>\n",
       "<tbody>\n",
       "<tr><td>bar        </td><td>a          </td><td style=\"text-align: right;\">               1</td><td style=\"text-align: right;\">                  1</td></tr>\n",
       "<tr><td>foo        </td><td>b          </td><td style=\"text-align: right;\">               6</td><td style=\"text-align: right;\">                  3</td></tr>\n",
       "<tr><td>foo        </td><td>a          </td><td style=\"text-align: right;\">               6</td><td style=\"text-align: right;\">                  3</td></tr>\n",
       "<tr><td>bar        </td><td>b          </td><td style=\"text-align: right;\">               5</td><td style=\"text-align: right;\">                  5</td></tr>\n",
       "<tr><td>foo        </td><td>c          </td><td style=\"text-align: right;\">               7</td><td style=\"text-align: right;\">                  7</td></tr>\n",
       "<tr><td>bar        </td><td>c          </td><td style=\"text-align: right;\">               3</td><td style=\"text-align: right;\">                  3</td></tr>\n",
       "</tbody>\n",
       "</table>\n",
       "    <small>(Showing first 6 of 6 rows)</small>\n",
       "</div>"
      ],
      "text/plain": [
       "+--------+--------+---------+-----------+\n",
       "| A      | B      |   C_sum |    D_mean |\n",
       "| Utf8   | Utf8   |   Int64 |   Float64 |\n",
       "+========+========+=========+===========+\n",
       "| bar    | a      |       1 |         1 |\n",
       "+--------+--------+---------+-----------+\n",
       "| foo    | b      |       6 |         3 |\n",
       "+--------+--------+---------+-----------+\n",
       "| foo    | a      |       6 |         3 |\n",
       "+--------+--------+---------+-----------+\n",
       "| bar    | b      |       5 |         5 |\n",
       "+--------+--------+---------+-----------+\n",
       "| foo    | c      |       7 |         7 |\n",
       "+--------+--------+---------+-----------+\n",
       "| bar    | c      |       3 |         3 |\n",
       "+--------+--------+---------+-----------+\n",
       "(Showing first 6 of 6 rows)"
      ]
     },
     "execution_count": 27,
     "metadata": {},
     "output_type": "execute_result"
    }
   ],
   "source": [
    "grouping_df \\\n",
    "    .groupby(grouping_df[\"A\"], grouping_df[\"B\"]) \\\n",
    "    .agg([\n",
    "        (grouping_df[\"C\"].alias(\"C_sum\"), \"sum\"),\n",
    "        (grouping_df[\"D\"].alias(\"D_mean\"), \"mean\"),\n",
    "    ]) \\\n",
    "    .collect()"
   ]
  },
  {
   "attachments": {},
   "cell_type": "markdown",
   "metadata": {},
   "source": [
    "## Writing Data\n",
    "\n",
    "See: [Writing Data](df-writing-data)\n",
    "\n",
    "Writing data will execute your DataFrame and write the results out to the specified backend. For example, to write data out to Parquet with {meth}`df.write_parquet() <daft.DataFrame.write_parquet>`:\n"
   ]
  },
  {
   "cell_type": "code",
   "execution_count": 28,
   "metadata": {
    "tags": []
   },
   "outputs": [],
   "source": [
    "written_df = df.write_parquet(\"my-dataframe.parquet\")"
   ]
  },
  {
   "attachments": {},
   "cell_type": "markdown",
   "metadata": {},
   "source": [
    "Note that writing your dataframe is a **blocking** operation that executes your DataFrame. It will return a new `DataFrame` that contains the filepaths to the written data:"
   ]
  },
  {
   "cell_type": "code",
   "execution_count": 29,
   "metadata": {
    "tags": []
   },
   "outputs": [
    {
     "data": {
      "text/html": [
       "<div>\n",
       "    <table class=\"dataframe\">\n",
       "<thead>\n",
       "<tr><th>file_path<br>Utf8                                           </th></tr>\n",
       "</thead>\n",
       "<tbody>\n",
       "<tr><td>my-dataframe.parquet/6d29ca81-06bd-4a49-8fac-eb80656c69ca...</td></tr>\n",
       "</tbody>\n",
       "</table>\n",
       "    <small>(Showing first 1 of 1 rows)</small>\n",
       "</div>"
      ],
      "text/plain": [
       "+----------------------+\n",
       "| file_path            |\n",
       "| Utf8                 |\n",
       "+======================+\n",
       "| my-dataframe.parquet |\n",
       "| /6d29ca81-06bd-4a49- |\n",
       "| 8fac-eb80656c69ca... |\n",
       "+----------------------+\n",
       "(Showing first 1 of 1 rows)"
      ]
     },
     "execution_count": 29,
     "metadata": {},
     "output_type": "execute_result"
    }
   ],
   "source": [
    "written_df.collect()"
   ]
  },
  {
   "cell_type": "code",
   "execution_count": null,
   "metadata": {},
   "outputs": [],
   "source": []
  }
 ],
 "metadata": {
  "kernelspec": {
   "display_name": "Python 3 (ipykernel)",
   "language": "python",
   "name": "python3"
  },
  "language_info": {
   "codemirror_mode": {
    "name": "ipython",
    "version": 3
   },
   "file_extension": ".py",
   "mimetype": "text/x-python",
   "name": "python",
   "nbconvert_exporter": "python",
   "pygments_lexer": "ipython3",
   "version": "3.10.9"
  },
  "vscode": {
   "interpreter": {
    "hash": "e5d77f7bd5a748e4f6412a25f9708ab7af36936de941fc795d1a6b75eb2da082"
   }
  }
 },
 "nbformat": 4,
 "nbformat_minor": 4
}
