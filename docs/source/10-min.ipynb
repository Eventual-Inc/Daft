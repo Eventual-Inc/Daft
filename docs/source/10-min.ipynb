{
 "cells": [
  {
   "attachments": {},
   "cell_type": "markdown",
   "metadata": {},
   "source": [
    "```{hint}\n",
    "✨✨✨ **Run this notebook on Google Colab** ✨✨✨\n",
    "\n",
    "You can [run this notebook yourself with Google Colab](https://colab.research.google.com/github/Eventual-Inc/Daft/blob/main/docs/source/10-min.ipynb)!\n",
    "```"
   ]
  },
  {
   "attachments": {},
   "cell_type": "markdown",
   "metadata": {},
   "source": [
    "# 10 minutes Quickstart\n",
    "\n",
    "This is a short introduction to all the main functionality in Daft, geared towards new users.\n",
    "\n",
    "## What is Daft?\n",
    "Daft is a distributed query engine built for running ETL, analytics, and ML/AI workloads at scale. Daft is implemented in Rust (fast!) and exposes a familiar Python dataframe API (friendly!). \n",
    "\n",
    "In this Quickstart you will learn the basics of Daft’s DataFrame API and the features that set it apart from frameworks like pandas, pySpark, Dask and Ray. You will build a database of dog owners and their fluffy companions and see how you can use Daft to download images from URLs, run an ML classifier and call custom UDFs, all within an interactive DataFrame interface. Woof! 🐶\n",
    "\n",
    "## When Should I use Daft?\n",
    "\n",
    "Daft is the right tool for you if you are working with any of the following:\n",
    "- **Large datasets** that don't fit into memory or would benefit from parallelization\n",
    "- **Multimodal data types** such as images, JSON, vector embeddings, and tensors\n",
    "- **Formats that support data skipping** through automatic partition pruning and stats-based file pruning for filter predicates\n",
    "- **ML workloads** that would benefit from interactive computation within DataFrame (via UDFs)\n",
    "\n",
    "Read more about how Daft compares to other DataFrames [here](https://www.getdaft.io/projects/docs/en/latest/faq/dataframe_comparison.html).\n",
    "\n",
    "Let's jump in! 🪂"
   ]
  },
  {
   "cell_type": "markdown",
   "metadata": {},
   "source": [
    "## Install and Import Daft\n",
    "\n",
    "You can install Daft using `pip`:"
   ]
  },
  {
   "cell_type": "code",
   "execution_count": null,
   "metadata": {
    "scrolled": true
   },
   "outputs": [],
   "source": [
    "#!pip install getdaft"
   ]
  },
  {
   "cell_type": "markdown",
   "metadata": {},
   "source": [
    "And then import Daft and one of its classes which we'll need later on:"
   ]
  },
  {
   "cell_type": "code",
   "execution_count": 1,
   "metadata": {
    "tags": []
   },
   "outputs": [],
   "source": [
    "import daft\n",
    "from daft import DataType, col, udf"
   ]
  },
  {
   "cell_type": "markdown",
   "metadata": {},
   "source": [
    "## Create your first Daft DataFrame\n",
    "\n",
    "See also: [API Reference: DataFrame Construction](df-input-output)\n",
    "\n",
    "To begin, let's create a DataFrame from a dictionary of columns:"
   ]
  },
  {
   "cell_type": "code",
   "execution_count": 2,
   "metadata": {},
   "outputs": [
    {
     "data": {
      "text/html": [
       "<div>\n",
       "<table class=\"dataframe\">\n",
       "<thead><tr><th style=\"text-wrap: nowrap; max-width:192px; overflow:auto; text-align:left\">integers<br />Int64</th><th style=\"text-wrap: nowrap; max-width:192px; overflow:auto; text-align:left\">floats<br />Float64</th><th style=\"text-wrap: nowrap; max-width:192px; overflow:auto; text-align:left\">bools<br />Boolean</th><th style=\"text-wrap: nowrap; max-width:192px; overflow:auto; text-align:left\">strings<br />Utf8</th><th style=\"text-wrap: nowrap; max-width:192px; overflow:auto; text-align:left\">bytes<br />Binary</th><th style=\"text-wrap: nowrap; max-width:192px; overflow:auto; text-align:left\">dates<br />Date</th><th style=\"text-wrap: nowrap; max-width:192px; overflow:auto; text-align:left\">lists<br />List[Int64]</th><th style=\"text-wrap: nowrap; max-width:192px; overflow:auto; text-align:left\">nulls<br />Null</th></tr></thead>\n",
       "<tbody>\n",
       "<tr><td><div style=\"text-align:left; max-width:192px; max-height:64px; overflow:auto\">1</div></td><td><div style=\"text-align:left; max-width:192px; max-height:64px; overflow:auto\">1.5</div></td><td><div style=\"text-align:left; max-width:192px; max-height:64px; overflow:auto\">true</div></td><td><div style=\"text-align:left; max-width:192px; max-height:64px; overflow:auto\">a</div></td><td><div style=\"text-align:left; max-width:192px; max-height:64px; overflow:auto\">b\"a\"</div></td><td><div style=\"text-align:left; max-width:192px; max-height:64px; overflow:auto\">1994-01-01</div></td><td><div style=\"text-align:left; max-width:192px; max-height:64px; overflow:auto\">[1, 1, 1]</div></td><td><div style=\"text-align:left; max-width:192px; max-height:64px; overflow:auto\">None</div></td></tr>\n",
       "<tr><td><div style=\"text-align:left; max-width:192px; max-height:64px; overflow:auto\">2</div></td><td><div style=\"text-align:left; max-width:192px; max-height:64px; overflow:auto\">2.5</div></td><td><div style=\"text-align:left; max-width:192px; max-height:64px; overflow:auto\">true</div></td><td><div style=\"text-align:left; max-width:192px; max-height:64px; overflow:auto\">b</div></td><td><div style=\"text-align:left; max-width:192px; max-height:64px; overflow:auto\">b\"b\"</div></td><td><div style=\"text-align:left; max-width:192px; max-height:64px; overflow:auto\">1994-01-02</div></td><td><div style=\"text-align:left; max-width:192px; max-height:64px; overflow:auto\">[2, 2, 2]</div></td><td><div style=\"text-align:left; max-width:192px; max-height:64px; overflow:auto\">None</div></td></tr>\n",
       "<tr><td><div style=\"text-align:left; max-width:192px; max-height:64px; overflow:auto\">3</div></td><td><div style=\"text-align:left; max-width:192px; max-height:64px; overflow:auto\">3.5</div></td><td><div style=\"text-align:left; max-width:192px; max-height:64px; overflow:auto\">false</div></td><td><div style=\"text-align:left; max-width:192px; max-height:64px; overflow:auto\">c</div></td><td><div style=\"text-align:left; max-width:192px; max-height:64px; overflow:auto\">b\"c\"</div></td><td><div style=\"text-align:left; max-width:192px; max-height:64px; overflow:auto\">1994-01-03</div></td><td><div style=\"text-align:left; max-width:192px; max-height:64px; overflow:auto\">[3, 3, 3]</div></td><td><div style=\"text-align:left; max-width:192px; max-height:64px; overflow:auto\">None</div></td></tr>\n",
       "<tr><td><div style=\"text-align:left; max-width:192px; max-height:64px; overflow:auto\">4</div></td><td><div style=\"text-align:left; max-width:192px; max-height:64px; overflow:auto\">4.5</div></td><td><div style=\"text-align:left; max-width:192px; max-height:64px; overflow:auto\">false</div></td><td><div style=\"text-align:left; max-width:192px; max-height:64px; overflow:auto\">d</div></td><td><div style=\"text-align:left; max-width:192px; max-height:64px; overflow:auto\">b\"d\"</div></td><td><div style=\"text-align:left; max-width:192px; max-height:64px; overflow:auto\">1994-01-04</div></td><td><div style=\"text-align:left; max-width:192px; max-height:64px; overflow:auto\">[4, 4, 4]</div></td><td><div style=\"text-align:left; max-width:192px; max-height:64px; overflow:auto\">None</div></td></tr>\n",
       "</tbody>\n",
       "</table>\n",
       "<small>(Showing first 4 of 4 rows)</small>\n",
       "</div>"
      ],
      "text/plain": [
       "╭──────────┬─────────┬─────────┬────────────┬────────────┬─────────────┬───────╮\n",
       "│ integers ┆ floats  ┆ bools   ┆      …     ┆ dates      ┆ lists       ┆ nulls │\n",
       "│ ---      ┆ ---     ┆ ---     ┆            ┆ ---        ┆ ---         ┆ ---   │\n",
       "│ Int64    ┆ Float64 ┆ Boolean ┆ (2 hidden) ┆ Date       ┆ List[Int64] ┆ Null  │\n",
       "╞══════════╪═════════╪═════════╪════════════╪════════════╪═════════════╪═══════╡\n",
       "│ 1        ┆ 1.5     ┆ true    ┆ …          ┆ 1994-01-01 ┆ [1, 1, 1]   ┆ None  │\n",
       "├╌╌╌╌╌╌╌╌╌╌┼╌╌╌╌╌╌╌╌╌┼╌╌╌╌╌╌╌╌╌┼╌╌╌╌╌╌╌╌╌╌╌╌┼╌╌╌╌╌╌╌╌╌╌╌╌┼╌╌╌╌╌╌╌╌╌╌╌╌╌┼╌╌╌╌╌╌╌┤\n",
       "│ 2        ┆ 2.5     ┆ true    ┆ …          ┆ 1994-01-02 ┆ [2, 2, 2]   ┆ None  │\n",
       "├╌╌╌╌╌╌╌╌╌╌┼╌╌╌╌╌╌╌╌╌┼╌╌╌╌╌╌╌╌╌┼╌╌╌╌╌╌╌╌╌╌╌╌┼╌╌╌╌╌╌╌╌╌╌╌╌┼╌╌╌╌╌╌╌╌╌╌╌╌╌┼╌╌╌╌╌╌╌┤\n",
       "│ 3        ┆ 3.5     ┆ false   ┆ …          ┆ 1994-01-03 ┆ [3, 3, 3]   ┆ None  │\n",
       "├╌╌╌╌╌╌╌╌╌╌┼╌╌╌╌╌╌╌╌╌┼╌╌╌╌╌╌╌╌╌┼╌╌╌╌╌╌╌╌╌╌╌╌┼╌╌╌╌╌╌╌╌╌╌╌╌┼╌╌╌╌╌╌╌╌╌╌╌╌╌┼╌╌╌╌╌╌╌┤\n",
       "│ 4        ┆ 4.5     ┆ false   ┆ …          ┆ 1994-01-04 ┆ [4, 4, 4]   ┆ None  │\n",
       "╰──────────┴─────────┴─────────┴────────────┴────────────┴─────────────┴───────╯\n",
       "\n",
       "(Showing first 4 of 4 rows)"
      ]
     },
     "execution_count": 2,
     "metadata": {},
     "output_type": "execute_result"
    }
   ],
   "source": [
    "import datetime\n",
    "\n",
    "df = daft.from_pydict({\n",
    "    \"integers\": [1, 2, 3, 4],\n",
    "    \"floats\": [1.5, 2.5, 3.5, 4.5],\n",
    "    \"bools\": [True, True, False, False],\n",
    "    \"strings\": [\"a\", \"b\", \"c\", \"d\"],\n",
    "    \"bytes\": [b\"a\", b\"b\", b\"c\", b\"d\"],\n",
    "    \"dates\": [datetime.date(1994, 1, 1), datetime.date(1994, 1, 2), datetime.date(1994, 1, 3), datetime.date(1994, 1, 4)],\n",
    "    \"lists\": [[1, 1, 1], [2, 2, 2], [3, 3, 3], [4, 4, 4]],\n",
    "    \"nulls\": [None, None, None, None],\n",
    "})\n",
    "\n",
    "df"
   ]
  },
  {
   "cell_type": "markdown",
   "metadata": {},
   "source": [
    "### Multimodal Data Types"
   ]
  },
  {
   "cell_type": "markdown",
   "metadata": {},
   "source": [
    "Daft is built for multimodal data type support. Daft DataFrames can contain more data types than other DataFrame APIs like pandas, Spark or Dask. Daft columns can contain URLs, images, tensors and Python classes. You'll get to work with some of these data types in a moment.\n",
    "\n",
    "For a complete list of supported data types see: [API Reference: DataTypes](datatypes)"
   ]
  },
  {
   "cell_type": "markdown",
   "metadata": {},
   "source": [
    "### Data Sources\n",
    "\n",
    "You can also load DataFrames from other sources, such as:\n",
    "\n",
    "1. CSV files: {func}`daft.read_csv(\"s3://bucket/*.csv\") <daft.read_csv>`\n",
    "2. Parquet files: {func}`daft.read_parquet(\"/path/*.parquet\") <daft.read_parquet>`\n",
    "3. JSON line-delimited files: {func}`daft.read_json(\"/path/*.parquet\") <daft.read_json>`\n",
    "4. Files on disk: {func}`daft.from_glob_path(\"/path/*.jpeg\") <daft.from_glob_path>`\n",
    "\n",
    "Daft automatically supports local paths as well as paths to object storage such as AWS S3:\n",
    "\n",
    "```\n",
    "df = daft.read_json(\"s3://path/to/bucket/file.jsonl)\n",
    "```\n",
    "\n",
    "See [User Guide: Integrations](/user_guide/integrations) to learn more about working with other formats like Delta Lake and Iceberg."
   ]
  },
  {
   "cell_type": "markdown",
   "metadata": {},
   "source": [
    "Let's read in a Parquet file from a public S3 bucket. Note that this Parquet file is partitioned on the `country` column. This will be important later on."
   ]
  },
  {
   "cell_type": "code",
   "execution_count": 3,
   "metadata": {},
   "outputs": [],
   "source": [
    "# Read partitioned Parquet file from S3 \n",
    "# will show no contents >>"
   ]
  },
  {
   "cell_type": "code",
   "execution_count": 4,
   "metadata": {},
   "outputs": [
    {
     "data": {
      "text/html": [
       "<div>\n",
       "<table class=\"dataframe\">\n",
       "<thead><tr><th style=\"text-wrap: nowrap; max-width:192px; overflow:auto; text-align:left\">first_name<br />Utf8</th><th style=\"text-wrap: nowrap; max-width:192px; overflow:auto; text-align:left\">last_name<br />Utf8</th><th style=\"text-wrap: nowrap; max-width:192px; overflow:auto; text-align:left\">age<br />Int64</th><th style=\"text-wrap: nowrap; max-width:192px; overflow:auto; text-align:left\">DoB<br />Date</th><th style=\"text-wrap: nowrap; max-width:192px; overflow:auto; text-align:left\">country<br />Utf8</th><th style=\"text-wrap: nowrap; max-width:192px; overflow:auto; text-align:left\">has_dog<br />Boolean</th></tr></thead>\n",
       "<tbody>\n",
       "<tr><td><div style=\"text-align:left; max-width:192px; max-height:64px; overflow:auto\">Ernesto</div></td><td><div style=\"text-align:left; max-width:192px; max-height:64px; overflow:auto\">Evergreen</div></td><td><div style=\"text-align:left; max-width:192px; max-height:64px; overflow:auto\">34</div></td><td><div style=\"text-align:left; max-width:192px; max-height:64px; overflow:auto\">1990-04-03</div></td><td><div style=\"text-align:left; max-width:192px; max-height:64px; overflow:auto\">Canada</div></td><td><div style=\"text-align:left; max-width:192px; max-height:64px; overflow:auto\">true</div></td></tr>\n",
       "<tr><td><div style=\"text-align:left; max-width:192px; max-height:64px; overflow:auto\">Sari</div></td><td><div style=\"text-align:left; max-width:192px; max-height:64px; overflow:auto\">Salama</div></td><td><div style=\"text-align:left; max-width:192px; max-height:64px; overflow:auto\">57</div></td><td><div style=\"text-align:left; max-width:192px; max-height:64px; overflow:auto\">1967-01-02</div></td><td><div style=\"text-align:left; max-width:192px; max-height:64px; overflow:auto\">United Kingdom</div></td><td><div style=\"text-align:left; max-width:192px; max-height:64px; overflow:auto\">true</div></td></tr>\n",
       "<tr><td><div style=\"text-align:left; max-width:192px; max-height:64px; overflow:auto\">Wolfgang</div></td><td><div style=\"text-align:left; max-width:192px; max-height:64px; overflow:auto\">Winter</div></td><td><div style=\"text-align:left; max-width:192px; max-height:64px; overflow:auto\">23</div></td><td><div style=\"text-align:left; max-width:192px; max-height:64px; overflow:auto\">2001-02-12</div></td><td><div style=\"text-align:left; max-width:192px; max-height:64px; overflow:auto\">Germany</div></td><td><div style=\"text-align:left; max-width:192px; max-height:64px; overflow:auto\">None</div></td></tr>\n",
       "<tr><td><div style=\"text-align:left; max-width:192px; max-height:64px; overflow:auto\">Jackie</div></td><td><div style=\"text-align:left; max-width:192px; max-height:64px; overflow:auto\">Jale</div></td><td><div style=\"text-align:left; max-width:192px; max-height:64px; overflow:auto\">62</div></td><td><div style=\"text-align:left; max-width:192px; max-height:64px; overflow:auto\">1962-03-24</div></td><td><div style=\"text-align:left; max-width:192px; max-height:64px; overflow:auto\">Canada</div></td><td><div style=\"text-align:left; max-width:192px; max-height:64px; overflow:auto\">true</div></td></tr>\n",
       "<tr><td><div style=\"text-align:left; max-width:192px; max-height:64px; overflow:auto\">Zoya</div></td><td><div style=\"text-align:left; max-width:192px; max-height:64px; overflow:auto\">Zee</div></td><td><div style=\"text-align:left; max-width:192px; max-height:64px; overflow:auto\">40</div></td><td><div style=\"text-align:left; max-width:192px; max-height:64px; overflow:auto\">1984-04-07</div></td><td><div style=\"text-align:left; max-width:192px; max-height:64px; overflow:auto\">United Kingdom</div></td><td><div style=\"text-align:left; max-width:192px; max-height:64px; overflow:auto\">true</div></td></tr>\n",
       "</tbody>\n",
       "</table>\n",
       "<small>(Showing first 5 of 5 rows)</small>\n",
       "</div>"
      ],
      "text/plain": [
       "╭────────────┬───────────┬───────┬────────────┬────────────────┬─────────╮\n",
       "│ first_name ┆ last_name ┆ age   ┆ DoB        ┆ country        ┆ has_dog │\n",
       "│ ---        ┆ ---       ┆ ---   ┆ ---        ┆ ---            ┆ ---     │\n",
       "│ Utf8       ┆ Utf8      ┆ Int64 ┆ Date       ┆ Utf8           ┆ Boolean │\n",
       "╞════════════╪═══════════╪═══════╪════════════╪════════════════╪═════════╡\n",
       "│ Ernesto    ┆ Evergreen ┆ 34    ┆ 1990-04-03 ┆ Canada         ┆ true    │\n",
       "├╌╌╌╌╌╌╌╌╌╌╌╌┼╌╌╌╌╌╌╌╌╌╌╌┼╌╌╌╌╌╌╌┼╌╌╌╌╌╌╌╌╌╌╌╌┼╌╌╌╌╌╌╌╌╌╌╌╌╌╌╌╌┼╌╌╌╌╌╌╌╌╌┤\n",
       "│ Sari       ┆ Salama    ┆ 57    ┆ 1967-01-02 ┆ United Kingdom ┆ true    │\n",
       "├╌╌╌╌╌╌╌╌╌╌╌╌┼╌╌╌╌╌╌╌╌╌╌╌┼╌╌╌╌╌╌╌┼╌╌╌╌╌╌╌╌╌╌╌╌┼╌╌╌╌╌╌╌╌╌╌╌╌╌╌╌╌┼╌╌╌╌╌╌╌╌╌┤\n",
       "│ Wolfgang   ┆ Winter    ┆ 23    ┆ 2001-02-12 ┆ Germany        ┆ None    │\n",
       "├╌╌╌╌╌╌╌╌╌╌╌╌┼╌╌╌╌╌╌╌╌╌╌╌┼╌╌╌╌╌╌╌┼╌╌╌╌╌╌╌╌╌╌╌╌┼╌╌╌╌╌╌╌╌╌╌╌╌╌╌╌╌┼╌╌╌╌╌╌╌╌╌┤\n",
       "│ Jackie     ┆ Jale      ┆ 62    ┆ 1962-03-24 ┆ Canada         ┆ true    │\n",
       "├╌╌╌╌╌╌╌╌╌╌╌╌┼╌╌╌╌╌╌╌╌╌╌╌┼╌╌╌╌╌╌╌┼╌╌╌╌╌╌╌╌╌╌╌╌┼╌╌╌╌╌╌╌╌╌╌╌╌╌╌╌╌┼╌╌╌╌╌╌╌╌╌┤\n",
       "│ Zoya       ┆ Zee       ┆ 40    ┆ 1984-04-07 ┆ United Kingdom ┆ true    │\n",
       "╰────────────┴───────────┴───────┴────────────┴────────────────┴─────────╯\n",
       "\n",
       "(Showing first 5 of 5 rows)"
      ]
     },
     "execution_count": 4,
     "metadata": {},
     "output_type": "execute_result"
    }
   ],
   "source": [
    "df = daft.from_pydict({\n",
    "    \"first_name\": [\"Ernesto\", \"Shandra\", \"Wolfgang\", \"James\", \"Zaya\"],\n",
    "    \"last_name\":[\"Evergreen\", \"Shamas\", \"Winter\", \"Jale\", \"Zaphora\"],\n",
    "    \"age\": [34, 57, 23, 62, 40],\n",
    "    \"DoB\": [datetime.date(1990,4,3), datetime.date(1967,1,2), datetime.date(2001,2,12), datetime.date(1962,3,24), datetime.date(1984,4,7)],\n",
    "    \"country\": [\"Canada\", \"United Kingdom\", \"Germany\", \"Canada\", \"United Kingdom\"],\n",
    "    \"has_dog\": [True, True, None, True, True],\n",
    "})\n",
    "\n",
    "df"
   ]
  },
  {
   "cell_type": "code",
   "execution_count": 5,
   "metadata": {
    "scrolled": true
   },
   "outputs": [
    {
     "name": "stderr",
     "output_type": "stream",
     "text": [
      "/Users/rpelgrim/miniforge3/envs/pytorch/lib/python3.11/site-packages/tqdm/auto.py:21: TqdmWarning: IProgress not found. Please update jupyter and ipywidgets. See https://ipywidgets.readthedocs.io/en/stable/user_install.html\n",
      "  from .autonotebook import tqdm as notebook_tqdm\n",
      "                                                                                                                            \r"
     ]
    },
    {
     "data": {
      "text/html": [
       "<div>\n",
       "<table class=\"dataframe\">\n",
       "<thead><tr><th style=\"text-wrap: nowrap; max-width:192px; overflow:auto; text-align:left\">path<br />Utf8</th><th style=\"text-wrap: nowrap; max-width:192px; overflow:auto; text-align:left\">country<br />Utf8</th></tr></thead>\n",
       "<tbody>\n",
       "<tr><td><div style=\"text-align:left; max-width:192px; max-height:64px; overflow:auto\">owners/country=Canada/fc36321b-ae85-4e62-b502-15866ec5a508-0.parquet</div></td><td><div style=\"text-align:left; max-width:192px; max-height:64px; overflow:auto\">Canada</div></td></tr>\n",
       "<tr><td><div style=\"text-align:left; max-width:192px; max-height:64px; overflow:auto\">owners/country=Germany/d50efe26-65d4-4268-a9a0-9e36993a30f7-0.parquet</div></td><td><div style=\"text-align:left; max-width:192px; max-height:64px; overflow:auto\">Germany</div></td></tr>\n",
       "<tr><td><div style=\"text-align:left; max-width:192px; max-height:64px; overflow:auto\">owners/country=United Kingdom/b05e7ac1-0d03-4a8d-a891-026ec3252be7-0.parquet</div></td><td><div style=\"text-align:left; max-width:192px; max-height:64px; overflow:auto\">United Kingdom</div></td></tr>\n",
       "</tbody>\n",
       "</table>\n",
       "<small>(Showing first 3 of 3 rows)</small>\n",
       "</div>"
      ],
      "text/plain": [
       "╭────────────────────────────────┬────────────────╮\n",
       "│ path                           ┆ country        │\n",
       "│ ---                            ┆ ---            │\n",
       "│ Utf8                           ┆ Utf8           │\n",
       "╞════════════════════════════════╪════════════════╡\n",
       "│ owners/country=Canada/fc36321… ┆ Canada         │\n",
       "├╌╌╌╌╌╌╌╌╌╌╌╌╌╌╌╌╌╌╌╌╌╌╌╌╌╌╌╌╌╌╌╌┼╌╌╌╌╌╌╌╌╌╌╌╌╌╌╌╌┤\n",
       "│ owners/country=Germany/d50efe… ┆ Germany        │\n",
       "├╌╌╌╌╌╌╌╌╌╌╌╌╌╌╌╌╌╌╌╌╌╌╌╌╌╌╌╌╌╌╌╌┼╌╌╌╌╌╌╌╌╌╌╌╌╌╌╌╌┤\n",
       "│ owners/country=United Kingdom… ┆ United Kingdom │\n",
       "╰────────────────────────────────┴────────────────╯\n",
       "\n",
       "(Showing first 3 of 3 rows)"
      ]
     },
     "execution_count": 5,
     "metadata": {},
     "output_type": "execute_result"
    }
   ],
   "source": [
    "df.write_parquet(\"owners\", partition_cols=[\"country\"])"
   ]
  },
  {
   "cell_type": "code",
   "execution_count": 6,
   "metadata": {},
   "outputs": [
    {
     "data": {
      "text/html": [
       "<div>\n",
       "<table class=\"dataframe\">\n",
       "<thead><tr><th style=\"text-wrap: nowrap; max-width:192px; overflow:auto; text-align:left\">first_name<br />Utf8</th><th style=\"text-wrap: nowrap; max-width:192px; overflow:auto; text-align:left\">last_name<br />Utf8</th><th style=\"text-wrap: nowrap; max-width:192px; overflow:auto; text-align:left\">age<br />Int64</th><th style=\"text-wrap: nowrap; max-width:192px; overflow:auto; text-align:left\">DoB<br />Date</th><th style=\"text-wrap: nowrap; max-width:192px; overflow:auto; text-align:left\">country<br />Utf8</th><th style=\"text-wrap: nowrap; max-width:192px; overflow:auto; text-align:left\">has_dog<br />Boolean</th></tr></thead>\n",
       "</table>\n",
       "<small>(No data to display: Dataframe not materialized)</small>\n",
       "</div>"
      ],
      "text/plain": [
       "╭────────────┬───────────┬───────┬──────┬─────────┬─────────╮\n",
       "│ first_name ┆ last_name ┆ age   ┆ DoB  ┆ country ┆ has_dog │\n",
       "│ ---        ┆ ---       ┆ ---   ┆ ---  ┆ ---     ┆ ---     │\n",
       "│ Utf8       ┆ Utf8      ┆ Int64 ┆ Date ┆ Utf8    ┆ Boolean │\n",
       "╰────────────┴───────────┴───────┴──────┴─────────┴─────────╯\n",
       "\n",
       "(No data to display: Dataframe not materialized)"
      ]
     },
     "execution_count": 6,
     "metadata": {},
     "output_type": "execute_result"
    }
   ],
   "source": [
    "# change this to s3 read for final version\n",
    "df = daft.read_parquet(\"owners/*/*\")\n",
    "df"
   ]
  },
  {
   "cell_type": "markdown",
   "metadata": {},
   "source": [
    "## Executing and Displaying Data\n",
    "\n",
    "Daft DataFrames are lazy by default. This means that the contents will not be computed (\"materialized\") unless you explicitly tell Daft to do so. This is best practice for working with larger-than-memory datasets and parallel/distributed architectures.\n",
    "\n",
    "The file we have just loaded only has 5 rows. You can materialize the whole DataFrame in memory easily using the {meth}`df.collect() <daft.dataframe.collect>` method:"
   ]
  },
  {
   "cell_type": "code",
   "execution_count": 7,
   "metadata": {},
   "outputs": [
    {
     "name": "stderr",
     "output_type": "stream",
     "text": [
      "                                                                                                                            \r"
     ]
    },
    {
     "data": {
      "text/html": [
       "<div>\n",
       "<table class=\"dataframe\">\n",
       "<thead><tr><th style=\"text-wrap: nowrap; max-width:192px; overflow:auto; text-align:left\">first_name<br />Utf8</th><th style=\"text-wrap: nowrap; max-width:192px; overflow:auto; text-align:left\">last_name<br />Utf8</th><th style=\"text-wrap: nowrap; max-width:192px; overflow:auto; text-align:left\">age<br />Int64</th><th style=\"text-wrap: nowrap; max-width:192px; overflow:auto; text-align:left\">DoB<br />Date</th><th style=\"text-wrap: nowrap; max-width:192px; overflow:auto; text-align:left\">country<br />Utf8</th><th style=\"text-wrap: nowrap; max-width:192px; overflow:auto; text-align:left\">has_dog<br />Boolean</th></tr></thead>\n",
       "<tbody>\n",
       "<tr><td><div style=\"text-align:left; max-width:192px; max-height:64px; overflow:auto\">Ernesto</div></td><td><div style=\"text-align:left; max-width:192px; max-height:64px; overflow:auto\">Evergreen</div></td><td><div style=\"text-align:left; max-width:192px; max-height:64px; overflow:auto\">34</div></td><td><div style=\"text-align:left; max-width:192px; max-height:64px; overflow:auto\">1990-04-03</div></td><td><div style=\"text-align:left; max-width:192px; max-height:64px; overflow:auto\">Canada</div></td><td><div style=\"text-align:left; max-width:192px; max-height:64px; overflow:auto\">true</div></td></tr>\n",
       "<tr><td><div style=\"text-align:left; max-width:192px; max-height:64px; overflow:auto\">Jackie</div></td><td><div style=\"text-align:left; max-width:192px; max-height:64px; overflow:auto\">Jale</div></td><td><div style=\"text-align:left; max-width:192px; max-height:64px; overflow:auto\">62</div></td><td><div style=\"text-align:left; max-width:192px; max-height:64px; overflow:auto\">1962-03-24</div></td><td><div style=\"text-align:left; max-width:192px; max-height:64px; overflow:auto\">Canada</div></td><td><div style=\"text-align:left; max-width:192px; max-height:64px; overflow:auto\">true</div></td></tr>\n",
       "<tr><td><div style=\"text-align:left; max-width:192px; max-height:64px; overflow:auto\">Wolfgang</div></td><td><div style=\"text-align:left; max-width:192px; max-height:64px; overflow:auto\">Winter</div></td><td><div style=\"text-align:left; max-width:192px; max-height:64px; overflow:auto\">23</div></td><td><div style=\"text-align:left; max-width:192px; max-height:64px; overflow:auto\">2001-02-12</div></td><td><div style=\"text-align:left; max-width:192px; max-height:64px; overflow:auto\">Germany</div></td><td><div style=\"text-align:left; max-width:192px; max-height:64px; overflow:auto\">None</div></td></tr>\n",
       "<tr><td><div style=\"text-align:left; max-width:192px; max-height:64px; overflow:auto\">Sari</div></td><td><div style=\"text-align:left; max-width:192px; max-height:64px; overflow:auto\">Salama</div></td><td><div style=\"text-align:left; max-width:192px; max-height:64px; overflow:auto\">57</div></td><td><div style=\"text-align:left; max-width:192px; max-height:64px; overflow:auto\">1967-01-02</div></td><td><div style=\"text-align:left; max-width:192px; max-height:64px; overflow:auto\">United Kingdom</div></td><td><div style=\"text-align:left; max-width:192px; max-height:64px; overflow:auto\">true</div></td></tr>\n",
       "<tr><td><div style=\"text-align:left; max-width:192px; max-height:64px; overflow:auto\">Zoya</div></td><td><div style=\"text-align:left; max-width:192px; max-height:64px; overflow:auto\">Zee</div></td><td><div style=\"text-align:left; max-width:192px; max-height:64px; overflow:auto\">40</div></td><td><div style=\"text-align:left; max-width:192px; max-height:64px; overflow:auto\">1984-04-07</div></td><td><div style=\"text-align:left; max-width:192px; max-height:64px; overflow:auto\">United Kingdom</div></td><td><div style=\"text-align:left; max-width:192px; max-height:64px; overflow:auto\">true</div></td></tr>\n",
       "</tbody>\n",
       "</table>\n",
       "<small>(Showing first 5 of 5 rows)</small>\n",
       "</div>"
      ],
      "text/plain": [
       "╭────────────┬───────────┬───────┬────────────┬────────────────┬─────────╮\n",
       "│ first_name ┆ last_name ┆ age   ┆ DoB        ┆ country        ┆ has_dog │\n",
       "│ ---        ┆ ---       ┆ ---   ┆ ---        ┆ ---            ┆ ---     │\n",
       "│ Utf8       ┆ Utf8      ┆ Int64 ┆ Date       ┆ Utf8           ┆ Boolean │\n",
       "╞════════════╪═══════════╪═══════╪════════════╪════════════════╪═════════╡\n",
       "│ Ernesto    ┆ Evergreen ┆ 34    ┆ 1990-04-03 ┆ Canada         ┆ true    │\n",
       "├╌╌╌╌╌╌╌╌╌╌╌╌┼╌╌╌╌╌╌╌╌╌╌╌┼╌╌╌╌╌╌╌┼╌╌╌╌╌╌╌╌╌╌╌╌┼╌╌╌╌╌╌╌╌╌╌╌╌╌╌╌╌┼╌╌╌╌╌╌╌╌╌┤\n",
       "│ Jackie     ┆ Jale      ┆ 62    ┆ 1962-03-24 ┆ Canada         ┆ true    │\n",
       "├╌╌╌╌╌╌╌╌╌╌╌╌┼╌╌╌╌╌╌╌╌╌╌╌┼╌╌╌╌╌╌╌┼╌╌╌╌╌╌╌╌╌╌╌╌┼╌╌╌╌╌╌╌╌╌╌╌╌╌╌╌╌┼╌╌╌╌╌╌╌╌╌┤\n",
       "│ Wolfgang   ┆ Winter    ┆ 23    ┆ 2001-02-12 ┆ Germany        ┆ None    │\n",
       "├╌╌╌╌╌╌╌╌╌╌╌╌┼╌╌╌╌╌╌╌╌╌╌╌┼╌╌╌╌╌╌╌┼╌╌╌╌╌╌╌╌╌╌╌╌┼╌╌╌╌╌╌╌╌╌╌╌╌╌╌╌╌┼╌╌╌╌╌╌╌╌╌┤\n",
       "│ Sari       ┆ Salama    ┆ 57    ┆ 1967-01-02 ┆ United Kingdom ┆ true    │\n",
       "├╌╌╌╌╌╌╌╌╌╌╌╌┼╌╌╌╌╌╌╌╌╌╌╌┼╌╌╌╌╌╌╌┼╌╌╌╌╌╌╌╌╌╌╌╌┼╌╌╌╌╌╌╌╌╌╌╌╌╌╌╌╌┼╌╌╌╌╌╌╌╌╌┤\n",
       "│ Zoya       ┆ Zee       ┆ 40    ┆ 1984-04-07 ┆ United Kingdom ┆ true    │\n",
       "╰────────────┴───────────┴───────┴────────────┴────────────────┴─────────╯\n",
       "\n",
       "(Showing first 5 of 5 rows)"
      ]
     },
     "execution_count": 7,
     "metadata": {},
     "output_type": "execute_result"
    }
   ],
   "source": [
    "df.collect()"
   ]
  },
  {
   "cell_type": "markdown",
   "metadata": {},
   "source": [
    "You can also take a look at just the first few rows with the {meth}`df.show() <daft.dataframe.show>` method:"
   ]
  },
  {
   "cell_type": "code",
   "execution_count": 8,
   "metadata": {},
   "outputs": [
    {
     "data": {
      "text/html": [
       "<div>\n",
       "<table class=\"dataframe\">\n",
       "<thead><tr><th style=\"text-wrap: nowrap; max-width:192px; overflow:auto; text-align:left\">first_name<br />Utf8</th><th style=\"text-wrap: nowrap; max-width:192px; overflow:auto; text-align:left\">last_name<br />Utf8</th><th style=\"text-wrap: nowrap; max-width:192px; overflow:auto; text-align:left\">age<br />Int64</th><th style=\"text-wrap: nowrap; max-width:192px; overflow:auto; text-align:left\">DoB<br />Date</th><th style=\"text-wrap: nowrap; max-width:192px; overflow:auto; text-align:left\">country<br />Utf8</th><th style=\"text-wrap: nowrap; max-width:192px; overflow:auto; text-align:left\">has_dog<br />Boolean</th></tr></thead>\n",
       "<tbody>\n",
       "<tr><td><div style=\"text-align:left; max-width:192px; max-height:64px; overflow:auto\">Ernesto</div></td><td><div style=\"text-align:left; max-width:192px; max-height:64px; overflow:auto\">Evergreen</div></td><td><div style=\"text-align:left; max-width:192px; max-height:64px; overflow:auto\">34</div></td><td><div style=\"text-align:left; max-width:192px; max-height:64px; overflow:auto\">1990-04-03</div></td><td><div style=\"text-align:left; max-width:192px; max-height:64px; overflow:auto\">Canada</div></td><td><div style=\"text-align:left; max-width:192px; max-height:64px; overflow:auto\">true</div></td></tr>\n",
       "<tr><td><div style=\"text-align:left; max-width:192px; max-height:64px; overflow:auto\">Jackie</div></td><td><div style=\"text-align:left; max-width:192px; max-height:64px; overflow:auto\">Jale</div></td><td><div style=\"text-align:left; max-width:192px; max-height:64px; overflow:auto\">62</div></td><td><div style=\"text-align:left; max-width:192px; max-height:64px; overflow:auto\">1962-03-24</div></td><td><div style=\"text-align:left; max-width:192px; max-height:64px; overflow:auto\">Canada</div></td><td><div style=\"text-align:left; max-width:192px; max-height:64px; overflow:auto\">true</div></td></tr>\n",
       "<tr><td><div style=\"text-align:left; max-width:192px; max-height:64px; overflow:auto\">Wolfgang</div></td><td><div style=\"text-align:left; max-width:192px; max-height:64px; overflow:auto\">Winter</div></td><td><div style=\"text-align:left; max-width:192px; max-height:64px; overflow:auto\">23</div></td><td><div style=\"text-align:left; max-width:192px; max-height:64px; overflow:auto\">2001-02-12</div></td><td><div style=\"text-align:left; max-width:192px; max-height:64px; overflow:auto\">Germany</div></td><td><div style=\"text-align:left; max-width:192px; max-height:64px; overflow:auto\">None</div></td></tr>\n",
       "</tbody>\n",
       "</table>\n",
       "<small>(Showing first 3 of 5 rows)</small>\n",
       "</div>"
      ],
      "text/plain": [
       "╭────────────┬───────────┬───────┬────────────┬─────────┬─────────╮\n",
       "│ first_name ┆ last_name ┆ age   ┆ DoB        ┆ country ┆ has_dog │\n",
       "│ ---        ┆ ---       ┆ ---   ┆ ---        ┆ ---     ┆ ---     │\n",
       "│ Utf8       ┆ Utf8      ┆ Int64 ┆ Date       ┆ Utf8    ┆ Boolean │\n",
       "╞════════════╪═══════════╪═══════╪════════════╪═════════╪═════════╡\n",
       "│ Ernesto    ┆ Evergreen ┆ 34    ┆ 1990-04-03 ┆ Canada  ┆ true    │\n",
       "├╌╌╌╌╌╌╌╌╌╌╌╌┼╌╌╌╌╌╌╌╌╌╌╌┼╌╌╌╌╌╌╌┼╌╌╌╌╌╌╌╌╌╌╌╌┼╌╌╌╌╌╌╌╌╌┼╌╌╌╌╌╌╌╌╌┤\n",
       "│ Jackie     ┆ Jale      ┆ 62    ┆ 1962-03-24 ┆ Canada  ┆ true    │\n",
       "├╌╌╌╌╌╌╌╌╌╌╌╌┼╌╌╌╌╌╌╌╌╌╌╌┼╌╌╌╌╌╌╌┼╌╌╌╌╌╌╌╌╌╌╌╌┼╌╌╌╌╌╌╌╌╌┼╌╌╌╌╌╌╌╌╌┤\n",
       "│ Wolfgang   ┆ Winter    ┆ 23    ┆ 2001-02-12 ┆ Germany ┆ None    │\n",
       "╰────────────┴───────────┴───────┴────────────┴─────────┴─────────╯\n",
       "\n",
       "(Showing first 3 of 5 rows)"
      ]
     },
     "metadata": {},
     "output_type": "display_data"
    }
   ],
   "source": [
    "df.show(3)"
   ]
  },
  {
   "cell_type": "markdown",
   "metadata": {},
   "source": [
    "Use `.show` for quick visualisation in an interactive notebook."
   ]
  },
  {
   "cell_type": "markdown",
   "metadata": {},
   "source": [
    "## Basic DataFrame Operations\n",
    "\n",
    "Let's take a look at some of the most common DataFrame operations."
   ]
  },
  {
   "cell_type": "markdown",
   "metadata": {},
   "source": [
    "## Selecting Columns"
   ]
  },
  {
   "cell_type": "markdown",
   "metadata": {},
   "source": [
    "You can **select** specific columns from your DataFrame with the {meth}`df.select() <daft.dataframe.select>`  method:"
   ]
  },
  {
   "cell_type": "code",
   "execution_count": 9,
   "metadata": {},
   "outputs": [
    {
     "data": {
      "text/html": [
       "<div>\n",
       "<table class=\"dataframe\">\n",
       "<thead><tr><th style=\"text-wrap: nowrap; max-width:192px; overflow:auto; text-align:left\">first_name<br />Utf8</th><th style=\"text-wrap: nowrap; max-width:192px; overflow:auto; text-align:left\">has_dog<br />Boolean</th></tr></thead>\n",
       "<tbody>\n",
       "<tr><td><div style=\"text-align:left; max-width:192px; max-height:64px; overflow:auto\">Ernesto</div></td><td><div style=\"text-align:left; max-width:192px; max-height:64px; overflow:auto\">true</div></td></tr>\n",
       "<tr><td><div style=\"text-align:left; max-width:192px; max-height:64px; overflow:auto\">Jackie</div></td><td><div style=\"text-align:left; max-width:192px; max-height:64px; overflow:auto\">true</div></td></tr>\n",
       "<tr><td><div style=\"text-align:left; max-width:192px; max-height:64px; overflow:auto\">Wolfgang</div></td><td><div style=\"text-align:left; max-width:192px; max-height:64px; overflow:auto\">None</div></td></tr>\n",
       "<tr><td><div style=\"text-align:left; max-width:192px; max-height:64px; overflow:auto\">Sari</div></td><td><div style=\"text-align:left; max-width:192px; max-height:64px; overflow:auto\">true</div></td></tr>\n",
       "<tr><td><div style=\"text-align:left; max-width:192px; max-height:64px; overflow:auto\">Zoya</div></td><td><div style=\"text-align:left; max-width:192px; max-height:64px; overflow:auto\">true</div></td></tr>\n",
       "</tbody>\n",
       "</table>\n",
       "<small>(Showing first 5 of 5 rows)</small>\n",
       "</div>"
      ],
      "text/plain": [
       "╭────────────┬─────────╮\n",
       "│ first_name ┆ has_dog │\n",
       "│ ---        ┆ ---     │\n",
       "│ Utf8       ┆ Boolean │\n",
       "╞════════════╪═════════╡\n",
       "│ Ernesto    ┆ true    │\n",
       "├╌╌╌╌╌╌╌╌╌╌╌╌┼╌╌╌╌╌╌╌╌╌┤\n",
       "│ Jackie     ┆ true    │\n",
       "├╌╌╌╌╌╌╌╌╌╌╌╌┼╌╌╌╌╌╌╌╌╌┤\n",
       "│ Wolfgang   ┆ None    │\n",
       "├╌╌╌╌╌╌╌╌╌╌╌╌┼╌╌╌╌╌╌╌╌╌┤\n",
       "│ Sari       ┆ true    │\n",
       "├╌╌╌╌╌╌╌╌╌╌╌╌┼╌╌╌╌╌╌╌╌╌┤\n",
       "│ Zoya       ┆ true    │\n",
       "╰────────────┴─────────╯\n",
       "\n",
       "(Showing first 5 of 5 rows)"
      ]
     },
     "metadata": {},
     "output_type": "display_data"
    }
   ],
   "source": [
    "df.select(\"first_name\", \"has_dog\").show()"
   ]
  },
  {
   "cell_type": "markdown",
   "metadata": {},
   "source": [
    "### Excluding Data\n",
    "\n",
    "You can **limit** the number of rows in a dataframe by calling {meth}`df.limit() <daft.DataFrame.limit>`. Use `limit` and not `show` when you want to return a limited number of rows for further transformation."
   ]
  },
  {
   "cell_type": "code",
   "execution_count": 10,
   "metadata": {},
   "outputs": [
    {
     "data": {
      "text/html": [
       "<div>\n",
       "<table class=\"dataframe\">\n",
       "<thead><tr><th style=\"text-wrap: nowrap; max-width:192px; overflow:auto; text-align:left\">first_name<br />Utf8</th><th style=\"text-wrap: nowrap; max-width:192px; overflow:auto; text-align:left\">last_name<br />Utf8</th><th style=\"text-wrap: nowrap; max-width:192px; overflow:auto; text-align:left\">age<br />Int64</th><th style=\"text-wrap: nowrap; max-width:192px; overflow:auto; text-align:left\">DoB<br />Date</th><th style=\"text-wrap: nowrap; max-width:192px; overflow:auto; text-align:left\">country<br />Utf8</th><th style=\"text-wrap: nowrap; max-width:192px; overflow:auto; text-align:left\">has_dog<br />Boolean</th></tr></thead>\n",
       "<tbody>\n",
       "<tr><td><div style=\"text-align:left; max-width:192px; max-height:64px; overflow:auto\">Ernesto</div></td><td><div style=\"text-align:left; max-width:192px; max-height:64px; overflow:auto\">Evergreen</div></td><td><div style=\"text-align:left; max-width:192px; max-height:64px; overflow:auto\">34</div></td><td><div style=\"text-align:left; max-width:192px; max-height:64px; overflow:auto\">1990-04-03</div></td><td><div style=\"text-align:left; max-width:192px; max-height:64px; overflow:auto\">Canada</div></td><td><div style=\"text-align:left; max-width:192px; max-height:64px; overflow:auto\">true</div></td></tr>\n",
       "</tbody>\n",
       "</table>\n",
       "<small>(Showing first 1 of 1 rows)</small>\n",
       "</div>"
      ],
      "text/plain": [
       "╭────────────┬───────────┬───────┬────────────┬─────────┬─────────╮\n",
       "│ first_name ┆ last_name ┆ age   ┆ DoB        ┆ country ┆ has_dog │\n",
       "│ ---        ┆ ---       ┆ ---   ┆ ---        ┆ ---     ┆ ---     │\n",
       "│ Utf8       ┆ Utf8      ┆ Int64 ┆ Date       ┆ Utf8    ┆ Boolean │\n",
       "╞════════════╪═══════════╪═══════╪════════════╪═════════╪═════════╡\n",
       "│ Ernesto    ┆ Evergreen ┆ 34    ┆ 1990-04-03 ┆ Canada  ┆ true    │\n",
       "╰────────────┴───────────┴───────┴────────────┴─────────┴─────────╯\n",
       "\n",
       "(Showing first 1 of 1 rows)"
      ]
     },
     "metadata": {},
     "output_type": "display_data"
    }
   ],
   "source": [
    "df.limit(1).show()"
   ]
  },
  {
   "cell_type": "markdown",
   "metadata": {},
   "source": [
    "To **drop** columns from the dataframe, call {meth}`df.exclude() <daft.DataFrame.exclude>`:"
   ]
  },
  {
   "cell_type": "code",
   "execution_count": 11,
   "metadata": {},
   "outputs": [
    {
     "data": {
      "text/html": [
       "<div>\n",
       "<table class=\"dataframe\">\n",
       "<thead><tr><th style=\"text-wrap: nowrap; max-width:192px; overflow:auto; text-align:left\">first_name<br />Utf8</th><th style=\"text-wrap: nowrap; max-width:192px; overflow:auto; text-align:left\">last_name<br />Utf8</th><th style=\"text-wrap: nowrap; max-width:192px; overflow:auto; text-align:left\">age<br />Int64</th><th style=\"text-wrap: nowrap; max-width:192px; overflow:auto; text-align:left\">country<br />Utf8</th><th style=\"text-wrap: nowrap; max-width:192px; overflow:auto; text-align:left\">has_dog<br />Boolean</th></tr></thead>\n",
       "<tbody>\n",
       "<tr><td><div style=\"text-align:left; max-width:192px; max-height:64px; overflow:auto\">Ernesto</div></td><td><div style=\"text-align:left; max-width:192px; max-height:64px; overflow:auto\">Evergreen</div></td><td><div style=\"text-align:left; max-width:192px; max-height:64px; overflow:auto\">34</div></td><td><div style=\"text-align:left; max-width:192px; max-height:64px; overflow:auto\">Canada</div></td><td><div style=\"text-align:left; max-width:192px; max-height:64px; overflow:auto\">true</div></td></tr>\n",
       "<tr><td><div style=\"text-align:left; max-width:192px; max-height:64px; overflow:auto\">Jackie</div></td><td><div style=\"text-align:left; max-width:192px; max-height:64px; overflow:auto\">Jale</div></td><td><div style=\"text-align:left; max-width:192px; max-height:64px; overflow:auto\">62</div></td><td><div style=\"text-align:left; max-width:192px; max-height:64px; overflow:auto\">Canada</div></td><td><div style=\"text-align:left; max-width:192px; max-height:64px; overflow:auto\">true</div></td></tr>\n",
       "<tr><td><div style=\"text-align:left; max-width:192px; max-height:64px; overflow:auto\">Wolfgang</div></td><td><div style=\"text-align:left; max-width:192px; max-height:64px; overflow:auto\">Winter</div></td><td><div style=\"text-align:left; max-width:192px; max-height:64px; overflow:auto\">23</div></td><td><div style=\"text-align:left; max-width:192px; max-height:64px; overflow:auto\">Germany</div></td><td><div style=\"text-align:left; max-width:192px; max-height:64px; overflow:auto\">None</div></td></tr>\n",
       "<tr><td><div style=\"text-align:left; max-width:192px; max-height:64px; overflow:auto\">Sari</div></td><td><div style=\"text-align:left; max-width:192px; max-height:64px; overflow:auto\">Salama</div></td><td><div style=\"text-align:left; max-width:192px; max-height:64px; overflow:auto\">57</div></td><td><div style=\"text-align:left; max-width:192px; max-height:64px; overflow:auto\">United Kingdom</div></td><td><div style=\"text-align:left; max-width:192px; max-height:64px; overflow:auto\">true</div></td></tr>\n",
       "<tr><td><div style=\"text-align:left; max-width:192px; max-height:64px; overflow:auto\">Zoya</div></td><td><div style=\"text-align:left; max-width:192px; max-height:64px; overflow:auto\">Zee</div></td><td><div style=\"text-align:left; max-width:192px; max-height:64px; overflow:auto\">40</div></td><td><div style=\"text-align:left; max-width:192px; max-height:64px; overflow:auto\">United Kingdom</div></td><td><div style=\"text-align:left; max-width:192px; max-height:64px; overflow:auto\">true</div></td></tr>\n",
       "</tbody>\n",
       "</table>\n",
       "<small>(Showing first 5 of 5 rows)</small>\n",
       "</div>"
      ],
      "text/plain": [
       "╭────────────┬───────────┬───────┬────────────────┬─────────╮\n",
       "│ first_name ┆ last_name ┆ age   ┆ country        ┆ has_dog │\n",
       "│ ---        ┆ ---       ┆ ---   ┆ ---            ┆ ---     │\n",
       "│ Utf8       ┆ Utf8      ┆ Int64 ┆ Utf8           ┆ Boolean │\n",
       "╞════════════╪═══════════╪═══════╪════════════════╪═════════╡\n",
       "│ Ernesto    ┆ Evergreen ┆ 34    ┆ Canada         ┆ true    │\n",
       "├╌╌╌╌╌╌╌╌╌╌╌╌┼╌╌╌╌╌╌╌╌╌╌╌┼╌╌╌╌╌╌╌┼╌╌╌╌╌╌╌╌╌╌╌╌╌╌╌╌┼╌╌╌╌╌╌╌╌╌┤\n",
       "│ Jackie     ┆ Jale      ┆ 62    ┆ Canada         ┆ true    │\n",
       "├╌╌╌╌╌╌╌╌╌╌╌╌┼╌╌╌╌╌╌╌╌╌╌╌┼╌╌╌╌╌╌╌┼╌╌╌╌╌╌╌╌╌╌╌╌╌╌╌╌┼╌╌╌╌╌╌╌╌╌┤\n",
       "│ Wolfgang   ┆ Winter    ┆ 23    ┆ Germany        ┆ None    │\n",
       "├╌╌╌╌╌╌╌╌╌╌╌╌┼╌╌╌╌╌╌╌╌╌╌╌┼╌╌╌╌╌╌╌┼╌╌╌╌╌╌╌╌╌╌╌╌╌╌╌╌┼╌╌╌╌╌╌╌╌╌┤\n",
       "│ Sari       ┆ Salama    ┆ 57    ┆ United Kingdom ┆ true    │\n",
       "├╌╌╌╌╌╌╌╌╌╌╌╌┼╌╌╌╌╌╌╌╌╌╌╌┼╌╌╌╌╌╌╌┼╌╌╌╌╌╌╌╌╌╌╌╌╌╌╌╌┼╌╌╌╌╌╌╌╌╌┤\n",
       "│ Zoya       ┆ Zee       ┆ 40    ┆ United Kingdom ┆ true    │\n",
       "╰────────────┴───────────┴───────┴────────────────┴─────────╯\n",
       "\n",
       "(Showing first 5 of 5 rows)"
      ]
     },
     "metadata": {},
     "output_type": "display_data"
    }
   ],
   "source": [
    "df.exclude(\"DoB\").show()"
   ]
  },
  {
   "cell_type": "markdown",
   "metadata": {},
   "source": [
    "## Transforming Columns with Expressions"
   ]
  },
  {
   "cell_type": "markdown",
   "metadata": {},
   "source": [
    "See: [Expressions](user_guide/basic_concepts/expressions.rst)\n",
    "\n",
    "Expressions are an API for defining computation that needs to happen over your columns.\n",
    "\n",
    "For example, use the `daft.col()` expression together with the `with_column` method to create a new column `full_name`, joining the contents of the `last_name` column to the `first_name` column:"
   ]
  },
  {
   "cell_type": "code",
   "execution_count": 12,
   "metadata": {
    "scrolled": true
   },
   "outputs": [
    {
     "data": {
      "text/html": [
       "<div>\n",
       "<table class=\"dataframe\">\n",
       "<thead><tr><th style=\"text-wrap: nowrap; max-width:192px; overflow:auto; text-align:left\">full_name<br />Utf8</th><th style=\"text-wrap: nowrap; max-width:192px; overflow:auto; text-align:left\">age<br />Int64</th><th style=\"text-wrap: nowrap; max-width:192px; overflow:auto; text-align:left\">country<br />Utf8</th><th style=\"text-wrap: nowrap; max-width:192px; overflow:auto; text-align:left\">has_dog<br />Boolean</th></tr></thead>\n",
       "<tbody>\n",
       "<tr><td><div style=\"text-align:left; max-width:192px; max-height:64px; overflow:auto\">Ernesto Evergreen</div></td><td><div style=\"text-align:left; max-width:192px; max-height:64px; overflow:auto\">34</div></td><td><div style=\"text-align:left; max-width:192px; max-height:64px; overflow:auto\">Canada</div></td><td><div style=\"text-align:left; max-width:192px; max-height:64px; overflow:auto\">true</div></td></tr>\n",
       "<tr><td><div style=\"text-align:left; max-width:192px; max-height:64px; overflow:auto\">Jackie Jale</div></td><td><div style=\"text-align:left; max-width:192px; max-height:64px; overflow:auto\">62</div></td><td><div style=\"text-align:left; max-width:192px; max-height:64px; overflow:auto\">Canada</div></td><td><div style=\"text-align:left; max-width:192px; max-height:64px; overflow:auto\">true</div></td></tr>\n",
       "<tr><td><div style=\"text-align:left; max-width:192px; max-height:64px; overflow:auto\">Wolfgang Winter</div></td><td><div style=\"text-align:left; max-width:192px; max-height:64px; overflow:auto\">23</div></td><td><div style=\"text-align:left; max-width:192px; max-height:64px; overflow:auto\">Germany</div></td><td><div style=\"text-align:left; max-width:192px; max-height:64px; overflow:auto\">None</div></td></tr>\n",
       "<tr><td><div style=\"text-align:left; max-width:192px; max-height:64px; overflow:auto\">Sari Salama</div></td><td><div style=\"text-align:left; max-width:192px; max-height:64px; overflow:auto\">57</div></td><td><div style=\"text-align:left; max-width:192px; max-height:64px; overflow:auto\">United Kingdom</div></td><td><div style=\"text-align:left; max-width:192px; max-height:64px; overflow:auto\">true</div></td></tr>\n",
       "<tr><td><div style=\"text-align:left; max-width:192px; max-height:64px; overflow:auto\">Zoya Zee</div></td><td><div style=\"text-align:left; max-width:192px; max-height:64px; overflow:auto\">40</div></td><td><div style=\"text-align:left; max-width:192px; max-height:64px; overflow:auto\">United Kingdom</div></td><td><div style=\"text-align:left; max-width:192px; max-height:64px; overflow:auto\">true</div></td></tr>\n",
       "</tbody>\n",
       "</table>\n",
       "<small>(Showing first 5 of 5 rows)</small>\n",
       "</div>"
      ],
      "text/plain": [
       "╭───────────────────┬───────┬────────────────┬─────────╮\n",
       "│ full_name         ┆ age   ┆ country        ┆ has_dog │\n",
       "│ ---               ┆ ---   ┆ ---            ┆ ---     │\n",
       "│ Utf8              ┆ Int64 ┆ Utf8           ┆ Boolean │\n",
       "╞═══════════════════╪═══════╪════════════════╪═════════╡\n",
       "│ Ernesto Evergreen ┆ 34    ┆ Canada         ┆ true    │\n",
       "├╌╌╌╌╌╌╌╌╌╌╌╌╌╌╌╌╌╌╌┼╌╌╌╌╌╌╌┼╌╌╌╌╌╌╌╌╌╌╌╌╌╌╌╌┼╌╌╌╌╌╌╌╌╌┤\n",
       "│ Jackie Jale       ┆ 62    ┆ Canada         ┆ true    │\n",
       "├╌╌╌╌╌╌╌╌╌╌╌╌╌╌╌╌╌╌╌┼╌╌╌╌╌╌╌┼╌╌╌╌╌╌╌╌╌╌╌╌╌╌╌╌┼╌╌╌╌╌╌╌╌╌┤\n",
       "│ Wolfgang Winter   ┆ 23    ┆ Germany        ┆ None    │\n",
       "├╌╌╌╌╌╌╌╌╌╌╌╌╌╌╌╌╌╌╌┼╌╌╌╌╌╌╌┼╌╌╌╌╌╌╌╌╌╌╌╌╌╌╌╌┼╌╌╌╌╌╌╌╌╌┤\n",
       "│ Sari Salama       ┆ 57    ┆ United Kingdom ┆ true    │\n",
       "├╌╌╌╌╌╌╌╌╌╌╌╌╌╌╌╌╌╌╌┼╌╌╌╌╌╌╌┼╌╌╌╌╌╌╌╌╌╌╌╌╌╌╌╌┼╌╌╌╌╌╌╌╌╌┤\n",
       "│ Zoya Zee          ┆ 40    ┆ United Kingdom ┆ true    │\n",
       "╰───────────────────┴───────┴────────────────┴─────────╯\n",
       "\n",
       "(Showing first 5 of 5 rows)"
      ]
     },
     "metadata": {},
     "output_type": "display_data"
    }
   ],
   "source": [
    "df = df.with_column(\"full_name\", daft.col('first_name') + ' ' + daft.col('last_name'))\n",
    "df.select(\"full_name\", \"age\", \"country\", \"has_dog\").show()"
   ]
  },
  {
   "cell_type": "markdown",
   "metadata": {},
   "source": [
    "Some Expression methods are only allowed on certain types and are accessible through \"method accessors\" (see: [Expression Accessor Properties](expression-accessor-properties)).\n",
    "\n",
    "For example, the {meth}`.str.length() <daft.expressions.expressions.ExpressionStringNamespace.length>` expression is only valid when run on a String column.\n",
    "\n",
    "Below we use an Expression to extract the year from a `datetime` column:"
   ]
  },
  {
   "cell_type": "code",
   "execution_count": 13,
   "metadata": {
    "scrolled": true
   },
   "outputs": [
    {
     "data": {
      "text/html": [
       "<div>\n",
       "<table class=\"dataframe\">\n",
       "<thead><tr><th style=\"text-wrap: nowrap; max-width:192px; overflow:auto; text-align:left\">first_name<br />Utf8</th><th style=\"text-wrap: nowrap; max-width:192px; overflow:auto; text-align:left\">last_name<br />Utf8</th><th style=\"text-wrap: nowrap; max-width:192px; overflow:auto; text-align:left\">age<br />Int64</th><th style=\"text-wrap: nowrap; max-width:192px; overflow:auto; text-align:left\">DoB<br />Date</th><th style=\"text-wrap: nowrap; max-width:192px; overflow:auto; text-align:left\">country<br />Utf8</th><th style=\"text-wrap: nowrap; max-width:192px; overflow:auto; text-align:left\">has_dog<br />Boolean</th><th style=\"text-wrap: nowrap; max-width:192px; overflow:auto; text-align:left\">full_name<br />Utf8</th><th style=\"text-wrap: nowrap; max-width:192px; overflow:auto; text-align:left\">DoB_year<br />Int32</th></tr></thead>\n",
       "<tbody>\n",
       "<tr><td><div style=\"text-align:left; max-width:192px; max-height:64px; overflow:auto\">Ernesto</div></td><td><div style=\"text-align:left; max-width:192px; max-height:64px; overflow:auto\">Evergreen</div></td><td><div style=\"text-align:left; max-width:192px; max-height:64px; overflow:auto\">34</div></td><td><div style=\"text-align:left; max-width:192px; max-height:64px; overflow:auto\">1990-04-03</div></td><td><div style=\"text-align:left; max-width:192px; max-height:64px; overflow:auto\">Canada</div></td><td><div style=\"text-align:left; max-width:192px; max-height:64px; overflow:auto\">true</div></td><td><div style=\"text-align:left; max-width:192px; max-height:64px; overflow:auto\">Ernesto Evergreen</div></td><td><div style=\"text-align:left; max-width:192px; max-height:64px; overflow:auto\">1990</div></td></tr>\n",
       "<tr><td><div style=\"text-align:left; max-width:192px; max-height:64px; overflow:auto\">Jackie</div></td><td><div style=\"text-align:left; max-width:192px; max-height:64px; overflow:auto\">Jale</div></td><td><div style=\"text-align:left; max-width:192px; max-height:64px; overflow:auto\">62</div></td><td><div style=\"text-align:left; max-width:192px; max-height:64px; overflow:auto\">1962-03-24</div></td><td><div style=\"text-align:left; max-width:192px; max-height:64px; overflow:auto\">Canada</div></td><td><div style=\"text-align:left; max-width:192px; max-height:64px; overflow:auto\">true</div></td><td><div style=\"text-align:left; max-width:192px; max-height:64px; overflow:auto\">Jackie Jale</div></td><td><div style=\"text-align:left; max-width:192px; max-height:64px; overflow:auto\">1962</div></td></tr>\n",
       "<tr><td><div style=\"text-align:left; max-width:192px; max-height:64px; overflow:auto\">Wolfgang</div></td><td><div style=\"text-align:left; max-width:192px; max-height:64px; overflow:auto\">Winter</div></td><td><div style=\"text-align:left; max-width:192px; max-height:64px; overflow:auto\">23</div></td><td><div style=\"text-align:left; max-width:192px; max-height:64px; overflow:auto\">2001-02-12</div></td><td><div style=\"text-align:left; max-width:192px; max-height:64px; overflow:auto\">Germany</div></td><td><div style=\"text-align:left; max-width:192px; max-height:64px; overflow:auto\">None</div></td><td><div style=\"text-align:left; max-width:192px; max-height:64px; overflow:auto\">Wolfgang Winter</div></td><td><div style=\"text-align:left; max-width:192px; max-height:64px; overflow:auto\">2001</div></td></tr>\n",
       "<tr><td><div style=\"text-align:left; max-width:192px; max-height:64px; overflow:auto\">Sari</div></td><td><div style=\"text-align:left; max-width:192px; max-height:64px; overflow:auto\">Salama</div></td><td><div style=\"text-align:left; max-width:192px; max-height:64px; overflow:auto\">57</div></td><td><div style=\"text-align:left; max-width:192px; max-height:64px; overflow:auto\">1967-01-02</div></td><td><div style=\"text-align:left; max-width:192px; max-height:64px; overflow:auto\">United Kingdom</div></td><td><div style=\"text-align:left; max-width:192px; max-height:64px; overflow:auto\">true</div></td><td><div style=\"text-align:left; max-width:192px; max-height:64px; overflow:auto\">Sari Salama</div></td><td><div style=\"text-align:left; max-width:192px; max-height:64px; overflow:auto\">1967</div></td></tr>\n",
       "<tr><td><div style=\"text-align:left; max-width:192px; max-height:64px; overflow:auto\">Zoya</div></td><td><div style=\"text-align:left; max-width:192px; max-height:64px; overflow:auto\">Zee</div></td><td><div style=\"text-align:left; max-width:192px; max-height:64px; overflow:auto\">40</div></td><td><div style=\"text-align:left; max-width:192px; max-height:64px; overflow:auto\">1984-04-07</div></td><td><div style=\"text-align:left; max-width:192px; max-height:64px; overflow:auto\">United Kingdom</div></td><td><div style=\"text-align:left; max-width:192px; max-height:64px; overflow:auto\">true</div></td><td><div style=\"text-align:left; max-width:192px; max-height:64px; overflow:auto\">Zoya Zee</div></td><td><div style=\"text-align:left; max-width:192px; max-height:64px; overflow:auto\">1984</div></td></tr>\n",
       "</tbody>\n",
       "</table>\n",
       "<small>(Showing first 5 of 5 rows)</small>\n",
       "</div>"
      ],
      "text/plain": [
       "╭────────────┬───────────┬───────┬────────────┬─────────┬───────────────────┬──────────╮\n",
       "│ first_name ┆ last_name ┆ age   ┆      …     ┆ has_dog ┆ full_name         ┆ DoB_year │\n",
       "│ ---        ┆ ---       ┆ ---   ┆            ┆ ---     ┆ ---               ┆ ---      │\n",
       "│ Utf8       ┆ Utf8      ┆ Int64 ┆ (2 hidden) ┆ Boolean ┆ Utf8              ┆ Int32    │\n",
       "╞════════════╪═══════════╪═══════╪════════════╪═════════╪═══════════════════╪══════════╡\n",
       "│ Ernesto    ┆ Evergreen ┆ 34    ┆ …          ┆ true    ┆ Ernesto Evergreen ┆ 1990     │\n",
       "├╌╌╌╌╌╌╌╌╌╌╌╌┼╌╌╌╌╌╌╌╌╌╌╌┼╌╌╌╌╌╌╌┼╌╌╌╌╌╌╌╌╌╌╌╌┼╌╌╌╌╌╌╌╌╌┼╌╌╌╌╌╌╌╌╌╌╌╌╌╌╌╌╌╌╌┼╌╌╌╌╌╌╌╌╌╌┤\n",
       "│ Jackie     ┆ Jale      ┆ 62    ┆ …          ┆ true    ┆ Jackie Jale       ┆ 1962     │\n",
       "├╌╌╌╌╌╌╌╌╌╌╌╌┼╌╌╌╌╌╌╌╌╌╌╌┼╌╌╌╌╌╌╌┼╌╌╌╌╌╌╌╌╌╌╌╌┼╌╌╌╌╌╌╌╌╌┼╌╌╌╌╌╌╌╌╌╌╌╌╌╌╌╌╌╌╌┼╌╌╌╌╌╌╌╌╌╌┤\n",
       "│ Wolfgang   ┆ Winter    ┆ 23    ┆ …          ┆ None    ┆ Wolfgang Winter   ┆ 2001     │\n",
       "├╌╌╌╌╌╌╌╌╌╌╌╌┼╌╌╌╌╌╌╌╌╌╌╌┼╌╌╌╌╌╌╌┼╌╌╌╌╌╌╌╌╌╌╌╌┼╌╌╌╌╌╌╌╌╌┼╌╌╌╌╌╌╌╌╌╌╌╌╌╌╌╌╌╌╌┼╌╌╌╌╌╌╌╌╌╌┤\n",
       "│ Sari       ┆ Salama    ┆ 57    ┆ …          ┆ true    ┆ Sari Salama       ┆ 1967     │\n",
       "├╌╌╌╌╌╌╌╌╌╌╌╌┼╌╌╌╌╌╌╌╌╌╌╌┼╌╌╌╌╌╌╌┼╌╌╌╌╌╌╌╌╌╌╌╌┼╌╌╌╌╌╌╌╌╌┼╌╌╌╌╌╌╌╌╌╌╌╌╌╌╌╌╌╌╌┼╌╌╌╌╌╌╌╌╌╌┤\n",
       "│ Zoya       ┆ Zee       ┆ 40    ┆ …          ┆ true    ┆ Zoya Zee          ┆ 1984     │\n",
       "╰────────────┴───────────┴───────┴────────────┴─────────┴───────────────────┴──────────╯\n",
       "\n",
       "(Showing first 5 of 5 rows)"
      ]
     },
     "metadata": {},
     "output_type": "display_data"
    }
   ],
   "source": [
    "df_year = df.with_column(\"DoB_year\", df[\"DoB\"].dt.year())\n",
    "df_year.show()"
   ]
  },
  {
   "cell_type": "markdown",
   "metadata": {},
   "source": [
    "## Other DataFrame Operations"
   ]
  },
  {
   "cell_type": "markdown",
   "metadata": {},
   "source": [
    "### Sorting Data\n",
    "\n",
    "You can **sort** a dataframe with {meth}`df.sort() <daft.DataFrame.sort>`, which we do so here in ascending order:"
   ]
  },
  {
   "cell_type": "code",
   "execution_count": 14,
   "metadata": {},
   "outputs": [
    {
     "data": {
      "text/html": [
       "<div>\n",
       "<table class=\"dataframe\">\n",
       "<thead><tr><th style=\"text-wrap: nowrap; max-width:192px; overflow:auto; text-align:left\">first_name<br />Utf8</th><th style=\"text-wrap: nowrap; max-width:192px; overflow:auto; text-align:left\">last_name<br />Utf8</th><th style=\"text-wrap: nowrap; max-width:192px; overflow:auto; text-align:left\">age<br />Int64</th><th style=\"text-wrap: nowrap; max-width:192px; overflow:auto; text-align:left\">DoB<br />Date</th><th style=\"text-wrap: nowrap; max-width:192px; overflow:auto; text-align:left\">country<br />Utf8</th><th style=\"text-wrap: nowrap; max-width:192px; overflow:auto; text-align:left\">has_dog<br />Boolean</th><th style=\"text-wrap: nowrap; max-width:192px; overflow:auto; text-align:left\">full_name<br />Utf8</th></tr></thead>\n",
       "<tbody>\n",
       "<tr><td><div style=\"text-align:left; max-width:192px; max-height:64px; overflow:auto\">Wolfgang</div></td><td><div style=\"text-align:left; max-width:192px; max-height:64px; overflow:auto\">Winter</div></td><td><div style=\"text-align:left; max-width:192px; max-height:64px; overflow:auto\">23</div></td><td><div style=\"text-align:left; max-width:192px; max-height:64px; overflow:auto\">2001-02-12</div></td><td><div style=\"text-align:left; max-width:192px; max-height:64px; overflow:auto\">Germany</div></td><td><div style=\"text-align:left; max-width:192px; max-height:64px; overflow:auto\">None</div></td><td><div style=\"text-align:left; max-width:192px; max-height:64px; overflow:auto\">Wolfgang Winter</div></td></tr>\n",
       "<tr><td><div style=\"text-align:left; max-width:192px; max-height:64px; overflow:auto\">Ernesto</div></td><td><div style=\"text-align:left; max-width:192px; max-height:64px; overflow:auto\">Evergreen</div></td><td><div style=\"text-align:left; max-width:192px; max-height:64px; overflow:auto\">34</div></td><td><div style=\"text-align:left; max-width:192px; max-height:64px; overflow:auto\">1990-04-03</div></td><td><div style=\"text-align:left; max-width:192px; max-height:64px; overflow:auto\">Canada</div></td><td><div style=\"text-align:left; max-width:192px; max-height:64px; overflow:auto\">true</div></td><td><div style=\"text-align:left; max-width:192px; max-height:64px; overflow:auto\">Ernesto Evergreen</div></td></tr>\n",
       "<tr><td><div style=\"text-align:left; max-width:192px; max-height:64px; overflow:auto\">Zoya</div></td><td><div style=\"text-align:left; max-width:192px; max-height:64px; overflow:auto\">Zee</div></td><td><div style=\"text-align:left; max-width:192px; max-height:64px; overflow:auto\">40</div></td><td><div style=\"text-align:left; max-width:192px; max-height:64px; overflow:auto\">1984-04-07</div></td><td><div style=\"text-align:left; max-width:192px; max-height:64px; overflow:auto\">United Kingdom</div></td><td><div style=\"text-align:left; max-width:192px; max-height:64px; overflow:auto\">true</div></td><td><div style=\"text-align:left; max-width:192px; max-height:64px; overflow:auto\">Zoya Zee</div></td></tr>\n",
       "<tr><td><div style=\"text-align:left; max-width:192px; max-height:64px; overflow:auto\">Sari</div></td><td><div style=\"text-align:left; max-width:192px; max-height:64px; overflow:auto\">Salama</div></td><td><div style=\"text-align:left; max-width:192px; max-height:64px; overflow:auto\">57</div></td><td><div style=\"text-align:left; max-width:192px; max-height:64px; overflow:auto\">1967-01-02</div></td><td><div style=\"text-align:left; max-width:192px; max-height:64px; overflow:auto\">United Kingdom</div></td><td><div style=\"text-align:left; max-width:192px; max-height:64px; overflow:auto\">true</div></td><td><div style=\"text-align:left; max-width:192px; max-height:64px; overflow:auto\">Sari Salama</div></td></tr>\n",
       "<tr><td><div style=\"text-align:left; max-width:192px; max-height:64px; overflow:auto\">Jackie</div></td><td><div style=\"text-align:left; max-width:192px; max-height:64px; overflow:auto\">Jale</div></td><td><div style=\"text-align:left; max-width:192px; max-height:64px; overflow:auto\">62</div></td><td><div style=\"text-align:left; max-width:192px; max-height:64px; overflow:auto\">1962-03-24</div></td><td><div style=\"text-align:left; max-width:192px; max-height:64px; overflow:auto\">Canada</div></td><td><div style=\"text-align:left; max-width:192px; max-height:64px; overflow:auto\">true</div></td><td><div style=\"text-align:left; max-width:192px; max-height:64px; overflow:auto\">Jackie Jale</div></td></tr>\n",
       "</tbody>\n",
       "</table>\n",
       "<small>(Showing first 5 of 5 rows)</small>\n",
       "</div>"
      ],
      "text/plain": [
       "╭────────────┬───────────┬───────┬────────────┬────────────────┬─────────┬───────────────────╮\n",
       "│ first_name ┆ last_name ┆ age   ┆      …     ┆ country        ┆ has_dog ┆ full_name         │\n",
       "│ ---        ┆ ---       ┆ ---   ┆            ┆ ---            ┆ ---     ┆ ---               │\n",
       "│ Utf8       ┆ Utf8      ┆ Int64 ┆ (1 hidden) ┆ Utf8           ┆ Boolean ┆ Utf8              │\n",
       "╞════════════╪═══════════╪═══════╪════════════╪════════════════╪═════════╪═══════════════════╡\n",
       "│ Wolfgang   ┆ Winter    ┆ 23    ┆ …          ┆ Germany        ┆ None    ┆ Wolfgang Winter   │\n",
       "├╌╌╌╌╌╌╌╌╌╌╌╌┼╌╌╌╌╌╌╌╌╌╌╌┼╌╌╌╌╌╌╌┼╌╌╌╌╌╌╌╌╌╌╌╌┼╌╌╌╌╌╌╌╌╌╌╌╌╌╌╌╌┼╌╌╌╌╌╌╌╌╌┼╌╌╌╌╌╌╌╌╌╌╌╌╌╌╌╌╌╌╌┤\n",
       "│ Ernesto    ┆ Evergreen ┆ 34    ┆ …          ┆ Canada         ┆ true    ┆ Ernesto Evergreen │\n",
       "├╌╌╌╌╌╌╌╌╌╌╌╌┼╌╌╌╌╌╌╌╌╌╌╌┼╌╌╌╌╌╌╌┼╌╌╌╌╌╌╌╌╌╌╌╌┼╌╌╌╌╌╌╌╌╌╌╌╌╌╌╌╌┼╌╌╌╌╌╌╌╌╌┼╌╌╌╌╌╌╌╌╌╌╌╌╌╌╌╌╌╌╌┤\n",
       "│ Zoya       ┆ Zee       ┆ 40    ┆ …          ┆ United Kingdom ┆ true    ┆ Zoya Zee          │\n",
       "├╌╌╌╌╌╌╌╌╌╌╌╌┼╌╌╌╌╌╌╌╌╌╌╌┼╌╌╌╌╌╌╌┼╌╌╌╌╌╌╌╌╌╌╌╌┼╌╌╌╌╌╌╌╌╌╌╌╌╌╌╌╌┼╌╌╌╌╌╌╌╌╌┼╌╌╌╌╌╌╌╌╌╌╌╌╌╌╌╌╌╌╌┤\n",
       "│ Sari       ┆ Salama    ┆ 57    ┆ …          ┆ United Kingdom ┆ true    ┆ Sari Salama       │\n",
       "├╌╌╌╌╌╌╌╌╌╌╌╌┼╌╌╌╌╌╌╌╌╌╌╌┼╌╌╌╌╌╌╌┼╌╌╌╌╌╌╌╌╌╌╌╌┼╌╌╌╌╌╌╌╌╌╌╌╌╌╌╌╌┼╌╌╌╌╌╌╌╌╌┼╌╌╌╌╌╌╌╌╌╌╌╌╌╌╌╌╌╌╌┤\n",
       "│ Jackie     ┆ Jale      ┆ 62    ┆ …          ┆ Canada         ┆ true    ┆ Jackie Jale       │\n",
       "╰────────────┴───────────┴───────┴────────────┴────────────────┴─────────┴───────────────────╯\n",
       "\n",
       "(Showing first 5 of 5 rows)"
      ]
     },
     "metadata": {},
     "output_type": "display_data"
    }
   ],
   "source": [
    "df.sort(df[\"age\"], desc=False).show()"
   ]
  },
  {
   "cell_type": "markdown",
   "metadata": {},
   "source": [
    "### Grouping and Aggregating Data\n",
    "\n",
    "You can **group** and **aggregate** your data using the {meth}`df.groupby() <daft.DataFrame.groupby>` method:\n",
    "\n",
    "Groupby aggregation operations over a dataset happens in 2 phases:\n",
    "\n",
    "1. Splitting the data into groups based on some criteria using {meth}`df.groupby() <daft.DataFrame.groupby>`\n",
    "2. Specifying how to aggregate the data for each group using {meth}`GroupedDataFrame.agg() <daft.dataframe.dataframe.GroupedDataFrame.agg>`\n",
    "\n",
    "For example:"
   ]
  },
  {
   "cell_type": "code",
   "execution_count": 15,
   "metadata": {},
   "outputs": [
    {
     "data": {
      "text/html": [
       "<div>\n",
       "<table class=\"dataframe\">\n",
       "<thead><tr><th style=\"text-wrap: nowrap; max-width:192px; overflow:auto; text-align:left\">country<br />Utf8</th><th style=\"text-wrap: nowrap; max-width:192px; overflow:auto; text-align:left\">counts<br />UInt64</th></tr></thead>\n",
       "<tbody>\n",
       "<tr><td><div style=\"text-align:left; max-width:192px; max-height:64px; overflow:auto\">Canada</div></td><td><div style=\"text-align:left; max-width:192px; max-height:64px; overflow:auto\">2</div></td></tr>\n",
       "<tr><td><div style=\"text-align:left; max-width:192px; max-height:64px; overflow:auto\">Germany</div></td><td><div style=\"text-align:left; max-width:192px; max-height:64px; overflow:auto\">1</div></td></tr>\n",
       "<tr><td><div style=\"text-align:left; max-width:192px; max-height:64px; overflow:auto\">United Kingdom</div></td><td><div style=\"text-align:left; max-width:192px; max-height:64px; overflow:auto\">2</div></td></tr>\n",
       "</tbody>\n",
       "</table>\n",
       "<small>(Showing first 3 of 3 rows)</small>\n",
       "</div>"
      ],
      "text/plain": [
       "╭────────────────┬────────╮\n",
       "│ country        ┆ counts │\n",
       "│ ---            ┆ ---    │\n",
       "│ Utf8           ┆ UInt64 │\n",
       "╞════════════════╪════════╡\n",
       "│ Canada         ┆ 2      │\n",
       "├╌╌╌╌╌╌╌╌╌╌╌╌╌╌╌╌┼╌╌╌╌╌╌╌╌┤\n",
       "│ Germany        ┆ 1      │\n",
       "├╌╌╌╌╌╌╌╌╌╌╌╌╌╌╌╌┼╌╌╌╌╌╌╌╌┤\n",
       "│ United Kingdom ┆ 2      │\n",
       "╰────────────────┴────────╯\n",
       "\n",
       "(Showing first 3 of 3 rows)"
      ]
     },
     "metadata": {},
     "output_type": "display_data"
    }
   ],
   "source": [
    "#select only columns for grouping\n",
    "grouping_df = df.select(df[\"country\"], df[\"first_name\"].alias(\"counts\"))\n",
    "\n",
    "# groupby country column and count the number of countries\n",
    "grouping_df.groupby(df[\"country\"]).count().show()"
   ]
  },
  {
   "cell_type": "markdown",
   "metadata": {},
   "source": [
    "Note that we can use {meth}`.alias() <daft.expressions.Expression.alias>` to quickly rename columns."
   ]
  },
  {
   "cell_type": "markdown",
   "metadata": {},
   "source": [
    "### Missing Data\n",
    "\n",
    "All columns in Daft are \"nullable\" by default. Unlike other frameworks such as Pandas, Daft differentiates between \"null\" (missing) and \"nan\" (stands for not a number - a special value indicating an invalid float)."
   ]
  },
  {
   "cell_type": "code",
   "execution_count": 16,
   "metadata": {},
   "outputs": [
    {
     "data": {
      "text/html": [
       "<div>\n",
       "<table class=\"dataframe\">\n",
       "<thead><tr><th style=\"text-wrap: nowrap; max-width:192px; overflow:auto; text-align:left\">floats<br />Float64</th><th style=\"text-wrap: nowrap; max-width:192px; overflow:auto; text-align:left\">floats_is_null<br />Boolean</th><th style=\"text-wrap: nowrap; max-width:192px; overflow:auto; text-align:left\">floats_is_nan<br />Boolean</th></tr></thead>\n",
       "<tbody>\n",
       "<tr><td><div style=\"text-align:left; max-width:192px; max-height:64px; overflow:auto\">1.5</div></td><td><div style=\"text-align:left; max-width:192px; max-height:64px; overflow:auto\">false</div></td><td><div style=\"text-align:left; max-width:192px; max-height:64px; overflow:auto\">false</div></td></tr>\n",
       "<tr><td><div style=\"text-align:left; max-width:192px; max-height:64px; overflow:auto\">None</div></td><td><div style=\"text-align:left; max-width:192px; max-height:64px; overflow:auto\">true</div></td><td><div style=\"text-align:left; max-width:192px; max-height:64px; overflow:auto\">None</div></td></tr>\n",
       "<tr><td><div style=\"text-align:left; max-width:192px; max-height:64px; overflow:auto\">NaN</div></td><td><div style=\"text-align:left; max-width:192px; max-height:64px; overflow:auto\">false</div></td><td><div style=\"text-align:left; max-width:192px; max-height:64px; overflow:auto\">true</div></td></tr>\n",
       "</tbody>\n",
       "</table>\n",
       "<small>(Showing first 3 of 3 rows)</small>\n",
       "</div>"
      ],
      "text/plain": [
       "╭─────────┬────────────────┬───────────────╮\n",
       "│ floats  ┆ floats_is_null ┆ floats_is_nan │\n",
       "│ ---     ┆ ---            ┆ ---           │\n",
       "│ Float64 ┆ Boolean        ┆ Boolean       │\n",
       "╞═════════╪════════════════╪═══════════════╡\n",
       "│ 1.5     ┆ false          ┆ false         │\n",
       "├╌╌╌╌╌╌╌╌╌┼╌╌╌╌╌╌╌╌╌╌╌╌╌╌╌╌┼╌╌╌╌╌╌╌╌╌╌╌╌╌╌╌┤\n",
       "│ None    ┆ true           ┆ None          │\n",
       "├╌╌╌╌╌╌╌╌╌┼╌╌╌╌╌╌╌╌╌╌╌╌╌╌╌╌┼╌╌╌╌╌╌╌╌╌╌╌╌╌╌╌┤\n",
       "│ NaN     ┆ false          ┆ true          │\n",
       "╰─────────┴────────────────┴───────────────╯\n",
       "\n",
       "(Showing first 3 of 3 rows)"
      ]
     },
     "metadata": {},
     "output_type": "display_data"
    }
   ],
   "source": [
    "missing_data_df = daft.from_pydict({\n",
    "    \"floats\": [1.5, None, float(\"nan\")],\n",
    "})\n",
    "missing_data_df = missing_data_df \\\n",
    "    .with_column(\"floats_is_null\", missing_data_df[\"floats\"].is_null()) \\\n",
    "    .with_column(\"floats_is_nan\", missing_data_df[\"floats\"].float.is_nan())\n",
    "\n",
    "missing_data_df.show()"
   ]
  },
  {
   "cell_type": "markdown",
   "metadata": {},
   "source": [
    "Let's correct the one missing value in our dataset:"
   ]
  },
  {
   "cell_type": "code",
   "execution_count": 17,
   "metadata": {},
   "outputs": [
    {
     "data": {
      "text/html": [
       "<div>\n",
       "<table class=\"dataframe\">\n",
       "<thead><tr><th style=\"text-wrap: nowrap; max-width:192px; overflow:auto; text-align:left\">first_name<br />Utf8</th><th style=\"text-wrap: nowrap; max-width:192px; overflow:auto; text-align:left\">last_name<br />Utf8</th><th style=\"text-wrap: nowrap; max-width:192px; overflow:auto; text-align:left\">age<br />Int64</th><th style=\"text-wrap: nowrap; max-width:192px; overflow:auto; text-align:left\">DoB<br />Date</th><th style=\"text-wrap: nowrap; max-width:192px; overflow:auto; text-align:left\">country<br />Utf8</th><th style=\"text-wrap: nowrap; max-width:192px; overflow:auto; text-align:left\">full_name<br />Utf8</th><th style=\"text-wrap: nowrap; max-width:192px; overflow:auto; text-align:left\">has_dog<br />Boolean</th></tr></thead>\n",
       "<tbody>\n",
       "<tr><td><div style=\"text-align:left; max-width:192px; max-height:64px; overflow:auto\">Ernesto</div></td><td><div style=\"text-align:left; max-width:192px; max-height:64px; overflow:auto\">Evergreen</div></td><td><div style=\"text-align:left; max-width:192px; max-height:64px; overflow:auto\">34</div></td><td><div style=\"text-align:left; max-width:192px; max-height:64px; overflow:auto\">1990-04-03</div></td><td><div style=\"text-align:left; max-width:192px; max-height:64px; overflow:auto\">Canada</div></td><td><div style=\"text-align:left; max-width:192px; max-height:64px; overflow:auto\">Ernesto Evergreen</div></td><td><div style=\"text-align:left; max-width:192px; max-height:64px; overflow:auto\">true</div></td></tr>\n",
       "<tr><td><div style=\"text-align:left; max-width:192px; max-height:64px; overflow:auto\">Jackie</div></td><td><div style=\"text-align:left; max-width:192px; max-height:64px; overflow:auto\">Jale</div></td><td><div style=\"text-align:left; max-width:192px; max-height:64px; overflow:auto\">62</div></td><td><div style=\"text-align:left; max-width:192px; max-height:64px; overflow:auto\">1962-03-24</div></td><td><div style=\"text-align:left; max-width:192px; max-height:64px; overflow:auto\">Canada</div></td><td><div style=\"text-align:left; max-width:192px; max-height:64px; overflow:auto\">Jackie Jale</div></td><td><div style=\"text-align:left; max-width:192px; max-height:64px; overflow:auto\">true</div></td></tr>\n",
       "<tr><td><div style=\"text-align:left; max-width:192px; max-height:64px; overflow:auto\">Wolfgang</div></td><td><div style=\"text-align:left; max-width:192px; max-height:64px; overflow:auto\">Winter</div></td><td><div style=\"text-align:left; max-width:192px; max-height:64px; overflow:auto\">23</div></td><td><div style=\"text-align:left; max-width:192px; max-height:64px; overflow:auto\">2001-02-12</div></td><td><div style=\"text-align:left; max-width:192px; max-height:64px; overflow:auto\">Germany</div></td><td><div style=\"text-align:left; max-width:192px; max-height:64px; overflow:auto\">Wolfgang Winter</div></td><td><div style=\"text-align:left; max-width:192px; max-height:64px; overflow:auto\">true</div></td></tr>\n",
       "<tr><td><div style=\"text-align:left; max-width:192px; max-height:64px; overflow:auto\">Sari</div></td><td><div style=\"text-align:left; max-width:192px; max-height:64px; overflow:auto\">Salama</div></td><td><div style=\"text-align:left; max-width:192px; max-height:64px; overflow:auto\">57</div></td><td><div style=\"text-align:left; max-width:192px; max-height:64px; overflow:auto\">1967-01-02</div></td><td><div style=\"text-align:left; max-width:192px; max-height:64px; overflow:auto\">United Kingdom</div></td><td><div style=\"text-align:left; max-width:192px; max-height:64px; overflow:auto\">Sari Salama</div></td><td><div style=\"text-align:left; max-width:192px; max-height:64px; overflow:auto\">true</div></td></tr>\n",
       "<tr><td><div style=\"text-align:left; max-width:192px; max-height:64px; overflow:auto\">Zoya</div></td><td><div style=\"text-align:left; max-width:192px; max-height:64px; overflow:auto\">Zee</div></td><td><div style=\"text-align:left; max-width:192px; max-height:64px; overflow:auto\">40</div></td><td><div style=\"text-align:left; max-width:192px; max-height:64px; overflow:auto\">1984-04-07</div></td><td><div style=\"text-align:left; max-width:192px; max-height:64px; overflow:auto\">United Kingdom</div></td><td><div style=\"text-align:left; max-width:192px; max-height:64px; overflow:auto\">Zoya Zee</div></td><td><div style=\"text-align:left; max-width:192px; max-height:64px; overflow:auto\">true</div></td></tr>\n",
       "</tbody>\n",
       "</table>\n",
       "<small>(Showing first 5 of 5 rows)</small>\n",
       "</div>"
      ],
      "text/plain": [
       "╭────────────┬───────────┬───────┬────────────┬────────────────┬───────────────────┬─────────╮\n",
       "│ first_name ┆ last_name ┆ age   ┆      …     ┆ country        ┆ full_name         ┆ has_dog │\n",
       "│ ---        ┆ ---       ┆ ---   ┆            ┆ ---            ┆ ---               ┆ ---     │\n",
       "│ Utf8       ┆ Utf8      ┆ Int64 ┆ (1 hidden) ┆ Utf8           ┆ Utf8              ┆ Boolean │\n",
       "╞════════════╪═══════════╪═══════╪════════════╪════════════════╪═══════════════════╪═════════╡\n",
       "│ Ernesto    ┆ Evergreen ┆ 34    ┆ …          ┆ Canada         ┆ Ernesto Evergreen ┆ true    │\n",
       "├╌╌╌╌╌╌╌╌╌╌╌╌┼╌╌╌╌╌╌╌╌╌╌╌┼╌╌╌╌╌╌╌┼╌╌╌╌╌╌╌╌╌╌╌╌┼╌╌╌╌╌╌╌╌╌╌╌╌╌╌╌╌┼╌╌╌╌╌╌╌╌╌╌╌╌╌╌╌╌╌╌╌┼╌╌╌╌╌╌╌╌╌┤\n",
       "│ Jackie     ┆ Jale      ┆ 62    ┆ …          ┆ Canada         ┆ Jackie Jale       ┆ true    │\n",
       "├╌╌╌╌╌╌╌╌╌╌╌╌┼╌╌╌╌╌╌╌╌╌╌╌┼╌╌╌╌╌╌╌┼╌╌╌╌╌╌╌╌╌╌╌╌┼╌╌╌╌╌╌╌╌╌╌╌╌╌╌╌╌┼╌╌╌╌╌╌╌╌╌╌╌╌╌╌╌╌╌╌╌┼╌╌╌╌╌╌╌╌╌┤\n",
       "│ Wolfgang   ┆ Winter    ┆ 23    ┆ …          ┆ Germany        ┆ Wolfgang Winter   ┆ true    │\n",
       "├╌╌╌╌╌╌╌╌╌╌╌╌┼╌╌╌╌╌╌╌╌╌╌╌┼╌╌╌╌╌╌╌┼╌╌╌╌╌╌╌╌╌╌╌╌┼╌╌╌╌╌╌╌╌╌╌╌╌╌╌╌╌┼╌╌╌╌╌╌╌╌╌╌╌╌╌╌╌╌╌╌╌┼╌╌╌╌╌╌╌╌╌┤\n",
       "│ Sari       ┆ Salama    ┆ 57    ┆ …          ┆ United Kingdom ┆ Sari Salama       ┆ true    │\n",
       "├╌╌╌╌╌╌╌╌╌╌╌╌┼╌╌╌╌╌╌╌╌╌╌╌┼╌╌╌╌╌╌╌┼╌╌╌╌╌╌╌╌╌╌╌╌┼╌╌╌╌╌╌╌╌╌╌╌╌╌╌╌╌┼╌╌╌╌╌╌╌╌╌╌╌╌╌╌╌╌╌╌╌┼╌╌╌╌╌╌╌╌╌┤\n",
       "│ Zoya       ┆ Zee       ┆ 40    ┆ …          ┆ United Kingdom ┆ Zoya Zee          ┆ true    │\n",
       "╰────────────┴───────────┴───────┴────────────┴────────────────┴───────────────────┴─────────╯\n",
       "\n",
       "(Showing first 5 of 5 rows)"
      ]
     },
     "metadata": {},
     "output_type": "display_data"
    }
   ],
   "source": [
    "df = df.with_column(\"has_dog\", df[\"has_dog\"].apply(lambda x: True, return_dtype=DataType.bool()))\n",
    "df.show()"
   ]
  },
  {
   "cell_type": "markdown",
   "metadata": {},
   "source": [
    "### Filtering Data\n",
    "\n",
    "You can **filter** rows in your DataFrame with a predicate using the {meth}`df.where() <daft.DataFrame.where>` method:"
   ]
  },
  {
   "cell_type": "code",
   "execution_count": 18,
   "metadata": {},
   "outputs": [
    {
     "data": {
      "text/html": [
       "<div>\n",
       "<table class=\"dataframe\">\n",
       "<thead><tr><th style=\"text-wrap: nowrap; max-width:192px; overflow:auto; text-align:left\">first_name<br />Utf8</th><th style=\"text-wrap: nowrap; max-width:192px; overflow:auto; text-align:left\">last_name<br />Utf8</th><th style=\"text-wrap: nowrap; max-width:192px; overflow:auto; text-align:left\">age<br />Int64</th><th style=\"text-wrap: nowrap; max-width:192px; overflow:auto; text-align:left\">DoB<br />Date</th><th style=\"text-wrap: nowrap; max-width:192px; overflow:auto; text-align:left\">country<br />Utf8</th><th style=\"text-wrap: nowrap; max-width:192px; overflow:auto; text-align:left\">full_name<br />Utf8</th><th style=\"text-wrap: nowrap; max-width:192px; overflow:auto; text-align:left\">has_dog<br />Boolean</th></tr></thead>\n",
       "<tbody>\n",
       "<tr><td><div style=\"text-align:left; max-width:192px; max-height:64px; overflow:auto\">Jackie</div></td><td><div style=\"text-align:left; max-width:192px; max-height:64px; overflow:auto\">Jale</div></td><td><div style=\"text-align:left; max-width:192px; max-height:64px; overflow:auto\">62</div></td><td><div style=\"text-align:left; max-width:192px; max-height:64px; overflow:auto\">1962-03-24</div></td><td><div style=\"text-align:left; max-width:192px; max-height:64px; overflow:auto\">Canada</div></td><td><div style=\"text-align:left; max-width:192px; max-height:64px; overflow:auto\">Jackie Jale</div></td><td><div style=\"text-align:left; max-width:192px; max-height:64px; overflow:auto\">true</div></td></tr>\n",
       "<tr><td><div style=\"text-align:left; max-width:192px; max-height:64px; overflow:auto\">Sari</div></td><td><div style=\"text-align:left; max-width:192px; max-height:64px; overflow:auto\">Salama</div></td><td><div style=\"text-align:left; max-width:192px; max-height:64px; overflow:auto\">57</div></td><td><div style=\"text-align:left; max-width:192px; max-height:64px; overflow:auto\">1967-01-02</div></td><td><div style=\"text-align:left; max-width:192px; max-height:64px; overflow:auto\">United Kingdom</div></td><td><div style=\"text-align:left; max-width:192px; max-height:64px; overflow:auto\">Sari Salama</div></td><td><div style=\"text-align:left; max-width:192px; max-height:64px; overflow:auto\">true</div></td></tr>\n",
       "<tr><td><div style=\"text-align:left; max-width:192px; max-height:64px; overflow:auto\">Zoya</div></td><td><div style=\"text-align:left; max-width:192px; max-height:64px; overflow:auto\">Zee</div></td><td><div style=\"text-align:left; max-width:192px; max-height:64px; overflow:auto\">40</div></td><td><div style=\"text-align:left; max-width:192px; max-height:64px; overflow:auto\">1984-04-07</div></td><td><div style=\"text-align:left; max-width:192px; max-height:64px; overflow:auto\">United Kingdom</div></td><td><div style=\"text-align:left; max-width:192px; max-height:64px; overflow:auto\">Zoya Zee</div></td><td><div style=\"text-align:left; max-width:192px; max-height:64px; overflow:auto\">true</div></td></tr>\n",
       "</tbody>\n",
       "</table>\n",
       "<small>(Showing first 3 of 3 rows)</small>\n",
       "</div>"
      ],
      "text/plain": [
       "╭────────────┬───────────┬───────┬────────────┬────────────────┬─────────────┬─────────╮\n",
       "│ first_name ┆ last_name ┆ age   ┆      …     ┆ country        ┆ full_name   ┆ has_dog │\n",
       "│ ---        ┆ ---       ┆ ---   ┆            ┆ ---            ┆ ---         ┆ ---     │\n",
       "│ Utf8       ┆ Utf8      ┆ Int64 ┆ (1 hidden) ┆ Utf8           ┆ Utf8        ┆ Boolean │\n",
       "╞════════════╪═══════════╪═══════╪════════════╪════════════════╪═════════════╪═════════╡\n",
       "│ Jackie     ┆ Jale      ┆ 62    ┆ …          ┆ Canada         ┆ Jackie Jale ┆ true    │\n",
       "├╌╌╌╌╌╌╌╌╌╌╌╌┼╌╌╌╌╌╌╌╌╌╌╌┼╌╌╌╌╌╌╌┼╌╌╌╌╌╌╌╌╌╌╌╌┼╌╌╌╌╌╌╌╌╌╌╌╌╌╌╌╌┼╌╌╌╌╌╌╌╌╌╌╌╌╌┼╌╌╌╌╌╌╌╌╌┤\n",
       "│ Sari       ┆ Salama    ┆ 57    ┆ …          ┆ United Kingdom ┆ Sari Salama ┆ true    │\n",
       "├╌╌╌╌╌╌╌╌╌╌╌╌┼╌╌╌╌╌╌╌╌╌╌╌┼╌╌╌╌╌╌╌┼╌╌╌╌╌╌╌╌╌╌╌╌┼╌╌╌╌╌╌╌╌╌╌╌╌╌╌╌╌┼╌╌╌╌╌╌╌╌╌╌╌╌╌┼╌╌╌╌╌╌╌╌╌┤\n",
       "│ Zoya       ┆ Zee       ┆ 40    ┆ …          ┆ United Kingdom ┆ Zoya Zee    ┆ true    │\n",
       "╰────────────┴───────────┴───────┴────────────┴────────────────┴─────────────┴─────────╯\n",
       "\n",
       "(Showing first 3 of 3 rows)"
      ]
     },
     "metadata": {},
     "output_type": "display_data"
    }
   ],
   "source": [
    "df.where(df[\"age\"] > 35).show()"
   ]
  },
  {
   "cell_type": "markdown",
   "metadata": {},
   "source": [
    "Filtering can give you powerful optimization when you are working with partitioned files or tables. Daft will use the predicate to read only the necessary partitions, skipping any data that is not relevant.\n",
    "\n",
    "For example, our Parquet file is partitioned on the `country` column. This means that queries with a `country` predicate will benefit from query optimization:"
   ]
  },
  {
   "cell_type": "code",
   "execution_count": 19,
   "metadata": {},
   "outputs": [
    {
     "data": {
      "text/html": [
       "<div>\n",
       "<table class=\"dataframe\">\n",
       "<thead><tr><th style=\"text-wrap: nowrap; max-width:192px; overflow:auto; text-align:left\">first_name<br />Utf8</th><th style=\"text-wrap: nowrap; max-width:192px; overflow:auto; text-align:left\">last_name<br />Utf8</th><th style=\"text-wrap: nowrap; max-width:192px; overflow:auto; text-align:left\">age<br />Int64</th><th style=\"text-wrap: nowrap; max-width:192px; overflow:auto; text-align:left\">DoB<br />Date</th><th style=\"text-wrap: nowrap; max-width:192px; overflow:auto; text-align:left\">country<br />Utf8</th><th style=\"text-wrap: nowrap; max-width:192px; overflow:auto; text-align:left\">full_name<br />Utf8</th><th style=\"text-wrap: nowrap; max-width:192px; overflow:auto; text-align:left\">has_dog<br />Boolean</th></tr></thead>\n",
       "<tbody>\n",
       "<tr><td><div style=\"text-align:left; max-width:192px; max-height:64px; overflow:auto\">Ernesto</div></td><td><div style=\"text-align:left; max-width:192px; max-height:64px; overflow:auto\">Evergreen</div></td><td><div style=\"text-align:left; max-width:192px; max-height:64px; overflow:auto\">34</div></td><td><div style=\"text-align:left; max-width:192px; max-height:64px; overflow:auto\">1990-04-03</div></td><td><div style=\"text-align:left; max-width:192px; max-height:64px; overflow:auto\">Canada</div></td><td><div style=\"text-align:left; max-width:192px; max-height:64px; overflow:auto\">Ernesto Evergreen</div></td><td><div style=\"text-align:left; max-width:192px; max-height:64px; overflow:auto\">true</div></td></tr>\n",
       "<tr><td><div style=\"text-align:left; max-width:192px; max-height:64px; overflow:auto\">Jackie</div></td><td><div style=\"text-align:left; max-width:192px; max-height:64px; overflow:auto\">Jale</div></td><td><div style=\"text-align:left; max-width:192px; max-height:64px; overflow:auto\">62</div></td><td><div style=\"text-align:left; max-width:192px; max-height:64px; overflow:auto\">1962-03-24</div></td><td><div style=\"text-align:left; max-width:192px; max-height:64px; overflow:auto\">Canada</div></td><td><div style=\"text-align:left; max-width:192px; max-height:64px; overflow:auto\">Jackie Jale</div></td><td><div style=\"text-align:left; max-width:192px; max-height:64px; overflow:auto\">true</div></td></tr>\n",
       "</tbody>\n",
       "</table>\n",
       "<small>(Showing first 2 of 2 rows)</small>\n",
       "</div>"
      ],
      "text/plain": [
       "╭────────────┬───────────┬───────┬────────────┬─────────┬───────────────────┬─────────╮\n",
       "│ first_name ┆ last_name ┆ age   ┆      …     ┆ country ┆ full_name         ┆ has_dog │\n",
       "│ ---        ┆ ---       ┆ ---   ┆            ┆ ---     ┆ ---               ┆ ---     │\n",
       "│ Utf8       ┆ Utf8      ┆ Int64 ┆ (1 hidden) ┆ Utf8    ┆ Utf8              ┆ Boolean │\n",
       "╞════════════╪═══════════╪═══════╪════════════╪═════════╪═══════════════════╪═════════╡\n",
       "│ Ernesto    ┆ Evergreen ┆ 34    ┆ …          ┆ Canada  ┆ Ernesto Evergreen ┆ true    │\n",
       "├╌╌╌╌╌╌╌╌╌╌╌╌┼╌╌╌╌╌╌╌╌╌╌╌┼╌╌╌╌╌╌╌┼╌╌╌╌╌╌╌╌╌╌╌╌┼╌╌╌╌╌╌╌╌╌┼╌╌╌╌╌╌╌╌╌╌╌╌╌╌╌╌╌╌╌┼╌╌╌╌╌╌╌╌╌┤\n",
       "│ Jackie     ┆ Jale      ┆ 62    ┆ …          ┆ Canada  ┆ Jackie Jale       ┆ true    │\n",
       "╰────────────┴───────────┴───────┴────────────┴─────────┴───────────────────┴─────────╯\n",
       "\n",
       "(Showing first 2 of 2 rows)"
      ]
     },
     "metadata": {},
     "output_type": "display_data"
    }
   ],
   "source": [
    "df.where(df[\"country\"] == \"Canada\").show()"
   ]
  },
  {
   "cell_type": "markdown",
   "metadata": {},
   "source": [
    "Daft only needs to read in 1 file for this query, instead of 3."
   ]
  },
  {
   "cell_type": "markdown",
   "metadata": {},
   "source": [
    "## Query Planning\n",
    "\n",
    "Daft is lazy: computations on your DataFrame are not executed immediately. Instead, Daft creates a `LogicalPlan` which defines the operations that need to happen to materialize the requested result. Think of this LogicalPlan as a recipe. \n",
    "\n",
    "You can examine this logical plan using {meth}`df.explain() <daft.DataFrame.explain>`:"
   ]
  },
  {
   "cell_type": "code",
   "execution_count": 20,
   "metadata": {},
   "outputs": [
    {
     "name": "stdout",
     "output_type": "stream",
     "text": [
      "== Unoptimized Logical Plan ==\n",
      "\n",
      "* Filter: col(country) == lit(\"Canada\")\n",
      "|\n",
      "* GlobScanOperator\n",
      "|   Glob paths = [owners/*/*]\n",
      "|   Coerce int96 timestamp unit = Nanoseconds\n",
      "|   IO config = S3 config = { Max connections = 8, Retry initial backoff ms = 1000, Connect timeout ms = 30000, Read timeout ms = 30000, Max retries = 25, Retry mode = adaptive, Anonymous = false, Use SSL = true, Verify SSL = true, Check hostname SSL = true, Requester pays = false }, Azure config = { Anoynmous = false, Use SSL = true }, GCS config = { Anoynmous = false }\n",
      "|   Use multithreading = true\n",
      "|   File schema = first_name#Utf8, last_name#Utf8, age#Int64, DoB#Date, country#Utf8, has_dog#Boolean\n",
      "|   Partitioning keys = []\n",
      "|   Output schema = first_name#Utf8, last_name#Utf8, age#Int64, DoB#Date, country#Utf8, has_dog#Boolean\n",
      "\n",
      "\n",
      "== Optimized Logical Plan ==\n",
      "\n",
      "* GlobScanOperator\n",
      "|   Glob paths = [owners/*/*]\n",
      "|   Coerce int96 timestamp unit = Nanoseconds\n",
      "|   IO config = S3 config = { Max connections = 8, Retry initial backoff ms = 1000, Connect timeout ms = 30000, Read timeout ms = 30000, Max retries = 25, Retry mode = adaptive, Anonymous = false, Use SSL = true, Verify SSL = true, Check hostname SSL = true, Requester pays = false }, Azure config = { Anoynmous = false, Use SSL = true }, GCS config = { Anoynmous = false }\n",
      "|   Use multithreading = true\n",
      "|   File schema = first_name#Utf8, last_name#Utf8, age#Int64, DoB#Date, country#Utf8, has_dog#Boolean\n",
      "|   Partitioning keys = []\n",
      "|   Filter pushdown = col(country) == lit(\"Canada\")\n",
      "|   Output schema = first_name#Utf8, last_name#Utf8, age#Int64, DoB#Date, country#Utf8, has_dog#Boolean\n",
      "\n",
      "\n",
      "== Physical Plan ==\n",
      "\n",
      "* TabularScan:\n",
      "|   Num Scan Tasks = 1\n",
      "|   Estimated Scan Bytes = 6312\n",
      "|   Clustering spec = { Num partitions = 1 }\n",
      "\n"
     ]
    }
   ],
   "source": [
    "df2 = daft.read_parquet(\"owners/*/*\") #change to s3 for final\n",
    "df2.where(df[\"country\"] == \"Canada\").explain(show_all=True)"
   ]
  },
  {
   "cell_type": "markdown",
   "metadata": {},
   "source": [
    "Because we are filtering our DataFrame on the partition column `country`, Daft can optimize the Logical Plan and save us time and computing resources by only reading a single partition from disk. \n",
    "\n",
    "Read more about Query Planning and Partitioning in the [documentation](md-link)."
   ]
  },
  {
   "cell_type": "markdown",
   "metadata": {},
   "source": [
    "## More Advanced Operations\n",
    "\n",
    "You've made it half-way! Time to bring in some fluffy beings 🐶\n",
    "\n",
    "Let's bring all of the elements together to see how you can use Daft to:\n",
    "- perform more advanced operations like **joins**\n",
    "- work with **multimodal data** like Python classes, URLs, and Images,\n",
    "- apply **custom User-Defined Functions** to your columns,\n",
    "- and **run ML workloads** within your DataFrame,"
   ]
  },
  {
   "cell_type": "markdown",
   "metadata": {},
   "source": [
    "### Merging DataFrames\n",
    "\n",
    "DataFrames can be joined with {meth}`df.join() <daft.DataFrame.join>`.\n",
    "\n",
    "Let's use a join to reunite our `owners` with their sweet fluffy companions. We'll create a `dogs` DataFrame from a Python dictionary and then join this to our existing dataframe with the owners data."
   ]
  },
  {
   "cell_type": "code",
   "execution_count": 21,
   "metadata": {},
   "outputs": [],
   "source": [
    "# TO DO use stable URLs \n",
    "df_dogs = daft.from_pydict({\n",
    "    \"urls\": [\n",
    "        \"https://i.natgeofe.com/n/4f5aaece-3300-41a4-b2a8-ed2708a0a27c/domestic-dog_thumb_square.jpg?wp=1&w=272&h=272\",\n",
    "        \"https://i.pinimg.com/736x/ab/e5/5f/abe55ff1a275ae726657fb1d03a37a97.jpg\",\n",
    "        \"https://kb.rspca.org.au/wp-content/uploads/2018/11/golder-retriever-puppy.jpeg\",\n",
    "        \"https://www.thesprucepets.com/thmb/hxWjs7evF2hP1Fb1c1HAvRi_Rw0=/2765x0/filters:no_upscale():strip_icc()/chinese-dog-breeds-4797219-hero-2a1e9c5ed2c54d00aef75b05c5db399c.jpg\",\n",
    "        \"https://www.dogstrust.org.uk/images/800x600/assets/2023-12/Web%20header%20image-dexter_outdoors_kenilworth_dogstrust.jpg\"\n",
    "    ],\n",
    "    'full_name': ['Ernesto Evergreen', 'James Jale', 'Wolfgang Winter', 'Shandra Shamas', 'Zaya Zamora'],\n",
    "    \"dog_name\": [\"Ernie\", \"Jackie\", \"Wolfie\", \"Shaggie\", \"Zadie\"],\n",
    "})"
   ]
  },
  {
   "cell_type": "markdown",
   "metadata": {},
   "source": [
    "Let's join and drop some columns to keep the output easy to read:"
   ]
  },
  {
   "cell_type": "code",
   "execution_count": 22,
   "metadata": {},
   "outputs": [
    {
     "data": {
      "text/html": [
       "<div>\n",
       "<table class=\"dataframe\">\n",
       "<thead><tr><th style=\"text-wrap: nowrap; max-width:192px; overflow:auto; text-align:left\">full_name<br />Utf8</th><th style=\"text-wrap: nowrap; max-width:192px; overflow:auto; text-align:left\">has_dog<br />Boolean</th><th style=\"text-wrap: nowrap; max-width:192px; overflow:auto; text-align:left\">urls<br />Utf8</th><th style=\"text-wrap: nowrap; max-width:192px; overflow:auto; text-align:left\">dog_name<br />Utf8</th></tr></thead>\n",
       "<tbody>\n",
       "<tr><td><div style=\"text-align:left; max-width:192px; max-height:64px; overflow:auto\">Ernesto Evergreen</div></td><td><div style=\"text-align:left; max-width:192px; max-height:64px; overflow:auto\">true</div></td><td><div style=\"text-align:left; max-width:192px; max-height:64px; overflow:auto\">https://i.natgeofe.com/n/4f5aaece-3300-41a4-b2a8-ed2708a0a27c/domestic-dog_thumb_square.jpg?wp=1&amp;w=272&amp;h=272</div></td><td><div style=\"text-align:left; max-width:192px; max-height:64px; overflow:auto\">Ernie</div></td></tr>\n",
       "<tr><td><div style=\"text-align:left; max-width:192px; max-height:64px; overflow:auto\">Jackie Jale</div></td><td><div style=\"text-align:left; max-width:192px; max-height:64px; overflow:auto\">true</div></td><td><div style=\"text-align:left; max-width:192px; max-height:64px; overflow:auto\">https://i.pinimg.com/736x/ab/e5/5f/abe55ff1a275ae726657fb1d03a37a97.jpg</div></td><td><div style=\"text-align:left; max-width:192px; max-height:64px; overflow:auto\">Jeckyll</div></td></tr>\n",
       "<tr><td><div style=\"text-align:left; max-width:192px; max-height:64px; overflow:auto\">Wolfgang Winter</div></td><td><div style=\"text-align:left; max-width:192px; max-height:64px; overflow:auto\">true</div></td><td><div style=\"text-align:left; max-width:192px; max-height:64px; overflow:auto\">https://kb.rspca.org.au/wp-content/uploads/2018/11/golder-retriever-puppy.jpeg</div></td><td><div style=\"text-align:left; max-width:192px; max-height:64px; overflow:auto\">Wolfie</div></td></tr>\n",
       "<tr><td><div style=\"text-align:left; max-width:192px; max-height:64px; overflow:auto\">Sari Salama</div></td><td><div style=\"text-align:left; max-width:192px; max-height:64px; overflow:auto\">true</div></td><td><div style=\"text-align:left; max-width:192px; max-height:64px; overflow:auto\">https://www.thesprucepets.com/thmb/hxWjs7evF2hP1Fb1c1HAvRi_Rw0=/2765x0/filters:no_upscale():strip_icc()/chinese-dog-breeds-4797219-hero-2a1e9c5ed2c54d00aef75b05c5db399c.jpg</div></td><td><div style=\"text-align:left; max-width:192px; max-height:64px; overflow:auto\">Sally</div></td></tr>\n",
       "<tr><td><div style=\"text-align:left; max-width:192px; max-height:64px; overflow:auto\">Zoya Zee</div></td><td><div style=\"text-align:left; max-width:192px; max-height:64px; overflow:auto\">true</div></td><td><div style=\"text-align:left; max-width:192px; max-height:64px; overflow:auto\">https://www.dogstrust.org.uk/images/800x600/assets/2023-12/Web%20header%20image-dexter_outdoors_kenilworth_dogstrust.jpg</div></td><td><div style=\"text-align:left; max-width:192px; max-height:64px; overflow:auto\">Zackie</div></td></tr>\n",
       "</tbody>\n",
       "</table>\n",
       "<small>(Showing first 5 of 5 rows)</small>\n",
       "</div>"
      ],
      "text/plain": [
       "╭───────────────────┬─────────┬────────────────────────────────┬──────────╮\n",
       "│ full_name         ┆ has_dog ┆ urls                           ┆ dog_name │\n",
       "│ ---               ┆ ---     ┆ ---                            ┆ ---      │\n",
       "│ Utf8              ┆ Boolean ┆ Utf8                           ┆ Utf8     │\n",
       "╞═══════════════════╪═════════╪════════════════════════════════╪══════════╡\n",
       "│ Ernesto Evergreen ┆ true    ┆ https://i.natgeofe.com/n/4f5a… ┆ Ernie    │\n",
       "├╌╌╌╌╌╌╌╌╌╌╌╌╌╌╌╌╌╌╌┼╌╌╌╌╌╌╌╌╌┼╌╌╌╌╌╌╌╌╌╌╌╌╌╌╌╌╌╌╌╌╌╌╌╌╌╌╌╌╌╌╌╌┼╌╌╌╌╌╌╌╌╌╌┤\n",
       "│ Jackie Jale       ┆ true    ┆ https://i.pinimg.com/736x/ab/… ┆ Jeckyll  │\n",
       "├╌╌╌╌╌╌╌╌╌╌╌╌╌╌╌╌╌╌╌┼╌╌╌╌╌╌╌╌╌┼╌╌╌╌╌╌╌╌╌╌╌╌╌╌╌╌╌╌╌╌╌╌╌╌╌╌╌╌╌╌╌╌┼╌╌╌╌╌╌╌╌╌╌┤\n",
       "│ Wolfgang Winter   ┆ true    ┆ https://kb.rspca.org.au/wp-co… ┆ Wolfie   │\n",
       "├╌╌╌╌╌╌╌╌╌╌╌╌╌╌╌╌╌╌╌┼╌╌╌╌╌╌╌╌╌┼╌╌╌╌╌╌╌╌╌╌╌╌╌╌╌╌╌╌╌╌╌╌╌╌╌╌╌╌╌╌╌╌┼╌╌╌╌╌╌╌╌╌╌┤\n",
       "│ Sari Salama       ┆ true    ┆ https://www.thesprucepets.com… ┆ Sally    │\n",
       "├╌╌╌╌╌╌╌╌╌╌╌╌╌╌╌╌╌╌╌┼╌╌╌╌╌╌╌╌╌┼╌╌╌╌╌╌╌╌╌╌╌╌╌╌╌╌╌╌╌╌╌╌╌╌╌╌╌╌╌╌╌╌┼╌╌╌╌╌╌╌╌╌╌┤\n",
       "│ Zoya Zee          ┆ true    ┆ https://www.dogstrust.org.uk/… ┆ Zackie   │\n",
       "╰───────────────────┴─────────┴────────────────────────────────┴──────────╯\n",
       "\n",
       "(Showing first 5 of 5 rows)"
      ]
     },
     "metadata": {},
     "output_type": "display_data"
    }
   ],
   "source": [
    "df_family = df.join(df_dogs, on=\"full_name\").exclude(\"first_name\", \"last_name\", \"DoB\", \"country\", \"age\")\n",
    "df_family.show()"
   ]
  },
  {
   "cell_type": "markdown",
   "metadata": {},
   "source": [
    "Let's just quickly re-order the columns for easier reading:"
   ]
  },
  {
   "cell_type": "code",
   "execution_count": 23,
   "metadata": {},
   "outputs": [
    {
     "data": {
      "text/html": [
       "<div>\n",
       "<table class=\"dataframe\">\n",
       "<thead><tr><th style=\"text-wrap: nowrap; max-width:192px; overflow:auto; text-align:left\">full_name<br />Utf8</th><th style=\"text-wrap: nowrap; max-width:192px; overflow:auto; text-align:left\">has_dog<br />Boolean</th><th style=\"text-wrap: nowrap; max-width:192px; overflow:auto; text-align:left\">dog_name<br />Utf8</th><th style=\"text-wrap: nowrap; max-width:192px; overflow:auto; text-align:left\">urls<br />Utf8</th></tr></thead>\n",
       "<tbody>\n",
       "<tr><td><div style=\"text-align:left; max-width:192px; max-height:64px; overflow:auto\">Ernesto Evergreen</div></td><td><div style=\"text-align:left; max-width:192px; max-height:64px; overflow:auto\">true</div></td><td><div style=\"text-align:left; max-width:192px; max-height:64px; overflow:auto\">Ernie</div></td><td><div style=\"text-align:left; max-width:192px; max-height:64px; overflow:auto\">https://i.natgeofe.com/n/4f5aaece-3300-41a4-b2a8-ed2708a0a27c/domestic-dog_thumb_square.jpg?wp=1&amp;w=272&amp;h=272</div></td></tr>\n",
       "<tr><td><div style=\"text-align:left; max-width:192px; max-height:64px; overflow:auto\">Jackie Jale</div></td><td><div style=\"text-align:left; max-width:192px; max-height:64px; overflow:auto\">true</div></td><td><div style=\"text-align:left; max-width:192px; max-height:64px; overflow:auto\">Jeckyll</div></td><td><div style=\"text-align:left; max-width:192px; max-height:64px; overflow:auto\">https://i.pinimg.com/736x/ab/e5/5f/abe55ff1a275ae726657fb1d03a37a97.jpg</div></td></tr>\n",
       "<tr><td><div style=\"text-align:left; max-width:192px; max-height:64px; overflow:auto\">Wolfgang Winter</div></td><td><div style=\"text-align:left; max-width:192px; max-height:64px; overflow:auto\">true</div></td><td><div style=\"text-align:left; max-width:192px; max-height:64px; overflow:auto\">Wolfie</div></td><td><div style=\"text-align:left; max-width:192px; max-height:64px; overflow:auto\">https://kb.rspca.org.au/wp-content/uploads/2018/11/golder-retriever-puppy.jpeg</div></td></tr>\n",
       "<tr><td><div style=\"text-align:left; max-width:192px; max-height:64px; overflow:auto\">Sari Salama</div></td><td><div style=\"text-align:left; max-width:192px; max-height:64px; overflow:auto\">true</div></td><td><div style=\"text-align:left; max-width:192px; max-height:64px; overflow:auto\">Sally</div></td><td><div style=\"text-align:left; max-width:192px; max-height:64px; overflow:auto\">https://www.thesprucepets.com/thmb/hxWjs7evF2hP1Fb1c1HAvRi_Rw0=/2765x0/filters:no_upscale():strip_icc()/chinese-dog-breeds-4797219-hero-2a1e9c5ed2c54d00aef75b05c5db399c.jpg</div></td></tr>\n",
       "<tr><td><div style=\"text-align:left; max-width:192px; max-height:64px; overflow:auto\">Zoya Zee</div></td><td><div style=\"text-align:left; max-width:192px; max-height:64px; overflow:auto\">true</div></td><td><div style=\"text-align:left; max-width:192px; max-height:64px; overflow:auto\">Zackie</div></td><td><div style=\"text-align:left; max-width:192px; max-height:64px; overflow:auto\">https://www.dogstrust.org.uk/images/800x600/assets/2023-12/Web%20header%20image-dexter_outdoors_kenilworth_dogstrust.jpg</div></td></tr>\n",
       "</tbody>\n",
       "</table>\n",
       "<small>(Showing first 5 of 5 rows)</small>\n",
       "</div>"
      ],
      "text/plain": [
       "╭───────────────────┬─────────┬──────────┬────────────────────────────────╮\n",
       "│ full_name         ┆ has_dog ┆ dog_name ┆ urls                           │\n",
       "│ ---               ┆ ---     ┆ ---      ┆ ---                            │\n",
       "│ Utf8              ┆ Boolean ┆ Utf8     ┆ Utf8                           │\n",
       "╞═══════════════════╪═════════╪══════════╪════════════════════════════════╡\n",
       "│ Ernesto Evergreen ┆ true    ┆ Ernie    ┆ https://i.natgeofe.com/n/4f5a… │\n",
       "├╌╌╌╌╌╌╌╌╌╌╌╌╌╌╌╌╌╌╌┼╌╌╌╌╌╌╌╌╌┼╌╌╌╌╌╌╌╌╌╌┼╌╌╌╌╌╌╌╌╌╌╌╌╌╌╌╌╌╌╌╌╌╌╌╌╌╌╌╌╌╌╌╌┤\n",
       "│ Jackie Jale       ┆ true    ┆ Jeckyll  ┆ https://i.pinimg.com/736x/ab/… │\n",
       "├╌╌╌╌╌╌╌╌╌╌╌╌╌╌╌╌╌╌╌┼╌╌╌╌╌╌╌╌╌┼╌╌╌╌╌╌╌╌╌╌┼╌╌╌╌╌╌╌╌╌╌╌╌╌╌╌╌╌╌╌╌╌╌╌╌╌╌╌╌╌╌╌╌┤\n",
       "│ Wolfgang Winter   ┆ true    ┆ Wolfie   ┆ https://kb.rspca.org.au/wp-co… │\n",
       "├╌╌╌╌╌╌╌╌╌╌╌╌╌╌╌╌╌╌╌┼╌╌╌╌╌╌╌╌╌┼╌╌╌╌╌╌╌╌╌╌┼╌╌╌╌╌╌╌╌╌╌╌╌╌╌╌╌╌╌╌╌╌╌╌╌╌╌╌╌╌╌╌╌┤\n",
       "│ Sari Salama       ┆ true    ┆ Sally    ┆ https://www.thesprucepets.com… │\n",
       "├╌╌╌╌╌╌╌╌╌╌╌╌╌╌╌╌╌╌╌┼╌╌╌╌╌╌╌╌╌┼╌╌╌╌╌╌╌╌╌╌┼╌╌╌╌╌╌╌╌╌╌╌╌╌╌╌╌╌╌╌╌╌╌╌╌╌╌╌╌╌╌╌╌┤\n",
       "│ Zoya Zee          ┆ true    ┆ Zackie   ┆ https://www.dogstrust.org.uk/… │\n",
       "╰───────────────────┴─────────┴──────────┴────────────────────────────────╯\n",
       "\n",
       "(Showing first 5 of 5 rows)"
      ]
     },
     "metadata": {},
     "output_type": "display_data"
    }
   ],
   "source": [
    "df_family = df_family.select(\"full_name\", \"has_dog\", \"dog_name\", \"urls\")\n",
    "df_family.show()"
   ]
  },
  {
   "cell_type": "markdown",
   "metadata": {},
   "source": [
    "### Working with Multimodal Data"
   ]
  },
  {
   "cell_type": "markdown",
   "metadata": {},
   "source": [
    "Daft is built to work comfortably with multimodal data types, including URLs and Images.\n",
    "\n",
    "You can use the {meth}.url.download() <daft.expressions.expressions.ExpressionUrlNamespace.download> expression to download the bytes from a URL. Let's store them in a new column using the `with_column` method:"
   ]
  },
  {
   "cell_type": "code",
   "execution_count": 24,
   "metadata": {},
   "outputs": [
    {
     "data": {
      "text/html": [
       "<div>\n",
       "<table class=\"dataframe\">\n",
       "<thead><tr><th style=\"text-wrap: nowrap; max-width:192px; overflow:auto; text-align:left\">full_name<br />Utf8</th><th style=\"text-wrap: nowrap; max-width:192px; overflow:auto; text-align:left\">has_dog<br />Boolean</th><th style=\"text-wrap: nowrap; max-width:192px; overflow:auto; text-align:left\">dog_name<br />Utf8</th><th style=\"text-wrap: nowrap; max-width:192px; overflow:auto; text-align:left\">urls<br />Utf8</th><th style=\"text-wrap: nowrap; max-width:192px; overflow:auto; text-align:left\">image_bytes<br />Binary</th></tr></thead>\n",
       "<tbody>\n",
       "<tr><td><div style=\"text-align:left; max-width:192px; max-height:64px; overflow:auto\">Ernesto Evergreen</div></td><td><div style=\"text-align:left; max-width:192px; max-height:64px; overflow:auto\">true</div></td><td><div style=\"text-align:left; max-width:192px; max-height:64px; overflow:auto\">Ernie</div></td><td><div style=\"text-align:left; max-width:192px; max-height:64px; overflow:auto\">https://i.natgeofe.com/n/4f5aaece-3300-41a4-b2a8-ed2708a0a27c/domestic-dog_thumb_square.jpg?wp=1&amp;w=272&amp;h=272</div></td><td><div style=\"text-align:left; max-width:192px; max-height:64px; overflow:auto\">b\"\\xff\\xd8\\xff\\xe0\\x00\\x10JFIF\\x00\\x01\"...</div></td></tr>\n",
       "<tr><td><div style=\"text-align:left; max-width:192px; max-height:64px; overflow:auto\">Jackie Jale</div></td><td><div style=\"text-align:left; max-width:192px; max-height:64px; overflow:auto\">true</div></td><td><div style=\"text-align:left; max-width:192px; max-height:64px; overflow:auto\">Jeckyll</div></td><td><div style=\"text-align:left; max-width:192px; max-height:64px; overflow:auto\">https://i.pinimg.com/736x/ab/e5/5f/abe55ff1a275ae726657fb1d03a37a97.jpg</div></td><td><div style=\"text-align:left; max-width:192px; max-height:64px; overflow:auto\">b\"\\xff\\xd8\\xff\\xe0\\x00\\x10JFIF\\x00\\x01\"...</div></td></tr>\n",
       "<tr><td><div style=\"text-align:left; max-width:192px; max-height:64px; overflow:auto\">Wolfgang Winter</div></td><td><div style=\"text-align:left; max-width:192px; max-height:64px; overflow:auto\">true</div></td><td><div style=\"text-align:left; max-width:192px; max-height:64px; overflow:auto\">Wolfie</div></td><td><div style=\"text-align:left; max-width:192px; max-height:64px; overflow:auto\">https://kb.rspca.org.au/wp-content/uploads/2018/11/golder-retriever-puppy.jpeg</div></td><td><div style=\"text-align:left; max-width:192px; max-height:64px; overflow:auto\">b\"\\xff\\xd8\\xff\\xe0\\x00\\x10JFIF\\x00\\x01\"...</div></td></tr>\n",
       "<tr><td><div style=\"text-align:left; max-width:192px; max-height:64px; overflow:auto\">Sari Salama</div></td><td><div style=\"text-align:left; max-width:192px; max-height:64px; overflow:auto\">true</div></td><td><div style=\"text-align:left; max-width:192px; max-height:64px; overflow:auto\">Sally</div></td><td><div style=\"text-align:left; max-width:192px; max-height:64px; overflow:auto\">https://www.thesprucepets.com/thmb/hxWjs7evF2hP1Fb1c1HAvRi_Rw0=/2765x0/filters:no_upscale():strip_icc()/chinese-dog-breeds-4797219-hero-2a1e9c5ed2c54d00aef75b05c5db399c.jpg</div></td><td><div style=\"text-align:left; max-width:192px; max-height:64px; overflow:auto\">b\"\\xff\\xd8\\xff\\xe0\\x00\\x10JFIF\\x00\\x01\"...</div></td></tr>\n",
       "<tr><td><div style=\"text-align:left; max-width:192px; max-height:64px; overflow:auto\">Zoya Zee</div></td><td><div style=\"text-align:left; max-width:192px; max-height:64px; overflow:auto\">true</div></td><td><div style=\"text-align:left; max-width:192px; max-height:64px; overflow:auto\">Zackie</div></td><td><div style=\"text-align:left; max-width:192px; max-height:64px; overflow:auto\">https://www.dogstrust.org.uk/images/800x600/assets/2023-12/Web%20header%20image-dexter_outdoors_kenilworth_dogstrust.jpg</div></td><td><div style=\"text-align:left; max-width:192px; max-height:64px; overflow:auto\">b\"\\xff\\xd8\\xff\\xdb\\x00C\\x00\\x06\\x04\\x05\"...</div></td></tr>\n",
       "</tbody>\n",
       "</table>\n",
       "<small>(Showing first 5 of 5 rows)</small>\n",
       "</div>"
      ],
      "text/plain": [
       "╭───────────────────┬─────────┬──────────┬────────────────────────────────┬────────────────────────────────╮\n",
       "│ full_name         ┆ has_dog ┆ dog_name ┆ urls                           ┆ image_bytes                    │\n",
       "│ ---               ┆ ---     ┆ ---      ┆ ---                            ┆ ---                            │\n",
       "│ Utf8              ┆ Boolean ┆ Utf8     ┆ Utf8                           ┆ Binary                         │\n",
       "╞═══════════════════╪═════════╪══════════╪════════════════════════════════╪════════════════════════════════╡\n",
       "│ Ernesto Evergreen ┆ true    ┆ Ernie    ┆ https://i.natgeofe.com/n/4f5a… ┆ b\"\\xff\\xd8\\xff\\xe0\\x00\\x10JFI… │\n",
       "├╌╌╌╌╌╌╌╌╌╌╌╌╌╌╌╌╌╌╌┼╌╌╌╌╌╌╌╌╌┼╌╌╌╌╌╌╌╌╌╌┼╌╌╌╌╌╌╌╌╌╌╌╌╌╌╌╌╌╌╌╌╌╌╌╌╌╌╌╌╌╌╌╌┼╌╌╌╌╌╌╌╌╌╌╌╌╌╌╌╌╌╌╌╌╌╌╌╌╌╌╌╌╌╌╌╌┤\n",
       "│ Jackie Jale       ┆ true    ┆ Jeckyll  ┆ https://i.pinimg.com/736x/ab/… ┆ b\"\\xff\\xd8\\xff\\xe0\\x00\\x10JFI… │\n",
       "├╌╌╌╌╌╌╌╌╌╌╌╌╌╌╌╌╌╌╌┼╌╌╌╌╌╌╌╌╌┼╌╌╌╌╌╌╌╌╌╌┼╌╌╌╌╌╌╌╌╌╌╌╌╌╌╌╌╌╌╌╌╌╌╌╌╌╌╌╌╌╌╌╌┼╌╌╌╌╌╌╌╌╌╌╌╌╌╌╌╌╌╌╌╌╌╌╌╌╌╌╌╌╌╌╌╌┤\n",
       "│ Wolfgang Winter   ┆ true    ┆ Wolfie   ┆ https://kb.rspca.org.au/wp-co… ┆ b\"\\xff\\xd8\\xff\\xe0\\x00\\x10JFI… │\n",
       "├╌╌╌╌╌╌╌╌╌╌╌╌╌╌╌╌╌╌╌┼╌╌╌╌╌╌╌╌╌┼╌╌╌╌╌╌╌╌╌╌┼╌╌╌╌╌╌╌╌╌╌╌╌╌╌╌╌╌╌╌╌╌╌╌╌╌╌╌╌╌╌╌╌┼╌╌╌╌╌╌╌╌╌╌╌╌╌╌╌╌╌╌╌╌╌╌╌╌╌╌╌╌╌╌╌╌┤\n",
       "│ Sari Salama       ┆ true    ┆ Sally    ┆ https://www.thesprucepets.com… ┆ b\"\\xff\\xd8\\xff\\xe0\\x00\\x10JFI… │\n",
       "├╌╌╌╌╌╌╌╌╌╌╌╌╌╌╌╌╌╌╌┼╌╌╌╌╌╌╌╌╌┼╌╌╌╌╌╌╌╌╌╌┼╌╌╌╌╌╌╌╌╌╌╌╌╌╌╌╌╌╌╌╌╌╌╌╌╌╌╌╌╌╌╌╌┼╌╌╌╌╌╌╌╌╌╌╌╌╌╌╌╌╌╌╌╌╌╌╌╌╌╌╌╌╌╌╌╌┤\n",
       "│ Zoya Zee          ┆ true    ┆ Zackie   ┆ https://www.dogstrust.org.uk/… ┆ b\"\\xff\\xd8\\xff\\xdb\\x00C\\x00\\x… │\n",
       "╰───────────────────┴─────────┴──────────┴────────────────────────────────┴────────────────────────────────╯\n",
       "\n",
       "(Showing first 5 of 5 rows)"
      ]
     },
     "metadata": {},
     "output_type": "display_data"
    }
   ],
   "source": [
    "df_family = df_family.with_column(\"image_bytes\", df_dogs[\"urls\"].url.download(on_error=\"null\"))\n",
    "df_family.show()"
   ]
  },
  {
   "cell_type": "markdown",
   "metadata": {},
   "source": [
    "Great! But where's the fluffiness? 🙁\n",
    "\n",
    "Let's turn the bytes into human-readable images using `image.decode`:"
   ]
  },
  {
   "cell_type": "code",
   "execution_count": 25,
   "metadata": {},
   "outputs": [
    {
     "data": {
      "text/html": [
       "<div>\n",
       "<table class=\"dataframe\">\n",
       "<thead><tr><th style=\"text-wrap: nowrap; max-width:192px; overflow:auto; text-align:left\">full_name<br />Utf8</th><th style=\"text-wrap: nowrap; max-width:192px; overflow:auto; text-align:left\">has_dog<br />Boolean</th><th style=\"text-wrap: nowrap; max-width:192px; overflow:auto; text-align:left\">dog_name<br />Utf8</th><th style=\"text-wrap: nowrap; max-width:192px; overflow:auto; text-align:left\">urls<br />Utf8</th><th style=\"text-wrap: nowrap; max-width:192px; overflow:auto; text-align:left\">image_bytes<br />Binary</th><th style=\"text-wrap: nowrap; max-width:192px; overflow:auto; text-align:left\">image<br />Image[MIXED]</th></tr></thead>\n",
       "<tbody>\n",
       "<tr><td><div style=\"text-align:left; max-width:192px; max-height:64px; overflow:auto\">Ernesto Evergreen</div></td><td><div style=\"text-align:left; max-width:192px; max-height:64px; overflow:auto\">true</div></td><td><div style=\"text-align:left; max-width:192px; max-height:64px; overflow:auto\">Ernie</div></td><td><div style=\"text-align:left; max-width:192px; max-height:64px; overflow:auto\">https://i.natgeofe.com/n/4f5aaece-3300-41a4-b2a8-ed2708a0a27c/domestic-dog_thumb_square.jpg?wp=1&amp;w=272&amp;h=272</div></td><td><div style=\"text-align:left; max-width:192px; max-height:64px; overflow:auto\">b\"\\xff\\xd8\\xff\\xe0\\x00\\x10JFIF\\x00\\x01\"...</div></td><td><div style=\"text-align:left; max-width:192px; max-height:64px; overflow:auto\"><img style=\"max-height:128px;width:auto\" src=\"data:image/png;base64, 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\" alt=\"<Image>\" /></div></td></tr>\n",
       "<tr><td><div style=\"text-align:left; max-width:192px; max-height:64px; overflow:auto\">Jackie Jale</div></td><td><div style=\"text-align:left; max-width:192px; max-height:64px; overflow:auto\">true</div></td><td><div style=\"text-align:left; max-width:192px; max-height:64px; overflow:auto\">Jeckyll</div></td><td><div style=\"text-align:left; max-width:192px; max-height:64px; overflow:auto\">https://i.pinimg.com/736x/ab/e5/5f/abe55ff1a275ae726657fb1d03a37a97.jpg</div></td><td><div style=\"text-align:left; max-width:192px; max-height:64px; overflow:auto\">b\"\\xff\\xd8\\xff\\xe0\\x00\\x10JFIF\\x00\\x01\"...</div></td><td><div style=\"text-align:left; max-width:192px; max-height:64px; overflow:auto\"><img style=\"max-height:128px;width:auto\" src=\"data:image/png;base64, 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\" alt=\"<Image>\" /></div></td></tr>\n",
       "<tr><td><div style=\"text-align:left; max-width:192px; max-height:64px; overflow:auto\">Wolfgang Winter</div></td><td><div style=\"text-align:left; max-width:192px; max-height:64px; overflow:auto\">true</div></td><td><div style=\"text-align:left; max-width:192px; max-height:64px; overflow:auto\">Wolfie</div></td><td><div style=\"text-align:left; max-width:192px; max-height:64px; overflow:auto\">https://kb.rspca.org.au/wp-content/uploads/2018/11/golder-retriever-puppy.jpeg</div></td><td><div style=\"text-align:left; max-width:192px; max-height:64px; overflow:auto\">None</div></td><td><div style=\"text-align:left; max-width:192px; max-height:64px; overflow:auto\">None</div></td></tr>\n",
       "<tr><td><div style=\"text-align:left; max-width:192px; max-height:64px; overflow:auto\">Sari Salama</div></td><td><div style=\"text-align:left; max-width:192px; max-height:64px; overflow:auto\">true</div></td><td><div style=\"text-align:left; max-width:192px; max-height:64px; overflow:auto\">Sally</div></td><td><div style=\"text-align:left; max-width:192px; max-height:64px; overflow:auto\">https://www.thesprucepets.com/thmb/hxWjs7evF2hP1Fb1c1HAvRi_Rw0=/2765x0/filters:no_upscale():strip_icc()/chinese-dog-breeds-4797219-hero-2a1e9c5ed2c54d00aef75b05c5db399c.jpg</div></td><td><div style=\"text-align:left; max-width:192px; max-height:64px; overflow:auto\">b\"\\xff\\xd8\\xff\\xe0\\x00\\x10JFIF\\x00\\x01\"...</div></td><td><div style=\"text-align:left; max-width:192px; max-height:64px; overflow:auto\"><img style=\"max-height:128px;width:auto\" src=\"data:image/png;base64, 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\" alt=\"<Image>\" /></div></td></tr>\n",
       "<tr><td><div style=\"text-align:left; max-width:192px; max-height:64px; overflow:auto\">Zoya Zee</div></td><td><div style=\"text-align:left; max-width:192px; max-height:64px; overflow:auto\">true</div></td><td><div style=\"text-align:left; max-width:192px; max-height:64px; overflow:auto\">Zackie</div></td><td><div style=\"text-align:left; max-width:192px; max-height:64px; overflow:auto\">https://www.dogstrust.org.uk/images/800x600/assets/2023-12/Web%20header%20image-dexter_outdoors_kenilworth_dogstrust.jpg</div></td><td><div style=\"text-align:left; max-width:192px; max-height:64px; overflow:auto\">b\"\\xff\\xd8\\xff\\xdb\\x00C\\x00\\x06\\x04\\x05\"...</div></td><td><div style=\"text-align:left; max-width:192px; max-height:64px; overflow:auto\"><img style=\"max-height:128px;width:auto\" src=\"data:image/png;base64, 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\" alt=\"<Image>\" /></div></td></tr>\n",
       "</tbody>\n",
       "</table>\n",
       "<small>(Showing first 5 of 5 rows)</small>\n",
       "</div>"
      ],
      "text/plain": [
       "╭───────────────────┬─────────┬──────────┬───────────────────────────────┬──────────────────────────────┬──────────────╮\n",
       "│ full_name         ┆ has_dog ┆ dog_name ┆ urls                          ┆ image_bytes                  ┆ image        │\n",
       "│ ---               ┆ ---     ┆ ---      ┆ ---                           ┆ ---                          ┆ ---          │\n",
       "│ Utf8              ┆ Boolean ┆ Utf8     ┆ Utf8                          ┆ Binary                       ┆ Image[MIXED] │\n",
       "╞═══════════════════╪═════════╪══════════╪═══════════════════════════════╪══════════════════════════════╪══════════════╡\n",
       "│ Ernesto Evergreen ┆ true    ┆ Ernie    ┆ https://i.natgeofe.com/n/4f5a ┆ b\"\\xff\\xd8\\xff\\xe0\\x00\\x10JF ┆ <Image>      │\n",
       "│                   ┆         ┆          ┆ …                             ┆ I…                           ┆              │\n",
       "├╌╌╌╌╌╌╌╌╌╌╌╌╌╌╌╌╌╌╌┼╌╌╌╌╌╌╌╌╌┼╌╌╌╌╌╌╌╌╌╌┼╌╌╌╌╌╌╌╌╌╌╌╌╌╌╌╌╌╌╌╌╌╌╌╌╌╌╌╌╌╌╌┼╌╌╌╌╌╌╌╌╌╌╌╌╌╌╌╌╌╌╌╌╌╌╌╌╌╌╌╌╌╌┼╌╌╌╌╌╌╌╌╌╌╌╌╌╌┤\n",
       "│ Jackie Jale       ┆ true    ┆ Jeckyll  ┆ https://i.pinimg.com/736x/ab/ ┆ b\"\\xff\\xd8\\xff\\xe0\\x00\\x10JF ┆ <Image>      │\n",
       "│                   ┆         ┆          ┆ …                             ┆ I…                           ┆              │\n",
       "├╌╌╌╌╌╌╌╌╌╌╌╌╌╌╌╌╌╌╌┼╌╌╌╌╌╌╌╌╌┼╌╌╌╌╌╌╌╌╌╌┼╌╌╌╌╌╌╌╌╌╌╌╌╌╌╌╌╌╌╌╌╌╌╌╌╌╌╌╌╌╌╌┼╌╌╌╌╌╌╌╌╌╌╌╌╌╌╌╌╌╌╌╌╌╌╌╌╌╌╌╌╌╌┼╌╌╌╌╌╌╌╌╌╌╌╌╌╌┤\n",
       "│ Wolfgang Winter   ┆ true    ┆ Wolfie   ┆ https://kb.rspca.org.au/wp-co ┆ None                         ┆ None         │\n",
       "│                   ┆         ┆          ┆ …                             ┆                              ┆              │\n",
       "├╌╌╌╌╌╌╌╌╌╌╌╌╌╌╌╌╌╌╌┼╌╌╌╌╌╌╌╌╌┼╌╌╌╌╌╌╌╌╌╌┼╌╌╌╌╌╌╌╌╌╌╌╌╌╌╌╌╌╌╌╌╌╌╌╌╌╌╌╌╌╌╌┼╌╌╌╌╌╌╌╌╌╌╌╌╌╌╌╌╌╌╌╌╌╌╌╌╌╌╌╌╌╌┼╌╌╌╌╌╌╌╌╌╌╌╌╌╌┤\n",
       "│ Sari Salama       ┆ true    ┆ Sally    ┆ https://www.thesprucepets.com ┆ b\"\\xff\\xd8\\xff\\xe0\\x00\\x10JF ┆ <Image>      │\n",
       "│                   ┆         ┆          ┆ …                             ┆ I…                           ┆              │\n",
       "├╌╌╌╌╌╌╌╌╌╌╌╌╌╌╌╌╌╌╌┼╌╌╌╌╌╌╌╌╌┼╌╌╌╌╌╌╌╌╌╌┼╌╌╌╌╌╌╌╌╌╌╌╌╌╌╌╌╌╌╌╌╌╌╌╌╌╌╌╌╌╌╌┼╌╌╌╌╌╌╌╌╌╌╌╌╌╌╌╌╌╌╌╌╌╌╌╌╌╌╌╌╌╌┼╌╌╌╌╌╌╌╌╌╌╌╌╌╌┤\n",
       "│ Zoya Zee          ┆ true    ┆ Zackie   ┆ https://www.dogstrust.org.uk/ ┆ b\"\\xff\\xd8\\xff\\xdb\\x00C\\x00\\ ┆ <Image>      │\n",
       "│                   ┆         ┆          ┆ …                             ┆ x…                           ┆              │\n",
       "╰───────────────────┴─────────┴──────────┴───────────────────────────────┴──────────────────────────────┴──────────────╯\n",
       "\n",
       "(Showing first 5 of 5 rows)"
      ]
     },
     "metadata": {},
     "output_type": "display_data"
    }
   ],
   "source": [
    "df_family = df_family.with_column(\"image\", daft.col(\"image_bytes\").image.decode())\n",
    "df_family.show()"
   ]
  },
  {
   "cell_type": "markdown",
   "metadata": {},
   "source": [
    "Woof! 🐶"
   ]
  },
  {
   "cell_type": "markdown",
   "metadata": {},
   "source": [
    "### User-Defined Functions\n",
    "\n",
    "See: [UDF User Guide](user_guide/daft_in_depth/udf)"
   ]
  },
  {
   "cell_type": "markdown",
   "metadata": {},
   "source": [
    "You can use User-Defined Functions (UDFs) to run computations over multiple rows or columns."
   ]
  },
  {
   "cell_type": "markdown",
   "metadata": {},
   "source": [
    "As the final part of this Quickstart, you'll build a Machine Learning model to classify our new fluffy friends by breed. \n",
    "\n",
    "Daft enables you to do all this right within our DataFrame, using UDFs. \n",
    "\n",
    "### ML Workloads\n",
    "\n",
    "We'll define a function that uses a pre-trained PyTorch model: [ResNet50](https://pytorch.org/vision/main/models/generated/torchvision.models.resnet50.html) to classify the dog pictures. We'll pass the contents of the image `urls` column and send the classification predictions to a new column `classify_breed`."
   ]
  },
  {
   "cell_type": "markdown",
   "metadata": {},
   "source": [
    "Working with PyTorch adds some complexity but you can just run the cells below to perform the classification.\n",
    "\n",
    "First, make sure to install and import some extra dependencies:"
   ]
  },
  {
   "cell_type": "code",
   "execution_count": 26,
   "metadata": {
    "scrolled": true
   },
   "outputs": [],
   "source": [
    "#!pip install validators matplotlib torch torchvision"
   ]
  },
  {
   "cell_type": "code",
   "execution_count": 27,
   "metadata": {},
   "outputs": [],
   "source": [
    "import torch\n",
    "from PIL import Image\n",
    "import matplotlib.pyplot as plt\n",
    "import warnings\n",
    "warnings.filterwarnings('ignore')\n",
    "%matplotlib inline"
   ]
  },
  {
   "cell_type": "markdown",
   "metadata": {},
   "source": [
    "Then, go ahead and define your `ClassifyImages` UDF. \n",
    "\n",
    "Models are expensive to initialize and load, so we want to do this as few times as possible, and share a model across multiple invocations."
   ]
  },
  {
   "cell_type": "code",
   "execution_count": 28,
   "metadata": {},
   "outputs": [],
   "source": [
    "@udf(return_dtype=DataType.fixed_size_list(dtype=DataType.string() , size=2))\n",
    "class ClassifyImages:\n",
    "    \n",
    "    def __init__(self):\n",
    "        # Perform expensive initializations - create and load the pre-trained model \n",
    "\n",
    "        self.model = torch.hub.load('NVIDIA/DeepLearningExamples:torchhub', 'nvidia_resnet50', pretrained=True)\n",
    "        \n",
    "        self.utils = torch.hub.load('NVIDIA/DeepLearningExamples:torchhub', 'nvidia_convnets_processing_utils')\n",
    "\n",
    "        self.model.eval().to(torch.device(\"cpu\"))\n",
    "\n",
    "    \n",
    "    def __call__(self, images_urls):\n",
    "        uris = images_urls.to_pylist()\n",
    "        batch = torch.cat(\n",
    "    [self.utils.prepare_input_from_uri(uri) for uri in uris]\n",
    ").to(torch.device(\"cpu\"))\n",
    "\n",
    "        with torch.no_grad():\n",
    "            output = torch.nn.functional.softmax(self.model(batch), dim=1)\n",
    "    \n",
    "        results = self.utils.pick_n_best(predictions=output, n=1)\n",
    "\n",
    "        return [result[0] for result in results]"
   ]
  },
  {
   "cell_type": "markdown",
   "metadata": {},
   "source": [
    "Nice, now you're all set to call this function on the `urls` column and store the outputs in a new column we'll call `classify breeds`:"
   ]
  },
  {
   "cell_type": "code",
   "execution_count": 29,
   "metadata": {},
   "outputs": [
    {
     "data": {
      "text/html": [
       "<div>\n",
       "<table class=\"dataframe\">\n",
       "<thead><tr><th style=\"text-wrap: nowrap; max-width:192px; overflow:auto; text-align:left\">full_name<br />Utf8</th><th style=\"text-wrap: nowrap; max-width:192px; overflow:auto; text-align:left\">has_dog<br />Boolean</th><th style=\"text-wrap: nowrap; max-width:192px; overflow:auto; text-align:left\">dog_name<br />Utf8</th><th style=\"text-wrap: nowrap; max-width:192px; overflow:auto; text-align:left\">urls<br />Utf8</th><th style=\"text-wrap: nowrap; max-width:192px; overflow:auto; text-align:left\">image_bytes<br />Binary</th><th style=\"text-wrap: nowrap; max-width:192px; overflow:auto; text-align:left\">image<br />Image[MIXED]</th><th style=\"text-wrap: nowrap; max-width:192px; overflow:auto; text-align:left\">classify_breed<br />FixedSizeList[Utf8; 2]</th></tr></thead>\n",
       "<tbody>\n",
       "<tr><td><div style=\"text-align:left; max-width:192px; max-height:64px; overflow:auto\">Ernesto Evergreen</div></td><td><div style=\"text-align:left; max-width:192px; max-height:64px; overflow:auto\">true</div></td><td><div style=\"text-align:left; max-width:192px; max-height:64px; overflow:auto\">Ernie</div></td><td><div style=\"text-align:left; max-width:192px; max-height:64px; overflow:auto\">https://i.natgeofe.com/n/4f5aaece-3300-41a4-b2a8-ed2708a0a27c/domestic-dog_thumb_square.jpg?wp=1&amp;w=272&amp;h=272</div></td><td><div style=\"text-align:left; max-width:192px; max-height:64px; overflow:auto\">b\"\\xff\\xd8\\xff\\xe0\\x00\\x10JFIF\\x00\\x01\"...</div></td><td><div style=\"text-align:left; max-width:192px; max-height:64px; overflow:auto\"><img style=\"max-height:128px;width:auto\" src=\"data:image/png;base64, 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\" alt=\"<Image>\" /></div></td><td><div style=\"text-align:left; max-width:192px; max-height:64px; overflow:auto\">[EntleBucher, 25.8%]</div></td></tr>\n",
       "<tr><td><div style=\"text-align:left; max-width:192px; max-height:64px; overflow:auto\">Jackie Jale</div></td><td><div style=\"text-align:left; max-width:192px; max-height:64px; overflow:auto\">true</div></td><td><div style=\"text-align:left; max-width:192px; max-height:64px; overflow:auto\">Jeckyll</div></td><td><div style=\"text-align:left; max-width:192px; max-height:64px; overflow:auto\">https://i.pinimg.com/736x/ab/e5/5f/abe55ff1a275ae726657fb1d03a37a97.jpg</div></td><td><div style=\"text-align:left; max-width:192px; max-height:64px; overflow:auto\">b\"\\xff\\xd8\\xff\\xe0\\x00\\x10JFIF\\x00\\x01\"...</div></td><td><div style=\"text-align:left; max-width:192px; max-height:64px; overflow:auto\"><img style=\"max-height:128px;width:auto\" src=\"data:image/png;base64, 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\" alt=\"<Image>\" /></div></td><td><div style=\"text-align:left; max-width:192px; max-height:64px; overflow:auto\">[Brittany spaniel, 16.4%]</div></td></tr>\n",
       "<tr><td><div style=\"text-align:left; max-width:192px; max-height:64px; overflow:auto\">Wolfgang Winter</div></td><td><div style=\"text-align:left; max-width:192px; max-height:64px; overflow:auto\">true</div></td><td><div style=\"text-align:left; max-width:192px; max-height:64px; overflow:auto\">Wolfie</div></td><td><div style=\"text-align:left; max-width:192px; max-height:64px; overflow:auto\">https://kb.rspca.org.au/wp-content/uploads/2018/11/golder-retriever-puppy.jpeg</div></td><td><div style=\"text-align:left; max-width:192px; max-height:64px; overflow:auto\">b\"\\xff\\xd8\\xff\\xe0\\x00\\x10JFIF\\x00\\x01\"...</div></td><td><div style=\"text-align:left; max-width:192px; max-height:64px; overflow:auto\"><img style=\"max-height:128px;width:auto\" src=\"data:image/png;base64, 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\" alt=\"<Image>\" /></div></td><td><div style=\"text-align:left; max-width:192px; max-height:64px; overflow:auto\">[golden retriever, 74.6%]</div></td></tr>\n",
       "<tr><td><div style=\"text-align:left; max-width:192px; max-height:64px; overflow:auto\">Sari Salama</div></td><td><div style=\"text-align:left; max-width:192px; max-height:64px; overflow:auto\">true</div></td><td><div style=\"text-align:left; max-width:192px; max-height:64px; overflow:auto\">Sally</div></td><td><div style=\"text-align:left; max-width:192px; max-height:64px; overflow:auto\">https://www.thesprucepets.com/thmb/hxWjs7evF2hP1Fb1c1HAvRi_Rw0=/2765x0/filters:no_upscale():strip_icc()/chinese-dog-breeds-4797219-hero-2a1e9c5ed2c54d00aef75b05c5db399c.jpg</div></td><td><div style=\"text-align:left; max-width:192px; max-height:64px; overflow:auto\">b\"\\xff\\xd8\\xff\\xe0\\x00\\x10JFIF\\x00\\x01\"...</div></td><td><div style=\"text-align:left; max-width:192px; max-height:64px; overflow:auto\"><img style=\"max-height:128px;width:auto\" src=\"data:image/png;base64, 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\" alt=\"<Image>\" /></div></td><td><div style=\"text-align:left; max-width:192px; max-height:64px; overflow:auto\">[pug, pug-dog, 71.8%]</div></td></tr>\n",
       "<tr><td><div style=\"text-align:left; max-width:192px; max-height:64px; overflow:auto\">Zoya Zee</div></td><td><div style=\"text-align:left; max-width:192px; max-height:64px; overflow:auto\">true</div></td><td><div style=\"text-align:left; max-width:192px; max-height:64px; overflow:auto\">Zackie</div></td><td><div style=\"text-align:left; max-width:192px; max-height:64px; overflow:auto\">https://www.dogstrust.org.uk/images/800x600/assets/2023-12/Web%20header%20image-dexter_outdoors_kenilworth_dogstrust.jpg</div></td><td><div style=\"text-align:left; max-width:192px; max-height:64px; overflow:auto\">b\"\\xff\\xd8\\xff\\xdb\\x00C\\x00\\x06\\x04\\x05\"...</div></td><td><div style=\"text-align:left; max-width:192px; max-height:64px; overflow:auto\"><img style=\"max-height:128px;width:auto\" src=\"data:image/png;base64, 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\" alt=\"<Image>\" /></div></td><td><div style=\"text-align:left; max-width:192px; max-height:64px; overflow:auto\">[Labrador retriever, 55.5%]</div></td></tr>\n",
       "</tbody>\n",
       "</table>\n",
       "<small>(Showing first 5 of 5 rows)</small>\n",
       "</div>"
      ],
      "text/plain": [
       "╭───────────────────┬─────────┬──────────┬────────────┬────────────────────────┬──────────────┬────────────────────────╮\n",
       "│ full_name         ┆ has_dog ┆ dog_name ┆      …     ┆ image_bytes            ┆ image        ┆ classify_breed         │\n",
       "│ ---               ┆ ---     ┆ ---      ┆            ┆ ---                    ┆ ---          ┆ ---                    │\n",
       "│ Utf8              ┆ Boolean ┆ Utf8     ┆ (1 hidden) ┆ Binary                 ┆ Image[MIXED] ┆ FixedSizeList[Utf8; 2] │\n",
       "╞═══════════════════╪═════════╪══════════╪════════════╪════════════════════════╪══════════════╪════════════════════════╡\n",
       "│ Ernesto Evergreen ┆ true    ┆ Ernie    ┆ …          ┆ b\"\\xff\\xd8\\xff\\xe0\\x00 ┆ <Image>      ┆ [EntleBucher, 25.8%]   │\n",
       "│                   ┆         ┆          ┆            ┆ \\x10JFI…               ┆              ┆                        │\n",
       "├╌╌╌╌╌╌╌╌╌╌╌╌╌╌╌╌╌╌╌┼╌╌╌╌╌╌╌╌╌┼╌╌╌╌╌╌╌╌╌╌┼╌╌╌╌╌╌╌╌╌╌╌╌┼╌╌╌╌╌╌╌╌╌╌╌╌╌╌╌╌╌╌╌╌╌╌╌╌┼╌╌╌╌╌╌╌╌╌╌╌╌╌╌┼╌╌╌╌╌╌╌╌╌╌╌╌╌╌╌╌╌╌╌╌╌╌╌╌┤\n",
       "│ Jackie Jale       ┆ true    ┆ Jeckyll  ┆ …          ┆ b\"\\xff\\xd8\\xff\\xe0\\x00 ┆ <Image>      ┆ [Brittany spaniel,     │\n",
       "│                   ┆         ┆          ┆            ┆ \\x10JFI…               ┆              ┆ 16.4%]                 │\n",
       "├╌╌╌╌╌╌╌╌╌╌╌╌╌╌╌╌╌╌╌┼╌╌╌╌╌╌╌╌╌┼╌╌╌╌╌╌╌╌╌╌┼╌╌╌╌╌╌╌╌╌╌╌╌┼╌╌╌╌╌╌╌╌╌╌╌╌╌╌╌╌╌╌╌╌╌╌╌╌┼╌╌╌╌╌╌╌╌╌╌╌╌╌╌┼╌╌╌╌╌╌╌╌╌╌╌╌╌╌╌╌╌╌╌╌╌╌╌╌┤\n",
       "│ Wolfgang Winter   ┆ true    ┆ Wolfie   ┆ …          ┆ b\"\\xff\\xd8\\xff\\xe0\\x00 ┆ <Image>      ┆ [golden retriever,     │\n",
       "│                   ┆         ┆          ┆            ┆ \\x10JFI…               ┆              ┆ 74.6%]                 │\n",
       "├╌╌╌╌╌╌╌╌╌╌╌╌╌╌╌╌╌╌╌┼╌╌╌╌╌╌╌╌╌┼╌╌╌╌╌╌╌╌╌╌┼╌╌╌╌╌╌╌╌╌╌╌╌┼╌╌╌╌╌╌╌╌╌╌╌╌╌╌╌╌╌╌╌╌╌╌╌╌┼╌╌╌╌╌╌╌╌╌╌╌╌╌╌┼╌╌╌╌╌╌╌╌╌╌╌╌╌╌╌╌╌╌╌╌╌╌╌╌┤\n",
       "│ Sari Salama       ┆ true    ┆ Sally    ┆ …          ┆ b\"\\xff\\xd8\\xff\\xe0\\x00 ┆ <Image>      ┆ [pug, pug-dog, 71.8%]  │\n",
       "│                   ┆         ┆          ┆            ┆ \\x10JFI…               ┆              ┆                        │\n",
       "├╌╌╌╌╌╌╌╌╌╌╌╌╌╌╌╌╌╌╌┼╌╌╌╌╌╌╌╌╌┼╌╌╌╌╌╌╌╌╌╌┼╌╌╌╌╌╌╌╌╌╌╌╌┼╌╌╌╌╌╌╌╌╌╌╌╌╌╌╌╌╌╌╌╌╌╌╌╌┼╌╌╌╌╌╌╌╌╌╌╌╌╌╌┼╌╌╌╌╌╌╌╌╌╌╌╌╌╌╌╌╌╌╌╌╌╌╌╌┤\n",
       "│ Zoya Zee          ┆ true    ┆ Zackie   ┆ …          ┆ b\"\\xff\\xd8\\xff\\xdb\\x00 ┆ <Image>      ┆ [Labrador retriever,   │\n",
       "│                   ┆         ┆          ┆            ┆ C\\x00\\x…               ┆              ┆ 55.5%]                 │\n",
       "╰───────────────────┴─────────┴──────────┴────────────┴────────────────────────┴──────────────┴────────────────────────╯\n",
       "\n",
       "(Showing first 5 of 5 rows)"
      ]
     },
     "metadata": {},
     "output_type": "display_data"
    }
   ],
   "source": [
    "classified_images_df = df_family.with_column(\"classify_breed\", ClassifyImages(daft.col(\"urls\")))\n",
    "\n",
    "classified_images_df.show()"
   ]
  },
  {
   "cell_type": "markdown",
   "metadata": {},
   "source": [
    "Nice work!\n",
    "\n",
    "It looks like our pre-trained model is more familiar with some specific breeds. You could do further work to fine-tune this model to improve performance."
   ]
  },
  {
   "attachments": {},
   "cell_type": "markdown",
   "metadata": {},
   "source": [
    "## Writing Data\n",
    "\n",
    "See: [Writing Data](df-writing-data)\n",
    "\n",
    "Writing data will execute your DataFrame and write the results out to the specified backend. For example, to write data out to Parquet with {meth}`df.write_parquet() <daft.DataFrame.write_parquet>`:\n"
   ]
  },
  {
   "cell_type": "code",
   "execution_count": 30,
   "metadata": {
    "tags": []
   },
   "outputs": [
    {
     "name": "stderr",
     "output_type": "stream",
     "text": [
      "                                                                                                                            \r"
     ]
    }
   ],
   "source": [
    "written_df = df.write_parquet(\"my-dataframe.parquet\")"
   ]
  },
  {
   "attachments": {},
   "cell_type": "markdown",
   "metadata": {},
   "source": [
    "Note that writing your dataframe is a **blocking** operation that executes your DataFrame. It will return a new `DataFrame` that contains the filepaths to the written data:"
   ]
  },
  {
   "cell_type": "code",
   "execution_count": 31,
   "metadata": {
    "tags": []
   },
   "outputs": [
    {
     "data": {
      "text/html": [
       "<div>\n",
       "<table class=\"dataframe\">\n",
       "<thead><tr><th style=\"text-wrap: nowrap; max-width:192px; overflow:auto; text-align:left\">path<br />Utf8</th></tr></thead>\n",
       "<tbody>\n",
       "<tr><td><div style=\"text-align:left; max-width:192px; max-height:64px; overflow:auto\">my-dataframe.parquet/f9896ff6-7fee-4af0-a7fb-b238a64848bf-0.parquet</div></td></tr>\n",
       "</tbody>\n",
       "</table>\n",
       "<small>(Showing first 1 of 1 rows)</small>\n",
       "</div>"
      ],
      "text/plain": [
       "╭────────────────────────────────╮\n",
       "│ path                           │\n",
       "│ ---                            │\n",
       "│ Utf8                           │\n",
       "╞════════════════════════════════╡\n",
       "│ my-dataframe.parquet/f9896ff6… │\n",
       "╰────────────────────────────────╯\n",
       "\n",
       "(Showing first 1 of 1 rows)"
      ]
     },
     "execution_count": 31,
     "metadata": {},
     "output_type": "execute_result"
    }
   ],
   "source": [
    "written_df"
   ]
  },
  {
   "cell_type": "markdown",
   "metadata": {},
   "source": [
    "## What's Next?\n",
    "\n",
    "Now that you have a basic sense of Daft's functionality and features, take a look at some of the other resources to help you get the most out of Daft:\n",
    "\n",
    "- [The Daft User Guide](/user_guide/index.rst) for more information on specific topics\n",
    "- Hands-on Tutorials in Google Colab on:\n",
    "   - Image Classification\n",
    "   - NLP Similarity Search / Vector Embedding\n",
    "   - Querying Images\n",
    "   - Image Generation with GPUs\n",
    "\n",
    "\n",
    "### Contributing\n",
    "Excited about Daft and want to contribute? Join us [on Github](https://github.com/Eventual-Inc/Daft) 🚀"
   ]
  }
 ],
 "metadata": {
  "kernelspec": {
   "display_name": "Python [conda env:pytorch] *",
   "language": "python",
   "name": "conda-env-pytorch-py"
  },
  "language_info": {
   "codemirror_mode": {
    "name": "ipython",
    "version": 3
   },
   "file_extension": ".py",
   "mimetype": "text/x-python",
   "name": "python",
   "nbconvert_exporter": "python",
   "pygments_lexer": "ipython3",
   "version": "3.11.8"
  },
  "vscode": {
   "interpreter": {
    "hash": "e5d77f7bd5a748e4f6412a25f9708ab7af36936de941fc795d1a6b75eb2da082"
   }
  }
 },
 "nbformat": 4,
 "nbformat_minor": 4
}
