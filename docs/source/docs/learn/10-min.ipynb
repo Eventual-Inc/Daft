{
 "cells": [
  {
   "cell_type": "markdown",
   "metadata": {},
   "source": [
    "# 10 minutes to Daft\n",
    "\n",
    "This is a short introduction to all the main functionality in Daft, geared towards new users.\n",
    "\n",
    "We import from daft as follows:"
   ]
  },
  {
   "cell_type": "code",
   "execution_count": 1,
   "metadata": {},
   "outputs": [],
   "source": [
    "from daft import DataFrame, col"
   ]
  },
  {
   "cell_type": "markdown",
   "metadata": {},
   "source": [
    "## DataFrame creation\n",
    "\n",
    "See also: [DataFrames User Guide: Loading Data](dataframe-loading-data)\n",
    "\n",
    "We can create a DataFrame from a dictionary of columns - this is a dictionary where the keys are strings representing the columns' names and the values are equal-length lists representing the columns' values."
   ]
  },
  {
   "cell_type": "code",
   "execution_count": 2,
   "metadata": {},
   "outputs": [
    {
     "name": "stderr",
     "output_type": "stream",
     "text": [
      "2022-11-28 20:21:07.726 | INFO     | daft.context:runner:85 - Using PyRunner\n"
     ]
    }
   ],
   "source": [
    "import datetime\n",
    "\n",
    "df = DataFrame.from_pydict({\n",
    "    \"A\": [1, 2, 3, 4],\n",
    "    \"B\": [1.5, 2.5, 3.5, 4.5],\n",
    "    \"C\": [True, True, False, False],\n",
    "    \"D\": [\"a\", \"b\", \"c\", \"d\"],\n",
    "    \"E\": [b\"a\", b\"b\", b\"c\", b\"d\"],\n",
    "    \"F\": [datetime.date(1994, 1, 1), datetime.date(1994, 1, 2), datetime.date(1994, 1, 3), datetime.date(1994, 1, 4)],\n",
    "    \"G\": [[1, 1, 1], [2, 2, 2], [3, 3, 3], [4, 4, 4]],\n",
    "})"
   ]
  },
  {
   "cell_type": "markdown",
   "metadata": {},
   "source": [
    "Check the schema of your dataframe by inspecting the `df` variable"
   ]
  },
  {
   "cell_type": "code",
   "execution_count": 3,
   "metadata": {},
   "outputs": [
    {
     "data": {
      "text/html": [
       "<table border=\"1\" class=\"dataframe\">\n",
       "  <thead>\n",
       "    <tr style=\"text-align: right;\">\n",
       "      <th>column_name</th>\n",
       "      <th>type</th>\n",
       "    </tr>\n",
       "  </thead>\n",
       "  <tbody>\n",
       "    <tr>\n",
       "      <td>A</td>\n",
       "      <td>INTEGER</td>\n",
       "    </tr>\n",
       "    <tr>\n",
       "      <td>B</td>\n",
       "      <td>FLOAT</td>\n",
       "    </tr>\n",
       "    <tr>\n",
       "      <td>C</td>\n",
       "      <td>LOGICAL</td>\n",
       "    </tr>\n",
       "    <tr>\n",
       "      <td>D</td>\n",
       "      <td>STRING</td>\n",
       "    </tr>\n",
       "    <tr>\n",
       "      <td>E</td>\n",
       "      <td>BYTES</td>\n",
       "    </tr>\n",
       "    <tr>\n",
       "      <td>F</td>\n",
       "      <td>DATE</td>\n",
       "    </tr>\n",
       "    <tr>\n",
       "      <td>G</td>\n",
       "      <td>PY[list]</td>\n",
       "    </tr>\n",
       "  </tbody>\n",
       "</table>"
      ],
      "text/plain": [
       "column_name     type\n",
       "          A  INTEGER\n",
       "          B    FLOAT\n",
       "          C  LOGICAL\n",
       "          D   STRING\n",
       "          E    BYTES\n",
       "          F     DATE\n",
       "          G PY[list]"
      ]
     },
     "execution_count": 3,
     "metadata": {},
     "output_type": "execute_result"
    }
   ],
   "source": [
    "df"
   ]
  },
  {
   "cell_type": "markdown",
   "metadata": {},
   "source": [
    "You can also load DataFrames from other sources, such as:\n",
    "\n",
    "1. CSV files: `DataFrame.read_csv(\"s3://bucket/*.csv\")`\n",
    "2. Parquet files: `DataFrame.read_parquet(\"/path/*.parquet\")`\n",
    "3. JSON line-delimited files: `DataFrame.read_json(\"/path/*.parquet\")`\n",
    "4. Files on disk: `DataFrame.from_files(\"/path/*.jpeg\")`\n",
    "\n",
    "Daft automatically supports local paths as well as paths to object storage such as AWS S3."
   ]
  },
  {
   "cell_type": "markdown",
   "metadata": {},
   "source": [
    "## Viewing Data\n",
    "\n",
    "Use `DataFrame.show(N)` to view N rows of the DataFrame."
   ]
  },
  {
   "cell_type": "code",
   "execution_count": 4,
   "metadata": {},
   "outputs": [
    {
     "data": {
      "text/html": [
       "\n",
       "        <div>\n",
       "            <table class=\"dataframe\">\n",
       "<thead>\n",
       "<tr><th style=\"text-align: right;\">  A<br>INTEGER</th><th style=\"text-align: right;\">  B<br>FLOAT</th><th>C<br>LOGICAL  </th><th>D<br>STRING  </th><th>E<br>BYTES  </th><th>F<br>DATE  </th><th>G<br>PY[list]  </th></tr>\n",
       "</thead>\n",
       "<tbody>\n",
       "<tr><td style=\"text-align: right;\">             1</td><td style=\"text-align: right;\">         1.5</td><td>True          </td><td>a            </td><td>b'a'        </td><td>1994-01-01 </td><td>[1, 1, 1]      </td></tr>\n",
       "<tr><td style=\"text-align: right;\">             2</td><td style=\"text-align: right;\">         2.5</td><td>True          </td><td>b            </td><td>b'b'        </td><td>1994-01-02 </td><td>[2, 2, 2]      </td></tr>\n",
       "</tbody>\n",
       "</table>\n",
       "            <small>(Showing first 2 rows)</small>\n",
       "        </div>\n",
       "    "
      ],
      "text/plain": [
       "+-----------+---------+-----------+----------+---------+------------+------------+\n",
       "|         A |       B | C         | D        | E       | F          | G          |\n",
       "|   INTEGER |   FLOAT | LOGICAL   | STRING   | BYTES   | DATE       | PY[list]   |\n",
       "+===========+=========+===========+==========+=========+============+============+\n",
       "|         1 |     1.5 | True      | a        | b'a'    | 1994-01-01 | [1, 1, 1]  |\n",
       "+-----------+---------+-----------+----------+---------+------------+------------+\n",
       "|         2 |     2.5 | True      | b        | b'b'    | 1994-01-02 | [2, 2, 2]  |\n",
       "+-----------+---------+-----------+----------+---------+------------+------------+"
      ]
     },
     "execution_count": 4,
     "metadata": {},
     "output_type": "execute_result"
    }
   ],
   "source": [
    "df.show(2)"
   ]
  },
  {
   "cell_type": "markdown",
   "metadata": {},
   "source": [
    "You can sort a dataframe with `DataFrame.sort` - let's do that here and retrieve 2 rows again but after sorting on A in descending order:"
   ]
  },
  {
   "cell_type": "code",
   "execution_count": 5,
   "metadata": {},
   "outputs": [
    {
     "data": {
      "text/html": [
       "\n",
       "        <div>\n",
       "            <table class=\"dataframe\">\n",
       "<thead>\n",
       "<tr><th style=\"text-align: right;\">  A<br>INTEGER</th><th style=\"text-align: right;\">  B<br>FLOAT</th><th>C<br>LOGICAL  </th><th>D<br>STRING  </th><th>E<br>BYTES  </th><th>F<br>DATE  </th><th>G<br>PY[list]  </th></tr>\n",
       "</thead>\n",
       "<tbody>\n",
       "<tr><td style=\"text-align: right;\">             4</td><td style=\"text-align: right;\">         4.5</td><td>False         </td><td>d            </td><td>b'd'        </td><td>1994-01-04 </td><td>[4, 4, 4]      </td></tr>\n",
       "<tr><td style=\"text-align: right;\">             3</td><td style=\"text-align: right;\">         3.5</td><td>False         </td><td>c            </td><td>b'c'        </td><td>1994-01-03 </td><td>[3, 3, 3]      </td></tr>\n",
       "</tbody>\n",
       "</table>\n",
       "            <small>(Showing first 2 rows)</small>\n",
       "        </div>\n",
       "    "
      ],
      "text/plain": [
       "+-----------+---------+-----------+----------+---------+------------+------------+\n",
       "|         A |       B | C         | D        | E       | F          | G          |\n",
       "|   INTEGER |   FLOAT | LOGICAL   | STRING   | BYTES   | DATE       | PY[list]   |\n",
       "+===========+=========+===========+==========+=========+============+============+\n",
       "|         4 |     4.5 | False     | d        | b'd'    | 1994-01-04 | [4, 4, 4]  |\n",
       "+-----------+---------+-----------+----------+---------+------------+------------+\n",
       "|         3 |     3.5 | False     | c        | b'c'    | 1994-01-03 | [3, 3, 3]  |\n",
       "+-----------+---------+-----------+----------+---------+------------+------------+"
      ]
     },
     "execution_count": 5,
     "metadata": {},
     "output_type": "execute_result"
    }
   ],
   "source": [
    "df.sort(df[\"A\"], desc=True).show(2)"
   ]
  },
  {
   "cell_type": "markdown",
   "metadata": {},
   "source": [
    "To retrieve all the column names:"
   ]
  },
  {
   "cell_type": "code",
   "execution_count": 6,
   "metadata": {},
   "outputs": [
    {
     "data": {
      "text/plain": [
       "['A', 'B', 'C', 'D', 'E', 'F', 'G']"
      ]
     },
     "execution_count": 6,
     "metadata": {},
     "output_type": "execute_result"
    }
   ],
   "source": [
    "df.column_names"
   ]
  },
  {
   "cell_type": "markdown",
   "metadata": {},
   "source": [
    "You can also convert a DataFrame to a Pandas DataFrame:"
   ]
  },
  {
   "cell_type": "code",
   "execution_count": 7,
   "metadata": {},
   "outputs": [
    {
     "data": {
      "text/html": [
       "<div>\n",
       "<style scoped>\n",
       "    .dataframe tbody tr th:only-of-type {\n",
       "        vertical-align: middle;\n",
       "    }\n",
       "\n",
       "    .dataframe tbody tr th {\n",
       "        vertical-align: top;\n",
       "    }\n",
       "\n",
       "    .dataframe thead th {\n",
       "        text-align: right;\n",
       "    }\n",
       "</style>\n",
       "<table border=\"1\" class=\"dataframe\">\n",
       "  <thead>\n",
       "    <tr style=\"text-align: right;\">\n",
       "      <th></th>\n",
       "      <th>A</th>\n",
       "      <th>B</th>\n",
       "      <th>C</th>\n",
       "      <th>D</th>\n",
       "      <th>E</th>\n",
       "      <th>F</th>\n",
       "      <th>G</th>\n",
       "    </tr>\n",
       "  </thead>\n",
       "  <tbody>\n",
       "    <tr>\n",
       "      <th>0</th>\n",
       "      <td>1</td>\n",
       "      <td>1.5</td>\n",
       "      <td>True</td>\n",
       "      <td>a</td>\n",
       "      <td>b'a'</td>\n",
       "      <td>1994-01-01</td>\n",
       "      <td>[1, 1, 1]</td>\n",
       "    </tr>\n",
       "    <tr>\n",
       "      <th>1</th>\n",
       "      <td>2</td>\n",
       "      <td>2.5</td>\n",
       "      <td>True</td>\n",
       "      <td>b</td>\n",
       "      <td>b'b'</td>\n",
       "      <td>1994-01-02</td>\n",
       "      <td>[2, 2, 2]</td>\n",
       "    </tr>\n",
       "    <tr>\n",
       "      <th>2</th>\n",
       "      <td>3</td>\n",
       "      <td>3.5</td>\n",
       "      <td>False</td>\n",
       "      <td>c</td>\n",
       "      <td>b'c'</td>\n",
       "      <td>1994-01-03</td>\n",
       "      <td>[3, 3, 3]</td>\n",
       "    </tr>\n",
       "    <tr>\n",
       "      <th>3</th>\n",
       "      <td>4</td>\n",
       "      <td>4.5</td>\n",
       "      <td>False</td>\n",
       "      <td>d</td>\n",
       "      <td>b'd'</td>\n",
       "      <td>1994-01-04</td>\n",
       "      <td>[4, 4, 4]</td>\n",
       "    </tr>\n",
       "  </tbody>\n",
       "</table>\n",
       "</div>"
      ],
      "text/plain": [
       "   A    B      C  D     E           F          G\n",
       "0  1  1.5   True  a  b'a'  1994-01-01  [1, 1, 1]\n",
       "1  2  2.5   True  b  b'b'  1994-01-02  [2, 2, 2]\n",
       "2  3  3.5  False  c  b'c'  1994-01-03  [3, 3, 3]\n",
       "3  4  4.5  False  d  b'd'  1994-01-04  [4, 4, 4]"
      ]
     },
     "execution_count": 7,
     "metadata": {},
     "output_type": "execute_result"
    }
   ],
   "source": [
    "df.to_pandas()"
   ]
  },
  {
   "cell_type": "markdown",
   "metadata": {},
   "source": [
    "## Data Selection\n",
    "\n",
    "You can limit the number of rows in a dataframe by calling `DataFrame.limit`."
   ]
  },
  {
   "cell_type": "code",
   "execution_count": 8,
   "metadata": {},
   "outputs": [
    {
     "data": {
      "text/html": [
       "\n",
       "        <div>\n",
       "            <table class=\"dataframe\">\n",
       "<thead>\n",
       "<tr><th style=\"text-align: right;\">  A<br>INTEGER</th><th style=\"text-align: right;\">  B<br>FLOAT</th><th>C<br>LOGICAL  </th><th>D<br>STRING  </th><th>E<br>BYTES  </th><th>F<br>DATE  </th><th>G<br>PY[list]  </th></tr>\n",
       "</thead>\n",
       "<tbody>\n",
       "<tr><td style=\"text-align: right;\">             1</td><td style=\"text-align: right;\">         1.5</td><td>True          </td><td>a            </td><td>b'a'        </td><td>1994-01-01 </td><td>[1, 1, 1]      </td></tr>\n",
       "</tbody>\n",
       "</table>\n",
       "            <small>(Showing first 1 rows)</small>\n",
       "        </div>\n",
       "    "
      ],
      "text/plain": [
       "+-----------+---------+-----------+----------+---------+------------+------------+\n",
       "|         A |       B | C         | D        | E       | F          | G          |\n",
       "|   INTEGER |   FLOAT | LOGICAL   | STRING   | BYTES   | DATE       | PY[list]   |\n",
       "+===========+=========+===========+==========+=========+============+============+\n",
       "|         1 |     1.5 | True      | a        | b'a'    | 1994-01-01 | [1, 1, 1]  |\n",
       "+-----------+---------+-----------+----------+---------+------------+------------+"
      ]
     },
     "execution_count": 8,
     "metadata": {},
     "output_type": "execute_result"
    }
   ],
   "source": [
    "df_limited = df.limit(1)\n",
    "df_limited.show()"
   ]
  },
  {
   "cell_type": "markdown",
   "metadata": {},
   "source": [
    "To select just a few columns, you can use `DataFrame.select`:"
   ]
  },
  {
   "cell_type": "code",
   "execution_count": 9,
   "metadata": {},
   "outputs": [
    {
     "data": {
      "text/html": [
       "\n",
       "        <div>\n",
       "            <table class=\"dataframe\">\n",
       "<thead>\n",
       "<tr><th style=\"text-align: right;\">  A<br>INTEGER</th><th style=\"text-align: right;\">  B<br>FLOAT</th></tr>\n",
       "</thead>\n",
       "<tbody>\n",
       "<tr><td style=\"text-align: right;\">             1</td><td style=\"text-align: right;\">         1.5</td></tr>\n",
       "<tr><td style=\"text-align: right;\">             2</td><td style=\"text-align: right;\">         2.5</td></tr>\n",
       "<tr><td style=\"text-align: right;\">             3</td><td style=\"text-align: right;\">         3.5</td></tr>\n",
       "<tr><td style=\"text-align: right;\">             4</td><td style=\"text-align: right;\">         4.5</td></tr>\n",
       "</tbody>\n",
       "</table>\n",
       "            <small>(Showing first 4 rows)</small>\n",
       "        </div>\n",
       "    "
      ],
      "text/plain": [
       "+-----------+---------+\n",
       "|         A |       B |\n",
       "|   INTEGER |   FLOAT |\n",
       "+===========+=========+\n",
       "|         1 |     1.5 |\n",
       "+-----------+---------+\n",
       "|         2 |     2.5 |\n",
       "+-----------+---------+\n",
       "|         3 |     3.5 |\n",
       "+-----------+---------+\n",
       "|         4 |     4.5 |\n",
       "+-----------+---------+"
      ]
     },
     "execution_count": 9,
     "metadata": {},
     "output_type": "execute_result"
    }
   ],
   "source": [
    "df_selected = df.select(df[\"A\"], df[\"B\"])\n",
    "df_selected.show()"
   ]
  },
  {
   "cell_type": "markdown",
   "metadata": {},
   "source": [
    "Column selection also allows you to rename columns using `Expression.alias`:"
   ]
  },
  {
   "cell_type": "code",
   "execution_count": 10,
   "metadata": {},
   "outputs": [
    {
     "data": {
      "text/html": [
       "\n",
       "        <div>\n",
       "            <table class=\"dataframe\">\n",
       "<thead>\n",
       "<tr><th style=\"text-align: right;\">  A2<br>INTEGER</th><th style=\"text-align: right;\">  B<br>FLOAT</th></tr>\n",
       "</thead>\n",
       "<tbody>\n",
       "<tr><td style=\"text-align: right;\">              1</td><td style=\"text-align: right;\">         1.5</td></tr>\n",
       "<tr><td style=\"text-align: right;\">              2</td><td style=\"text-align: right;\">         2.5</td></tr>\n",
       "<tr><td style=\"text-align: right;\">              3</td><td style=\"text-align: right;\">         3.5</td></tr>\n",
       "<tr><td style=\"text-align: right;\">              4</td><td style=\"text-align: right;\">         4.5</td></tr>\n",
       "</tbody>\n",
       "</table>\n",
       "            <small>(Showing first 4 rows)</small>\n",
       "        </div>\n",
       "    "
      ],
      "text/plain": [
       "+-----------+---------+\n",
       "|        A2 |       B |\n",
       "|   INTEGER |   FLOAT |\n",
       "+===========+=========+\n",
       "|         1 |     1.5 |\n",
       "+-----------+---------+\n",
       "|         2 |     2.5 |\n",
       "+-----------+---------+\n",
       "|         3 |     3.5 |\n",
       "+-----------+---------+\n",
       "|         4 |     4.5 |\n",
       "+-----------+---------+"
      ]
     },
     "execution_count": 10,
     "metadata": {},
     "output_type": "execute_result"
    }
   ],
   "source": [
    "df_renamed = df.select(df[\"A\"].alias(\"A2\"), df[\"B\"])\n",
    "df_renamed.show()"
   ]
  },
  {
   "cell_type": "markdown",
   "metadata": {},
   "source": [
    "To drop columns from the dataframe, call `DataFrame.exclude`:"
   ]
  },
  {
   "cell_type": "code",
   "execution_count": 11,
   "metadata": {},
   "outputs": [
    {
     "data": {
      "text/html": [
       "\n",
       "        <div>\n",
       "            <table class=\"dataframe\">\n",
       "<thead>\n",
       "<tr><th style=\"text-align: right;\">  B<br>FLOAT</th><th>C<br>LOGICAL  </th><th>D<br>STRING  </th><th>E<br>BYTES  </th><th>F<br>DATE  </th><th>G<br>PY[list]  </th></tr>\n",
       "</thead>\n",
       "<tbody>\n",
       "<tr><td style=\"text-align: right;\">         1.5</td><td>True          </td><td>a            </td><td>b'a'        </td><td>1994-01-01 </td><td>[1, 1, 1]      </td></tr>\n",
       "<tr><td style=\"text-align: right;\">         2.5</td><td>True          </td><td>b            </td><td>b'b'        </td><td>1994-01-02 </td><td>[2, 2, 2]      </td></tr>\n",
       "<tr><td style=\"text-align: right;\">         3.5</td><td>False         </td><td>c            </td><td>b'c'        </td><td>1994-01-03 </td><td>[3, 3, 3]      </td></tr>\n",
       "<tr><td style=\"text-align: right;\">         4.5</td><td>False         </td><td>d            </td><td>b'd'        </td><td>1994-01-04 </td><td>[4, 4, 4]      </td></tr>\n",
       "</tbody>\n",
       "</table>\n",
       "            <small>(Showing first 4 rows)</small>\n",
       "        </div>\n",
       "    "
      ],
      "text/plain": [
       "+---------+-----------+----------+---------+------------+------------+\n",
       "|       B | C         | D        | E       | F          | G          |\n",
       "|   FLOAT | LOGICAL   | STRING   | BYTES   | DATE       | PY[list]   |\n",
       "+=========+===========+==========+=========+============+============+\n",
       "|     1.5 | True      | a        | b'a'    | 1994-01-01 | [1, 1, 1]  |\n",
       "+---------+-----------+----------+---------+------------+------------+\n",
       "|     2.5 | True      | b        | b'b'    | 1994-01-02 | [2, 2, 2]  |\n",
       "+---------+-----------+----------+---------+------------+------------+\n",
       "|     3.5 | False     | c        | b'c'    | 1994-01-03 | [3, 3, 3]  |\n",
       "+---------+-----------+----------+---------+------------+------------+\n",
       "|     4.5 | False     | d        | b'd'    | 1994-01-04 | [4, 4, 4]  |\n",
       "+---------+-----------+----------+---------+------------+------------+"
      ]
     },
     "execution_count": 11,
     "metadata": {},
     "output_type": "execute_result"
    }
   ],
   "source": [
    "df_excluded = df.exclude(\"A\")\n",
    "df_excluded.show()"
   ]
  },
  {
   "cell_type": "markdown",
   "metadata": {},
   "source": [
    "## Operations\n",
    "\n",
    "See: [Expressions](user_guides/expressions.rst)\n",
    "\n",
    "Expressions are an API for defining computation that needs to happen over your columns. Daft is **lazy**, which means that it does not execute computation when you define it with expressions, but only when you [execute the DataFrame](user-guide-execution) with something such as a `DataFrame.show()`.\n",
    "\n",
    "For example, to create a new column that is just the column A incremented by 1:"
   ]
  },
  {
   "cell_type": "code",
   "execution_count": 12,
   "metadata": {},
   "outputs": [
    {
     "data": {
      "text/html": [
       "\n",
       "        <div>\n",
       "            <table class=\"dataframe\">\n",
       "<thead>\n",
       "<tr><th style=\"text-align: right;\">  A<br>INTEGER</th><th style=\"text-align: right;\">  B<br>FLOAT</th><th>C<br>LOGICAL  </th><th>D<br>STRING  </th><th>E<br>BYTES  </th><th>F<br>DATE  </th><th>G<br>PY[list]  </th><th style=\"text-align: right;\">  A_plus1<br>INTEGER</th></tr>\n",
       "</thead>\n",
       "<tbody>\n",
       "<tr><td style=\"text-align: right;\">             1</td><td style=\"text-align: right;\">         1.5</td><td>True          </td><td>a            </td><td>b'a'        </td><td>1994-01-01 </td><td>[1, 1, 1]      </td><td style=\"text-align: right;\">                   2</td></tr>\n",
       "<tr><td style=\"text-align: right;\">             2</td><td style=\"text-align: right;\">         2.5</td><td>True          </td><td>b            </td><td>b'b'        </td><td>1994-01-02 </td><td>[2, 2, 2]      </td><td style=\"text-align: right;\">                   3</td></tr>\n",
       "<tr><td style=\"text-align: right;\">             3</td><td style=\"text-align: right;\">         3.5</td><td>False         </td><td>c            </td><td>b'c'        </td><td>1994-01-03 </td><td>[3, 3, 3]      </td><td style=\"text-align: right;\">                   4</td></tr>\n",
       "<tr><td style=\"text-align: right;\">             4</td><td style=\"text-align: right;\">         4.5</td><td>False         </td><td>d            </td><td>b'd'        </td><td>1994-01-04 </td><td>[4, 4, 4]      </td><td style=\"text-align: right;\">                   5</td></tr>\n",
       "</tbody>\n",
       "</table>\n",
       "            <small>(Showing first 4 rows)</small>\n",
       "        </div>\n",
       "    "
      ],
      "text/plain": [
       "+-----------+---------+-----------+----------+---------+------------+------------+-----------+\n",
       "|         A |       B | C         | D        | E       | F          | G          |   A_plus1 |\n",
       "|   INTEGER |   FLOAT | LOGICAL   | STRING   | BYTES   | DATE       | PY[list]   |   INTEGER |\n",
       "+===========+=========+===========+==========+=========+============+============+===========+\n",
       "|         1 |     1.5 | True      | a        | b'a'    | 1994-01-01 | [1, 1, 1]  |         2 |\n",
       "+-----------+---------+-----------+----------+---------+------------+------------+-----------+\n",
       "|         2 |     2.5 | True      | b        | b'b'    | 1994-01-02 | [2, 2, 2]  |         3 |\n",
       "+-----------+---------+-----------+----------+---------+------------+------------+-----------+\n",
       "|         3 |     3.5 | False     | c        | b'c'    | 1994-01-03 | [3, 3, 3]  |         4 |\n",
       "+-----------+---------+-----------+----------+---------+------------+------------+-----------+\n",
       "|         4 |     4.5 | False     | d        | b'd'    | 1994-01-04 | [4, 4, 4]  |         5 |\n",
       "+-----------+---------+-----------+----------+---------+------------+------------+-----------+"
      ]
     },
     "execution_count": 12,
     "metadata": {},
     "output_type": "execute_result"
    }
   ],
   "source": [
    "df_A_plus1 = df.with_column(\"A_plus1\", df[\"A\"] + 1)  # does not run any computation\n",
    "df_A_plus1.show()  # runs all the computations defined on the dataframe, and displays it"
   ]
  },
  {
   "cell_type": "markdown",
   "metadata": {},
   "source": [
    "### Method Accessors\n",
    "\n",
    "Some Expression methods are only allowed on certain types and are accessible through \"method accessors\" such as the `Expression.str` accessor (see: [Expression Accessor Properties](expression-accessor-properties)).\n",
    "\n",
    "For example, the `.str.length()` expression is only valid when run on a STRING column:"
   ]
  },
  {
   "cell_type": "code",
   "execution_count": 13,
   "metadata": {},
   "outputs": [
    {
     "data": {
      "text/html": [
       "\n",
       "        <div>\n",
       "            <table class=\"dataframe\">\n",
       "<thead>\n",
       "<tr><th style=\"text-align: right;\">  A<br>INTEGER</th><th style=\"text-align: right;\">  B<br>FLOAT</th><th>C<br>LOGICAL  </th><th>D<br>STRING  </th><th>E<br>BYTES  </th><th>F<br>DATE  </th><th>G<br>PY[list]  </th><th style=\"text-align: right;\">  D_length<br>INTEGER</th></tr>\n",
       "</thead>\n",
       "<tbody>\n",
       "<tr><td style=\"text-align: right;\">             1</td><td style=\"text-align: right;\">         1.5</td><td>True          </td><td>a            </td><td>b'a'        </td><td>1994-01-01 </td><td>[1, 1, 1]      </td><td style=\"text-align: right;\">                    1</td></tr>\n",
       "<tr><td style=\"text-align: right;\">             2</td><td style=\"text-align: right;\">         2.5</td><td>True          </td><td>b            </td><td>b'b'        </td><td>1994-01-02 </td><td>[2, 2, 2]      </td><td style=\"text-align: right;\">                    1</td></tr>\n",
       "<tr><td style=\"text-align: right;\">             3</td><td style=\"text-align: right;\">         3.5</td><td>False         </td><td>c            </td><td>b'c'        </td><td>1994-01-03 </td><td>[3, 3, 3]      </td><td style=\"text-align: right;\">                    1</td></tr>\n",
       "<tr><td style=\"text-align: right;\">             4</td><td style=\"text-align: right;\">         4.5</td><td>False         </td><td>d            </td><td>b'd'        </td><td>1994-01-04 </td><td>[4, 4, 4]      </td><td style=\"text-align: right;\">                    1</td></tr>\n",
       "</tbody>\n",
       "</table>\n",
       "            <small>(Showing first 4 rows)</small>\n",
       "        </div>\n",
       "    "
      ],
      "text/plain": [
       "+-----------+---------+-----------+----------+---------+------------+------------+------------+\n",
       "|         A |       B | C         | D        | E       | F          | G          |   D_length |\n",
       "|   INTEGER |   FLOAT | LOGICAL   | STRING   | BYTES   | DATE       | PY[list]   |    INTEGER |\n",
       "+===========+=========+===========+==========+=========+============+============+============+\n",
       "|         1 |     1.5 | True      | a        | b'a'    | 1994-01-01 | [1, 1, 1]  |          1 |\n",
       "+-----------+---------+-----------+----------+---------+------------+------------+------------+\n",
       "|         2 |     2.5 | True      | b        | b'b'    | 1994-01-02 | [2, 2, 2]  |          1 |\n",
       "+-----------+---------+-----------+----------+---------+------------+------------+------------+\n",
       "|         3 |     3.5 | False     | c        | b'c'    | 1994-01-03 | [3, 3, 3]  |          1 |\n",
       "+-----------+---------+-----------+----------+---------+------------+------------+------------+\n",
       "|         4 |     4.5 | False     | d        | b'd'    | 1994-01-04 | [4, 4, 4]  |          1 |\n",
       "+-----------+---------+-----------+----------+---------+------------+------------+------------+"
      ]
     },
     "execution_count": 13,
     "metadata": {},
     "output_type": "execute_result"
    }
   ],
   "source": [
    "df_E_length = df.with_column(\"D_length\", df[\"D\"].str.length())\n",
    "df_E_length.show()"
   ]
  },
  {
   "cell_type": "markdown",
   "metadata": {},
   "source": [
    "Another example of a useful method accessor is the `.url` accessor. You can use `.url.download()` to download data from a column of URLs like so:"
   ]
  },
  {
   "cell_type": "code",
   "execution_count": 14,
   "metadata": {},
   "outputs": [
    {
     "data": {
      "text/html": [
       "\n",
       "        <div>\n",
       "            <table class=\"dataframe\">\n",
       "<thead>\n",
       "<tr><th>urls<br>STRING                                              </th><th>image_bytes<br>BYTES                                        </th></tr>\n",
       "</thead>\n",
       "<tbody>\n",
       "<tr><td>http://farm9.staticflickr.com/8186/8119368305_4e622c8349_...</td><td>b'\\xff\\xd8\\xff\\xe1\\x00TExif\\x00\\x00MM\\x00*\\x00\\x00\\x00\\x0...</td></tr>\n",
       "<tr><td>http://farm1.staticflickr.com/1/127244861_ab0c0381e7_z.jpg  </td><td>b'\\xff\\xd8\\xff\\xe1\\x00(Exif\\x00\\x00MM\\x00*\\x00\\x00\\x00\\x0...</td></tr>\n",
       "<tr><td>http://farm3.staticflickr.com/2169/2118578392_1193aa04a0_...</td><td>b'\\xff\\xd8\\xff\\xe1\\x00\\x16Exif\\x00\\x00MM\\x00*\\x00\\x00\\x00...</td></tr>\n",
       "</tbody>\n",
       "</table>\n",
       "            <small>(Showing first 3 rows)</small>\n",
       "        </div>\n",
       "    "
      ],
      "text/plain": [
       "+----------------------+----------------------+\n",
       "| urls                 | image_bytes          |\n",
       "| STRING               | BYTES                |\n",
       "+======================+======================+\n",
       "| http://farm9.staticf | b'\\xff\\xd8\\xff\\xe1\\x |\n",
       "| lickr.com/8186/81193 | 00TExif\\x00\\x00MM\\x0 |\n",
       "| 68305_4e622c8349_... | 0*\\x00\\x00\\x00\\x0... |\n",
       "+----------------------+----------------------+\n",
       "| http://farm1.staticf | b'\\xff\\xd8\\xff\\xe1\\x |\n",
       "| lickr.com/1/12724486 | 00(Exif\\x00\\x00MM\\x0 |\n",
       "| 1_ab0c0381e7_z.jpg   | 0*\\x00\\x00\\x00\\x0... |\n",
       "+----------------------+----------------------+\n",
       "| http://farm3.staticf | b'\\xff\\xd8\\xff\\xe1\\x |\n",
       "| lickr.com/2169/21185 | 00\\x16Exif\\x00\\x00MM |\n",
       "| 78392_1193aa04a0_... | \\x00*\\x00\\x00\\x00... |\n",
       "+----------------------+----------------------+"
      ]
     },
     "execution_count": 14,
     "metadata": {},
     "output_type": "execute_result"
    }
   ],
   "source": [
    "image_url_df = DataFrame.from_pydict({\n",
    "    \"urls\": [\n",
    "        \"http://farm9.staticflickr.com/8186/8119368305_4e622c8349_z.jpg\",\n",
    "        \"http://farm1.staticflickr.com/1/127244861_ab0c0381e7_z.jpg\",\n",
    "        \"http://farm3.staticflickr.com/2169/2118578392_1193aa04a0_z.jpg\",\n",
    "    ],\n",
    "})\n",
    "image_downloaded_df = image_url_df.with_column(\"image_bytes\", image_url_df[\"urls\"].url.download())\n",
    "image_downloaded_df.show()"
   ]
  },
  {
   "cell_type": "markdown",
   "metadata": {},
   "source": [
    "For a full list of all Expression methods and operators, see: [Expressions API Docs](../api_docs/expressions.rst)"
   ]
  },
  {
   "cell_type": "markdown",
   "metadata": {},
   "source": [
    "## Operations on PY columns"
   ]
  },
  {
   "cell_type": "markdown",
   "metadata": {},
   "source": [
    "PY columns contain Python objects and operations called on these columns will be mapped on each object as well.\n",
    "\n",
    "To work with such columns, Daft provides a few useful Expression methods.\n",
    "\n",
    "For example, to repeat each list in column `G` 3 times, we can use the Python `list`'s native Python `*` operator:"
   ]
  },
  {
   "cell_type": "code",
   "execution_count": 15,
   "metadata": {},
   "outputs": [
    {
     "data": {
      "text/html": [
       "\n",
       "        <div>\n",
       "            <table class=\"dataframe\">\n",
       "<thead>\n",
       "<tr><th style=\"text-align: right;\">  A<br>INTEGER</th><th style=\"text-align: right;\">  B<br>FLOAT</th><th>C<br>LOGICAL  </th><th>D<br>STRING  </th><th>E<br>BYTES  </th><th>F<br>DATE  </th><th>G<br>PY[list]  </th><th>G_repeat<br>PY[object]     </th></tr>\n",
       "</thead>\n",
       "<tbody>\n",
       "<tr><td style=\"text-align: right;\">             1</td><td style=\"text-align: right;\">         1.5</td><td>True          </td><td>a            </td><td>b'a'        </td><td>1994-01-01 </td><td>[1, 1, 1]      </td><td>[1, 1, 1, 1, 1, 1, 1, 1, 1]</td></tr>\n",
       "<tr><td style=\"text-align: right;\">             2</td><td style=\"text-align: right;\">         2.5</td><td>True          </td><td>b            </td><td>b'b'        </td><td>1994-01-02 </td><td>[2, 2, 2]      </td><td>[2, 2, 2, 2, 2, 2, 2, 2, 2]</td></tr>\n",
       "<tr><td style=\"text-align: right;\">             3</td><td style=\"text-align: right;\">         3.5</td><td>False         </td><td>c            </td><td>b'c'        </td><td>1994-01-03 </td><td>[3, 3, 3]      </td><td>[3, 3, 3, 3, 3, 3, 3, 3, 3]</td></tr>\n",
       "<tr><td style=\"text-align: right;\">             4</td><td style=\"text-align: right;\">         4.5</td><td>False         </td><td>d            </td><td>b'd'        </td><td>1994-01-04 </td><td>[4, 4, 4]      </td><td>[4, 4, 4, 4, 4, 4, 4, 4, 4]</td></tr>\n",
       "</tbody>\n",
       "</table>\n",
       "            <small>(Showing first 4 rows)</small>\n",
       "        </div>\n",
       "    "
      ],
      "text/plain": [
       "+-----------+---------+-----------+----------+---------+------------+------------+--------------------+\n",
       "|         A |       B | C         | D        | E       | F          | G          | G_repeat           |\n",
       "|   INTEGER |   FLOAT | LOGICAL   | STRING   | BYTES   | DATE       | PY[list]   | PY[object]         |\n",
       "+===========+=========+===========+==========+=========+============+============+====================+\n",
       "|         1 |     1.5 | True      | a        | b'a'    | 1994-01-01 | [1, 1, 1]  | [1, 1, 1, 1, 1, 1, |\n",
       "|           |         |           |          |         |            |            | 1, 1, 1]           |\n",
       "+-----------+---------+-----------+----------+---------+------------+------------+--------------------+\n",
       "|         2 |     2.5 | True      | b        | b'b'    | 1994-01-02 | [2, 2, 2]  | [2, 2, 2, 2, 2, 2, |\n",
       "|           |         |           |          |         |            |            | 2, 2, 2]           |\n",
       "+-----------+---------+-----------+----------+---------+------------+------------+--------------------+\n",
       "|         3 |     3.5 | False     | c        | b'c'    | 1994-01-03 | [3, 3, 3]  | [3, 3, 3, 3, 3, 3, |\n",
       "|           |         |           |          |         |            |            | 3, 3, 3]           |\n",
       "+-----------+---------+-----------+----------+---------+------------+------------+--------------------+\n",
       "|         4 |     4.5 | False     | d        | b'd'    | 1994-01-04 | [4, 4, 4]  | [4, 4, 4, 4, 4, 4, |\n",
       "|           |         |           |          |         |            |            | 4, 4, 4]           |\n",
       "+-----------+---------+-----------+----------+---------+------------+------------+--------------------+"
      ]
     },
     "execution_count": 15,
     "metadata": {},
     "output_type": "execute_result"
    }
   ],
   "source": [
    "df_G_extend_0 = df.with_column(\"G_repeat\", df[\"G\"] * 3)\n",
    "df_G_extend_0.show()"
   ]
  },
  {
   "cell_type": "markdown",
   "metadata": {},
   "source": [
    "To call a method on each list in column `G`, we can use the `.as_py` method. For example, here we use the Python `list`'s `.count()` method to count the number of occurences of the integer in column A:"
   ]
  },
  {
   "cell_type": "code",
   "execution_count": 16,
   "metadata": {},
   "outputs": [
    {
     "data": {
      "text/html": [
       "\n",
       "        <div>\n",
       "            <table class=\"dataframe\">\n",
       "<thead>\n",
       "<tr><th style=\"text-align: right;\">  A<br>INTEGER</th><th style=\"text-align: right;\">  B<br>FLOAT</th><th>C<br>LOGICAL  </th><th>D<br>STRING  </th><th>E<br>BYTES  </th><th>F<br>DATE  </th><th>G<br>PY[list]  </th><th style=\"text-align: right;\">  G_count_A<br>PY[object]</th></tr>\n",
       "</thead>\n",
       "<tbody>\n",
       "<tr><td style=\"text-align: right;\">             1</td><td style=\"text-align: right;\">         1.5</td><td>True          </td><td>a            </td><td>b'a'        </td><td>1994-01-01 </td><td>[1, 1, 1]      </td><td style=\"text-align: right;\">                        3</td></tr>\n",
       "<tr><td style=\"text-align: right;\">             2</td><td style=\"text-align: right;\">         2.5</td><td>True          </td><td>b            </td><td>b'b'        </td><td>1994-01-02 </td><td>[2, 2, 2]      </td><td style=\"text-align: right;\">                        3</td></tr>\n",
       "<tr><td style=\"text-align: right;\">             3</td><td style=\"text-align: right;\">         3.5</td><td>False         </td><td>c            </td><td>b'c'        </td><td>1994-01-03 </td><td>[3, 3, 3]      </td><td style=\"text-align: right;\">                        3</td></tr>\n",
       "<tr><td style=\"text-align: right;\">             4</td><td style=\"text-align: right;\">         4.5</td><td>False         </td><td>d            </td><td>b'd'        </td><td>1994-01-04 </td><td>[4, 4, 4]      </td><td style=\"text-align: right;\">                        3</td></tr>\n",
       "</tbody>\n",
       "</table>\n",
       "            <small>(Showing first 4 rows)</small>\n",
       "        </div>\n",
       "    "
      ],
      "text/plain": [
       "+-----------+---------+-----------+----------+---------+------------+------------+--------------+\n",
       "|         A |       B | C         | D        | E       | F          | G          |    G_count_A |\n",
       "|   INTEGER |   FLOAT | LOGICAL   | STRING   | BYTES   | DATE       | PY[list]   |   PY[object] |\n",
       "+===========+=========+===========+==========+=========+============+============+==============+\n",
       "|         1 |     1.5 | True      | a        | b'a'    | 1994-01-01 | [1, 1, 1]  |            3 |\n",
       "+-----------+---------+-----------+----------+---------+------------+------------+--------------+\n",
       "|         2 |     2.5 | True      | b        | b'b'    | 1994-01-02 | [2, 2, 2]  |            3 |\n",
       "+-----------+---------+-----------+----------+---------+------------+------------+--------------+\n",
       "|         3 |     3.5 | False     | c        | b'c'    | 1994-01-03 | [3, 3, 3]  |            3 |\n",
       "+-----------+---------+-----------+----------+---------+------------+------------+--------------+\n",
       "|         4 |     4.5 | False     | d        | b'd'    | 1994-01-04 | [4, 4, 4]  |            3 |\n",
       "+-----------+---------+-----------+----------+---------+------------+------------+--------------+"
      ]
     },
     "execution_count": 16,
     "metadata": {},
     "output_type": "execute_result"
    }
   ],
   "source": [
    "df_G_count_A = df.with_column(\"G_count_A\", df[\"G\"].as_py(list).count(df[\"A\"]))\n",
    "df_G_count_A.show()"
   ]
  },
  {
   "cell_type": "markdown",
   "metadata": {},
   "source": [
    "For more complicated functions, you can use `.apply(f)` to call a function `f` on every object in the column. For example, here we construct a Numpy array for every list in column G.\n",
    "\n",
    "```{note}\n",
    "It is good practice to supply the `return_type=` keyword argument in `.apply`, as this lets Daft effectively optimize your data and operations under the hood. For example, in this case we specify `return_type=np.ndarray` which tells Daft that each row in this column contains a Numpy array object.\n",
    "```"
   ]
  },
  {
   "cell_type": "code",
   "execution_count": 17,
   "metadata": {},
   "outputs": [
    {
     "data": {
      "text/html": [
       "\n",
       "        <div>\n",
       "            <table class=\"dataframe\">\n",
       "<thead>\n",
       "<tr><th style=\"text-align: right;\">  A<br>INTEGER</th><th style=\"text-align: right;\">  B<br>FLOAT</th><th>C<br>LOGICAL  </th><th>D<br>STRING  </th><th>E<br>BYTES  </th><th>F<br>DATE  </th><th>G<br>PY[list]  </th><th>G_to_numpy<br>PY[ndarray]                    </th></tr>\n",
       "</thead>\n",
       "<tbody>\n",
       "<tr><td style=\"text-align: right;\">             1</td><td style=\"text-align: right;\">         1.5</td><td>True          </td><td>a            </td><td>b'a'        </td><td>1994-01-01 </td><td>[1, 1, 1]      </td><td>&ltnp.ndarray<br>shape=(3,)<br>dtype=int64&gt</td></tr>\n",
       "<tr><td style=\"text-align: right;\">             2</td><td style=\"text-align: right;\">         2.5</td><td>True          </td><td>b            </td><td>b'b'        </td><td>1994-01-02 </td><td>[2, 2, 2]      </td><td>&ltnp.ndarray<br>shape=(3,)<br>dtype=int64&gt</td></tr>\n",
       "<tr><td style=\"text-align: right;\">             3</td><td style=\"text-align: right;\">         3.5</td><td>False         </td><td>c            </td><td>b'c'        </td><td>1994-01-03 </td><td>[3, 3, 3]      </td><td>&ltnp.ndarray<br>shape=(3,)<br>dtype=int64&gt</td></tr>\n",
       "<tr><td style=\"text-align: right;\">             4</td><td style=\"text-align: right;\">         4.5</td><td>False         </td><td>d            </td><td>b'd'        </td><td>1994-01-04 </td><td>[4, 4, 4]      </td><td>&ltnp.ndarray<br>shape=(3,)<br>dtype=int64&gt</td></tr>\n",
       "</tbody>\n",
       "</table>\n",
       "            <small>(Showing first 4 rows)</small>\n",
       "        </div>\n",
       "    "
      ],
      "text/plain": [
       "+-----------+---------+-----------+----------+---------+------------+------------+---------------+\n",
       "|         A |       B | C         | D        | E       | F          | G          | G_to_numpy    |\n",
       "|   INTEGER |   FLOAT | LOGICAL   | STRING   | BYTES   | DATE       | PY[list]   | PY[ndarray]   |\n",
       "+===========+=========+===========+==========+=========+============+============+===============+\n",
       "|         1 |     1.5 | True      | a        | b'a'    | 1994-01-01 | [1, 1, 1]  | [1 1 1]       |\n",
       "+-----------+---------+-----------+----------+---------+------------+------------+---------------+\n",
       "|         2 |     2.5 | True      | b        | b'b'    | 1994-01-02 | [2, 2, 2]  | [2 2 2]       |\n",
       "+-----------+---------+-----------+----------+---------+------------+------------+---------------+\n",
       "|         3 |     3.5 | False     | c        | b'c'    | 1994-01-03 | [3, 3, 3]  | [3 3 3]       |\n",
       "+-----------+---------+-----------+----------+---------+------------+------------+---------------+\n",
       "|         4 |     4.5 | False     | d        | b'd'    | 1994-01-04 | [4, 4, 4]  | [4 4 4]       |\n",
       "+-----------+---------+-----------+----------+---------+------------+------------+---------------+"
      ]
     },
     "execution_count": 17,
     "metadata": {},
     "output_type": "execute_result"
    }
   ],
   "source": [
    "import numpy as np\n",
    "\n",
    "df_G_to_numpy = df.with_column(\"G_to_numpy\", df[\"G\"].apply(lambda l: np.array(l), return_type=np.ndarray))\n",
    "df_G_to_numpy.show()"
   ]
  },
  {
   "cell_type": "markdown",
   "metadata": {},
   "source": [
    "Iterable types such as a PY[list] column can be exploded with `DataFrame.explode`, splitting each list into a row of its own and repeating the other columns:"
   ]
  },
  {
   "cell_type": "code",
   "execution_count": 18,
   "metadata": {},
   "outputs": [
    {
     "data": {
      "text/html": [
       "\n",
       "        <div>\n",
       "            <table class=\"dataframe\">\n",
       "<thead>\n",
       "<tr><th style=\"text-align: right;\">  A<br>INTEGER</th><th style=\"text-align: right;\">  B<br>FLOAT</th><th>C<br>LOGICAL  </th><th>D<br>STRING  </th><th>E<br>BYTES  </th><th>F<br>DATE  </th><th style=\"text-align: right;\">  G<br>PY[object]</th></tr>\n",
       "</thead>\n",
       "<tbody>\n",
       "<tr><td style=\"text-align: right;\">             1</td><td style=\"text-align: right;\">         1.5</td><td>True          </td><td>a            </td><td>b'a'        </td><td>1994-01-01 </td><td style=\"text-align: right;\">                1</td></tr>\n",
       "<tr><td style=\"text-align: right;\">             1</td><td style=\"text-align: right;\">         1.5</td><td>True          </td><td>a            </td><td>b'a'        </td><td>1994-01-01 </td><td style=\"text-align: right;\">                1</td></tr>\n",
       "<tr><td style=\"text-align: right;\">             1</td><td style=\"text-align: right;\">         1.5</td><td>True          </td><td>a            </td><td>b'a'        </td><td>1994-01-01 </td><td style=\"text-align: right;\">                1</td></tr>\n",
       "<tr><td style=\"text-align: right;\">             2</td><td style=\"text-align: right;\">         2.5</td><td>True          </td><td>b            </td><td>b'b'        </td><td>1994-01-02 </td><td style=\"text-align: right;\">                2</td></tr>\n",
       "<tr><td style=\"text-align: right;\">             2</td><td style=\"text-align: right;\">         2.5</td><td>True          </td><td>b            </td><td>b'b'        </td><td>1994-01-02 </td><td style=\"text-align: right;\">                2</td></tr>\n",
       "<tr><td style=\"text-align: right;\">             2</td><td style=\"text-align: right;\">         2.5</td><td>True          </td><td>b            </td><td>b'b'        </td><td>1994-01-02 </td><td style=\"text-align: right;\">                2</td></tr>\n",
       "<tr><td style=\"text-align: right;\">             3</td><td style=\"text-align: right;\">         3.5</td><td>False         </td><td>c            </td><td>b'c'        </td><td>1994-01-03 </td><td style=\"text-align: right;\">                3</td></tr>\n",
       "<tr><td style=\"text-align: right;\">             3</td><td style=\"text-align: right;\">         3.5</td><td>False         </td><td>c            </td><td>b'c'        </td><td>1994-01-03 </td><td style=\"text-align: right;\">                3</td></tr>\n",
       "<tr><td style=\"text-align: right;\">             3</td><td style=\"text-align: right;\">         3.5</td><td>False         </td><td>c            </td><td>b'c'        </td><td>1994-01-03 </td><td style=\"text-align: right;\">                3</td></tr>\n",
       "<tr><td style=\"text-align: right;\">             4</td><td style=\"text-align: right;\">         4.5</td><td>False         </td><td>d            </td><td>b'd'        </td><td>1994-01-04 </td><td style=\"text-align: right;\">                4</td></tr>\n",
       "<tr><td style=\"text-align: right;\">             4</td><td style=\"text-align: right;\">         4.5</td><td>False         </td><td>d            </td><td>b'd'        </td><td>1994-01-04 </td><td style=\"text-align: right;\">                4</td></tr>\n",
       "<tr><td style=\"text-align: right;\">             4</td><td style=\"text-align: right;\">         4.5</td><td>False         </td><td>d            </td><td>b'd'        </td><td>1994-01-04 </td><td style=\"text-align: right;\">                4</td></tr>\n",
       "</tbody>\n",
       "</table>\n",
       "            <small>(Showing first 12 rows)</small>\n",
       "        </div>\n",
       "    "
      ],
      "text/plain": [
       "+-----------+---------+-----------+----------+---------+------------+--------------+\n",
       "|         A |       B | C         | D        | E       | F          |            G |\n",
       "|   INTEGER |   FLOAT | LOGICAL   | STRING   | BYTES   | DATE       |   PY[object] |\n",
       "+===========+=========+===========+==========+=========+============+==============+\n",
       "|         1 |     1.5 | True      | a        | b'a'    | 1994-01-01 |            1 |\n",
       "+-----------+---------+-----------+----------+---------+------------+--------------+\n",
       "|         1 |     1.5 | True      | a        | b'a'    | 1994-01-01 |            1 |\n",
       "+-----------+---------+-----------+----------+---------+------------+--------------+\n",
       "|         1 |     1.5 | True      | a        | b'a'    | 1994-01-01 |            1 |\n",
       "+-----------+---------+-----------+----------+---------+------------+--------------+\n",
       "|         2 |     2.5 | True      | b        | b'b'    | 1994-01-02 |            2 |\n",
       "+-----------+---------+-----------+----------+---------+------------+--------------+\n",
       "|         2 |     2.5 | True      | b        | b'b'    | 1994-01-02 |            2 |\n",
       "+-----------+---------+-----------+----------+---------+------------+--------------+\n",
       "|         2 |     2.5 | True      | b        | b'b'    | 1994-01-02 |            2 |\n",
       "+-----------+---------+-----------+----------+---------+------------+--------------+\n",
       "|         3 |     3.5 | False     | c        | b'c'    | 1994-01-03 |            3 |\n",
       "+-----------+---------+-----------+----------+---------+------------+--------------+\n",
       "|         3 |     3.5 | False     | c        | b'c'    | 1994-01-03 |            3 |\n",
       "+-----------+---------+-----------+----------+---------+------------+--------------+\n",
       "|         3 |     3.5 | False     | c        | b'c'    | 1994-01-03 |            3 |\n",
       "+-----------+---------+-----------+----------+---------+------------+--------------+\n",
       "|         4 |     4.5 | False     | d        | b'd'    | 1994-01-04 |            4 |\n",
       "+-----------+---------+-----------+----------+---------+------------+--------------+\n",
       "|         4 |     4.5 | False     | d        | b'd'    | 1994-01-04 |            4 |\n",
       "+-----------+---------+-----------+----------+---------+------------+--------------+\n",
       "|         4 |     4.5 | False     | d        | b'd'    | 1994-01-04 |            4 |\n",
       "+-----------+---------+-----------+----------+---------+------------+--------------+"
      ]
     },
     "execution_count": 18,
     "metadata": {},
     "output_type": "execute_result"
    }
   ],
   "source": [
    "df_G_exploded = df.explode(df[\"G\"])\n",
    "df_G_exploded.show()"
   ]
  },
  {
   "cell_type": "markdown",
   "metadata": {},
   "source": [
    "### User-Defined Functions\n",
    "\n",
    "`.apply` makes it really easy to map a function on a single column, but is limited in 2 main ways:\n",
    "\n",
    "1. Only runs on a single column: some algorithms require multiple columns as inputs\n",
    "2. Only runs on a single row: some algorithms run much more efficiently when run on a batch of rows instead\n",
    "\n",
    "To overcome these limitations, you can use User-Defined Functions (UDFs).\n",
    "\n",
    "See Also: [UDF User Guide](user_guides/udf)"
   ]
  },
  {
   "cell_type": "code",
   "execution_count": 19,
   "metadata": {},
   "outputs": [
    {
     "data": {
      "text/html": [
       "\n",
       "        <div>\n",
       "            <table class=\"dataframe\">\n",
       "<thead>\n",
       "<tr><th style=\"text-align: right;\">  A<br>INTEGER</th><th style=\"text-align: right;\">  B<br>FLOAT</th><th>C<br>LOGICAL  </th><th>D<br>STRING  </th><th>E<br>BYTES  </th><th>F<br>DATE  </th><th>G<br>PY[list]  </th><th>F_add_A_days<br>DATE  </th></tr>\n",
       "</thead>\n",
       "<tbody>\n",
       "<tr><td style=\"text-align: right;\">             1</td><td style=\"text-align: right;\">         1.5</td><td>True          </td><td>a            </td><td>b'a'        </td><td>1994-01-01 </td><td>[1, 1, 1]      </td><td>1994-01-02            </td></tr>\n",
       "<tr><td style=\"text-align: right;\">             2</td><td style=\"text-align: right;\">         2.5</td><td>True          </td><td>b            </td><td>b'b'        </td><td>1994-01-02 </td><td>[2, 2, 2]      </td><td>1994-01-04            </td></tr>\n",
       "<tr><td style=\"text-align: right;\">             3</td><td style=\"text-align: right;\">         3.5</td><td>False         </td><td>c            </td><td>b'c'        </td><td>1994-01-03 </td><td>[3, 3, 3]      </td><td>1994-01-06            </td></tr>\n",
       "<tr><td style=\"text-align: right;\">             4</td><td style=\"text-align: right;\">         4.5</td><td>False         </td><td>d            </td><td>b'd'        </td><td>1994-01-04 </td><td>[4, 4, 4]      </td><td>1994-01-08            </td></tr>\n",
       "</tbody>\n",
       "</table>\n",
       "            <small>(Showing first 4 rows)</small>\n",
       "        </div>\n",
       "    "
      ],
      "text/plain": [
       "+-----------+---------+-----------+----------+---------+------------+------------+----------------+\n",
       "|         A |       B | C         | D        | E       | F          | G          | F_add_A_days   |\n",
       "|   INTEGER |   FLOAT | LOGICAL   | STRING   | BYTES   | DATE       | PY[list]   | DATE           |\n",
       "+===========+=========+===========+==========+=========+============+============+================+\n",
       "|         1 |     1.5 | True      | a        | b'a'    | 1994-01-01 | [1, 1, 1]  | 1994-01-02     |\n",
       "+-----------+---------+-----------+----------+---------+------------+------------+----------------+\n",
       "|         2 |     2.5 | True      | b        | b'b'    | 1994-01-02 | [2, 2, 2]  | 1994-01-04     |\n",
       "+-----------+---------+-----------+----------+---------+------------+------------+----------------+\n",
       "|         3 |     3.5 | False     | c        | b'c'    | 1994-01-03 | [3, 3, 3]  | 1994-01-06     |\n",
       "+-----------+---------+-----------+----------+---------+------------+------------+----------------+\n",
       "|         4 |     4.5 | False     | d        | b'd'    | 1994-01-04 | [4, 4, 4]  | 1994-01-08     |\n",
       "+-----------+---------+-----------+----------+---------+------------+------------+----------------+"
      ]
     },
     "execution_count": 19,
     "metadata": {},
     "output_type": "execute_result"
    }
   ],
   "source": [
    "import datetime\n",
    "from daft import polars_udf\n",
    "import polars as pl\n",
    "\n",
    "@polars_udf(return_type=datetime.date)\n",
    "def add_days(f_date_data: pl.Series, a_days_data: pl.Series):\n",
    "    return f_date_data + pl.duration(days=a_days_data)\n",
    "\n",
    "df.with_column(\"F_add_A_days\", add_days(df[\"F\"], df[\"A\"])).show()"
   ]
  },
  {
   "cell_type": "markdown",
   "metadata": {},
   "source": [
    "The simple UDF demonstrated above is a \"stateless UDF\", and no state is maintained between invocations of the function. In certain use-cases, it can be important to maintain some state with a \"stateful UDF\", which you can write using a Class instead of a Function. For example, running machine learning models often requires downloading some trained weights and initializing the model in memory/on a GPU, which an expensive operation and should be cached between UDF invocations."
   ]
  },
  {
   "cell_type": "code",
   "execution_count": 20,
   "metadata": {},
   "outputs": [
    {
     "data": {
      "text/html": [
       "\n",
       "        <div>\n",
       "            <table class=\"dataframe\">\n",
       "<thead>\n",
       "<tr><th style=\"text-align: right;\">  A<br>INTEGER</th><th style=\"text-align: right;\">  B<br>FLOAT</th><th>C<br>LOGICAL  </th><th>D<br>STRING  </th><th>E<br>BYTES  </th><th>F<br>DATE  </th><th>G<br>PY[list]  </th><th style=\"text-align: right;\">  expensive_model_results<br>FLOAT</th></tr>\n",
       "</thead>\n",
       "<tbody>\n",
       "<tr><td style=\"text-align: right;\">             1</td><td style=\"text-align: right;\">         1.5</td><td>True          </td><td>a            </td><td>b'a'        </td><td>1994-01-01 </td><td>[1, 1, 1]      </td><td style=\"text-align: right;\">                              8.07</td></tr>\n",
       "<tr><td style=\"text-align: right;\">             2</td><td style=\"text-align: right;\">         2.5</td><td>True          </td><td>b            </td><td>b'b'        </td><td>1994-01-02 </td><td>[2, 2, 2]      </td><td style=\"text-align: right;\">                             13.86</td></tr>\n",
       "<tr><td style=\"text-align: right;\">             3</td><td style=\"text-align: right;\">         3.5</td><td>False         </td><td>c            </td><td>b'c'        </td><td>1994-01-03 </td><td>[3, 3, 3]      </td><td style=\"text-align: right;\">                             19.65</td></tr>\n",
       "<tr><td style=\"text-align: right;\">             4</td><td style=\"text-align: right;\">         4.5</td><td>False         </td><td>d            </td><td>b'd'        </td><td>1994-01-04 </td><td>[4, 4, 4]      </td><td style=\"text-align: right;\">                             25.44</td></tr>\n",
       "</tbody>\n",
       "</table>\n",
       "            <small>(Showing first 4 rows)</small>\n",
       "        </div>\n",
       "    "
      ],
      "text/plain": [
       "+-----------+---------+-----------+----------+---------+------------+------------+---------------------------+\n",
       "|         A |       B | C         | D        | E       | F          | G          |   expensive_model_results |\n",
       "|   INTEGER |   FLOAT | LOGICAL   | STRING   | BYTES   | DATE       | PY[list]   |                     FLOAT |\n",
       "+===========+=========+===========+==========+=========+============+============+===========================+\n",
       "|         1 |     1.5 | True      | a        | b'a'    | 1994-01-01 | [1, 1, 1]  |                      8.07 |\n",
       "+-----------+---------+-----------+----------+---------+------------+------------+---------------------------+\n",
       "|         2 |     2.5 | True      | b        | b'b'    | 1994-01-02 | [2, 2, 2]  |                     13.86 |\n",
       "+-----------+---------+-----------+----------+---------+------------+------------+---------------------------+\n",
       "|         3 |     3.5 | False     | c        | b'c'    | 1994-01-03 | [3, 3, 3]  |                     19.65 |\n",
       "+-----------+---------+-----------+----------+---------+------------+------------+---------------------------+\n",
       "|         4 |     4.5 | False     | d        | b'd'    | 1994-01-04 | [4, 4, 4]  |                     25.44 |\n",
       "+-----------+---------+-----------+----------+---------+------------+------------+---------------------------+"
      ]
     },
     "execution_count": 20,
     "metadata": {},
     "output_type": "execute_result"
    }
   ],
   "source": [
    "@polars_udf(return_type=float)\n",
    "class RunExpensiveModel:\n",
    "\n",
    "    def __init__(self):\n",
    "        # Initialize and cache an \"expensive\" model between invocations of the UDF\n",
    "        self.model = np.array([1.23, 4.56])\n",
    "        \n",
    "    def __call__(self, a_data: pl.Series, b_data: pl.Series):\n",
    "        return np.matmul(self.model, np.array([a_data.to_numpy(), b_data.to_numpy()]))\n",
    "\n",
    "df.with_column(\"expensive_model_results\", RunExpensiveModel(df[\"A\"], df[\"B\"])).show()"
   ]
  },
  {
   "cell_type": "markdown",
   "metadata": {},
   "source": [
    "## Filtering Data\n",
    "\n",
    "You can filter rows in dataframe using `DataFrame.where`, which accepts a LOGICAL type Expression as an argument:"
   ]
  },
  {
   "cell_type": "code",
   "execution_count": 21,
   "metadata": {},
   "outputs": [
    {
     "data": {
      "text/html": [
       "\n",
       "        <div>\n",
       "            <table class=\"dataframe\">\n",
       "<thead>\n",
       "<tr><th style=\"text-align: right;\">  A<br>INTEGER</th><th style=\"text-align: right;\">  B<br>FLOAT</th><th>C<br>LOGICAL  </th><th>D<br>STRING  </th><th>E<br>BYTES  </th><th>F<br>DATE  </th><th>G<br>PY[list]  </th></tr>\n",
       "</thead>\n",
       "<tbody>\n",
       "<tr><td style=\"text-align: right;\">             1</td><td style=\"text-align: right;\">         1.5</td><td>True          </td><td>a            </td><td>b'a'        </td><td>1994-01-01 </td><td>[1, 1, 1]      </td></tr>\n",
       "<tr><td style=\"text-align: right;\">             2</td><td style=\"text-align: right;\">         2.5</td><td>True          </td><td>b            </td><td>b'b'        </td><td>1994-01-02 </td><td>[2, 2, 2]      </td></tr>\n",
       "</tbody>\n",
       "</table>\n",
       "            <small>(Showing first 2 rows)</small>\n",
       "        </div>\n",
       "    "
      ],
      "text/plain": [
       "+-----------+---------+-----------+----------+---------+------------+------------+\n",
       "|         A |       B | C         | D        | E       | F          | G          |\n",
       "|   INTEGER |   FLOAT | LOGICAL   | STRING   | BYTES   | DATE       | PY[list]   |\n",
       "+===========+=========+===========+==========+=========+============+============+\n",
       "|         1 |     1.5 | True      | a        | b'a'    | 1994-01-01 | [1, 1, 1]  |\n",
       "+-----------+---------+-----------+----------+---------+------------+------------+\n",
       "|         2 |     2.5 | True      | b        | b'b'    | 1994-01-02 | [2, 2, 2]  |\n",
       "+-----------+---------+-----------+----------+---------+------------+------------+"
      ]
     },
     "execution_count": 21,
     "metadata": {},
     "output_type": "execute_result"
    }
   ],
   "source": [
    "# Keep only rows where values in column \"A\" are less than 3\n",
    "df_filtered = df.where(df[\"A\"] < 3)\n",
    "df_filtered.show()"
   ]
  },
  {
   "cell_type": "markdown",
   "metadata": {},
   "source": [
    "## Missing Data\n",
    "\n",
    "All columns in Daft are \"nullable\" by default. Unlike other frameworks such as Pandas, Daft differentiates between \"null\" (missing) and \"nan\" (stands for not a number - a special value indicating an invalid float)."
   ]
  },
  {
   "cell_type": "code",
   "execution_count": 22,
   "metadata": {},
   "outputs": [
    {
     "data": {
      "text/html": [
       "\n",
       "        <div>\n",
       "            <table class=\"dataframe\">\n",
       "<thead>\n",
       "<tr><th>floats<br>FLOAT  </th><th>floats_is_null<br>LOGICAL  </th><th>floats_is_nan<br>LOGICAL  </th></tr>\n",
       "</thead>\n",
       "<tbody>\n",
       "<tr><td>1.5              </td><td>False                      </td><td>False                     </td></tr>\n",
       "<tr><td>None             </td><td>True                       </td><td>None                      </td></tr>\n",
       "<tr><td>nan              </td><td>False                      </td><td>True                      </td></tr>\n",
       "</tbody>\n",
       "</table>\n",
       "            <small>(Showing first 3 rows)</small>\n",
       "        </div>\n",
       "    "
      ],
      "text/plain": [
       "+----------+------------------+-----------------+\n",
       "| floats   | floats_is_null   | floats_is_nan   |\n",
       "| FLOAT    | LOGICAL          | LOGICAL         |\n",
       "+==========+==================+=================+\n",
       "| 1.5      | False            | False           |\n",
       "+----------+------------------+-----------------+\n",
       "| None     | True             | None            |\n",
       "+----------+------------------+-----------------+\n",
       "| nan      | False            | True            |\n",
       "+----------+------------------+-----------------+"
      ]
     },
     "execution_count": 22,
     "metadata": {},
     "output_type": "execute_result"
    }
   ],
   "source": [
    "missing_data_df = DataFrame.from_pydict({\n",
    "    \"floats\": [1.5, None, float(\"nan\")],\n",
    "})\n",
    "missing_data_df = missing_data_df \\\n",
    "    .with_column(\"floats_is_null\", missing_data_df[\"floats\"].is_null()) \\\n",
    "    .with_column(\"floats_is_nan\", missing_data_df[\"floats\"].is_nan())\n",
    "\n",
    "missing_data_df.show()"
   ]
  },
  {
   "cell_type": "markdown",
   "metadata": {},
   "source": [
    "To fill in missing values, a useful Expression is the `.if_else` expression which can be used to fill in values if the value is null:"
   ]
  },
  {
   "cell_type": "code",
   "execution_count": 23,
   "metadata": {},
   "outputs": [
    {
     "data": {
      "text/html": [
       "\n",
       "        <div>\n",
       "            <table class=\"dataframe\">\n",
       "<thead>\n",
       "<tr><th>floats<br>FLOAT  </th><th>floats_is_null<br>LOGICAL  </th><th>floats_is_nan<br>LOGICAL  </th><th style=\"text-align: right;\">  filled_in_floats<br>FLOAT</th></tr>\n",
       "</thead>\n",
       "<tbody>\n",
       "<tr><td>1.5              </td><td>False                      </td><td>False                     </td><td style=\"text-align: right;\">                        1.5</td></tr>\n",
       "<tr><td>None             </td><td>True                       </td><td>None                      </td><td style=\"text-align: right;\">                        0  </td></tr>\n",
       "<tr><td>nan              </td><td>False                      </td><td>True                      </td><td style=\"text-align: right;\">                      nan  </td></tr>\n",
       "</tbody>\n",
       "</table>\n",
       "            <small>(Showing first 3 rows)</small>\n",
       "        </div>\n",
       "    "
      ],
      "text/plain": [
       "+----------+------------------+-----------------+--------------------+\n",
       "| floats   | floats_is_null   | floats_is_nan   |   filled_in_floats |\n",
       "| FLOAT    | LOGICAL          | LOGICAL         |              FLOAT |\n",
       "+==========+==================+=================+====================+\n",
       "| 1.5      | False            | False           |                1.5 |\n",
       "+----------+------------------+-----------------+--------------------+\n",
       "| None     | True             | None            |                0   |\n",
       "+----------+------------------+-----------------+--------------------+\n",
       "| nan      | False            | True            |              nan   |\n",
       "+----------+------------------+-----------------+--------------------+"
      ]
     },
     "execution_count": 23,
     "metadata": {},
     "output_type": "execute_result"
    }
   ],
   "source": [
    "missing_data_df = missing_data_df.with_column(\"filled_in_floats\", (missing_data_df[\"floats\"].is_null()).if_else(0.0, missing_data_df[\"floats\"]))\n",
    "missing_data_df.show()"
   ]
  },
  {
   "cell_type": "markdown",
   "metadata": {},
   "source": [
    "## Merging Dataframes\n",
    "\n",
    "DataFrames can be joined with `.join`. Here is a naive example of a self-join where we join `df` on itself with column \"A\" as the join key. Notice that we automatically assign a prefix `\"right.\"` to all the columns with conflicting names:"
   ]
  },
  {
   "cell_type": "code",
   "execution_count": 24,
   "metadata": {},
   "outputs": [
    {
     "data": {
      "text/html": [
       "<table border=\"1\" class=\"dataframe\">\n",
       "  <thead>\n",
       "    <tr style=\"text-align: right;\">\n",
       "      <th>column_name</th>\n",
       "      <th>type</th>\n",
       "    </tr>\n",
       "  </thead>\n",
       "  <tbody>\n",
       "    <tr>\n",
       "      <td>A</td>\n",
       "      <td>INTEGER</td>\n",
       "    </tr>\n",
       "    <tr>\n",
       "      <td>B</td>\n",
       "      <td>FLOAT</td>\n",
       "    </tr>\n",
       "    <tr>\n",
       "      <td>C</td>\n",
       "      <td>LOGICAL</td>\n",
       "    </tr>\n",
       "    <tr>\n",
       "      <td>D</td>\n",
       "      <td>STRING</td>\n",
       "    </tr>\n",
       "    <tr>\n",
       "      <td>E</td>\n",
       "      <td>BYTES</td>\n",
       "    </tr>\n",
       "    <tr>\n",
       "      <td>F</td>\n",
       "      <td>DATE</td>\n",
       "    </tr>\n",
       "    <tr>\n",
       "      <td>G</td>\n",
       "      <td>PY[list]</td>\n",
       "    </tr>\n",
       "  </tbody>\n",
       "</table>"
      ],
      "text/plain": [
       "column_name     type\n",
       "          A  INTEGER\n",
       "          B    FLOAT\n",
       "          C  LOGICAL\n",
       "          D   STRING\n",
       "          E    BYTES\n",
       "          F     DATE\n",
       "          G PY[list]"
      ]
     },
     "execution_count": 24,
     "metadata": {},
     "output_type": "execute_result"
    }
   ],
   "source": [
    "joined_df = df.join(df, on=\"A\")\n",
    "joined_df"
   ]
  },
  {
   "cell_type": "code",
   "execution_count": 25,
   "metadata": {},
   "outputs": [
    {
     "data": {
      "text/html": [
       "\n",
       "        <div>\n",
       "            <table class=\"dataframe\">\n",
       "<thead>\n",
       "<tr><th style=\"text-align: right;\">  A<br>INTEGER</th><th style=\"text-align: right;\">  B<br>FLOAT</th><th>C<br>LOGICAL  </th><th>D<br>STRING  </th><th>E<br>BYTES  </th><th>F<br>DATE  </th><th>G<br>PY[list]  </th></tr>\n",
       "</thead>\n",
       "<tbody>\n",
       "<tr><td style=\"text-align: right;\">             1</td><td style=\"text-align: right;\">         1.5</td><td>True          </td><td>a            </td><td>b'a'        </td><td>1994-01-01 </td><td>[1, 1, 1]      </td></tr>\n",
       "<tr><td style=\"text-align: right;\">             2</td><td style=\"text-align: right;\">         2.5</td><td>True          </td><td>b            </td><td>b'b'        </td><td>1994-01-02 </td><td>[2, 2, 2]      </td></tr>\n",
       "<tr><td style=\"text-align: right;\">             3</td><td style=\"text-align: right;\">         3.5</td><td>False         </td><td>c            </td><td>b'c'        </td><td>1994-01-03 </td><td>[3, 3, 3]      </td></tr>\n",
       "<tr><td style=\"text-align: right;\">             4</td><td style=\"text-align: right;\">         4.5</td><td>False         </td><td>d            </td><td>b'd'        </td><td>1994-01-04 </td><td>[4, 4, 4]      </td></tr>\n",
       "</tbody>\n",
       "</table>\n",
       "            <small>(Showing first 4 rows)</small>\n",
       "        </div>\n",
       "    "
      ],
      "text/plain": [
       "+-----------+---------+-----------+----------+---------+------------+------------+\n",
       "|         A |       B | C         | D        | E       | F          | G          |\n",
       "|   INTEGER |   FLOAT | LOGICAL   | STRING   | BYTES   | DATE       | PY[list]   |\n",
       "+===========+=========+===========+==========+=========+============+============+\n",
       "|         1 |     1.5 | True      | a        | b'a'    | 1994-01-01 | [1, 1, 1]  |\n",
       "+-----------+---------+-----------+----------+---------+------------+------------+\n",
       "|         2 |     2.5 | True      | b        | b'b'    | 1994-01-02 | [2, 2, 2]  |\n",
       "+-----------+---------+-----------+----------+---------+------------+------------+\n",
       "|         3 |     3.5 | False     | c        | b'c'    | 1994-01-03 | [3, 3, 3]  |\n",
       "+-----------+---------+-----------+----------+---------+------------+------------+\n",
       "|         4 |     4.5 | False     | d        | b'd'    | 1994-01-04 | [4, 4, 4]  |\n",
       "+-----------+---------+-----------+----------+---------+------------+------------+"
      ]
     },
     "execution_count": 25,
     "metadata": {},
     "output_type": "execute_result"
    }
   ],
   "source": [
    "joined_df.show()"
   ]
  },
  {
   "cell_type": "markdown",
   "metadata": {},
   "source": [
    "## Grouping\n",
    "\n",
    "Grouping operations over a dataset happens in 2 phases:\n",
    "\n",
    "1. Splitting the data into groups based on some criteria using `DataFrame.groupby`\n",
    "2. Specifying how to aggregate the data for each group using `GroupedDataFrame.agg`\n",
    "\n",
    "Let's take a look at an example:"
   ]
  },
  {
   "cell_type": "code",
   "execution_count": 26,
   "metadata": {},
   "outputs": [
    {
     "data": {
      "text/html": [
       "\n",
       "        <div>\n",
       "            <table class=\"dataframe\">\n",
       "<thead>\n",
       "<tr><th>A<br>STRING  </th><th>B<br>STRING  </th><th style=\"text-align: right;\">  C<br>INTEGER</th><th style=\"text-align: right;\">  D<br>INTEGER</th></tr>\n",
       "</thead>\n",
       "<tbody>\n",
       "<tr><td>foo          </td><td>a            </td><td style=\"text-align: right;\">             0</td><td style=\"text-align: right;\">             0</td></tr>\n",
       "<tr><td>bar          </td><td>a            </td><td style=\"text-align: right;\">             1</td><td style=\"text-align: right;\">             1</td></tr>\n",
       "<tr><td>foo          </td><td>b            </td><td style=\"text-align: right;\">             2</td><td style=\"text-align: right;\">             2</td></tr>\n",
       "<tr><td>bar          </td><td>c            </td><td style=\"text-align: right;\">             3</td><td style=\"text-align: right;\">             3</td></tr>\n",
       "<tr><td>foo          </td><td>b            </td><td style=\"text-align: right;\">             4</td><td style=\"text-align: right;\">             4</td></tr>\n",
       "<tr><td>bar          </td><td>b            </td><td style=\"text-align: right;\">             5</td><td style=\"text-align: right;\">             5</td></tr>\n",
       "<tr><td>foo          </td><td>a            </td><td style=\"text-align: right;\">             6</td><td style=\"text-align: right;\">             6</td></tr>\n",
       "<tr><td>foo          </td><td>c            </td><td style=\"text-align: right;\">             7</td><td style=\"text-align: right;\">             7</td></tr>\n",
       "</tbody>\n",
       "</table>\n",
       "            <small>(Showing first 8 rows)</small>\n",
       "        </div>\n",
       "    "
      ],
      "text/plain": [
       "+----------+----------+-----------+-----------+\n",
       "| A        | B        |         C |         D |\n",
       "| STRING   | STRING   |   INTEGER |   INTEGER |\n",
       "+==========+==========+===========+===========+\n",
       "| foo      | a        |         0 |         0 |\n",
       "+----------+----------+-----------+-----------+\n",
       "| bar      | a        |         1 |         1 |\n",
       "+----------+----------+-----------+-----------+\n",
       "| foo      | b        |         2 |         2 |\n",
       "+----------+----------+-----------+-----------+\n",
       "| bar      | c        |         3 |         3 |\n",
       "+----------+----------+-----------+-----------+\n",
       "| foo      | b        |         4 |         4 |\n",
       "+----------+----------+-----------+-----------+\n",
       "| bar      | b        |         5 |         5 |\n",
       "+----------+----------+-----------+-----------+\n",
       "| foo      | a        |         6 |         6 |\n",
       "+----------+----------+-----------+-----------+\n",
       "| foo      | c        |         7 |         7 |\n",
       "+----------+----------+-----------+-----------+"
      ]
     },
     "execution_count": 26,
     "metadata": {},
     "output_type": "execute_result"
    }
   ],
   "source": [
    "grouping_df = DataFrame.from_pydict(\n",
    "    {\n",
    "        \"A\": [\"foo\", \"bar\", \"foo\", \"bar\", \"foo\", \"bar\", \"foo\", \"foo\"],\n",
    "        \"B\": [\"a\", \"a\", \"b\", \"c\", \"b\", \"b\", \"a\", \"c\"],\n",
    "        \"C\": [i for i in range(8)],\n",
    "        \"D\": [i for i in range(8)],\n",
    "    }\n",
    ")\n",
    "grouping_df.show()"
   ]
  },
  {
   "cell_type": "markdown",
   "metadata": {},
   "source": [
    "First we group by \"A\", so that we will evaluate rows with `A=foo` and `A=bar` separately in their respective groups."
   ]
  },
  {
   "cell_type": "code",
   "execution_count": 27,
   "metadata": {},
   "outputs": [
    {
     "data": {
      "text/plain": [
       "GroupedDataFrame(df=column_name    type\n",
       "          A  STRING\n",
       "          B  STRING\n",
       "          C INTEGER\n",
       "          D INTEGER, group_by=[col(A#23: STRING)])"
      ]
     },
     "execution_count": 27,
     "metadata": {},
     "output_type": "execute_result"
    }
   ],
   "source": [
    "grouped_df = grouping_df.groupby(grouping_df[\"A\"])\n",
    "grouped_df"
   ]
  },
  {
   "cell_type": "markdown",
   "metadata": {},
   "source": [
    "Now we can specify the aggregations we want to compute over columns C and D. Here we compute the sum over column C, and the mean over column D for each group:"
   ]
  },
  {
   "cell_type": "code",
   "execution_count": 28,
   "metadata": {},
   "outputs": [
    {
     "data": {
      "text/html": [
       "\n",
       "        <div>\n",
       "            <table class=\"dataframe\">\n",
       "<thead>\n",
       "<tr><th>A<br>STRING  </th><th style=\"text-align: right;\">  C_sum<br>INTEGER</th><th style=\"text-align: right;\">  D_mean<br>INTEGER</th></tr>\n",
       "</thead>\n",
       "<tbody>\n",
       "<tr><td>foo          </td><td style=\"text-align: right;\">                19</td><td style=\"text-align: right;\">                3.8</td></tr>\n",
       "<tr><td>bar          </td><td style=\"text-align: right;\">                 9</td><td style=\"text-align: right;\">                3  </td></tr>\n",
       "</tbody>\n",
       "</table>\n",
       "            <small>(Showing first 2 rows)</small>\n",
       "        </div>\n",
       "    "
      ],
      "text/plain": [
       "+----------+-----------+-----------+\n",
       "| A        |     C_sum |    D_mean |\n",
       "| STRING   |   INTEGER |   INTEGER |\n",
       "+==========+===========+===========+\n",
       "| foo      |        19 |       3.8 |\n",
       "+----------+-----------+-----------+\n",
       "| bar      |         9 |       3   |\n",
       "+----------+-----------+-----------+"
      ]
     },
     "execution_count": 28,
     "metadata": {},
     "output_type": "execute_result"
    }
   ],
   "source": [
    "aggregated_df = grouped_df.agg([\n",
    "    (grouped_df[\"C\"].alias(\"C_sum\"), \"sum\"),\n",
    "    (grouped_df[\"D\"].alias(\"D_mean\"), \"mean\"),\n",
    "])\n",
    "aggregated_df.show()"
   ]
  },
  {
   "cell_type": "markdown",
   "metadata": {},
   "source": [
    "These operations work as well when run over multiple groupby columns, which will produce one row for each combination of columns that occur in the DataFrame:"
   ]
  },
  {
   "cell_type": "code",
   "execution_count": 29,
   "metadata": {},
   "outputs": [
    {
     "data": {
      "text/html": [
       "\n",
       "        <div>\n",
       "            <table class=\"dataframe\">\n",
       "<thead>\n",
       "<tr><th>A<br>STRING  </th><th>B<br>STRING  </th><th style=\"text-align: right;\">  C_sum<br>INTEGER</th><th style=\"text-align: right;\">  D_mean<br>INTEGER</th></tr>\n",
       "</thead>\n",
       "<tbody>\n",
       "<tr><td>bar          </td><td>a            </td><td style=\"text-align: right;\">                 1</td><td style=\"text-align: right;\">                  1</td></tr>\n",
       "<tr><td>foo          </td><td>a            </td><td style=\"text-align: right;\">                 6</td><td style=\"text-align: right;\">                  3</td></tr>\n",
       "<tr><td>bar          </td><td>b            </td><td style=\"text-align: right;\">                 5</td><td style=\"text-align: right;\">                  5</td></tr>\n",
       "<tr><td>bar          </td><td>c            </td><td style=\"text-align: right;\">                 3</td><td style=\"text-align: right;\">                  3</td></tr>\n",
       "<tr><td>foo          </td><td>b            </td><td style=\"text-align: right;\">                 6</td><td style=\"text-align: right;\">                  3</td></tr>\n",
       "<tr><td>foo          </td><td>c            </td><td style=\"text-align: right;\">                 7</td><td style=\"text-align: right;\">                  7</td></tr>\n",
       "</tbody>\n",
       "</table>\n",
       "            <small>(Showing first 6 rows)</small>\n",
       "        </div>\n",
       "    "
      ],
      "text/plain": [
       "+----------+----------+-----------+-----------+\n",
       "| A        | B        |     C_sum |    D_mean |\n",
       "| STRING   | STRING   |   INTEGER |   INTEGER |\n",
       "+==========+==========+===========+===========+\n",
       "| bar      | a        |         1 |         1 |\n",
       "+----------+----------+-----------+-----------+\n",
       "| foo      | a        |         6 |         3 |\n",
       "+----------+----------+-----------+-----------+\n",
       "| bar      | b        |         5 |         5 |\n",
       "+----------+----------+-----------+-----------+\n",
       "| bar      | c        |         3 |         3 |\n",
       "+----------+----------+-----------+-----------+\n",
       "| foo      | b        |         6 |         3 |\n",
       "+----------+----------+-----------+-----------+\n",
       "| foo      | c        |         7 |         7 |\n",
       "+----------+----------+-----------+-----------+"
      ]
     },
     "execution_count": 29,
     "metadata": {},
     "output_type": "execute_result"
    }
   ],
   "source": [
    "grouping_df \\\n",
    "    .groupby(grouping_df[\"A\"], grouping_df[\"B\"]) \\\n",
    "    .agg([\n",
    "        (grouping_df[\"C\"].alias(\"C_sum\"), \"sum\"),\n",
    "        (grouping_df[\"D\"].alias(\"D_mean\"), \"mean\"),\n",
    "    ]) \\\n",
    "    .show()"
   ]
  },
  {
   "cell_type": "markdown",
   "metadata": {},
   "source": [
    "## Writing Data\n",
    "\n",
    "See: [Writing Data](dataframe-writing-data)\n",
    "\n",
    "Writing data will execute your DataFrame and write the results out to the specified backend. For example, to write data out to CSV:\n"
   ]
  },
  {
   "cell_type": "code",
   "execution_count": 30,
   "metadata": {},
   "outputs": [],
   "source": [
    "# NOTE: Daft does not write PY columns at the moment.\n",
    "# This is a feature that is on the roadmap as various options for implementation are being designed.\n",
    "write_df = df.exclude(\"G\")\n",
    "\n",
    "written_df = write_df.write_csv(\"my-dataframe.csv\")"
   ]
  },
  {
   "cell_type": "markdown",
   "metadata": {},
   "source": [
    "Note that writing your dataframe is a **blocking** operation that executes your DataFrame. It will return a new `DataFrame` that contains the filepaths to the written data:"
   ]
  },
  {
   "cell_type": "code",
   "execution_count": 31,
   "metadata": {},
   "outputs": [
    {
     "data": {
      "text/html": [
       "\n",
       "        <div>\n",
       "            <table class=\"dataframe\">\n",
       "<thead>\n",
       "<tr><th>file_path<br>STRING                                        </th></tr>\n",
       "</thead>\n",
       "<tbody>\n",
       "<tr><td>my-dataframe.csv/c7b8b884-9cde-4d11-a4c7-63b8078c2491-0.csv</td></tr>\n",
       "</tbody>\n",
       "</table>\n",
       "            <small>(Showing first 1 rows)</small>\n",
       "        </div>\n",
       "    "
      ],
      "text/plain": [
       "+----------------------+\n",
       "| file_path            |\n",
       "| STRING               |\n",
       "+======================+\n",
       "| my-dataframe.csv/c7b |\n",
       "| 8b884-9cde-4d11-a4c7 |\n",
       "| -63b8078c2491-0.csv  |\n",
       "+----------------------+"
      ]
     },
     "execution_count": 31,
     "metadata": {},
     "output_type": "execute_result"
    }
   ],
   "source": [
    "written_df.show()"
   ]
  },
  {
   "cell_type": "code",
   "execution_count": null,
   "metadata": {},
   "outputs": [],
   "source": []
  }
 ],
 "metadata": {
  "kernelspec": {
   "display_name": "Python 3 (ipykernel)",
   "language": "python",
   "name": "python3"
  },
  "language_info": {
   "codemirror_mode": {
    "name": "ipython",
    "version": 3
   },
   "file_extension": ".py",
   "mimetype": "text/x-python",
   "name": "python",
   "nbconvert_exporter": "python",
   "pygments_lexer": "ipython3",
   "version": "3.9.13"
  },
  "vscode": {
   "interpreter": {
    "hash": "abe0cbefa28213872cf2c91d6aa47443089aa2a6ddfc370b260793ec957ca67a"
   }
  }
 },
 "nbformat": 4,
 "nbformat_minor": 4
}
