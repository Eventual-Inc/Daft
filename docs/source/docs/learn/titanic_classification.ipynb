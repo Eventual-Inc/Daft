{
 "cells": [
  {
   "cell_type": "markdown",
   "id": "8393961e-ca31-41ad-8182-258d48b5a6d9",
   "metadata": {},
   "source": [
    "# Classification tutorial\n",
    "\n",
    "In this tutorial, we will apply machine learning on the [titanic dataset](https://www.kaggle.com/c/titanic).      "
   ]
  },
  {
   "cell_type": "raw",
   "id": "d4532558-7dcb-49a0-a890-e67618dfb610",
   "metadata": {},
   "source": [
    "!pip install ray getdaft lightgbm_ray tqdm # install requirement"
   ]
  },
  {
   "cell_type": "markdown",
   "id": "2b236a65-20a6-4fe6-a873-05129b802249",
   "metadata": {},
   "source": [
    "In daft we use `read_csv` to load the csv file.     \n",
    "We use `show` to present the data since daft is lazy and does not run calcualtions if not needed."
   ]
  },
  {
   "cell_type": "code",
   "execution_count": 1,
   "id": "18e9a39f-3efa-4a48-86f5-19824df44724",
   "metadata": {},
   "outputs": [
    {
     "name": "stderr",
     "output_type": "stream",
     "text": [
      "2023-01-30 15:14:27.066 | INFO     | daft.context:runner:77 - Using PyRunner\n"
     ]
    },
    {
     "data": {
      "text/html": [
       "\n",
       "        <div>\n",
       "            <table class=\"dataframe\">\n",
       "<thead>\n",
       "<tr><th style=\"text-align: right;\">  pclass<br>INTEGER</th><th style=\"text-align: right;\">  survived<br>INTEGER</th><th>name<br>STRING                </th><th>sex<br>STRING  </th><th style=\"text-align: right;\">  age<br>FLOAT</th><th style=\"text-align: right;\">  sibsp<br>INTEGER</th><th style=\"text-align: right;\">  parch<br>INTEGER</th><th style=\"text-align: right;\">  ticket<br>STRING</th><th style=\"text-align: right;\">  fare<br>FLOAT</th><th>cabin<br>STRING  </th><th>embarked<br>STRING  </th><th style=\"text-align: right;\">  boat<br>STRING</th><th>body<br>FLOAT  </th><th>home_dest<br>STRING            </th></tr>\n",
       "</thead>\n",
       "<tbody>\n",
       "<tr><td style=\"text-align: right;\">                  1</td><td style=\"text-align: right;\">                    0</td><td>Allen, Miss. Elisabeth Walton </td><td>female         </td><td style=\"text-align: right;\">       29     </td><td style=\"text-align: right;\">                 0</td><td style=\"text-align: right;\">                 0</td><td style=\"text-align: right;\">             24160</td><td style=\"text-align: right;\">        211.338</td><td>B5               </td><td>S                   </td><td style=\"text-align: right;\">               2</td><td>None           </td><td>St Louis, MO                   </td></tr>\n",
       "<tr><td style=\"text-align: right;\">                  1</td><td style=\"text-align: right;\">                    0</td><td>Allison, Master. Hudson Trevor</td><td>male           </td><td style=\"text-align: right;\">        0.9167</td><td style=\"text-align: right;\">                 1</td><td style=\"text-align: right;\">                 2</td><td style=\"text-align: right;\">            113781</td><td style=\"text-align: right;\">        151.55 </td><td>C22 C26          </td><td>S                   </td><td style=\"text-align: right;\">              11</td><td>None           </td><td>Montreal, PQ / Chesterville, ON</td></tr>\n",
       "</tbody>\n",
       "</table>\n",
       "            <small>(Showing first 2 of 2 rows)</small>\n",
       "        </div>\n",
       "    "
      ],
      "text/plain": [
       "+-----------+------------+------------------+----------+---------+-----------+-----------+----------+---------+----------+------------+----------+---------+------------------+\n",
       "|    pclass |   survived | name             | sex      |     age |     sibsp |     parch |   ticket |    fare | cabin    | embarked   |     boat | body    | home_dest        |\n",
       "|   INTEGER |    INTEGER | STRING           | STRING   |   FLOAT |   INTEGER |   INTEGER |   STRING |   FLOAT | STRING   | STRING     |   STRING | FLOAT   | STRING           |\n",
       "+===========+============+==================+==========+=========+===========+===========+==========+=========+==========+============+==========+=========+==================+\n",
       "|         1 |          0 | Allen, Miss.     | female   | 29      |         0 |         0 |    24160 | 211.338 | B5       | S          |        2 | None    | St Louis, MO     |\n",
       "|           |            | Elisabeth Walton |          |         |           |           |          |         |          |            |          |         |                  |\n",
       "+-----------+------------+------------------+----------+---------+-----------+-----------+----------+---------+----------+------------+----------+---------+------------------+\n",
       "|         1 |          0 | Allison, Master. | male     |  0.9167 |         1 |         2 |   113781 | 151.55  | C22 C26  | S          |       11 | None    | Montreal, PQ /   |\n",
       "|           |            | Hudson Trevor    |          |         |           |           |          |         |          |            |          |         | Chesterville, ON |\n",
       "+-----------+------------+------------------+----------+---------+-----------+-----------+----------+---------+----------+------------+----------+---------+------------------+\n",
       "(Showing first 2 of 2 rows)"
      ]
     },
     "execution_count": 1,
     "metadata": {},
     "output_type": "execute_result"
    }
   ],
   "source": [
    "import daft \n",
    "\n",
    "df = daft.DataFrame.read_csv('~/development/datasets/titanic.csv')\n",
    "df.limit(2).show()"
   ]
  },
  {
   "cell_type": "markdown",
   "id": "cfaa63ec-0e72-4a19-a104-58345d1f3ff7",
   "metadata": {},
   "source": [
    "<div class=\"alert alert-warning\">\n",
    "    If you look closely, you can see that unless instructed otherwise, daft is using the <b>PyRunner</b> to run the calcualtions.     \n",
    "<br>\n",
    "    This is great for quick expermintaion and for many standard use-cases where the data fits in memory. \n",
    "</div>"
   ]
  },
  {
   "cell_type": "markdown",
   "id": "29808824-5cbd-45bc-b316-c216980ab488",
   "metadata": {},
   "source": [
    "### First things first, we split the data to train and test.    \n",
    "In daft, we can create lazy functions to use as columns, which can save us memory.     \n",
    "To learn more about extending daft with functions, have a look at the [docs](https://getdaft.io/docs/learn/10-min.html#user-defined-functions).\n",
    "\n",
    "Here we will use a `uniform` function to split the data.     \n",
    "By using numpy [default_rng](https://numpy.org/doc/stable/reference/random/generator.html), we can make sure that the function always returns the same values for the split, which guarantees the correctness of the train-test-split."
   ]
  },
  {
   "cell_type": "code",
   "execution_count": 2,
   "id": "75f0932f-c5f0-41d6-9094-5b886c57a359",
   "metadata": {},
   "outputs": [],
   "source": [
    "from daft import polars_udf\n",
    "import polars as pl\n",
    "import numpy as np\n",
    "\n",
    "@polars_udf(return_type=float)\n",
    "def uniform(name: pl.Series, seed=0):\n",
    "    return np.random.default_rng(seed).uniform(0, 1, len(name))\n",
    "\n",
    "def train_test_split(df, fraction=0.8):\n",
    "    return df.where(uniform(df['name']) <= fraction), df.where(uniform(df['name']) > fraction)\n",
    "\n",
    "train, test = train_test_split(df)"
   ]
  },
  {
   "cell_type": "markdown",
   "id": "d2469209-3ea2-473a-aa47-f60ffcb9127a",
   "metadata": {},
   "source": [
    "## Feature engineering"
   ]
  },
  {
   "cell_type": "markdown",
   "id": "587fbcb0-5f6b-4619-b8c1-8f8a9f9a1225",
   "metadata": {},
   "source": [
    "daft has an expressions system, which make a feature like *family_size* easy to do."
   ]
  },
  {
   "cell_type": "code",
   "execution_count": 3,
   "id": "c63d7f16-b37a-4fcf-9094-cb56c1a44186",
   "metadata": {},
   "outputs": [
    {
     "data": {
      "text/html": [
       "\n",
       "        <div>\n",
       "            <table class=\"dataframe\">\n",
       "<thead>\n",
       "<tr><th style=\"text-align: right;\">  pclass<br>INTEGER</th><th style=\"text-align: right;\">  survived<br>INTEGER</th><th>name<br>STRING                </th><th>sex<br>STRING  </th><th style=\"text-align: right;\">  age<br>FLOAT</th><th style=\"text-align: right;\">  sibsp<br>INTEGER</th><th style=\"text-align: right;\">  parch<br>INTEGER</th><th style=\"text-align: right;\">  ticket<br>STRING</th><th style=\"text-align: right;\">  fare<br>FLOAT</th><th>cabin<br>STRING  </th><th>embarked<br>STRING  </th><th style=\"text-align: right;\">  boat<br>STRING</th><th>body<br>FLOAT  </th><th>home_dest<br>STRING            </th><th style=\"text-align: right;\">  family_size<br>INTEGER</th></tr>\n",
       "</thead>\n",
       "<tbody>\n",
       "<tr><td style=\"text-align: right;\">                  1</td><td style=\"text-align: right;\">                    0</td><td>Allen, Miss. Elisabeth Walton </td><td>female         </td><td style=\"text-align: right;\">       29     </td><td style=\"text-align: right;\">                 0</td><td style=\"text-align: right;\">                 0</td><td style=\"text-align: right;\">             24160</td><td style=\"text-align: right;\">        211.338</td><td>B5               </td><td>S                   </td><td style=\"text-align: right;\">               2</td><td>None           </td><td>St Louis, MO                   </td><td style=\"text-align: right;\">                       1</td></tr>\n",
       "<tr><td style=\"text-align: right;\">                  1</td><td style=\"text-align: right;\">                    0</td><td>Allison, Master. Hudson Trevor</td><td>male           </td><td style=\"text-align: right;\">        0.9167</td><td style=\"text-align: right;\">                 1</td><td style=\"text-align: right;\">                 2</td><td style=\"text-align: right;\">            113781</td><td style=\"text-align: right;\">        151.55 </td><td>C22 C26          </td><td>S                   </td><td style=\"text-align: right;\">              11</td><td>None           </td><td>Montreal, PQ / Chesterville, ON</td><td style=\"text-align: right;\">                       4</td></tr>\n",
       "</tbody>\n",
       "</table>\n",
       "            <small>(Showing first 2 of 2 rows)</small>\n",
       "        </div>\n",
       "    "
      ],
      "text/plain": [
       "+-----------+------------+------------------+----------+---------+-----------+-----------+----------+---------+----------+------------+----------+---------+------------------+---------------+\n",
       "|    pclass |   survived | name             | sex      |     age |     sibsp |     parch |   ticket |    fare | cabin    | embarked   |     boat | body    | home_dest        |   family_size |\n",
       "|   INTEGER |    INTEGER | STRING           | STRING   |   FLOAT |   INTEGER |   INTEGER |   STRING |   FLOAT | STRING   | STRING     |   STRING | FLOAT   | STRING           |       INTEGER |\n",
       "+===========+============+==================+==========+=========+===========+===========+==========+=========+==========+============+==========+=========+==================+===============+\n",
       "|         1 |          0 | Allen, Miss.     | female   | 29      |         0 |         0 |    24160 | 211.338 | B5       | S          |        2 | None    | St Louis, MO     |             1 |\n",
       "|           |            | Elisabeth Walton |          |         |           |           |          |         |          |            |          |         |                  |               |\n",
       "+-----------+------------+------------------+----------+---------+-----------+-----------+----------+---------+----------+------------+----------+---------+------------------+---------------+\n",
       "|         1 |          0 | Allison, Master. | male     |  0.9167 |         1 |         2 |   113781 | 151.55  | C22 C26  | S          |       11 | None    | Montreal, PQ /   |             4 |\n",
       "|           |            | Hudson Trevor    |          |         |           |           |          |         |          |            |          |         | Chesterville, ON |               |\n",
       "+-----------+------------+------------------+----------+---------+-----------+-----------+----------+---------+----------+------------+----------+---------+------------------+---------------+\n",
       "(Showing first 2 of 2 rows)"
      ]
     },
     "execution_count": 3,
     "metadata": {},
     "output_type": "execute_result"
    }
   ],
   "source": [
    "train = train.with_column('family_size', train['parch'] + train['sibsp'] + 1)  # the +1 is for self\n",
    "train.limit(2).show()"
   ]
  },
  {
   "cell_type": "markdown",
   "id": "ec844733-79c7-4c3b-848d-c3a6220635de",
   "metadata": {},
   "source": [
    "we can see that the average age is about 30, let's use it to fill missing values using the [if_else](https://getdaft.io/docs/learn/user_guides/expressions.html#if-else-pattern) method."
   ]
  },
  {
   "cell_type": "code",
   "execution_count": 4,
   "id": "874dc7c9-8c90-4d01-940a-df59ecfe4d0e",
   "metadata": {},
   "outputs": [
    {
     "data": {
      "text/html": [
       "\n",
       "        <div>\n",
       "            <table class=\"dataframe\">\n",
       "<thead>\n",
       "<tr><th style=\"text-align: right;\">  age<br>FLOAT</th></tr>\n",
       "</thead>\n",
       "<tbody>\n",
       "<tr><td style=\"text-align: right;\">       29.6177</td></tr>\n",
       "</tbody>\n",
       "</table>\n",
       "            <small>(Showing first 1 of 1 rows)</small>\n",
       "        </div>\n",
       "    "
      ],
      "text/plain": [
       "+---------+\n",
       "|     age |\n",
       "|   FLOAT |\n",
       "+=========+\n",
       "| 29.6177 |\n",
       "+---------+\n",
       "(Showing first 1 of 1 rows)"
      ]
     },
     "execution_count": 4,
     "metadata": {},
     "output_type": "execute_result"
    }
   ],
   "source": [
    "train.mean('age').show()"
   ]
  },
  {
   "cell_type": "markdown",
   "id": "c196bdb3-f62b-4cfd-a2a8-5d96c28505e2",
   "metadata": {},
   "source": [
    "* It is important that both options of the *if_else* are of the same type, in this case float."
   ]
  },
  {
   "cell_type": "code",
   "execution_count": 6,
   "id": "40cbdd76-ead7-4903-9c89-fa6cdc87f90b",
   "metadata": {},
   "outputs": [
    {
     "data": {
      "text/html": [
       "\n",
       "        <div>\n",
       "            <table class=\"dataframe\">\n",
       "<thead>\n",
       "<tr><th style=\"text-align: right;\">  pclass<br>INTEGER</th><th style=\"text-align: right;\">  survived<br>INTEGER</th><th>name<br>STRING                </th><th>sex<br>STRING  </th><th style=\"text-align: right;\">  sibsp<br>INTEGER</th><th style=\"text-align: right;\">  parch<br>INTEGER</th><th style=\"text-align: right;\">  ticket<br>STRING</th><th style=\"text-align: right;\">  fare<br>FLOAT</th><th>cabin<br>STRING  </th><th>embarked<br>STRING  </th><th style=\"text-align: right;\">  boat<br>STRING</th><th>body<br>FLOAT  </th><th>home_dest<br>STRING            </th><th style=\"text-align: right;\">  family_size<br>INTEGER</th><th style=\"text-align: right;\">  age<br>FLOAT</th></tr>\n",
       "</thead>\n",
       "<tbody>\n",
       "<tr><td style=\"text-align: right;\">                  1</td><td style=\"text-align: right;\">                    0</td><td>Allen, Miss. Elisabeth Walton </td><td>female         </td><td style=\"text-align: right;\">                 0</td><td style=\"text-align: right;\">                 0</td><td style=\"text-align: right;\">             24160</td><td style=\"text-align: right;\">        211.338</td><td>B5               </td><td>S                   </td><td style=\"text-align: right;\">               2</td><td>None           </td><td>St Louis, MO                   </td><td style=\"text-align: right;\">                       1</td><td style=\"text-align: right;\">       29     </td></tr>\n",
       "<tr><td style=\"text-align: right;\">                  1</td><td style=\"text-align: right;\">                    0</td><td>Allison, Master. Hudson Trevor</td><td>male           </td><td style=\"text-align: right;\">                 1</td><td style=\"text-align: right;\">                 2</td><td style=\"text-align: right;\">            113781</td><td style=\"text-align: right;\">        151.55 </td><td>C22 C26          </td><td>S                   </td><td style=\"text-align: right;\">              11</td><td>None           </td><td>Montreal, PQ / Chesterville, ON</td><td style=\"text-align: right;\">                       4</td><td style=\"text-align: right;\">        0.9167</td></tr>\n",
       "</tbody>\n",
       "</table>\n",
       "            <small>(Showing first 2 of 2 rows)</small>\n",
       "        </div>\n",
       "    "
      ],
      "text/plain": [
       "+-----------+------------+------------------+----------+-----------+-----------+----------+---------+----------+------------+----------+---------+------------------+---------------+---------+\n",
       "|    pclass |   survived | name             | sex      |     sibsp |     parch |   ticket |    fare | cabin    | embarked   |     boat | body    | home_dest        |   family_size |     age |\n",
       "|   INTEGER |    INTEGER | STRING           | STRING   |   INTEGER |   INTEGER |   STRING |   FLOAT | STRING   | STRING     |   STRING | FLOAT   | STRING           |       INTEGER |   FLOAT |\n",
       "+===========+============+==================+==========+===========+===========+==========+=========+==========+============+==========+=========+==================+===============+=========+\n",
       "|         1 |          0 | Allen, Miss.     | female   |         0 |         0 |    24160 | 211.338 | B5       | S          |        2 | None    | St Louis, MO     |             1 | 29      |\n",
       "|           |            | Elisabeth Walton |          |           |           |          |         |          |            |          |         |                  |               |         |\n",
       "+-----------+------------+------------------+----------+-----------+-----------+----------+---------+----------+------------+----------+---------+------------------+---------------+---------+\n",
       "|         1 |          0 | Allison, Master. | male     |         1 |         2 |   113781 | 151.55  | C22 C26  | S          |       11 | None    | Montreal, PQ /   |             4 |  0.9167 |\n",
       "|           |            | Hudson Trevor    |          |           |           |          |         |          |            |          |         | Chesterville, ON |               |         |\n",
       "+-----------+------------+------------------+----------+-----------+-----------+----------+---------+----------+------------+----------+---------+------------------+---------------+---------+\n",
       "(Showing first 2 of 2 rows)"
      ]
     },
     "execution_count": 6,
     "metadata": {},
     "output_type": "execute_result"
    }
   ],
   "source": [
    "train = train.with_column('age', (train['age'].is_null().if_else(30.0, train['age'])))\n",
    "train.limit(2).show()"
   ]
  },
  {
   "cell_type": "markdown",
   "id": "41cd47b8-d43a-4c32-8d6b-ab05c0989bca",
   "metadata": {},
   "source": [
    "If we need a \"complicated\" *apply*, we can use [polars](https://pola-rs.github.io/polars-book/user-guide/introduction.html) with a UDF"
   ]
  },
  {
   "cell_type": "code",
   "execution_count": 8,
   "id": "b8dd8cee-efae-4d41-8f3c-5009782103f8",
   "metadata": {},
   "outputs": [
    {
     "data": {
      "text/html": [
       "\n",
       "        <div>\n",
       "            <table class=\"dataframe\">\n",
       "<thead>\n",
       "<tr><th style=\"text-align: right;\">  pclass<br>INTEGER</th><th style=\"text-align: right;\">  survived<br>INTEGER</th><th>name<br>STRING                </th><th>sex<br>STRING  </th><th style=\"text-align: right;\">  sibsp<br>INTEGER</th><th style=\"text-align: right;\">  parch<br>INTEGER</th><th style=\"text-align: right;\">  ticket<br>STRING</th><th style=\"text-align: right;\">  fare<br>FLOAT</th><th>cabin<br>STRING  </th><th>embarked<br>STRING  </th><th style=\"text-align: right;\">  boat<br>STRING</th><th>body<br>FLOAT  </th><th>home_dest<br>STRING            </th><th style=\"text-align: right;\">  family_size<br>INTEGER</th><th style=\"text-align: right;\">  age<br>FLOAT</th><th>age_group<br>STRING  </th></tr>\n",
       "</thead>\n",
       "<tbody>\n",
       "<tr><td style=\"text-align: right;\">                  1</td><td style=\"text-align: right;\">                    0</td><td>Allen, Miss. Elisabeth Walton </td><td>female         </td><td style=\"text-align: right;\">                 0</td><td style=\"text-align: right;\">                 0</td><td style=\"text-align: right;\">             24160</td><td style=\"text-align: right;\">        211.338</td><td>B5               </td><td>S                   </td><td style=\"text-align: right;\">               2</td><td>None           </td><td>St Louis, MO                   </td><td style=\"text-align: right;\">                       1</td><td style=\"text-align: right;\">       29     </td><td>adult female         </td></tr>\n",
       "<tr><td style=\"text-align: right;\">                  1</td><td style=\"text-align: right;\">                    0</td><td>Allison, Master. Hudson Trevor</td><td>male           </td><td style=\"text-align: right;\">                 1</td><td style=\"text-align: right;\">                 2</td><td style=\"text-align: right;\">            113781</td><td style=\"text-align: right;\">        151.55 </td><td>C22 C26          </td><td>S                   </td><td style=\"text-align: right;\">              11</td><td>None           </td><td>Montreal, PQ / Chesterville, ON</td><td style=\"text-align: right;\">                       4</td><td style=\"text-align: right;\">        0.9167</td><td>boy                  </td></tr>\n",
       "</tbody>\n",
       "</table>\n",
       "            <small>(Showing first 2 of 2 rows)</small>\n",
       "        </div>\n",
       "    "
      ],
      "text/plain": [
       "+-----------+------------+------------------+----------+-----------+-----------+----------+---------+----------+------------+----------+---------+------------------+---------------+---------+--------------+\n",
       "|    pclass |   survived | name             | sex      |     sibsp |     parch |   ticket |    fare | cabin    | embarked   |     boat | body    | home_dest        |   family_size |     age | age_group    |\n",
       "|   INTEGER |    INTEGER | STRING           | STRING   |   INTEGER |   INTEGER |   STRING |   FLOAT | STRING   | STRING     |   STRING | FLOAT   | STRING           |       INTEGER |   FLOAT | STRING       |\n",
       "+===========+============+==================+==========+===========+===========+==========+=========+==========+============+==========+=========+==================+===============+=========+==============+\n",
       "|         1 |          0 | Allen, Miss.     | female   |         0 |         0 |    24160 | 211.338 | B5       | S          |        2 | None    | St Louis, MO     |             1 | 29      | adult female |\n",
       "|           |            | Elisabeth Walton |          |           |           |          |         |          |            |          |         |                  |               |         |              |\n",
       "+-----------+------------+------------------+----------+-----------+-----------+----------+---------+----------+------------+----------+---------+------------------+---------------+---------+--------------+\n",
       "|         1 |          0 | Allison, Master. | male     |         1 |         2 |   113781 | 151.55  | C22 C26  | S          |       11 | None    | Montreal, PQ /   |             4 |  0.9167 | boy          |\n",
       "|           |            | Hudson Trevor    |          |           |           |          |         |          |            |          |         | Chesterville, ON |               |         |              |\n",
       "+-----------+------------+------------------+----------+-----------+-----------+----------+---------+----------+------------+----------+---------+------------------+---------------+---------+--------------+\n",
       "(Showing first 2 of 2 rows)"
      ]
     },
     "execution_count": 8,
     "metadata": {},
     "output_type": "execute_result"
    }
   ],
   "source": [
    "@polars_udf(return_type=str)\n",
    "def age_group(sex: pl.Series, age: pl.Series):\n",
    "    \n",
    "    def group(x):\n",
    "        if x['sex'] == 'male':\n",
    "            if x['age'] <= 15: \n",
    "                return 'boy'\n",
    "            return 'adult male'\n",
    "        if x['sex'] == 'female':\n",
    "            if x['age'] <= 15:\n",
    "                return 'girl'\n",
    "            return 'adult female'\n",
    "        return 'other'\n",
    "    return pl.DataFrame([sex.alias('sex'), age.alias('age')]).select( \n",
    "        pl.struct(['sex' ,'age']).apply(group).alias('value'))['value'] \n",
    "\n",
    "\n",
    "train = train.with_column('age_group', age_group(train['sex'], train['age']))\n",
    "train.limit(2).show()"
   ]
  },
  {
   "cell_type": "markdown",
   "id": "09bd86bb-9c13-4387-9303-0d991b689d4e",
   "metadata": {},
   "source": [
    "Similarly, we can also use [numpy](https://numpy.org/doc/stable/) for vectorization.    \n",
    "In this case we want to bin the family size and set it as a categorical string.\n"
   ]
  },
  {
   "cell_type": "code",
   "execution_count": 9,
   "id": "e0f4c038-afee-4d69-bf18-f0cb1d79f27e",
   "metadata": {},
   "outputs": [
    {
     "data": {
      "text/html": [
       "\n",
       "        <div>\n",
       "            <table class=\"dataframe\">\n",
       "<thead>\n",
       "<tr><th style=\"text-align: right;\">  pclass<br>INTEGER</th><th style=\"text-align: right;\">  survived<br>INTEGER</th><th>name<br>STRING                </th><th>sex<br>STRING  </th><th style=\"text-align: right;\">  sibsp<br>INTEGER</th><th style=\"text-align: right;\">  parch<br>INTEGER</th><th style=\"text-align: right;\">  ticket<br>STRING</th><th style=\"text-align: right;\">  fare<br>FLOAT</th><th>cabin<br>STRING  </th><th>embarked<br>STRING  </th><th style=\"text-align: right;\">  boat<br>STRING</th><th>body<br>FLOAT  </th><th>home_dest<br>STRING            </th><th style=\"text-align: right;\">  family_size<br>INTEGER</th><th style=\"text-align: right;\">  age<br>FLOAT</th><th>age_group<br>STRING  </th><th style=\"text-align: right;\">  family_bin<br>STRING</th></tr>\n",
       "</thead>\n",
       "<tbody>\n",
       "<tr><td style=\"text-align: right;\">                  1</td><td style=\"text-align: right;\">                    0</td><td>Allen, Miss. Elisabeth Walton </td><td>female         </td><td style=\"text-align: right;\">                 0</td><td style=\"text-align: right;\">                 0</td><td style=\"text-align: right;\">             24160</td><td style=\"text-align: right;\">        211.338</td><td>B5               </td><td>S                   </td><td style=\"text-align: right;\">               2</td><td>None           </td><td>St Louis, MO                   </td><td style=\"text-align: right;\">                       1</td><td style=\"text-align: right;\">       29     </td><td>adult female         </td><td style=\"text-align: right;\">                     2</td></tr>\n",
       "<tr><td style=\"text-align: right;\">                  1</td><td style=\"text-align: right;\">                    0</td><td>Allison, Master. Hudson Trevor</td><td>male           </td><td style=\"text-align: right;\">                 1</td><td style=\"text-align: right;\">                 2</td><td style=\"text-align: right;\">            113781</td><td style=\"text-align: right;\">        151.55 </td><td>C22 C26          </td><td>S                   </td><td style=\"text-align: right;\">              11</td><td>None           </td><td>Montreal, PQ / Chesterville, ON</td><td style=\"text-align: right;\">                       4</td><td style=\"text-align: right;\">        0.9167</td><td>boy                  </td><td style=\"text-align: right;\">                     3</td></tr>\n",
       "</tbody>\n",
       "</table>\n",
       "            <small>(Showing first 2 of 2 rows)</small>\n",
       "        </div>\n",
       "    "
      ],
      "text/plain": [
       "+-----------+------------+------------------+----------+-----------+-----------+----------+---------+----------+------------+----------+---------+------------------+---------------+---------+--------------+--------------+\n",
       "|    pclass |   survived | name             | sex      |     sibsp |     parch |   ticket |    fare | cabin    | embarked   |     boat | body    | home_dest        |   family_size |     age | age_group    |   family_bin |\n",
       "|   INTEGER |    INTEGER | STRING           | STRING   |   INTEGER |   INTEGER |   STRING |   FLOAT | STRING   | STRING     |   STRING | FLOAT   | STRING           |       INTEGER |   FLOAT | STRING       |       STRING |\n",
       "+===========+============+==================+==========+===========+===========+==========+=========+==========+============+==========+=========+==================+===============+=========+==============+==============+\n",
       "|         1 |          0 | Allen, Miss.     | female   |         0 |         0 |    24160 | 211.338 | B5       | S          |        2 | None    | St Louis, MO     |             1 | 29      | adult female |            2 |\n",
       "|           |            | Elisabeth Walton |          |           |           |          |         |          |            |          |         |                  |               |         |              |              |\n",
       "+-----------+------------+------------------+----------+-----------+-----------+----------+---------+----------+------------+----------+---------+------------------+---------------+---------+--------------+--------------+\n",
       "|         1 |          0 | Allison, Master. | male     |         1 |         2 |   113781 | 151.55  | C22 C26  | S          |       11 | None    | Montreal, PQ /   |             4 |  0.9167 | boy          |            3 |\n",
       "|           |            | Hudson Trevor    |          |           |           |          |         |          |            |          |         | Chesterville, ON |               |         |              |              |\n",
       "+-----------+------------+------------------+----------+-----------+-----------+----------+---------+----------+------------+----------+---------+------------------+---------------+---------+--------------+--------------+\n",
       "(Showing first 2 of 2 rows)"
      ]
     },
     "execution_count": 9,
     "metadata": {},
     "output_type": "execute_result"
    }
   ],
   "source": [
    "@polars_udf(return_type=str)\n",
    "def bin_family(size):\n",
    "    bins = [0, 1, 2, 5, 7, 100, 1000]\n",
    "    return np.vectorize(str)(np.digitize(size, bins))\n",
    "\n",
    "train = train.with_column('family_bin',bin_family(train['family_size']))\n",
    "train.limit(2).show()"
   ]
  },
  {
   "cell_type": "markdown",
   "id": "ecbc6a63-ff3c-4ae2-a902-0f7564dbf714",
   "metadata": {},
   "source": [
    "Let's fill all potensial missing values before feeding them to our model"
   ]
  },
  {
   "cell_type": "code",
   "execution_count": 11,
   "id": "77f6c6c4-70d1-4f12-bc9b-cef01cf7d9af",
   "metadata": {},
   "outputs": [
    {
     "data": {
      "text/html": [
       "\n",
       "        <div>\n",
       "            <table class=\"dataframe\">\n",
       "<thead>\n",
       "<tr><th style=\"text-align: right;\">  pclass<br>INTEGER</th><th style=\"text-align: right;\">  survived<br>INTEGER</th><th>name<br>STRING                </th><th style=\"text-align: right;\">  sibsp<br>INTEGER</th><th style=\"text-align: right;\">  parch<br>INTEGER</th><th style=\"text-align: right;\">  ticket<br>STRING</th><th style=\"text-align: right;\">  fare<br>FLOAT</th><th>cabin<br>STRING  </th><th style=\"text-align: right;\">  boat<br>STRING</th><th>body<br>FLOAT  </th><th>home_dest<br>STRING            </th><th style=\"text-align: right;\">  family_size<br>INTEGER</th><th style=\"text-align: right;\">  age<br>FLOAT</th><th>embarked<br>STRING  </th><th>sex<br>STRING  </th><th style=\"text-align: right;\">  family_bin<br>STRING</th><th>age_group<br>STRING  </th></tr>\n",
       "</thead>\n",
       "<tbody>\n",
       "<tr><td style=\"text-align: right;\">                  1</td><td style=\"text-align: right;\">                    0</td><td>Allen, Miss. Elisabeth Walton </td><td style=\"text-align: right;\">                 0</td><td style=\"text-align: right;\">                 0</td><td style=\"text-align: right;\">             24160</td><td style=\"text-align: right;\">        211.338</td><td>B5               </td><td style=\"text-align: right;\">               2</td><td>None           </td><td>St Louis, MO                   </td><td style=\"text-align: right;\">                       1</td><td style=\"text-align: right;\">       29     </td><td>S                   </td><td>female         </td><td style=\"text-align: right;\">                     2</td><td>adult female         </td></tr>\n",
       "<tr><td style=\"text-align: right;\">                  1</td><td style=\"text-align: right;\">                    0</td><td>Allison, Master. Hudson Trevor</td><td style=\"text-align: right;\">                 1</td><td style=\"text-align: right;\">                 2</td><td style=\"text-align: right;\">            113781</td><td style=\"text-align: right;\">        151.55 </td><td>C22 C26          </td><td style=\"text-align: right;\">              11</td><td>None           </td><td>Montreal, PQ / Chesterville, ON</td><td style=\"text-align: right;\">                       4</td><td style=\"text-align: right;\">        0.9167</td><td>S                   </td><td>male           </td><td style=\"text-align: right;\">                     3</td><td>boy                  </td></tr>\n",
       "</tbody>\n",
       "</table>\n",
       "            <small>(Showing first 2 of 2 rows)</small>\n",
       "        </div>\n",
       "    "
      ],
      "text/plain": [
       "+-----------+------------+------------------+-----------+-----------+----------+---------+----------+----------+---------+------------------+---------------+---------+------------+----------+--------------+--------------+\n",
       "|    pclass |   survived | name             |     sibsp |     parch |   ticket |    fare | cabin    |     boat | body    | home_dest        |   family_size |     age | embarked   | sex      |   family_bin | age_group    |\n",
       "|   INTEGER |    INTEGER | STRING           |   INTEGER |   INTEGER |   STRING |   FLOAT | STRING   |   STRING | FLOAT   | STRING           |       INTEGER |   FLOAT | STRING     | STRING   |       STRING | STRING       |\n",
       "+===========+============+==================+===========+===========+==========+=========+==========+==========+=========+==================+===============+=========+============+==========+==============+==============+\n",
       "|         1 |          0 | Allen, Miss.     |         0 |         0 |    24160 | 211.338 | B5       |        2 | None    | St Louis, MO     |             1 | 29      | S          | female   |            2 | adult female |\n",
       "|           |            | Elisabeth Walton |           |           |          |         |          |          |         |                  |               |         |            |          |              |              |\n",
       "+-----------+------------+------------------+-----------+-----------+----------+---------+----------+----------+---------+------------------+---------------+---------+------------+----------+--------------+--------------+\n",
       "|         1 |          0 | Allison, Master. |         1 |         2 |   113781 | 151.55  | C22 C26  |       11 | None    | Montreal, PQ /   |             4 |  0.9167 | S          | male     |            3 | boy          |\n",
       "|           |            | Hudson Trevor    |           |           |          |         |          |          |         | Chesterville, ON |               |         |            |          |              |              |\n",
       "+-----------+------------+------------------+-----------+-----------+----------+---------+----------+----------+---------+------------------+---------------+---------+------------+----------+--------------+--------------+\n",
       "(Showing first 2 of 2 rows)"
      ]
     },
     "execution_count": 11,
     "metadata": {},
     "output_type": "execute_result"
    }
   ],
   "source": [
    "def fillnull(df:daft.DataFrame, columns: str, value:str):\n",
    "    for column in columns:\n",
    "        df = df.with_column(column, (df[column].is_null().if_else(value, df[column])))\n",
    "    return df\n",
    "\n",
    "train = fillnull(train, ['embarked', 'sex', 'family_bin', 'age_group'], '')\n",
    "train.limit(2).show()"
   ]
  },
  {
   "cell_type": "markdown",
   "id": "c45333d1-6917-4111-bb70-e90bc9b7ab44",
   "metadata": {},
   "source": [
    "### Let's put it all together"
   ]
  },
  {
   "cell_type": "code",
   "execution_count": 12,
   "id": "70342ee4-ab60-4812-a1a4-5afade994e0d",
   "metadata": {},
   "outputs": [],
   "source": [
    "@polars_udf(return_type=str)\n",
    "def age_group(sex: pl.Series, age: pl.Series):\n",
    "    \n",
    "    def group(x):\n",
    "        if x['sex'] == 'male':\n",
    "            if x['age'] <= 15:\n",
    "                return 'boy'\n",
    "            return 'adult male'\n",
    "        if x['sex'] == 'female':\n",
    "            if x['age'] <= 15:\n",
    "                return 'girl'\n",
    "            return 'adult female'\n",
    "        return 'other'\n",
    "    return pl.DataFrame([sex.alias('sex'),age.alias('age')]).select(\n",
    "        pl.struct(['sex' ,'age']).apply(group).alias('value'))['value'] \n",
    "\n",
    "\n",
    "@polars_udf(return_type=str)\n",
    "def bin_family(size):\n",
    "    bins = [0, 1, 2, 5, 7, 100, 1000]\n",
    "    return np.vectorize(str)(np.digitize(size, bins))\n",
    "\n",
    "\n",
    "def fillnull(df:daft.DataFrame, columns: str, value:str):\n",
    "    for column in columns:\n",
    "        df = df.with_column(column, (df[column].is_null().if_else(value, df[column])))\n",
    "    return df\n",
    "\n",
    "\n",
    "def preprocess(df):\n",
    "    df = df.with_column('family_size', df['parch'] + df['sibsp'] + 1)\n",
    "    df = df.with_column('age', (df['age'].is_null().if_else(30.0, df['age'])))\n",
    "    df = df.with_column('age_group', age_group(df['sex'], df['age']))\n",
    "    df = df.with_column('family_bin', bin_family(df['family_size']))\n",
    "    df = fillnull(df, ['embarked', 'sex', 'family_bin', 'age_group'], '')\n",
    "    return df\n",
    "\n",
    "train, test = train_test_split(df)\n",
    "train, test = preprocess(train), preprocess(test)"
   ]
  },
  {
   "cell_type": "markdown",
   "id": "1d6e9fb9-c563-414a-8a06-610a265b3f3c",
   "metadata": {},
   "source": [
    "## Modelling with [LightGBM](https://lightgbm.readthedocs.io)"
   ]
  },
  {
   "cell_type": "code",
   "execution_count": 14,
   "id": "c0abee1e-8487-453b-9520-790d35d89811",
   "metadata": {},
   "outputs": [
    {
     "name": "stdout",
     "output_type": "stream",
     "text": [
      "              precision    recall  f1-score   support\n",
      "\n",
      "           0       0.81      0.74      0.77        99\n",
      "           1       0.86      0.90      0.88       174\n",
      "\n",
      "    accuracy                           0.84       273\n",
      "   macro avg       0.83      0.82      0.83       273\n",
      "weighted avg       0.84      0.84      0.84       273\n",
      "\n"
     ]
    }
   ],
   "source": [
    "from lightgbm.sklearn import LGBMClassifier\n",
    "from sklearn.metrics import classification_report\n",
    "import pandas as pd \n",
    "\n",
    "pd.options.mode.chained_assignment = None\n",
    "\n",
    "\n",
    "def to_x_y(df):\n",
    "    data = df.to_pandas()[['embarked', 'sex', 'family_bin', 'age_group','survived']] # fail for some reason if select columns before \"to_pandas\"\n",
    "    X, y = data[['embarked', 'sex', 'family_bin', 'age_group']], data['survived'].values\n",
    "    for column in X.columns:\n",
    "        X[column] = X[column].astype('category')\n",
    "    return X, y\n",
    "\n",
    "\n",
    "X_train, y_train = to_x_y(train)\n",
    "X_test, y_test = to_x_y(test)\n",
    "\n",
    "model = LGBMClassifier().fit(X_train, y_train)\n",
    "print(classification_report(y_test, model.predict(X_test)))"
   ]
  },
  {
   "cell_type": "markdown",
   "id": "4db57543-32af-4871-a9e9-9f9af8e12353",
   "metadata": {},
   "source": [
    "# What about big data? Let's use [Ray](https://docs.ray.io/en/latest/ray-air/examples/lightgbm_example.html)\n",
    "In this case, all of our preprocessing already works in a distributed manner over ray - no changes needed!"
   ]
  },
  {
   "cell_type": "markdown",
   "id": "aa4730e7-c730-441d-9bd4-fb3944a6cf23",
   "metadata": {},
   "source": [
    "To run using ray (even locally), we use `daft.context.set_runner_ray()` at the begining.    "
   ]
  },
  {
   "cell_type": "markdown",
   "id": "2987b7c8-d56d-4dde-940e-5df19476ccfe",
   "metadata": {},
   "source": [
    "<div class=\"alert alert-warning\">\n",
    "    Please restart the kernel for it to work.\n",
    "</div>"
   ]
  },
  {
   "cell_type": "markdown",
   "id": "a9bd05e0-be61-44da-9f80-e49f6521d408",
   "metadata": {},
   "source": [
    "## Setup"
   ]
  },
  {
   "cell_type": "code",
   "execution_count": 1,
   "id": "99fe0abd-d176-49ef-a2a6-f27ff90ace9d",
   "metadata": {},
   "outputs": [
    {
     "name": "stderr",
     "output_type": "stream",
     "text": [
      "2023-01-30 15:18:28.392 | INFO     | daft.context:runner:71 - Using RayRunner\n",
      "2023-01-30 15:18:30,476\tINFO worker.py:1538 -- Started a local Ray instance.\n"
     ]
    }
   ],
   "source": [
    "import daft\n",
    "from daft import polars_udf\n",
    "import polars as pl\n",
    "import numpy as np\n",
    "import pandas as pd \n",
    "\n",
    "pd.options.mode.chained_assignment = None\n",
    "\n",
    "daft.context.set_runner_ray() # <-- This is all you need\n",
    "\n",
    "features = ['embarked', 'sex', 'family_bin', 'age_group']\n",
    "target = 'survived'\n",
    "\n",
    "@polars_udf(return_type=float)\n",
    "def uniform(name: pl.Series, seed=0):\n",
    "    return np.random.default_rng(seed).uniform(0, 1, len(name))\n",
    "\n",
    "def train_test_split(df, fraction=0.8):\n",
    "    return df.where(uniform(df['name']) <= fraction), df.where(uniform(df['name']) > fraction)\n",
    "\n",
    "@polars_udf(return_type=str)\n",
    "def age_group(sex: pl.Series, age: pl.Series):\n",
    "    \n",
    "    def group(x):\n",
    "        if x['sex'] == 'male':\n",
    "            if x['age'] <= 15:\n",
    "                return 'boy'\n",
    "            return 'adult male'\n",
    "        if x['sex'] == 'female':\n",
    "            if x['age'] <= 15:\n",
    "                return 'girl'\n",
    "            return 'adult female'\n",
    "        return 'other'\n",
    "    return pl.DataFrame([sex.alias('sex'),age.alias('age')]).select(\n",
    "        pl.struct(['sex' ,'age']).apply(group).alias('value'))['value'] \n",
    "\n",
    "\n",
    "@polars_udf(return_type=str)\n",
    "def bin_family(size):\n",
    "    bins = [0, 1, 2, 5, 7, 100, 1000]\n",
    "    return np.vectorize(str)(np.digitize(size, bins))\n",
    "\n",
    "\n",
    "def fillnull(df:daft.DataFrame, columns: str, value:str):\n",
    "    for column in columns:\n",
    "        df = df.with_column(column, (df[column].is_null().if_else(value, df[column])))\n",
    "    return df\n",
    "\n",
    "\n",
    "def preprocess(df):\n",
    "    df = df.with_column('family_size', df['parch'] + df['sibsp'] + 1)\n",
    "    df = df.with_column('age', (df['age'].is_null().if_else(30.0, df['age'])))\n",
    "    df = df.with_column('age_group', age_group(df['sex'], df['age']))\n",
    "    df = df.with_column('family_bin', bin_family(df['family_size']))\n",
    "    df = fillnull(df, features, '')\n",
    "    return df\n",
    "\n",
    "\n",
    "df = daft.DataFrame.read_csv('~/development/datasets/titanic.csv')\n",
    "\n",
    "train, test = train_test_split(df)\n",
    "train, test  = preprocess(train), preprocess(test)"
   ]
  },
  {
   "cell_type": "markdown",
   "id": "35032afb-e66b-4e3e-b9a3-243bdabadf0b",
   "metadata": {},
   "source": [
    "## Modelling distributed with [Ray-lightgbm](https://docs.ray.io/en/latest/ray-air/examples/lightgbm_example.html)"
   ]
  },
  {
   "cell_type": "code",
   "execution_count": 2,
   "id": "fa6e8f38-0e81-4af7-b24e-4066d7ea8f7d",
   "metadata": {},
   "outputs": [
    {
     "name": "stderr",
     "output_type": "stream",
     "text": [
      "Map_Batches: 100%|████████████████████████████████████████████████████████████████████████████████████████████████████████████████████████████████████████████████████████████████████████████████████████| 1/1 [00:00<00:00, 28.45it/s]\n",
      "Map_Batches: 100%|████████████████████████████████████████████████████████████████████████████████████████████████████████████████████████████████████████████████████████████████████████████████████████| 1/1 [00:00<00:00, 66.02it/s]\n"
     ]
    },
    {
     "data": {
      "text/html": [
       "<div class=\"tuneStatus\">\n",
       "  <div style=\"display: flex;flex-direction: row\">\n",
       "    <div style=\"display: flex;flex-direction: column;\">\n",
       "      <h3>Tune Status</h3>\n",
       "      <table>\n",
       "<tbody>\n",
       "<tr><td>Current time:</td><td>2023-01-30 15:20:22</td></tr>\n",
       "<tr><td>Running for: </td><td>00:00:09.50        </td></tr>\n",
       "<tr><td>Memory:      </td><td>56.2/64.0 GiB      </td></tr>\n",
       "</tbody>\n",
       "</table>\n",
       "    </div>\n",
       "    <div class=\"vDivider\"></div>\n",
       "    <div class=\"systemInfo\">\n",
       "      <h3>System Info</h3>\n",
       "      Using FIFO scheduling algorithm.<br>Resources requested: 0/10 CPUs, 0/0 GPUs, 0.0/48.89 GiB heap, 0.0/2.0 GiB objects\n",
       "    </div>\n",
       "    \n",
       "  </div>\n",
       "  <div class=\"hDivider\"></div>\n",
       "  <div class=\"trialStatus\">\n",
       "    <h3>Trial Status</h3>\n",
       "    <table>\n",
       "<thead>\n",
       "<tr><th>Trial name                 </th><th>status    </th><th>loc           </th><th style=\"text-align: right;\">  iter</th><th style=\"text-align: right;\">  total time (s)</th><th style=\"text-align: right;\">  train-binary_logloss</th><th style=\"text-align: right;\">  train-binary_error</th><th style=\"text-align: right;\">  test-binary_logloss</th></tr>\n",
       "</thead>\n",
       "<tbody>\n",
       "<tr><td>LightGBMTrainer_35c5d_00000</td><td>TERMINATED</td><td>127.0.0.1:4600</td><td style=\"text-align: right;\">   101</td><td style=\"text-align: right;\">         6.72115</td><td style=\"text-align: right;\">              0.477441</td><td style=\"text-align: right;\">            0.198842</td><td style=\"text-align: right;\">             0.437776</td></tr>\n",
       "</tbody>\n",
       "</table>\n",
       "  </div>\n",
       "</div>\n",
       "<style>\n",
       ".tuneStatus {\n",
       "  color: var(--jp-ui-font-color1);\n",
       "}\n",
       ".tuneStatus .systemInfo {\n",
       "  display: flex;\n",
       "  flex-direction: column;\n",
       "}\n",
       ".tuneStatus td {\n",
       "  white-space: nowrap;\n",
       "}\n",
       ".tuneStatus .trialStatus {\n",
       "  display: flex;\n",
       "  flex-direction: column;\n",
       "}\n",
       ".tuneStatus h3 {\n",
       "  font-weight: bold;\n",
       "}\n",
       ".tuneStatus .hDivider {\n",
       "  border-bottom-width: var(--jp-border-width);\n",
       "  border-bottom-color: var(--jp-border-color0);\n",
       "  border-bottom-style: solid;\n",
       "}\n",
       ".tuneStatus .vDivider {\n",
       "  border-left-width: var(--jp-border-width);\n",
       "  border-left-color: var(--jp-border-color0);\n",
       "  border-left-style: solid;\n",
       "  margin: 0.5em 1em 0.5em 1em;\n",
       "}\n",
       "</style>\n"
      ],
      "text/plain": [
       "<IPython.core.display.HTML object>"
      ]
     },
     "metadata": {},
     "output_type": "display_data"
    },
    {
     "name": "stderr",
     "output_type": "stream",
     "text": [
      "\u001B[2m\u001B[36m(LightGBMTrainer pid=4600)\u001B[0m /Users/yonatanalexander/development/daft_notebooks/.venv/lib/python3.9/site-packages/lightgbm_ray/main.py:189: UserWarning: `num_actors` in `ray_params` is smaller than 2 (1). LightGBM will NOT be distributed!\n",
      "\u001B[2m\u001B[36m(LightGBMTrainer pid=4600)\u001B[0m   warnings.warn(\n"
     ]
    },
    {
     "name": "stdout",
     "output_type": "stream",
     "text": [
      "\u001B[2m\u001B[36m(_RemoteRayLightGBMActor pid=4604)\u001B[0m [LightGBM] [Warning] num_threads is set=2, n_jobs=-1 will be ignored. Current value: num_threads=2\n"
     ]
    },
    {
     "name": "stderr",
     "output_type": "stream",
     "text": [
      "\u001B[2m\u001B[36m(_RemoteRayLightGBMActor pid=4604)\u001B[0m /Users/yonatanalexander/development/daft_notebooks/.venv/lib/python3.9/site-packages/lightgbm/basic.py:1780: UserWarning: Overriding the parameters from Reference Dataset.\n",
      "\u001B[2m\u001B[36m(_RemoteRayLightGBMActor pid=4604)\u001B[0m   _log_warning('Overriding the parameters from Reference Dataset.')\n",
      "\u001B[2m\u001B[36m(_RemoteRayLightGBMActor pid=4604)\u001B[0m /Users/yonatanalexander/development/daft_notebooks/.venv/lib/python3.9/site-packages/lightgbm/basic.py:1513: UserWarning: categorical_column in param dict is overridden.\n",
      "\u001B[2m\u001B[36m(_RemoteRayLightGBMActor pid=4604)\u001B[0m   _log_warning(f'{cat_alias} in param dict is overridden.')\n"
     ]
    },
    {
     "data": {
      "text/html": [
       "<div class=\"trialProgress\">\n",
       "  <h3>Trial Progress</h3>\n",
       "  <table>\n",
       "<thead>\n",
       "<tr><th>Trial name                 </th><th>date               </th><th>done  </th><th>episodes_total  </th><th>experiment_id                   </th><th style=\"text-align: right;\">  experiment_tag</th><th>hostname     </th><th style=\"text-align: right;\">  iterations_since_restore</th><th>node_ip  </th><th style=\"text-align: right;\">  pid</th><th>should_checkpoint  </th><th style=\"text-align: right;\">  test-binary_error</th><th style=\"text-align: right;\">  test-binary_logloss</th><th style=\"text-align: right;\">  time_since_restore</th><th style=\"text-align: right;\">  time_this_iter_s</th><th style=\"text-align: right;\">  time_total_s</th><th style=\"text-align: right;\">  timestamp</th><th style=\"text-align: right;\">  timesteps_since_restore</th><th>timesteps_total  </th><th style=\"text-align: right;\">  train-binary_error</th><th style=\"text-align: right;\">  train-binary_logloss</th><th style=\"text-align: right;\">  training_iteration</th><th>trial_id   </th><th style=\"text-align: right;\">  warmup_time</th></tr>\n",
       "</thead>\n",
       "<tbody>\n",
       "<tr><td>LightGBMTrainer_35c5d_00000</td><td>2023-01-30_15-20-22</td><td>True  </td><td>                </td><td>fc50cfe07b8e416c80b1d6b4e3360bda</td><td style=\"text-align: right;\">               0</td><td>MacBook-Pro-2</td><td style=\"text-align: right;\">                       101</td><td>127.0.0.1</td><td style=\"text-align: right;\"> 4600</td><td>True               </td><td style=\"text-align: right;\">           0.157509</td><td style=\"text-align: right;\">             0.437776</td><td style=\"text-align: right;\">             6.72115</td><td style=\"text-align: right;\">          0.849191</td><td style=\"text-align: right;\">       6.72115</td><td style=\"text-align: right;\"> 1675088422</td><td style=\"text-align: right;\">                        0</td><td>                 </td><td style=\"text-align: right;\">            0.198842</td><td style=\"text-align: right;\">              0.477441</td><td style=\"text-align: right;\">                 101</td><td>35c5d_00000</td><td style=\"text-align: right;\">      0.01087</td></tr>\n",
       "</tbody>\n",
       "</table>\n",
       "</div>\n",
       "<style>\n",
       ".trialProgress {\n",
       "  display: flex;\n",
       "  flex-direction: column;\n",
       "  color: var(--jp-ui-font-color1);\n",
       "}\n",
       ".trialProgress h3 {\n",
       "  font-weight: bold;\n",
       "}\n",
       ".trialProgress td {\n",
       "  white-space: nowrap;\n",
       "}\n",
       "</style>\n"
      ],
      "text/plain": [
       "<IPython.core.display.HTML object>"
      ]
     },
     "metadata": {},
     "output_type": "display_data"
    },
    {
     "name": "stderr",
     "output_type": "stream",
     "text": [
      "2023-01-30 15:20:22,724\tINFO tune.py:762 -- Total run time: 9.69 seconds (9.47 seconds for the tuning loop).\n"
     ]
    },
    {
     "name": "stdout",
     "output_type": "stream",
     "text": [
      "              precision    recall  f1-score   support\n",
      "\n",
      "           0       0.81      0.74      0.77        99\n",
      "           1       0.86      0.90      0.88       174\n",
      "\n",
      "    accuracy                           0.84       273\n",
      "   macro avg       0.83      0.82      0.83       273\n",
      "weighted avg       0.84      0.84      0.84       273\n",
      "\n"
     ]
    }
   ],
   "source": [
    "import warnings\n",
    "import ray\n",
    "from ray.data.preprocessors import OrdinalEncoder, Chain, Categorizer\n",
    "from ray.train.batch_predictor import BatchPredictor\n",
    "from ray.air.config import ScalingConfig, RunConfig, CheckpointConfig\n",
    "from ray.train.lightgbm import LightGBMTrainer, LightGBMPredictor\n",
    "from tempfile import TemporaryDirectory\n",
    "from sklearn.metrics import classification_report\n",
    "\n",
    "\n",
    "def to_ray(df):\n",
    "    return df.to_ray_dataset().select_columns(features + [target])\n",
    "\n",
    "\n",
    "def to_x_y(df):\n",
    "    data = df.to_pandas()[['embarked', 'sex', 'family_bin', 'age_group','survived']] # fail for some reason if select before \"to_pandas\"\n",
    "    X, y = data[['embarked', 'sex', 'family_bin', 'age_group']], data['survived'].values\n",
    "    for column in X.columns:\n",
    "        X[column] = X[column].astype('category')\n",
    "    return X, y\n",
    "\n",
    "\n",
    "tmpdir = TemporaryDirectory() # for local clean experimentation, alternatively it is saved in the ~/ray_result directory\n",
    "run_config = RunConfig(local_dir=tmpdir.name)\n",
    "\n",
    "datasets = {\"train\": to_ray(train), \"test\":to_ray(test)}\n",
    "\n",
    "trainer = LightGBMTrainer(\n",
    "    scaling_config=ScalingConfig(num_workers=1, use_gpu=False), # you can scale up as you like, use GPUS and all that jazz\n",
    "    run_config = run_config,\n",
    "    label_column=target,\n",
    "    params={\"objective\": \"binary\", \"metric\": [\"binary_logloss\", \"binary_error\"], \"verbose\":-1},\n",
    "    datasets=datasets,\n",
    "    preprocessor=Chain(Categorizer(features)),\n",
    "    num_boost_round=100,\n",
    ")\n",
    "\n",
    "result = trainer.fit()\n",
    "model = LightGBMPredictor.from_checkpoint(result.checkpoint)\n",
    "# model = BatchPredictor.from_checkpoint(result.checkpoint, LightGBMPredictor) # if we want batch predictions\n",
    "X_test, y_test   = to_x_y(test)\n",
    "print(classification_report(y_test, (model.predict(X_test) > 0.5).astype(int)))"
   ]
  },
  {
   "cell_type": "markdown",
   "id": "57a70b74-b670-4427-a681-c57372290894",
   "metadata": {},
   "source": [
    "# Conclution\n",
    "We have just used the flexability of Polars, with the ecosystem of numpy and pandas, and the scalability of Ray, to run preprocessing modelling with lightGBM."
   ]
  }
 ],
 "metadata": {
  "kernelspec": {
   "display_name": "Python 3 (ipyflow)",
   "language": "python",
   "name": "ipyflow"
  },
  "language_info": {
   "codemirror_mode": {
    "name": "ipython",
    "version": 3
   },
   "file_extension": ".py",
   "mimetype": "text/x-python",
   "name": "python",
   "nbconvert_exporter": "python",
   "pygments_lexer": "ipython3",
   "version": "3.9.16"
  }
 },
 "nbformat": 4,
 "nbformat_minor": 5
}