{
 "cells": [
  {
   "cell_type": "markdown",
   "id": "9b14abf5-a183-4bfb-9b15-a9a54b744fce",
   "metadata": {},
   "source": [
    "# Quickstart with DaFt\n",
    "\n",
    "```{hint}\n",
    "✨✨✨ **Run this notebook on Google Colab** ✨✨✨\n",
    "\n",
    "You can [run this notebook yourself with Google Colab](https://colab.research.google.com/github/Eventual-Inc/Daft/blob/main/tutorials/quickstart.ipynb)!\n",
    "```\n",
    "\n",
    "\n",
    "The MNIST Dataset is a \"large database of handwritten digits that is commonly used for training various image processing systems\"."
   ]
  },
  {
   "cell_type": "code",
   "execution_count": null,
   "id": "d1b56860-db41-4829-b395-176e11987cdc",
   "metadata": {},
   "outputs": [],
   "source": [
    "!pip install getdaft\n",
    "!pip install Pillow torch torchvision"
   ]
  },
  {
   "cell_type": "markdown",
   "id": "252b5128-99c2-49dd-b624-6e4b21275959",
   "metadata": {},
   "source": [
    "## Loading Data\n",
    "\n",
    "This is a JSON file containing all the data for the MNIST test set. Let's load it up into a DaFt Dataframe!"
   ]
  },
  {
   "cell_type": "code",
   "execution_count": 1,
   "id": "fc63a3ad-0e0a-4ab3-9cc0-cbec8bdd0632",
   "metadata": {},
   "outputs": [],
   "source": [
    "from daft import DataFrame, udf\n",
    "\n",
    "URL = \"https://github.com/Eventual-Inc/mnist-json/raw/master/mnist_handwritten_test.json.gz\"\n",
    "images_df = DataFrame.from_json(URL)"
   ]
  },
  {
   "cell_type": "markdown",
   "id": "d52f6032-6619-4682-8305-2ed65bdc194c",
   "metadata": {},
   "source": [
    "To peek at the dataset, simply have your notebook display the images_df that was just created."
   ]
  },
  {
   "cell_type": "code",
   "execution_count": 2,
   "id": "73a71adf-3b2e-4ec5-a0d2-34ad8eec734c",
   "metadata": {},
   "outputs": [
    {
     "data": {
      "text/html": [
       "<table border=\"1\" class=\"dataframe\">\n",
       "  <thead>\n",
       "    <tr style=\"text-align: right;\">\n",
       "      <th>column_name</th>\n",
       "      <th>type</th>\n",
       "    </tr>\n",
       "  </thead>\n",
       "  <tbody>\n",
       "    <tr>\n",
       "      <td>image</td>\n",
       "      <td>PY[list]</td>\n",
       "    </tr>\n",
       "    <tr>\n",
       "      <td>label</td>\n",
       "      <td>INTEGER</td>\n",
       "    </tr>\n",
       "  </tbody>\n",
       "</table>"
      ],
      "text/plain": [
       "column_name     type\n",
       "      image PY[list]\n",
       "      label  INTEGER"
      ]
     },
     "execution_count": 2,
     "metadata": {},
     "output_type": "execute_result"
    }
   ],
   "source": [
    "images_df"
   ]
  },
  {
   "cell_type": "code",
   "execution_count": 3,
   "id": "4787caab-d7d1-4fd4-9a76-ffb08a404a31",
   "metadata": {},
   "outputs": [
    {
     "name": "stderr",
     "output_type": "stream",
     "text": [
      "2022-11-09 03:30:09.258 | INFO     | daft.context:runner:70 - Using PyRunner\n"
     ]
    },
    {
     "data": {
      "text/html": [
       "\n",
       "        <div>\n",
       "            <table class=\"dataframe\">\n",
       "<thead>\n",
       "<tr><th>image<br>PY[list]                                           </th><th style=\"text-align: right;\">  label<br>INTEGER</th></tr>\n",
       "</thead>\n",
       "<tbody>\n",
       "<tr><td>[0, 0, 0, 0, 0, 0, 0, 0, 0, 0, 0, 0, 0, 0, 0, 0, 0, 0, 0,...</td><td style=\"text-align: right;\">                 7</td></tr>\n",
       "<tr><td>[0, 0, 0, 0, 0, 0, 0, 0, 0, 0, 0, 0, 0, 0, 0, 0, 0, 0, 0,...</td><td style=\"text-align: right;\">                 2</td></tr>\n",
       "<tr><td>[0, 0, 0, 0, 0, 0, 0, 0, 0, 0, 0, 0, 0, 0, 0, 0, 0, 0, 0,...</td><td style=\"text-align: right;\">                 1</td></tr>\n",
       "<tr><td>[0, 0, 0, 0, 0, 0, 0, 0, 0, 0, 0, 0, 0, 0, 0, 0, 0, 0, 0,...</td><td style=\"text-align: right;\">                 0</td></tr>\n",
       "<tr><td>[0, 0, 0, 0, 0, 0, 0, 0, 0, 0, 0, 0, 0, 0, 0, 0, 0, 0, 0,...</td><td style=\"text-align: right;\">                 4</td></tr>\n",
       "<tr><td>[0, 0, 0, 0, 0, 0, 0, 0, 0, 0, 0, 0, 0, 0, 0, 0, 0, 0, 0,...</td><td style=\"text-align: right;\">                 1</td></tr>\n",
       "<tr><td>[0, 0, 0, 0, 0, 0, 0, 0, 0, 0, 0, 0, 0, 0, 0, 0, 0, 0, 0,...</td><td style=\"text-align: right;\">                 4</td></tr>\n",
       "<tr><td>[0, 0, 0, 0, 0, 0, 0, 0, 0, 0, 0, 0, 0, 0, 0, 0, 0, 0, 0,...</td><td style=\"text-align: right;\">                 9</td></tr>\n",
       "<tr><td>[0, 0, 0, 0, 0, 0, 0, 0, 0, 0, 0, 0, 0, 0, 0, 0, 0, 0, 0,...</td><td style=\"text-align: right;\">                 5</td></tr>\n",
       "<tr><td>[0, 0, 0, 0, 0, 0, 0, 0, 0, 0, 0, 0, 0, 0, 0, 0, 0, 0, 0,...</td><td style=\"text-align: right;\">                 9</td></tr>\n",
       "</tbody>\n",
       "</table>\n",
       "            <small>(Showing first 10 rows)</small>\n",
       "        </div>\n",
       "    "
      ],
      "text/plain": [
       "                                               image  label\n",
       "0  [0, 0, 0, 0, 0, 0, 0, 0, 0, 0, 0, 0, 0, 0, 0, ...      7\n",
       "1  [0, 0, 0, 0, 0, 0, 0, 0, 0, 0, 0, 0, 0, 0, 0, ...      2\n",
       "2  [0, 0, 0, 0, 0, 0, 0, 0, 0, 0, 0, 0, 0, 0, 0, ...      1\n",
       "3  [0, 0, 0, 0, 0, 0, 0, 0, 0, 0, 0, 0, 0, 0, 0, ...      0\n",
       "4  [0, 0, 0, 0, 0, 0, 0, 0, 0, 0, 0, 0, 0, 0, 0, ...      4\n",
       "5  [0, 0, 0, 0, 0, 0, 0, 0, 0, 0, 0, 0, 0, 0, 0, ...      1\n",
       "6  [0, 0, 0, 0, 0, 0, 0, 0, 0, 0, 0, 0, 0, 0, 0, ...      4\n",
       "7  [0, 0, 0, 0, 0, 0, 0, 0, 0, 0, 0, 0, 0, 0, 0, ...      9\n",
       "8  [0, 0, 0, 0, 0, 0, 0, 0, 0, 0, 0, 0, 0, 0, 0, ...      5\n",
       "9  [0, 0, 0, 0, 0, 0, 0, 0, 0, 0, 0, 0, 0, 0, 0, ...      9"
      ]
     },
     "execution_count": 3,
     "metadata": {},
     "output_type": "execute_result"
    }
   ],
   "source": [
    "images_df.show(10)"
   ]
  },
  {
   "cell_type": "markdown",
   "id": "426f1bbb-e1c0-4fd6-b84e-cbb1ab309ff9",
   "metadata": {},
   "source": [
    "You just loaded your first DaFt Dataframe! It consists of two columns:\n",
    "1. The \"image\" column is a Python column of type `list` - where it looks like each row contains a list of digits representing the pixels of each image\n",
    "2. The \"label\" column is an Integer column, consisting of just the label of that image."
   ]
  },
  {
   "cell_type": "markdown",
   "id": "9a7872e3-9860-4867-8a8c-61a69f69e334",
   "metadata": {},
   "source": [
    "## Processing Columns with User-Defined Functions (UDF)\n",
    "\n",
    "It seems our JSON file has provided us with a one-dimensional array of pixels instead of two-dimensional images. We can easily modify data in this column by instructing DaFt to run a method on every row in the column like so:"
   ]
  },
  {
   "cell_type": "code",
   "execution_count": 4,
   "id": "af857589-b28a-4ee0-91cd-dc7a01ff4c07",
   "metadata": {},
   "outputs": [],
   "source": [
    "import numpy as np\n",
    "\n",
    "def list_to_array(pixels: list) -> np.ndarray:\n",
    "    return np.array(pixels).reshape(28, 28)\n",
    "\n",
    "images_df = images_df.with_column(\n",
    "    \"image_2d\",\n",
    "    images_df[\"image\"].apply(list_to_array),\n",
    ")"
   ]
  },
  {
   "cell_type": "code",
   "execution_count": 5,
   "id": "d1212a7e-949a-4881-ba54-9d7e7eb31e6f",
   "metadata": {},
   "outputs": [
    {
     "data": {
      "text/html": [
       "\n",
       "        <div>\n",
       "            <table class=\"dataframe\">\n",
       "<thead>\n",
       "<tr><th>image<br>PY[list]                                           </th><th style=\"text-align: right;\">  label<br>INTEGER</th><th>image_2d<br>PY[ndarray]                          </th></tr>\n",
       "</thead>\n",
       "<tbody>\n",
       "<tr><td>[0, 0, 0, 0, 0, 0, 0, 0, 0, 0, 0, 0, 0, 0, 0, 0, 0, 0, 0,...</td><td style=\"text-align: right;\">                 7</td><td>&ltnp.ndarray<br>shape=(28, 28)<br>dtype=int64&gt</td></tr>\n",
       "<tr><td>[0, 0, 0, 0, 0, 0, 0, 0, 0, 0, 0, 0, 0, 0, 0, 0, 0, 0, 0,...</td><td style=\"text-align: right;\">                 2</td><td>&ltnp.ndarray<br>shape=(28, 28)<br>dtype=int64&gt</td></tr>\n",
       "<tr><td>[0, 0, 0, 0, 0, 0, 0, 0, 0, 0, 0, 0, 0, 0, 0, 0, 0, 0, 0,...</td><td style=\"text-align: right;\">                 1</td><td>&ltnp.ndarray<br>shape=(28, 28)<br>dtype=int64&gt</td></tr>\n",
       "<tr><td>[0, 0, 0, 0, 0, 0, 0, 0, 0, 0, 0, 0, 0, 0, 0, 0, 0, 0, 0,...</td><td style=\"text-align: right;\">                 0</td><td>&ltnp.ndarray<br>shape=(28, 28)<br>dtype=int64&gt</td></tr>\n",
       "<tr><td>[0, 0, 0, 0, 0, 0, 0, 0, 0, 0, 0, 0, 0, 0, 0, 0, 0, 0, 0,...</td><td style=\"text-align: right;\">                 4</td><td>&ltnp.ndarray<br>shape=(28, 28)<br>dtype=int64&gt</td></tr>\n",
       "<tr><td>[0, 0, 0, 0, 0, 0, 0, 0, 0, 0, 0, 0, 0, 0, 0, 0, 0, 0, 0,...</td><td style=\"text-align: right;\">                 1</td><td>&ltnp.ndarray<br>shape=(28, 28)<br>dtype=int64&gt</td></tr>\n",
       "<tr><td>[0, 0, 0, 0, 0, 0, 0, 0, 0, 0, 0, 0, 0, 0, 0, 0, 0, 0, 0,...</td><td style=\"text-align: right;\">                 4</td><td>&ltnp.ndarray<br>shape=(28, 28)<br>dtype=int64&gt</td></tr>\n",
       "<tr><td>[0, 0, 0, 0, 0, 0, 0, 0, 0, 0, 0, 0, 0, 0, 0, 0, 0, 0, 0,...</td><td style=\"text-align: right;\">                 9</td><td>&ltnp.ndarray<br>shape=(28, 28)<br>dtype=int64&gt</td></tr>\n",
       "<tr><td>[0, 0, 0, 0, 0, 0, 0, 0, 0, 0, 0, 0, 0, 0, 0, 0, 0, 0, 0,...</td><td style=\"text-align: right;\">                 5</td><td>&ltnp.ndarray<br>shape=(28, 28)<br>dtype=int64&gt</td></tr>\n",
       "<tr><td>[0, 0, 0, 0, 0, 0, 0, 0, 0, 0, 0, 0, 0, 0, 0, 0, 0, 0, 0,...</td><td style=\"text-align: right;\">                 9</td><td>&ltnp.ndarray<br>shape=(28, 28)<br>dtype=int64&gt</td></tr>\n",
       "</tbody>\n",
       "</table>\n",
       "            <small>(Showing first 10 rows)</small>\n",
       "        </div>\n",
       "    "
      ],
      "text/plain": [
       "                                               image  label  \\\n",
       "0  [0, 0, 0, 0, 0, 0, 0, 0, 0, 0, 0, 0, 0, 0, 0, ...      7   \n",
       "1  [0, 0, 0, 0, 0, 0, 0, 0, 0, 0, 0, 0, 0, 0, 0, ...      2   \n",
       "2  [0, 0, 0, 0, 0, 0, 0, 0, 0, 0, 0, 0, 0, 0, 0, ...      1   \n",
       "3  [0, 0, 0, 0, 0, 0, 0, 0, 0, 0, 0, 0, 0, 0, 0, ...      0   \n",
       "4  [0, 0, 0, 0, 0, 0, 0, 0, 0, 0, 0, 0, 0, 0, 0, ...      4   \n",
       "5  [0, 0, 0, 0, 0, 0, 0, 0, 0, 0, 0, 0, 0, 0, 0, ...      1   \n",
       "6  [0, 0, 0, 0, 0, 0, 0, 0, 0, 0, 0, 0, 0, 0, 0, ...      4   \n",
       "7  [0, 0, 0, 0, 0, 0, 0, 0, 0, 0, 0, 0, 0, 0, 0, ...      9   \n",
       "8  [0, 0, 0, 0, 0, 0, 0, 0, 0, 0, 0, 0, 0, 0, 0, ...      5   \n",
       "9  [0, 0, 0, 0, 0, 0, 0, 0, 0, 0, 0, 0, 0, 0, 0, ...      9   \n",
       "\n",
       "                                            image_2d  \n",
       "0  [[0, 0, 0, 0, 0, 0, 0, 0, 0, 0, 0, 0, 0, 0, 0,...  \n",
       "1  [[0, 0, 0, 0, 0, 0, 0, 0, 0, 0, 0, 0, 0, 0, 0,...  \n",
       "2  [[0, 0, 0, 0, 0, 0, 0, 0, 0, 0, 0, 0, 0, 0, 0,...  \n",
       "3  [[0, 0, 0, 0, 0, 0, 0, 0, 0, 0, 0, 0, 0, 0, 0,...  \n",
       "4  [[0, 0, 0, 0, 0, 0, 0, 0, 0, 0, 0, 0, 0, 0, 0,...  \n",
       "5  [[0, 0, 0, 0, 0, 0, 0, 0, 0, 0, 0, 0, 0, 0, 0,...  \n",
       "6  [[0, 0, 0, 0, 0, 0, 0, 0, 0, 0, 0, 0, 0, 0, 0,...  \n",
       "7  [[0, 0, 0, 0, 0, 0, 0, 0, 0, 0, 0, 0, 0, 0, 0,...  \n",
       "8  [[0, 0, 0, 0, 0, 0, 0, 0, 0, 0, 0, 0, 0, 0, 0,...  \n",
       "9  [[0, 0, 0, 0, 0, 0, 0, 0, 0, 0, 0, 0, 0, 0, 0,...  "
      ]
     },
     "execution_count": 5,
     "metadata": {},
     "output_type": "execute_result"
    }
   ],
   "source": [
    "images_df.show(10)"
   ]
  },
  {
   "cell_type": "markdown",
   "id": "cd0d2664-12d8-4964-85cd-a67f8fee1384",
   "metadata": {},
   "source": [
    "Great, but we can do one better - let's convert these two-dimensional arrays into Images. Computers speak in pixels and arrays, but humans do much better with visual patterns!"
   ]
  },
  {
   "cell_type": "code",
   "execution_count": 6,
   "id": "e585303a-7c83-4a31-afbb-461c951481f7",
   "metadata": {},
   "outputs": [],
   "source": [
    "from PIL import Image\n",
    "\n",
    "def arr_to_image(arr: np.ndarray) -> Image.Image:\n",
    "    return Image.fromarray(arr.astype(np.uint8))\n",
    "\n",
    "images_df = images_df.with_column(\"pil_image\", images_df[\"image_2d\"].apply(arr_to_image))"
   ]
  },
  {
   "cell_type": "code",
   "execution_count": 7,
   "id": "59b655ed-13aa-4764-acd4-a00beb91ec2f",
   "metadata": {},
   "outputs": [
    {
     "data": {
      "text/html": [
       "\n",
       "        <div>\n",
       "            <table class=\"dataframe\">\n",
       "<thead>\n",
       "<tr><th>image<br>PY[list]                                           </th><th style=\"text-align: right;\">  label<br>INTEGER</th><th>image_2d<br>PY[ndarray]                          </th><th>pil_image<br>PY[Image]                                                                                                                                                                                                                                                                                                                                                                                                                                                                                                                                                                                                                                                                                                                                                                                                                                                                                                                                              </th></tr>\n",
       "</thead>\n",
       "<tbody>\n",
       "<tr><td>[0, 0, 0, 0, 0, 0, 0, 0, 0, 0, 0, 0, 0, 0, 0, 0, 0, 0, 0,...</td><td style=\"text-align: right;\">                 7</td><td>&ltnp.ndarray<br>shape=(28, 28)<br>dtype=int64&gt</td><td><img style=\"max-height:128px;width:auto\" src=\"data:image/png;base64, /9j/4AAQSkZJRgABAQAAAQABAAD/2wBDAAgGBgcGBQgHBwcJCQgKDBQNDAsLDBkSEw8UHRofHh0aHBwgJC4nICIsIxwcKDcpLDAxNDQ0Hyc5PTgyPC4zNDL/wAALCAAcABwBAREA/8QAHwAAAQUBAQEBAQEAAAAAAAAAAAECAwQFBgcICQoL/8QAtRAAAgEDAwIEAwUFBAQAAAF9AQIDAAQRBRIhMUEGE1FhByJxFDKBkaEII0KxwRVS0fAkM2JyggkKFhcYGRolJicoKSo0NTY3ODk6Q0RFRkdISUpTVFVWV1hZWmNkZWZnaGlqc3R1dnd4eXqDhIWGh4iJipKTlJWWl5iZmqKjpKWmp6ipqrKztLW2t7i5usLDxMXGx8jJytLT1NXW19jZ2uHi4+Tl5ufo6erx8vP09fb3+Pn6/9oACAEBAAA/APA4Lea6nSC3hkmmc4SONSzMfQAdadc2dzZSmK7tpoJB/BKhU/kahoq1pupXuj6hDf6dcyW13CSY5YzhlyCDj8CRXXWvxe8b20SxtrH2lVOQbqCOU9OmWUn/APVXUfEfxBqCfDzSNJ16S2uNd1JxqEqpbohtIMYjQbQBlsEnv1HpXj9Fdx8OvDNlqNxe+IdeVh4e0VPPucLnznyNkQ/3j1/LjOa57xPr9z4n8R3usXQ2vcSZVB0jQcKo9gABWRRXSxeOdXt/A0nhGAW0WnSzGaZ1j/ey8g7SxOMZA6AHjrXNUV//2Q==\" alt=\"<PIL.Image.Image image mode=L size=28x28 at 0x1297685B0>\" />                                                    </td></tr>\n",
       "<tr><td>[0, 0, 0, 0, 0, 0, 0, 0, 0, 0, 0, 0, 0, 0, 0, 0, 0, 0, 0,...</td><td style=\"text-align: right;\">                 2</td><td>&ltnp.ndarray<br>shape=(28, 28)<br>dtype=int64&gt</td><td><img style=\"max-height:128px;width:auto\" src=\"data:image/png;base64, /9j/4AAQSkZJRgABAQAAAQABAAD/2wBDAAgGBgcGBQgHBwcJCQgKDBQNDAsLDBkSEw8UHRofHh0aHBwgJC4nICIsIxwcKDcpLDAxNDQ0Hyc5PTgyPC4zNDL/wAALCAAcABwBAREA/8QAHwAAAQUBAQEBAQEAAAAAAAAAAAECAwQFBgcICQoL/8QAtRAAAgEDAwIEAwUFBAQAAAF9AQIDAAQRBRIhMUEGE1FhByJxFDKBkaEII0KxwRVS0fAkM2JyggkKFhcYGRolJicoKSo0NTY3ODk6Q0RFRkdISUpTVFVWV1hZWmNkZWZnaGlqc3R1dnd4eXqDhIWGh4iJipKTlJWWl5iZmqKjpKWmp6ipqrKztLW2t7i5usLDxMXGx8jJytLT1NXW19jZ2uHi4+Tl5ufo6erx8vP09fb3+Pn6/9oACAEBAAA/APAY42lkWNBl2IVR6k17BB8L/BemalZaB4h8TXr+I7oKhtNNi3rDI3TcdpyB36HvwK8z8UaL/wAI74o1LRxOs4s52iEg/iAPGff196yaK9d+H1lbeCPCdz8SNZjWW5bdBpFtJw0jn5TIDn/eHToCe4ryvUb+51XUrnULyQyXNzK0srnuzHJqtRX0J4utvBHxCXSLez+INlo+m2dqqQ2EkQCIf7xLMoB24XB9Pc1wp8D+AdMc/wBrfEaCbazDy9Os2l3YHGHBIHPtj3riNfg0a31V00G8ubuw2qUkuYhG+ccgge9ZlFFFf//Z\" alt=\"<PIL.Image.Image image mode=L size=28x28 at 0x1297685E0>\" />                                                </td></tr>\n",
       "<tr><td>[0, 0, 0, 0, 0, 0, 0, 0, 0, 0, 0, 0, 0, 0, 0, 0, 0, 0, 0,...</td><td style=\"text-align: right;\">                 1</td><td>&ltnp.ndarray<br>shape=(28, 28)<br>dtype=int64&gt</td><td><img style=\"max-height:128px;width:auto\" src=\"data:image/png;base64, /9j/4AAQSkZJRgABAQAAAQABAAD/2wBDAAgGBgcGBQgHBwcJCQgKDBQNDAsLDBkSEw8UHRofHh0aHBwgJC4nICIsIxwcKDcpLDAxNDQ0Hyc5PTgyPC4zNDL/wAALCAAcABwBAREA/8QAHwAAAQUBAQEBAQEAAAAAAAAAAAECAwQFBgcICQoL/8QAtRAAAgEDAwIEAwUFBAQAAAF9AQIDAAQRBRIhMUEGE1FhByJxFDKBkaEII0KxwRVS0fAkM2JyggkKFhcYGRolJicoKSo0NTY3ODk6Q0RFRkdISUpTVFVWV1hZWmNkZWZnaGlqc3R1dnd4eXqDhIWGh4iJipKTlJWWl5iZmqKjpKWmp6ipqrKztLW2t7i5usLDxMXGx8jJytLT1NXW19jZ2uHi4+Tl5ufo6erx8vP09fb3+Pn6/9oACAEBAAA/APn+lALEAAkngAd62PFGgjw1rR0trrz5o4Ynn/d7PLkZAzR9TnbnGfboKxqK634a6PHrPjrT1uAhs7Mm9ut/TyovmOfrgD8awte1M614h1LVCGX7ZcyThWOSoZiQM+2cVn0V6J4RFvo/wu8X63NKi3F6qaVarxuYsQ0nvjaR+XevO6KKKKK//9k=\" alt=\"<PIL.Image.Image image mode=L size=28x28 at 0x129768610>\" />                                                                                                                                                                                </td></tr>\n",
       "<tr><td>[0, 0, 0, 0, 0, 0, 0, 0, 0, 0, 0, 0, 0, 0, 0, 0, 0, 0, 0,...</td><td style=\"text-align: right;\">                 0</td><td>&ltnp.ndarray<br>shape=(28, 28)<br>dtype=int64&gt</td><td><img style=\"max-height:128px;width:auto\" src=\"data:image/png;base64, /9j/4AAQSkZJRgABAQAAAQABAAD/2wBDAAgGBgcGBQgHBwcJCQgKDBQNDAsLDBkSEw8UHRofHh0aHBwgJC4nICIsIxwcKDcpLDAxNDQ0Hyc5PTgyPC4zNDL/wAALCAAcABwBAREA/8QAHwAAAQUBAQEBAQEAAAAAAAAAAAECAwQFBgcICQoL/8QAtRAAAgEDAwIEAwUFBAQAAAF9AQIDAAQRBRIhMUEGE1FhByJxFDKBkaEII0KxwRVS0fAkM2JyggkKFhcYGRolJicoKSo0NTY3ODk6Q0RFRkdISUpTVFVWV1hZWmNkZWZnaGlqc3R1dnd4eXqDhIWGh4iJipKTlJWWl5iZmqKjpKWmp6ipqrKztLW2t7i5usLDxMXGx8jJytLT1NXW19jZ2uHi4+Tl5ufo6erx8vP09fb3+Pn6/9oACAEBAAA/APn+u6+Hnwx1Lx9cTlZmsLGGMn7W8JdWfOAijIz3yc8Y+lcdqFjPpt9NaXMbJJE5U7lIzg4yM9qrVJbwtcXMUKqzNI4QBRkkk44r6F8c/Em3+GdnD4I8KWyi5sYVWS4lXiEsA/TGHZg24nplu5zjC11T8SPgyfFupp5WtaK7RG4Cqi3SFl4J46AjA9QcferxOtDQr9NK8Q6ZqMiF0tLuKdlHUhXDEfpX0VqHgHwJ461y88a3niUy2Ny0P7uKdIY0KoqbXZgTzt6fKetcF8VfiLpOo6Ta+E/CStBpNsx+0MkflpKRjaqgdVzkkkcnB9z5FRRRRX//2Q==\" alt=\"<PIL.Image.Image image mode=L size=28x28 at 0x129768640>\" />                            </td></tr>\n",
       "<tr><td>[0, 0, 0, 0, 0, 0, 0, 0, 0, 0, 0, 0, 0, 0, 0, 0, 0, 0, 0,...</td><td style=\"text-align: right;\">                 4</td><td>&ltnp.ndarray<br>shape=(28, 28)<br>dtype=int64&gt</td><td><img style=\"max-height:128px;width:auto\" src=\"data:image/png;base64, /9j/4AAQSkZJRgABAQAAAQABAAD/2wBDAAgGBgcGBQgHBwcJCQgKDBQNDAsLDBkSEw8UHRofHh0aHBwgJC4nICIsIxwcKDcpLDAxNDQ0Hyc5PTgyPC4zNDL/wAALCAAcABwBAREA/8QAHwAAAQUBAQEBAQEAAAAAAAAAAAECAwQFBgcICQoL/8QAtRAAAgEDAwIEAwUFBAQAAAF9AQIDAAQRBRIhMUEGE1FhByJxFDKBkaEII0KxwRVS0fAkM2JyggkKFhcYGRolJicoKSo0NTY3ODk6Q0RFRkdISUpTVFVWV1hZWmNkZWZnaGlqc3R1dnd4eXqDhIWGh4iJipKTlJWWl5iZmqKjpKWmp6ipqrKztLW2t7i5usLDxMXGx8jJytLT1NXW19jZ2uHi4+Tl5ufo6erx8vP09fb3+Pn6/9oACAEBAAA/APn+tC60W7s9E0/Vpggtr95kgGTuPl7QxPGMZbA57Gohpl0dHOqhAbRZxbswYZDldwBHuAefY1Uq/oenDWNf07TDIIxd3McBc/w7mAz+tb3xG1NLvxZcadZxmHS9JJsLKDGAiIcM2PVm3MSeeea2PElpH4a+Enh/SWTN7rVwdXmc8FIwmyNfoQxP5151T4ZpLeeOeF2jljYOjqcFWByCK7GT4qeKJRvkk097njN02nQNMSO5YpyccV0Hx4u3uPFOipI/72PRoTNGDgRyFnJG3+E9OPTFeV0UVJPPNczvPcSvLM53PJIxZmPqSetR1//Z\" alt=\"<PIL.Image.Image image mode=L size=28x28 at 0x129768670>\" />                                        </td></tr>\n",
       "<tr><td>[0, 0, 0, 0, 0, 0, 0, 0, 0, 0, 0, 0, 0, 0, 0, 0, 0, 0, 0,...</td><td style=\"text-align: right;\">                 1</td><td>&ltnp.ndarray<br>shape=(28, 28)<br>dtype=int64&gt</td><td><img style=\"max-height:128px;width:auto\" src=\"data:image/png;base64, /9j/4AAQSkZJRgABAQAAAQABAAD/2wBDAAgGBgcGBQgHBwcJCQgKDBQNDAsLDBkSEw8UHRofHh0aHBwgJC4nICIsIxwcKDcpLDAxNDQ0Hyc5PTgyPC4zNDL/wAALCAAcABwBAREA/8QAHwAAAQUBAQEBAQEAAAAAAAAAAAECAwQFBgcICQoL/8QAtRAAAgEDAwIEAwUFBAQAAAF9AQIDAAQRBRIhMUEGE1FhByJxFDKBkaEII0KxwRVS0fAkM2JyggkKFhcYGRolJicoKSo0NTY3ODk6Q0RFRkdISUpTVFVWV1hZWmNkZWZnaGlqc3R1dnd4eXqDhIWGh4iJipKTlJWWl5iZmqKjpKWmp6ipqrKztLW2t7i5usLDxMXGx8jJytLT1NXW19jZ2uHi4+Tl5ufo6erx8vP09fb3+Pn6/9oACAEBAAA/APn+nIjSOqIpZmOAB1Jrb8V+EtT8GarFpuq+R9pkgSfEMm8KGzwfQgggj8sjBrCorvvg3oI1z4kaeZULW1jm8lO3IGz7uf8AgW2sTx54iPirxvqurhswzTFYOMful+VOO3ygE+5Nc5RXqvgG4Hh34TeM/EUIH22Yx6dC4bDRhupH/fYP/Aa8qooqVLidIJIEmkWGQgvGGIViOmR0OKior//Z\" alt=\"<PIL.Image.Image image mode=L size=28x28 at 0x1297686A0>\" />                                                                                                                                                </td></tr>\n",
       "<tr><td>[0, 0, 0, 0, 0, 0, 0, 0, 0, 0, 0, 0, 0, 0, 0, 0, 0, 0, 0,...</td><td style=\"text-align: right;\">                 4</td><td>&ltnp.ndarray<br>shape=(28, 28)<br>dtype=int64&gt</td><td><img style=\"max-height:128px;width:auto\" src=\"data:image/png;base64, /9j/4AAQSkZJRgABAQAAAQABAAD/2wBDAAgGBgcGBQgHBwcJCQgKDBQNDAsLDBkSEw8UHRofHh0aHBwgJC4nICIsIxwcKDcpLDAxNDQ0Hyc5PTgyPC4zNDL/wAALCAAcABwBAREA/8QAHwAAAQUBAQEBAQEAAAAAAAAAAAECAwQFBgcICQoL/8QAtRAAAgEDAwIEAwUFBAQAAAF9AQIDAAQRBRIhMUEGE1FhByJxFDKBkaEII0KxwRVS0fAkM2JyggkKFhcYGRolJicoKSo0NTY3ODk6Q0RFRkdISUpTVFVWV1hZWmNkZWZnaGlqc3R1dnd4eXqDhIWGh4iJipKTlJWWl5iZmqKjpKWmp6ipqrKztLW2t7i5usLDxMXGx8jJytLT1NXW19jZ2uHi4+Tl5ufo6erx8vP09fb3+Pn6/9oACAEBAAA/APn8DJwOtbWveF9R8NxWB1PyYp7yHz1tRJmWJD08xf4SRyAefyNVtL0PUNZivpbOJWisYDcXEjuEWNB6knqTwB1JrOrc8HXGkWnjDS7jXU36XHOGuBgnjsSByQDg8eneu68W+F9I8QeIbrXm+I+iTR30jSjzN/moucBPLUEjCgAA4zjgVB8RYbPwLo1v4D0m6FxM7C71e52KGlfH7uPjkKvzHB/vCvMKK734O6JFrPxCtmnjEsOnxPfNDs3GUpjaoHruZT+Fc94ui1ZfE15PrcSw6jdSG4miDKTGXJO0gH5T7Hkd6w6Kmtru5spvOtbiWCXBXfE5VsHgjIqEkk5JyaK//9k=\" alt=\"<PIL.Image.Image image mode=L size=28x28 at 0x1297686D0>\" />            </td></tr>\n",
       "<tr><td>[0, 0, 0, 0, 0, 0, 0, 0, 0, 0, 0, 0, 0, 0, 0, 0, 0, 0, 0,...</td><td style=\"text-align: right;\">                 9</td><td>&ltnp.ndarray<br>shape=(28, 28)<br>dtype=int64&gt</td><td><img style=\"max-height:128px;width:auto\" src=\"data:image/png;base64, /9j/4AAQSkZJRgABAQAAAQABAAD/2wBDAAgGBgcGBQgHBwcJCQgKDBQNDAsLDBkSEw8UHRofHh0aHBwgJC4nICIsIxwcKDcpLDAxNDQ0Hyc5PTgyPC4zNDL/wAALCAAcABwBAREA/8QAHwAAAQUBAQEBAQEAAAAAAAAAAAECAwQFBgcICQoL/8QAtRAAAgEDAwIEAwUFBAQAAAF9AQIDAAQRBRIhMUEGE1FhByJxFDKBkaEII0KxwRVS0fAkM2JyggkKFhcYGRolJicoKSo0NTY3ODk6Q0RFRkdISUpTVFVWV1hZWmNkZWZnaGlqc3R1dnd4eXqDhIWGh4iJipKTlJWWl5iZmqKjpKWmp6ipqrKztLW2t7i5usLDxMXGx8jJytLT1NXW19jZ2uHi4+Tl5ufo6erx8vP09fb3+Pn6/9oACAEBAAA/APn+tODw9q9zod1rUOnztplqVE11twiksFABPU5I6ZxmsyiivqLRLvU9Lm0Tw8ui2EngQ6RHJdX8ynyjuQu7MzYXlv4SP4sn28K+JegweHPH+qafaW8kFnvEturEEbGGflx/DkkD6c81yVFasniXWpfD8egyancNpUb70tS3yA/4c5x0rsdQuB48+G8V40gbXvDSeXcA8vcWZICv6koSAfQHPevOaKKuabqt9o9xJPYXDQSSwvBJgAh43GGUg8EEf0PUVTr/2Q==\" alt=\"<PIL.Image.Image image mode=L size=28x28 at 0x129768700>\" />                                                                                            </td></tr>\n",
       "<tr><td>[0, 0, 0, 0, 0, 0, 0, 0, 0, 0, 0, 0, 0, 0, 0, 0, 0, 0, 0,...</td><td style=\"text-align: right;\">                 5</td><td>&ltnp.ndarray<br>shape=(28, 28)<br>dtype=int64&gt</td><td><img style=\"max-height:128px;width:auto\" src=\"data:image/png;base64, /9j/4AAQSkZJRgABAQAAAQABAAD/2wBDAAgGBgcGBQgHBwcJCQgKDBQNDAsLDBkSEw8UHRofHh0aHBwgJC4nICIsIxwcKDcpLDAxNDQ0Hyc5PTgyPC4zNDL/wAALCAAcABwBAREA/8QAHwAAAQUBAQEBAQEAAAAAAAAAAAECAwQFBgcICQoL/8QAtRAAAgEDAwIEAwUFBAQAAAF9AQIDAAQRBRIhMUEGE1FhByJxFDKBkaEII0KxwRVS0fAkM2JyggkKFhcYGRolJicoKSo0NTY3ODk6Q0RFRkdISUpTVFVWV1hZWmNkZWZnaGlqc3R1dnd4eXqDhIWGh4iJipKTlJWWl5iZmqKjpKWmp6ipqrKztLW2t7i5usLDxMXGx8jJytLT1NXW19jZ2uHi4+Tl5ufo6erx8vP09fb3+Pn6/9oACAEBAAA/APn+tnw34W1nxbqJsNFszczqu9xvVQi5xkliBjmvRV/Z78QxRxPe6zo9qHzkNKxKnB/2QDzjoe9eWarp76TrF7p0kscr2lxJA0kRyrlGKkqfQ44rp/hh4Qi8aeMY7C53m0gha6nRDhnRSBtB7ZLAZ96k8Saj4ssfFl/fw6fqHh5yFiWC0RoRFCMbEyoAIwBz3PNcjeXF5cXDNfTTyzg4YzsWbPvnmq9XtI1nUtA1KPUNKvJbS7j+7JGcHHoR0I9jwa9/+FfxZvtfhv8AStf1ezj1bCtYz3MQVH4wVYKVyc4PUHk+lcJ8cvEeheIPE1l/Y8sNzNawGO6uoEwkjZyAD3xz69epry2iiiiv/9k=\" alt=\"<PIL.Image.Image image mode=L size=28x28 at 0x129768730>\" /></td></tr>\n",
       "<tr><td>[0, 0, 0, 0, 0, 0, 0, 0, 0, 0, 0, 0, 0, 0, 0, 0, 0, 0, 0,...</td><td style=\"text-align: right;\">                 9</td><td>&ltnp.ndarray<br>shape=(28, 28)<br>dtype=int64&gt</td><td><img style=\"max-height:128px;width:auto\" src=\"data:image/png;base64, /9j/4AAQSkZJRgABAQAAAQABAAD/2wBDAAgGBgcGBQgHBwcJCQgKDBQNDAsLDBkSEw8UHRofHh0aHBwgJC4nICIsIxwcKDcpLDAxNDQ0Hyc5PTgyPC4zNDL/wAALCAAcABwBAREA/8QAHwAAAQUBAQEBAQEAAAAAAAAAAAECAwQFBgcICQoL/8QAtRAAAgEDAwIEAwUFBAQAAAF9AQIDAAQRBRIhMUEGE1FhByJxFDKBkaEII0KxwRVS0fAkM2JyggkKFhcYGRolJicoKSo0NTY3ODk6Q0RFRkdISUpTVFVWV1hZWmNkZWZnaGlqc3R1dnd4eXqDhIWGh4iJipKTlJWWl5iZmqKjpKWmp6ipqrKztLW2t7i5usLDxMXGx8jJytLT1NXW19jZ2uHi4+Tl5ufo6erx8vP09fb3+Pn6/9oACAEBAAA/APn+pIYJbiVYoInlkbgIilifwFSXlheadP5F9aT2s2M+XPGUb8iKr1f0S0s77XLG01C7FnZzTKk1wf8AlmpPLV9EXGh6zpyLpvwzTw7pljMqhdRa7WW5us4O4HDcdR39sVL47u08P/De9sPG2qW+p6jd2qx2dsi/OJlQKZA2ASu8CTJAwcjJzXzHRXtHwx0jTvBnhC6+JHiG3DupMelQswzI3IyB2JOQCegDHGOa8q8Qa9feJddu9W1CUvcXEhbGSQgzwq56ADgCsyiug1zxnq3iHQ9H0e9eIWekw+VAkSld3AAZueWwAM8fqa5+iv/Z\" alt=\"<PIL.Image.Image image mode=L size=28x28 at 0x129768760>\" />                                        </td></tr>\n",
       "</tbody>\n",
       "</table>\n",
       "            <small>(Showing first 10 rows)</small>\n",
       "        </div>\n",
       "    "
      ],
      "text/plain": [
       "                                               image  label  \\\n",
       "0  [0, 0, 0, 0, 0, 0, 0, 0, 0, 0, 0, 0, 0, 0, 0, ...      7   \n",
       "1  [0, 0, 0, 0, 0, 0, 0, 0, 0, 0, 0, 0, 0, 0, 0, ...      2   \n",
       "2  [0, 0, 0, 0, 0, 0, 0, 0, 0, 0, 0, 0, 0, 0, 0, ...      1   \n",
       "3  [0, 0, 0, 0, 0, 0, 0, 0, 0, 0, 0, 0, 0, 0, 0, ...      0   \n",
       "4  [0, 0, 0, 0, 0, 0, 0, 0, 0, 0, 0, 0, 0, 0, 0, ...      4   \n",
       "5  [0, 0, 0, 0, 0, 0, 0, 0, 0, 0, 0, 0, 0, 0, 0, ...      1   \n",
       "6  [0, 0, 0, 0, 0, 0, 0, 0, 0, 0, 0, 0, 0, 0, 0, ...      4   \n",
       "7  [0, 0, 0, 0, 0, 0, 0, 0, 0, 0, 0, 0, 0, 0, 0, ...      9   \n",
       "8  [0, 0, 0, 0, 0, 0, 0, 0, 0, 0, 0, 0, 0, 0, 0, ...      5   \n",
       "9  [0, 0, 0, 0, 0, 0, 0, 0, 0, 0, 0, 0, 0, 0, 0, ...      9   \n",
       "\n",
       "                                            image_2d  \\\n",
       "0  [[0, 0, 0, 0, 0, 0, 0, 0, 0, 0, 0, 0, 0, 0, 0,...   \n",
       "1  [[0, 0, 0, 0, 0, 0, 0, 0, 0, 0, 0, 0, 0, 0, 0,...   \n",
       "2  [[0, 0, 0, 0, 0, 0, 0, 0, 0, 0, 0, 0, 0, 0, 0,...   \n",
       "3  [[0, 0, 0, 0, 0, 0, 0, 0, 0, 0, 0, 0, 0, 0, 0,...   \n",
       "4  [[0, 0, 0, 0, 0, 0, 0, 0, 0, 0, 0, 0, 0, 0, 0,...   \n",
       "5  [[0, 0, 0, 0, 0, 0, 0, 0, 0, 0, 0, 0, 0, 0, 0,...   \n",
       "6  [[0, 0, 0, 0, 0, 0, 0, 0, 0, 0, 0, 0, 0, 0, 0,...   \n",
       "7  [[0, 0, 0, 0, 0, 0, 0, 0, 0, 0, 0, 0, 0, 0, 0,...   \n",
       "8  [[0, 0, 0, 0, 0, 0, 0, 0, 0, 0, 0, 0, 0, 0, 0,...   \n",
       "9  [[0, 0, 0, 0, 0, 0, 0, 0, 0, 0, 0, 0, 0, 0, 0,...   \n",
       "\n",
       "                                           pil_image  \n",
       "0  <PIL.Image.Image image mode=L size=28x28 at 0x...  \n",
       "1  <PIL.Image.Image image mode=L size=28x28 at 0x...  \n",
       "2  <PIL.Image.Image image mode=L size=28x28 at 0x...  \n",
       "3  <PIL.Image.Image image mode=L size=28x28 at 0x...  \n",
       "4  <PIL.Image.Image image mode=L size=28x28 at 0x...  \n",
       "5  <PIL.Image.Image image mode=L size=28x28 at 0x...  \n",
       "6  <PIL.Image.Image image mode=L size=28x28 at 0x...  \n",
       "7  <PIL.Image.Image image mode=L size=28x28 at 0x...  \n",
       "8  <PIL.Image.Image image mode=L size=28x28 at 0x...  \n",
       "9  <PIL.Image.Image image mode=L size=28x28 at 0x...  "
      ]
     },
     "execution_count": 7,
     "metadata": {},
     "output_type": "execute_result"
    }
   ],
   "source": [
    "images_df.show(10)"
   ]
  },
  {
   "cell_type": "markdown",
   "id": "e6b633f4-3d9d-4c25-9075-bc815d8e357f",
   "metadata": {},
   "source": [
    "Amazing! This looks great and we can finally get some idea of what the dataset truly looks like."
   ]
  },
  {
   "cell_type": "markdown",
   "id": "cd7e6774-9fb7-4827-a324-c116c8c812e1",
   "metadata": {},
   "source": [
    "## Running a model with Stateful UDFs\n",
    "\n",
    "Next, let's try to run a deep learning model to classify each image. Models are expensive to initialize and load, so we want to do this as few times as possible, and share a model across multiple invocations. Here's how we can do it with \"Stateful UDFs\".\n",
    "\n",
    "For the convenience of this quickstart tutorial, we pre-trained a model using a PyTorch-provided example script and saved the trained weights at https://github.com/Eventual-Inc/mnist-json/raw/master/mnist_cnn.pt.  We need to define the same deep learning model \"scaffold\" as the trained model that we want to load (this part is all PyTorch and is not specific at all to DaFt)\n",
    "\n",
    "```{hint}\n",
    "✨✨✨ **Run the next hidden cell** ✨✨✨\n",
    "\n",
    "The next cell is hidden as it contains PyTorch machine learning code that is not necessary to understand to use Daft. Running the cell provides a new function `get_model()` which will return an initialized, trained model that can classify MNIST images.\n",
    "```"
   ]
  },
  {
   "cell_type": "code",
   "execution_count": 8,
   "id": "5ff43066-8a42-4773-974f-160ca4a9bc49",
   "metadata": {
    "jupyter": {
     "source_hidden": true
    },
    "tags": []
   },
   "outputs": [
    {
     "data": {
      "text/plain": [
       "<function __main__.get_model()>"
      ]
     },
     "execution_count": 8,
     "metadata": {},
     "output_type": "execute_result"
    }
   ],
   "source": [
    "###\n",
    "# Model was trained using a script provided in PyTorch Examples: https://github.com/pytorch/examples/blob/main/mnist/main.py\n",
    "###\n",
    "\n",
    "from __future__ import print_function\n",
    "import argparse\n",
    "import torch\n",
    "import torch.nn as nn\n",
    "import torch.nn.functional as F\n",
    "import torch.optim as optim\n",
    "import torch.hub\n",
    "from torchvision import datasets, transforms\n",
    "from torch.optim.lr_scheduler import StepLR\n",
    "\n",
    "class Net(nn.Module):\n",
    "    def __init__(self):\n",
    "        super(Net, self).__init__()\n",
    "        self.conv1 = nn.Conv2d(1, 32, 3, 1)\n",
    "        self.conv2 = nn.Conv2d(32, 64, 3, 1)\n",
    "        self.dropout1 = nn.Dropout(0.25)\n",
    "        self.dropout2 = nn.Dropout(0.5)\n",
    "        self.fc1 = nn.Linear(9216, 128)\n",
    "        self.fc2 = nn.Linear(128, 10)\n",
    "\n",
    "    def forward(self, x):\n",
    "        x = self.conv1(x)\n",
    "        x = F.relu(x)\n",
    "        x = self.conv2(x)\n",
    "        x = F.relu(x)\n",
    "        x = F.max_pool2d(x, 2)\n",
    "        x = self.dropout1(x)\n",
    "        x = torch.flatten(x, 1)\n",
    "        x = self.fc1(x)\n",
    "        x = F.relu(x)\n",
    "        x = self.dropout2(x)\n",
    "        x = self.fc2(x)\n",
    "        output = F.log_softmax(x, dim=1)\n",
    "        return output\n",
    "\n",
    "def get_model():\n",
    "    model = Net()\n",
    "    state_dict = torch.hub.load_state_dict_from_url(\"https://github.com/Eventual-Inc/mnist-json/raw/master/mnist_cnn.pt\")\n",
    "    model.load_state_dict(state_dict)\n",
    "    return model\n",
    "\n",
    "get_model"
   ]
  },
  {
   "cell_type": "code",
   "execution_count": 9,
   "id": "4d9dae05-e5b7-4f75-a3e2-fee1cab73430",
   "metadata": {},
   "outputs": [],
   "source": [
    "assert \"get_model\" in globals(), \"Make sure to run the previous hidden cell!\""
   ]
  },
  {
   "cell_type": "markdown",
   "id": "266c1cf8-bf9a-4990-8182-97b072f15b57",
   "metadata": {},
   "source": [
    "Now comes the fun part - we can define a Stateful UDF using a class and the `@udf` decorator. This lets us use the class' `__init__` method to perform any expensive initializations such as downloading the model weights and loading the model."
   ]
  },
  {
   "cell_type": "code",
   "execution_count": 10,
   "id": "fda097ea-4946-483c-bcc0-5271e0b033c3",
   "metadata": {},
   "outputs": [
    {
     "name": "stderr",
     "output_type": "stream",
     "text": [
      "/Users/jaychia/code/Daft/daft/udf.py:80: UserWarning: DEPRECATION WARNING: @udf will be deprecated in 0.1.0 in favor of @polars_udf which is much more efficient and handles Null/NaN semantics correctly\n",
      "  warnings.warn(\n"
     ]
    }
   ],
   "source": [
    "@udf(return_type=int)\n",
    "class ClassifyImages:\n",
    "\n",
    "    def __init__(self):\n",
    "        # Perform expensive initializations - create the model, download model weights and load up the model with weights\n",
    "        self._model = get_model()\n",
    "\n",
    "    def __call__(self, images_2d_col):\n",
    "        images_2d = np.array([arr for arr in images_2d_col])\n",
    "        normalized_image_2d = images_2d / 255\n",
    "        normalized_image_2d = normalized_image_2d[:, np.newaxis, :, :]\n",
    "        classifications = self._model(torch.from_numpy(normalized_image_2d).float())\n",
    "        return classifications.detach().numpy().argmax(axis=1)"
   ]
  },
  {
   "cell_type": "markdown",
   "id": "3605d3a6-f9ce-4e81-9e0f-5190f981bbd4",
   "metadata": {},
   "source": [
    "Using this Stateful Class UDF is really easy, we simply run it on the columns that we want to process:"
   ]
  },
  {
   "cell_type": "code",
   "execution_count": 11,
   "id": "4f9fd9f8-a231-44fb-a519-0288f670a34a",
   "metadata": {},
   "outputs": [
    {
     "data": {
      "text/html": [
       "\n",
       "        <div>\n",
       "            <table class=\"dataframe\">\n",
       "<thead>\n",
       "<tr><th>image<br>PY[list]                                           </th><th style=\"text-align: right;\">  label<br>INTEGER</th><th>image_2d<br>PY[ndarray]                          </th><th>pil_image<br>PY[Image]                                                                                                                                                                                                                                                                                                                                                                                                                                                                                                                                                                                                                                                                                                                                                                                                                                                                                                                                              </th><th style=\"text-align: right;\">  model_classification<br>INTEGER</th></tr>\n",
       "</thead>\n",
       "<tbody>\n",
       "<tr><td>[0, 0, 0, 0, 0, 0, 0, 0, 0, 0, 0, 0, 0, 0, 0, 0, 0, 0, 0,...</td><td style=\"text-align: right;\">                 7</td><td>&ltnp.ndarray<br>shape=(28, 28)<br>dtype=int64&gt</td><td><img style=\"max-height:128px;width:auto\" src=\"data:image/png;base64, /9j/4AAQSkZJRgABAQAAAQABAAD/2wBDAAgGBgcGBQgHBwcJCQgKDBQNDAsLDBkSEw8UHRofHh0aHBwgJC4nICIsIxwcKDcpLDAxNDQ0Hyc5PTgyPC4zNDL/wAALCAAcABwBAREA/8QAHwAAAQUBAQEBAQEAAAAAAAAAAAECAwQFBgcICQoL/8QAtRAAAgEDAwIEAwUFBAQAAAF9AQIDAAQRBRIhMUEGE1FhByJxFDKBkaEII0KxwRVS0fAkM2JyggkKFhcYGRolJicoKSo0NTY3ODk6Q0RFRkdISUpTVFVWV1hZWmNkZWZnaGlqc3R1dnd4eXqDhIWGh4iJipKTlJWWl5iZmqKjpKWmp6ipqrKztLW2t7i5usLDxMXGx8jJytLT1NXW19jZ2uHi4+Tl5ufo6erx8vP09fb3+Pn6/9oACAEBAAA/APA4Lea6nSC3hkmmc4SONSzMfQAdadc2dzZSmK7tpoJB/BKhU/kahoq1pupXuj6hDf6dcyW13CSY5YzhlyCDj8CRXXWvxe8b20SxtrH2lVOQbqCOU9OmWUn/APVXUfEfxBqCfDzSNJ16S2uNd1JxqEqpbohtIMYjQbQBlsEnv1HpXj9Fdx8OvDNlqNxe+IdeVh4e0VPPucLnznyNkQ/3j1/LjOa57xPr9z4n8R3usXQ2vcSZVB0jQcKo9gABWRRXSxeOdXt/A0nhGAW0WnSzGaZ1j/ey8g7SxOMZA6AHjrXNUV//2Q==\" alt=\"<PIL.Image.Image image mode=L size=28x28 at 0x148E2E550>\" />                                                    </td><td style=\"text-align: right;\">                                7</td></tr>\n",
       "<tr><td>[0, 0, 0, 0, 0, 0, 0, 0, 0, 0, 0, 0, 0, 0, 0, 0, 0, 0, 0,...</td><td style=\"text-align: right;\">                 2</td><td>&ltnp.ndarray<br>shape=(28, 28)<br>dtype=int64&gt</td><td><img style=\"max-height:128px;width:auto\" src=\"data:image/png;base64, /9j/4AAQSkZJRgABAQAAAQABAAD/2wBDAAgGBgcGBQgHBwcJCQgKDBQNDAsLDBkSEw8UHRofHh0aHBwgJC4nICIsIxwcKDcpLDAxNDQ0Hyc5PTgyPC4zNDL/wAALCAAcABwBAREA/8QAHwAAAQUBAQEBAQEAAAAAAAAAAAECAwQFBgcICQoL/8QAtRAAAgEDAwIEAwUFBAQAAAF9AQIDAAQRBRIhMUEGE1FhByJxFDKBkaEII0KxwRVS0fAkM2JyggkKFhcYGRolJicoKSo0NTY3ODk6Q0RFRkdISUpTVFVWV1hZWmNkZWZnaGlqc3R1dnd4eXqDhIWGh4iJipKTlJWWl5iZmqKjpKWmp6ipqrKztLW2t7i5usLDxMXGx8jJytLT1NXW19jZ2uHi4+Tl5ufo6erx8vP09fb3+Pn6/9oACAEBAAA/APAY42lkWNBl2IVR6k17BB8L/BemalZaB4h8TXr+I7oKhtNNi3rDI3TcdpyB36HvwK8z8UaL/wAI74o1LRxOs4s52iEg/iAPGff196yaK9d+H1lbeCPCdz8SNZjWW5bdBpFtJw0jn5TIDn/eHToCe4ryvUb+51XUrnULyQyXNzK0srnuzHJqtRX0J4utvBHxCXSLez+INlo+m2dqqQ2EkQCIf7xLMoB24XB9Pc1wp8D+AdMc/wBrfEaCbazDy9Os2l3YHGHBIHPtj3riNfg0a31V00G8ubuw2qUkuYhG+ccgge9ZlFFFf//Z\" alt=\"<PIL.Image.Image image mode=L size=28x28 at 0x148E2E580>\" />                                                </td><td style=\"text-align: right;\">                                2</td></tr>\n",
       "<tr><td>[0, 0, 0, 0, 0, 0, 0, 0, 0, 0, 0, 0, 0, 0, 0, 0, 0, 0, 0,...</td><td style=\"text-align: right;\">                 1</td><td>&ltnp.ndarray<br>shape=(28, 28)<br>dtype=int64&gt</td><td><img style=\"max-height:128px;width:auto\" src=\"data:image/png;base64, /9j/4AAQSkZJRgABAQAAAQABAAD/2wBDAAgGBgcGBQgHBwcJCQgKDBQNDAsLDBkSEw8UHRofHh0aHBwgJC4nICIsIxwcKDcpLDAxNDQ0Hyc5PTgyPC4zNDL/wAALCAAcABwBAREA/8QAHwAAAQUBAQEBAQEAAAAAAAAAAAECAwQFBgcICQoL/8QAtRAAAgEDAwIEAwUFBAQAAAF9AQIDAAQRBRIhMUEGE1FhByJxFDKBkaEII0KxwRVS0fAkM2JyggkKFhcYGRolJicoKSo0NTY3ODk6Q0RFRkdISUpTVFVWV1hZWmNkZWZnaGlqc3R1dnd4eXqDhIWGh4iJipKTlJWWl5iZmqKjpKWmp6ipqrKztLW2t7i5usLDxMXGx8jJytLT1NXW19jZ2uHi4+Tl5ufo6erx8vP09fb3+Pn6/9oACAEBAAA/APn+lALEAAkngAd62PFGgjw1rR0trrz5o4Ynn/d7PLkZAzR9TnbnGfboKxqK634a6PHrPjrT1uAhs7Mm9ut/TyovmOfrgD8awte1M614h1LVCGX7ZcyThWOSoZiQM+2cVn0V6J4RFvo/wu8X63NKi3F6qaVarxuYsQ0nvjaR+XevO6KKKKK//9k=\" alt=\"<PIL.Image.Image image mode=L size=28x28 at 0x148E2E5B0>\" />                                                                                                                                                                                </td><td style=\"text-align: right;\">                                1</td></tr>\n",
       "<tr><td>[0, 0, 0, 0, 0, 0, 0, 0, 0, 0, 0, 0, 0, 0, 0, 0, 0, 0, 0,...</td><td style=\"text-align: right;\">                 0</td><td>&ltnp.ndarray<br>shape=(28, 28)<br>dtype=int64&gt</td><td><img style=\"max-height:128px;width:auto\" src=\"data:image/png;base64, /9j/4AAQSkZJRgABAQAAAQABAAD/2wBDAAgGBgcGBQgHBwcJCQgKDBQNDAsLDBkSEw8UHRofHh0aHBwgJC4nICIsIxwcKDcpLDAxNDQ0Hyc5PTgyPC4zNDL/wAALCAAcABwBAREA/8QAHwAAAQUBAQEBAQEAAAAAAAAAAAECAwQFBgcICQoL/8QAtRAAAgEDAwIEAwUFBAQAAAF9AQIDAAQRBRIhMUEGE1FhByJxFDKBkaEII0KxwRVS0fAkM2JyggkKFhcYGRolJicoKSo0NTY3ODk6Q0RFRkdISUpTVFVWV1hZWmNkZWZnaGlqc3R1dnd4eXqDhIWGh4iJipKTlJWWl5iZmqKjpKWmp6ipqrKztLW2t7i5usLDxMXGx8jJytLT1NXW19jZ2uHi4+Tl5ufo6erx8vP09fb3+Pn6/9oACAEBAAA/APn+u6+Hnwx1Lx9cTlZmsLGGMn7W8JdWfOAijIz3yc8Y+lcdqFjPpt9NaXMbJJE5U7lIzg4yM9qrVJbwtcXMUKqzNI4QBRkkk44r6F8c/Em3+GdnD4I8KWyi5sYVWS4lXiEsA/TGHZg24nplu5zjC11T8SPgyfFupp5WtaK7RG4Cqi3SFl4J46AjA9QcferxOtDQr9NK8Q6ZqMiF0tLuKdlHUhXDEfpX0VqHgHwJ461y88a3niUy2Ny0P7uKdIY0KoqbXZgTzt6fKetcF8VfiLpOo6Ta+E/CStBpNsx+0MkflpKRjaqgdVzkkkcnB9z5FRRRRX//2Q==\" alt=\"<PIL.Image.Image image mode=L size=28x28 at 0x148E2E610>\" />                            </td><td style=\"text-align: right;\">                                0</td></tr>\n",
       "<tr><td>[0, 0, 0, 0, 0, 0, 0, 0, 0, 0, 0, 0, 0, 0, 0, 0, 0, 0, 0,...</td><td style=\"text-align: right;\">                 4</td><td>&ltnp.ndarray<br>shape=(28, 28)<br>dtype=int64&gt</td><td><img style=\"max-height:128px;width:auto\" src=\"data:image/png;base64, /9j/4AAQSkZJRgABAQAAAQABAAD/2wBDAAgGBgcGBQgHBwcJCQgKDBQNDAsLDBkSEw8UHRofHh0aHBwgJC4nICIsIxwcKDcpLDAxNDQ0Hyc5PTgyPC4zNDL/wAALCAAcABwBAREA/8QAHwAAAQUBAQEBAQEAAAAAAAAAAAECAwQFBgcICQoL/8QAtRAAAgEDAwIEAwUFBAQAAAF9AQIDAAQRBRIhMUEGE1FhByJxFDKBkaEII0KxwRVS0fAkM2JyggkKFhcYGRolJicoKSo0NTY3ODk6Q0RFRkdISUpTVFVWV1hZWmNkZWZnaGlqc3R1dnd4eXqDhIWGh4iJipKTlJWWl5iZmqKjpKWmp6ipqrKztLW2t7i5usLDxMXGx8jJytLT1NXW19jZ2uHi4+Tl5ufo6erx8vP09fb3+Pn6/9oACAEBAAA/APn+tC60W7s9E0/Vpggtr95kgGTuPl7QxPGMZbA57Gohpl0dHOqhAbRZxbswYZDldwBHuAefY1Uq/oenDWNf07TDIIxd3McBc/w7mAz+tb3xG1NLvxZcadZxmHS9JJsLKDGAiIcM2PVm3MSeeea2PElpH4a+Enh/SWTN7rVwdXmc8FIwmyNfoQxP5151T4ZpLeeOeF2jljYOjqcFWByCK7GT4qeKJRvkk097njN02nQNMSO5YpyccV0Hx4u3uPFOipI/72PRoTNGDgRyFnJG3+E9OPTFeV0UVJPPNczvPcSvLM53PJIxZmPqSetR1//Z\" alt=\"<PIL.Image.Image image mode=L size=28x28 at 0x148E2E640>\" />                                        </td><td style=\"text-align: right;\">                                4</td></tr>\n",
       "<tr><td>[0, 0, 0, 0, 0, 0, 0, 0, 0, 0, 0, 0, 0, 0, 0, 0, 0, 0, 0,...</td><td style=\"text-align: right;\">                 1</td><td>&ltnp.ndarray<br>shape=(28, 28)<br>dtype=int64&gt</td><td><img style=\"max-height:128px;width:auto\" src=\"data:image/png;base64, /9j/4AAQSkZJRgABAQAAAQABAAD/2wBDAAgGBgcGBQgHBwcJCQgKDBQNDAsLDBkSEw8UHRofHh0aHBwgJC4nICIsIxwcKDcpLDAxNDQ0Hyc5PTgyPC4zNDL/wAALCAAcABwBAREA/8QAHwAAAQUBAQEBAQEAAAAAAAAAAAECAwQFBgcICQoL/8QAtRAAAgEDAwIEAwUFBAQAAAF9AQIDAAQRBRIhMUEGE1FhByJxFDKBkaEII0KxwRVS0fAkM2JyggkKFhcYGRolJicoKSo0NTY3ODk6Q0RFRkdISUpTVFVWV1hZWmNkZWZnaGlqc3R1dnd4eXqDhIWGh4iJipKTlJWWl5iZmqKjpKWmp6ipqrKztLW2t7i5usLDxMXGx8jJytLT1NXW19jZ2uHi4+Tl5ufo6erx8vP09fb3+Pn6/9oACAEBAAA/APn+nIjSOqIpZmOAB1Jrb8V+EtT8GarFpuq+R9pkgSfEMm8KGzwfQgggj8sjBrCorvvg3oI1z4kaeZULW1jm8lO3IGz7uf8AgW2sTx54iPirxvqurhswzTFYOMful+VOO3ygE+5Nc5RXqvgG4Hh34TeM/EUIH22Yx6dC4bDRhupH/fYP/Aa8qooqVLidIJIEmkWGQgvGGIViOmR0OKior//Z\" alt=\"<PIL.Image.Image image mode=L size=28x28 at 0x148E2E670>\" />                                                                                                                                                </td><td style=\"text-align: right;\">                                1</td></tr>\n",
       "<tr><td>[0, 0, 0, 0, 0, 0, 0, 0, 0, 0, 0, 0, 0, 0, 0, 0, 0, 0, 0,...</td><td style=\"text-align: right;\">                 4</td><td>&ltnp.ndarray<br>shape=(28, 28)<br>dtype=int64&gt</td><td><img style=\"max-height:128px;width:auto\" src=\"data:image/png;base64, /9j/4AAQSkZJRgABAQAAAQABAAD/2wBDAAgGBgcGBQgHBwcJCQgKDBQNDAsLDBkSEw8UHRofHh0aHBwgJC4nICIsIxwcKDcpLDAxNDQ0Hyc5PTgyPC4zNDL/wAALCAAcABwBAREA/8QAHwAAAQUBAQEBAQEAAAAAAAAAAAECAwQFBgcICQoL/8QAtRAAAgEDAwIEAwUFBAQAAAF9AQIDAAQRBRIhMUEGE1FhByJxFDKBkaEII0KxwRVS0fAkM2JyggkKFhcYGRolJicoKSo0NTY3ODk6Q0RFRkdISUpTVFVWV1hZWmNkZWZnaGlqc3R1dnd4eXqDhIWGh4iJipKTlJWWl5iZmqKjpKWmp6ipqrKztLW2t7i5usLDxMXGx8jJytLT1NXW19jZ2uHi4+Tl5ufo6erx8vP09fb3+Pn6/9oACAEBAAA/APn8DJwOtbWveF9R8NxWB1PyYp7yHz1tRJmWJD08xf4SRyAefyNVtL0PUNZivpbOJWisYDcXEjuEWNB6knqTwB1JrOrc8HXGkWnjDS7jXU36XHOGuBgnjsSByQDg8eneu68W+F9I8QeIbrXm+I+iTR30jSjzN/moucBPLUEjCgAA4zjgVB8RYbPwLo1v4D0m6FxM7C71e52KGlfH7uPjkKvzHB/vCvMKK734O6JFrPxCtmnjEsOnxPfNDs3GUpjaoHruZT+Fc94ui1ZfE15PrcSw6jdSG4miDKTGXJO0gH5T7Hkd6w6Kmtru5spvOtbiWCXBXfE5VsHgjIqEkk5JyaK//9k=\" alt=\"<PIL.Image.Image image mode=L size=28x28 at 0x148E2E6A0>\" />            </td><td style=\"text-align: right;\">                                4</td></tr>\n",
       "<tr><td>[0, 0, 0, 0, 0, 0, 0, 0, 0, 0, 0, 0, 0, 0, 0, 0, 0, 0, 0,...</td><td style=\"text-align: right;\">                 9</td><td>&ltnp.ndarray<br>shape=(28, 28)<br>dtype=int64&gt</td><td><img style=\"max-height:128px;width:auto\" src=\"data:image/png;base64, /9j/4AAQSkZJRgABAQAAAQABAAD/2wBDAAgGBgcGBQgHBwcJCQgKDBQNDAsLDBkSEw8UHRofHh0aHBwgJC4nICIsIxwcKDcpLDAxNDQ0Hyc5PTgyPC4zNDL/wAALCAAcABwBAREA/8QAHwAAAQUBAQEBAQEAAAAAAAAAAAECAwQFBgcICQoL/8QAtRAAAgEDAwIEAwUFBAQAAAF9AQIDAAQRBRIhMUEGE1FhByJxFDKBkaEII0KxwRVS0fAkM2JyggkKFhcYGRolJicoKSo0NTY3ODk6Q0RFRkdISUpTVFVWV1hZWmNkZWZnaGlqc3R1dnd4eXqDhIWGh4iJipKTlJWWl5iZmqKjpKWmp6ipqrKztLW2t7i5usLDxMXGx8jJytLT1NXW19jZ2uHi4+Tl5ufo6erx8vP09fb3+Pn6/9oACAEBAAA/APn+tODw9q9zod1rUOnztplqVE11twiksFABPU5I6ZxmsyiivqLRLvU9Lm0Tw8ui2EngQ6RHJdX8ynyjuQu7MzYXlv4SP4sn28K+JegweHPH+qafaW8kFnvEturEEbGGflx/DkkD6c81yVFasniXWpfD8egyancNpUb70tS3yA/4c5x0rsdQuB48+G8V40gbXvDSeXcA8vcWZICv6koSAfQHPevOaKKuabqt9o9xJPYXDQSSwvBJgAh43GGUg8EEf0PUVTr/2Q==\" alt=\"<PIL.Image.Image image mode=L size=28x28 at 0x148E2E6D0>\" />                                                                                            </td><td style=\"text-align: right;\">                                9</td></tr>\n",
       "<tr><td>[0, 0, 0, 0, 0, 0, 0, 0, 0, 0, 0, 0, 0, 0, 0, 0, 0, 0, 0,...</td><td style=\"text-align: right;\">                 5</td><td>&ltnp.ndarray<br>shape=(28, 28)<br>dtype=int64&gt</td><td><img style=\"max-height:128px;width:auto\" src=\"data:image/png;base64, /9j/4AAQSkZJRgABAQAAAQABAAD/2wBDAAgGBgcGBQgHBwcJCQgKDBQNDAsLDBkSEw8UHRofHh0aHBwgJC4nICIsIxwcKDcpLDAxNDQ0Hyc5PTgyPC4zNDL/wAALCAAcABwBAREA/8QAHwAAAQUBAQEBAQEAAAAAAAAAAAECAwQFBgcICQoL/8QAtRAAAgEDAwIEAwUFBAQAAAF9AQIDAAQRBRIhMUEGE1FhByJxFDKBkaEII0KxwRVS0fAkM2JyggkKFhcYGRolJicoKSo0NTY3ODk6Q0RFRkdISUpTVFVWV1hZWmNkZWZnaGlqc3R1dnd4eXqDhIWGh4iJipKTlJWWl5iZmqKjpKWmp6ipqrKztLW2t7i5usLDxMXGx8jJytLT1NXW19jZ2uHi4+Tl5ufo6erx8vP09fb3+Pn6/9oACAEBAAA/APn+tnw34W1nxbqJsNFszczqu9xvVQi5xkliBjmvRV/Z78QxRxPe6zo9qHzkNKxKnB/2QDzjoe9eWarp76TrF7p0kscr2lxJA0kRyrlGKkqfQ44rp/hh4Qi8aeMY7C53m0gha6nRDhnRSBtB7ZLAZ96k8Saj4ssfFl/fw6fqHh5yFiWC0RoRFCMbEyoAIwBz3PNcjeXF5cXDNfTTyzg4YzsWbPvnmq9XtI1nUtA1KPUNKvJbS7j+7JGcHHoR0I9jwa9/+FfxZvtfhv8AStf1ezj1bCtYz3MQVH4wVYKVyc4PUHk+lcJ8cvEeheIPE1l/Y8sNzNawGO6uoEwkjZyAD3xz69epry2iiiiv/9k=\" alt=\"<PIL.Image.Image image mode=L size=28x28 at 0x148E2E700>\" /></td><td style=\"text-align: right;\">                                5</td></tr>\n",
       "<tr><td>[0, 0, 0, 0, 0, 0, 0, 0, 0, 0, 0, 0, 0, 0, 0, 0, 0, 0, 0,...</td><td style=\"text-align: right;\">                 9</td><td>&ltnp.ndarray<br>shape=(28, 28)<br>dtype=int64&gt</td><td><img style=\"max-height:128px;width:auto\" src=\"data:image/png;base64, /9j/4AAQSkZJRgABAQAAAQABAAD/2wBDAAgGBgcGBQgHBwcJCQgKDBQNDAsLDBkSEw8UHRofHh0aHBwgJC4nICIsIxwcKDcpLDAxNDQ0Hyc5PTgyPC4zNDL/wAALCAAcABwBAREA/8QAHwAAAQUBAQEBAQEAAAAAAAAAAAECAwQFBgcICQoL/8QAtRAAAgEDAwIEAwUFBAQAAAF9AQIDAAQRBRIhMUEGE1FhByJxFDKBkaEII0KxwRVS0fAkM2JyggkKFhcYGRolJicoKSo0NTY3ODk6Q0RFRkdISUpTVFVWV1hZWmNkZWZnaGlqc3R1dnd4eXqDhIWGh4iJipKTlJWWl5iZmqKjpKWmp6ipqrKztLW2t7i5usLDxMXGx8jJytLT1NXW19jZ2uHi4+Tl5ufo6erx8vP09fb3+Pn6/9oACAEBAAA/APn+pIYJbiVYoInlkbgIilifwFSXlheadP5F9aT2s2M+XPGUb8iKr1f0S0s77XLG01C7FnZzTKk1wf8AlmpPLV9EXGh6zpyLpvwzTw7pljMqhdRa7WW5us4O4HDcdR39sVL47u08P/De9sPG2qW+p6jd2qx2dsi/OJlQKZA2ASu8CTJAwcjJzXzHRXtHwx0jTvBnhC6+JHiG3DupMelQswzI3IyB2JOQCegDHGOa8q8Qa9feJddu9W1CUvcXEhbGSQgzwq56ADgCsyiug1zxnq3iHQ9H0e9eIWekw+VAkSld3AAZueWwAM8fqa5+iv/Z\" alt=\"<PIL.Image.Image image mode=L size=28x28 at 0x148E2E730>\" />                                        </td><td style=\"text-align: right;\">                                9</td></tr>\n",
       "</tbody>\n",
       "</table>\n",
       "            <small>(Showing first 10 rows)</small>\n",
       "        </div>\n",
       "    "
      ],
      "text/plain": [
       "                                               image  label  \\\n",
       "0  [0, 0, 0, 0, 0, 0, 0, 0, 0, 0, 0, 0, 0, 0, 0, ...      7   \n",
       "1  [0, 0, 0, 0, 0, 0, 0, 0, 0, 0, 0, 0, 0, 0, 0, ...      2   \n",
       "2  [0, 0, 0, 0, 0, 0, 0, 0, 0, 0, 0, 0, 0, 0, 0, ...      1   \n",
       "3  [0, 0, 0, 0, 0, 0, 0, 0, 0, 0, 0, 0, 0, 0, 0, ...      0   \n",
       "4  [0, 0, 0, 0, 0, 0, 0, 0, 0, 0, 0, 0, 0, 0, 0, ...      4   \n",
       "5  [0, 0, 0, 0, 0, 0, 0, 0, 0, 0, 0, 0, 0, 0, 0, ...      1   \n",
       "6  [0, 0, 0, 0, 0, 0, 0, 0, 0, 0, 0, 0, 0, 0, 0, ...      4   \n",
       "7  [0, 0, 0, 0, 0, 0, 0, 0, 0, 0, 0, 0, 0, 0, 0, ...      9   \n",
       "8  [0, 0, 0, 0, 0, 0, 0, 0, 0, 0, 0, 0, 0, 0, 0, ...      5   \n",
       "9  [0, 0, 0, 0, 0, 0, 0, 0, 0, 0, 0, 0, 0, 0, 0, ...      9   \n",
       "\n",
       "                                            image_2d  \\\n",
       "0  [[0, 0, 0, 0, 0, 0, 0, 0, 0, 0, 0, 0, 0, 0, 0,...   \n",
       "1  [[0, 0, 0, 0, 0, 0, 0, 0, 0, 0, 0, 0, 0, 0, 0,...   \n",
       "2  [[0, 0, 0, 0, 0, 0, 0, 0, 0, 0, 0, 0, 0, 0, 0,...   \n",
       "3  [[0, 0, 0, 0, 0, 0, 0, 0, 0, 0, 0, 0, 0, 0, 0,...   \n",
       "4  [[0, 0, 0, 0, 0, 0, 0, 0, 0, 0, 0, 0, 0, 0, 0,...   \n",
       "5  [[0, 0, 0, 0, 0, 0, 0, 0, 0, 0, 0, 0, 0, 0, 0,...   \n",
       "6  [[0, 0, 0, 0, 0, 0, 0, 0, 0, 0, 0, 0, 0, 0, 0,...   \n",
       "7  [[0, 0, 0, 0, 0, 0, 0, 0, 0, 0, 0, 0, 0, 0, 0,...   \n",
       "8  [[0, 0, 0, 0, 0, 0, 0, 0, 0, 0, 0, 0, 0, 0, 0,...   \n",
       "9  [[0, 0, 0, 0, 0, 0, 0, 0, 0, 0, 0, 0, 0, 0, 0,...   \n",
       "\n",
       "                                           pil_image  model_classification  \n",
       "0  <PIL.Image.Image image mode=L size=28x28 at 0x...                     7  \n",
       "1  <PIL.Image.Image image mode=L size=28x28 at 0x...                     2  \n",
       "2  <PIL.Image.Image image mode=L size=28x28 at 0x...                     1  \n",
       "3  <PIL.Image.Image image mode=L size=28x28 at 0x...                     0  \n",
       "4  <PIL.Image.Image image mode=L size=28x28 at 0x...                     4  \n",
       "5  <PIL.Image.Image image mode=L size=28x28 at 0x...                     1  \n",
       "6  <PIL.Image.Image image mode=L size=28x28 at 0x...                     4  \n",
       "7  <PIL.Image.Image image mode=L size=28x28 at 0x...                     9  \n",
       "8  <PIL.Image.Image image mode=L size=28x28 at 0x...                     5  \n",
       "9  <PIL.Image.Image image mode=L size=28x28 at 0x...                     9  "
      ]
     },
     "execution_count": 11,
     "metadata": {},
     "output_type": "execute_result"
    }
   ],
   "source": [
    "classified_images_df = images_df.with_column(\"model_classification\", ClassifyImages(images_df[\"image_2d\"]))\n",
    "\n",
    "classified_images_df.show(10)"
   ]
  },
  {
   "cell_type": "markdown",
   "id": "2e6fb5fc-957d-414b-bfac-961ea64dad68",
   "metadata": {},
   "source": [
    "Our model ran successfully, and produced a new classification column. These look pretty good - let's filter our Dataframe to show only rows that the model predicted wrongly."
   ]
  },
  {
   "cell_type": "code",
   "execution_count": 12,
   "id": "69344d63-7db4-496f-a0b2-949dfd947e4f",
   "metadata": {},
   "outputs": [
    {
     "data": {
      "text/html": [
       "\n",
       "        <div>\n",
       "            <table class=\"dataframe\">\n",
       "<thead>\n",
       "<tr><th>image<br>PY[list]                                           </th><th style=\"text-align: right;\">  label<br>INTEGER</th><th>image_2d<br>PY[ndarray]                          </th><th>pil_image<br>PY[Image]                                                                                                                                                                                                                                                                                                                                                                                                                                                                                                                                                                                                                                                                                                                                                                                                                                                                                                                                                  </th><th style=\"text-align: right;\">  model_classification<br>INTEGER</th></tr>\n",
       "</thead>\n",
       "<tbody>\n",
       "<tr><td>[0, 0, 0, 0, 0, 0, 0, 0, 0, 0, 0, 0, 0, 0, 0, 0, 0, 0, 0,...</td><td style=\"text-align: right;\">                 5</td><td>&ltnp.ndarray<br>shape=(28, 28)<br>dtype=int64&gt</td><td><img style=\"max-height:128px;width:auto\" src=\"data:image/png;base64, /9j/4AAQSkZJRgABAQAAAQABAAD/2wBDAAgGBgcGBQgHBwcJCQgKDBQNDAsLDBkSEw8UHRofHh0aHBwgJC4nICIsIxwcKDcpLDAxNDQ0Hyc5PTgyPC4zNDL/wAALCAAcABwBAREA/8QAHwAAAQUBAQEBAQEAAAAAAAAAAAECAwQFBgcICQoL/8QAtRAAAgEDAwIEAwUFBAQAAAF9AQIDAAQRBRIhMUEGE1FhByJxFDKBkaEII0KxwRVS0fAkM2JyggkKFhcYGRolJicoKSo0NTY3ODk6Q0RFRkdISUpTVFVWV1hZWmNkZWZnaGlqc3R1dnd4eXqDhIWGh4iJipKTlJWWl5iZmqKjpKWmp6ipqrKztLW2t7i5usLDxMXGx8jJytLT1NXW19jZ2uHi4+Tl5ufo6erx8vP09fb3+Pn6/9oACAEBAAA/APn+tnw34W1nxbqJsNFszczqu9xvVQi5xkliBjmvRV/Z78QxRxPe6zo9qHzkNKxKnB/2QDzjoe9eWarp76TrF7p0kscr2lxJA0kRyrlGKkqfQ44rp/hh4Qi8aeMY7C53m0gha6nRDhnRSBtB7ZLAZ96k8Saj4ssfFl/fw6fqHh5yFiWC0RoRFCMbEyoAIwBz3PNcjeXF5cXDNfTTyzg4YzsWbPvnmq9XtI1nUtA1KPUNKvJbS7j+7JGcHHoR0I9jwa9/+FfxZvtfhv8AStf1ezj1bCtYz3MQVH4wVYKVyc4PUHk+lcJ8cvEeheIPE1l/Y8sNzNawGO6uoEwkjZyAD3xz69epry2iiiiv/9k=\" alt=\"<PIL.Image.Image image mode=L size=28x28 at 0x148EC82B0>\" />    </td><td style=\"text-align: right;\">                                9</td></tr>\n",
       "<tr><td>[0, 0, 0, 0, 0, 0, 0, 0, 0, 0, 0, 0, 0, 0, 0, 0, 0, 0, 0,...</td><td style=\"text-align: right;\">                 5</td><td>&ltnp.ndarray<br>shape=(28, 28)<br>dtype=int64&gt</td><td><img style=\"max-height:128px;width:auto\" src=\"data:image/png;base64, /9j/4AAQSkZJRgABAQAAAQABAAD/2wBDAAgGBgcGBQgHBwcJCQgKDBQNDAsLDBkSEw8UHRofHh0aHBwgJC4nICIsIxwcKDcpLDAxNDQ0Hyc5PTgyPC4zNDL/wAALCAAcABwBAREA/8QAHwAAAQUBAQEBAQEAAAAAAAAAAAECAwQFBgcICQoL/8QAtRAAAgEDAwIEAwUFBAQAAAF9AQIDAAQRBRIhMUEGE1FhByJxFDKBkaEII0KxwRVS0fAkM2JyggkKFhcYGRolJicoKSo0NTY3ODk6Q0RFRkdISUpTVFVWV1hZWmNkZWZnaGlqc3R1dnd4eXqDhIWGh4iJipKTlJWWl5iZmqKjpKWmp6ipqrKztLW2t7i5usLDxMXGx8jJytLT1NXW19jZ2uHi4+Tl5ufo6erx8vP09fb3+Pn6/9oACAEBAAA/APn+irmnaVqGr3S22nWc91MxACRIW6+vp+NV54ZLa4lglAEkTlGAYMAQcHkcH8Kjr0BX0HwZpdlFq/hKPVNWuIRcx3E9zIsBjfBQhRgOMZHB6g81ka38QNd1qH7KskGm6fjAsNNj8iDrnlR1555J5rlqK76G61Sf4R6pcaubu6szdWtppbTSgpCy+Y0hUHngALx/e9q4GiirVxqV7dWVpZz3UslraKy28LN8sYZixwPckmqtFf/Z\" alt=\"<PIL.Image.Image image mode=L size=28x28 at 0x14A8CE070>\" />                                                                                                                        </td><td style=\"text-align: right;\">                                4</td></tr>\n",
       "<tr><td>[0, 0, 0, 0, 0, 0, 0, 0, 0, 0, 0, 0, 0, 0, 0, 0, 0, 0, 0,...</td><td style=\"text-align: right;\">                 4</td><td>&ltnp.ndarray<br>shape=(28, 28)<br>dtype=int64&gt</td><td><img style=\"max-height:128px;width:auto\" src=\"data:image/png;base64, /9j/4AAQSkZJRgABAQAAAQABAAD/2wBDAAgGBgcGBQgHBwcJCQgKDBQNDAsLDBkSEw8UHRofHh0aHBwgJC4nICIsIxwcKDcpLDAxNDQ0Hyc5PTgyPC4zNDL/wAALCAAcABwBAREA/8QAHwAAAQUBAQEBAQEAAAAAAAAAAAECAwQFBgcICQoL/8QAtRAAAgEDAwIEAwUFBAQAAAF9AQIDAAQRBRIhMUEGE1FhByJxFDKBkaEII0KxwRVS0fAkM2JyggkKFhcYGRolJicoKSo0NTY3ODk6Q0RFRkdISUpTVFVWV1hZWmNkZWZnaGlqc3R1dnd4eXqDhIWGh4iJipKTlJWWl5iZmqKjpKWmp6ipqrKztLW2t7i5usLDxMXGx8jJytLT1NXW19jZ2uHi4+Tl5ufo6erx8vP09fb3+Pn6/9oACAEBAAA/APn+trwv4ZvvFmtR6bZbE4Mk08hxHBGOWdz2A/8ArVR1W2tbPVbq2sb0X1rFKyRXQjKCVQeG2knGap0V6drljqPhrwpofhLSbab7Rr8cV1e3Ua8XTP8A6uFWHVVBGQOpNc/8R9A0vwv4pXRdNkMjWlpCl4+7Ia425cj0HI47ciuRor2P4M+Ltciurq2utXH9haPYTXrW86K3QYAViCygFs8H8Oa8kvr241LULm+u5DJc3MrSyuf4mY5J/M1Xoooor//Z\" alt=\"<PIL.Image.Image image mode=L size=28x28 at 0x14A8CEAF0>\" />                                                                                                        </td><td style=\"text-align: right;\">                                9</td></tr>\n",
       "<tr><td>[0, 0, 0, 0, 0, 0, 0, 0, 0, 0, 0, 0, 0, 0, 0, 0, 0, 0, 0,...</td><td style=\"text-align: right;\">                 3</td><td>&ltnp.ndarray<br>shape=(28, 28)<br>dtype=int64&gt</td><td><img style=\"max-height:128px;width:auto\" src=\"data:image/png;base64, /9j/4AAQSkZJRgABAQAAAQABAAD/2wBDAAgGBgcGBQgHBwcJCQgKDBQNDAsLDBkSEw8UHRofHh0aHBwgJC4nICIsIxwcKDcpLDAxNDQ0Hyc5PTgyPC4zNDL/wAALCAAcABwBAREA/8QAHwAAAQUBAQEBAQEAAAAAAAAAAAECAwQFBgcICQoL/8QAtRAAAgEDAwIEAwUFBAQAAAF9AQIDAAQRBRIhMUEGE1FhByJxFDKBkaEII0KxwRVS0fAkM2JyggkKFhcYGRolJicoKSo0NTY3ODk6Q0RFRkdISUpTVFVWV1hZWmNkZWZnaGlqc3R1dnd4eXqDhIWGh4iJipKTlJWWl5iZmqKjpKWmp6ipqrKztLW2t7i5usLDxMXGx8jJytLT1NXW19jZ2uHi4+Tl5ufo6erx8vP09fb3+Pn6/9oACAEBAAA/APAoopJ5UiiRpJHYKiIMliegA7mtzU/Bev6Rp8t9e2SJBC6xzbLmKR4WboHRWLIT/tAVgUVY0++uNM1G1v7R/LubWVZonwDtdSCDg+4rsvB2m31z4P8AGF6lldXcU1tFaIkMRffMZUcHA/uhCfbPvzwzKVYqwIYHBB7UlFaNlr+s6Zam1sNWvrW3MhkMUFw6KXIA3YB64AH4Vvapcv4j8ENruobpNWs7+O0ku2HzXMckbsu8/wATJ5RGeuGGegrkKKKuy6tezaRBpTyr9iglaZIljVfnYAFiQMscADknHaqVf//Z\" alt=\"<PIL.Image.Image image mode=L size=28x28 at 0x14A8DCA30>\" />                                                            </td><td style=\"text-align: right;\">                                5</td></tr>\n",
       "<tr><td>[0, 0, 0, 0, 0, 0, 0, 0, 0, 0, 0, 0, 0, 0, 0, 0, 0, 0, 0,...</td><td style=\"text-align: right;\">                 5</td><td>&ltnp.ndarray<br>shape=(28, 28)<br>dtype=int64&gt</td><td><img style=\"max-height:128px;width:auto\" src=\"data:image/png;base64, /9j/4AAQSkZJRgABAQAAAQABAAD/2wBDAAgGBgcGBQgHBwcJCQgKDBQNDAsLDBkSEw8UHRofHh0aHBwgJC4nICIsIxwcKDcpLDAxNDQ0Hyc5PTgyPC4zNDL/wAALCAAcABwBAREA/8QAHwAAAQUBAQEBAQEAAAAAAAAAAAECAwQFBgcICQoL/8QAtRAAAgEDAwIEAwUFBAQAAAF9AQIDAAQRBRIhMUEGE1FhByJxFDKBkaEII0KxwRVS0fAkM2JyggkKFhcYGRolJicoKSo0NTY3ODk6Q0RFRkdISUpTVFVWV1hZWmNkZWZnaGlqc3R1dnd4eXqDhIWGh4iJipKTlJWWl5iZmqKjpKWmp6ipqrKztLW2t7i5usLDxMXGx8jJytLT1NXW19jZ2uHi4+Tl5ufo6erx8vP09fb3+Pn6/9oACAEBAAA/APn+nwwy3EyQwxvLK5wqIpZmPoAOtdO/w48WRadNfTaT5MUMDXMqTXESSpGDgsYmYOBx6c9q5WivTrm/g+HdpocdhpjSLqVkl1daoshjmuFcZaKGTafKC9CVBJ46VzOveNrrVrKTTrGxttK0yRlaS3tgS05HQyyNlnI9zj2rl6nsrO41G9gsrSIy3M7iOKNerMTgCu/+Hj32uRS+HdXtUufC0G+W6muCU/s7jmSOT+BuPunIY547157OsaXEiwuXiDkI5GNwzwcVHTo5HhlSWJ2SRCGVlOCpHQg1t6x4z8Ra/Zraapqs9xbqwbyzhQzAYBbAG447nJrCor//2Q==\" alt=\"<PIL.Image.Image image mode=L size=28x28 at 0x14A8DCD30>\" />                        </td><td style=\"text-align: right;\">                                8</td></tr>\n",
       "<tr><td>[0, 0, 0, 0, 0, 0, 0, 0, 0, 0, 0, 0, 0, 0, 0, 0, 0, 0, 0,...</td><td style=\"text-align: right;\">                 8</td><td>&ltnp.ndarray<br>shape=(28, 28)<br>dtype=int64&gt</td><td><img style=\"max-height:128px;width:auto\" src=\"data:image/png;base64, /9j/4AAQSkZJRgABAQAAAQABAAD/2wBDAAgGBgcGBQgHBwcJCQgKDBQNDAsLDBkSEw8UHRofHh0aHBwgJC4nICIsIxwcKDcpLDAxNDQ0Hyc5PTgyPC4zNDL/wAALCAAcABwBAREA/8QAHwAAAQUBAQEBAQEAAAAAAAAAAAECAwQFBgcICQoL/8QAtRAAAgEDAwIEAwUFBAQAAAF9AQIDAAQRBRIhMUEGE1FhByJxFDKBkaEII0KxwRVS0fAkM2JyggkKFhcYGRolJicoKSo0NTY3ODk6Q0RFRkdISUpTVFVWV1hZWmNkZWZnaGlqc3R1dnd4eXqDhIWGh4iJipKTlJWWl5iZmqKjpKWmp6ipqrKztLW2t7i5usLDxMXGx8jJytLT1NXW19jZ2uHi4+Tl5ufo6erx8vP09fb3+Pn6/9oACAEBAAA/APn+uu8K+DbXxBp5urzU7rT1e7WzhkXTmniaVgNqs6sCpJIH3TWV4p8NXvhHxFc6LfvC9xBjLQtuVgQCD6jgjg1jUV9B/s8WktxoOsSXNlFPZw3kUtqZP+fhVOcZGMgFOe2RXiPiW/1DVPE2pXurRtFfzXDtPEwI8ts/dweQB0x7VlUV7v4Gt5tf+Blxomk6paWl8moia5kknCG2iDq/mHnI+6MH2rgPivrum+IPG8lzpbLNFDBHBJdgY+1Oo5k/kP8AgNcPRRRRX//Z\" alt=\"<PIL.Image.Image image mode=L size=28x28 at 0x14A8EB610>\" />                                                                                            </td><td style=\"text-align: right;\">                                3</td></tr>\n",
       "<tr><td>[0, 0, 0, 0, 0, 0, 0, 0, 0, 0, 0, 0, 0, 0, 0, 0, 0, 0, 0,...</td><td style=\"text-align: right;\">                 6</td><td>&ltnp.ndarray<br>shape=(28, 28)<br>dtype=int64&gt</td><td><img style=\"max-height:128px;width:auto\" src=\"data:image/png;base64, /9j/4AAQSkZJRgABAQAAAQABAAD/2wBDAAgGBgcGBQgHBwcJCQgKDBQNDAsLDBkSEw8UHRofHh0aHBwgJC4nICIsIxwcKDcpLDAxNDQ0Hyc5PTgyPC4zNDL/wAALCAAcABwBAREA/8QAHwAAAQUBAQEBAQEAAAAAAAAAAAECAwQFBgcICQoL/8QAtRAAAgEDAwIEAwUFBAQAAAF9AQIDAAQRBRIhMUEGE1FhByJxFDKBkaEII0KxwRVS0fAkM2JyggkKFhcYGRolJicoKSo0NTY3ODk6Q0RFRkdISUpTVFVWV1hZWmNkZWZnaGlqc3R1dnd4eXqDhIWGh4iJipKTlJWWl5iZmqKjpKWmp6ipqrKztLW2t7i5usLDxMXGx8jJytLT1NXW19jZ2uHi4+Tl5ufo6erx8vP09fb3+Pn6/9oACAEBAAA/APn+u1vvCWkaF4AtNW1e/uRruqIJtPsIQoVIt3+skJySrLyMY69+ccVRVnT7dbzU7W2ckJNMkbFeoBIHFe/fEvVPC/gbXPtMen2mta68cMMFtegSRWEEaADjrluozzz6deV0W/0T4pzX+h3XhvStJ1qW3km0+70+Mx75VG4oy5wcgHkn1ryKpLed7W5iuIiBJE4dSRnkHIr1rWB4N+KuonWB4gXw7rkqoLqHUsC3fagXKPkAdBwTn2qjbyaB8LheXdhrttr3iGeCS3tXsRmGzDDHml+QzY4wOmT1ry+iiiiv/9k=\" alt=\"<PIL.Image.Image image mode=L size=28x28 at 0x14A8EB670>\" />                                                            </td><td style=\"text-align: right;\">                                0</td></tr>\n",
       "<tr><td>[0, 0, 0, 0, 0, 0, 0, 0, 0, 0, 0, 0, 0, 0, 0, 0, 0, 0, 0,...</td><td style=\"text-align: right;\">                 5</td><td>&ltnp.ndarray<br>shape=(28, 28)<br>dtype=int64&gt</td><td><img style=\"max-height:128px;width:auto\" src=\"data:image/png;base64, /9j/4AAQSkZJRgABAQAAAQABAAD/2wBDAAgGBgcGBQgHBwcJCQgKDBQNDAsLDBkSEw8UHRofHh0aHBwgJC4nICIsIxwcKDcpLDAxNDQ0Hyc5PTgyPC4zNDL/wAALCAAcABwBAREA/8QAHwAAAQUBAQEBAQEAAAAAAAAAAAECAwQFBgcICQoL/8QAtRAAAgEDAwIEAwUFBAQAAAF9AQIDAAQRBRIhMUEGE1FhByJxFDKBkaEII0KxwRVS0fAkM2JyggkKFhcYGRolJicoKSo0NTY3ODk6Q0RFRkdISUpTVFVWV1hZWmNkZWZnaGlqc3R1dnd4eXqDhIWGh4iJipKTlJWWl5iZmqKjpKWmp6ipqrKztLW2t7i5usLDxMXGx8jJytLT1NXW19jZ2uHi4+Tl5ufo6erx8vP09fb3+Pn6/9oACAEBAAA/APn+iuj0HwD4p8SxtLpOi3E0KjJlfbEh5xwzkA/QGsS/sbnTL+exvI/LuYHMcqbgdrDqMjiq9d5YajJ4S8EaZrGladZyX9/PMkmo3EAma2ZCNsaBsqrY+bOM88dK5zWfFviDxDxq2sXl2v8AcklOz/vkcfpWNSqpY4UEn0Arsfh+mrXV9JZJE8vh6Y/8TYSD9wkQ+9IzEEKyjlW65xjOcHkZxEJ5BAWMW47C3UrnjPvio6s6fqF3pV/DfWM7wXULbo5UOCprU1vxn4k8RwiHVtYurmEHcImbamfXaMDPPXFYVFf/2Q==\" alt=\"<PIL.Image.Image image mode=L size=28x28 at 0x14A8EBAF0>\" />                                                        </td><td style=\"text-align: right;\">                                4</td></tr>\n",
       "<tr><td>[0, 0, 0, 0, 0, 0, 0, 0, 0, 0, 0, 0, 0, 0, 0, 0, 0, 0, 0,...</td><td style=\"text-align: right;\">                 8</td><td>&ltnp.ndarray<br>shape=(28, 28)<br>dtype=int64&gt</td><td><img style=\"max-height:128px;width:auto\" src=\"data:image/png;base64, /9j/4AAQSkZJRgABAQAAAQABAAD/2wBDAAgGBgcGBQgHBwcJCQgKDBQNDAsLDBkSEw8UHRofHh0aHBwgJC4nICIsIxwcKDcpLDAxNDQ0Hyc5PTgyPC4zNDL/wAALCAAcABwBAREA/8QAHwAAAQUBAQEBAQEAAAAAAAAAAAECAwQFBgcICQoL/8QAtRAAAgEDAwIEAwUFBAQAAAF9AQIDAAQRBRIhMUEGE1FhByJxFDKBkaEII0KxwRVS0fAkM2JyggkKFhcYGRolJicoKSo0NTY3ODk6Q0RFRkdISUpTVFVWV1hZWmNkZWZnaGlqc3R1dnd4eXqDhIWGh4iJipKTlJWWl5iZmqKjpKWmp6ipqrKztLW2t7i5usLDxMXGx8jJytLT1NXW19jZ2uHi4+Tl5ufo6erx8vP09fb3+Pn6/9oACAEBAAA/APn+ujl8E6rbeCU8V3bW9tYyzCK3imYrNcZ/iRcYK9eSR0NZd7oer6baxXV/pV9a282PKlnt3RHyM/KSMHjniqFbHhTRV8ReLNL0h5PLS7uEjdx1Ck8498Zr6WuPAF5q/wAQItT1i7sl8PaQFXT9KQ/KAFwrOv3V5J/ICvB/ig/ipPF91b+J5Zd/mNLbxCVnhWNiceWD0XjHbpXE05HaNw6MVYcgqcEV3Xw+vl1OfXPDuoap9lbXrVYkupzuUTI4dNxJzzhhnPeuh+KOl6pY/DnweviC28rV7R57RmMgcvGCNpJHXgD/ACa8iooBIOQcEVev9Z1TVUiXUdSvLxYRtiFxO0gQei7icD6VRr//2Q==\" alt=\"<PIL.Image.Image image mode=L size=28x28 at 0x14A8EBC40>\" /></td><td style=\"text-align: right;\">                                6</td></tr>\n",
       "<tr><td>[0, 0, 0, 0, 0, 0, 0, 0, 0, 0, 0, 0, 0, 0, 0, 0, 0, 0, 0,...</td><td style=\"text-align: right;\">                 3</td><td>&ltnp.ndarray<br>shape=(28, 28)<br>dtype=int64&gt</td><td><img style=\"max-height:128px;width:auto\" src=\"data:image/png;base64, /9j/4AAQSkZJRgABAQAAAQABAAD/2wBDAAgGBgcGBQgHBwcJCQgKDBQNDAsLDBkSEw8UHRofHh0aHBwgJC4nICIsIxwcKDcpLDAxNDQ0Hyc5PTgyPC4zNDL/wAALCAAcABwBAREA/8QAHwAAAQUBAQEBAQEAAAAAAAAAAAECAwQFBgcICQoL/8QAtRAAAgEDAwIEAwUFBAQAAAF9AQIDAAQRBRIhMUEGE1FhByJxFDKBkaEII0KxwRVS0fAkM2JyggkKFhcYGRolJicoKSo0NTY3ODk6Q0RFRkdISUpTVFVWV1hZWmNkZWZnaGlqc3R1dnd4eXqDhIWGh4iJipKTlJWWl5iZmqKjpKWmp6ipqrKztLW2t7i5usLDxMXGx8jJytLT1NXW19jZ2uHi4+Tl5ufo6erx8vP09fb3+Pn6/9oACAEBAAA/APFvD/h268RXckNvPaW0UKeZNc3kwiiiXOMlj/IAmugv/Aukw6RqV1pvjCx1K506ETXEENvIqbS6J8sh+VuXGPWuIopVALAE4BPJ9K9rvNF8KN4Bh8O+GfG2iwGeVZtUub2RonumXG1QMcICSQD3A964bxB8L/Enh/S5NVZLS+0yPG67sLhZUAPQkdce+MVxlKBkgdPrXpF38E/FCzF9Nawv9Pwv+nR3kax5IG7q2cAk/hj6VaVIPhb4b1m0n1iz1LWdZtjaNp9nL5kNupyC8p6FgCQBjue1eWUUUUV//9k=\" alt=\"<PIL.Image.Image image mode=L size=28x28 at 0x14A8F90D0>\" />                                                                </td><td style=\"text-align: right;\">                                5</td></tr>\n",
       "</tbody>\n",
       "</table>\n",
       "            <small>(Showing first 10 rows)</small>\n",
       "        </div>\n",
       "    "
      ],
      "text/plain": [
       "                                               image  label  \\\n",
       "0  [0, 0, 0, 0, 0, 0, 0, 0, 0, 0, 0, 0, 0, 0, 0, ...      5   \n",
       "1  [0, 0, 0, 0, 0, 0, 0, 0, 0, 0, 0, 0, 0, 0, 0, ...      5   \n",
       "2  [0, 0, 0, 0, 0, 0, 0, 0, 0, 0, 0, 0, 0, 0, 0, ...      4   \n",
       "3  [0, 0, 0, 0, 0, 0, 0, 0, 0, 0, 0, 0, 0, 0, 0, ...      3   \n",
       "4  [0, 0, 0, 0, 0, 0, 0, 0, 0, 0, 0, 0, 0, 0, 0, ...      5   \n",
       "5  [0, 0, 0, 0, 0, 0, 0, 0, 0, 0, 0, 0, 0, 0, 0, ...      8   \n",
       "6  [0, 0, 0, 0, 0, 0, 0, 0, 0, 0, 0, 0, 0, 0, 0, ...      6   \n",
       "7  [0, 0, 0, 0, 0, 0, 0, 0, 0, 0, 0, 0, 0, 0, 0, ...      5   \n",
       "8  [0, 0, 0, 0, 0, 0, 0, 0, 0, 0, 0, 0, 0, 0, 0, ...      8   \n",
       "9  [0, 0, 0, 0, 0, 0, 0, 0, 0, 0, 0, 0, 0, 0, 0, ...      3   \n",
       "\n",
       "                                            image_2d  \\\n",
       "0  [[0, 0, 0, 0, 0, 0, 0, 0, 0, 0, 0, 0, 0, 0, 0,...   \n",
       "1  [[0, 0, 0, 0, 0, 0, 0, 0, 0, 0, 0, 0, 0, 0, 0,...   \n",
       "2  [[0, 0, 0, 0, 0, 0, 0, 0, 0, 0, 0, 0, 0, 0, 0,...   \n",
       "3  [[0, 0, 0, 0, 0, 0, 0, 0, 0, 0, 0, 0, 0, 0, 0,...   \n",
       "4  [[0, 0, 0, 0, 0, 0, 0, 0, 0, 0, 0, 0, 0, 0, 0,...   \n",
       "5  [[0, 0, 0, 0, 0, 0, 0, 0, 0, 0, 0, 0, 0, 0, 0,...   \n",
       "6  [[0, 0, 0, 0, 0, 0, 0, 0, 0, 0, 0, 0, 0, 0, 0,...   \n",
       "7  [[0, 0, 0, 0, 0, 0, 0, 0, 0, 0, 0, 0, 0, 0, 0,...   \n",
       "8  [[0, 0, 0, 0, 0, 0, 0, 0, 0, 0, 0, 0, 0, 0, 0,...   \n",
       "9  [[0, 0, 0, 0, 0, 0, 0, 0, 0, 0, 0, 0, 0, 0, 0,...   \n",
       "\n",
       "                                           pil_image  model_classification  \n",
       "0  <PIL.Image.Image image mode=L size=28x28 at 0x...                     9  \n",
       "1  <PIL.Image.Image image mode=L size=28x28 at 0x...                     4  \n",
       "2  <PIL.Image.Image image mode=L size=28x28 at 0x...                     9  \n",
       "3  <PIL.Image.Image image mode=L size=28x28 at 0x...                     5  \n",
       "4  <PIL.Image.Image image mode=L size=28x28 at 0x...                     8  \n",
       "5  <PIL.Image.Image image mode=L size=28x28 at 0x...                     3  \n",
       "6  <PIL.Image.Image image mode=L size=28x28 at 0x...                     0  \n",
       "7  <PIL.Image.Image image mode=L size=28x28 at 0x...                     4  \n",
       "8  <PIL.Image.Image image mode=L size=28x28 at 0x...                     6  \n",
       "9  <PIL.Image.Image image mode=L size=28x28 at 0x...                     5  "
      ]
     },
     "execution_count": 12,
     "metadata": {},
     "output_type": "execute_result"
    }
   ],
   "source": [
    "classified_images_df.where(classified_images_df[\"label\"] != classified_images_df[\"model_classification\"]).show(10)"
   ]
  },
  {
   "cell_type": "markdown",
   "id": "bb7ca72b-0743-451d-a3bf-e492a73ad7d6",
   "metadata": {},
   "source": [
    "Some of these look hard indeed, even for a human!"
   ]
  },
  {
   "cell_type": "markdown",
   "id": "5482e99e-cf3a-4d54-93e3-6e468db03eef",
   "metadata": {},
   "source": [
    "## Analytics\n",
    "\n",
    "We just managed to run our model, but how well did it actually do? Dataframes expose a powerful set of operations in Groupbys/Aggregations to help us report on aggregates of our data.\n",
    "\n",
    "Let's group our data by the true labels and calculate how many mistakes our model made per label."
   ]
  },
  {
   "cell_type": "code",
   "execution_count": 14,
   "id": "8b60eef9-eeab-435e-9f5d-c775af9afe3f",
   "metadata": {},
   "outputs": [
    {
     "data": {
      "text/html": [
       "\n",
       "        <div>\n",
       "            <table class=\"dataframe\">\n",
       "<thead>\n",
       "<tr><th style=\"text-align: right;\">  label<br>INTEGER</th><th style=\"text-align: right;\">  num_mismatches<br>INTEGER</th><th style=\"text-align: right;\">  num_correct<br>INTEGER</th></tr>\n",
       "</thead>\n",
       "<tbody>\n",
       "<tr><td style=\"text-align: right;\">                 2</td><td style=\"text-align: right;\">                         41</td><td style=\"text-align: right;\">                     991</td></tr>\n",
       "<tr><td style=\"text-align: right;\">                 8</td><td style=\"text-align: right;\">                         43</td><td style=\"text-align: right;\">                     931</td></tr>\n",
       "<tr><td style=\"text-align: right;\">                 7</td><td style=\"text-align: right;\">                         60</td><td style=\"text-align: right;\">                     968</td></tr>\n",
       "<tr><td style=\"text-align: right;\">                 3</td><td style=\"text-align: right;\">                         39</td><td style=\"text-align: right;\">                     971</td></tr>\n",
       "<tr><td style=\"text-align: right;\">                 6</td><td style=\"text-align: right;\">                         27</td><td style=\"text-align: right;\">                     931</td></tr>\n",
       "<tr><td style=\"text-align: right;\">                 0</td><td style=\"text-align: right;\">                         15</td><td style=\"text-align: right;\">                     965</td></tr>\n",
       "<tr><td style=\"text-align: right;\">                 1</td><td style=\"text-align: right;\">                         10</td><td style=\"text-align: right;\">                    1125</td></tr>\n",
       "<tr><td style=\"text-align: right;\">                 9</td><td style=\"text-align: right;\">                         37</td><td style=\"text-align: right;\">                     972</td></tr>\n",
       "<tr><td style=\"text-align: right;\">                 4</td><td style=\"text-align: right;\">                         22</td><td style=\"text-align: right;\">                     960</td></tr>\n",
       "<tr><td style=\"text-align: right;\">                 5</td><td style=\"text-align: right;\">                         63</td><td style=\"text-align: right;\">                     829</td></tr>\n",
       "</tbody>\n",
       "</table>\n",
       "            <small>(Showing first 10 rows)</small>\n",
       "        </div>\n",
       "    "
      ],
      "text/plain": [
       "   label  num_mismatches  num_correct\n",
       "0      2              41          991\n",
       "1      8              43          931\n",
       "2      7              60          968\n",
       "3      3              39          971\n",
       "4      6              27          931\n",
       "5      0              15          965\n",
       "6      1              10         1125\n",
       "7      9              37          972\n",
       "8      4              22          960\n",
       "9      5              63          829"
      ]
     },
     "execution_count": 14,
     "metadata": {},
     "output_type": "execute_result"
    }
   ],
   "source": [
    "analysis_df = classified_images_df.groupby(\n",
    "    classified_images_df[\"label\"]\n",
    ").sum(\n",
    "    (classified_images_df[\"model_classification\"] != classified_images_df[\"label\"]).cast(int).alias(\"num_mismatches\"),\n",
    "    (classified_images_df[\"model_classification\"] == classified_images_df[\"label\"]).cast(int).alias(\"num_correct\"),\n",
    ")\n",
    "\n",
    "analysis_df.show()"
   ]
  },
  {
   "cell_type": "markdown",
   "id": "05f7df20-6dbc-4115-9acf-8d863cac93af",
   "metadata": {},
   "source": [
    "Pretty impressive, given that the model only actually trained for one epoch!"
   ]
  },
  {
   "cell_type": "code",
   "execution_count": null,
   "id": "4acf0191-8bb2-4c50-9d19-7a6bc97840d2",
   "metadata": {},
   "outputs": [],
   "source": []
  }
 ],
 "metadata": {
  "kernelspec": {
   "display_name": "Python 3 (ipykernel)",
   "language": "python",
   "name": "python3"
  },
  "language_info": {
   "codemirror_mode": {
    "name": "ipython",
    "version": 3
   },
   "file_extension": ".py",
   "mimetype": "text/x-python",
   "name": "python",
   "nbconvert_exporter": "python",
   "pygments_lexer": "ipython3",
   "version": "3.9.12"
  },
  "vscode": {
   "interpreter": {
    "hash": "abe0cbefa28213872cf2c91d6aa47443089aa2a6ddfc370b260793ec957ca67a"
   }
  }
 },
 "nbformat": 4,
 "nbformat_minor": 5
}
