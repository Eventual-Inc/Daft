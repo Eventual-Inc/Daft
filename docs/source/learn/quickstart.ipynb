{
 "cells": [
  {
   "cell_type": "markdown",
   "id": "9b14abf5-a183-4bfb-9b15-a9a54b744fce",
   "metadata": {},
   "source": [
    "# Quickstart with DaFt\n",
    "\n",
    " ---\n",
    " ✨✨✨ **Run this notebook on Google Colab** ✨✨✨\n",
    " \n",
    " You can [run this notebook yourself with Google Colab](https://colab.research.google.com/github/Eventual-Inc/Daft/blob/main/notebooks/tutorials/quickstart.ipynb)!\n",
    "\n",
    " ---\n",
    "\n",
    "The MNIST Dataset is a \"large database of handwritten digits that is commonly used for training various image processing systems\"."
   ]
  },
  {
   "cell_type": "code",
   "execution_count": null,
   "id": "d1b56860-db41-4829-b395-176e11987cdc",
   "metadata": {},
   "outputs": [],
   "source": [
    "!pip install getdaft\n",
    "!pip install Pillow torch torchvision"
   ]
  },
  {
   "cell_type": "markdown",
   "id": "252b5128-99c2-49dd-b624-6e4b21275959",
   "metadata": {},
   "source": [
    "## Loading Data\n",
    "\n",
    "This is a JSON file containing all the data for the MNIST test set. Let's load it up into a DaFt Dataframe!"
   ]
  },
  {
   "cell_type": "code",
   "execution_count": 2,
   "id": "fc63a3ad-0e0a-4ab3-9cc0-cbec8bdd0632",
   "metadata": {},
   "outputs": [],
   "source": [
    "from daft import DataFrame, col, udf\n",
    "\n",
    "URL = \"https://github.com/Eventual-Inc/mnist-json/raw/master/mnist_handwritten_test.json.gz\"\n",
    "images_df = DataFrame.from_json(URL)"
   ]
  },
  {
   "cell_type": "markdown",
   "id": "d52f6032-6619-4682-8305-2ed65bdc194c",
   "metadata": {},
   "source": [
    "To peek at the dataset, simply have your notebook display the images_df that was just created."
   ]
  },
  {
   "cell_type": "code",
   "execution_count": 3,
   "id": "73a71adf-3b2e-4ec5-a0d2-34ad8eec734c",
   "metadata": {},
   "outputs": [
    {
     "data": {
      "text/html": [
       "<table border=\"1\" class=\"dataframe\">\n",
       "  <thead>\n",
       "    <tr style=\"text-align: right;\">\n",
       "      <th>column_name</th>\n",
       "      <th>type</th>\n",
       "    </tr>\n",
       "  </thead>\n",
       "  <tbody>\n",
       "    <tr>\n",
       "      <td>image</td>\n",
       "      <td>PY[object]</td>\n",
       "    </tr>\n",
       "    <tr>\n",
       "      <td>label</td>\n",
       "      <td>INTEGER</td>\n",
       "    </tr>\n",
       "  </tbody>\n",
       "</table>"
      ],
      "text/plain": [
       "column_name       type\n",
       "      image PY[object]\n",
       "      label    INTEGER"
      ]
     },
     "execution_count": 3,
     "metadata": {},
     "output_type": "execute_result"
    }
   ],
   "source": [
    "images_df"
   ]
  },
  {
   "cell_type": "code",
   "execution_count": 4,
   "id": "4787caab-d7d1-4fd4-9a76-ffb08a404a31",
   "metadata": {},
   "outputs": [
    {
     "name": "stderr",
     "output_type": "stream",
     "text": [
      "2022-09-23 16:56:06.430 | INFO     | daft.context:runner:65 - Using PyRunner\n"
     ]
    },
    {
     "data": {
      "text/html": [
       "\n",
       "        <div>\n",
       "            <table class=\"dataframe\">\n",
       "<thead>\n",
       "<tr><th>image<br>PY[object]                            </th><th style=\"text-align: right;\">  label<br>INTEGER</th></tr>\n",
       "</thead>\n",
       "<tbody>\n",
       "<tr><td>&ltnp.ndarray<br>shape=(784,)<br>dtype=int64&gt</td><td style=\"text-align: right;\">                 7</td></tr>\n",
       "<tr><td>&ltnp.ndarray<br>shape=(784,)<br>dtype=int64&gt</td><td style=\"text-align: right;\">                 2</td></tr>\n",
       "<tr><td>&ltnp.ndarray<br>shape=(784,)<br>dtype=int64&gt</td><td style=\"text-align: right;\">                 1</td></tr>\n",
       "<tr><td>&ltnp.ndarray<br>shape=(784,)<br>dtype=int64&gt</td><td style=\"text-align: right;\">                 0</td></tr>\n",
       "<tr><td>&ltnp.ndarray<br>shape=(784,)<br>dtype=int64&gt</td><td style=\"text-align: right;\">                 4</td></tr>\n",
       "<tr><td>&ltnp.ndarray<br>shape=(784,)<br>dtype=int64&gt</td><td style=\"text-align: right;\">                 1</td></tr>\n",
       "<tr><td>&ltnp.ndarray<br>shape=(784,)<br>dtype=int64&gt</td><td style=\"text-align: right;\">                 4</td></tr>\n",
       "<tr><td>&ltnp.ndarray<br>shape=(784,)<br>dtype=int64&gt</td><td style=\"text-align: right;\">                 9</td></tr>\n",
       "<tr><td>&ltnp.ndarray<br>shape=(784,)<br>dtype=int64&gt</td><td style=\"text-align: right;\">                 5</td></tr>\n",
       "<tr><td>&ltnp.ndarray<br>shape=(784,)<br>dtype=int64&gt</td><td style=\"text-align: right;\">                 9</td></tr>\n",
       "</tbody>\n",
       "</table>\n",
       "            <small>(Showing first 10 rows)</small>\n",
       "        </div>\n",
       "    "
      ],
      "text/plain": [
       "                                               image  label\n",
       "0  [0, 0, 0, 0, 0, 0, 0, 0, 0, 0, 0, 0, 0, 0, 0, ...      7\n",
       "1  [0, 0, 0, 0, 0, 0, 0, 0, 0, 0, 0, 0, 0, 0, 0, ...      2\n",
       "2  [0, 0, 0, 0, 0, 0, 0, 0, 0, 0, 0, 0, 0, 0, 0, ...      1\n",
       "3  [0, 0, 0, 0, 0, 0, 0, 0, 0, 0, 0, 0, 0, 0, 0, ...      0\n",
       "4  [0, 0, 0, 0, 0, 0, 0, 0, 0, 0, 0, 0, 0, 0, 0, ...      4\n",
       "5  [0, 0, 0, 0, 0, 0, 0, 0, 0, 0, 0, 0, 0, 0, 0, ...      1\n",
       "6  [0, 0, 0, 0, 0, 0, 0, 0, 0, 0, 0, 0, 0, 0, 0, ...      4\n",
       "7  [0, 0, 0, 0, 0, 0, 0, 0, 0, 0, 0, 0, 0, 0, 0, ...      9\n",
       "8  [0, 0, 0, 0, 0, 0, 0, 0, 0, 0, 0, 0, 0, 0, 0, ...      5\n",
       "9  [0, 0, 0, 0, 0, 0, 0, 0, 0, 0, 0, 0, 0, 0, 0, ...      9"
      ]
     },
     "execution_count": 4,
     "metadata": {},
     "output_type": "execute_result"
    }
   ],
   "source": [
    "images_df.show(10)"
   ]
  },
  {
   "cell_type": "markdown",
   "id": "426f1bbb-e1c0-4fd6-b84e-cbb1ab309ff9",
   "metadata": {},
   "source": [
    "You just loaded your first DaFt Dataframe! It consists of two columns:\n",
    "1. The \"image\" column is a Python object column - where it looks like each row contains an array of digits representing the pixels of each image\n",
    "2. The \"label\" column is an Integer column, consisting of just the label of that image."
   ]
  },
  {
   "cell_type": "markdown",
   "id": "9a7872e3-9860-4867-8a8c-61a69f69e334",
   "metadata": {},
   "source": [
    "## Processing Columns with User-Defined Functions (UDF)\n",
    "\n",
    "It seems our JSON file has provided us with a one-dimensional array of pixels instead of two-dimensional images. We can easily modify data in this column by instructing DaFt to run a method on every row in the column like so:"
   ]
  },
  {
   "cell_type": "code",
   "execution_count": 5,
   "id": "af857589-b28a-4ee0-91cd-dc7a01ff4c07",
   "metadata": {},
   "outputs": [],
   "source": [
    "import numpy as np\n",
    "\n",
    "images_df = images_df.with_column(\n",
    "    \"image_2d\",\n",
    "    col(\"image\").as_py(np.ndarray).reshape(28, 28),\n",
    ")"
   ]
  },
  {
   "cell_type": "code",
   "execution_count": 6,
   "id": "d1212a7e-949a-4881-ba54-9d7e7eb31e6f",
   "metadata": {},
   "outputs": [
    {
     "data": {
      "text/html": [
       "\n",
       "        <div>\n",
       "            <table class=\"dataframe\">\n",
       "<thead>\n",
       "<tr><th>image<br>PY[object]                            </th><th style=\"text-align: right;\">  label<br>INTEGER</th><th>image_2d<br>PY[object]                           </th></tr>\n",
       "</thead>\n",
       "<tbody>\n",
       "<tr><td>&ltnp.ndarray<br>shape=(784,)<br>dtype=int64&gt</td><td style=\"text-align: right;\">                 7</td><td>&ltnp.ndarray<br>shape=(28, 28)<br>dtype=int64&gt</td></tr>\n",
       "<tr><td>&ltnp.ndarray<br>shape=(784,)<br>dtype=int64&gt</td><td style=\"text-align: right;\">                 2</td><td>&ltnp.ndarray<br>shape=(28, 28)<br>dtype=int64&gt</td></tr>\n",
       "<tr><td>&ltnp.ndarray<br>shape=(784,)<br>dtype=int64&gt</td><td style=\"text-align: right;\">                 1</td><td>&ltnp.ndarray<br>shape=(28, 28)<br>dtype=int64&gt</td></tr>\n",
       "<tr><td>&ltnp.ndarray<br>shape=(784,)<br>dtype=int64&gt</td><td style=\"text-align: right;\">                 0</td><td>&ltnp.ndarray<br>shape=(28, 28)<br>dtype=int64&gt</td></tr>\n",
       "<tr><td>&ltnp.ndarray<br>shape=(784,)<br>dtype=int64&gt</td><td style=\"text-align: right;\">                 4</td><td>&ltnp.ndarray<br>shape=(28, 28)<br>dtype=int64&gt</td></tr>\n",
       "<tr><td>&ltnp.ndarray<br>shape=(784,)<br>dtype=int64&gt</td><td style=\"text-align: right;\">                 1</td><td>&ltnp.ndarray<br>shape=(28, 28)<br>dtype=int64&gt</td></tr>\n",
       "<tr><td>&ltnp.ndarray<br>shape=(784,)<br>dtype=int64&gt</td><td style=\"text-align: right;\">                 4</td><td>&ltnp.ndarray<br>shape=(28, 28)<br>dtype=int64&gt</td></tr>\n",
       "<tr><td>&ltnp.ndarray<br>shape=(784,)<br>dtype=int64&gt</td><td style=\"text-align: right;\">                 9</td><td>&ltnp.ndarray<br>shape=(28, 28)<br>dtype=int64&gt</td></tr>\n",
       "<tr><td>&ltnp.ndarray<br>shape=(784,)<br>dtype=int64&gt</td><td style=\"text-align: right;\">                 5</td><td>&ltnp.ndarray<br>shape=(28, 28)<br>dtype=int64&gt</td></tr>\n",
       "<tr><td>&ltnp.ndarray<br>shape=(784,)<br>dtype=int64&gt</td><td style=\"text-align: right;\">                 9</td><td>&ltnp.ndarray<br>shape=(28, 28)<br>dtype=int64&gt</td></tr>\n",
       "</tbody>\n",
       "</table>\n",
       "            <small>(Showing first 10 rows)</small>\n",
       "        </div>\n",
       "    "
      ],
      "text/plain": [
       "                                               image  label  \\\n",
       "0  [0, 0, 0, 0, 0, 0, 0, 0, 0, 0, 0, 0, 0, 0, 0, ...      7   \n",
       "1  [0, 0, 0, 0, 0, 0, 0, 0, 0, 0, 0, 0, 0, 0, 0, ...      2   \n",
       "2  [0, 0, 0, 0, 0, 0, 0, 0, 0, 0, 0, 0, 0, 0, 0, ...      1   \n",
       "3  [0, 0, 0, 0, 0, 0, 0, 0, 0, 0, 0, 0, 0, 0, 0, ...      0   \n",
       "4  [0, 0, 0, 0, 0, 0, 0, 0, 0, 0, 0, 0, 0, 0, 0, ...      4   \n",
       "5  [0, 0, 0, 0, 0, 0, 0, 0, 0, 0, 0, 0, 0, 0, 0, ...      1   \n",
       "6  [0, 0, 0, 0, 0, 0, 0, 0, 0, 0, 0, 0, 0, 0, 0, ...      4   \n",
       "7  [0, 0, 0, 0, 0, 0, 0, 0, 0, 0, 0, 0, 0, 0, 0, ...      9   \n",
       "8  [0, 0, 0, 0, 0, 0, 0, 0, 0, 0, 0, 0, 0, 0, 0, ...      5   \n",
       "9  [0, 0, 0, 0, 0, 0, 0, 0, 0, 0, 0, 0, 0, 0, 0, ...      9   \n",
       "\n",
       "                                            image_2d  \n",
       "0  [[0, 0, 0, 0, 0, 0, 0, 0, 0, 0, 0, 0, 0, 0, 0,...  \n",
       "1  [[0, 0, 0, 0, 0, 0, 0, 0, 0, 0, 0, 0, 0, 0, 0,...  \n",
       "2  [[0, 0, 0, 0, 0, 0, 0, 0, 0, 0, 0, 0, 0, 0, 0,...  \n",
       "3  [[0, 0, 0, 0, 0, 0, 0, 0, 0, 0, 0, 0, 0, 0, 0,...  \n",
       "4  [[0, 0, 0, 0, 0, 0, 0, 0, 0, 0, 0, 0, 0, 0, 0,...  \n",
       "5  [[0, 0, 0, 0, 0, 0, 0, 0, 0, 0, 0, 0, 0, 0, 0,...  \n",
       "6  [[0, 0, 0, 0, 0, 0, 0, 0, 0, 0, 0, 0, 0, 0, 0,...  \n",
       "7  [[0, 0, 0, 0, 0, 0, 0, 0, 0, 0, 0, 0, 0, 0, 0,...  \n",
       "8  [[0, 0, 0, 0, 0, 0, 0, 0, 0, 0, 0, 0, 0, 0, 0,...  \n",
       "9  [[0, 0, 0, 0, 0, 0, 0, 0, 0, 0, 0, 0, 0, 0, 0,...  "
      ]
     },
     "execution_count": 6,
     "metadata": {},
     "output_type": "execute_result"
    }
   ],
   "source": [
    "images_df.show(10)"
   ]
  },
  {
   "cell_type": "markdown",
   "id": "cd0d2664-12d8-4964-85cd-a67f8fee1384",
   "metadata": {},
   "source": [
    "Great, but we can do one better - let's convert these two-dimensional arrays into Images. Computers speak in pixels and arrays, but humans do much better with visual patterns!\n",
    "\n",
    "To do this, we can leverage the `.apply` expression method. Similar to the `.as_py` method, this allows us to run a single function on all rows of a given column, but provides us with more flexibility as it takes as input any arbitrary function."
   ]
  },
  {
   "cell_type": "code",
   "execution_count": 7,
   "id": "e585303a-7c83-4a31-afbb-461c951481f7",
   "metadata": {},
   "outputs": [],
   "source": [
    "from PIL import Image\n",
    "\n",
    "images_df = images_df.with_column(\"pil_image\", col(\"image_2d\").apply(lambda arr: Image.fromarray(arr.astype(np.uint8))))"
   ]
  },
  {
   "cell_type": "code",
   "execution_count": 8,
   "id": "59b655ed-13aa-4764-acd4-a00beb91ec2f",
   "metadata": {},
   "outputs": [
    {
     "data": {
      "text/html": [
       "\n",
       "        <div>\n",
       "            <table class=\"dataframe\">\n",
       "<thead>\n",
       "<tr><th>image<br>PY[object]                            </th><th style=\"text-align: right;\">  label<br>INTEGER</th><th>image_2d<br>PY[object]                           </th><th>pil_image<br>PY[object]                                                                                                                                                                                                                                                                                                                                                                                                                                                                                                                                                                                                                                                                                                                                                                                                                                                                                                                                             </th></tr>\n",
       "</thead>\n",
       "<tbody>\n",
       "<tr><td>&ltnp.ndarray<br>shape=(784,)<br>dtype=int64&gt</td><td style=\"text-align: right;\">                 7</td><td>&ltnp.ndarray<br>shape=(28, 28)<br>dtype=int64&gt</td><td><img style=\"max-height:128px;width:auto\" src=\"data:image/png;base64, /9j/4AAQSkZJRgABAQAAAQABAAD/2wBDAAgGBgcGBQgHBwcJCQgKDBQNDAsLDBkSEw8UHRofHh0aHBwgJC4nICIsIxwcKDcpLDAxNDQ0Hyc5PTgyPC4zNDL/wAALCAAcABwBAREA/8QAHwAAAQUBAQEBAQEAAAAAAAAAAAECAwQFBgcICQoL/8QAtRAAAgEDAwIEAwUFBAQAAAF9AQIDAAQRBRIhMUEGE1FhByJxFDKBkaEII0KxwRVS0fAkM2JyggkKFhcYGRolJicoKSo0NTY3ODk6Q0RFRkdISUpTVFVWV1hZWmNkZWZnaGlqc3R1dnd4eXqDhIWGh4iJipKTlJWWl5iZmqKjpKWmp6ipqrKztLW2t7i5usLDxMXGx8jJytLT1NXW19jZ2uHi4+Tl5ufo6erx8vP09fb3+Pn6/9oACAEBAAA/APA4Lea6nSC3hkmmc4SONSzMfQAdadc2dzZSmK7tpoJB/BKhU/kahoq1pupXuj6hDf6dcyW13CSY5YzhlyCDj8CRXXWvxe8b20SxtrH2lVOQbqCOU9OmWUn/APVXUfEfxBqCfDzSNJ16S2uNd1JxqEqpbohtIMYjQbQBlsEnv1HpXj9Fdx8OvDNlqNxe+IdeVh4e0VPPucLnznyNkQ/3j1/LjOa57xPr9z4n8R3usXQ2vcSZVB0jQcKo9gABWRRXSxeOdXt/A0nhGAW0WnSzGaZ1j/ey8g7SxOMZA6AHjrXNUV//2Q==\" alt=\"<PIL.Image.Image image mode=L size=28x28 at 0x13B6923D0>\" />                                                    </td></tr>\n",
       "<tr><td>&ltnp.ndarray<br>shape=(784,)<br>dtype=int64&gt</td><td style=\"text-align: right;\">                 2</td><td>&ltnp.ndarray<br>shape=(28, 28)<br>dtype=int64&gt</td><td><img style=\"max-height:128px;width:auto\" src=\"data:image/png;base64, /9j/4AAQSkZJRgABAQAAAQABAAD/2wBDAAgGBgcGBQgHBwcJCQgKDBQNDAsLDBkSEw8UHRofHh0aHBwgJC4nICIsIxwcKDcpLDAxNDQ0Hyc5PTgyPC4zNDL/wAALCAAcABwBAREA/8QAHwAAAQUBAQEBAQEAAAAAAAAAAAECAwQFBgcICQoL/8QAtRAAAgEDAwIEAwUFBAQAAAF9AQIDAAQRBRIhMUEGE1FhByJxFDKBkaEII0KxwRVS0fAkM2JyggkKFhcYGRolJicoKSo0NTY3ODk6Q0RFRkdISUpTVFVWV1hZWmNkZWZnaGlqc3R1dnd4eXqDhIWGh4iJipKTlJWWl5iZmqKjpKWmp6ipqrKztLW2t7i5usLDxMXGx8jJytLT1NXW19jZ2uHi4+Tl5ufo6erx8vP09fb3+Pn6/9oACAEBAAA/APAY42lkWNBl2IVR6k17BB8L/BemalZaB4h8TXr+I7oKhtNNi3rDI3TcdpyB36HvwK8z8UaL/wAI74o1LRxOs4s52iEg/iAPGff196yaK9d+H1lbeCPCdz8SNZjWW5bdBpFtJw0jn5TIDn/eHToCe4ryvUb+51XUrnULyQyXNzK0srnuzHJqtRX0J4utvBHxCXSLez+INlo+m2dqqQ2EkQCIf7xLMoB24XB9Pc1wp8D+AdMc/wBrfEaCbazDy9Os2l3YHGHBIHPtj3riNfg0a31V00G8ubuw2qUkuYhG+ccgge9ZlFFFf//Z\" alt=\"<PIL.Image.Image image mode=L size=28x28 at 0x13B692490>\" />                                                </td></tr>\n",
       "<tr><td>&ltnp.ndarray<br>shape=(784,)<br>dtype=int64&gt</td><td style=\"text-align: right;\">                 1</td><td>&ltnp.ndarray<br>shape=(28, 28)<br>dtype=int64&gt</td><td><img style=\"max-height:128px;width:auto\" src=\"data:image/png;base64, /9j/4AAQSkZJRgABAQAAAQABAAD/2wBDAAgGBgcGBQgHBwcJCQgKDBQNDAsLDBkSEw8UHRofHh0aHBwgJC4nICIsIxwcKDcpLDAxNDQ0Hyc5PTgyPC4zNDL/wAALCAAcABwBAREA/8QAHwAAAQUBAQEBAQEAAAAAAAAAAAECAwQFBgcICQoL/8QAtRAAAgEDAwIEAwUFBAQAAAF9AQIDAAQRBRIhMUEGE1FhByJxFDKBkaEII0KxwRVS0fAkM2JyggkKFhcYGRolJicoKSo0NTY3ODk6Q0RFRkdISUpTVFVWV1hZWmNkZWZnaGlqc3R1dnd4eXqDhIWGh4iJipKTlJWWl5iZmqKjpKWmp6ipqrKztLW2t7i5usLDxMXGx8jJytLT1NXW19jZ2uHi4+Tl5ufo6erx8vP09fb3+Pn6/9oACAEBAAA/APn+lALEAAkngAd62PFGgjw1rR0trrz5o4Ynn/d7PLkZAzR9TnbnGfboKxqK634a6PHrPjrT1uAhs7Mm9ut/TyovmOfrgD8awte1M614h1LVCGX7ZcyThWOSoZiQM+2cVn0V6J4RFvo/wu8X63NKi3F6qaVarxuYsQ0nvjaR+XevO6KKKKK//9k=\" alt=\"<PIL.Image.Image image mode=L size=28x28 at 0x13B6925E0>\" />                                                                                                                                                                                </td></tr>\n",
       "<tr><td>&ltnp.ndarray<br>shape=(784,)<br>dtype=int64&gt</td><td style=\"text-align: right;\">                 0</td><td>&ltnp.ndarray<br>shape=(28, 28)<br>dtype=int64&gt</td><td><img style=\"max-height:128px;width:auto\" src=\"data:image/png;base64, /9j/4AAQSkZJRgABAQAAAQABAAD/2wBDAAgGBgcGBQgHBwcJCQgKDBQNDAsLDBkSEw8UHRofHh0aHBwgJC4nICIsIxwcKDcpLDAxNDQ0Hyc5PTgyPC4zNDL/wAALCAAcABwBAREA/8QAHwAAAQUBAQEBAQEAAAAAAAAAAAECAwQFBgcICQoL/8QAtRAAAgEDAwIEAwUFBAQAAAF9AQIDAAQRBRIhMUEGE1FhByJxFDKBkaEII0KxwRVS0fAkM2JyggkKFhcYGRolJicoKSo0NTY3ODk6Q0RFRkdISUpTVFVWV1hZWmNkZWZnaGlqc3R1dnd4eXqDhIWGh4iJipKTlJWWl5iZmqKjpKWmp6ipqrKztLW2t7i5usLDxMXGx8jJytLT1NXW19jZ2uHi4+Tl5ufo6erx8vP09fb3+Pn6/9oACAEBAAA/APn+u6+Hnwx1Lx9cTlZmsLGGMn7W8JdWfOAijIz3yc8Y+lcdqFjPpt9NaXMbJJE5U7lIzg4yM9qrVJbwtcXMUKqzNI4QBRkkk44r6F8c/Em3+GdnD4I8KWyi5sYVWS4lXiEsA/TGHZg24nplu5zjC11T8SPgyfFupp5WtaK7RG4Cqi3SFl4J46AjA9QcferxOtDQr9NK8Q6ZqMiF0tLuKdlHUhXDEfpX0VqHgHwJ461y88a3niUy2Ny0P7uKdIY0KoqbXZgTzt6fKetcF8VfiLpOo6Ta+E/CStBpNsx+0MkflpKRjaqgdVzkkkcnB9z5FRRRRX//2Q==\" alt=\"<PIL.Image.Image image mode=L size=28x28 at 0x13B692610>\" />                            </td></tr>\n",
       "<tr><td>&ltnp.ndarray<br>shape=(784,)<br>dtype=int64&gt</td><td style=\"text-align: right;\">                 4</td><td>&ltnp.ndarray<br>shape=(28, 28)<br>dtype=int64&gt</td><td><img style=\"max-height:128px;width:auto\" src=\"data:image/png;base64, /9j/4AAQSkZJRgABAQAAAQABAAD/2wBDAAgGBgcGBQgHBwcJCQgKDBQNDAsLDBkSEw8UHRofHh0aHBwgJC4nICIsIxwcKDcpLDAxNDQ0Hyc5PTgyPC4zNDL/wAALCAAcABwBAREA/8QAHwAAAQUBAQEBAQEAAAAAAAAAAAECAwQFBgcICQoL/8QAtRAAAgEDAwIEAwUFBAQAAAF9AQIDAAQRBRIhMUEGE1FhByJxFDKBkaEII0KxwRVS0fAkM2JyggkKFhcYGRolJicoKSo0NTY3ODk6Q0RFRkdISUpTVFVWV1hZWmNkZWZnaGlqc3R1dnd4eXqDhIWGh4iJipKTlJWWl5iZmqKjpKWmp6ipqrKztLW2t7i5usLDxMXGx8jJytLT1NXW19jZ2uHi4+Tl5ufo6erx8vP09fb3+Pn6/9oACAEBAAA/APn+tC60W7s9E0/Vpggtr95kgGTuPl7QxPGMZbA57Gohpl0dHOqhAbRZxbswYZDldwBHuAefY1Uq/oenDWNf07TDIIxd3McBc/w7mAz+tb3xG1NLvxZcadZxmHS9JJsLKDGAiIcM2PVm3MSeeea2PElpH4a+Enh/SWTN7rVwdXmc8FIwmyNfoQxP5151T4ZpLeeOeF2jljYOjqcFWByCK7GT4qeKJRvkk097njN02nQNMSO5YpyccV0Hx4u3uPFOipI/72PRoTNGDgRyFnJG3+E9OPTFeV0UVJPPNczvPcSvLM53PJIxZmPqSetR1//Z\" alt=\"<PIL.Image.Image image mode=L size=28x28 at 0x13B692640>\" />                                        </td></tr>\n",
       "<tr><td>&ltnp.ndarray<br>shape=(784,)<br>dtype=int64&gt</td><td style=\"text-align: right;\">                 1</td><td>&ltnp.ndarray<br>shape=(28, 28)<br>dtype=int64&gt</td><td><img style=\"max-height:128px;width:auto\" src=\"data:image/png;base64, /9j/4AAQSkZJRgABAQAAAQABAAD/2wBDAAgGBgcGBQgHBwcJCQgKDBQNDAsLDBkSEw8UHRofHh0aHBwgJC4nICIsIxwcKDcpLDAxNDQ0Hyc5PTgyPC4zNDL/wAALCAAcABwBAREA/8QAHwAAAQUBAQEBAQEAAAAAAAAAAAECAwQFBgcICQoL/8QAtRAAAgEDAwIEAwUFBAQAAAF9AQIDAAQRBRIhMUEGE1FhByJxFDKBkaEII0KxwRVS0fAkM2JyggkKFhcYGRolJicoKSo0NTY3ODk6Q0RFRkdISUpTVFVWV1hZWmNkZWZnaGlqc3R1dnd4eXqDhIWGh4iJipKTlJWWl5iZmqKjpKWmp6ipqrKztLW2t7i5usLDxMXGx8jJytLT1NXW19jZ2uHi4+Tl5ufo6erx8vP09fb3+Pn6/9oACAEBAAA/APn+nIjSOqIpZmOAB1Jrb8V+EtT8GarFpuq+R9pkgSfEMm8KGzwfQgggj8sjBrCorvvg3oI1z4kaeZULW1jm8lO3IGz7uf8AgW2sTx54iPirxvqurhswzTFYOMful+VOO3ygE+5Nc5RXqvgG4Hh34TeM/EUIH22Yx6dC4bDRhupH/fYP/Aa8qooqVLidIJIEmkWGQgvGGIViOmR0OKior//Z\" alt=\"<PIL.Image.Image image mode=L size=28x28 at 0x13B692670>\" />                                                                                                                                                </td></tr>\n",
       "<tr><td>&ltnp.ndarray<br>shape=(784,)<br>dtype=int64&gt</td><td style=\"text-align: right;\">                 4</td><td>&ltnp.ndarray<br>shape=(28, 28)<br>dtype=int64&gt</td><td><img style=\"max-height:128px;width:auto\" src=\"data:image/png;base64, /9j/4AAQSkZJRgABAQAAAQABAAD/2wBDAAgGBgcGBQgHBwcJCQgKDBQNDAsLDBkSEw8UHRofHh0aHBwgJC4nICIsIxwcKDcpLDAxNDQ0Hyc5PTgyPC4zNDL/wAALCAAcABwBAREA/8QAHwAAAQUBAQEBAQEAAAAAAAAAAAECAwQFBgcICQoL/8QAtRAAAgEDAwIEAwUFBAQAAAF9AQIDAAQRBRIhMUEGE1FhByJxFDKBkaEII0KxwRVS0fAkM2JyggkKFhcYGRolJicoKSo0NTY3ODk6Q0RFRkdISUpTVFVWV1hZWmNkZWZnaGlqc3R1dnd4eXqDhIWGh4iJipKTlJWWl5iZmqKjpKWmp6ipqrKztLW2t7i5usLDxMXGx8jJytLT1NXW19jZ2uHi4+Tl5ufo6erx8vP09fb3+Pn6/9oACAEBAAA/APn8DJwOtbWveF9R8NxWB1PyYp7yHz1tRJmWJD08xf4SRyAefyNVtL0PUNZivpbOJWisYDcXEjuEWNB6knqTwB1JrOrc8HXGkWnjDS7jXU36XHOGuBgnjsSByQDg8eneu68W+F9I8QeIbrXm+I+iTR30jSjzN/moucBPLUEjCgAA4zjgVB8RYbPwLo1v4D0m6FxM7C71e52KGlfH7uPjkKvzHB/vCvMKK734O6JFrPxCtmnjEsOnxPfNDs3GUpjaoHruZT+Fc94ui1ZfE15PrcSw6jdSG4miDKTGXJO0gH5T7Hkd6w6Kmtru5spvOtbiWCXBXfE5VsHgjIqEkk5JyaK//9k=\" alt=\"<PIL.Image.Image image mode=L size=28x28 at 0x13B6926A0>\" />            </td></tr>\n",
       "<tr><td>&ltnp.ndarray<br>shape=(784,)<br>dtype=int64&gt</td><td style=\"text-align: right;\">                 9</td><td>&ltnp.ndarray<br>shape=(28, 28)<br>dtype=int64&gt</td><td><img style=\"max-height:128px;width:auto\" src=\"data:image/png;base64, /9j/4AAQSkZJRgABAQAAAQABAAD/2wBDAAgGBgcGBQgHBwcJCQgKDBQNDAsLDBkSEw8UHRofHh0aHBwgJC4nICIsIxwcKDcpLDAxNDQ0Hyc5PTgyPC4zNDL/wAALCAAcABwBAREA/8QAHwAAAQUBAQEBAQEAAAAAAAAAAAECAwQFBgcICQoL/8QAtRAAAgEDAwIEAwUFBAQAAAF9AQIDAAQRBRIhMUEGE1FhByJxFDKBkaEII0KxwRVS0fAkM2JyggkKFhcYGRolJicoKSo0NTY3ODk6Q0RFRkdISUpTVFVWV1hZWmNkZWZnaGlqc3R1dnd4eXqDhIWGh4iJipKTlJWWl5iZmqKjpKWmp6ipqrKztLW2t7i5usLDxMXGx8jJytLT1NXW19jZ2uHi4+Tl5ufo6erx8vP09fb3+Pn6/9oACAEBAAA/APn+tODw9q9zod1rUOnztplqVE11twiksFABPU5I6ZxmsyiivqLRLvU9Lm0Tw8ui2EngQ6RHJdX8ynyjuQu7MzYXlv4SP4sn28K+JegweHPH+qafaW8kFnvEturEEbGGflx/DkkD6c81yVFasniXWpfD8egyancNpUb70tS3yA/4c5x0rsdQuB48+G8V40gbXvDSeXcA8vcWZICv6koSAfQHPevOaKKuabqt9o9xJPYXDQSSwvBJgAh43GGUg8EEf0PUVTr/2Q==\" alt=\"<PIL.Image.Image image mode=L size=28x28 at 0x13B6926D0>\" />                                                                                            </td></tr>\n",
       "<tr><td>&ltnp.ndarray<br>shape=(784,)<br>dtype=int64&gt</td><td style=\"text-align: right;\">                 5</td><td>&ltnp.ndarray<br>shape=(28, 28)<br>dtype=int64&gt</td><td><img style=\"max-height:128px;width:auto\" src=\"data:image/png;base64, /9j/4AAQSkZJRgABAQAAAQABAAD/2wBDAAgGBgcGBQgHBwcJCQgKDBQNDAsLDBkSEw8UHRofHh0aHBwgJC4nICIsIxwcKDcpLDAxNDQ0Hyc5PTgyPC4zNDL/wAALCAAcABwBAREA/8QAHwAAAQUBAQEBAQEAAAAAAAAAAAECAwQFBgcICQoL/8QAtRAAAgEDAwIEAwUFBAQAAAF9AQIDAAQRBRIhMUEGE1FhByJxFDKBkaEII0KxwRVS0fAkM2JyggkKFhcYGRolJicoKSo0NTY3ODk6Q0RFRkdISUpTVFVWV1hZWmNkZWZnaGlqc3R1dnd4eXqDhIWGh4iJipKTlJWWl5iZmqKjpKWmp6ipqrKztLW2t7i5usLDxMXGx8jJytLT1NXW19jZ2uHi4+Tl5ufo6erx8vP09fb3+Pn6/9oACAEBAAA/APn+tnw34W1nxbqJsNFszczqu9xvVQi5xkliBjmvRV/Z78QxRxPe6zo9qHzkNKxKnB/2QDzjoe9eWarp76TrF7p0kscr2lxJA0kRyrlGKkqfQ44rp/hh4Qi8aeMY7C53m0gha6nRDhnRSBtB7ZLAZ96k8Saj4ssfFl/fw6fqHh5yFiWC0RoRFCMbEyoAIwBz3PNcjeXF5cXDNfTTyzg4YzsWbPvnmq9XtI1nUtA1KPUNKvJbS7j+7JGcHHoR0I9jwa9/+FfxZvtfhv8AStf1ezj1bCtYz3MQVH4wVYKVyc4PUHk+lcJ8cvEeheIPE1l/Y8sNzNawGO6uoEwkjZyAD3xz69epry2iiiiv/9k=\" alt=\"<PIL.Image.Image image mode=L size=28x28 at 0x13B692700>\" /></td></tr>\n",
       "<tr><td>&ltnp.ndarray<br>shape=(784,)<br>dtype=int64&gt</td><td style=\"text-align: right;\">                 9</td><td>&ltnp.ndarray<br>shape=(28, 28)<br>dtype=int64&gt</td><td><img style=\"max-height:128px;width:auto\" src=\"data:image/png;base64, /9j/4AAQSkZJRgABAQAAAQABAAD/2wBDAAgGBgcGBQgHBwcJCQgKDBQNDAsLDBkSEw8UHRofHh0aHBwgJC4nICIsIxwcKDcpLDAxNDQ0Hyc5PTgyPC4zNDL/wAALCAAcABwBAREA/8QAHwAAAQUBAQEBAQEAAAAAAAAAAAECAwQFBgcICQoL/8QAtRAAAgEDAwIEAwUFBAQAAAF9AQIDAAQRBRIhMUEGE1FhByJxFDKBkaEII0KxwRVS0fAkM2JyggkKFhcYGRolJicoKSo0NTY3ODk6Q0RFRkdISUpTVFVWV1hZWmNkZWZnaGlqc3R1dnd4eXqDhIWGh4iJipKTlJWWl5iZmqKjpKWmp6ipqrKztLW2t7i5usLDxMXGx8jJytLT1NXW19jZ2uHi4+Tl5ufo6erx8vP09fb3+Pn6/9oACAEBAAA/APn+pIYJbiVYoInlkbgIilifwFSXlheadP5F9aT2s2M+XPGUb8iKr1f0S0s77XLG01C7FnZzTKk1wf8AlmpPLV9EXGh6zpyLpvwzTw7pljMqhdRa7WW5us4O4HDcdR39sVL47u08P/De9sPG2qW+p6jd2qx2dsi/OJlQKZA2ASu8CTJAwcjJzXzHRXtHwx0jTvBnhC6+JHiG3DupMelQswzI3IyB2JOQCegDHGOa8q8Qa9feJddu9W1CUvcXEhbGSQgzwq56ADgCsyiug1zxnq3iHQ9H0e9eIWekw+VAkSld3AAZueWwAM8fqa5+iv/Z\" alt=\"<PIL.Image.Image image mode=L size=28x28 at 0x13B692730>\" />                                        </td></tr>\n",
       "</tbody>\n",
       "</table>\n",
       "            <small>(Showing first 10 rows)</small>\n",
       "        </div>\n",
       "    "
      ],
      "text/plain": [
       "                                               image  label  \\\n",
       "0  [0, 0, 0, 0, 0, 0, 0, 0, 0, 0, 0, 0, 0, 0, 0, ...      7   \n",
       "1  [0, 0, 0, 0, 0, 0, 0, 0, 0, 0, 0, 0, 0, 0, 0, ...      2   \n",
       "2  [0, 0, 0, 0, 0, 0, 0, 0, 0, 0, 0, 0, 0, 0, 0, ...      1   \n",
       "3  [0, 0, 0, 0, 0, 0, 0, 0, 0, 0, 0, 0, 0, 0, 0, ...      0   \n",
       "4  [0, 0, 0, 0, 0, 0, 0, 0, 0, 0, 0, 0, 0, 0, 0, ...      4   \n",
       "5  [0, 0, 0, 0, 0, 0, 0, 0, 0, 0, 0, 0, 0, 0, 0, ...      1   \n",
       "6  [0, 0, 0, 0, 0, 0, 0, 0, 0, 0, 0, 0, 0, 0, 0, ...      4   \n",
       "7  [0, 0, 0, 0, 0, 0, 0, 0, 0, 0, 0, 0, 0, 0, 0, ...      9   \n",
       "8  [0, 0, 0, 0, 0, 0, 0, 0, 0, 0, 0, 0, 0, 0, 0, ...      5   \n",
       "9  [0, 0, 0, 0, 0, 0, 0, 0, 0, 0, 0, 0, 0, 0, 0, ...      9   \n",
       "\n",
       "                                            image_2d  \\\n",
       "0  [[0, 0, 0, 0, 0, 0, 0, 0, 0, 0, 0, 0, 0, 0, 0,...   \n",
       "1  [[0, 0, 0, 0, 0, 0, 0, 0, 0, 0, 0, 0, 0, 0, 0,...   \n",
       "2  [[0, 0, 0, 0, 0, 0, 0, 0, 0, 0, 0, 0, 0, 0, 0,...   \n",
       "3  [[0, 0, 0, 0, 0, 0, 0, 0, 0, 0, 0, 0, 0, 0, 0,...   \n",
       "4  [[0, 0, 0, 0, 0, 0, 0, 0, 0, 0, 0, 0, 0, 0, 0,...   \n",
       "5  [[0, 0, 0, 0, 0, 0, 0, 0, 0, 0, 0, 0, 0, 0, 0,...   \n",
       "6  [[0, 0, 0, 0, 0, 0, 0, 0, 0, 0, 0, 0, 0, 0, 0,...   \n",
       "7  [[0, 0, 0, 0, 0, 0, 0, 0, 0, 0, 0, 0, 0, 0, 0,...   \n",
       "8  [[0, 0, 0, 0, 0, 0, 0, 0, 0, 0, 0, 0, 0, 0, 0,...   \n",
       "9  [[0, 0, 0, 0, 0, 0, 0, 0, 0, 0, 0, 0, 0, 0, 0,...   \n",
       "\n",
       "                                           pil_image  \n",
       "0  <PIL.Image.Image image mode=L size=28x28 at 0x...  \n",
       "1  <PIL.Image.Image image mode=L size=28x28 at 0x...  \n",
       "2  <PIL.Image.Image image mode=L size=28x28 at 0x...  \n",
       "3  <PIL.Image.Image image mode=L size=28x28 at 0x...  \n",
       "4  <PIL.Image.Image image mode=L size=28x28 at 0x...  \n",
       "5  <PIL.Image.Image image mode=L size=28x28 at 0x...  \n",
       "6  <PIL.Image.Image image mode=L size=28x28 at 0x...  \n",
       "7  <PIL.Image.Image image mode=L size=28x28 at 0x...  \n",
       "8  <PIL.Image.Image image mode=L size=28x28 at 0x...  \n",
       "9  <PIL.Image.Image image mode=L size=28x28 at 0x...  "
      ]
     },
     "execution_count": 8,
     "metadata": {},
     "output_type": "execute_result"
    }
   ],
   "source": [
    "images_df.show(10)"
   ]
  },
  {
   "cell_type": "markdown",
   "id": "e6b633f4-3d9d-4c25-9075-bc815d8e357f",
   "metadata": {},
   "source": [
    "Amazing! This looks great and we can finally get some idea of what the dataset truly looks like."
   ]
  },
  {
   "cell_type": "markdown",
   "id": "cd7e6774-9fb7-4827-a324-c116c8c812e1",
   "metadata": {},
   "source": [
    "## Running a model with Stateful UDFs\n",
    "\n",
    "Next, let's try to run a deep learning model to classify each image. Models are expensive to initialize and load, so we want to do this as few times as possible, and share a model across multiple invocations. Here's how we can do it with \"Stateful UDFs\".\n",
    "\n",
    "For the convenience of this quickstart tutorial, we pre-trained a model using a PyTorch-provided example script and saved the trained weights at https://github.com/Eventual-Inc/mnist-json/raw/master/mnist_cnn.pt.  We need to define the same deep learning model \"scaffold\" as the trained model that we want to load (this part is all PyTorch and is not specific at all to DaFt)"
   ]
  },
  {
   "cell_type": "code",
   "execution_count": 9,
   "id": "5ff43066-8a42-4773-974f-160ca4a9bc49",
   "metadata": {
    "tags": []
   },
   "outputs": [],
   "source": [
    "###\n",
    "# Model was trained using a script provided in PyTorch Examples: https://github.com/pytorch/examples/blob/main/mnist/main.py\n",
    "###\n",
    "\n",
    "from __future__ import print_function\n",
    "import argparse\n",
    "import torch\n",
    "import torch.nn as nn\n",
    "import torch.nn.functional as F\n",
    "import torch.optim as optim\n",
    "import torch.hub\n",
    "from torchvision import datasets, transforms\n",
    "from torch.optim.lr_scheduler import StepLR\n",
    "\n",
    "class Net(nn.Module):\n",
    "    def __init__(self):\n",
    "        super(Net, self).__init__()\n",
    "        self.conv1 = nn.Conv2d(1, 32, 3, 1)\n",
    "        self.conv2 = nn.Conv2d(32, 64, 3, 1)\n",
    "        self.dropout1 = nn.Dropout(0.25)\n",
    "        self.dropout2 = nn.Dropout(0.5)\n",
    "        self.fc1 = nn.Linear(9216, 128)\n",
    "        self.fc2 = nn.Linear(128, 10)\n",
    "\n",
    "    def forward(self, x):\n",
    "        x = self.conv1(x)\n",
    "        x = F.relu(x)\n",
    "        x = self.conv2(x)\n",
    "        x = F.relu(x)\n",
    "        x = F.max_pool2d(x, 2)\n",
    "        x = self.dropout1(x)\n",
    "        x = torch.flatten(x, 1)\n",
    "        x = self.fc1(x)\n",
    "        x = F.relu(x)\n",
    "        x = self.dropout2(x)\n",
    "        x = self.fc2(x)\n",
    "        output = F.log_softmax(x, dim=1)\n",
    "        return output"
   ]
  },
  {
   "cell_type": "markdown",
   "id": "266c1cf8-bf9a-4990-8182-97b072f15b57",
   "metadata": {},
   "source": [
    "Now comes the fun part - we can define a Stateful UDF using a class and the `@udf` decorator. This lets us use the class' `__init__` method to perform any expensive initializations such as downloading the model weights and loading the model."
   ]
  },
  {
   "cell_type": "code",
   "execution_count": 10,
   "id": "fda097ea-4946-483c-bcc0-5271e0b033c3",
   "metadata": {},
   "outputs": [],
   "source": [
    "@udf(return_type=int)\n",
    "class ClassifyImages:\n",
    "\n",
    "    def __init__(self):\n",
    "        # Perform expensive initializations - create the model, download model weights and load up the model with weights\n",
    "        self._model = Net()\n",
    "        state_dict = torch.hub.load_state_dict_from_url(\"https://github.com/Eventual-Inc/mnist-json/raw/master/mnist_cnn.pt\")\n",
    "        self._model.load_state_dict(state_dict)\n",
    "\n",
    "    def __call__(self, images_2d_col):\n",
    "        images_2d = np.array([arr for arr in images_2d_col])\n",
    "        normalized_image_2d = images_2d / 255\n",
    "        normalized_image_2d = normalized_image_2d[:, np.newaxis, :, :]\n",
    "        classifications = self._model(torch.from_numpy(normalized_image_2d).float())\n",
    "        return classifications.detach().numpy().argmax(axis=1)"
   ]
  },
  {
   "cell_type": "markdown",
   "id": "3605d3a6-f9ce-4e81-9e0f-5190f981bbd4",
   "metadata": {},
   "source": [
    "Using this Stateful Class UDF is really easy, we simply run it on the columns that we want to process:"
   ]
  },
  {
   "cell_type": "code",
   "execution_count": 11,
   "id": "4f9fd9f8-a231-44fb-a519-0288f670a34a",
   "metadata": {},
   "outputs": [
    {
     "data": {
      "text/html": [
       "\n",
       "        <div>\n",
       "            <table class=\"dataframe\">\n",
       "<thead>\n",
       "<tr><th>image<br>PY[object]                            </th><th style=\"text-align: right;\">  label<br>INTEGER</th><th>image_2d<br>PY[object]                           </th><th>pil_image<br>PY[object]                                                                                                                                                                                                                                                                                                                                                                                                                                                                                                                                                                                                                                                                                                                                                                                                                                                                                                                                             </th><th style=\"text-align: right;\">  model_classification<br>INTEGER</th></tr>\n",
       "</thead>\n",
       "<tbody>\n",
       "<tr><td>&ltnp.ndarray<br>shape=(784,)<br>dtype=int64&gt</td><td style=\"text-align: right;\">                 7</td><td>&ltnp.ndarray<br>shape=(28, 28)<br>dtype=int64&gt</td><td><img style=\"max-height:128px;width:auto\" src=\"data:image/png;base64, /9j/4AAQSkZJRgABAQAAAQABAAD/2wBDAAgGBgcGBQgHBwcJCQgKDBQNDAsLDBkSEw8UHRofHh0aHBwgJC4nICIsIxwcKDcpLDAxNDQ0Hyc5PTgyPC4zNDL/wAALCAAcABwBAREA/8QAHwAAAQUBAQEBAQEAAAAAAAAAAAECAwQFBgcICQoL/8QAtRAAAgEDAwIEAwUFBAQAAAF9AQIDAAQRBRIhMUEGE1FhByJxFDKBkaEII0KxwRVS0fAkM2JyggkKFhcYGRolJicoKSo0NTY3ODk6Q0RFRkdISUpTVFVWV1hZWmNkZWZnaGlqc3R1dnd4eXqDhIWGh4iJipKTlJWWl5iZmqKjpKWmp6ipqrKztLW2t7i5usLDxMXGx8jJytLT1NXW19jZ2uHi4+Tl5ufo6erx8vP09fb3+Pn6/9oACAEBAAA/APA4Lea6nSC3hkmmc4SONSzMfQAdadc2dzZSmK7tpoJB/BKhU/kahoq1pupXuj6hDf6dcyW13CSY5YzhlyCDj8CRXXWvxe8b20SxtrH2lVOQbqCOU9OmWUn/APVXUfEfxBqCfDzSNJ16S2uNd1JxqEqpbohtIMYjQbQBlsEnv1HpXj9Fdx8OvDNlqNxe+IdeVh4e0VPPucLnznyNkQ/3j1/LjOa57xPr9z4n8R3usXQ2vcSZVB0jQcKo9gABWRRXSxeOdXt/A0nhGAW0WnSzGaZ1j/ey8g7SxOMZA6AHjrXNUV//2Q==\" alt=\"<PIL.Image.Image image mode=L size=28x28 at 0x14DE521C0>\" />                                                    </td><td style=\"text-align: right;\">                                7</td></tr>\n",
       "<tr><td>&ltnp.ndarray<br>shape=(784,)<br>dtype=int64&gt</td><td style=\"text-align: right;\">                 2</td><td>&ltnp.ndarray<br>shape=(28, 28)<br>dtype=int64&gt</td><td><img style=\"max-height:128px;width:auto\" src=\"data:image/png;base64, /9j/4AAQSkZJRgABAQAAAQABAAD/2wBDAAgGBgcGBQgHBwcJCQgKDBQNDAsLDBkSEw8UHRofHh0aHBwgJC4nICIsIxwcKDcpLDAxNDQ0Hyc5PTgyPC4zNDL/wAALCAAcABwBAREA/8QAHwAAAQUBAQEBAQEAAAAAAAAAAAECAwQFBgcICQoL/8QAtRAAAgEDAwIEAwUFBAQAAAF9AQIDAAQRBRIhMUEGE1FhByJxFDKBkaEII0KxwRVS0fAkM2JyggkKFhcYGRolJicoKSo0NTY3ODk6Q0RFRkdISUpTVFVWV1hZWmNkZWZnaGlqc3R1dnd4eXqDhIWGh4iJipKTlJWWl5iZmqKjpKWmp6ipqrKztLW2t7i5usLDxMXGx8jJytLT1NXW19jZ2uHi4+Tl5ufo6erx8vP09fb3+Pn6/9oACAEBAAA/APAY42lkWNBl2IVR6k17BB8L/BemalZaB4h8TXr+I7oKhtNNi3rDI3TcdpyB36HvwK8z8UaL/wAI74o1LRxOs4s52iEg/iAPGff196yaK9d+H1lbeCPCdz8SNZjWW5bdBpFtJw0jn5TIDn/eHToCe4ryvUb+51XUrnULyQyXNzK0srnuzHJqtRX0J4utvBHxCXSLez+INlo+m2dqqQ2EkQCIf7xLMoB24XB9Pc1wp8D+AdMc/wBrfEaCbazDy9Os2l3YHGHBIHPtj3riNfg0a31V00G8ubuw2qUkuYhG+ccgge9ZlFFFf//Z\" alt=\"<PIL.Image.Image image mode=L size=28x28 at 0x14DE521F0>\" />                                                </td><td style=\"text-align: right;\">                                2</td></tr>\n",
       "<tr><td>&ltnp.ndarray<br>shape=(784,)<br>dtype=int64&gt</td><td style=\"text-align: right;\">                 1</td><td>&ltnp.ndarray<br>shape=(28, 28)<br>dtype=int64&gt</td><td><img style=\"max-height:128px;width:auto\" src=\"data:image/png;base64, /9j/4AAQSkZJRgABAQAAAQABAAD/2wBDAAgGBgcGBQgHBwcJCQgKDBQNDAsLDBkSEw8UHRofHh0aHBwgJC4nICIsIxwcKDcpLDAxNDQ0Hyc5PTgyPC4zNDL/wAALCAAcABwBAREA/8QAHwAAAQUBAQEBAQEAAAAAAAAAAAECAwQFBgcICQoL/8QAtRAAAgEDAwIEAwUFBAQAAAF9AQIDAAQRBRIhMUEGE1FhByJxFDKBkaEII0KxwRVS0fAkM2JyggkKFhcYGRolJicoKSo0NTY3ODk6Q0RFRkdISUpTVFVWV1hZWmNkZWZnaGlqc3R1dnd4eXqDhIWGh4iJipKTlJWWl5iZmqKjpKWmp6ipqrKztLW2t7i5usLDxMXGx8jJytLT1NXW19jZ2uHi4+Tl5ufo6erx8vP09fb3+Pn6/9oACAEBAAA/APn+lALEAAkngAd62PFGgjw1rR0trrz5o4Ynn/d7PLkZAzR9TnbnGfboKxqK634a6PHrPjrT1uAhs7Mm9ut/TyovmOfrgD8awte1M614h1LVCGX7ZcyThWOSoZiQM+2cVn0V6J4RFvo/wu8X63NKi3F6qaVarxuYsQ0nvjaR+XevO6KKKKK//9k=\" alt=\"<PIL.Image.Image image mode=L size=28x28 at 0x14DE52250>\" />                                                                                                                                                                                </td><td style=\"text-align: right;\">                                1</td></tr>\n",
       "<tr><td>&ltnp.ndarray<br>shape=(784,)<br>dtype=int64&gt</td><td style=\"text-align: right;\">                 0</td><td>&ltnp.ndarray<br>shape=(28, 28)<br>dtype=int64&gt</td><td><img style=\"max-height:128px;width:auto\" src=\"data:image/png;base64, /9j/4AAQSkZJRgABAQAAAQABAAD/2wBDAAgGBgcGBQgHBwcJCQgKDBQNDAsLDBkSEw8UHRofHh0aHBwgJC4nICIsIxwcKDcpLDAxNDQ0Hyc5PTgyPC4zNDL/wAALCAAcABwBAREA/8QAHwAAAQUBAQEBAQEAAAAAAAAAAAECAwQFBgcICQoL/8QAtRAAAgEDAwIEAwUFBAQAAAF9AQIDAAQRBRIhMUEGE1FhByJxFDKBkaEII0KxwRVS0fAkM2JyggkKFhcYGRolJicoKSo0NTY3ODk6Q0RFRkdISUpTVFVWV1hZWmNkZWZnaGlqc3R1dnd4eXqDhIWGh4iJipKTlJWWl5iZmqKjpKWmp6ipqrKztLW2t7i5usLDxMXGx8jJytLT1NXW19jZ2uHi4+Tl5ufo6erx8vP09fb3+Pn6/9oACAEBAAA/APn+u6+Hnwx1Lx9cTlZmsLGGMn7W8JdWfOAijIz3yc8Y+lcdqFjPpt9NaXMbJJE5U7lIzg4yM9qrVJbwtcXMUKqzNI4QBRkkk44r6F8c/Em3+GdnD4I8KWyi5sYVWS4lXiEsA/TGHZg24nplu5zjC11T8SPgyfFupp5WtaK7RG4Cqi3SFl4J46AjA9QcferxOtDQr9NK8Q6ZqMiF0tLuKdlHUhXDEfpX0VqHgHwJ461y88a3niUy2Ny0P7uKdIY0KoqbXZgTzt6fKetcF8VfiLpOo6Ta+E/CStBpNsx+0MkflpKRjaqgdVzkkkcnB9z5FRRRRX//2Q==\" alt=\"<PIL.Image.Image image mode=L size=28x28 at 0x14DE52280>\" />                            </td><td style=\"text-align: right;\">                                0</td></tr>\n",
       "<tr><td>&ltnp.ndarray<br>shape=(784,)<br>dtype=int64&gt</td><td style=\"text-align: right;\">                 4</td><td>&ltnp.ndarray<br>shape=(28, 28)<br>dtype=int64&gt</td><td><img style=\"max-height:128px;width:auto\" src=\"data:image/png;base64, /9j/4AAQSkZJRgABAQAAAQABAAD/2wBDAAgGBgcGBQgHBwcJCQgKDBQNDAsLDBkSEw8UHRofHh0aHBwgJC4nICIsIxwcKDcpLDAxNDQ0Hyc5PTgyPC4zNDL/wAALCAAcABwBAREA/8QAHwAAAQUBAQEBAQEAAAAAAAAAAAECAwQFBgcICQoL/8QAtRAAAgEDAwIEAwUFBAQAAAF9AQIDAAQRBRIhMUEGE1FhByJxFDKBkaEII0KxwRVS0fAkM2JyggkKFhcYGRolJicoKSo0NTY3ODk6Q0RFRkdISUpTVFVWV1hZWmNkZWZnaGlqc3R1dnd4eXqDhIWGh4iJipKTlJWWl5iZmqKjpKWmp6ipqrKztLW2t7i5usLDxMXGx8jJytLT1NXW19jZ2uHi4+Tl5ufo6erx8vP09fb3+Pn6/9oACAEBAAA/APn+tC60W7s9E0/Vpggtr95kgGTuPl7QxPGMZbA57Gohpl0dHOqhAbRZxbswYZDldwBHuAefY1Uq/oenDWNf07TDIIxd3McBc/w7mAz+tb3xG1NLvxZcadZxmHS9JJsLKDGAiIcM2PVm3MSeeea2PElpH4a+Enh/SWTN7rVwdXmc8FIwmyNfoQxP5151T4ZpLeeOeF2jljYOjqcFWByCK7GT4qeKJRvkk097njN02nQNMSO5YpyccV0Hx4u3uPFOipI/72PRoTNGDgRyFnJG3+E9OPTFeV0UVJPPNczvPcSvLM53PJIxZmPqSetR1//Z\" alt=\"<PIL.Image.Image image mode=L size=28x28 at 0x14DE522B0>\" />                                        </td><td style=\"text-align: right;\">                                4</td></tr>\n",
       "<tr><td>&ltnp.ndarray<br>shape=(784,)<br>dtype=int64&gt</td><td style=\"text-align: right;\">                 1</td><td>&ltnp.ndarray<br>shape=(28, 28)<br>dtype=int64&gt</td><td><img style=\"max-height:128px;width:auto\" src=\"data:image/png;base64, /9j/4AAQSkZJRgABAQAAAQABAAD/2wBDAAgGBgcGBQgHBwcJCQgKDBQNDAsLDBkSEw8UHRofHh0aHBwgJC4nICIsIxwcKDcpLDAxNDQ0Hyc5PTgyPC4zNDL/wAALCAAcABwBAREA/8QAHwAAAQUBAQEBAQEAAAAAAAAAAAECAwQFBgcICQoL/8QAtRAAAgEDAwIEAwUFBAQAAAF9AQIDAAQRBRIhMUEGE1FhByJxFDKBkaEII0KxwRVS0fAkM2JyggkKFhcYGRolJicoKSo0NTY3ODk6Q0RFRkdISUpTVFVWV1hZWmNkZWZnaGlqc3R1dnd4eXqDhIWGh4iJipKTlJWWl5iZmqKjpKWmp6ipqrKztLW2t7i5usLDxMXGx8jJytLT1NXW19jZ2uHi4+Tl5ufo6erx8vP09fb3+Pn6/9oACAEBAAA/APn+nIjSOqIpZmOAB1Jrb8V+EtT8GarFpuq+R9pkgSfEMm8KGzwfQgggj8sjBrCorvvg3oI1z4kaeZULW1jm8lO3IGz7uf8AgW2sTx54iPirxvqurhswzTFYOMful+VOO3ygE+5Nc5RXqvgG4Hh34TeM/EUIH22Yx6dC4bDRhupH/fYP/Aa8qooqVLidIJIEmkWGQgvGGIViOmR0OKior//Z\" alt=\"<PIL.Image.Image image mode=L size=28x28 at 0x14DE52310>\" />                                                                                                                                                </td><td style=\"text-align: right;\">                                1</td></tr>\n",
       "<tr><td>&ltnp.ndarray<br>shape=(784,)<br>dtype=int64&gt</td><td style=\"text-align: right;\">                 4</td><td>&ltnp.ndarray<br>shape=(28, 28)<br>dtype=int64&gt</td><td><img style=\"max-height:128px;width:auto\" src=\"data:image/png;base64, /9j/4AAQSkZJRgABAQAAAQABAAD/2wBDAAgGBgcGBQgHBwcJCQgKDBQNDAsLDBkSEw8UHRofHh0aHBwgJC4nICIsIxwcKDcpLDAxNDQ0Hyc5PTgyPC4zNDL/wAALCAAcABwBAREA/8QAHwAAAQUBAQEBAQEAAAAAAAAAAAECAwQFBgcICQoL/8QAtRAAAgEDAwIEAwUFBAQAAAF9AQIDAAQRBRIhMUEGE1FhByJxFDKBkaEII0KxwRVS0fAkM2JyggkKFhcYGRolJicoKSo0NTY3ODk6Q0RFRkdISUpTVFVWV1hZWmNkZWZnaGlqc3R1dnd4eXqDhIWGh4iJipKTlJWWl5iZmqKjpKWmp6ipqrKztLW2t7i5usLDxMXGx8jJytLT1NXW19jZ2uHi4+Tl5ufo6erx8vP09fb3+Pn6/9oACAEBAAA/APn8DJwOtbWveF9R8NxWB1PyYp7yHz1tRJmWJD08xf4SRyAefyNVtL0PUNZivpbOJWisYDcXEjuEWNB6knqTwB1JrOrc8HXGkWnjDS7jXU36XHOGuBgnjsSByQDg8eneu68W+F9I8QeIbrXm+I+iTR30jSjzN/moucBPLUEjCgAA4zjgVB8RYbPwLo1v4D0m6FxM7C71e52KGlfH7uPjkKvzHB/vCvMKK734O6JFrPxCtmnjEsOnxPfNDs3GUpjaoHruZT+Fc94ui1ZfE15PrcSw6jdSG4miDKTGXJO0gH5T7Hkd6w6Kmtru5spvOtbiWCXBXfE5VsHgjIqEkk5JyaK//9k=\" alt=\"<PIL.Image.Image image mode=L size=28x28 at 0x14DE52340>\" />            </td><td style=\"text-align: right;\">                                4</td></tr>\n",
       "<tr><td>&ltnp.ndarray<br>shape=(784,)<br>dtype=int64&gt</td><td style=\"text-align: right;\">                 9</td><td>&ltnp.ndarray<br>shape=(28, 28)<br>dtype=int64&gt</td><td><img style=\"max-height:128px;width:auto\" src=\"data:image/png;base64, /9j/4AAQSkZJRgABAQAAAQABAAD/2wBDAAgGBgcGBQgHBwcJCQgKDBQNDAsLDBkSEw8UHRofHh0aHBwgJC4nICIsIxwcKDcpLDAxNDQ0Hyc5PTgyPC4zNDL/wAALCAAcABwBAREA/8QAHwAAAQUBAQEBAQEAAAAAAAAAAAECAwQFBgcICQoL/8QAtRAAAgEDAwIEAwUFBAQAAAF9AQIDAAQRBRIhMUEGE1FhByJxFDKBkaEII0KxwRVS0fAkM2JyggkKFhcYGRolJicoKSo0NTY3ODk6Q0RFRkdISUpTVFVWV1hZWmNkZWZnaGlqc3R1dnd4eXqDhIWGh4iJipKTlJWWl5iZmqKjpKWmp6ipqrKztLW2t7i5usLDxMXGx8jJytLT1NXW19jZ2uHi4+Tl5ufo6erx8vP09fb3+Pn6/9oACAEBAAA/APn+tODw9q9zod1rUOnztplqVE11twiksFABPU5I6ZxmsyiivqLRLvU9Lm0Tw8ui2EngQ6RHJdX8ynyjuQu7MzYXlv4SP4sn28K+JegweHPH+qafaW8kFnvEturEEbGGflx/DkkD6c81yVFasniXWpfD8egyancNpUb70tS3yA/4c5x0rsdQuB48+G8V40gbXvDSeXcA8vcWZICv6koSAfQHPevOaKKuabqt9o9xJPYXDQSSwvBJgAh43GGUg8EEf0PUVTr/2Q==\" alt=\"<PIL.Image.Image image mode=L size=28x28 at 0x14DE52370>\" />                                                                                            </td><td style=\"text-align: right;\">                                9</td></tr>\n",
       "<tr><td>&ltnp.ndarray<br>shape=(784,)<br>dtype=int64&gt</td><td style=\"text-align: right;\">                 5</td><td>&ltnp.ndarray<br>shape=(28, 28)<br>dtype=int64&gt</td><td><img style=\"max-height:128px;width:auto\" src=\"data:image/png;base64, /9j/4AAQSkZJRgABAQAAAQABAAD/2wBDAAgGBgcGBQgHBwcJCQgKDBQNDAsLDBkSEw8UHRofHh0aHBwgJC4nICIsIxwcKDcpLDAxNDQ0Hyc5PTgyPC4zNDL/wAALCAAcABwBAREA/8QAHwAAAQUBAQEBAQEAAAAAAAAAAAECAwQFBgcICQoL/8QAtRAAAgEDAwIEAwUFBAQAAAF9AQIDAAQRBRIhMUEGE1FhByJxFDKBkaEII0KxwRVS0fAkM2JyggkKFhcYGRolJicoKSo0NTY3ODk6Q0RFRkdISUpTVFVWV1hZWmNkZWZnaGlqc3R1dnd4eXqDhIWGh4iJipKTlJWWl5iZmqKjpKWmp6ipqrKztLW2t7i5usLDxMXGx8jJytLT1NXW19jZ2uHi4+Tl5ufo6erx8vP09fb3+Pn6/9oACAEBAAA/APn+tnw34W1nxbqJsNFszczqu9xvVQi5xkliBjmvRV/Z78QxRxPe6zo9qHzkNKxKnB/2QDzjoe9eWarp76TrF7p0kscr2lxJA0kRyrlGKkqfQ44rp/hh4Qi8aeMY7C53m0gha6nRDhnRSBtB7ZLAZ96k8Saj4ssfFl/fw6fqHh5yFiWC0RoRFCMbEyoAIwBz3PNcjeXF5cXDNfTTyzg4YzsWbPvnmq9XtI1nUtA1KPUNKvJbS7j+7JGcHHoR0I9jwa9/+FfxZvtfhv8AStf1ezj1bCtYz3MQVH4wVYKVyc4PUHk+lcJ8cvEeheIPE1l/Y8sNzNawGO6uoEwkjZyAD3xz69epry2iiiiv/9k=\" alt=\"<PIL.Image.Image image mode=L size=28x28 at 0x14DE523A0>\" /></td><td style=\"text-align: right;\">                                8</td></tr>\n",
       "<tr><td>&ltnp.ndarray<br>shape=(784,)<br>dtype=int64&gt</td><td style=\"text-align: right;\">                 9</td><td>&ltnp.ndarray<br>shape=(28, 28)<br>dtype=int64&gt</td><td><img style=\"max-height:128px;width:auto\" src=\"data:image/png;base64, /9j/4AAQSkZJRgABAQAAAQABAAD/2wBDAAgGBgcGBQgHBwcJCQgKDBQNDAsLDBkSEw8UHRofHh0aHBwgJC4nICIsIxwcKDcpLDAxNDQ0Hyc5PTgyPC4zNDL/wAALCAAcABwBAREA/8QAHwAAAQUBAQEBAQEAAAAAAAAAAAECAwQFBgcICQoL/8QAtRAAAgEDAwIEAwUFBAQAAAF9AQIDAAQRBRIhMUEGE1FhByJxFDKBkaEII0KxwRVS0fAkM2JyggkKFhcYGRolJicoKSo0NTY3ODk6Q0RFRkdISUpTVFVWV1hZWmNkZWZnaGlqc3R1dnd4eXqDhIWGh4iJipKTlJWWl5iZmqKjpKWmp6ipqrKztLW2t7i5usLDxMXGx8jJytLT1NXW19jZ2uHi4+Tl5ufo6erx8vP09fb3+Pn6/9oACAEBAAA/APn+pIYJbiVYoInlkbgIilifwFSXlheadP5F9aT2s2M+XPGUb8iKr1f0S0s77XLG01C7FnZzTKk1wf8AlmpPLV9EXGh6zpyLpvwzTw7pljMqhdRa7WW5us4O4HDcdR39sVL47u08P/De9sPG2qW+p6jd2qx2dsi/OJlQKZA2ASu8CTJAwcjJzXzHRXtHwx0jTvBnhC6+JHiG3DupMelQswzI3IyB2JOQCegDHGOa8q8Qa9feJddu9W1CUvcXEhbGSQgzwq56ADgCsyiug1zxnq3iHQ9H0e9eIWekw+VAkSld3AAZueWwAM8fqa5+iv/Z\" alt=\"<PIL.Image.Image image mode=L size=28x28 at 0x14DE523D0>\" />                                        </td><td style=\"text-align: right;\">                                9</td></tr>\n",
       "</tbody>\n",
       "</table>\n",
       "            <small>(Showing first 10 rows)</small>\n",
       "        </div>\n",
       "    "
      ],
      "text/plain": [
       "                                               image  label  \\\n",
       "0  [0, 0, 0, 0, 0, 0, 0, 0, 0, 0, 0, 0, 0, 0, 0, ...      7   \n",
       "1  [0, 0, 0, 0, 0, 0, 0, 0, 0, 0, 0, 0, 0, 0, 0, ...      2   \n",
       "2  [0, 0, 0, 0, 0, 0, 0, 0, 0, 0, 0, 0, 0, 0, 0, ...      1   \n",
       "3  [0, 0, 0, 0, 0, 0, 0, 0, 0, 0, 0, 0, 0, 0, 0, ...      0   \n",
       "4  [0, 0, 0, 0, 0, 0, 0, 0, 0, 0, 0, 0, 0, 0, 0, ...      4   \n",
       "5  [0, 0, 0, 0, 0, 0, 0, 0, 0, 0, 0, 0, 0, 0, 0, ...      1   \n",
       "6  [0, 0, 0, 0, 0, 0, 0, 0, 0, 0, 0, 0, 0, 0, 0, ...      4   \n",
       "7  [0, 0, 0, 0, 0, 0, 0, 0, 0, 0, 0, 0, 0, 0, 0, ...      9   \n",
       "8  [0, 0, 0, 0, 0, 0, 0, 0, 0, 0, 0, 0, 0, 0, 0, ...      5   \n",
       "9  [0, 0, 0, 0, 0, 0, 0, 0, 0, 0, 0, 0, 0, 0, 0, ...      9   \n",
       "\n",
       "                                            image_2d  \\\n",
       "0  [[0, 0, 0, 0, 0, 0, 0, 0, 0, 0, 0, 0, 0, 0, 0,...   \n",
       "1  [[0, 0, 0, 0, 0, 0, 0, 0, 0, 0, 0, 0, 0, 0, 0,...   \n",
       "2  [[0, 0, 0, 0, 0, 0, 0, 0, 0, 0, 0, 0, 0, 0, 0,...   \n",
       "3  [[0, 0, 0, 0, 0, 0, 0, 0, 0, 0, 0, 0, 0, 0, 0,...   \n",
       "4  [[0, 0, 0, 0, 0, 0, 0, 0, 0, 0, 0, 0, 0, 0, 0,...   \n",
       "5  [[0, 0, 0, 0, 0, 0, 0, 0, 0, 0, 0, 0, 0, 0, 0,...   \n",
       "6  [[0, 0, 0, 0, 0, 0, 0, 0, 0, 0, 0, 0, 0, 0, 0,...   \n",
       "7  [[0, 0, 0, 0, 0, 0, 0, 0, 0, 0, 0, 0, 0, 0, 0,...   \n",
       "8  [[0, 0, 0, 0, 0, 0, 0, 0, 0, 0, 0, 0, 0, 0, 0,...   \n",
       "9  [[0, 0, 0, 0, 0, 0, 0, 0, 0, 0, 0, 0, 0, 0, 0,...   \n",
       "\n",
       "                                           pil_image  model_classification  \n",
       "0  <PIL.Image.Image image mode=L size=28x28 at 0x...                     7  \n",
       "1  <PIL.Image.Image image mode=L size=28x28 at 0x...                     2  \n",
       "2  <PIL.Image.Image image mode=L size=28x28 at 0x...                     1  \n",
       "3  <PIL.Image.Image image mode=L size=28x28 at 0x...                     0  \n",
       "4  <PIL.Image.Image image mode=L size=28x28 at 0x...                     4  \n",
       "5  <PIL.Image.Image image mode=L size=28x28 at 0x...                     1  \n",
       "6  <PIL.Image.Image image mode=L size=28x28 at 0x...                     4  \n",
       "7  <PIL.Image.Image image mode=L size=28x28 at 0x...                     9  \n",
       "8  <PIL.Image.Image image mode=L size=28x28 at 0x...                     8  \n",
       "9  <PIL.Image.Image image mode=L size=28x28 at 0x...                     9  "
      ]
     },
     "execution_count": 11,
     "metadata": {},
     "output_type": "execute_result"
    }
   ],
   "source": [
    "classified_images_df = images_df.with_column(\"model_classification\", ClassifyImages(col(\"image_2d\")))\n",
    "\n",
    "classified_images_df.show(10)"
   ]
  },
  {
   "cell_type": "markdown",
   "id": "2e6fb5fc-957d-414b-bfac-961ea64dad68",
   "metadata": {},
   "source": [
    "Our model ran successfully, and produced a new classification column. These look pretty good - let's filter our Dataframe to show only rows that the model predicted wrongly."
   ]
  },
  {
   "cell_type": "code",
   "execution_count": 12,
   "id": "69344d63-7db4-496f-a0b2-949dfd947e4f",
   "metadata": {},
   "outputs": [
    {
     "data": {
      "text/html": [
       "\n",
       "        <div>\n",
       "            <table class=\"dataframe\">\n",
       "<thead>\n",
       "<tr><th>image<br>PY[object]                            </th><th style=\"text-align: right;\">  label<br>INTEGER</th><th>image_2d<br>PY[object]                           </th><th>pil_image<br>PY[object]                                                                                                                                                                                                                                                                                                                                                                                                                                                                                                                                                                                                                                                                                                                                                                                                                                                                                                                                             </th><th style=\"text-align: right;\">  model_classification<br>INTEGER</th></tr>\n",
       "</thead>\n",
       "<tbody>\n",
       "<tr><td>&ltnp.ndarray<br>shape=(784,)<br>dtype=int64&gt</td><td style=\"text-align: right;\">                 5</td><td>&ltnp.ndarray<br>shape=(28, 28)<br>dtype=int64&gt</td><td><img style=\"max-height:128px;width:auto\" src=\"data:image/png;base64, /9j/4AAQSkZJRgABAQAAAQABAAD/2wBDAAgGBgcGBQgHBwcJCQgKDBQNDAsLDBkSEw8UHRofHh0aHBwgJC4nICIsIxwcKDcpLDAxNDQ0Hyc5PTgyPC4zNDL/wAALCAAcABwBAREA/8QAHwAAAQUBAQEBAQEAAAAAAAAAAAECAwQFBgcICQoL/8QAtRAAAgEDAwIEAwUFBAQAAAF9AQIDAAQRBRIhMUEGE1FhByJxFDKBkaEII0KxwRVS0fAkM2JyggkKFhcYGRolJicoKSo0NTY3ODk6Q0RFRkdISUpTVFVWV1hZWmNkZWZnaGlqc3R1dnd4eXqDhIWGh4iJipKTlJWWl5iZmqKjpKWmp6ipqrKztLW2t7i5usLDxMXGx8jJytLT1NXW19jZ2uHi4+Tl5ufo6erx8vP09fb3+Pn6/9oACAEBAAA/APn+tnw34W1nxbqJsNFszczqu9xvVQi5xkliBjmvRV/Z78QxRxPe6zo9qHzkNKxKnB/2QDzjoe9eWarp76TrF7p0kscr2lxJA0kRyrlGKkqfQ44rp/hh4Qi8aeMY7C53m0gha6nRDhnRSBtB7ZLAZ96k8Saj4ssfFl/fw6fqHh5yFiWC0RoRFCMbEyoAIwBz3PNcjeXF5cXDNfTTyzg4YzsWbPvnmq9XtI1nUtA1KPUNKvJbS7j+7JGcHHoR0I9jwa9/+FfxZvtfhv8AStf1ezj1bCtYz3MQVH4wVYKVyc4PUHk+lcJ8cvEeheIPE1l/Y8sNzNawGO6uoEwkjZyAD3xz69epry2iiiiv/9k=\" alt=\"<PIL.Image.Image image mode=L size=28x28 at 0x13B692340>\" /></td><td style=\"text-align: right;\">                                6</td></tr>\n",
       "<tr><td>&ltnp.ndarray<br>shape=(784,)<br>dtype=int64&gt</td><td style=\"text-align: right;\">                 5</td><td>&ltnp.ndarray<br>shape=(28, 28)<br>dtype=int64&gt</td><td><img style=\"max-height:128px;width:auto\" src=\"data:image/png;base64, /9j/4AAQSkZJRgABAQAAAQABAAD/2wBDAAgGBgcGBQgHBwcJCQgKDBQNDAsLDBkSEw8UHRofHh0aHBwgJC4nICIsIxwcKDcpLDAxNDQ0Hyc5PTgyPC4zNDL/wAALCAAcABwBAREA/8QAHwAAAQUBAQEBAQEAAAAAAAAAAAECAwQFBgcICQoL/8QAtRAAAgEDAwIEAwUFBAQAAAF9AQIDAAQRBRIhMUEGE1FhByJxFDKBkaEII0KxwRVS0fAkM2JyggkKFhcYGRolJicoKSo0NTY3ODk6Q0RFRkdISUpTVFVWV1hZWmNkZWZnaGlqc3R1dnd4eXqDhIWGh4iJipKTlJWWl5iZmqKjpKWmp6ipqrKztLW2t7i5usLDxMXGx8jJytLT1NXW19jZ2uHi4+Tl5ufo6erx8vP09fb3+Pn6/9oACAEBAAA/APn+irmnaVqGr3S22nWc91MxACRIW6+vp+NV54ZLa4lglAEkTlGAYMAQcHkcH8Kjr0BX0HwZpdlFq/hKPVNWuIRcx3E9zIsBjfBQhRgOMZHB6g81ka38QNd1qH7KskGm6fjAsNNj8iDrnlR1555J5rlqK76G61Sf4R6pcaubu6szdWtppbTSgpCy+Y0hUHngALx/e9q4GiirVxqV7dWVpZz3UslraKy28LN8sYZixwPckmqtFf/Z\" alt=\"<PIL.Image.Image image mode=L size=28x28 at 0x14DE73A00>\" />                                                                                                                    </td><td style=\"text-align: right;\">                                4</td></tr>\n",
       "<tr><td>&ltnp.ndarray<br>shape=(784,)<br>dtype=int64&gt</td><td style=\"text-align: right;\">                 9</td><td>&ltnp.ndarray<br>shape=(28, 28)<br>dtype=int64&gt</td><td><img style=\"max-height:128px;width:auto\" src=\"data:image/png;base64, /9j/4AAQSkZJRgABAQAAAQABAAD/2wBDAAgGBgcGBQgHBwcJCQgKDBQNDAsLDBkSEw8UHRofHh0aHBwgJC4nICIsIxwcKDcpLDAxNDQ0Hyc5PTgyPC4zNDL/wAALCAAcABwBAREA/8QAHwAAAQUBAQEBAQEAAAAAAAAAAAECAwQFBgcICQoL/8QAtRAAAgEDAwIEAwUFBAQAAAF9AQIDAAQRBRIhMUEGE1FhByJxFDKBkaEII0KxwRVS0fAkM2JyggkKFhcYGRolJicoKSo0NTY3ODk6Q0RFRkdISUpTVFVWV1hZWmNkZWZnaGlqc3R1dnd4eXqDhIWGh4iJipKTlJWWl5iZmqKjpKWmp6ipqrKztLW2t7i5usLDxMXGx8jJytLT1NXW19jZ2uHi4+Tl5ufo6erx8vP09fb3+Pn6/9oACAEBAAA/APn+p7KyudRvIrSzgee4lbakaDJJrUufCWt2tw0Js1mdLd7pzazxzqsSEhmLRswABUjk9axKK9C0Lwnr7eGLb+wtPuri911Sr3KLtit4BIVC+Z0DMyEnnhQBg54qeIbq08L6BL4P0+f7TftPnVrxGYIWQnbAnPKqSxJxya4iivQNKv7vwH4bt9TuJDJql6pfSLOWQslpGwO662dN56Jn/aJzgVwMkjzSvLK7PI7FmZjksT1JPrTaKnur25vXje5meVo41iTcc7UUYVR6ADtUFFf/2Q==\" alt=\"<PIL.Image.Image image mode=L size=28x28 at 0x14E074070>\" />                                                                            </td><td style=\"text-align: right;\">                                4</td></tr>\n",
       "<tr><td>&ltnp.ndarray<br>shape=(784,)<br>dtype=int64&gt</td><td style=\"text-align: right;\">                 6</td><td>&ltnp.ndarray<br>shape=(28, 28)<br>dtype=int64&gt</td><td><img style=\"max-height:128px;width:auto\" src=\"data:image/png;base64, /9j/4AAQSkZJRgABAQAAAQABAAD/2wBDAAgGBgcGBQgHBwcJCQgKDBQNDAsLDBkSEw8UHRofHh0aHBwgJC4nICIsIxwcKDcpLDAxNDQ0Hyc5PTgyPC4zNDL/wAALCAAcABwBAREA/8QAHwAAAQUBAQEBAQEAAAAAAAAAAAECAwQFBgcICQoL/8QAtRAAAgEDAwIEAwUFBAQAAAF9AQIDAAQRBRIhMUEGE1FhByJxFDKBkaEII0KxwRVS0fAkM2JyggkKFhcYGRolJicoKSo0NTY3ODk6Q0RFRkdISUpTVFVWV1hZWmNkZWZnaGlqc3R1dnd4eXqDhIWGh4iJipKTlJWWl5iZmqKjpKWmp6ipqrKztLW2t7i5usLDxMXGx8jJytLT1NXW19jZ2uHi4+Tl5ufo6erx8vP09fb3+Pn6/9oACAEBAAA/APn+nRxvNIscaM8jkKqqMliegAr0bTfg5qn9npqHiXVdO8N20gzGL+QCVh/uZGPoSD7Vwus2MGmaxdWVtfwahDC+1bqDOyQeoz/n0yOao17p4J8ISeCPAn/CeSaNPq+uTxh9OtY4i626MOJWA56c57DA4ySPH9f8Qar4l1aXUdXu5Li5c9W4CD+6o6AD0FZdFfVElxqFzr2leLU8XQ6b4Ihs4pDCJdvmFRyhTHckA9TxgDpXzn4x1a013xjq2qWEHk2t1ctJGhGDg9yOxPX8aw6KKKK//9k=\" alt=\"<PIL.Image.Image image mode=L size=28x28 at 0x14DF5B820>\" />                                                                        </td><td style=\"text-align: right;\">                                0</td></tr>\n",
       "<tr><td>&ltnp.ndarray<br>shape=(784,)<br>dtype=int64&gt</td><td style=\"text-align: right;\">                 7</td><td>&ltnp.ndarray<br>shape=(28, 28)<br>dtype=int64&gt</td><td><img style=\"max-height:128px;width:auto\" src=\"data:image/png;base64, /9j/4AAQSkZJRgABAQAAAQABAAD/2wBDAAgGBgcGBQgHBwcJCQgKDBQNDAsLDBkSEw8UHRofHh0aHBwgJC4nICIsIxwcKDcpLDAxNDQ0Hyc5PTgyPC4zNDL/wAALCAAcABwBAREA/8QAHwAAAQUBAQEBAQEAAAAAAAAAAAECAwQFBgcICQoL/8QAtRAAAgEDAwIEAwUFBAQAAAF9AQIDAAQRBRIhMUEGE1FhByJxFDKBkaEII0KxwRVS0fAkM2JyggkKFhcYGRolJicoKSo0NTY3ODk6Q0RFRkdISUpTVFVWV1hZWmNkZWZnaGlqc3R1dnd4eXqDhIWGh4iJipKTlJWWl5iZmqKjpKWmp6ipqrKztLW2t7i5usLDxMXGx8jJytLT1NXW19jZ2uHi4+Tl5ufo6erx8vP09fb3+Pn6/9oACAEBAAA/APn+rNnp19qLOtlZXFyUGWEMTPtHqcDiopoJbaZoZ4nilQ4ZHUqyn3BqOpIJRDcRymJJQjhjHICVfB6HBBwa6sfEXxlctHZ2OqzWiPiGK206NbdRngBVjAx1471a+L1/Ff8AxL1NoxzCI7eRs5LOiKrZ98gj8K4aiuu+Hdqg8RPrlwm6z0KBtSkBbG54+Yk/4FJsH51y93cy3t5PdTsXmnkaR2JySzHJP5moaK0rfW7q18P3ujQrEtveyxyTybf3jhM7Uz/dyc4x1ArNor//2Q==\" alt=\"<PIL.Image.Image image mode=L size=28x28 at 0x14DF5BA60>\" />                                                                                </td><td style=\"text-align: right;\">                                9</td></tr>\n",
       "<tr><td>&ltnp.ndarray<br>shape=(784,)<br>dtype=int64&gt</td><td style=\"text-align: right;\">                 4</td><td>&ltnp.ndarray<br>shape=(28, 28)<br>dtype=int64&gt</td><td><img style=\"max-height:128px;width:auto\" src=\"data:image/png;base64, /9j/4AAQSkZJRgABAQAAAQABAAD/2wBDAAgGBgcGBQgHBwcJCQgKDBQNDAsLDBkSEw8UHRofHh0aHBwgJC4nICIsIxwcKDcpLDAxNDQ0Hyc5PTgyPC4zNDL/wAALCAAcABwBAREA/8QAHwAAAQUBAQEBAQEAAAAAAAAAAAECAwQFBgcICQoL/8QAtRAAAgEDAwIEAwUFBAQAAAF9AQIDAAQRBRIhMUEGE1FhByJxFDKBkaEII0KxwRVS0fAkM2JyggkKFhcYGRolJicoKSo0NTY3ODk6Q0RFRkdISUpTVFVWV1hZWmNkZWZnaGlqc3R1dnd4eXqDhIWGh4iJipKTlJWWl5iZmqKjpKWmp6ipqrKztLW2t7i5usLDxMXGx8jJytLT1NXW19jZ2uHi4+Tl5ufo6erx8vP09fb3+Pn6/9oACAEBAAA/APn+rFhZy6hqNtZQRtJNcSrEiL1YscACtvx7YaTpXjnVtP0NXWwtZvJRXYsQygB+TyfmDVzlFes/DLwVrVjZ3fjWTSLmU2luTpVv5JZrid/lRwvXYu7dnGO/Y1ifEz4fXXgu7sWxe3ST2ySXd48ZMX2li25VfGO2cHmuBre8Gf2Ivi/TX8RzCLSY5fMuCY2cMFBIUhQSQSADx0NehzfGSK5+JC63LFcro2nW8sem2MfAL7SFZ1BA5P1xxjpXA+JPHfiTxZJJ/a2qzywM+8WytthXnIAQccds5PvXOUUUUV//2Q==\" alt=\"<PIL.Image.Image image mode=L size=28x28 at 0x14DF5BDC0>\" />                                                        </td><td style=\"text-align: right;\">                                2</td></tr>\n",
       "<tr><td>&ltnp.ndarray<br>shape=(784,)<br>dtype=int64&gt</td><td style=\"text-align: right;\">                 3</td><td>&ltnp.ndarray<br>shape=(28, 28)<br>dtype=int64&gt</td><td><img style=\"max-height:128px;width:auto\" src=\"data:image/png;base64, /9j/4AAQSkZJRgABAQAAAQABAAD/2wBDAAgGBgcGBQgHBwcJCQgKDBQNDAsLDBkSEw8UHRofHh0aHBwgJC4nICIsIxwcKDcpLDAxNDQ0Hyc5PTgyPC4zNDL/wAALCAAcABwBAREA/8QAHwAAAQUBAQEBAQEAAAAAAAAAAAECAwQFBgcICQoL/8QAtRAAAgEDAwIEAwUFBAQAAAF9AQIDAAQRBRIhMUEGE1FhByJxFDKBkaEII0KxwRVS0fAkM2JyggkKFhcYGRolJicoKSo0NTY3ODk6Q0RFRkdISUpTVFVWV1hZWmNkZWZnaGlqc3R1dnd4eXqDhIWGh4iJipKTlJWWl5iZmqKjpKWmp6ipqrKztLW2t7i5usLDxMXGx8jJytLT1NXW19jZ2uHi4+Tl5ufo6erx8vP09fb3+Pn6/9oACAEBAAA/APFvD/h268RXckNvPaW0UKeZNc3kwiiiXOMlj/IAmugv/Aukw6RqV1pvjCx1K506ETXEENvIqbS6J8sh+VuXGPWuIopVALAE4BPJ9K9rvNF8KN4Bh8O+GfG2iwGeVZtUub2RonumXG1QMcICSQD3A964bxB8L/Enh/S5NVZLS+0yPG67sLhZUAPQkdce+MVxlKBkgdPrXpF38E/FCzF9Nawv9Pwv+nR3kax5IG7q2cAk/hj6VaVIPhb4b1m0n1iz1LWdZtjaNp9nL5kNupyC8p6FgCQBjue1eWUUUUV//9k=\" alt=\"<PIL.Image.Image image mode=L size=28x28 at 0x14DF4D6A0>\" />                                                            </td><td style=\"text-align: right;\">                                5</td></tr>\n",
       "<tr><td>&ltnp.ndarray<br>shape=(784,)<br>dtype=int64&gt</td><td style=\"text-align: right;\">                 9</td><td>&ltnp.ndarray<br>shape=(28, 28)<br>dtype=int64&gt</td><td><img style=\"max-height:128px;width:auto\" src=\"data:image/png;base64, /9j/4AAQSkZJRgABAQAAAQABAAD/2wBDAAgGBgcGBQgHBwcJCQgKDBQNDAsLDBkSEw8UHRofHh0aHBwgJC4nICIsIxwcKDcpLDAxNDQ0Hyc5PTgyPC4zNDL/wAALCAAcABwBAREA/8QAHwAAAQUBAQEBAQEAAAAAAAAAAAECAwQFBgcICQoL/8QAtRAAAgEDAwIEAwUFBAQAAAF9AQIDAAQRBRIhMUEGE1FhByJxFDKBkaEII0KxwRVS0fAkM2JyggkKFhcYGRolJicoKSo0NTY3ODk6Q0RFRkdISUpTVFVWV1hZWmNkZWZnaGlqc3R1dnd4eXqDhIWGh4iJipKTlJWWl5iZmqKjpKWmp6ipqrKztLW2t7i5usLDxMXGx8jJytLT1NXW19jZ2uHi4+Tl5ufo6erx8vP09fb3+Pn6/9oACAEBAAA/APn+t7RPBfiTxJZzXmj6Rc3lvCdrvGBjOM4GTyeRwM1i3FvNaXElvcxPDNGxV45FKspHYg9Kjor1f4OanZ6pdJ4J1KG8Md3eC9tbi2uDE1vLHGxJyOeQoHX/ABri/HetJr/jPUb+O2SCMyGNApJZlT5QzknliBkn1rnKK9J+DaeXqniPUIyy3VjoV1PbuDgo+AM/kTXm1FFaegeItW8L6oupaNevaXaqU3qoYFSOQVYEEfUdQD1FULieW6uZbieRpJpXLyO3VmJySfxqOv/Z\" alt=\"<PIL.Image.Image image mode=L size=28x28 at 0x14DF4D7F0>\" />                                                                                    </td><td style=\"text-align: right;\">                                1</td></tr>\n",
       "<tr><td>&ltnp.ndarray<br>shape=(784,)<br>dtype=int64&gt</td><td style=\"text-align: right;\">                 2</td><td>&ltnp.ndarray<br>shape=(28, 28)<br>dtype=int64&gt</td><td><img style=\"max-height:128px;width:auto\" src=\"data:image/png;base64, /9j/4AAQSkZJRgABAQAAAQABAAD/2wBDAAgGBgcGBQgHBwcJCQgKDBQNDAsLDBkSEw8UHRofHh0aHBwgJC4nICIsIxwcKDcpLDAxNDQ0Hyc5PTgyPC4zNDL/wAALCAAcABwBAREA/8QAHwAAAQUBAQEBAQEAAAAAAAAAAAECAwQFBgcICQoL/8QAtRAAAgEDAwIEAwUFBAQAAAF9AQIDAAQRBRIhMUEGE1FhByJxFDKBkaEII0KxwRVS0fAkM2JyggkKFhcYGRolJicoKSo0NTY3ODk6Q0RFRkdISUpTVFVWV1hZWmNkZWZnaGlqc3R1dnd4eXqDhIWGh4iJipKTlJWWl5iZmqKjpKWmp6ipqrKztLW2t7i5usLDxMXGx8jJytLT1NXW19jZ2uHi4+Tl5ufo6erx8vP09fb3+Pn6/9oACAEBAAA/APn+ul0T4feLPEVutzpmh3Mtuwysz7YoyOeQzkA9PWqXiLwtrPhO9itNbs/ss8sQljXzUkDISRnKEjqDWPRXY6Xd+KPiL4i0/QpdWuZRMRGse4pDFGo5IRRtACjsO1WPiprtrqnieLTNMdm0vRLddOtSxzuEfDNnvkjr3AFcNRXrng2yn8O/DKfW9Ltbi58SeIJW0/TxDEWaKJc+Yw6+jc+w9DXld7Zy6fey2k5Qywtsfy3DAN3GRwcHjjjiq9FdDpvjnxNo+gy6Jp+sT22nSsWaKMKDk9cNjcoPoCBXPUV//9k=\" alt=\"<PIL.Image.Image image mode=L size=28x28 at 0x14DF4D820>\" />                                                        </td><td style=\"text-align: right;\">                                7</td></tr>\n",
       "<tr><td>&ltnp.ndarray<br>shape=(784,)<br>dtype=int64&gt</td><td style=\"text-align: right;\">                 3</td><td>&ltnp.ndarray<br>shape=(28, 28)<br>dtype=int64&gt</td><td><img style=\"max-height:128px;width:auto\" src=\"data:image/png;base64, /9j/4AAQSkZJRgABAQAAAQABAAD/2wBDAAgGBgcGBQgHBwcJCQgKDBQNDAsLDBkSEw8UHRofHh0aHBwgJC4nICIsIxwcKDcpLDAxNDQ0Hyc5PTgyPC4zNDL/wAALCAAcABwBAREA/8QAHwAAAQUBAQEBAQEAAAAAAAAAAAECAwQFBgcICQoL/8QAtRAAAgEDAwIEAwUFBAQAAAF9AQIDAAQRBRIhMUEGE1FhByJxFDKBkaEII0KxwRVS0fAkM2JyggkKFhcYGRolJicoKSo0NTY3ODk6Q0RFRkdISUpTVFVWV1hZWmNkZWZnaGlqc3R1dnd4eXqDhIWGh4iJipKTlJWWl5iZmqKjpKWmp6ipqrKztLW2t7i5usLDxMXGx8jJytLT1NXW19jZ2uHi4+Tl5ufo6erx8vP09fb3+Pn6/9oACAEBAAA/APBbW0ub65S2tLeW4nf7sUKF2b6Acmkntp7WUxXEEkMgJBWRCpBHXg1FRXV6X8RfEeieGV0LSrtbOAStIZoUCytu6qW7j369s44q9onj/wATahqtpp+p+JiLG4nUSyajAl1HHzjcVcHgZ9q1PizpXhTS7mCPTGlj1gKv2hIbMw20wy2ZEBPAOBjblSDxXmVFdB4X8PWGuTyHUfENho9tDzI9xuLsP9hAPmPtmuq8YeIPBsXgm28L6F9v1ee3l8yPUr0lfI5G5Y1/unB+UjAznk15rRRRRX//2Q==\" alt=\"<PIL.Image.Image image mode=L size=28x28 at 0x14DF3D3A0>\" />                                                                    </td><td style=\"text-align: right;\">                                7</td></tr>\n",
       "</tbody>\n",
       "</table>\n",
       "            <small>(Showing first 10 rows)</small>\n",
       "        </div>\n",
       "    "
      ],
      "text/plain": [
       "                                               image  label  \\\n",
       "0  [0, 0, 0, 0, 0, 0, 0, 0, 0, 0, 0, 0, 0, 0, 0, ...      5   \n",
       "1  [0, 0, 0, 0, 0, 0, 0, 0, 0, 0, 0, 0, 0, 0, 0, ...      5   \n",
       "2  [0, 0, 0, 0, 0, 0, 0, 0, 0, 0, 0, 0, 0, 0, 0, ...      9   \n",
       "3  [0, 0, 0, 0, 0, 0, 0, 0, 0, 0, 0, 0, 0, 0, 0, ...      6   \n",
       "4  [0, 0, 0, 0, 0, 0, 0, 0, 0, 0, 0, 0, 0, 0, 0, ...      7   \n",
       "5  [0, 0, 0, 0, 0, 0, 0, 0, 0, 0, 0, 0, 0, 0, 0, ...      4   \n",
       "6  [0, 0, 0, 0, 0, 0, 0, 0, 0, 0, 0, 0, 0, 0, 0, ...      3   \n",
       "7  [0, 0, 0, 0, 0, 0, 0, 0, 0, 0, 0, 0, 0, 0, 0, ...      9   \n",
       "8  [0, 0, 0, 0, 0, 0, 0, 0, 0, 0, 0, 0, 0, 0, 0, ...      2   \n",
       "9  [0, 0, 0, 0, 0, 0, 0, 0, 0, 0, 0, 0, 0, 0, 0, ...      3   \n",
       "\n",
       "                                            image_2d  \\\n",
       "0  [[0, 0, 0, 0, 0, 0, 0, 0, 0, 0, 0, 0, 0, 0, 0,...   \n",
       "1  [[0, 0, 0, 0, 0, 0, 0, 0, 0, 0, 0, 0, 0, 0, 0,...   \n",
       "2  [[0, 0, 0, 0, 0, 0, 0, 0, 0, 0, 0, 0, 0, 0, 0,...   \n",
       "3  [[0, 0, 0, 0, 0, 0, 0, 0, 0, 0, 0, 0, 0, 0, 0,...   \n",
       "4  [[0, 0, 0, 0, 0, 0, 0, 0, 0, 0, 0, 0, 0, 0, 0,...   \n",
       "5  [[0, 0, 0, 0, 0, 0, 0, 0, 0, 0, 0, 0, 0, 0, 0,...   \n",
       "6  [[0, 0, 0, 0, 0, 0, 0, 0, 0, 0, 0, 0, 0, 0, 0,...   \n",
       "7  [[0, 0, 0, 0, 0, 0, 0, 0, 0, 0, 0, 0, 0, 0, 0,...   \n",
       "8  [[0, 0, 0, 0, 0, 0, 0, 0, 0, 0, 0, 0, 0, 0, 0,...   \n",
       "9  [[0, 0, 0, 0, 0, 0, 0, 0, 0, 0, 0, 0, 0, 0, 0,...   \n",
       "\n",
       "                                           pil_image  model_classification  \n",
       "0  <PIL.Image.Image image mode=L size=28x28 at 0x...                     6  \n",
       "1  <PIL.Image.Image image mode=L size=28x28 at 0x...                     4  \n",
       "2  <PIL.Image.Image image mode=L size=28x28 at 0x...                     4  \n",
       "3  <PIL.Image.Image image mode=L size=28x28 at 0x...                     0  \n",
       "4  <PIL.Image.Image image mode=L size=28x28 at 0x...                     9  \n",
       "5  <PIL.Image.Image image mode=L size=28x28 at 0x...                     2  \n",
       "6  <PIL.Image.Image image mode=L size=28x28 at 0x...                     5  \n",
       "7  <PIL.Image.Image image mode=L size=28x28 at 0x...                     1  \n",
       "8  <PIL.Image.Image image mode=L size=28x28 at 0x...                     7  \n",
       "9  <PIL.Image.Image image mode=L size=28x28 at 0x...                     7  "
      ]
     },
     "execution_count": 12,
     "metadata": {},
     "output_type": "execute_result"
    }
   ],
   "source": [
    "classified_images_df.where(col(\"label\") != col(\"model_classification\")).show(10)"
   ]
  },
  {
   "cell_type": "markdown",
   "id": "bb7ca72b-0743-451d-a3bf-e492a73ad7d6",
   "metadata": {},
   "source": [
    "Some of these look hard indeed, even for a human!"
   ]
  },
  {
   "cell_type": "markdown",
   "id": "5482e99e-cf3a-4d54-93e3-6e468db03eef",
   "metadata": {},
   "source": [
    "## Analytics\n",
    "\n",
    "We just managed to run our model, but how well did it actually do? Dataframes expose a powerful set of operations in Groupbys/Aggregations to help us report on aggregates of our data.\n",
    "\n",
    "Let's group our data by the true labels and calculate how many mistakes our model made per label."
   ]
  },
  {
   "cell_type": "code",
   "execution_count": 13,
   "id": "8b60eef9-eeab-435e-9f5d-c775af9afe3f",
   "metadata": {},
   "outputs": [
    {
     "data": {
      "text/html": [
       "\n",
       "        <div>\n",
       "            <table class=\"dataframe\">\n",
       "<thead>\n",
       "<tr><th style=\"text-align: right;\">  label<br>INTEGER</th><th style=\"text-align: right;\">  num_rows<br>INTEGER</th><th style=\"text-align: right;\">  correct<br>INTEGER</th><th style=\"text-align: right;\">  wrong<br>INTEGER</th></tr>\n",
       "</thead>\n",
       "<tbody>\n",
       "<tr><td style=\"text-align: right;\">                 0</td><td style=\"text-align: right;\">                  980</td><td style=\"text-align: right;\">                 959</td><td style=\"text-align: right;\">                21</td></tr>\n",
       "<tr><td style=\"text-align: right;\">                 1</td><td style=\"text-align: right;\">                 1135</td><td style=\"text-align: right;\">                1122</td><td style=\"text-align: right;\">                13</td></tr>\n",
       "<tr><td style=\"text-align: right;\">                 2</td><td style=\"text-align: right;\">                 1032</td><td style=\"text-align: right;\">                 998</td><td style=\"text-align: right;\">                34</td></tr>\n",
       "<tr><td style=\"text-align: right;\">                 3</td><td style=\"text-align: right;\">                 1010</td><td style=\"text-align: right;\">                 967</td><td style=\"text-align: right;\">                43</td></tr>\n",
       "<tr><td style=\"text-align: right;\">                 4</td><td style=\"text-align: right;\">                  982</td><td style=\"text-align: right;\">                 962</td><td style=\"text-align: right;\">                20</td></tr>\n",
       "<tr><td style=\"text-align: right;\">                 5</td><td style=\"text-align: right;\">                  892</td><td style=\"text-align: right;\">                 832</td><td style=\"text-align: right;\">                60</td></tr>\n",
       "<tr><td style=\"text-align: right;\">                 6</td><td style=\"text-align: right;\">                  958</td><td style=\"text-align: right;\">                 929</td><td style=\"text-align: right;\">                29</td></tr>\n",
       "<tr><td style=\"text-align: right;\">                 7</td><td style=\"text-align: right;\">                 1028</td><td style=\"text-align: right;\">                 978</td><td style=\"text-align: right;\">                50</td></tr>\n",
       "<tr><td style=\"text-align: right;\">                 8</td><td style=\"text-align: right;\">                  974</td><td style=\"text-align: right;\">                 930</td><td style=\"text-align: right;\">                44</td></tr>\n",
       "<tr><td style=\"text-align: right;\">                 9</td><td style=\"text-align: right;\">                 1009</td><td style=\"text-align: right;\">                 976</td><td style=\"text-align: right;\">                33</td></tr>\n",
       "</tbody>\n",
       "</table>\n",
       "            <small>(Showing first 10 rows)</small>\n",
       "        </div>\n",
       "    "
      ],
      "text/plain": [
       "   label  num_rows  correct  wrong\n",
       "0      0       980      959     21\n",
       "1      1      1135     1122     13\n",
       "2      2      1032      998     34\n",
       "3      3      1010      967     43\n",
       "4      4       982      962     20\n",
       "5      5       892      832     60\n",
       "6      6       958      929     29\n",
       "7      7      1028      978     50\n",
       "8      8       974      930     44\n",
       "9      9      1009      976     33"
      ]
     },
     "execution_count": 13,
     "metadata": {},
     "output_type": "execute_result"
    }
   ],
   "source": [
    "@udf(return_type=int)\n",
    "def bool_to_int(c):\n",
    "    return c.astype(int)\n",
    "\n",
    "analysis_df = classified_images_df \\\n",
    "    .with_column(\"correct\", bool_to_int(col(\"model_classification\") == col(\"label\"))) \\\n",
    "    .with_column(\"wrong\", bool_to_int(col(\"model_classification\") != col(\"label\"))) \\\n",
    "    .groupby(col(\"label\")) \\\n",
    "    .agg([\n",
    "        (col(\"label\").alias(\"num_rows\"), \"count\"),\n",
    "        (col(\"correct\"), \"sum\"),\n",
    "        (col(\"wrong\"), \"sum\"),\n",
    "    ]) \\\n",
    "    .sort(col(\"label\"))\n",
    "\n",
    "analysis_df.show()"
   ]
  },
  {
   "cell_type": "markdown",
   "id": "05f7df20-6dbc-4115-9acf-8d863cac93af",
   "metadata": {},
   "source": [
    "Pretty impressive, given that the model only actually trained for one epoch!"
   ]
  },
  {
   "cell_type": "code",
   "execution_count": null,
   "id": "4acf0191-8bb2-4c50-9d19-7a6bc97840d2",
   "metadata": {},
   "outputs": [],
   "source": []
  }
 ],
 "metadata": {
  "kernelspec": {
   "display_name": "Python 3 (ipykernel)",
   "language": "python",
   "name": "python3"
  },
  "language_info": {
   "codemirror_mode": {
    "name": "ipython",
    "version": 3
   },
   "file_extension": ".py",
   "mimetype": "text/x-python",
   "name": "python",
   "nbconvert_exporter": "python",
   "pygments_lexer": "ipython3",
   "version": "3.9.12"
  }
 },
 "nbformat": 4,
 "nbformat_minor": 5
}
