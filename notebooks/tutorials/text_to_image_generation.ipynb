{
 "cells": [
  {
   "cell_type": "code",
   "execution_count": null,
   "id": "806451f8-68af-462a-af7b-ff5480425a3a",
   "metadata": {},
   "outputs": [],
   "source": [
    "from daft import DataFrame, col, udf\n",
    "\n",
    "IMAGES_CSV_S3_PATH = \"s3://amazon-berkeley-objects/images/metadata/images.csv.gz\"\n",
    "images_df = DataFrame.from_csv(IMAGES_CSV_S3_PATH)"
   ]
  },
  {
   "cell_type": "code",
   "execution_count": null,
   "id": "e1e3b619-beaf-465e-83f2-5ab71638dcc1",
   "metadata": {},
   "outputs": [],
   "source": [
    "images_df"
   ]
  },
  {
   "cell_type": "code",
   "execution_count": null,
   "id": "3bd9805c-ddbc-4e08-9d46-610f4d8a595e",
   "metadata": {
    "tags": []
   },
   "outputs": [],
   "source": [
    "LISTING_JSON_S3_PATH = \"s3://amazon-berkeley-objects/listings/metadata/listings_0.json.gz\"\n",
    "listings_df = DataFrame.from_json(LISTING_JSON_S3_PATH)"
   ]
  },
  {
   "cell_type": "code",
   "execution_count": null,
   "id": "f1e5cd84-4526-4a91-9fd5-f4e78f35965d",
   "metadata": {},
   "outputs": [],
   "source": [
    "%%time\n",
    "listings_df"
   ]
  },
  {
   "cell_type": "code",
   "execution_count": null,
   "id": "fb7081b6-3d10-41d4-8e3c-a089ab119e46",
   "metadata": {},
   "outputs": [],
   "source": [
    "listings_df.select(col(\"bullet_point\"), col(\"product_type\"), col(\"item_name\"), col(\"material\"))"
   ]
  },
  {
   "cell_type": "code",
   "execution_count": null,
   "id": "7e27d120-f13e-4ca0-adf1-d69f2ea22b29",
   "metadata": {},
   "outputs": [],
   "source": [
    "from daft.expressions import udf\n",
    "import pandas as pd\n",
    "\n",
    "@udf(return_type=dict)\n",
    "def get_first(lists):\n",
    "    return [l[0] if len(l) > 0 else None for l in lists]\n",
    "\n",
    "@udf(return_type=str)\n",
    "def get_first_en_or_none(lists):\n",
    "    lists = [[item[\"value\"] for item in l if item[\"language_tag\"].startswith(\"en\")] if l else None for l in lists]\n",
    "    lists = [en_items[0] if en_items else None for en_items in lists]\n",
    "    return pd.Series(lists)\n",
    "\n",
    "@udf(return_type=str)\n",
    "def get_en_concat(lists):\n",
    "    lists = [[item[\"value\"] for item in l if item[\"language_tag\"].startswith(\"en\")] if l else None for l in lists]\n",
    "    lists = [\" \".join(en_items) if en_items else None for en_items in lists]\n",
    "    return pd.Series(lists)\n",
    "\n",
    "@udf(return_type=bool)\n",
    "def is_not_null(bullet_points: pd.Series):\n",
    "    return bullet_points.notnull()\n",
    "\n",
    "@udf(return_type=str)\n",
    "def cast_str(l):\n",
    "    return pd.Series(l)\n",
    "\n",
    "processed_listings = listings_df.with_column(\n",
    "    \"product_type_parsed\", cast_str(get_first(col(\"product_type\")).as_py(dict)[\"value\"])\n",
    ").where(\n",
    "    col(\"product_type_parsed\") == \"SHOES\"\n",
    ").select(\n",
    "    get_en_concat(col(\"bullet_point\")).alias(\"details\"),\n",
    "    col(\"product_type_parsed\"),\n",
    "    get_first_en_or_none(col(\"item_name\")),\n",
    "    col(\"main_image_id\")\n",
    ").where(\n",
    "    is_not_null(col(\"details\"))\n",
    ")"
   ]
  },
  {
   "cell_type": "code",
   "execution_count": null,
   "id": "70de435a-76f9-4edf-8d4a-0a81f5ddec5d",
   "metadata": {},
   "outputs": [],
   "source": [
    "processed_listings"
   ]
  },
  {
   "cell_type": "code",
   "execution_count": null,
   "id": "97f6118a-e494-4827-b978-ee8736ce41e7",
   "metadata": {},
   "outputs": [],
   "source": [
    "joined_df = processed_listings.join(images_df, left_on=col(\"main_image_id\"), right_on=col(\"image_id\"))"
   ]
  },
  {
   "cell_type": "code",
   "execution_count": null,
   "id": "0b1d12ff-281d-4df3-beac-fd765a7f2e11",
   "metadata": {},
   "outputs": [],
   "source": [
    "joined_df"
   ]
  },
  {
   "cell_type": "code",
   "execution_count": null,
   "id": "4789f366-fe4a-4094-8cca-6c3f9771c13c",
   "metadata": {
    "tags": []
   },
   "outputs": [],
   "source": [
    "import concurrent.futures\n",
    "import threading\n",
    "import PIL.Image\n",
    "import boto3\n",
    "import io\n",
    "\n",
    "\n",
    "@udf(return_type=PIL.Image.Image)\n",
    "def download_batch(batch):\n",
    "    def download_single(obj: str) -> bytes:\n",
    "        local = threading.local()\n",
    "        if \"boto_session\" not in local.__dict__:\n",
    "            local.boto_session = boto3.session.Session()\n",
    "        s3 = local.boto_session.client('s3')\n",
    "        bucket, key = obj.replace(\"s3://\", \"\").split(\"/\", maxsplit=1)\n",
    "        response = s3.get_object(Bucket=bucket, Key=key)\n",
    "        body = response[\"Body\"]\n",
    "        contents = body.read()\n",
    "        body.close()\n",
    "        return contents\n",
    "    \n",
    "    with concurrent.futures.ThreadPoolExecutor() as executor : \n",
    "        byte_contents = [res for res in executor.map(download_single, batch)]\n",
    "        images = []\n",
    "        for payload in byte_contents:\n",
    "            with io.BytesIO(payload) as f:\n",
    "                images.append(PIL.Image.open(f).convert(\"RGB\"))\n",
    "        return images\n",
    "    \n",
    "@udf(return_type=str)\n",
    "def full_url(paths):\n",
    "    return pd.Series([\"s3://amazon-berkeley-objects/images/small/\" + path for path in paths])"
   ]
  },
  {
   "cell_type": "code",
   "execution_count": null,
   "id": "430041f7-b2da-44ec-a665-e51977f02f3e",
   "metadata": {},
   "outputs": [],
   "source": [
    "joined_df = joined_df.with_column(\"s3_url\", full_url(col(\"path\")))\n",
    "joined_df = joined_df.with_column(\"image\", download_batch(col(\"s3_url\")))"
   ]
  },
  {
   "cell_type": "code",
   "execution_count": null,
   "id": "ebce9506-f61d-4ba8-b4af-aa2dbd5e8e98",
   "metadata": {},
   "outputs": [],
   "source": [
    "joined_df"
   ]
  },
  {
   "cell_type": "code",
   "execution_count": null,
   "id": "affd603b-86c1-4b77-94ea-6025cd298da8",
   "metadata": {},
   "outputs": [],
   "source": [
    "import torch\n",
    "from min_dalle import MinDalle\n",
    "\n",
    "# TODO(jay): We should provide a UDF API to do expensive initializations once only\n",
    "model = MinDalle(\n",
    "    models_root='/tmp/pretrained',\n",
    "    dtype=torch.float32,\n",
    "    device='cpu',\n",
    "    is_mega=False, \n",
    "    is_reusable=True\n",
    ")\n",
    "\n",
    "@udf(return_type=PIL.Image.Image)\n",
    "def generate_image_from_text(details):\n",
    "    return [\n",
    "        model.generate_image(\n",
    "            text=detail,\n",
    "            seed=-1,\n",
    "            grid_size=1,\n",
    "            is_seamless=False,\n",
    "            temperature=1,\n",
    "            top_k=256,\n",
    "            supercondition_factor=32,\n",
    "            is_verbose=False\n",
    "        ) for detail in details\n",
    "    ]\n",
    "\n",
    "joined_df = joined_df.with_column(\"generated_image\", generate_image_from_text(col(\"details\")))"
   ]
  },
  {
   "cell_type": "code",
   "execution_count": null,
   "id": "529acde7-4be7-4ed6-9f1f-ae561a308450",
   "metadata": {},
   "outputs": [],
   "source": [
    "joined_df"
   ]
  },
  {
   "cell_type": "code",
   "execution_count": null,
   "id": "e0f0e9f8-d8d6-443f-bccf-1a414e67c2d4",
   "metadata": {},
   "outputs": [],
   "source": []
  }
 ],
 "metadata": {
  "kernelspec": {
   "display_name": "Python 3 (ipykernel)",
   "language": "python",
   "name": "python3"
  },
  "language_info": {
   "codemirror_mode": {
    "name": "ipython",
    "version": 3
   },
   "file_extension": ".py",
   "mimetype": "text/x-python",
   "name": "python",
   "nbconvert_exporter": "python",
   "pygments_lexer": "ipython3",
   "version": "3.9.12"
  }
 },
 "nbformat": 4,
 "nbformat_minor": 5
}
