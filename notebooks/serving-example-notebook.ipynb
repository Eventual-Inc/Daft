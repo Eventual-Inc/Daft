{
 "cells": [
  {
   "cell_type": "code",
   "execution_count": 15,
   "id": "db22a7a7-923c-4260-8bf9-6f0502118d42",
   "metadata": {},
   "outputs": [],
   "source": [
    "from daft import serving"
   ]
  },
  {
   "cell_type": "code",
   "execution_count": 16,
   "id": "7d56bd85-b86a-4d5c-8247-db805175e90e",
   "metadata": {},
   "outputs": [],
   "source": [
    "client = serving.ServingClient()"
   ]
  },
  {
   "cell_type": "code",
   "execution_count": 17,
   "id": "813c73ea-9208-4344-9c8e-365ab87bfb2d",
   "metadata": {},
   "outputs": [
    {
     "data": {
      "text/plain": [
       "{'': <daft.serving.backend.DockerEndpointBackend at 0x122197910>}"
      ]
     },
     "execution_count": 17,
     "metadata": {},
     "output_type": "execute_result"
    }
   ],
   "source": [
    "client.list_backends()"
   ]
  },
  {
   "cell_type": "code",
   "execution_count": 18,
   "id": "82aa964d-b512-4f02-a03e-679ad17c0087",
   "metadata": {},
   "outputs": [],
   "source": [
    "import numpy as np\n",
    "\n",
    "def endpoint():\n",
    "    return np.ones((10, 10)).mean().item()"
   ]
  },
  {
   "cell_type": "code",
   "execution_count": 23,
   "id": "539945a1-a7bd-43df-9cdc-83c769c2474d",
   "metadata": {},
   "outputs": [
    {
     "name": "stdout",
     "output_type": "stream",
     "text": [
      "DaFt is building your server\n",
      "Your server was built successfully!\n",
      "Started endpoint bar/v0 at http://localhost:54838\n"
     ]
    },
    {
     "data": {
      "text/plain": [
       "Endpoint(name='bar', version=0, addr='http://localhost:54838')"
      ]
     },
     "execution_count": 23,
     "metadata": {},
     "output_type": "execute_result"
    }
   ],
   "source": [
    "client.deploy(\"bar\", endpoint, pip_dependencies=[\"numpy\"])"
   ]
  },
  {
   "cell_type": "code",
   "execution_count": 24,
   "id": "eb168b4e-acd8-4bfc-a130-e5c8f67770db",
   "metadata": {},
   "outputs": [
    {
     "name": "stdout",
     "output_type": "stream",
     "text": [
      "Backend: \n",
      "  Endpoint(name='bar', version=0, addr='http://localhost:54838')\n",
      "  Endpoint(name='foo', version=2, addr='http://localhost:54823')\n"
     ]
    }
   ],
   "source": [
    "client.list_endpoints()"
   ]
  },
  {
   "cell_type": "code",
   "execution_count": 27,
   "id": "52cae5b5-db4f-4970-a4f7-08a3744a3459",
   "metadata": {},
   "outputs": [
    {
     "data": {
      "text/plain": [
       "'1.0'"
      ]
     },
     "execution_count": 27,
     "metadata": {},
     "output_type": "execute_result"
    }
   ],
   "source": [
    "import requests\n",
    "\n",
    "response = requests.get('http://localhost:54823')\n",
    "response.text"
   ]
  }
 ],
 "metadata": {
  "kernelspec": {
   "display_name": "Python 3 (ipykernel)",
   "language": "python",
   "name": "python3"
  },
  "language_info": {
   "codemirror_mode": {
    "name": "ipython",
    "version": 3
   },
   "file_extension": ".py",
   "mimetype": "text/x-python",
   "name": "python",
   "nbconvert_exporter": "python",
   "pygments_lexer": "ipython3",
   "version": "3.9.12"
  }
 },
 "nbformat": 4,
 "nbformat_minor": 5
}
