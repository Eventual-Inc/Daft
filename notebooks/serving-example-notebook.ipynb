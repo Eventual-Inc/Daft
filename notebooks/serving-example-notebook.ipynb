{
 "cells": [
  {
   "cell_type": "code",
   "execution_count": null,
   "id": "db22a7a7-923c-4260-8bf9-6f0502118d42",
   "metadata": {},
   "outputs": [],
   "source": [
    "from daft import serving"
   ]
  },
  {
   "cell_type": "code",
   "execution_count": null,
   "id": "4f2d98c4-dd2c-4ea1-abdf-18bc328bc2f0",
   "metadata": {},
   "outputs": [],
   "source": [
    "BACKEND_CONFIGS = {\n",
    "    \"local\": {\"type\": \"docker\"},\n",
    "    \"local-mp\": {\"type\": \"multiprocessing\"},\n",
    "    \"aws_lambda\": {\n",
    "        \"type\": \"aws_lambda\",\n",
    "        \"execution_role_arn\": \"arn:aws:iam::941892620273:role/jay-daft-serving-testrole-OKTODELETE\",\n",
    "        \"ecr_repository\": \"941892620273.dkr.ecr.us-west-2.amazonaws.com/jay-lambda-testrepo\",\n",
    "    },\n",
    "}"
   ]
  },
  {
   "cell_type": "code",
   "execution_count": null,
   "id": "7d56bd85-b86a-4d5c-8247-db805175e90e",
   "metadata": {},
   "outputs": [],
   "source": [
    "docker = serving.get_serving_backend(name=\"local\", configs=BACKEND_CONFIGS)\n",
    "mp = serving.get_serving_backend(name=\"local-mp\", configs=BACKEND_CONFIGS)\n",
    "aws_lambda = serving.get_serving_backend(name=\"aws_lambda\", configs=BACKEND_CONFIGS)"
   ]
  },
  {
   "cell_type": "code",
   "execution_count": null,
   "id": "10aef7b8-8d05-49b7-b47b-ebc0578195c4",
   "metadata": {},
   "outputs": [],
   "source": [
    "%%time\n",
    "\n",
    "from daft.dataframe import DataFrame\n",
    "from daft.serving.endpoint import HTTPEndpoint\n",
    "from daft.expressions import col\n",
    "from daft.env import DaftEnv\n",
    "\n",
    "source_df = DataFrame.from_pydict({\"foo\": [1, 2, 3]})\n",
    "http_endpoint = HTTPEndpoint(source_df.schema(), backend=aws_lambda)\n",
    "\n",
    "df = DataFrame.from_endpoint(http_endpoint)\n",
    "df = df.with_column(\"bar\", col(\"foo\") + 1)\n",
    "df.write_endpoint(http_endpoint)\n",
    "\n",
    "# HACK - until we implement runners, monkeypatch a mock function in\n",
    "def endpoint_func(request: str) -> str:\n",
    "    return request\n",
    "http_endpoint._plan = endpoint_func\n",
    "\n",
    "http_endpoint.deploy(\"my_df_endpoint_newenv\")"
   ]
  },
  {
   "cell_type": "code",
   "execution_count": null,
   "id": "6d9f5f14-aa7d-4db8-8253-b94be464cf9d",
   "metadata": {},
   "outputs": [],
   "source": [
    "import requests\n",
    "response = requests.post('https://semuntht7a7sxlw3xykkzldz3a0dgwkr.lambda-url.us-west-2.on.aws/')\n",
    "response.text"
   ]
  },
  {
   "cell_type": "code",
   "execution_count": null,
   "id": "d75276ff-bcf4-440d-8366-f9bd1b63e03f",
   "metadata": {},
   "outputs": [],
   "source": []
  },
  {
   "cell_type": "code",
   "execution_count": null,
   "id": "913b3843-e60a-421d-919f-2ef3a22f4749",
   "metadata": {},
   "outputs": [],
   "source": []
  }
 ],
 "metadata": {
  "kernelspec": {
   "display_name": "Python 3 (ipykernel)",
   "language": "python",
   "name": "python3"
  },
  "language_info": {
   "codemirror_mode": {
    "name": "ipython",
    "version": 3
   },
   "file_extension": ".py",
   "mimetype": "text/x-python",
   "name": "python",
   "nbconvert_exporter": "python",
   "pygments_lexer": "ipython3",
   "version": "3.9.12"
  }
 },
 "nbformat": 4,
 "nbformat_minor": 5
}
