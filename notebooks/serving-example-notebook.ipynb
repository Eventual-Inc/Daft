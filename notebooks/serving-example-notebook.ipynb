{
 "cells": [
  {
   "cell_type": "code",
   "execution_count": 1,
   "id": "db22a7a7-923c-4260-8bf9-6f0502118d42",
   "metadata": {},
   "outputs": [],
   "source": [
    "from daft import serving"
   ]
  },
  {
   "cell_type": "code",
   "execution_count": 4,
   "id": "4f2d98c4-dd2c-4ea1-abdf-18bc328bc2f0",
   "metadata": {},
   "outputs": [],
   "source": [
    "BACKEND_CONFIGS = [\n",
    "    {\n",
    "        \"name\": \"local\",\n",
    "        \"config\": {\"type\": \"docker\"},\n",
    "    },\n",
    "    {\n",
    "        \"name\": \"aws_lambda\",\n",
    "        \"config\": {\"type\": \"aws_lambda\", \"execution_role_arn\": \"arn:aws:iam::941892620273:role/jay-daft-serving-testrole-OKTODELETE\"},\n",
    "    },\n",
    "]"
   ]
  },
  {
   "cell_type": "code",
   "execution_count": 5,
   "id": "7d56bd85-b86a-4d5c-8247-db805175e90e",
   "metadata": {},
   "outputs": [],
   "source": [
    "client = serving.ServingClient.from_configs(BACKEND_CONFIGS)"
   ]
  },
  {
   "cell_type": "code",
   "execution_count": 6,
   "id": "813c73ea-9208-4344-9c8e-365ab87bfb2d",
   "metadata": {},
   "outputs": [
    {
     "data": {
      "text/plain": [
       "{'local': <daft.serving.docker.DockerEndpointBackend at 0x105670670>,\n",
       " 'aws_lambda': <daft.serving.aws_lambda.AWSLambdaEndpointBackend at 0x105676790>}"
      ]
     },
     "execution_count": 6,
     "metadata": {},
     "output_type": "execute_result"
    }
   ],
   "source": [
    "client.list_backends()"
   ]
  },
  {
   "cell_type": "code",
   "execution_count": 7,
   "id": "82aa964d-b512-4f02-a03e-679ad17c0087",
   "metadata": {},
   "outputs": [],
   "source": [
    "import numpy as np\n",
    "\n",
    "def myfunc():\n",
    "    return np.ones((10, 10)).mean().item()"
   ]
  },
  {
   "cell_type": "code",
   "execution_count": 8,
   "id": "10f6022c-cf52-4b6b-80e1-42a443b94b2a",
   "metadata": {},
   "outputs": [
    {
     "name": "stdout",
     "output_type": "stream",
     "text": [
      "Backend: local\n",
      "  Endpoint(name='docker_endpoint_myfunc', version=1, addr='http://localhost:52703')\n",
      "Backend: aws_lambda\n",
      "  Endpoint(name='daft-serving-bar', version='2', addr=None)\n",
      "  Endpoint(name='daft-serving-foo', version='1', addr='https://5q6zx74vtdhwrsm7imnhuavjne0cqpre.lambda-url.us-west-2.on.aws/')\n",
      "  Endpoint(name='daft-serving-lambda_endpoint_myfunc', version='2', addr='https://e7y3cpyedyrerq4rzvawahretq0quieo.lambda-url.us-west-2.on.aws/')\n",
      "  Endpoint(name='daft-serving-baz', version='4', addr='https://wjkmqmwrux7nlqarq4fsx7lzxa0eabbr.lambda-url.us-west-2.on.aws/')\n"
     ]
    }
   ],
   "source": [
    "client.list_endpoints()"
   ]
  },
  {
   "cell_type": "code",
   "execution_count": 6,
   "id": "539945a1-a7bd-43df-9cdc-83c769c2474d",
   "metadata": {},
   "outputs": [
    {
     "name": "stdout",
     "output_type": "stream",
     "text": [
      "DaFt is building your server\n",
      "Your server was built successfully!\n",
      "Tearing down existing endpoint docker_endpoint_myfunc/v0\n",
      "Started endpoint docker_endpoint_myfunc/v1 at http://localhost:52703\n",
      "Collecting cloudpickle\n",
      "  Using cached cloudpickle-2.1.0-py3-none-any.whl (25 kB)\n",
      "Collecting numpy\n",
      "  Using cached numpy-1.19.5-cp39-cp39-manylinux1_x86_64.whl (13.4 MB)\n",
      "Installing collected packages: numpy, cloudpickle\n"
     ]
    },
    {
     "name": "stderr",
     "output_type": "stream",
     "text": [
      "ERROR: pip's dependency resolver does not currently take into account all the packages that are installed. This behaviour is the source of the following dependency conflicts.\n",
      "pandas 1.4.3 requires numpy>=1.20.0; platform_machine == \"arm64\" and python_version < \"3.10\", but you have numpy 1.19.5 which is incompatible.\n",
      "icebridge 0.0.3 requires numpy>=1.20, but you have numpy 1.19.5 which is incompatible.\n",
      "daft 0.1.0 requires numpy<2.0.0,>=1.22.3, but you have numpy 1.19.5 which is incompatible.\n",
      "WARNING: You are using pip version 22.0.3; however, version 22.1.2 is available.\n",
      "You should consider upgrading via the '/Users/jaychia/Library/Caches/pypoetry/virtualenvs/daft-5WWk1bo2-py3.9/bin/python -m pip install --upgrade pip' command.\n"
     ]
    },
    {
     "name": "stdout",
     "output_type": "stream",
     "text": [
      "Successfully installed cloudpickle-2.1.0 numpy-1.19.5\n"
     ]
    },
    {
     "data": {
      "text/plain": [
       "Endpoint(name='lambda_endpoint_myfunc', version=2, addr='https://e7y3cpyedyrerq4rzvawahretq0quieo.lambda-url.us-west-2.on.aws/')"
      ]
     },
     "execution_count": 6,
     "metadata": {},
     "output_type": "execute_result"
    }
   ],
   "source": [
    "client.deploy(\"docker_endpoint_myfunc\", myfunc, backend=\"local\", pip_dependencies=[\"numpy\"])\n",
    "client.deploy(\"lambda_endpoint_myfunc\", myfunc, backend=\"aws_lambda\", pip_dependencies=[\"numpy\"])"
   ]
  },
  {
   "cell_type": "code",
   "execution_count": 8,
   "id": "eb168b4e-acd8-4bfc-a130-e5c8f67770db",
   "metadata": {},
   "outputs": [
    {
     "name": "stdout",
     "output_type": "stream",
     "text": [
      "Backend: default\n",
      "  Endpoint(name='docker_endpoint_myfunc', version=1, addr='http://localhost:52703')\n",
      "Backend: aws_lambda\n",
      "  Endpoint(name='daft-serving-bar', version='2', addr=None)\n",
      "  Endpoint(name='daft-serving-foo', version='1', addr='https://5q6zx74vtdhwrsm7imnhuavjne0cqpre.lambda-url.us-west-2.on.aws/')\n",
      "  Endpoint(name='daft-serving-lambda_endpoint_myfunc', version='2', addr='https://e7y3cpyedyrerq4rzvawahretq0quieo.lambda-url.us-west-2.on.aws/')\n",
      "  Endpoint(name='daft-serving-baz', version='4', addr='https://wjkmqmwrux7nlqarq4fsx7lzxa0eabbr.lambda-url.us-west-2.on.aws/')\n"
     ]
    }
   ],
   "source": [
    "client.list_endpoints()"
   ]
  },
  {
   "cell_type": "code",
   "execution_count": 10,
   "id": "52cae5b5-db4f-4970-a4f7-08a3744a3459",
   "metadata": {},
   "outputs": [],
   "source": [
    "import requests"
   ]
  },
  {
   "cell_type": "code",
   "execution_count": 11,
   "id": "ab639baf-f516-4f3a-ba95-dd935d2f2f29",
   "metadata": {},
   "outputs": [
    {
     "data": {
      "text/plain": [
       "'1.0'"
      ]
     },
     "execution_count": 11,
     "metadata": {},
     "output_type": "execute_result"
    }
   ],
   "source": [
    "response = requests.get('http://localhost:52703')\n",
    "response.text"
   ]
  },
  {
   "cell_type": "code",
   "execution_count": 12,
   "id": "db00567e-709a-421a-b9bc-e8d3c82444be",
   "metadata": {},
   "outputs": [
    {
     "data": {
      "text/plain": [
       "'1.0'"
      ]
     },
     "execution_count": 12,
     "metadata": {},
     "output_type": "execute_result"
    }
   ],
   "source": [
    "response = requests.get('https://e7y3cpyedyrerq4rzvawahretq0quieo.lambda-url.us-west-2.on.aws/')\n",
    "response.text"
   ]
  },
  {
   "cell_type": "code",
   "execution_count": null,
   "id": "10aef7b8-8d05-49b7-b47b-ebc0578195c4",
   "metadata": {},
   "outputs": [],
   "source": []
  }
 ],
 "metadata": {
  "kernelspec": {
   "display_name": "Python 3 (ipykernel)",
   "language": "python",
   "name": "python3"
  },
  "language_info": {
   "codemirror_mode": {
    "name": "ipython",
    "version": 3
   },
   "file_extension": ".py",
   "mimetype": "text/x-python",
   "name": "python",
   "nbconvert_exporter": "python",
   "pygments_lexer": "ipython3",
   "version": "3.9.12"
  }
 },
 "nbformat": 4,
 "nbformat_minor": 5
}
