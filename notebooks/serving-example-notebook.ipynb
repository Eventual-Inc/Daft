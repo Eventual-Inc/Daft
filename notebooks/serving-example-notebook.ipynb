{
 "cells": [
  {
   "cell_type": "code",
   "execution_count": null,
   "id": "db22a7a7-923c-4260-8bf9-6f0502118d42",
   "metadata": {},
   "outputs": [],
   "source": [
    "from daft import serving"
   ]
  },
  {
   "cell_type": "code",
   "execution_count": null,
   "id": "4f2d98c4-dd2c-4ea1-abdf-18bc328bc2f0",
   "metadata": {},
   "outputs": [],
   "source": [
    "BACKEND_CONFIGS = [\n",
    "    {\n",
    "        \"name\": \"local\",\n",
    "        \"config\": {\"type\": \"docker\"},\n",
    "    },\n",
    "    {\n",
    "        \"name\": \"local-mp\",\n",
    "        \"config\": {\"type\": \"multiprocessing\"},\n",
    "    },\n",
    "    {\n",
    "        \"name\": \"aws_lambda\",\n",
    "        \"config\": {\"type\": \"aws_lambda\", \"execution_role_arn\": \"arn:aws:iam::941892620273:role/jay-daft-serving-testrole-OKTODELETE\"},\n",
    "    },\n",
    "]"
   ]
  },
  {
   "cell_type": "code",
   "execution_count": null,
   "id": "7d56bd85-b86a-4d5c-8247-db805175e90e",
   "metadata": {},
   "outputs": [],
   "source": [
    "client = serving.ServingClient.from_configs(BACKEND_CONFIGS)"
   ]
  },
  {
   "cell_type": "code",
   "execution_count": null,
   "id": "813c73ea-9208-4344-9c8e-365ab87bfb2d",
   "metadata": {},
   "outputs": [],
   "source": [
    "client.list_backends()"
   ]
  },
  {
   "cell_type": "code",
   "execution_count": null,
   "id": "82aa964d-b512-4f02-a03e-679ad17c0087",
   "metadata": {},
   "outputs": [],
   "source": [
    "import numpy as np\n",
    "\n",
    "def myfunc():\n",
    "    return np.ones((10, 10)).mean().item()"
   ]
  },
  {
   "cell_type": "code",
   "execution_count": null,
   "id": "10f6022c-cf52-4b6b-80e1-42a443b94b2a",
   "metadata": {},
   "outputs": [],
   "source": [
    "client.list_endpoints()"
   ]
  },
  {
   "cell_type": "code",
   "execution_count": null,
   "id": "539945a1-a7bd-43df-9cdc-83c769c2474d",
   "metadata": {},
   "outputs": [],
   "source": [
    "client.deploy(\"docker_endpoint_myfunc\", myfunc, backend=\"local\", pip_dependencies=[\"numpy\"])\n",
    "client.deploy(\"docker_endpoint_myfunc\", myfunc, backend=\"local-mp\", pip_dependencies=[\"numpy\"])\n",
    "# client.deploy(\"lambda_endpoint_myfunc\", myfunc, backend=\"aws_lambda\", pip_dependencies=[\"numpy\"])"
   ]
  },
  {
   "cell_type": "code",
   "execution_count": null,
   "id": "eb168b4e-acd8-4bfc-a130-e5c8f67770db",
   "metadata": {},
   "outputs": [],
   "source": [
    "client.list_endpoints()"
   ]
  },
  {
   "cell_type": "code",
   "execution_count": null,
   "id": "52cae5b5-db4f-4970-a4f7-08a3744a3459",
   "metadata": {},
   "outputs": [],
   "source": [
    "import requests"
   ]
  },
  {
   "cell_type": "code",
   "execution_count": null,
   "id": "ab639baf-f516-4f3a-ba95-dd935d2f2f29",
   "metadata": {},
   "outputs": [],
   "source": [
    "response = requests.get('http://localhost:50260')\n",
    "response.text"
   ]
  },
  {
   "cell_type": "code",
   "execution_count": null,
   "id": "db00567e-709a-421a-b9bc-e8d3c82444be",
   "metadata": {},
   "outputs": [],
   "source": []
  },
  {
   "cell_type": "code",
   "execution_count": null,
   "id": "10aef7b8-8d05-49b7-b47b-ebc0578195c4",
   "metadata": {},
   "outputs": [],
   "source": [
    "from daft.dataframe import DataFrame\n",
    "from daft.serving.endpoint import HTTPEndpoint\n",
    "from daft.expressions import col\n",
    "\n",
    "source_df = DataFrame.from_pydict({\"foo\": [1, 2, 3]})\n",
    "http_endpoint = HTTPEndpoint(source_df.schema())\n",
    "\n",
    "df = DataFrame.from_http_endpoint(http_endpoint)\n",
    "df = df.with_column(\"bar\", col(\"foo\") + 1)\n",
    "df.write_http_endpoint(http_endpoint)\n",
    "\n",
    "http_endpoint.deploy(\"my_df_endpoint\", backend=\"local-mp\", client=client)"
   ]
  },
  {
   "cell_type": "code",
   "execution_count": null,
   "id": "6d9f5f14-aa7d-4db8-8253-b94be464cf9d",
   "metadata": {},
   "outputs": [],
   "source": [
    "response = requests.get('http://localhost:50270?request=papa')\n",
    "response.text"
   ]
  },
  {
   "cell_type": "code",
   "execution_count": null,
   "id": "cd87e790-f950-45c7-9591-6859a846ab17",
   "metadata": {},
   "outputs": [],
   "source": []
  },
  {
   "cell_type": "code",
   "execution_count": null,
   "id": "ede5f519-1aab-440f-a6b4-6817842e0534",
   "metadata": {},
   "outputs": [],
   "source": []
  }
 ],
 "metadata": {
  "kernelspec": {
   "display_name": "Python 3 (ipykernel)",
   "language": "python",
   "name": "python3"
  },
  "language_info": {
   "codemirror_mode": {
    "name": "ipython",
    "version": 3
   },
   "file_extension": ".py",
   "mimetype": "text/x-python",
   "name": "python",
   "nbconvert_exporter": "python",
   "pygments_lexer": "ipython3",
   "version": "3.9.12"
  }
 },
 "nbformat": 4,
 "nbformat_minor": 5
}
