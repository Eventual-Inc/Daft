{
 "cells": [
  {
   "cell_type": "code",
   "execution_count": null,
   "id": "99c2865e-3743-4334-b99c-ed0829c66452",
   "metadata": {},
   "outputs": [],
   "source": [
    "import pyarrow as pa\n",
    "\n",
    "from daft.dataframe import DataFrame\n",
    "from daft.expressions import col, udf\n",
    "from daft.runners.blocks import DataBlock\n",
    "\n",
    "from typing import List\n",
    "import concurrent.futures\n",
    "import threading\n",
    "import PIL.Image\n",
    "import boto3\n",
    "import io"
   ]
  },
  {
   "cell_type": "code",
   "execution_count": null,
   "id": "856cb88a-056b-4cec-8a00-a94165ce1f49",
   "metadata": {
    "tags": []
   },
   "outputs": [],
   "source": [
    "CSV_S3 = \"s3://amazon-berkeley-objects/images/metadata/images.csv.gz\"\n",
    "CSV_GZ = \"/tmp/berkeley_images.csv.gz\"\n",
    "CSV = \"/tmp/berkeley_images.csv\"\n",
    "\n",
    "import gzip\n",
    "import shutil\n",
    "import pathlib\n",
    "import os\n",
    "from daft.filesystem import get_filesystem_from_path\n",
    "\n",
    "fs = get_filesystem_from_path(CSV_S3)\n",
    "if not os.path.exists(CSV_GZ):\n",
    "    with fs.open(CSV_S3) as f:\n",
    "        pathlib.Path(CSV_GZ).write_bytes(f.read())\n",
    "with gzip.open(CSV_GZ, 'rb') as f_in:\n",
    "    with open(CSV, 'wb') as f_out:\n",
    "        shutil.copyfileobj(f_in, f_out)"
   ]
  },
  {
   "cell_type": "code",
   "execution_count": null,
   "id": "67408b91-c66c-4050-abfb-cd6a1463c668",
   "metadata": {},
   "outputs": [],
   "source": [
    "df = DataFrame.from_csv(CSV).limit(20)"
   ]
  },
  {
   "cell_type": "code",
   "execution_count": null,
   "id": "00dae974-5dc5-44fb-bce9-f50419d2d411",
   "metadata": {},
   "outputs": [],
   "source": [
    "df.schema()"
   ]
  },
  {
   "cell_type": "code",
   "execution_count": null,
   "id": "034c1943-4f9b-4dd6-826b-a0589fff35ef",
   "metadata": {},
   "outputs": [],
   "source": [
    "df = df.with_column(\"area\", col(\"height\") * col(\"width\"))"
   ]
  },
  {
   "cell_type": "code",
   "execution_count": null,
   "id": "112de79d-73e5-4713-80f4-8c74e203d730",
   "metadata": {},
   "outputs": [],
   "source": [
    "df.schema()"
   ]
  },
  {
   "cell_type": "code",
   "execution_count": null,
   "id": "28845ff5-6623-491d-9d0c-16c1b3cc021d",
   "metadata": {},
   "outputs": [],
   "source": [
    "df.to_pandas()"
   ]
  },
  {
   "cell_type": "code",
   "execution_count": null,
   "id": "2f3c7b86-ba82-46f5-86ac-cd2196853515",
   "metadata": {},
   "outputs": [],
   "source": [
    "import pandas as pd\n",
    "\n",
    "@udf(return_type=str)\n",
    "def full_url(paths):\n",
    "    return pd.Series([\"s3://amazon-berkeley-objects/images/small/\" + path for path in paths])\n",
    "\n",
    "df = df.with_column(\"s3_url\", full_url(col(\"path\")))"
   ]
  },
  {
   "cell_type": "code",
   "execution_count": null,
   "id": "53b8bcf7-afae-4ab6-8d33-3f0c563848d0",
   "metadata": {},
   "outputs": [],
   "source": [
    "df.limit(20).to_pandas()"
   ]
  },
  {
   "cell_type": "code",
   "execution_count": null,
   "id": "09711567-dd88-4cfc-be82-2137e3a5fb24",
   "metadata": {},
   "outputs": [],
   "source": [
    "@udf(return_type=PIL.Image.Image)\n",
    "def download_batch(batch) -> List[PIL.Image.Image]:\n",
    "    def download_single(obj: str) -> bytes:\n",
    "        local = threading.local()\n",
    "        if \"boto_session\" not in local.__dict__:\n",
    "            local.boto_session = boto3.session.Session()\n",
    "        s3 = local.boto_session.client('s3')\n",
    "        bucket, key = obj.replace(\"s3://\", \"\").split(\"/\", maxsplit=1)\n",
    "        response = s3.get_object(Bucket=bucket, Key=key)\n",
    "        body = response[\"Body\"]\n",
    "        contents = body.read()\n",
    "        body.close()\n",
    "        return contents\n",
    "    \n",
    "    with concurrent.futures.ThreadPoolExecutor() as executor : \n",
    "        byte_contents = [res for res in executor.map(download_single, batch)]\n",
    "        images = []\n",
    "        for payload in byte_contents:\n",
    "            with io.BytesIO(payload) as f:\n",
    "                images.append(PIL.Image.open(f).convert(\"RGB\"))\n",
    "        return images"
   ]
  },
  {
   "cell_type": "code",
   "execution_count": null,
   "id": "be81dc7a-318d-4015-a6cc-7218ad4b0461",
   "metadata": {},
   "outputs": [],
   "source": [
    "df = df.with_column(\"image\", download_batch(col(\"s3_url\")))"
   ]
  },
  {
   "cell_type": "code",
   "execution_count": null,
   "id": "8f2012e6-cf0b-4479-84d3-222ca76ff809",
   "metadata": {},
   "outputs": [],
   "source": [
    "df"
   ]
  },
  {
   "cell_type": "code",
   "execution_count": null,
   "id": "f66e11a8-2c13-4575-81ad-09f2e5094786",
   "metadata": {},
   "outputs": [],
   "source": [
    "df.to_pandas()"
   ]
  },
  {
   "cell_type": "code",
   "execution_count": null,
   "id": "2a98f34e-1615-43cc-bdaa-822bca074d17",
   "metadata": {},
   "outputs": [],
   "source": [
    "df = df.with_column(\"img_bnw\", col(\"image\").as_py(PIL.Image.Image).convert(\"1\"))"
   ]
  },
  {
   "cell_type": "code",
   "execution_count": null,
   "id": "3451f797-325b-480e-a479-ff6640fbbacb",
   "metadata": {},
   "outputs": [],
   "source": [
    "df.schema()"
   ]
  },
  {
   "cell_type": "code",
   "execution_count": null,
   "id": "46875373-649b-4811-8796-fe1bad312ad3",
   "metadata": {},
   "outputs": [],
   "source": [
    "pddf = df.to_pandas()"
   ]
  },
  {
   "cell_type": "code",
   "execution_count": null,
   "id": "6ab0caa6-1f9c-4468-b714-e8f42de16882",
   "metadata": {},
   "outputs": [],
   "source": [
    "pddf[\"image\"][0]"
   ]
  },
  {
   "cell_type": "code",
   "execution_count": null,
   "id": "3c47efe0-73ec-4f13-8011-2ef4f7b22a3e",
   "metadata": {},
   "outputs": [],
   "source": [
    "pddf[\"img_bnw\"][0]"
   ]
  },
  {
   "cell_type": "code",
   "execution_count": null,
   "id": "736ab43e-cf4a-4b6b-a2d2-84bfe9170ae0",
   "metadata": {},
   "outputs": [],
   "source": [
    "http_endpoint = HTTPEndpoint(schema, backend=aws_lambda)\n",
    "\n",
    "df = DataFrame.from_endpoint(http_endpoint)\n",
    "df = df.with_column(\"image\", download_batch(col(\"url\")))\n",
    "df = df.with_column(\"results\", run_model(col(\"image\")))\n",
    "df.select(col(\"results\")).write_endpoint(http_endpoint)\n",
    "\n",
    "http_endpoint.deploy(\"my_endpoint\")"
   ]
  }
 ],
 "metadata": {
  "kernelspec": {
   "display_name": "Python 3 (ipykernel)",
   "language": "python",
   "name": "python3"
  },
  "language_info": {
   "codemirror_mode": {
    "name": "ipython",
    "version": 3
   },
   "file_extension": ".py",
   "mimetype": "text/x-python",
   "name": "python",
   "nbconvert_exporter": "python",
   "pygments_lexer": "ipython3",
   "version": "3.9.12"
  }
 },
 "nbformat": 4,
 "nbformat_minor": 5
}
